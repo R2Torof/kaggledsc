{
 "cells": [
  {
   "cell_type": "code",
   "execution_count": 1,
   "id": "697fe9de-3cc5-49dc-b798-55670249834b",
   "metadata": {},
   "outputs": [],
   "source": [
    "def getpay(numhours):\n",
    "    pretax = numhours * 15\n",
    "    aftertax = pretax * (1 - 0.12)\n",
    "    return aftertax\n",
    "    "
   ]
  },
  {
   "cell_type": "code",
   "execution_count": 2,
   "id": "c671aa4a-a974-41f1-a7ab-153830d12e05",
   "metadata": {},
   "outputs": [
    {
     "name": "stdout",
     "output_type": "stream",
     "text": [
      "528.0\n"
     ]
    }
   ],
   "source": [
    "fulltime = getpay(40)\n",
    "print(fulltime)"
   ]
  },
  {
   "cell_type": "code",
   "execution_count": 3,
   "id": "fccbb848-5801-437b-8f6e-e4f38772d23c",
   "metadata": {},
   "outputs": [
    {
     "name": "stdout",
     "output_type": "stream",
     "text": [
      "422.4\n"
     ]
    }
   ],
   "source": [
    "partime = getpay(32)\n",
    "print(partime)"
   ]
  },
  {
   "cell_type": "code",
   "execution_count": 4,
   "id": "10feba5b-fd47-448c-91cc-c2960d8cb820",
   "metadata": {},
   "outputs": [
    {
     "name": "stdout",
     "output_type": "stream",
     "text": [
      "132.0\n"
     ]
    }
   ],
   "source": [
    "pay10 = getpay(10)\n",
    "print(pay10)"
   ]
  },
  {
   "cell_type": "code",
   "execution_count": 5,
   "id": "df74e4ce-59a3-460f-b809-3febf6efcceb",
   "metadata": {},
   "outputs": [],
   "source": [
    "def getpaydetailed(numhours, hourlywage, taxbracket):\n",
    "    pretax = numhours * hourlywage\n",
    "    aftertax = pretax * (1 - taxbracket)\n",
    "    return aftertax\n",
    "    "
   ]
  },
  {
   "cell_type": "code",
   "execution_count": 6,
   "id": "bdaff170-12d3-4124-850e-af297795e80a",
   "metadata": {},
   "outputs": [
    {
     "name": "stdout",
     "output_type": "stream",
     "text": [
      "748.8000000000001\n"
     ]
    }
   ],
   "source": [
    "fulltime = getpaydetailed(40, 24, 0.22)\n",
    "print(fulltime)"
   ]
  },
  {
   "cell_type": "code",
   "execution_count": 7,
   "id": "6a42997c-98a2-417d-b8e6-eff84d237a49",
   "metadata": {},
   "outputs": [
    {
     "name": "stdout",
     "output_type": "stream",
     "text": [
      "528.0\n"
     ]
    }
   ],
   "source": [
    "fulltime = getpaydetailed(40, 15, 0.12)\n",
    "print(fulltime)"
   ]
  },
  {
   "cell_type": "code",
   "execution_count": 8,
   "id": "f5440151-a2eb-4b80-b8dc-949263ff4a0f",
   "metadata": {},
   "outputs": [
    {
     "name": "stdout",
     "output_type": "stream",
     "text": [
      "14\n",
      "<class 'int'>\n"
     ]
    }
   ],
   "source": [
    "x = 14\n",
    "print(x)\n",
    "print(type(x))"
   ]
  },
  {
   "cell_type": "code",
   "execution_count": 9,
   "id": "bb3b9d87-0651-4a86-ab57-e400cc3d339d",
   "metadata": {},
   "outputs": [
    {
     "name": "stdout",
     "output_type": "stream",
     "text": [
      "3.14159265\n",
      "<class 'float'>\n"
     ]
    }
   ],
   "source": [
    "nearly_pi = 3.14159265\n",
    "print(nearly_pi)\n",
    "print(type(nearly_pi))"
   ]
  },
  {
   "cell_type": "code",
   "execution_count": 10,
   "id": "eda6eb62-98cc-47d0-a3df-cd8afc9f11d8",
   "metadata": {},
   "outputs": [
    {
     "name": "stdout",
     "output_type": "stream",
     "text": [
      "True\n",
      "<class 'bool'>\n"
     ]
    }
   ],
   "source": [
    "z_one = True\n",
    "print(z_one)\n",
    "print(type(z_one))"
   ]
  },
  {
   "cell_type": "code",
   "execution_count": 11,
   "id": "0fdbd1a5-dbef-4e1f-956b-834218a196d5",
   "metadata": {},
   "outputs": [
    {
     "name": "stdout",
     "output_type": "stream",
     "text": [
      "Hello, Python!\n",
      "<class 'str'>\n"
     ]
    }
   ],
   "source": [
    "w = \"Hello, Python!\"\n",
    "print(w)\n",
    "print(type(w))"
   ]
  },
  {
   "cell_type": "code",
   "execution_count": 12,
   "id": "8dbf555b-ab33-4343-8d72-28eca19d9bc3",
   "metadata": {},
   "outputs": [
    {
     "name": "stdout",
     "output_type": "stream",
     "text": [
      "2.17\n",
      "3\n"
     ]
    }
   ],
   "source": [
    "import math\n",
    "test_value = 2.17\n",
    "rounded_value = math.ceil(test_value)\n",
    "print(test_value)\n",
    "print(rounded_value)"
   ]
  },
  {
   "cell_type": "code",
   "execution_count": 13,
   "id": "3383263c-9d43-4771-8620-08961c0ab921",
   "metadata": {},
   "outputs": [
    {
     "name": "stdout",
     "output_type": "stream",
     "text": [
      "3.142857142857143\n",
      "<class 'float'>\n"
     ]
    }
   ],
   "source": [
    "almost_pi = 22 / 7\n",
    "print(almost_pi)\n",
    "print(type(almost_pi))"
   ]
  },
  {
   "cell_type": "code",
   "execution_count": 14,
   "id": "acbe485b-506e-49b7-8516-6e454c173dbb",
   "metadata": {},
   "outputs": [
    {
     "name": "stdout",
     "output_type": "stream",
     "text": [
      "3.14286\n",
      "<class 'float'>\n"
     ]
    }
   ],
   "source": [
    "roundedpi = round(almost_pi, 5)\n",
    "print(roundedpi)\n",
    "print(type(roundedpi))"
   ]
  },
  {
   "cell_type": "code",
   "execution_count": 15,
   "id": "7c6df82f-1bdf-463f-8273-4cab438cbe76",
   "metadata": {},
   "outputs": [
    {
     "name": "stdout",
     "output_type": "stream",
     "text": [
      "race: Daytona 500\n",
      "data type: Daytona 500\n"
     ]
    }
   ],
   "source": [
    "race = 'Daytona 500'\n",
    "print('race:', race)\n",
    "print('data type:', race)"
   ]
  },
  {
   "cell_type": "code",
   "execution_count": 16,
   "id": "046b3a1b-c8f7-4e0e-af9c-44a5b8b5beed",
   "metadata": {},
   "outputs": [
    {
     "name": "stdout",
     "output_type": "stream",
     "text": [
      "Daytona 500 <class 'str'>\n"
     ]
    }
   ],
   "source": [
    "print(race, type(race))"
   ]
  },
  {
   "cell_type": "code",
   "execution_count": 17,
   "id": "62e24f3e-3d68-438b-9346-e5c8f72568ed",
   "metadata": {},
   "outputs": [
    {
     "name": "stdout",
     "output_type": "stream",
     "text": [
      "True is <class 'bool'>\n"
     ]
    }
   ],
   "source": [
    "z_one = True\n",
    "print(z_one, 'is', type(z_one))"
   ]
  },
  {
   "cell_type": "code",
   "execution_count": 18,
   "id": "36b656e9-c339-4a8d-8ff3-2b03b0cecaae",
   "metadata": {},
   "outputs": [
    {
     "name": "stdout",
     "output_type": "stream",
     "text": [
      "False\n",
      "False is <class 'bool'>\n"
     ]
    }
   ],
   "source": [
    "z_two = False\n",
    "print(z_two)\n",
    "print(z_two, 'is', type(z_two))"
   ]
  },
  {
   "cell_type": "code",
   "execution_count": 19,
   "id": "e125950d-9b1e-44c5-8c6f-238c635956c3",
   "metadata": {},
   "outputs": [
    {
     "name": "stdout",
     "output_type": "stream",
     "text": [
      "True\n",
      "True is <class 'bool'>\n"
     ]
    }
   ],
   "source": [
    "z_three = (1 < 2)\n",
    "print(z_three)\n",
    "print(z_three, 'is', type(z_three))"
   ]
  },
  {
   "cell_type": "code",
   "execution_count": 20,
   "id": "b85c83a9-9686-4eaf-90d7-811a5a09e72e",
   "metadata": {},
   "outputs": [
    {
     "name": "stdout",
     "output_type": "stream",
     "text": [
      "False\n",
      "z_four is False which is data <class 'bool'>\n"
     ]
    }
   ],
   "source": [
    "z_four = (5 < 3)\n",
    "print(z_four)\n",
    "print('z_four', 'is', z_four, 'which is data', type(z_four))"
   ]
  },
  {
   "cell_type": "code",
   "execution_count": 21,
   "id": "4794cca6-c140-4e38-bb56-3190151f1a73",
   "metadata": {},
   "outputs": [
    {
     "name": "stdout",
     "output_type": "stream",
     "text": [
      "Is 5 < 3 True or False? False\n"
     ]
    }
   ],
   "source": [
    "print('Is 5 < 3 True or False?', z_four)"
   ]
  },
  {
   "cell_type": "code",
   "execution_count": 22,
   "id": "8322a290-8846-499c-baf0-d1540782c798",
   "metadata": {},
   "outputs": [
    {
     "name": "stdout",
     "output_type": "stream",
     "text": [
      "original value of z_four is: False\n",
      "z_five is not z_four therefore z_five is: True\n"
     ]
    }
   ],
   "source": [
    "z_five = not z_four\n",
    "print('original value of z_four is:', z_four)\n",
    "print('z_five is not z_four therefore z_five is:', z_five)"
   ]
  },
  {
   "cell_type": "code",
   "execution_count": 23,
   "id": "502b73e1-a2a5-4a26-a387-fffeb6156dae",
   "metadata": {},
   "outputs": [
    {
     "name": "stdout",
     "output_type": "stream",
     "text": [
      "\"abc\" alone = abc\n",
      "\"abc\" * False = \n"
     ]
    }
   ],
   "source": [
    "print('\"abc\" alone =', \"abc\")\n",
    "print('\"abc\" * False =', (\"abc\" * False))\n"
   ]
  },
  {
   "cell_type": "code",
   "execution_count": 24,
   "id": "744966f1-978e-4fb3-a077-0e20acd953ee",
   "metadata": {},
   "outputs": [],
   "source": [
    "def get_expected_cost(beds, baths, basement):\n",
    "    value = 80000 + (beds * 30000) + (baths * 10000) + (basement * 40000)\n",
    "    return value"
   ]
  },
  {
   "cell_type": "code",
   "execution_count": 25,
   "id": "67cdb417-f7e9-4039-b498-0a5718bb3a73",
   "metadata": {},
   "outputs": [
    {
     "name": "stdout",
     "output_type": "stream",
     "text": [
      "120000\n"
     ]
    }
   ],
   "source": [
    "b1b1f = get_expected_cost(1, 1, False)\n",
    "print(b1b1f)"
   ]
  },
  {
   "cell_type": "code",
   "execution_count": 26,
   "id": "b9df76ea-090c-42c7-8393-3db969c1522e",
   "metadata": {},
   "outputs": [
    {
     "name": "stdout",
     "output_type": "stream",
     "text": [
      "190000\n"
     ]
    }
   ],
   "source": [
    "b2b1t = get_expected_cost(2, 1, True)\n",
    "print(b2b1t)"
   ]
  },
  {
   "cell_type": "code",
   "execution_count": 27,
   "id": "c243940f-e20c-47ef-bfd6-31872a95c607",
   "metadata": {},
   "outputs": [
    {
     "name": "stdout",
     "output_type": "stream",
     "text": [
      "1\n"
     ]
    }
   ],
   "source": [
    "print(True + False)"
   ]
  },
  {
   "cell_type": "code",
   "execution_count": 28,
   "id": "9cf81bc8-f962-4bac-958b-d6777384b764",
   "metadata": {},
   "outputs": [
    {
     "name": "stdout",
     "output_type": "stream",
     "text": [
      "0\n"
     ]
    }
   ],
   "source": [
    "print(False + False)"
   ]
  },
  {
   "cell_type": "code",
   "execution_count": 29,
   "id": "1287a5cf-e419-4f3f-a28d-15a5a5f900c2",
   "metadata": {},
   "outputs": [
    {
     "name": "stdout",
     "output_type": "stream",
     "text": [
      "2\n"
     ]
    }
   ],
   "source": [
    "print(True + True + False)"
   ]
  },
  {
   "cell_type": "code",
   "execution_count": 30,
   "id": "91db668b-fd2d-45aa-b3b8-53b6fb330b1d",
   "metadata": {},
   "outputs": [
    {
     "name": "stdout",
     "output_type": "stream",
     "text": [
      "4\n"
     ]
    }
   ],
   "source": [
    "print(False + 4)"
   ]
  },
  {
   "cell_type": "code",
   "execution_count": 31,
   "id": "636dfb74-8b2e-4a57-9193-3f25d06df0c1",
   "metadata": {},
   "outputs": [
    {
     "name": "stdout",
     "output_type": "stream",
     "text": [
      "3\n"
     ]
    }
   ],
   "source": [
    "print(3 + False)"
   ]
  },
  {
   "cell_type": "code",
   "execution_count": 32,
   "id": "6cdb86d2-e59c-44ad-be31-5d0da0c620e2",
   "metadata": {},
   "outputs": [
    {
     "name": "stdout",
     "output_type": "stream",
     "text": [
      "5\n"
     ]
    }
   ],
   "source": [
    "print(False + True + 2 + True + 1)"
   ]
  },
  {
   "cell_type": "code",
   "execution_count": 33,
   "id": "8e581177-12e4-41f2-be3a-4f7b26f9379d",
   "metadata": {},
   "outputs": [],
   "source": [
    "def projectcost(engraving, gold):\n",
    "    cost = 50 + (50 * gold) + (len(engraving) * 7) + (gold * (len(engraving) * 3))\n",
    "    return cost"
   ]
  },
  {
   "cell_type": "code",
   "execution_count": 34,
   "id": "3d51021a-25fb-4e6b-9ce9-3c281b3919e1",
   "metadata": {},
   "outputs": [
    {
     "name": "stdout",
     "output_type": "stream",
     "text": [
      "210\n"
     ]
    }
   ],
   "source": [
    "tengold = projectcost(\"abcdefghijk\", True)\n",
    "print(tengold)"
   ]
  },
  {
   "cell_type": "code",
   "execution_count": 35,
   "id": "93d2c1c5-8ee7-490d-8df7-0091c968f49e",
   "metadata": {},
   "outputs": [
    {
     "name": "stdout",
     "output_type": "stream",
     "text": [
      "120\n"
     ]
    }
   ],
   "source": [
    "love = projectcost(\"I love you\", False)\n",
    "print(love)"
   ]
  },
  {
   "cell_type": "code",
   "execution_count": 36,
   "id": "ba5cb471-a4d4-4985-8e7b-8a57db832966",
   "metadata": {},
   "outputs": [],
   "source": [
    "def costproject(engraving, gold):\n",
    "    cost = gold * (100 + 10 * len(engraving)) + (not gold) * (50 + 7 * len(engraving))\n",
    "    return cost"
   ]
  },
  {
   "cell_type": "code",
   "execution_count": 37,
   "id": "0cbcc5af-bcb2-43f8-9329-14b3a5ae809a",
   "metadata": {},
   "outputs": [
    {
     "name": "stdout",
     "output_type": "stream",
     "text": [
      "120\n"
     ]
    }
   ],
   "source": [
    "love1 = costproject(\"I love you\", False)\n",
    "print(love1)"
   ]
  },
  {
   "cell_type": "code",
   "execution_count": 38,
   "id": "8d643083-4949-4593-98ce-e7729f030af9",
   "metadata": {},
   "outputs": [
    {
     "name": "stdout",
     "output_type": "stream",
     "text": [
      "200\n",
      "200\n"
     ]
    }
   ],
   "source": [
    "goldlove = projectcost(\"I love you\", True)\n",
    "print(goldlove)\n",
    "goldlove1 = costproject(\"I love you\", True)\n",
    "print(goldlove1)"
   ]
  },
  {
   "cell_type": "code",
   "execution_count": 39,
   "id": "acad991f-2a04-4221-8e98-1ef9212df075",
   "metadata": {},
   "outputs": [
    {
     "name": "stdout",
     "output_type": "stream",
     "text": [
      "240\n",
      "240\n"
     ]
    }
   ],
   "source": [
    "project1 = projectcost(\"Charlie+Denver\", True)\n",
    "print(project1)\n",
    "project1b = costproject(\"Charlie+Denver\", True)\n",
    "print(project1b)"
   ]
  },
  {
   "cell_type": "code",
   "execution_count": 40,
   "id": "81d17019-7208-4a7c-87ec-73af1538709c",
   "metadata": {},
   "outputs": [
    {
     "name": "stdout",
     "output_type": "stream",
     "text": [
      "120\n",
      "120\n"
     ]
    }
   ],
   "source": [
    "project2 = projectcost('08/10/2000', False)\n",
    "print(project2)\n",
    "project2b = costproject('08/10/2000', False)\n",
    "print(project2b)"
   ]
  },
  {
   "cell_type": "code",
   "execution_count": 41,
   "id": "0173b23d-eabd-4204-9b18-a10c69f6db56",
   "metadata": {},
   "outputs": [
    {
     "name": "stdout",
     "output_type": "stream",
     "text": [
      "Daytona 500 is <class 'str'>\n",
      "1000 is <class 'int'>\n",
      "98.6 is <class 'float'>\n",
      "True is <class 'bool'>\n"
     ]
    }
   ],
   "source": [
    "race = 'Daytona 500'\n",
    "kilo = 1000\n",
    "temp = 98.6\n",
    "flag = True\n",
    "\n",
    "print(race, 'is', type(race))\n",
    "print(kilo, 'is', type(kilo))\n",
    "print(temp, 'is', type(temp))\n",
    "print(flag, 'is', type(flag))"
   ]
  },
  {
   "cell_type": "code",
   "execution_count": 42,
   "id": "c5db7afa-730f-4a81-b5e6-767cc247da9d",
   "metadata": {},
   "outputs": [
    {
     "name": "stdout",
     "output_type": "stream",
     "text": [
      "4 > 8 = False\n"
     ]
    }
   ],
   "source": [
    "flag = 4 > 8\n",
    "print('4 > 8 =', flag)"
   ]
  },
  {
   "cell_type": "code",
   "execution_count": 43,
   "id": "e403b5b7-0698-4b3c-b305-d5327939eeea",
   "metadata": {},
   "outputs": [
    {
     "name": "stdout",
     "output_type": "stream",
     "text": [
      "Hello, Python!\n",
      "<class 'str'>\n"
     ]
    }
   ],
   "source": [
    "w = \"Hello, Python!\"\n",
    "print(w)\n",
    "print(type(w))"
   ]
  },
  {
   "cell_type": "code",
   "execution_count": 44,
   "id": "d6532cb9-42f2-46fc-aa65-4afe8c062279",
   "metadata": {},
   "outputs": [
    {
     "name": "stdout",
     "output_type": "stream",
     "text": [
      "\n",
      "0\n"
     ]
    }
   ],
   "source": [
    "shorteststring=\"\"\n",
    "print(shorteststring)\n",
    "print(len(shorteststring))"
   ]
  },
  {
   "cell_type": "code",
   "execution_count": 45,
   "id": "c1a7cd2b-e215-415c-b883-0caa56f4270e",
   "metadata": {},
   "outputs": [
    {
     "name": "stdout",
     "output_type": "stream",
     "text": [
      "mynumber = 1.12321\n",
      "<class 'str'>\n",
      "length = 7\n"
     ]
    }
   ],
   "source": [
    "mynumber = '1.12321'\n",
    "print('mynumber =', mynumber)\n",
    "print(type(mynumber))\n",
    "print('length =', len(mynumber))"
   ]
  },
  {
   "cell_type": "code",
   "execution_count": 46,
   "id": "d9a1449f-1be0-4c14-b6d8-3b875e99df6e",
   "metadata": {},
   "outputs": [
    {
     "name": "stdout",
     "output_type": "stream",
     "text": [
      "a = def\n",
      "a length = 3\n",
      "\n",
      "b = 456\n",
      "b length = 3\n",
      "\n",
      "newstring = abc123\n",
      "newstring length = 6\n",
      "\n",
      "newstring1 = def456\n",
      "newstring1 length = 6\n"
     ]
    }
   ],
   "source": [
    "a = \"def\"\n",
    "b = \"456\"\n",
    "print('a =', a)\n",
    "print('a length =', len(a))\n",
    "print('')\n",
    "print('b =', b)\n",
    "print('b length =', len(b))\n",
    "print('')\n",
    "newstring = \"abc\" + \"123\"\n",
    "newstring1 = a + b\n",
    "print('newstring =', newstring)\n",
    "print('newstring length =', len(newstring))\n",
    "print('')\n",
    "print('newstring1 =', newstring1)\n",
    "print('newstring1 length =', len(newstring1))"
   ]
  },
  {
   "cell_type": "code",
   "execution_count": 47,
   "id": "c25394d4-2cd7-4f0d-aa28-d33222f27fe2",
   "metadata": {},
   "outputs": [
    {
     "name": "stdout",
     "output_type": "stream",
     "text": [
      "abcabcabc\n",
      "9\n"
     ]
    }
   ],
   "source": [
    "threepeat = \"abc\" * 3\n",
    "print(threepeat)\n",
    "print(len(threepeat))"
   ]
  },
  {
   "cell_type": "code",
   "execution_count": 48,
   "id": "cd72bb33-ba79-4d57-8998-fcceb0bf4fb7",
   "metadata": {},
   "outputs": [
    {
     "name": "stdout",
     "output_type": "stream",
     "text": [
      "orig = abc\n",
      "orig length = 3\n",
      "\n",
      "threepeatorig = abcabcabc\n",
      "threepeatorig length = 9\n"
     ]
    }
   ],
   "source": [
    "orig = \"abc\"\n",
    "threepeatorig = orig * 3\n",
    "print('orig =', orig)\n",
    "print('orig length =', len(orig))\n",
    "print('')\n",
    "print('threepeatorig =', threepeatorig)\n",
    "print('threepeatorig length =', len(threepeatorig))"
   ]
  },
  {
   "cell_type": "code",
   "execution_count": 49,
   "id": "377e8548-c6e3-4226-9001-9aedd49254a3",
   "metadata": {},
   "outputs": [
    {
     "name": "stdout",
     "output_type": "stream",
     "text": [
      "1.12321 <class 'str'>\n"
     ]
    }
   ],
   "source": [
    "print(mynumber, type(mynumber))"
   ]
  },
  {
   "cell_type": "code",
   "execution_count": 50,
   "id": "cf6ad8e9-d070-4a70-9c0d-21f1be340935",
   "metadata": {},
   "outputs": [
    {
     "name": "stdout",
     "output_type": "stream",
     "text": [
      "1.12321 <class 'str'>\n",
      "\n",
      "1.12321 <class 'float'>\n"
     ]
    }
   ],
   "source": [
    "also_my_number = float(mynumber)\n",
    "print(mynumber, type(mynumber))\n",
    "print(\"\")\n",
    "print(also_my_number, type(also_my_number))"
   ]
  },
  {
   "cell_type": "code",
   "execution_count": 51,
   "id": "c22fea81-74a9-4642-99a4-aef9fd805639",
   "metadata": {},
   "outputs": [
    {
     "name": "stdout",
     "output_type": "stream",
     "text": [
      "practice1 = 10.43430\n",
      "practice1 type = <class 'str'>\n",
      "\n",
      "practice1float = 10.4343\n",
      "practice1float type = <class 'float'>\n"
     ]
    }
   ],
   "source": [
    "practice1 = \"10.43430\"\n",
    "print('practice1 =', practice1)\n",
    "print('practice1 type =', type(practice1))\n",
    "print('')\n",
    "practice1float = float(practice1)\n",
    "print('practice1float =', practice1float)\n",
    "print('practice1float type =', type(practice1float))"
   ]
  },
  {
   "cell_type": "code",
   "execution_count": 52,
   "id": "48959a6c-74cc-476b-9a25-658576bf00be",
   "metadata": {},
   "outputs": [
    {
     "name": "stdout",
     "output_type": "stream",
     "text": [
      "practice2 orig = 3\n",
      "practice 2 orig type = <class 'str'>\n",
      "\n",
      "practice2float = 3.0\n",
      "practice2float type = 3.0\n"
     ]
    }
   ],
   "source": [
    "practice2 = \"3\"\n",
    "print('practice2 orig =', practice2)\n",
    "print('practice 2 orig type =', type(practice2))\n",
    "print('')\n",
    "practice2float = float(practice2)\n",
    "print('practice2float =', practice2float)\n",
    "print('practice2float type =', practice2float)"
   ]
  },
  {
   "cell_type": "code",
   "execution_count": 53,
   "id": "bc6e075d-9def-462f-8962-db81ddbb790c",
   "metadata": {},
   "outputs": [
    {
     "name": "stdout",
     "output_type": "stream",
     "text": [
      "-1\n"
     ]
    }
   ],
   "source": [
    "print( int( -1.1234) )"
   ]
  },
  {
   "cell_type": "code",
   "execution_count": 54,
   "id": "27d220dc-7d68-40d9-9f35-548bb0f65247",
   "metadata": {},
   "outputs": [
    {
     "name": "stdout",
     "output_type": "stream",
     "text": [
      "-2\n"
     ]
    }
   ],
   "source": [
    "print( int( -2.123) )"
   ]
  },
  {
   "cell_type": "code",
   "execution_count": 55,
   "id": "ab75ca43-61d3-4f9a-a87d-61a412b36118",
   "metadata": {},
   "outputs": [
    {
     "name": "stdout",
     "output_type": "stream",
     "text": [
      "-2\n"
     ]
    }
   ],
   "source": [
    "print( int( -2.67) )"
   ]
  },
  {
   "cell_type": "code",
   "execution_count": 56,
   "id": "d122d9d9-e513-4538-9063-b9b3350b172a",
   "metadata": {},
   "outputs": [
    {
     "name": "stdout",
     "output_type": "stream",
     "text": [
      "-1\n"
     ]
    }
   ],
   "source": [
    "print( int( -1.4) )"
   ]
  },
  {
   "cell_type": "code",
   "execution_count": 57,
   "id": "f6814dc8-d723-4c0e-90c0-bc81533c64cd",
   "metadata": {},
   "outputs": [
    {
     "name": "stdout",
     "output_type": "stream",
     "text": [
      "-1\n"
     ]
    }
   ],
   "source": [
    "print( int( -1.1))"
   ]
  },
  {
   "cell_type": "code",
   "execution_count": 58,
   "id": "6ba97f09-96ac-4957-a158-7489e5097b63",
   "metadata": {},
   "outputs": [
    {
     "name": "stdout",
     "output_type": "stream",
     "text": [
      "10.43430\n"
     ]
    }
   ],
   "source": [
    "print(practice1)"
   ]
  },
  {
   "cell_type": "code",
   "execution_count": 59,
   "id": "b52d20f2-5721-49e4-836f-95eb2d084532",
   "metadata": {},
   "outputs": [
    {
     "name": "stdout",
     "output_type": "stream",
     "text": [
      "10.4343\n"
     ]
    }
   ],
   "source": [
    "prac1 = float(practice1)\n",
    "print(prac1)"
   ]
  },
  {
   "cell_type": "code",
   "execution_count": 60,
   "id": "1ab0c001-02ed-45ed-9b34-f5afbec4d1af",
   "metadata": {},
   "outputs": [
    {
     "name": "stdout",
     "output_type": "stream",
     "text": [
      "<class 'float'>\n"
     ]
    }
   ],
   "source": [
    "print(type(prac1))"
   ]
  },
  {
   "cell_type": "code",
   "execution_count": 61,
   "id": "681641eb-7e5b-4c85-9251-720f2ae9ae54",
   "metadata": {},
   "outputs": [
    {
     "name": "stdout",
     "output_type": "stream",
     "text": [
      "10\n",
      "<class 'int'>\n"
     ]
    }
   ],
   "source": [
    "prac1a = int(prac1)\n",
    "print(prac1a)\n",
    "print(type(prac1a))"
   ]
  },
  {
   "cell_type": "code",
   "execution_count": 62,
   "id": "1ece5ba2-5ad1-4a3a-9ad9-40418fa13c61",
   "metadata": {},
   "outputs": [
    {
     "name": "stdout",
     "output_type": "stream",
     "text": [
      "1.0\n",
      "<class 'float'>\n",
      "1\n",
      "<class 'int'>\n"
     ]
    }
   ],
   "source": [
    "y = 1.\n",
    "print(y)\n",
    "print(type(y))\n",
    "z = int(y)\n",
    "print(z)\n",
    "print(type(z))"
   ]
  },
  {
   "cell_type": "code",
   "execution_count": 63,
   "id": "d24bbe8d-3034-4e38-be27-dc226b4c0346",
   "metadata": {},
   "outputs": [
    {
     "name": "stdout",
     "output_type": "stream",
     "text": [
      "<class 'str'> <class 'str'>\n"
     ]
    }
   ],
   "source": [
    "num1 = '3'\n",
    "num2 = '9'\n",
    "print(type(num1), type(num2))"
   ]
  },
  {
   "cell_type": "code",
   "execution_count": 64,
   "id": "e531eae7-b9fa-45cf-9022-b9be0bab88b0",
   "metadata": {},
   "outputs": [
    {
     "name": "stdout",
     "output_type": "stream",
     "text": [
      "3 <class 'int'>\n"
     ]
    }
   ],
   "source": [
    "num1int = int(num1)\n",
    "print(num1int, type(num1int))"
   ]
  },
  {
   "cell_type": "code",
   "execution_count": 65,
   "id": "1d3fad18-1655-4f11-b722-c635642603db",
   "metadata": {},
   "outputs": [
    {
     "name": "stdout",
     "output_type": "stream",
     "text": [
      "9 <class 'int'>\n"
     ]
    }
   ],
   "source": [
    "num2int = int(num2)\n",
    "print(num2int, type(num2int))"
   ]
  },
  {
   "cell_type": "code",
   "execution_count": 66,
   "id": "69608a3d-b000-4570-be2a-3d9e1cd8ae3e",
   "metadata": {},
   "outputs": [
    {
     "name": "stdout",
     "output_type": "stream",
     "text": [
      "3\n",
      "9\n",
      "12 <class 'int'>\n"
     ]
    }
   ],
   "source": [
    "print(num1int)\n",
    "print(num2int)\n",
    "total = num1int + num2int\n",
    "print(total, type(total))"
   ]
  },
  {
   "cell_type": "code",
   "execution_count": 67,
   "id": "d5e566d6-1d2c-402a-b073-c8433288db72",
   "metadata": {},
   "outputs": [
    {
     "name": "stdout",
     "output_type": "stream",
     "text": [
      "type num1 = <class 'str'>\n",
      "type num2 = <class 'str'>\n",
      "12.0 <class 'float'>\n"
     ]
    }
   ],
   "source": [
    "print('type num1 =', type(num1))\n",
    "print('type num2 =', type(num2)) \n",
    "\n",
    "num1f = float(num1)\n",
    "num2f = float(num2)\n",
    "total = num1f + num2f\n",
    "print(total, type(total))"
   ]
  },
  {
   "cell_type": "code",
   "execution_count": 68,
   "id": "08b201d6-702d-4f66-ae7c-9198c91df1be",
   "metadata": {},
   "outputs": [],
   "source": [
    "def addfive(integer):\n",
    "    value = integer + 5\n",
    "    return value"
   ]
  },
  {
   "cell_type": "code",
   "execution_count": 69,
   "id": "f646e8ea-0868-4efb-9fad-b7fe586c693e",
   "metadata": {},
   "outputs": [
    {
     "name": "stdout",
     "output_type": "stream",
     "text": [
      "10\n"
     ]
    }
   ],
   "source": [
    "value = addfive(5)\n",
    "print(value)"
   ]
  },
  {
   "cell_type": "code",
   "execution_count": 70,
   "id": "7b3202ee-5283-4f4f-8b46-d226c8916d98",
   "metadata": {},
   "outputs": [
    {
     "name": "stdout",
     "output_type": "stream",
     "text": [
      "7 + 5 = 12\n"
     ]
    }
   ],
   "source": [
    "print('7 + 5 =', addfive(7))"
   ]
  },
  {
   "cell_type": "code",
   "execution_count": 71,
   "id": "f3128319-f619-4d2c-8af3-9d23c4323262",
   "metadata": {},
   "outputs": [
    {
     "name": "stdout",
     "output_type": "stream",
     "text": [
      "10 + 5 = 15\n"
     ]
    }
   ],
   "source": [
    "print('10 + 5 =', addfive(10))"
   ]
  },
  {
   "cell_type": "code",
   "execution_count": null,
   "id": "efb17dd6-3f5e-4fcb-baaf-c3ea77634035",
   "metadata": {},
   "outputs": [],
   "source": []
  },
  {
   "cell_type": "code",
   "execution_count": null,
   "id": "802674c4-f7bf-4d0b-ac9a-642bf7da028f",
   "metadata": {},
   "outputs": [],
   "source": []
  },
  {
   "cell_type": "code",
   "execution_count": 72,
   "id": "d63ceb47-0435-4c09-a4e2-9b758359f5be",
   "metadata": {},
   "outputs": [
    {
     "name": "stdout",
     "output_type": "stream",
     "text": [
      "Assign numerical values to variables a and b\n",
      "a = 8\n",
      "b = 4\n"
     ]
    }
   ],
   "source": [
    "a = 8\n",
    "b = 4\n",
    "\n",
    "print('Assign numerical values to variables a and b')\n",
    "print('a =', a)\n",
    "print('b =', b)"
   ]
  },
  {
   "cell_type": "code",
   "execution_count": 73,
   "id": "3bca0a3e-2568-4285-a162-4136e18f1535",
   "metadata": {},
   "outputs": [
    {
     "name": "stdout",
     "output_type": "stream",
     "text": [
      "original a = 8\n",
      "original b = 4\n",
      "a += b results in a + b = 12 = the new value of a\n"
     ]
    }
   ],
   "source": [
    "\n",
    "# Add and assign a new value to the first variable a and display its stored value\n",
    "print('original a =', a)\n",
    "print('original b =', b)\n",
    "a += b\n",
    "print('a += b results in a + b =', a, '= the new value of a')"
   ]
  },
  {
   "cell_type": "code",
   "execution_count": 74,
   "id": "e227bd18-9f1d-4e3c-b6f7-0c1d468d647c",
   "metadata": {},
   "outputs": [
    {
     "name": "stdout",
     "output_type": "stream",
     "text": [
      "10\n"
     ]
    }
   ],
   "source": [
    "\n",
    "def add_five(number):\n",
    "    output = number + 5\n",
    "    return output\n",
    "\n",
    "print(add_five(5))"
   ]
  },
  {
   "cell_type": "code",
   "execution_count": 75,
   "id": "e99b996c-b352-4522-833c-356d6f306515",
   "metadata": {},
   "outputs": [
    {
     "name": "stdout",
     "output_type": "stream",
     "text": [
      "7 + 5 = 12\n"
     ]
    }
   ],
   "source": [
    "print('7 + 5 =', add_five(7))"
   ]
  },
  {
   "cell_type": "code",
   "execution_count": 76,
   "id": "bfe199bb-03fe-4738-aa89-46b661ac15a8",
   "metadata": {},
   "outputs": [
    {
     "name": "stdout",
     "output_type": "stream",
     "text": [
      "7 + 3 = 10\n",
      "10 + 8 = 18\n"
     ]
    }
   ],
   "source": [
    "def add_three_or_eight(integer):\n",
    "    if integer < 10:\n",
    "        value = integer + 3\n",
    "    else:\n",
    "        value = integer + 8\n",
    "    return value\n",
    "\n",
    "print('7 + 3 =', add_three_or_eight(7))\n",
    "print('10 + 8 =', add_three_or_eight(10))\n"
   ]
  },
  {
   "cell_type": "code",
   "execution_count": 77,
   "id": "0dee25d5-86e6-4a24-a7cd-95de60a31c9c",
   "metadata": {},
   "outputs": [
    {
     "name": "stdout",
     "output_type": "stream",
     "text": [
      "Is 2 greater than 3? False\n"
     ]
    }
   ],
   "source": [
    "print(\"Is 2 greater than 3?\", 2 > 3)"
   ]
  },
  {
   "cell_type": "code",
   "execution_count": 78,
   "id": "2e662ad5-3c13-485d-b77d-bca3b5bb6527",
   "metadata": {},
   "outputs": [
    {
     "name": "stdout",
     "output_type": "stream",
     "text": [
      "Value of 'var_one' = 1\n",
      "Value of 'var_two' = 2\n",
      "Is 'var_one' GREATER than 'var_two'? : False\n"
     ]
    }
   ],
   "source": [
    "var_one = 1\n",
    "print(\"Value of 'var_one' =\", var_one)\n",
    "\n",
    "var_two = 2\n",
    "print(\"Value of 'var_two' =\", var_two)\n",
    "\n",
    "print(\"Is 'var_one' GREATER than 'var_two'? :\", var_one > var_two)"
   ]
  },
  {
   "cell_type": "code",
   "execution_count": 79,
   "id": "6bd34f0f-4056-41eb-afb2-0c97e5aecade",
   "metadata": {},
   "outputs": [
    {
     "name": "stdout",
     "output_type": "stream",
     "text": [
      "Is 'var_one' LESS than 1? : False\n"
     ]
    }
   ],
   "source": [
    "print(\"Is 'var_one' LESS than 1? :\", var_one < 1)"
   ]
  },
  {
   "cell_type": "code",
   "execution_count": 80,
   "id": "d6274045-0d98-408c-a3c7-949e62c44423",
   "metadata": {},
   "outputs": [
    {
     "name": "stdout",
     "output_type": "stream",
     "text": [
      "Is 'var_one' LESS than or EQUAL to 1? : True\n"
     ]
    }
   ],
   "source": [
    "print(\"Is 'var_one' LESS than or EQUAL to 1? :\", var_one <= 1)"
   ]
  },
  {
   "cell_type": "code",
   "execution_count": 81,
   "id": "451e135e-ab1a-4ce0-94b9-d3f5df1d292f",
   "metadata": {},
   "outputs": [
    {
     "name": "stdout",
     "output_type": "stream",
     "text": [
      "Is 'var_two' GREATER than 'var_one'? : True\n"
     ]
    }
   ],
   "source": [
    "print(\"Is 'var_two' GREATER than 'var_one'? :\", var_two > var_one)"
   ]
  },
  {
   "cell_type": "code",
   "execution_count": 82,
   "id": "2c518dcf-3631-4166-9198-77d3d66d2ec2",
   "metadata": {},
   "outputs": [
    {
     "name": "stdout",
     "output_type": "stream",
     "text": [
      "Is 'var_two' GREATER than 2? : False\n"
     ]
    }
   ],
   "source": [
    "print(\"Is 'var_two' GREATER than 2? :\", var_two > 2)"
   ]
  },
  {
   "cell_type": "code",
   "execution_count": 83,
   "id": "0809eda4-cfe6-496a-b391-b038bfa363ba",
   "metadata": {},
   "outputs": [
    {
     "name": "stdout",
     "output_type": "stream",
     "text": [
      "Is 'var_two' GREATER than or EQUAL to 2? : True\n"
     ]
    }
   ],
   "source": [
    "print(\"Is 'var_two' GREATER than or EQUAL to 2? :\", var_two >= 2)"
   ]
  },
  {
   "cell_type": "code",
   "execution_count": 84,
   "id": "fbbfc046-6e33-4bda-b921-5dcd3e0277da",
   "metadata": {},
   "outputs": [
    {
     "name": "stdout",
     "output_type": "stream",
     "text": [
      "Is 'var_one' equal to 1? : True\n"
     ]
    }
   ],
   "source": [
    "print(\"Is 'var_one' equal to 1? :\", var_one == 1)"
   ]
  },
  {
   "cell_type": "code",
   "execution_count": 85,
   "id": "a404245d-57c9-46e1-8159-3f3137985ab3",
   "metadata": {},
   "outputs": [
    {
     "name": "stdout",
     "output_type": "stream",
     "text": [
      "Is 'var_two' equal to 2? : True\n"
     ]
    }
   ],
   "source": [
    "print(\"Is 'var_two' equal to 2? :\", var_two == 2)"
   ]
  },
  {
   "cell_type": "code",
   "execution_count": 86,
   "id": "f9783196-a904-444a-98cc-9532d5fd3dbd",
   "metadata": {},
   "outputs": [
    {
     "name": "stdout",
     "output_type": "stream",
     "text": [
      "Is 'var_two' equal to 2? : True\n"
     ]
    }
   ],
   "source": [
    "print(\"Is 'var_two' equal to 2? :\", var_two == 2)"
   ]
  },
  {
   "cell_type": "code",
   "execution_count": 87,
   "id": "1b526531-edc7-478d-84a5-c5ee402b7c71",
   "metadata": {},
   "outputs": [
    {
     "name": "stdout",
     "output_type": "stream",
     "text": [
      "Is 'var_two' NOT Equal to 2? : False\n"
     ]
    }
   ],
   "source": [
    "print(\"Is 'var_two' NOT Equal to 2? :\", var_two != 2)"
   ]
  },
  {
   "cell_type": "code",
   "execution_count": 88,
   "id": "94c9fe8e-39db-451e-ad78-23d843444863",
   "metadata": {},
   "outputs": [
    {
     "name": "stdout",
     "output_type": "stream",
     "text": [
      "Is 'var_two' NOT Equal to 1? : True\n"
     ]
    }
   ],
   "source": [
    "print(\"Is 'var_two' NOT Equal to 1? :\", var_two != 1)"
   ]
  },
  {
   "cell_type": "code",
   "execution_count": 89,
   "id": "2b8a48b2-b31b-4cf4-82d3-07d03cd28864",
   "metadata": {},
   "outputs": [
    {
     "name": "stdout",
     "output_type": "stream",
     "text": [
      "a = 8\n",
      "b = 4\n",
      "\n",
      "a += b is 12 reassigning the value of 'a' to be a + b which ='s: 12\n",
      "\n",
      "new value of 'a' = 12\n"
     ]
    }
   ],
   "source": [
    "a = 8\n",
    "print('a =', a)\n",
    "\n",
    "b = 4\n",
    "print('b =', b)\n",
    "\n",
    "print()\n",
    "\n",
    "a += b\n",
    "print('a += b is', a, \"reassigning the value of 'a' to be a + b which ='s:\", a)\n",
    "print()\n",
    "print(\"new value of 'a' =\", a)"
   ]
  },
  {
   "cell_type": "code",
   "execution_count": 90,
   "id": "241e1af4-7b96-47d3-a540-cfcc1feab0da",
   "metadata": {},
   "outputs": [
    {
     "name": "stdout",
     "output_type": "stream",
     "text": [
      "y = 1\n",
      "\n",
      "y += 5 makes 'y' = to y + 5 = 6\n",
      "\n",
      "New value of 'y' = 6\n"
     ]
    }
   ],
   "source": [
    "y = 1\n",
    "print('y =', y)\n",
    "print()\n",
    "y += 5\n",
    "print(\"y += 5 makes 'y' = to y + 5 =\", y)\n",
    "print()\n",
    "print(\"New value of 'y' =\", y)"
   ]
  },
  {
   "cell_type": "code",
   "execution_count": 91,
   "id": "56474d9c-4c43-4766-bbb0-2d70da9c6e38",
   "metadata": {},
   "outputs": [
    {
     "name": "stdout",
     "output_type": "stream",
     "text": [
      "a = 12\n",
      "b = 4\n",
      "\n",
      "a -= b is 8\n"
     ]
    }
   ],
   "source": [
    "print('a =', a)\n",
    "print('b =', b)\n",
    "a -= b\n",
    "print()\n",
    "print(\"a -= b is\", a)"
   ]
  },
  {
   "cell_type": "code",
   "execution_count": 92,
   "id": "068a47f0-96a7-4544-9c28-4c62aff7346a",
   "metadata": {},
   "outputs": [
    {
     "name": "stdout",
     "output_type": "stream",
     "text": [
      "z = 100\n",
      "\n",
      "z -= 3 is 97\n"
     ]
    }
   ],
   "source": [
    "z = 100\n",
    "print('z =', z)\n",
    "print()\n",
    "z -= 3\n",
    "print('z -= 3 is', z)"
   ]
  },
  {
   "cell_type": "code",
   "execution_count": 93,
   "id": "627cc24b-3b9a-465d-8316-2cde048a18a7",
   "metadata": {},
   "outputs": [
    {
     "name": "stdout",
     "output_type": "stream",
     "text": [
      "3\n"
     ]
    }
   ],
   "source": [
    "print(1 + 2)"
   ]
  },
  {
   "cell_type": "code",
   "execution_count": 94,
   "id": "602e5319-2328-4286-a840-d7ec0c4d1f5d",
   "metadata": {},
   "outputs": [
    {
     "name": "stdout",
     "output_type": "stream",
     "text": [
      "94\n"
     ]
    }
   ],
   "source": [
    "print(z - 3)"
   ]
  },
  {
   "cell_type": "code",
   "execution_count": 95,
   "id": "ddab91e8-c464-4e28-a7f1-9ffc98d8f134",
   "metadata": {},
   "outputs": [
    {
     "name": "stdout",
     "output_type": "stream",
     "text": [
      "a = 8\n",
      "b = 4\n",
      "\n",
      "a *= b is 32\n"
     ]
    }
   ],
   "source": [
    "print('a =', a)\n",
    "print('b =', b)\n",
    "print()\n",
    "a *= b\n",
    "print('a *= b is', a)"
   ]
  },
  {
   "cell_type": "code",
   "execution_count": 96,
   "id": "e1af02c2-53ec-447e-8f5a-049db2b1c86b",
   "metadata": {},
   "outputs": [
    {
     "name": "stdout",
     "output_type": "stream",
     "text": [
      "a = 32\n",
      "\n",
      "a *= 2 is 64\n"
     ]
    }
   ],
   "source": [
    "print('a =', a)\n",
    "print()\n",
    "a *= 2\n",
    "print('a *= 2 is', a)\n"
   ]
  },
  {
   "cell_type": "code",
   "execution_count": 97,
   "id": "babf25e2-3c7c-4b4f-95a9-d201088984c5",
   "metadata": {},
   "outputs": [
    {
     "name": "stdout",
     "output_type": "stream",
     "text": [
      "a = 64\n",
      "b = 4\n",
      "\n",
      "a /= b is 64 / 4\n",
      "a /= b is 16.0\n"
     ]
    }
   ],
   "source": [
    "print('a =', a)\n",
    "print('b =', b)\n",
    "print()\n",
    "print('a /= b is', a, '/', b)\n",
    "a /= b\n",
    "print('a /= b is', a)"
   ]
  },
  {
   "cell_type": "code",
   "execution_count": 98,
   "id": "5a2c9d54-3955-4566-a7cd-b99e762b6ebd",
   "metadata": {},
   "outputs": [
    {
     "name": "stdout",
     "output_type": "stream",
     "text": [
      "b = 4\n",
      "\n",
      "b /= 4 is 4 / 4\n",
      "b /= 4 is 1.0\n"
     ]
    }
   ],
   "source": [
    "print('b =', b)\n",
    "print()\n",
    "print('b /= 4 is', b, '/ 4')\n",
    "b /= 4\n",
    "print('b /= 4 is', b)"
   ]
  },
  {
   "cell_type": "code",
   "execution_count": 99,
   "id": "da323571-daf4-408e-909c-5f5c34d562e7",
   "metadata": {},
   "outputs": [
    {
     "name": "stdout",
     "output_type": "stream",
     "text": [
      "a = 16.0\n",
      "b = 1.0\n",
      "\n",
      "a %= b is 16.0 % 1.0\n",
      "The remainder of 16 / 1, aka a %= b is 0.0\n"
     ]
    }
   ],
   "source": [
    "print('a =', a)\n",
    "print('b =', b)\n",
    "print()\n",
    "print('a %= b is', a, '%', b)\n",
    "a %= b\n",
    "print('The remainder of 16 / 1, aka a %= b is', a)"
   ]
  },
  {
   "cell_type": "code",
   "execution_count": 100,
   "id": "355c1689-70d1-456b-8c19-e7a145c60444",
   "metadata": {},
   "outputs": [
    {
     "name": "stdout",
     "output_type": "stream",
     "text": [
      "a = 0.0\n",
      "b = 1.0\n",
      "\n",
      "a / b = 0.0\n",
      "a //= b is 0.0 // 1.0\n",
      "The integer only answer to 0 / 1, aka a //= b is 0.0\n"
     ]
    }
   ],
   "source": [
    "print('a =', a)\n",
    "print('b =', b)\n",
    "print()\n",
    "print('a / b =', a / b)\n",
    "print('a //= b is', a, '//', b)\n",
    "a //= b\n",
    "print('The integer only answer to 0 / 1, aka a //= b is', a)"
   ]
  },
  {
   "cell_type": "code",
   "execution_count": 101,
   "id": "86957c0a-d62e-4ea3-a80a-8753023d25df",
   "metadata": {},
   "outputs": [
    {
     "name": "stdout",
     "output_type": "stream",
     "text": [
      "a = 0.0\n",
      "\n",
      "a **= 3 is a to the power of 3 = 0.0\n"
     ]
    }
   ],
   "source": [
    "print('a =', a)\n",
    "print()\n",
    "a **= 3\n",
    "print('a **= 3 is a to the power of 3 =', a)"
   ]
  },
  {
   "cell_type": "code",
   "execution_count": 102,
   "id": "15f6c3cb-fb0d-4b4b-b02c-eef63098fb29",
   "metadata": {},
   "outputs": [
    {
     "name": "stdout",
     "output_type": "stream",
     "text": [
      "b = 1.0\n",
      "b += 5 is 6.0\n"
     ]
    }
   ],
   "source": [
    "print('b =', b)\n",
    "b += 5\n",
    "print('b += 5 is', b)\n"
   ]
  },
  {
   "cell_type": "code",
   "execution_count": 103,
   "id": "a3c9565b-193e-4286-b964-34a0bdb79423",
   "metadata": {},
   "outputs": [
    {
     "name": "stdout",
     "output_type": "stream",
     "text": [
      "b = 6.0\n",
      "\n",
      "b to the power of 3 is b **= 3 is 216.0\n"
     ]
    }
   ],
   "source": [
    "print('b =', b)\n",
    "print()\n",
    "b **= 3\n",
    "print('b to the power of 3 is b **= 3 is', b)"
   ]
  },
  {
   "cell_type": "code",
   "execution_count": 104,
   "id": "5df9b3c0-3a44-4912-b5cd-f027f5ee3d0b",
   "metadata": {},
   "outputs": [
    {
     "data": {
      "text/plain": [
       "216"
      ]
     },
     "execution_count": 104,
     "metadata": {},
     "output_type": "execute_result"
    }
   ],
   "source": [
    "6 * 6 * 6"
   ]
  },
  {
   "cell_type": "code",
   "execution_count": 105,
   "id": "0290bb20-ac99-44d2-bc4d-7105482322c6",
   "metadata": {},
   "outputs": [
    {
     "name": "stdout",
     "output_type": "stream",
     "text": [
      "x = True\n",
      "y = True\n",
      "\n",
      "x and y = True\n",
      "not x and y = False\n"
     ]
    }
   ],
   "source": [
    "x = 2 > 1\n",
    "print('x =', x)\n",
    "\n",
    "y = 4 > 1\n",
    "print('y =', y)\n",
    "print()\n",
    "print('x and y =', x and y)\n",
    "print('not x and y =', not x and y)"
   ]
  },
  {
   "cell_type": "code",
   "execution_count": 106,
   "id": "76e554e7-2ec3-4017-8c73-f7ddc8380528",
   "metadata": {},
   "outputs": [
    {
     "name": "stdout",
     "output_type": "stream",
     "text": [
      "x = True\n",
      "y = True\n",
      "\n",
      "x or y = True\n",
      "not x or y = True\n"
     ]
    }
   ],
   "source": [
    "print('x =', x)\n",
    "print('y =', y)\n",
    "print()\n",
    "print('x or y =', x or y)\n",
    "print('not x or y =', not x or y)"
   ]
  },
  {
   "cell_type": "code",
   "execution_count": 107,
   "id": "d628ed1b-0ead-40e0-ae95-0bbda2646ffa",
   "metadata": {},
   "outputs": [
    {
     "name": "stdout",
     "output_type": "stream",
     "text": [
      "x = True\n",
      "not x = False\n",
      "\n",
      "y = True\n",
      "not y = False\n"
     ]
    }
   ],
   "source": [
    "print('x =', x)\n",
    "print('not x =', not x)\n",
    "print()\n",
    "print('y =', y)\n",
    "print('not y =', not y)"
   ]
  },
  {
   "cell_type": "code",
   "execution_count": 108,
   "id": "dd1bedaa-29cc-485e-879b-9b6a45f7d5f2",
   "metadata": {},
   "outputs": [
    {
     "name": "stdout",
     "output_type": "stream",
     "text": [
      "y = True\n",
      "assign y to be not y changing it from True to False\n"
     ]
    }
   ],
   "source": [
    "print('y =', y)\n",
    "y = not y\n",
    "print('assign y to be not y changing it from True to', y)"
   ]
  },
  {
   "cell_type": "code",
   "execution_count": 109,
   "id": "8b8bfecf-b9f0-48e8-9f69-792e833c17f7",
   "metadata": {},
   "outputs": [
    {
     "name": "stdout",
     "output_type": "stream",
     "text": [
      "Normal temperature.\n",
      "Fever!\n"
     ]
    }
   ],
   "source": [
    "def evaluate_temp(temp):\n",
    "    message = \"Normal temperature.\"\n",
    "    if temp > 38:\n",
    "        message = \"Fever!\"\n",
    "    return message\n",
    "\n",
    "print(evaluate_temp(38))\n",
    "print(evaluate_temp(39))"
   ]
  },
  {
   "cell_type": "code",
   "execution_count": 110,
   "id": "82999270-3b7d-4533-96b2-8470da5a44b3",
   "metadata": {},
   "outputs": [
    {
     "name": "stdout",
     "output_type": "stream",
     "text": [
      "Normal temperature.\n"
     ]
    }
   ],
   "source": [
    "print(evaluate_temp(37))"
   ]
  },
  {
   "cell_type": "code",
   "execution_count": 111,
   "id": "de57299e-6370-4082-b874-467822b09282",
   "metadata": {},
   "outputs": [
    {
     "name": "stdout",
     "output_type": "stream",
     "text": [
      "Fever!\n",
      "Normal temperature.\n",
      "Normal temperature.\n"
     ]
    }
   ],
   "source": [
    "def evaluate_temp_with_else(temp):\n",
    "    if temp > 38:\n",
    "        message = \"Fever!\"\n",
    "    else:\n",
    "        message = \"Normal temperature.\"\n",
    "    return message\n",
    "\n",
    "print(evaluate_temp_with_else(39))\n",
    "print(evaluate_temp_with_else(38))\n",
    "print(evaluate_temp_with_else(37))"
   ]
  },
  {
   "cell_type": "code",
   "execution_count": 112,
   "id": "03b06101-3270-44e1-9bbd-a54ff2e26147",
   "metadata": {},
   "outputs": [
    {
     "name": "stdout",
     "output_type": "stream",
     "text": [
      "taxes owed for $ 11,999 income = $ 2999.75\n",
      "2999.75\n",
      "\n",
      "taxes owed for $ 12,000 income = $ 3600.0\n",
      "3600.0\n",
      "\n",
      "taxes owed for $12,001 income = $ 3600.2999999999997\n",
      "3600.2999999999997\n"
     ]
    }
   ],
   "source": [
    "def get_taxes(income):\n",
    "    if income < 12000:\n",
    "        tax_owed = income * 0.25\n",
    "    else:\n",
    "        tax_owed = income * 0.30\n",
    "    return tax_owed\n",
    "\n",
    "print('taxes owed for $ 11,999 income = $', get_taxes(11999))\n",
    "print(11999 * 0.25)\n",
    "print()\n",
    "print('taxes owed for $ 12,000 income = $', get_taxes(12000))\n",
    "print(12000 * 0.30)\n",
    "print()\n",
    "print('taxes owed for $12,001 income = $', get_taxes(12001))\n",
    "print(12001 * 0.30)\n"
   ]
  },
  {
   "cell_type": "code",
   "execution_count": 113,
   "id": "3dee6139-959f-4604-9122-58cbdc7a3e32",
   "metadata": {},
   "outputs": [
    {
     "name": "stdout",
     "output_type": "stream",
     "text": [
      "Temp 36 C = Normal temperature.\n",
      "Temp 34 C = Low temperature.\n",
      "Temp 35 C = Low temperature.\n",
      "Temp 38 C = Normal temperature.\n",
      "Temp 39 C = Fever!\n"
     ]
    }
   ],
   "source": [
    "def evaluate_temp_with_elif(temp):\n",
    "    if temp > 38:\n",
    "        message = \"Fever!\"\n",
    "    elif temp > 35:\n",
    "        message = \"Normal temperature.\"\n",
    "    else:\n",
    "        message = \"Low temperature.\"\n",
    "    return message\n",
    "\n",
    "print('Temp 36 C =', evaluate_temp_with_elif(36))\n",
    "print('Temp 34 C =', evaluate_temp_with_elif(34))\n",
    "print('Temp 35 C =', evaluate_temp_with_elif(35))\n",
    "print('Temp 38 C =', evaluate_temp_with_elif(38))\n",
    "print('Temp 39 C =', evaluate_temp_with_elif(39))"
   ]
  },
  {
   "cell_type": "code",
   "execution_count": 114,
   "id": "18038108-14b6-44c3-a5b3-592654b29ab4",
   "metadata": {},
   "outputs": [
    {
     "name": "stdout",
     "output_type": "stream",
     "text": [
      "Kid 5.1 kg dose = 1.25\n",
      "Kid 5.2 kg dose = 2.5\n",
      "Kid 7 kg dose = 2.5\n",
      "Kid 7.9 kg dose = 3.75\n",
      "Kid 10.3 kg dose = 3.75\n",
      "Kid 10.4 kg dose = 5\n",
      "Kid 15 kg dose = 5\n",
      "Kid is 15.9 kg dose = 7.5\n",
      "Kid is 21 kg dose = 7.5\n",
      "Kid is 21.2 kg dose = 10\n",
      "Kid is 30 kg dose = 10\n"
     ]
    }
   ],
   "source": [
    "# Create a multiple elif code for medicine based\n",
    "def get_dose(kg):\n",
    "    if kg < 5.2:\n",
    "        dose = 1.25\n",
    "    elif kg < 7.9:\n",
    "        dose = 2.5\n",
    "    elif kg < 10.4:\n",
    "        dose = 3.75\n",
    "    elif kg < 15.9:\n",
    "        dose = 5\n",
    "    elif kg < 21.2:\n",
    "        dose = 7.5\n",
    "    else:\n",
    "        dose = 10\n",
    "    return dose\n",
    "\n",
    "print('Kid 5.1 kg dose =', get_dose(5.1))\n",
    "print('Kid 5.2 kg dose =', get_dose(5.2))\n",
    "print('Kid 7 kg dose =', get_dose(7))\n",
    "print('Kid 7.9 kg dose =', get_dose(7.9))\n",
    "print('Kid 10.3 kg dose =', get_dose(10.3))\n",
    "print('Kid 10.4 kg dose =', get_dose(10.4))\n",
    "print('Kid 15 kg dose =', get_dose (15))\n",
    "print('Kid is 15.9 kg dose =', get_dose(15.9))\n",
    "print('Kid is 21 kg dose =', get_dose(21))\n",
    "print('Kid is 21.2 kg dose =', get_dose(21.2))\n",
    "print('Kid is 30 kg dose =', get_dose(30))"
   ]
  },
  {
   "cell_type": "code",
   "execution_count": 115,
   "id": "7e456447-c487-4eae-9d05-a1b5943b9278",
   "metadata": {},
   "outputs": [
    {
     "name": "stdout",
     "output_type": "stream",
     "text": [
      "Grade of 98 = A+\n",
      "Grade of 97 = A\n",
      "Grade of 94 = A-\n",
      "Grade of 90 = A-\n",
      "Grade of 89 = B+\n",
      "Grade of 87 = B\n",
      "Grade of 84 = B-\n",
      "Grade of 79 = C+\n",
      "Grade of 77 = C\n",
      "Grade of 74 = C-\n",
      "Grade of 69 or less = F\n"
     ]
    }
   ],
   "source": [
    "# Create a function that tells you letter grade based on integer grade\n",
    "def letter_grade(grade):\n",
    "    if grade > 97:\n",
    "        letter = \"A+\"\n",
    "    elif grade > 94:\n",
    "        letter = \"A\"\n",
    "    elif grade > 89:\n",
    "        letter = \"A-\"\n",
    "    elif grade > 87:\n",
    "        letter = \"B+\"\n",
    "    elif grade > 84:\n",
    "        letter = \"B\"\n",
    "    elif grade > 79:\n",
    "        letter = \"B-\"\n",
    "    elif grade > 77:\n",
    "        letter = \"C+\"\n",
    "    elif grade > 74:\n",
    "        letter = \"C\"\n",
    "    elif grade > 69:\n",
    "        letter = \"C-\"\n",
    "    else:\n",
    "        letter = \"F\"\n",
    "    return letter\n",
    "\n",
    "print('Grade of 98 =', letter_grade(98))\n",
    "print('Grade of 97 =', letter_grade(97))\n",
    "print('Grade of 94 =', letter_grade(94))\n",
    "print('Grade of 90 =', letter_grade(90))\n",
    "print('Grade of 89 =', letter_grade(89))\n",
    "print('Grade of 87 =', letter_grade(87))\n",
    "print('Grade of 84 =', letter_grade(84))\n",
    "print('Grade of 79 =', letter_grade(79))\n",
    "print('Grade of 77 =', letter_grade(77))\n",
    "print('Grade of 74 =', letter_grade(74))\n",
    "print('Grade of 69 or less =', letter_grade(69))"
   ]
  },
  {
   "cell_type": "code",
   "execution_count": 116,
   "id": "3cab2c79-a58f-4b29-8c46-1316a18193b3",
   "metadata": {},
   "outputs": [
    {
     "name": "stdout",
     "output_type": "stream",
     "text": [
      "12\n",
      "18\n"
     ]
    }
   ],
   "source": [
    "def add_three_or_eight(integer):\n",
    "    if integer < 10:\n",
    "        value = integer + 3\n",
    "    else:\n",
    "        value = integer + 8\n",
    "    return value\n",
    "\n",
    "print(add_three_or_eight(9))\n",
    "print(add_three_or_eight(10))"
   ]
  },
  {
   "cell_type": "code",
   "execution_count": 117,
   "id": "f9d5bf0c-e463-4c67-9e5e-fdb93e32bfa3",
   "metadata": {},
   "outputs": [
    {
     "name": "stdout",
     "output_type": "stream",
     "text": [
      "10\n"
     ]
    }
   ],
   "source": [
    "integer = 7\n",
    "value = (integer + 3) if (integer < 10) else value (integer + 8)\n",
    "print(value)"
   ]
  },
  {
   "cell_type": "code",
   "execution_count": 118,
   "id": "c6685b96-bc95-40fd-ad8e-648c93267f54",
   "metadata": {},
   "outputs": [
    {
     "name": "stdout",
     "output_type": "stream",
     "text": [
      "<class 'str'>\n",
      "pink primose, hard\n"
     ]
    }
   ],
   "source": [
    "flowers_string = \"pink primose, hard\"\n",
    "print(type(flowers_string))\n",
    "print(flowers_string)"
   ]
  },
  {
   "cell_type": "code",
   "execution_count": 119,
   "id": "db434526-67bc-4691-9c26-bac27fe6c814",
   "metadata": {},
   "outputs": [
    {
     "name": "stdout",
     "output_type": "stream",
     "text": [
      "flowers_list contains: ['pink primrose', 'hard-leaved pocket orchid', 'canterbury bells', 'sweet pea', 'english marigold', 'tiger lily', 'moon orchid', 'bird of paradise', 'monkshood', 'globe thistle']\n",
      "\n",
      "flowers_list is datatype: <class 'list'>\n",
      "\n",
      "flowers_list contains 10 flower species\n",
      "\n"
     ]
    }
   ],
   "source": [
    "# Define list\n",
    "flowers_list = [ \"pink primrose\", \"hard-leaved pocket orchid\", \"canterbury bells\", \"sweet pea\", \"english marigold\", \"tiger lily\", \"moon orchid\", \"bird of paradise\", \"monkshood\", \"globe thistle\"]\n",
    "\n",
    "# print list and label \n",
    "print( 'flowers_list contains:', flowers_list)\n",
    "\n",
    "# blank for clarity\n",
    "print()\n",
    "\n",
    "# print type and label then blank for clarity\n",
    "print( 'flowers_list is datatype:', type( flowers_list ) )\n",
    "print()\n",
    "\n",
    "# print length and label then blank for clarity\n",
    "print( 'flowers_list contains', len( flowers_list ), 'flower species' )\n",
    "print()\n"
   ]
  },
  {
   "cell_type": "code",
   "execution_count": 120,
   "id": "462f98b7-93da-4668-8d78-8b13be8eb7af",
   "metadata": {},
   "outputs": [
    {
     "name": "stdout",
     "output_type": "stream",
     "text": [
      "Hardcover Sales for April 2000 in a retail store are as follows: [139, 128, 172, 139, 191, 168, 170]\n",
      "\n",
      "The 'hardcover_sales' variable is data type: <class 'list'>\n",
      "\n",
      "'hardcover_sales' contains 7 sales\n",
      "\n"
     ]
    }
   ],
   "source": [
    "# List the hardcover sales and label\n",
    "hardcover_sales = [ 139 , 128 , 172 , 139 , 191 , 168 , 170 ]\n",
    "\n",
    "# Print this and label and blank\n",
    "print( 'Hardcover Sales for April 2000 in a retail store are as follows:', hardcover_sales )\n",
    "print()\n",
    "\n",
    "# Print type and label and blank\n",
    "print( \"The 'hardcover_sales' variable is data type:\", type( hardcover_sales) )\n",
    "print()\n",
    "\n",
    "# Print length and label and blank\n",
    "print( \"'hardcover_sales' contains\", len( hardcover_sales), \"sales\" )\n",
    "print()\n"
   ]
  },
  {
   "cell_type": "code",
   "execution_count": 121,
   "id": "7e2cc7d3-2286-4876-b7d2-6e1fbcb732e9",
   "metadata": {},
   "outputs": [
    {
     "name": "stdout",
     "output_type": "stream",
     "text": [
      "Flowers List contains the following: ['pink primrose', 'hard-leaved pocket orchid', 'canterbury bells', 'sweet pea', 'english marigold', 'tiger lily', 'moon orchid', 'bird of paradise', 'monkshood', 'globe thistle']\n",
      "\n",
      "Flowers List contains 10 flower names\n",
      "\n",
      "First entry: pink primrose\n",
      "Second entry: hard-leaved pocket orchid\n",
      "Final entry: globe thistle\n"
     ]
    }
   ],
   "source": [
    "# Reprint the flowers list, label and blank\n",
    "print( 'Flowers List contains the following:', flowers_list)\n",
    "print()\n",
    "\n",
    "# Print length, label and blank\n",
    "print( 'Flowers List contains', len( flowers_list ), 'flower names' )\n",
    "print()\n",
    "\n",
    "# Print first entry, label\n",
    "print( 'First entry:', flowers_list[0] )\n",
    "\n",
    "# Print 2nd entry, label\n",
    "print( 'Second entry:', flowers_list[1] )\n",
    "\n",
    "# Print last entry, label\n",
    "print( 'Final entry:', flowers_list[9] )\n"
   ]
  },
  {
   "cell_type": "code",
   "execution_count": 122,
   "id": "c6662781-48fc-4121-9b49-4a106582548c",
   "metadata": {},
   "outputs": [
    {
     "name": "stdout",
     "output_type": "stream",
     "text": [
      "Hardcover sales list contains: [139, 128, 172, 139, 191, 168, 170]\n",
      "\n",
      "Hardcover sales list contains: 7 items\n",
      "\n",
      "First Entry: 139\n",
      "Second Entry: 128\n",
      "Final Entry: 170\n"
     ]
    }
   ],
   "source": [
    "\n",
    "# Hardcover sales reprint list, label, blank\n",
    "print( 'Hardcover sales list contains:', hardcover_sales )\n",
    "print()\n",
    "\n",
    "# Length, label, blank\n",
    "print( 'Hardcover sales list contains:', len( hardcover_sales ), 'items' )\n",
    "print()\n",
    "\n",
    "# First entry, label\n",
    "print( 'First Entry:', hardcover_sales[0] )\n",
    "\n",
    "# Second entry, label\n",
    "print( 'Second Entry:', hardcover_sales[1] )\n",
    "\n",
    "# Final entry, label\n",
    "print( 'Final Entry:', hardcover_sales[6] )\n"
   ]
  },
  {
   "cell_type": "code",
   "execution_count": 123,
   "id": "e45dfb3b-92ac-4172-9033-4d850b6d11d7",
   "metadata": {},
   "outputs": [
    {
     "name": "stdout",
     "output_type": "stream",
     "text": [
      "Flowers List contains: ['pink primrose', 'hard-leaved pocket orchid', 'canterbury bells', 'sweet pea', 'english marigold', 'tiger lily', 'moon orchid', 'bird of paradise', 'monkshood', 'globe thistle']\n",
      "\n",
      "Flowers List contains: 10 flower names\n",
      "\n",
      "First 3 Items: ['pink primrose', 'hard-leaved pocket orchid', 'canterbury bells']\n",
      "New Length: 10\n",
      "\n",
      "Last 2 Items: ['monkshood', 'globe thistle']\n",
      "New Length: 10\n"
     ]
    }
   ],
   "source": [
    "\n",
    "# Reprint flower list, label, blank\n",
    "print( 'Flowers List contains:', flowers_list )\n",
    "print()\n",
    "\n",
    "# Reprint leng, label, blank\n",
    "print( 'Flowers List contains:', len(flowers_list), 'flower names')\n",
    "print()\n",
    "\n",
    "# Slice the first 3 out, label\n",
    "print( 'First 3 Items:', flowers_list[:3] )\n",
    "\n",
    "# Print new length, label and blank\n",
    "print( 'New Length:', len(flowers_list) )\n",
    "print()\n",
    "\n",
    "# Slice last 2 out, label\n",
    "print( 'Last 2 Items:', flowers_list[-2:] )\n",
    "\n",
    "# Print new length\n",
    "print( 'New Length:', len(flowers_list) )\n",
    "\n"
   ]
  },
  {
   "cell_type": "code",
   "execution_count": 124,
   "id": "104f9144-05bc-4a2e-85bf-1f544f013e1b",
   "metadata": {},
   "outputs": [
    {
     "name": "stdout",
     "output_type": "stream",
     "text": [
      "Hardcover sales contains: [139, 128, 172, 139, 191, 168, 170]\n",
      "\n",
      "First 3 Entries: [139, 128, 172]\n",
      "Last 2 Entries: [168, 170]\n"
     ]
    }
   ],
   "source": [
    "\n",
    "# Reprint hardcover sales, label and blank\n",
    "print( 'Hardcover sales contains:', hardcover_sales)\n",
    "print()\n",
    "\n",
    "# Slice out first 3, label\n",
    "print( 'First 3 Entries:', hardcover_sales[:3] )\n",
    "\n",
    "# Slice out last 2, label\n",
    "print( 'Last 2 Entries:', hardcover_sales[-2:] )\n"
   ]
  },
  {
   "cell_type": "code",
   "execution_count": 125,
   "id": "fe01dedb-ea65-4943-a785-1871d9aaa668",
   "metadata": {},
   "outputs": [
    {
     "name": "stdout",
     "output_type": "stream",
     "text": [
      "Flowers List Contains: ['pink primrose', 'hard-leaved pocket orchid', 'canterbury bells', 'sweet pea', 'english marigold', 'tiger lily', 'moon orchid', 'bird of paradise', 'monkshood', 'globe thistle']\n",
      "\n",
      "FLowers List Original Length = 10\n",
      "\n",
      "List withOUT Globe Thistle: ['pink primrose', 'hard-leaved pocket orchid', 'canterbury bells', 'sweet pea', 'english marigold', 'tiger lily', 'moon orchid', 'bird of paradise', 'monkshood']\n",
      "\n",
      "New Length withOUT Globe Thistle = 9\n"
     ]
    }
   ],
   "source": [
    "# Reprint flowers list, label, blank\n",
    "print( 'Flowers List Contains:', flowers_list )\n",
    "print()\n",
    "\n",
    "# Print original length of flowers list, label and blank\n",
    "print( 'FLowers List Original Length =', len( flowers_list ) )\n",
    "print()\n",
    "\n",
    "# Remove Globethistle\n",
    "flowers_list.remove(\"globe thistle\")\n",
    "\n",
    "# Print new list, label, blank\n",
    "print( 'List withOUT Globe Thistle:', flowers_list)\n",
    "print()\n",
    "\n",
    "# Print new length, label and blank\n",
    "print( 'New Length withOUT Globe Thistle =', len( flowers_list ) )\n"
   ]
  },
  {
   "cell_type": "code",
   "execution_count": 126,
   "id": "f5122cd4-08e3-405c-b385-a145a5e53921",
   "metadata": {},
   "outputs": [
    {
     "name": "stdout",
     "output_type": "stream",
     "text": [
      "randomfacts contains: [True, False, True, True]\n",
      "Original Length = 4\n",
      "Without 1st True: [False, True, True]\n",
      "New Length = 3\n"
     ]
    }
   ],
   "source": [
    "\n",
    "# Create Boolean list\n",
    "randomfacts = [ True, False, True, True ]\n",
    "print('randomfacts contains:', randomfacts )\n",
    "print('Original Length =', len(randomfacts))\n",
    "\n",
    "# Remove first true\n",
    "randomfacts.remove(True)\n",
    "print('Without 1st True:', randomfacts)\n",
    "print('New Length =', len(randomfacts) )\n"
   ]
  },
  {
   "cell_type": "code",
   "execution_count": 128,
   "id": "8c934383-61b0-4ec4-a020-64d134eeef47",
   "metadata": {},
   "outputs": [
    {
     "name": "stdout",
     "output_type": "stream",
     "text": [
      "Current flowers list contains: ['pink primrose', 'hard-leaved pocket orchid', 'canterbury bells', 'sweet pea', 'english marigold', 'tiger lily', 'moon orchid', 'bird of paradise', 'monkshood', 'snap dragon']\n",
      "\n",
      "Current length = 10\n",
      "\n",
      "\n",
      "New Flowers List with Snap Dragon Added: ['pink primrose', 'hard-leaved pocket orchid', 'canterbury bells', 'sweet pea', 'english marigold', 'tiger lily', 'moon orchid', 'bird of paradise', 'monkshood', 'snap dragon', 'snap dragon']\n",
      "\n",
      "New length = 11\n"
     ]
    }
   ],
   "source": [
    "print('Current flowers list contains:', flowers_list)\n",
    "print()\n",
    "print('Current length =', len(flowers_list))\n",
    "print()\n",
    "print()\n",
    "flowers_list.append(\"snap dragon\")\n",
    "print('New Flowers List with Snap Dragon Added:', flowers_list)\n",
    "print()\n",
    "print('New length =', len(flowers_list) )\n"
   ]
  },
  {
   "cell_type": "code",
   "execution_count": 1,
   "id": "437751f0-2e72-4283-b639-ba2c94d282cd",
   "metadata": {},
   "outputs": [],
   "source": [
    "import math\n",
    "result = math.sqrt(6)"
   ]
  },
  {
   "cell_type": "code",
   "execution_count": 2,
   "id": "5d406d90-19f2-4ebf-8707-b63bc079cf60",
   "metadata": {},
   "outputs": [
    {
     "name": "stdout",
     "output_type": "stream",
     "text": [
      "2.449489742783178\n"
     ]
    }
   ],
   "source": [
    "print(result)\n"
   ]
  },
  {
   "cell_type": "code",
   "execution_count": 3,
   "id": "ec838f0e-3b36-4a9b-9963-4c56fa5f6705",
   "metadata": {},
   "outputs": [
    {
     "data": {
      "text/plain": [
       "36"
      ]
     },
     "execution_count": 3,
     "metadata": {},
     "output_type": "execute_result"
    }
   ],
   "source": [
    "6*6\n"
   ]
  },
  {
   "cell_type": "code",
   "execution_count": 4,
   "id": "09d4feb9-9363-4549-8fce-753ea8bacbed",
   "metadata": {},
   "outputs": [
    {
     "data": {
      "text/plain": [
       "0.38461538461538464"
      ]
     },
     "execution_count": 4,
     "metadata": {},
     "output_type": "execute_result"
    }
   ],
   "source": [
    "15/39"
   ]
  },
  {
   "cell_type": "code",
   "execution_count": null,
   "id": "c8a76e0d-c60f-4375-b605-313a97c536df",
   "metadata": {},
   "outputs": [],
   "source": []
  }
 ],
 "metadata": {
  "kernelspec": {
   "display_name": "Python 3 (ipykernel)",
   "language": "python",
   "name": "python3"
  },
  "language_info": {
   "codemirror_mode": {
    "name": "ipython",
    "version": 3
   },
   "file_extension": ".py",
   "mimetype": "text/x-python",
   "name": "python",
   "nbconvert_exporter": "python",
   "pygments_lexer": "ipython3",
   "version": "3.11.5"
  }
 },
 "nbformat": 4,
 "nbformat_minor": 5
}
