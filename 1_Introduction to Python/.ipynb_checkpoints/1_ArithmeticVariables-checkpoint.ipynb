{
 "cells": [
  {
   "cell_type": "markdown",
   "id": "6084d75e",
   "metadata": {},
   "source": [
    "# Introduction to Programming Kaggle Course\n",
    "#### Notes and practice from course\n",
    "###### <u>*The following rules for references apply in markdown notes*<u>\n",
    "###### - *Things in \"quotes\" in markdown are direct quotes from ***Coding for Beginner's In Easy Steps 2nd Edition*** book*\n",
    "###### - *Things in 'quotes' in markdown are direct quotes from ***Kaggle Course*** okay*"
   ]
  },
  {
   "cell_type": "markdown",
   "id": "65829808",
   "metadata": {},
   "source": [
    "# <u>**Arithmetic and Variables**<u>"
   ]
  },
  {
   "cell_type": "markdown",
   "id": "58e316e8-9608-4d5d-978d-609d69ab39d3",
   "metadata": {},
   "source": [
    "## **Printing**"
   ]
  },
  {
   "cell_type": "code",
   "execution_count": 1,
   "id": "f377d800-d0a6-4675-8105-2d6ca1dcbc75",
   "metadata": {},
   "outputs": [
    {
     "name": "stdout",
     "output_type": "stream",
     "text": [
      "Hello World!\n"
     ]
    }
   ],
   "source": [
    "# Remember all commands are case-sensitive in python\n",
    "# Ask computer to print message for us by writing the message inside the parentheses of the print() commands\n",
    "# Message (also called a text string) within the ( ) must have \" \" or ' ' around it\n",
    "# Standard first thing you print in a language is hello world\n",
    "print('Hello World!')"
   ]
  },
  {
   "cell_type": "markdown",
   "id": "b18933cb-9797-4ff4-984f-c343a50ed874",
   "metadata": {},
   "source": [
    "## **Arithmetic**\n",
    "\n",
    "| Operator | Operation |\n",
    "| ---- | --- |\n",
    "| **+** | Addition |\n",
    "| **-** | Subtraction |\n",
    "| * | Multiplication |\n",
    "| **/** | Division |\n",
    "| **%** | Modulus (Remainder) |\n",
    "| **//** | Floor Division |\n",
    "| ** | Exponent |\n",
    "\n",
    "- Order of operations is the same as **PEMDAS**\n",
    ">\n",
    ">\n",
    "| Letter | Meaning |\n",
    "| --- | --- |\n",
    "| **P** | **P**arentheses |\n",
    "| **E** | **E**xponents |\n",
    "| **M** | **M**ultiplication |\n",
    "| **D** | **D**ivision |\n",
    "| **A** | **A**ddition |\n",
    "| **S** | **S**ubtraction |\n",
    ">\n",
    ">\n",
    "\n",
    "#### ***Operands***\n",
    "- \"***Values*** used with ***operators*** to form ***expressions*** are called ***OPERANDS***\n",
    "- In the ***expression 2 + 3*** the numerical ***values*** *2* and *3* are the ***Operands***\n",
    "\n",
    "| Value | Name |\n",
    "| ---- | ---- |\n",
    "| **2 + 3** | Expression |\n",
    "| in *2 + 3* name what **+** is called | Operator = Oper**ATOR** |\n",
    "| in *2 + 3* name what **2** is called | Operand = Oper**AND** |"
   ]
  },
  {
   "cell_type": "markdown",
   "id": "a3178884-50d6-4ea0-883d-8344d1783629",
   "metadata": {},
   "source": [
    "### **Addition**"
   ]
  },
  {
   "cell_type": "code",
   "execution_count": 2,
   "id": "6389a283-d800-4438-a6bf-c283f45da4b3",
   "metadata": {},
   "outputs": [
    {
     "name": "stdout",
     "output_type": "stream",
     "text": [
      "3\n"
     ]
    }
   ],
   "source": [
    "# Addition is done as follows\n",
    "print(1 + 2)"
   ]
  },
  {
   "cell_type": "code",
   "execution_count": 3,
   "id": "264f3d5a-7343-4cec-a0b7-64c5c816311b",
   "metadata": {
    "tags": []
   },
   "outputs": [
    {
     "name": "stdout",
     "output_type": "stream",
     "text": [
      "1 + 2\n"
     ]
    }
   ],
   "source": [
    "# If you say print(\"1 + 2\") with quotes it will think you are saying the message \"1 + 2\"\n",
    "# See for yourself\n",
    "print(\"1 + 2\")"
   ]
  },
  {
   "cell_type": "markdown",
   "id": "a9b1ed87-b07a-4c2b-9e0c-c8759cc8cba2",
   "metadata": {},
   "source": [
    "### **Subtraction**"
   ]
  },
  {
   "cell_type": "code",
   "execution_count": 4,
   "id": "983d96c1-e629-4eeb-bdb0-4cf5c264b367",
   "metadata": {},
   "outputs": [
    {
     "name": "stdout",
     "output_type": "stream",
     "text": [
      "4\n"
     ]
    }
   ],
   "source": [
    "# Subtraction is done as follows\n",
    "print(9 - 5)"
   ]
  },
  {
   "cell_type": "markdown",
   "id": "b82aa91f-bf85-4f44-807b-7fb68fca1e7b",
   "metadata": {},
   "source": [
    "### **Multiplication**"
   ]
  },
  {
   "cell_type": "code",
   "execution_count": 5,
   "id": "e1c153a9-6e56-4296-b46f-fe780434eb1e",
   "metadata": {},
   "outputs": [
    {
     "name": "stdout",
     "output_type": "stream",
     "text": [
      "8\n"
     ]
    }
   ],
   "source": [
    "# Multiplication is done as follows\n",
    "print(2 * 4)"
   ]
  },
  {
   "cell_type": "markdown",
   "id": "0f477729-56ac-4767-9ab1-79df7dbd6268",
   "metadata": {},
   "source": [
    "### **Division**"
   ]
  },
  {
   "cell_type": "code",
   "execution_count": 6,
   "id": "4d75b99a-81f4-4f43-ae8d-74553fdf0062",
   "metadata": {},
   "outputs": [
    {
     "name": "stdout",
     "output_type": "stream",
     "text": [
      "2.0\n"
     ]
    }
   ],
   "source": [
    "# Division is done as follows. This divides the 1st number by the 2nd number\n",
    "print(6 / 3)"
   ]
  },
  {
   "cell_type": "markdown",
   "id": "66159ce0-f242-4b8a-8d13-abb9f9ad0dfe",
   "metadata": {},
   "source": [
    "### **Modulus (Remainder)**"
   ]
  },
  {
   "cell_type": "code",
   "execution_count": 7,
   "id": "87b033ef-b82d-42e4-b5fc-a1b23c173955",
   "metadata": {
    "tags": []
   },
   "outputs": [
    {
     "name": "stdout",
     "output_type": "stream",
     "text": [
      "0\n",
      "4.666666666666667\n",
      "2\n"
     ]
    }
   ],
   "source": [
    "# Remainder operator divides the 1st number by the 2nd number and returns the remainder of the operation\n",
    "# If there is no remainder then the output will be 0\n",
    "print(8 % 2)\n",
    "\n",
    "# If it does not divide evenly it will output the remainder\n",
    "# Here I did the division so you know the answer of the full equation\n",
    "# Then I did the modulus to show that the remainder is 2 which is where the floating decimel comes after the 4\n",
    "print(14 / 3)\n",
    "print(14 % 3)"
   ]
  },
  {
   "cell_type": "markdown",
   "id": "1db4dd9a-6b0b-4546-8bdb-ffa891260287",
   "metadata": {},
   "source": [
    "#### <u>***Modulus helps you determine if a number is odd or even***<u>\n",
    "- If you divide a number by 2 with the '%' then you can determine if its odd or even from the output\n",
    "- 'print(x % 2)' \n",
    "\n",
    "| Even Number % 2 | Result |\n",
    "| ---- | ---- |\n",
    "| print(even number % 2) | 0 |\n",
    "| printe(odd number % 2) | 1 |"
   ]
  },
  {
   "cell_type": "code",
   "execution_count": 8,
   "id": "41eb0620-428e-4c7c-9d1e-69d6f031d5d8",
   "metadata": {
    "tags": []
   },
   "outputs": [
    {
     "name": "stdout",
     "output_type": "stream",
     "text": [
      "0\n"
     ]
    }
   ],
   "source": [
    "# Prove 4 is even. If output is 0 then it is even\n",
    "print(4 % 2)"
   ]
  },
  {
   "cell_type": "code",
   "execution_count": 9,
   "id": "367bd9ef-5326-4d80-84b8-6d968535e520",
   "metadata": {
    "tags": []
   },
   "outputs": [
    {
     "name": "stdout",
     "output_type": "stream",
     "text": [
      "1\n"
     ]
    }
   ],
   "source": [
    "# Prove 3 is odd. If output is 1 then it is odd\n",
    "print(3 % 2)"
   ]
  },
  {
   "cell_type": "markdown",
   "id": "f4bd9800-d3ce-4e3f-8282-541831518ed3",
   "metadata": {},
   "source": [
    "### **Floor Division**\n",
    "Performs just like division **'/'** but it truncates (*removes*) the result at the decimal point\n",
    "\n",
    "This removes any **floating point part** from the resulting number\n",
    "\n",
    "Example will show you what output is for normal division then how it differs with floor division\n",
    "- You can see that **normal division** has a ***long decimal float*** at the end ( = **2.6666 etc**)\n",
    "- While **floor division** just has the **whole integer** and ***ignores the decimal*** ( = **2**) but it doesn't round it so its not accurate answer to the division question\n",
    "    - Its helpful when want to split things up in equal parts like 7 apples among 3 people\n",
    "    - Its also helpful for indexing lists or arrys when you want to find the position of an element (*discussed in other future lessons*)"
   ]
  },
  {
   "cell_type": "code",
   "execution_count": 10,
   "id": "10a1d591-56fd-4720-ae09-56cf4f21470c",
   "metadata": {
    "tags": []
   },
   "outputs": [
    {
     "name": "stdout",
     "output_type": "stream",
     "text": [
      "2.6666666666666665\n"
     ]
    }
   ],
   "source": [
    "# Output for normal division will appear here\n",
    "print(8 / 3)"
   ]
  },
  {
   "cell_type": "code",
   "execution_count": 11,
   "id": "d8de62de-73a6-4b53-a23c-d077ac1f908d",
   "metadata": {
    "tags": []
   },
   "outputs": [
    {
     "name": "stdout",
     "output_type": "stream",
     "text": [
      "2\n"
     ]
    }
   ],
   "source": [
    "# Output for floor division will appear here\n",
    "print(8 // 3)"
   ]
  },
  {
   "cell_type": "code",
   "execution_count": 12,
   "id": "8e1d4e2d-11f5-461d-a82b-be7c212200fc",
   "metadata": {},
   "outputs": [
    {
     "name": "stdout",
     "output_type": "stream",
     "text": [
      "How many apples does each person get: 2\n",
      "How many apples is left over?: 1\n"
     ]
    }
   ],
   "source": [
    "# Helpful when want to split things up in equal parts\n",
    "# How many apples does each person get if there are 7 apples and 3 people? \n",
    "print('How many apples does each person get:', 7 // 3)\n",
    "\n",
    "# Floor division showed that each person got 2 apples\n",
    "# Using Modulus you can then see how many apples are left over\n",
    "print('How many apples is left over?:', 7 % 3)"
   ]
  },
  {
   "cell_type": "code",
   "execution_count": null,
   "id": "e67ff124-1214-483e-90e0-16e23e95ee50",
   "metadata": {},
   "outputs": [],
   "source": []
  },
  {
   "cell_type": "markdown",
   "id": "49de61ae-83f5-40c4-8deb-c53a0f950710",
   "metadata": {},
   "source": [
    "### **Exponent**"
   ]
  },
  {
   "cell_type": "code",
   "execution_count": 13,
   "id": "b51f4220-2510-4018-91e8-2a6d39e7a89d",
   "metadata": {},
   "outputs": [
    {
     "name": "stdout",
     "output_type": "stream",
     "text": [
      "9\n"
     ]
    }
   ],
   "source": [
    "# Exponent is done as follows\n",
    "print(3 ** 2)"
   ]
  },
  {
   "cell_type": "markdown",
   "id": "fa42a6e2-9080-471b-964e-f58660c673f1",
   "metadata": {},
   "source": [
    "### **Order of Operations**"
   ]
  },
  {
   "cell_type": "code",
   "execution_count": 14,
   "id": "75890396-9a44-4028-84db-25ef4c775ea0",
   "metadata": {},
   "outputs": [
    {
     "name": "stdout",
     "output_type": "stream",
     "text": [
      "196.0\n"
     ]
    }
   ],
   "source": [
    "# Order of operations in Python follows the PEMDAS rule = Parentheses Exponents Multiplication Division Addition Subtraction\n",
    "# Control order of operations in long calculations with parentheses\n",
    "print(((1 + 3) * (9 - 2) / 2) ** 2)"
   ]
  },
  {
   "cell_type": "code",
   "execution_count": null,
   "id": "6e31bdd9-f127-46de-8ad7-585694ce70a7",
   "metadata": {},
   "outputs": [],
   "source": []
  },
  {
   "cell_type": "markdown",
   "id": "bee06138-c2e9-4c5f-99e4-379a98a79d0a",
   "metadata": {},
   "source": [
    "## **Comments**"
   ]
  },
  {
   "cell_type": "markdown",
   "id": "7f5f2901-f26a-4283-a1a8-23aee1850342",
   "metadata": {},
   "source": [
    "This is a comment that helps to annotate your code to help other people to understand your code\n",
    "    1. Once Python sees the hastag and space then it ignores what comes after it\n",
    "    2. Python language is very strict and is stricter than a human listener and if it doesn't understand a code it will do an error\n",
    "    3. Example of an error when you do inaccurate code that is not in the Python language, the computer can't understand you so it outputs and error\n",
    "\n",
    "    - Multiply 3 by 2\n",
    "\n",
    "Will output an error and will stop the run of the notebook so even if I choose run all cells it will halt at this cell if a code fcell so cannot have erro's in my notebook to prove a lesson sadly"
   ]
  },
  {
   "cell_type": "markdown",
   "id": "42fe3d8a-1c5b-4c9a-9017-b2aadc4d7e00",
   "metadata": {},
   "source": [
    "### **Uncommenting**\n",
    "= The term for the action of when you remove the **#** from in front of a ***comment*** in a ***code cell*** "
   ]
  },
  {
   "cell_type": "markdown",
   "id": "3ab6242c-a5b4-4710-b40c-bb33f78b9a03",
   "metadata": {},
   "source": [
    "## **Variables**"
   ]
  },
  {
   "cell_type": "markdown",
   "id": "2032566c-7e15-43f2-84cc-cfd7eadc8d87",
   "metadata": {},
   "source": [
    "You use variables as a way to save the result of a 'print()' to work with it later\n",
    "\n",
    "- A ***variable*** is a **simple data structure** that is essentially a box that you use to store ***data values***\n",
    "\n",
    "- \"When creating a ***variable*** you give it a name of your choice -*subject to the naming conventions of the programming language*- that acts like a label on a box\"\n",
    "\n",
    "- \"The ***data item*** stored within the ***variable*** can subsequently be retrieved using its given name\"\n",
    "\n",
    "\n",
    "Allows only a **SINGLE Item of Data** to be stored for use by a program\n",
    "\n",
    "\n",
    "You **name** the ***variable*** then you use the **=** to **ASSIGN** the **VALUE** that you want the ***variable*** you just named to have. \n",
    "- AKA the **=** assigns the ***data item*** to the ***variable***\n",
    "    "
   ]
  },
  {
   "cell_type": "code",
   "execution_count": null,
   "id": "2876a7c1-d57c-4ad9-a729-ccd140efe42b",
   "metadata": {},
   "outputs": [],
   "source": []
  },
  {
   "cell_type": "markdown",
   "id": "b1e4e2ab-5cab-449a-af8f-40fbef165503",
   "metadata": {},
   "source": [
    "#### <u>**How do you choose variable names**<u>\n",
    "    \n",
    "- Ideally short\n",
    "- Yet descriptive\n",
    "    - \"reflect the nature of the **variable** content\"\n",
    "- Can **NOT** have spaces\n",
    "- Can **ONLY** include **LETTERS**, **Numbers** and **Underscores**\n",
    "| Naming Rule | Example |\n",
    "| ----------- | ------- |\n",
    "| Can**NOT** contain **SYMBOLS** of any kind in any location of the variable name | %, $, #, @, !, etc |\n",
    "| Can**NOT** contain **Arithmetic OPERATORS** | a + b * c |\n",
    "- Have to start with **ONLY** a **LETTER** or **UNDERSCORE**\n",
    "| Naming Rule | Example |\n",
    "| --- | ----|\n",
    "| CANNOT Start with a **NUMBER** | **2bad** |\n",
    "| CAN Start with a **LETTER** | **good1**\n",
    "| CAN Start with an **UNDERSCORE** | **_good** |\n",
    "| ONLY CONTAINS **NUMBERS**, **LETTERS** and/or **UNDERSCORES** | **is_okay** |\n",
    "- Can **NOT** be a **keyword** *(List of Keywords below)*\n",
    "- Case sensitive \n",
    "    - **'Variable_Name'** does **NOT =** **'Variable_name'**\n",
    "    "
   ]
  },
  {
   "cell_type": "code",
   "execution_count": 15,
   "id": "64c7c633-6c03-4b2a-9610-1258bc3fbc26",
   "metadata": {
    "tags": []
   },
   "outputs": [
    {
     "name": "stdout",
     "output_type": "stream",
     "text": [
      "\n",
      "Here is a list of the Python keywords.  Enter any keyword to get more help.\n",
      "\n",
      "False               class               from                or\n",
      "None                continue            global              pass\n",
      "True                def                 if                  raise\n",
      "and                 del                 import              return\n",
      "as                  elif                in                  try\n",
      "assert              else                is                  while\n",
      "async               except              lambda              with\n",
      "await               finally             nonlocal            yield\n",
      "break               for                 not                 \n",
      "\n"
     ]
    }
   ],
   "source": [
    "help('keywords')"
   ]
  },
  {
   "cell_type": "code",
   "execution_count": 16,
   "id": "8adb2d5c-59b5-4fe5-a3dc-ac319837f74c",
   "metadata": {},
   "outputs": [
    {
     "name": "stdout",
     "output_type": "stream",
     "text": [
      "data item I want stored\n"
     ]
    }
   ],
   "source": [
    "# Data can be stored in a variable by 'variable name = data' you want stored in that variable\n",
    "# For this example will use generic placeholders\n",
    "Variable_Name = 'data item I want stored'\n",
    "print(Variable_Name)"
   ]
  },
  {
   "cell_type": "code",
   "execution_count": null,
   "id": "de85faa5-7994-45dd-b939-563510a58e44",
   "metadata": {},
   "outputs": [],
   "source": []
  },
  {
   "cell_type": "markdown",
   "id": "61d71e59-e884-4b98-b886-9800df52f39b",
   "metadata": {},
   "source": [
    "#### <u>**What *types of data* (DATA TYPES) can be stored in a *variable*?**<u>\n",
    "\n",
    "- Integer whole numbers = ***integer***\n",
    "- Floating-point numbers = ***float***\n",
    "    - With a fractional part following the decimal point) \n",
    "- ***Text strings*** \n",
    "    - MUST be enclosed within **\" \"*** or **' '** aka quote marks to denote the start and end of that particular string\n",
    "- ***Boolean values*** \n",
    "    - **True** or **False** "
   ]
  },
  {
   "cell_type": "code",
   "execution_count": null,
   "id": "1806b826-2979-4fc2-8045-adee2db04576",
   "metadata": {},
   "outputs": [],
   "source": []
  },
  {
   "cell_type": "code",
   "execution_count": 17,
   "id": "d9cbcf22-ace7-44fa-b168-31ad702e8fc3",
   "metadata": {
    "tags": []
   },
   "outputs": [],
   "source": [
    "# Create a variable called test_var\n",
    "# Assign this variable the value that we get when we add 5 to 4\n",
    "test_var = 4 + 5"
   ]
  },
  {
   "cell_type": "code",
   "execution_count": 18,
   "id": "72e40ac9-9ad7-4399-99ae-65cf63fb0ac9",
   "metadata": {
    "tags": []
   },
   "outputs": [
    {
     "name": "stdout",
     "output_type": "stream",
     "text": [
      "9\n"
     ]
    }
   ],
   "source": [
    "# Print the value of test_var with print() \n",
    "# This stores the result in the variable test_var for furture use\n",
    "print(test_var)"
   ]
  },
  {
   "cell_type": "code",
   "execution_count": null,
   "id": "0c03b71d-6780-4431-9450-188421ebf5d4",
   "metadata": {},
   "outputs": [],
   "source": []
  },
  {
   "cell_type": "markdown",
   "id": "8daf48dc-9f09-4fe9-88c5-b2fc00b61255",
   "metadata": {},
   "source": [
    "### <u>**Variable MANIPULATION**<u>"
   ]
  },
  {
   "cell_type": "markdown",
   "id": "ac78d244-0268-441c-aefa-3b2651e7dbb0",
   "metadata": {},
   "source": [
    "The reason a ***variable*** is called a ***variable*** is because the data that it stores can be *variable*\n",
    "- Once you assign ***data*** to a ***variable*** you can subsequently assigned it to be a different value (a different piece of data to store)\n",
    "    - \"Its value can **VARY** as the program proceeds -- hence the term ***\"variable\"***.\"\n"
   ]
  },
  {
   "cell_type": "markdown",
   "id": "f212f24c-79ee-4db1-a810-a51d4ed638be",
   "metadata": {},
   "source": [
    "#### a. **Variable REASSIGNMENT**\n",
    "1. First you must ***\"initialize\"*** the variable, aka assign it an initial value\n",
    "    - Otherwise it will remain undefined and the interpreter will report a \"not defined error\"\n",
    "\n",
    "2. You can then \"change the ***value*** assigned to a ***variable*** by overriding the previous value which will be described below"
   ]
  },
  {
   "cell_type": "markdown",
   "id": "3206156a-a734-43ca-883c-967c9a5a8bb1",
   "metadata": {
    "tags": []
   },
   "source": [
    "##### **Example 1**"
   ]
  },
  {
   "cell_type": "code",
   "execution_count": 19,
   "id": "ea2a8270-cf42-4c2d-8718-44d42499ae77",
   "metadata": {
    "tags": []
   },
   "outputs": [
    {
     "name": "stdout",
     "output_type": "stream",
     "text": [
      "3\n",
      "100\n"
     ]
    }
   ],
   "source": [
    "# When run the initialized value for the variable will output first then the 2nd\n",
    "# Here is an example of it all in one code cell\n",
    "\n",
    "# STEP 1: INITIALIZATION: Set value of th e varibale 'my_var2' to be 3\n",
    "my_var2 = 3\n",
    "\n",
    "# STEP 2: Print the value assigned to 'my_var2'\n",
    "print(my_var2)\n",
    "\n",
    "# STEP 3: Change the values assigned to 'my_var2' \n",
    "my_var2 = 100\n",
    "\n",
    "# STEP 4: Print the new value assigned to 'my_var2'\n",
    "print(my_var2)"
   ]
  },
  {
   "cell_type": "code",
   "execution_count": null,
   "id": "39fc02a9-a06e-4c91-a518-66ace612d69c",
   "metadata": {},
   "outputs": [],
   "source": []
  },
  {
   "cell_type": "markdown",
   "id": "fe58a775-bd2c-4708-9b39-7c5f1070d1bd",
   "metadata": {},
   "source": [
    "##### **Example 2**\n",
    "This example is used to show you that\n",
    "- so the initialization and the reassignment does not have to be in the same code cell before running\n",
    "- can even have each aspect in its own code cell and ran\n",
    "- Example below has the initialization and print in one code cell and the reassigment and print in another"
   ]
  },
  {
   "cell_type": "code",
   "execution_count": 20,
   "id": "895ad01c-e042-4703-b585-ebf6ba4477a2",
   "metadata": {
    "tags": []
   },
   "outputs": [
    {
     "name": "stdout",
     "output_type": "stream",
     "text": [
      "3\n"
     ]
    }
   ],
   "source": [
    "# STEP 1: INITIALIZATION: Set value of new variable 'my_var' to be 3\n",
    "my_var = 3\n",
    "\n",
    "# STEP 2: Print the value assigned to my_var\n",
    "print(my_var)"
   ]
  },
  {
   "cell_type": "code",
   "execution_count": 21,
   "id": "b48ee579-98c6-41bc-bfa8-e463ff542ad6",
   "metadata": {
    "tags": []
   },
   "outputs": [
    {
     "name": "stdout",
     "output_type": "stream",
     "text": [
      "100\n"
     ]
    }
   ],
   "source": [
    "# STEP 3: Change the value of the variable to 100\n",
    "my_var = 100\n",
    "\n",
    "# STEP 4: Print the new value assigned to my_var\n",
    "print(my_var)"
   ]
  },
  {
   "cell_type": "code",
   "execution_count": null,
   "id": "871bc172-4969-46e9-8193-b73e12d85907",
   "metadata": {},
   "outputs": [],
   "source": []
  },
  {
   "cell_type": "markdown",
   "id": "221090f2-02e0-42f8-8ef6-049169c66566",
   "metadata": {},
   "source": [
    "#### b. **Variable Permanency**\n",
    "- 'in general whenever you define a variable in a code cell, all the code cells that follow also have access to the variable'"
   ]
  },
  {
   "cell_type": "markdown",
   "id": "19afca1a-3318-46bb-8868-732036511a36",
   "metadata": {},
   "source": [
    "##### **Example 1**\n",
    "This example is used to show that the variable created early on in this notebook called 'test_var' \n",
    "- Still maintains its output all these code cells later. That output was 9.\n",
    "\n",
    "- Also showing that the new value for the reassigned 'my_var' is printed when you print it after reassigning it just a code cell earlier from 3 to be 100"
   ]
  },
  {
   "cell_type": "code",
   "execution_count": 22,
   "id": "16007a19-6844-40e1-8fa6-828ddc07a633",
   "metadata": {
    "tags": []
   },
   "outputs": [
    {
     "name": "stdout",
     "output_type": "stream",
     "text": [
      "9\n",
      "100\n"
     ]
    }
   ],
   "source": [
    "print(test_var)\n",
    "print(my_var)"
   ]
  },
  {
   "cell_type": "code",
   "execution_count": null,
   "id": "da5ab74d-6018-4596-a5f9-c79188fc505f",
   "metadata": {},
   "outputs": [],
   "source": []
  },
  {
   "cell_type": "markdown",
   "id": "ec62da91-83ed-4328-adde-250c3c82ca5c",
   "metadata": {},
   "source": [
    "#### c. **Multiple Variables Initialized with common value**\n",
    "- \"Multiple ***variables*** can be ***initialized*** with a **common value** in a **SINGLE Statement**\n",
    "- This is achieved by using a sequence of **'='** ***assignments***\n",
    "- Example is below in the following code cell"
   ]
  },
  {
   "cell_type": "code",
   "execution_count": 23,
   "id": "43aff2ab-6786-4b17-b50f-b7bb4fad3abe",
   "metadata": {
    "tags": []
   },
   "outputs": [
    {
     "name": "stdout",
     "output_type": "stream",
     "text": [
      "a = 8\n",
      "b = 8\n",
      "c = 8\n"
     ]
    }
   ],
   "source": [
    "# Initialize variables named \"a\", \"b\", and \"c\" each with the numberic value of 8 as follows:\n",
    "a = b = c = 8\n",
    "\n",
    "# Print each of them to show that it worked\n",
    "# Also provide a text string in front to prove they are individually different outputs\n",
    "print('a =', a)\n",
    "print('b =', b)\n",
    "print('c =', c)"
   ]
  },
  {
   "cell_type": "code",
   "execution_count": null,
   "id": "0be1fd73-5bb0-4548-a718-a2411bcae384",
   "metadata": {},
   "outputs": [],
   "source": []
  },
  {
   "cell_type": "markdown",
   "id": "45e20b07-f4a4-46e3-9605-3b3500ebcc36",
   "metadata": {},
   "source": [
    "#### **Example combining everything learned above including variable manipulation lessons \"a.\" thru \"c.\" above**\n",
    "Example provided in ***Coding for Beginners In Easy Steps book***"
   ]
  },
  {
   "cell_type": "code",
   "execution_count": 24,
   "id": "fa7010df-5279-48ba-ad32-4fb4169c5473",
   "metadata": {
    "tags": []
   },
   "outputs": [
    {
     "name": "stdout",
     "output_type": "stream",
     "text": [
      "Original = 8\n",
      "Float = 3.142\n",
      "Text String = Coding for Beginners in easy steps\n",
      "Boolean Value = True\n"
     ]
    }
   ],
   "source": [
    "# (1) Initialize a new variable called \"var\" to store a whole (integer) number \"8\"\n",
    "var = 8\n",
    "\n",
    "# (2) Add statement to display the stored integer value\n",
    "# Provide text string within it to help output be easy to link to this, do so for all\n",
    "print('Original =', var)\n",
    "\n",
    "# (3) Assign a new floating-point (float) number to the variable, then add a statement to display the stored float value\n",
    "var = 3.142\n",
    "print('Float =', var)\n",
    "\n",
    "# (4) Now assign a text string to the variable, then add a statement to display the stroed string value\n",
    "var = 'Coding for Beginners in easy steps'\n",
    "print('Text String =', var)\n",
    "\n",
    "# (5) Assign a logical truth value to the variable, then add a statement to display the stored Boolean value\n",
    "var = True\n",
    "print('Boolean Value =', var)\n",
    "\n",
    "# (6) Now run the entire code cell to see the combined output and ensure it matches what is in the book"
   ]
  },
  {
   "cell_type": "code",
   "execution_count": null,
   "id": "3eb9ade1-1300-4de1-80ce-1a46672034bf",
   "metadata": {},
   "outputs": [],
   "source": []
  },
  {
   "cell_type": "markdown",
   "id": "e014c9ad-8501-40d5-8b94-ea0c5eab633a",
   "metadata": {},
   "source": [
    "#### d. **Using Multiple Variables**\n",
    "Can use multiple variables in a code\n",
    "- This is useful when you have to do long calculation with multiple inputs"
   ]
  },
  {
   "cell_type": "markdown",
   "id": "64c7b033-b7aa-4daf-9d22-0b427adea4c0",
   "metadata": {},
   "source": [
    "##### **Example 1**: Calculating number of seconds in 4 years\n",
    "- This calculation uses five inputs\n",
    "- Although this calculation is acheiveable without variables (60 * 60 * 24 * 365 * 4)\n",
    "    - If you don't have variables then its harder to check that it does not have some error, b/c it is not as readable\n",
    "    - Using individual variables for each part you 'can better keep track of each part of the calculation and more easily check for and correct any mistakes'"
   ]
  },
  {
   "cell_type": "code",
   "execution_count": 25,
   "id": "f84bb995-bfef-43c8-805f-f258ef065858",
   "metadata": {
    "tags": []
   },
   "outputs": [
    {
     "name": "stdout",
     "output_type": "stream",
     "text": [
      "126144000\n"
     ]
    }
   ],
   "source": [
    "# To calculate number of seconds in 4 years its a conversion so need to quantify each aspect with separate variables\n",
    "# Then you will use the multiple variables to answer the question\n",
    "\n",
    "# (1) Create variable for years\n",
    "num_years = 4\n",
    "\n",
    "# (2) Create variable for days per year\n",
    "days_per_year = 365\n",
    "\n",
    "# (3) Create variable for hours per day\n",
    "hours_per_day = 24\n",
    "\n",
    "# (4) Create variable for minutes per hour\n",
    "mins_per_hour = 60\n",
    "\n",
    "# (5) Create variable for secs per minute\n",
    "secs_per_min = 60\n",
    "\n",
    "# (6) Calculate number of seconds in 4 years using the above created variables\n",
    "# (a) first you do this by creating yet another variable that you will call 'total_secs'\n",
    "# (b) the value of that variable will be the multiplication of all the other variables since its a conversion formula!\n",
    "total_secs = secs_per_min * mins_per_hour * hours_per_day * days_per_year * num_years\n",
    "\n",
    "# (7) Now you print the 'total_secs' variable and the output will be the conversion calculation of how many seconds are in 4 years!\n",
    "print(total_secs)"
   ]
  },
  {
   "cell_type": "code",
   "execution_count": null,
   "id": "14f119e5-70c3-4c95-a0eb-f40489589d1b",
   "metadata": {},
   "outputs": [],
   "source": []
  },
  {
   "cell_type": "markdown",
   "id": "889360cd-b08c-4a3a-b3e8-b11abb4df21f",
   "metadata": {},
   "source": [
    "##### **Example 2**: Improve the above estimate\n",
    "- Say you want to improve the accuracy of the estimate by updating the days in a year from 365 to 365.25 which accounts for leap years.\n",
    "- If you didn't already establish the individual variables you would have to input the whole equation again replacing 365 with 365.25\n",
    "- This is more labor intensive though then just the arithemetic of replacing 365 with 365.25 in the arithmetic (60 * 60 * 24 * 365.25 *4) \n",
    "    - But hey thats coding!\n",
    "    - Proof of this in code cell below"
   ]
  },
  {
   "cell_type": "code",
   "execution_count": 26,
   "id": "a45f34b7-8c00-4ee4-81f3-e1c5c0d6493b",
   "metadata": {
    "tags": []
   },
   "outputs": [
    {
     "name": "stdout",
     "output_type": "stream",
     "text": [
      "126144000\n"
     ]
    }
   ],
   "source": [
    "# Proof you have to redo the entire total_secs variable\n",
    "# Update 'days_per_year' variable to include leap years\n",
    "# Change the value from 365 to 365.25\n",
    "days_per_year = 365.25\n",
    "\n",
    "# If you don't redefine the variable 'total_secs' it will just re-output with the old value of 'days_per_year' as seen below\n",
    "print(total_secs)"
   ]
  },
  {
   "cell_type": "code",
   "execution_count": 27,
   "id": "45b55d87-e911-498a-9440-22e996de2b8a",
   "metadata": {
    "tags": []
   },
   "outputs": [
    {
     "name": "stdout",
     "output_type": "stream",
     "text": [
      "126230400.0\n"
     ]
    }
   ],
   "source": [
    "# Yes its labor intensive to now rewrite the entire value for 'total_secs' variable \n",
    "# But that just how coding goes\n",
    "total_secs = secs_per_min * mins_per_hour * hours_per_day * days_per_year * num_years\n",
    "\n",
    "# Now when you recalculate it, it is accurate\n",
    "# You will notice it also adds a '.0' at the end because we added a fractional number\n",
    "# This will be better taught in lesson 3 when we discuss data types\n",
    "print(total_secs)"
   ]
  },
  {
   "cell_type": "code",
   "execution_count": null,
   "id": "729ac01b-f8d4-496f-915b-b5cd40f52300",
   "metadata": {},
   "outputs": [],
   "source": []
  },
  {
   "cell_type": "markdown",
   "id": "10a887ca-ff68-4027-ad37-e5d98defadff",
   "metadata": {},
   "source": [
    "#### e. **Arithmetic Assignment**\n",
    "- Kaggle course introduces the concept of arithmetic assignment in this lesson but doesn't elaborate much on it\n",
    "- There is a complicated section of the ***Coding for Beginners in easy steps*** book that also addresses this\n",
    "- ChatGPT helped me to see that this random example in Kaggle is called **Arithmetic Assignement**\n",
    "- I want to continue on with the Kaggle course as is and see if they further discuss it\n",
    "- If at the end they still haven't disccused it I can then read it in the ***Coding for Beginners in easy steps*** book because I have put checks on each page I have done in that book and it won't be checked page 37 to 47\n",
    "\n",
    "'The next code cell tells Python to **increase the current value** of *'my_var'* by 3\n",
    "- 'To do this, we still need to use *'my_var ='* like before\n",
    "- Also assign the new value we want to the variable to the right of the *=*\n",
    "See the below code cell for this worked out"
   ]
  },
  {
   "cell_type": "code",
   "execution_count": 28,
   "id": "849f6526-0d91-4cfa-8a1b-85d98aa8200e",
   "metadata": {
    "tags": []
   },
   "outputs": [
    {
     "name": "stdout",
     "output_type": "stream",
     "text": [
      "103\n"
     ]
    }
   ],
   "source": [
    "# Increase the value of 'my_var' by 3\n",
    "my_var = my_var + 3\n",
    "\n",
    "# Print the new value of 'my_var' that you just assigned it\n",
    "# Achieved by simply printing the 'my_var' variable as before as it should show the new assigned value, overriding the old value\n",
    "print(my_var)"
   ]
  },
  {
   "cell_type": "code",
   "execution_count": null,
   "id": "7c87169f-982e-42e5-bcbb-5d6c86431ada",
   "metadata": {},
   "outputs": [],
   "source": []
  },
  {
   "cell_type": "code",
   "execution_count": null,
   "id": "deaa98ab-862c-4d09-a78b-d80ab96c18c5",
   "metadata": {},
   "outputs": [],
   "source": []
  },
  {
   "cell_type": "markdown",
   "id": "5414109c-1d9b-4f81-b1e7-5f561a926294",
   "metadata": {},
   "source": [
    "## Debugging\n",
    "\n",
    "### ***NameError***\n",
    "- When you see\n",
    "    - *'NameError'*\n",
    "    it's an indication that you need to check how you spelled the variable that is references as \"not defined\"\n",
    "\n",
    "- See the image below as the example described"
   ]
  },
  {
   "cell_type": "markdown",
   "id": "01560c9a-dd18-4efc-8c31-50a84bde4a23",
   "metadata": {},
   "source": [
    "![Alt Text](typoImage.png)"
   ]
  },
  {
   "cell_type": "markdown",
   "id": "f720519f-4a09-45a5-a54c-79fe3b64e97b",
   "metadata": {},
   "source": [
    "- You can fix this ***NameError*** by just correcting the spelling as shown below in the next code cell"
   ]
  },
  {
   "cell_type": "code",
   "execution_count": 29,
   "id": "34340df1-5619-4177-93ad-5ab4bbdd7b9c",
   "metadata": {
    "tags": []
   },
   "outputs": [
    {
     "name": "stdout",
     "output_type": "stream",
     "text": [
      "24\n"
     ]
    }
   ],
   "source": [
    "print(hours_per_day)"
   ]
  },
  {
   "cell_type": "code",
   "execution_count": null,
   "id": "0d8d31c9-629b-4f95-b6a0-ec2281ddaba3",
   "metadata": {},
   "outputs": [],
   "source": []
  }
 ],
 "metadata": {
  "kernelspec": {
   "display_name": "Python 3 (ipykernel)",
   "language": "python",
   "name": "python3"
  },
  "language_info": {
   "codemirror_mode": {
    "name": "ipython",
    "version": 3
   },
   "file_extension": ".py",
   "mimetype": "text/x-python",
   "name": "python",
   "nbconvert_exporter": "python",
   "pygments_lexer": "ipython3",
   "version": "3.11.5"
  }
 },
 "nbformat": 4,
 "nbformat_minor": 5
}
