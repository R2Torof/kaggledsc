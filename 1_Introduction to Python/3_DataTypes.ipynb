{
 "cells": [
  {
   "cell_type": "markdown",
   "id": "6084d75e",
   "metadata": {},
   "source": [
    "# Introduction to Programming Kaggle Course\n",
    "#### Notes and practice from course\n",
    "###### <u>*The following rules for references apply in markdown notes*<u>\n",
    "###### - *Things in \"quotes\" in markdown are direct quotes from ***Coding for Beginner's In Easy Steps 2nd Edition*** book*\n",
    "###### - *Things in 'quotes' in markdown are direct quotes from ***Kaggle Course*** okay*\n",
    "###### - *Some things are from discussion with ChatGPT and do not have quote marks as no standard has been set at this time for referencing ChatGPT*"
   ]
  },
  {
   "cell_type": "markdown",
   "id": "65829808",
   "metadata": {},
   "source": [
    "# **I. <u>Data Types</u>**"
   ]
  },
  {
   "cell_type": "markdown",
   "id": "f0ebca47-a4df-4be4-b3a2-a88eadd4327e",
   "metadata": {},
   "source": [
    "| Data Type | Coding Class Symbol | Description | Example | Available Actions | Covered in Intro Kaggle lesson |\n",
    "| --------- | ------------- | ----------- | ------- | ---------------------- | -------- |\n",
    "| **Integer** | '***int()***' | Whole number with***OUT*** decimal point and with**OUT*** punctuation | 1000 | Arithmetic | Yes |\n",
    "| **Float** | '***float()***' | Number ***WITH*** a Decimal point | 98.6 | Arithmetic, and more percise math operations like sq root or trig using a math library | Yes |\n",
    "| **Boolean Value** | ***bool*** | Logical Truth Value, True or False. Represent 1 of 2 values | True | Logical Operations (AND, OR, NOT). Used in Comparisons and Conditions | Yes |\n",
    "| **String** | '***str()***' | \"Any collection of characters you can enter from a computer keyboard, grouped together within **quote marks**\" | 'Coding is 100% fun' | **Concatenation** *(combining strings)*, **Slicing** *(getting a part of the string)*, **Formatting** *(Inserting variables into a string)*, **Length Checked**, **Repeat** | Yes | \n",
    "| **Dictionaries**| '***dict***' | Store key-value pairs. Stores pairs of info where each piece of data (a value) has a name (a key). They are contained within the ***{ }***  | '**{\"fruit\": \"apple\", \"quantity\": 5}**' = **\"fruit\"** is **\"apple\"** and **\"quantity\"** is **\"5\"** | Acccessing values by keys AND **Adding** and **Removing Key-value pairs** | No |\n",
    "| **Sets** | '***set***' | A collection of unique items, which means ***No Duplicates*** and they are contained w/i the  ***{ }***. Its distinguished from a dictionary because it contains only values and also does **NOT** have the key-value pair structure | a set w/ 3 numbers is '**{1, 2, 3}**' | | No |\n",
    "| **Lists** | '***list***' | An ordered collection of items. Items **can** be **changed**. They are contained within a **[ ]** | '**[1, \"hello\", 3.14]**' is a list with a number, a string and a float and its **CHANGEABLE** | | No |\n",
    "| **Tuples** | '***tuple***' | Just like **lists** BUT once you create it, you can **NOT** **change** it = it's immutable | '**(1, \"hello\", 3.14)**' is a tuple with a number, a string and a float and you can **NEVER CHANGE IT** | | No |"
   ]
  },
  {
   "cell_type": "code",
   "execution_count": null,
   "id": "cb9b6405-d764-4c79-a8e3-52512aa48756",
   "metadata": {},
   "outputs": [],
   "source": []
  },
  {
   "cell_type": "code",
   "execution_count": null,
   "id": "389814d8-2f77-4b01-8ee7-2e6e2099d49e",
   "metadata": {},
   "outputs": [],
   "source": []
  },
  {
   "cell_type": "markdown",
   "id": "ab5a8a94-ce0c-4ab9-b275-1fda1b6790fa",
   "metadata": {},
   "source": [
    "#### I. **A. <u>Determining Data Type within a '<font color=\"DarkCyan\"> variable </font>'</u>**\n",
    "> '<font color=\"blue\"> **print(** </font> <font color=\"Red\"> **type(** </font> <font color=\"DarkCyan\"> **Insert_Variable_Name_In_Question_Here** </font> <font color=\"red\"> **)** </font> <font color=\"Blue\"> **)** </font>'\n",
    "    \n",
    "This is acheived by using using 2 built-in functions. \n",
    "\n",
    "By placing the <font color=\"DarkCyan\"> **name of the variable** </font>, that contains data in which you want to know the data type of, within the '<font color=\"red\"> **()** </font>' of the '<font color=\"red\"> **type()** </font>' function which itself is within the '<font color=\"blue\"> **()** </font>' of the '<font color=\"blue\"> **print()** </font>' function"
   ]
  },
  {
   "cell_type": "markdown",
   "id": "8f12db46-5013-4936-8371-981a8003c3b1",
   "metadata": {},
   "source": [
    ">\n",
    ">\n",
    "##### I. A. **i. <u>Examples of Determining Data Type within a '<font color=\"DarkCyan\"> Variable </font>' using the '<font color=\"red\"> type() </font>' function</u>**"
   ]
  },
  {
   "cell_type": "markdown",
   "id": "95f47387-a382-424f-8f03-6322e7d34c76",
   "metadata": {},
   "source": [
    "###### I. A. i. **1. Example 1**"
   ]
  },
  {
   "cell_type": "code",
   "execution_count": 1,
   "id": "e6b7b6d1-5575-47bf-b0b4-7655cfd2bea3",
   "metadata": {
    "tags": []
   },
   "outputs": [
    {
     "name": "stdout",
     "output_type": "stream",
     "text": [
      "variable x contains: 14\n",
      "data type: <class 'int'>\n"
     ]
    }
   ],
   "source": [
    "# set the x variable to contain the number 14\n",
    "x = 14\n",
    "\n",
    "# Print that variable\n",
    "print('variable x contains:', x)\n",
    "\n",
    "# Then right underneath the variable print please identify what Data Type variable x contains\n",
    "print('data type:', type(x))"
   ]
  },
  {
   "cell_type": "markdown",
   "id": "48478d61-efb2-4e95-a6c7-1eec11117442",
   "metadata": {},
   "source": [
    ">\n",
    ">\n",
    "###### I. A. i. **2. Example 2**"
   ]
  },
  {
   "cell_type": "code",
   "execution_count": 2,
   "id": "b24fe49d-00ac-4ad0-b6fd-bcd25641eaf2",
   "metadata": {
    "tags": []
   },
   "outputs": [
    {
     "name": "stdout",
     "output_type": "stream",
     "text": [
      "3.141592653589793\n",
      "<class 'float'>\n"
     ]
    }
   ],
   "source": [
    "# set the 'nearly_pi' variable to contain some of the numbers of pi\n",
    "nearly_pi = 3.141592653589793238462643383279502884197169399375105820974944\n",
    "\n",
    "# Print the 'nearly_pi' variable\n",
    "print(nearly_pi)\n",
    "\n",
    "# Identify the Data Type contained within variable 'nearly_pi'\n",
    "print(type(nearly_pi))"
   ]
  },
  {
   "cell_type": "markdown",
   "id": "1ec0c7a0-b713-4c52-946d-5df0785442d9",
   "metadata": {},
   "source": [
    ">\n",
    ">\n",
    "###### I. A. i. **3. Example 3**"
   ]
  },
  {
   "cell_type": "code",
   "execution_count": 3,
   "id": "1e46767b-2af7-4888-8f7c-e3dd48a61c20",
   "metadata": {
    "tags": []
   },
   "outputs": [
    {
     "name": "stdout",
     "output_type": "stream",
     "text": [
      "variable z_one contains: True\n",
      "data type: <class 'bool'>\n"
     ]
    }
   ],
   "source": [
    "# Set the 'z_one' variable to contain True withOUT quote marks\n",
    "z_one = True\n",
    "\n",
    "# Print the contents of the 'z_one' variable\n",
    "print('variable z_one contains:', z_one)\n",
    "\n",
    "# Identify and print the Data Type contained in the 'z_one' variable\n",
    "print('data type:', type(z_one))"
   ]
  },
  {
   "cell_type": "markdown",
   "id": "b115d35c-bd59-44d9-8ac2-153289ed0755",
   "metadata": {},
   "source": [
    ">\n",
    ">\n",
    "###### I. A. i. **4. Example 4**"
   ]
  },
  {
   "cell_type": "code",
   "execution_count": 4,
   "id": "111f0fa3-fca2-4e41-be02-77219b966364",
   "metadata": {
    "tags": []
   },
   "outputs": [
    {
     "name": "stdout",
     "output_type": "stream",
     "text": [
      "Hello, Python!\n",
      "<class 'str'>\n"
     ]
    }
   ],
   "source": [
    "# Set the 'w' variable to contain \"Hello, Python!\"\n",
    "w = \"Hello, Python!\"\n",
    "\n",
    "# Print variable 'w'\n",
    "print(w)\n",
    "\n",
    "# Tell me the Data Type contained in variable 'w'\n",
    "print(type(w))"
   ]
  },
  {
   "cell_type": "code",
   "execution_count": null,
   "id": "6ba86a44-8046-4581-bdf5-89347b9f127a",
   "metadata": {},
   "outputs": [],
   "source": []
  },
  {
   "cell_type": "code",
   "execution_count": null,
   "id": "a0eb96de-3d38-487d-ae79-6798656d007e",
   "metadata": {},
   "outputs": [],
   "source": []
  },
  {
   "cell_type": "markdown",
   "id": "a8b5203f-4f8c-48cc-8310-974285121233",
   "metadata": {},
   "source": [
    "## I. **B. Data Type Actions**\n",
    "\n",
    "There are specific rules for specific data types. You can do certain actions with some that you cannot do with others.\n",
    "\n",
    "Therefore to 'avoid errors' you 'need to make sure that the actions match the data types that' you 'have'\n",
    "\n",
    "| Action | Data Type Able to do it | Example of allowable action with that Data Type | Example of Data Type Not able to do This action |\n",
    "| ------ | ----------------------- | ------- | ----- |\n",
    "| Division |  **floats** | 12.0 / 2.0 = *ALLOWED* , Can divide 2 **floats** | **strings***\"cat\" / \"dog\" = NOT ALLOWED, can**NOT** divide 2 **strings** |"
   ]
  },
  {
   "cell_type": "code",
   "execution_count": null,
   "id": "ebe9edd7-8ad6-4b99-bdd0-65b7ad4c24ba",
   "metadata": {},
   "outputs": [],
   "source": []
  },
  {
   "cell_type": "code",
   "execution_count": null,
   "id": "063f5929-8794-43fa-8819-a3c9cc05c84e",
   "metadata": {},
   "outputs": [],
   "source": []
  },
  {
   "cell_type": "markdown",
   "id": "58e316e8-9608-4d5d-978d-609d69ab39d3",
   "metadata": {},
   "source": [
    "## **II. Integers**\n",
    "= Whole numbers with**OUT** **decimal point** and with**OUT** any **punctuation**\n",
    "\n",
    "Can be positive or negative\n",
    "\n",
    "Can be zero (0)"
   ]
  },
  {
   "cell_type": "markdown",
   "id": "c9ca3ccd-6a0f-4cec-9adc-182f139deadf",
   "metadata": {},
   "source": [
    "### II. **A. <u>Round a Float to its nearest Integer<u>**\n",
    "You can round up a float (a decimal number) to its nearest integer which is essentially turning a float into an integer. \n",
    "\n",
    "You achieve this with the '<font color=\"blue\"> **math.ceil()** </font>' function.\n",
    "\n",
    "Ensure that it is imported into your notebook and use it with the example 2.17 to round it to 3. This is demonstrated in the **Functions.ipynb** JupyterNotebook in the Kaggledsc/Introduction to Python Folder. But also in the below codecell"
   ]
  },
  {
   "cell_type": "code",
   "execution_count": 5,
   "id": "f5c879eb-79aa-478a-86b4-51aaf7531443",
   "metadata": {},
   "outputs": [
    {
     "name": "stdout",
     "output_type": "stream",
     "text": [
      "2.17\n",
      "3\n"
     ]
    }
   ],
   "source": [
    "\n",
    "# Import the 'math' module to use the 'math.ceil()' function in this notebook\n",
    "import math\n",
    "\n",
    "# Use it to round 'test_value' variable storing 2.17 to nearest integer and store it in the 'rounded_value' variable\n",
    "test_value = 2.17\n",
    "rounded_value = math.ceil(test_value)\n",
    "print(test_value)\n",
    "print(rounded_value)\n"
   ]
  },
  {
   "cell_type": "code",
   "execution_count": 6,
   "id": "25cf1fd5-cda7-49e5-8b9a-0e330c1dc76f",
   "metadata": {},
   "outputs": [
    {
     "name": "stdout",
     "output_type": "stream",
     "text": [
      "1.1\n",
      "2\n"
     ]
    }
   ],
   "source": [
    "# It rounds UP not down\n",
    "test_value = 1.1\n",
    "rounded_value = math.ceil(test_value)\n",
    "print(test_value)\n",
    "print(rounded_value)"
   ]
  },
  {
   "cell_type": "code",
   "execution_count": null,
   "id": "27525bd7-0933-4cf0-99ed-708d74f83e72",
   "metadata": {},
   "outputs": [],
   "source": []
  },
  {
   "cell_type": "markdown",
   "id": "75b43c77-e2fc-4df5-ad73-a2384342abb5",
   "metadata": {},
   "source": [
    "## **III. Floats**\n",
    "= Numbers **WITH** **decimal point**, including Numbers with **fractional parts**\n",
    "\n",
    "- Does <font color=\"red\">not</font> have to be a fractional part as the following numbers would still be considered a **float** despite them having no fractional part\n",
    "    - **1.**\n",
    "    - **1.0**\n",
    "    - **1.00**\n",
    "\n",
    "Can be specified classically with numbers behind a decimal like '**nearly_pi**' above But can also be specified with a fraction as seen below:"
   ]
  },
  {
   "cell_type": "code",
   "execution_count": 7,
   "id": "cb7747f3-a2d4-44fe-a575-8a46ef38a559",
   "metadata": {
    "tags": []
   },
   "outputs": [
    {
     "name": "stdout",
     "output_type": "stream",
     "text": [
      "3.142857142857143\n",
      "<class 'float'>\n"
     ]
    }
   ],
   "source": [
    "\n",
    "# Example of specifying a float with a fraction\n",
    "almost_pi = 22 / 7\n",
    "print(almost_pi)\n",
    "print(type(almost_pi))\n"
   ]
  },
  {
   "cell_type": "code",
   "execution_count": 8,
   "id": "9825526b-7c55-4cd9-b997-0a59c127f5c3",
   "metadata": {
    "tags": []
   },
   "outputs": [
    {
     "name": "stdout",
     "output_type": "stream",
     "text": [
      "1.0\n",
      "<class 'float'>\n"
     ]
    }
   ],
   "source": [
    "\n",
    "# Example of float without a fractional part\n",
    "y_float = 1.\n",
    "print(y_float)\n",
    "print(type(y_float))\n"
   ]
  },
  {
   "cell_type": "markdown",
   "id": "a3178884-50d6-4ea0-883d-8344d1783629",
   "metadata": {},
   "source": [
    "### III. **A. <u>Rounding Fractions<u>**\n",
    "- There is a '<font color=\"blue\"> **round()** </font>' function that is used to round fractions aka round **float** to a specified number of decimal places. \n",
    "\n",
    "\n",
    "- The '<font color=\"blue\"> **round()** </font> ' function takes **2 arguments** within it's parentheses. Remember arguments are separated by comma's in a function. \n",
    "\n",
    "\n",
    "- The 2 arguments the '<font color=\"blue\"> **round()**</font>' function accept are <font color=\"Red\"> the float you want to round </font> and <font color=\"Maroon\"> the # of decimals you want to round too </font>. As follows:\n",
    ">\n",
    "> <font color=\"blue\"> **round(** </font> <font color=\"Red\"> **FLOAT_to_be_ROUNDED** </font>, <font color=\"Maroon\">  **DECIMAL_Place_#_to_round_to** </font> <font color=\"blue\"> **)** </font>\n",
    "\n",
    "\n",
    "\n",
    "<u>**You do this by using the:**<u>\n",
    "1. Assign a <font color=\"DarkCyan\"> **new variable** </font> with the '<font color=\"Blue\"> **round()** </font>' function\n",
    "2. In the <font color=\"Blue\"> **( )** </font> of the '<font color=\"Blue\"> **round()** </font>' function you <font color=\"Red\"> name the thing you want to be rounded </font>\n",
    "3. You then put a **,** and space\n",
    "4. You then put <font color=\"Maroon\"> the number of decimal places you want step 2 thing rounded too </font>\n",
    "5. Then you <font color=\"blue\"> close the parentheses </font> and run it\n",
    "6. Then you <font color=\"blue\"> **print** </font> the <font color=\"DarkCyan\"> **new variable** </font> you just assigned and run it\n",
    "7. You can see the type by then <font color=\"blue\"> **print()** </font>the <font color=\"blue\"> **type()** </font> function\n",
    "\n",
    "This is shown in the code cell below"
   ]
  },
  {
   "cell_type": "code",
   "execution_count": 9,
   "id": "26f6a9c7-45c1-435e-b56f-642572c02157",
   "metadata": {
    "tags": []
   },
   "outputs": [
    {
     "name": "stdout",
     "output_type": "stream",
     "text": [
      "3.142857142857143\n",
      "3.14286\n",
      "<class 'float'>\n"
     ]
    }
   ],
   "source": [
    "\n",
    "# Remember the variable 'almost_pi' from above?\n",
    "# (1) Assign a new variable to round 'almost_pi' to the 5th decimal point\n",
    "rounded_pi = round(almost_pi, 5)\n",
    "\n",
    "# (2 to 7) Print the result and determine the type\n",
    "print(almost_pi)\n",
    "print(rounded_pi)\n",
    "print(type(rounded_pi))\n"
   ]
  },
  {
   "cell_type": "code",
   "execution_count": 10,
   "id": "7a961fd9-4c46-4313-8252-69dc9ccec0b2",
   "metadata": {
    "tags": []
   },
   "outputs": [
    {
     "name": "stdout",
     "output_type": "stream",
     "text": [
      "Daytona 500\n",
      "<class 'str'>\n"
     ]
    }
   ],
   "source": [
    "\n",
    "race = 'Daytona 500'\n",
    "print(race)\n",
    "print(type(race))\n"
   ]
  },
  {
   "cell_type": "code",
   "execution_count": 11,
   "id": "187b4da3-7962-4002-ad30-d486dc036c48",
   "metadata": {
    "tags": []
   },
   "outputs": [
    {
     "name": "stdout",
     "output_type": "stream",
     "text": [
      "Daytona 500 <class 'str'>\n"
     ]
    }
   ],
   "source": [
    "\n",
    "print(race, type(race))\n"
   ]
  },
  {
   "cell_type": "code",
   "execution_count": null,
   "id": "1ebb7e90-9291-48c1-ba5d-f08dcd3d01eb",
   "metadata": {},
   "outputs": [],
   "source": []
  },
  {
   "cell_type": "code",
   "execution_count": null,
   "id": "352e2257-7605-49c8-9122-aa240d60f2a3",
   "metadata": {},
   "outputs": [],
   "source": []
  },
  {
   "cell_type": "markdown",
   "id": "4be88d87-ecc9-4517-be9b-44dfe7e9cea4",
   "metadata": {},
   "source": [
    "## **IV. Booleans**"
   ]
  },
  {
   "cell_type": "markdown",
   "id": "ec6084fe-6c90-4570-b171-f0f13e314d27",
   "metadata": {},
   "source": [
    "### IV. **A. <u>Direct Assignment<u>**\n",
    "A **Boolean** is a logical truth value, which is either <font color=\"ForestGreen\"> **True** </font> or <font color=\"Red\"> **False** </font>\n",
    "\n",
    "When you assign a variable the keyword <font color=\"ForestGreen\"> **True** </font> or <font color=\"Red\"> **False** </font> Python programming recognizes its a boolean value \"class\"\n",
    "\n",
    "Examples of it's data type use are below and they are identified as class '**bool**' by Python program when you ask to identify the type\n",
    "\n",
    "\n",
    "Used to help programs choose a path, taught in future lessons\n",
    "\n",
    "### Case sensitive:\n",
    "- <font color=\"ForestGreen\"> **True** </font> NOT = **TRUE** in the code cell\n",
    "- <font color=\"Red\"> **False** </font> NOT = **FALSE** in the code cell"
   ]
  },
  {
   "cell_type": "markdown",
   "id": "41593bfb-43e6-48e9-aff3-3d71030994f6",
   "metadata": {},
   "source": [
    "##### IV. A. **i. <u>Set a Variable to the Boolean Value of <font color=\"ForestGreen\"> True </font> <u>**"
   ]
  },
  {
   "cell_type": "code",
   "execution_count": 12,
   "id": "2964b267-bad3-46be-8710-5eccfda2afc6",
   "metadata": {
    "tags": []
   },
   "outputs": [
    {
     "name": "stdout",
     "output_type": "stream",
     "text": [
      "True\n",
      "<class 'bool'>\n"
     ]
    }
   ],
   "source": [
    "# Set variable 'z_one' to a boolean with value True, print and type it\n",
    "z_one = True\n",
    "print(z_one)\n",
    "print(type(z_one))\n"
   ]
  },
  {
   "cell_type": "code",
   "execution_count": 13,
   "id": "0a1891fd-a15f-4683-aaf3-f59f2edfb022",
   "metadata": {
    "tags": []
   },
   "outputs": [
    {
     "name": "stdout",
     "output_type": "stream",
     "text": [
      "True <class 'bool'>\n"
     ]
    }
   ],
   "source": [
    "\n",
    "# Print the above but in a single output line\n",
    "print(z_one, type(z_one))\n"
   ]
  },
  {
   "cell_type": "code",
   "execution_count": 14,
   "id": "d40fdcc8-042b-4ec4-a003-7aa9f6b3253a",
   "metadata": {
    "tags": []
   },
   "outputs": [
    {
     "name": "stdout",
     "output_type": "stream",
     "text": [
      "True is <class 'bool'>\n"
     ]
    }
   ],
   "source": [
    "\n",
    "# Print 'z_one' in a single line stating the variable data and the type with the word is between them\n",
    "print(z_one, 'is', type(z_one))\n"
   ]
  },
  {
   "cell_type": "markdown",
   "id": "7a56495c-f86d-427f-80a3-3d52e725dac8",
   "metadata": {},
   "source": [
    ">\n",
    "##### IV. A. **ii. <u>Set a Variable to the Boolean Value of <font color=\"Red\"> False </font> <u>**"
   ]
  },
  {
   "cell_type": "code",
   "execution_count": 15,
   "id": "29a2559a-260e-4f80-8f95-418867f00056",
   "metadata": {
    "tags": []
   },
   "outputs": [
    {
     "name": "stdout",
     "output_type": "stream",
     "text": [
      "False\n",
      "<class 'bool'>\n"
     ]
    }
   ],
   "source": [
    "# Set variable 'z_two' to contain the boolean value false, print and type it\n",
    "z_two = False\n",
    "print(z_two)\n",
    "print(type(z_two))\n"
   ]
  },
  {
   "cell_type": "code",
   "execution_count": 16,
   "id": "91449325-b36a-4f3c-9c05-1f2d35228f94",
   "metadata": {
    "tags": []
   },
   "outputs": [
    {
     "name": "stdout",
     "output_type": "stream",
     "text": [
      "False is <class 'bool'>\n"
     ]
    }
   ],
   "source": [
    "\n",
    "# Print the above in single line with 'is' between them\n",
    "print(z_two, 'is', type(z_two))\n"
   ]
  },
  {
   "cell_type": "code",
   "execution_count": null,
   "id": "037ac7f2-a763-4c01-a96e-f16ba13042d9",
   "metadata": {},
   "outputs": [],
   "source": []
  },
  {
   "cell_type": "markdown",
   "id": "900431df-ceb8-4288-912b-4430e54b4981",
   "metadata": {},
   "source": [
    "### IV. **B. <u>Used to Represent the <font color=\"Magenta\"> truth value </font> of an expression<u>**\n",
    "If you put an expression inside a variable that is either <font color=\"ForestGreen\"> **true** </font> or <font color=\"Red\"> **false** </font> the Python program will print the Boolean value <font color=\"ForestGreen\"> **True** </font> or <font color=\"Red\"> **False** </font> as a result\n",
    "\n",
    "It's like asking Python <font color=\"Purple\"> **'Is 1 less than 2?'** </font>\n",
    "- This is achieved by assigning a <font color=\"DarkCyan\"> **variable** </font> with the expression **<font color=\"Purple\">(1 < 2)</font>**\n",
    "- It assigns the <font color=\"DarkCyan\"> **variable** </font> the **Boolean value** without having to actually type the **Boolean value**  <font color=\"ForestGreen\"> **True** </font> or <font color=\"Red\"> **False** </font> \n",
    "    - Because by putting in an expression that is in its nature a <font color=\"ForestGreen\"> **True** </font> or <font color=\"Red\"> **False** </font>  statement that is saying hey this <font color=\"DarkCyan\"> **variable** </font> ='s <font color=\"ForestGreen\"> **True** </font> or <font color=\"Red\"> **False** </font> , respectively, without having to type value <font color=\"ForestGreen\"> **True** </font> or <font color=\"Red\"> **False** </font>\n",
    "    - Its taught in future lessons but its a way to test if something is <font color=\"ForestGreen\"> **True** </font> or <font color=\"Red\"> **False** </font>\n",
    ">\n",
    "\n",
    "Examples below in the following code cells"
   ]
  },
  {
   "cell_type": "markdown",
   "id": "09c61935-8958-4c9e-bad3-8eb9beb9bc38",
   "metadata": {},
   "source": [
    "##### IV. B. **i. Example 1**:\n",
    "1. Assign the question **'Is 1 less than 2?'** to the **variable** named '**z_three**'\n",
    "2. Have Python answer True or False\n",
    "3. Have Python state the class (data type) contained in variable '**z_three**'"
   ]
  },
  {
   "cell_type": "code",
   "execution_count": 17,
   "id": "bd09f99d-0191-4e15-889c-53b0fcc7fb83",
   "metadata": {
    "tags": []
   },
   "outputs": [
    {
     "name": "stdout",
     "output_type": "stream",
     "text": [
      "True\n",
      "<class 'bool'>\n"
     ]
    }
   ],
   "source": [
    "# Print answer in 2 lines\n",
    "z_three = ( 1 < 2 )\n",
    "print(z_three)\n",
    "print(type(z_three))\n"
   ]
  },
  {
   "cell_type": "code",
   "execution_count": 18,
   "id": "01c32419-caea-47cf-9cca-da9469249b8b",
   "metadata": {
    "tags": []
   },
   "outputs": [
    {
     "name": "stdout",
     "output_type": "stream",
     "text": [
      "z_three is True and is the <class 'bool'>\n"
     ]
    }
   ],
   "source": [
    "\n",
    "# Print answer is 1 line, like as sentence using a string\n",
    "z_three = (1 < 2 )\n",
    "print('z_three','is', z_three, 'and is the', type(z_three))\n"
   ]
  },
  {
   "cell_type": "markdown",
   "id": "722d2329-5509-4308-b4fc-800d4ef92a7c",
   "metadata": {},
   "source": [
    "##### IV. B. **ii. Example 2**:\n",
    "1. Assign the question **'Is 5 less than 3?'** to the **variable** named '**z_four**'\n",
    "2. Have Python answer True or False\n",
    "3. Have Python state the class (data type) contained in variable '**z_three**'"
   ]
  },
  {
   "cell_type": "code",
   "execution_count": 19,
   "id": "b1cb8745-fa5e-403e-a0f1-d05f9085c708",
   "metadata": {
    "tags": []
   },
   "outputs": [
    {
     "name": "stdout",
     "output_type": "stream",
     "text": [
      "False\n",
      "<class 'bool'>\n"
     ]
    }
   ],
   "source": [
    "\n",
    "# Standard format\n",
    "z_four = ( 5 < 3 )\n",
    "print(z_four)\n",
    "print(type(z_four))\n"
   ]
  },
  {
   "cell_type": "code",
   "execution_count": 20,
   "id": "63cc8758-a8c5-4f67-aced-71038925b82d",
   "metadata": {
    "tags": []
   },
   "outputs": [
    {
     "name": "stdout",
     "output_type": "stream",
     "text": [
      "z_four is False and is the <class 'bool'>\n"
     ]
    }
   ],
   "source": [
    "\n",
    "# Output in a sentence using a string\n",
    "z_four = ( 5 < 3 )\n",
    "print('z_four', 'is', z_four, 'and is the', type(z_four))\n"
   ]
  },
  {
   "cell_type": "code",
   "execution_count": 21,
   "id": "c2777583-6e7d-478e-92b8-8901d7443aac",
   "metadata": {
    "tags": []
   },
   "outputs": [
    {
     "name": "stdout",
     "output_type": "stream",
     "text": [
      "Is 5 < 3 True or False? False\n"
     ]
    }
   ],
   "source": [
    "\n",
    "print('Is 5 < 3 True or False?', z_four)\n"
   ]
  },
  {
   "cell_type": "code",
   "execution_count": null,
   "id": "67d1de4e-3efa-4775-a40e-ddfca12d5f36",
   "metadata": {},
   "outputs": [],
   "source": []
  },
  {
   "cell_type": "markdown",
   "id": "394a16d6-1943-4075-b661-59fc0c188bad",
   "metadata": {},
   "source": [
    "### IV. **C. <u>Logical Negation<u>**\n",
    "- Invert a <font color=\"Magenta\"> **truth value** </font> of a Boolean expression using the '<font color=\"GoldenRod\"> **not** </font>' operator\n",
    "\n",
    "\n",
    "- Switching the value of a Boolean by using '<font color=\"GoldenRod\"> **not** </font>'\n",
    "\n",
    "- If the <font color=\"Purple\"> **expression**</font> is <font color=\"ForestGreen\"> **True** </font> putting a '<font color=\"GoldenRod\"> **not** </font>' operator in front of the <font color=\"purple\"> **expression** </font> will then assign the opposite Boolean value to it\n",
    "    - '<font color=\"GoldenRod\"> **not** </font> <font color=\"ForestGreen\"> **True** </font>' = <font color=\"Red\"> **False** </font>\n",
    "    - '<font color=\"GoldenRod\"> **not** </font> <font color=\"Red\"> **False** </font>' = <font color=\"ForestGreen\"> **True** </font>\n",
    ">\n",
    "- Examples are in the below code cells:"
   ]
  },
  {
   "cell_type": "code",
   "execution_count": 22,
   "id": "0f4b80a2-495f-47bd-a7b0-ef0fd94b81ee",
   "metadata": {},
   "outputs": [
    {
     "name": "stdout",
     "output_type": "stream",
     "text": [
      "True\n",
      "<class 'bool'>\n"
     ]
    }
   ],
   "source": [
    "# Switch z_four from false to true and assign it to a new variable 'z_five'\n",
    "z_five = not z_four\n",
    "print(z_five)\n",
    "print(type(z_five))\n"
   ]
  },
  {
   "cell_type": "code",
   "execution_count": null,
   "id": "1c8404ea-5824-4cb6-a6d4-ba5dccda7810",
   "metadata": {},
   "outputs": [],
   "source": []
  },
  {
   "cell_type": "code",
   "execution_count": null,
   "id": "aac9233d-5381-4abd-81d2-ea3e2c9d4e35",
   "metadata": {},
   "outputs": [],
   "source": []
  },
  {
   "cell_type": "markdown",
   "id": "f0eab0e8-c23d-431b-82ad-318789fd92c8",
   "metadata": {},
   "source": [
    "### IV. **D. <u>Type Coercion / Type Conversion<u>**\n",
    "= Whenever you Multiply a <font color=\"Magenta\"> **Boolean Value** </font> with other Data Types\n",
    "\n",
    "- It is actually turning the Boolean value into the data type that it is being multiplied by, and usually they are converted to their numeric equivalents\n",
    "\n",
    "- The numeric equivalents of <font color=\"Magenta\"> **Boolean Values** </font> are as followed:\n",
    "    - <font color=\"Red\"> **False** </font> = <font color=\"Red\"> **ZERO** </font> = **0**\n",
    "    - <font color=\"ForestGreen\"> **True** </font> = <font color=\"ForestGreen\"> **ONE** </font> = **1**\n",
    "\n",
    "The following cells will explore what happens when you multiply a <font color=\"Magenta\"> **Boolean value** </font> by any of the following data types:\n",
    "\n",
    "1. Integer\n",
    "2. Float\n",
    "3. String\n",
    "4. Boolean"
   ]
  },
  {
   "cell_type": "code",
   "execution_count": null,
   "id": "fbe58bfb-acbd-4c63-b151-11657406fd0a",
   "metadata": {},
   "outputs": [],
   "source": []
  },
  {
   "cell_type": "markdown",
   "id": "dbd6ff3d-d3cd-4b1c-9135-974af903a177",
   "metadata": {},
   "source": [
    ">\n",
    ">\n",
    "#### IV. D. **i. <u>Multiplication by <font color=\"ForestGreen\"> True </font> <u>**\n",
    "\n",
    "When you multiply a **string**, **integer**, **float** by <font color=\"ForestGreen\"> **True** </font> it returns the same answer as if the Boolean wasn't there\n",
    "- This is basically equivalent to multiplying by **1**\n",
    "- <font color=\"ForestGreen\"> **True** </font> = **1**\n",
    "\n",
    "**Examples below in the code cell**:"
   ]
  },
  {
   "cell_type": "markdown",
   "id": "382af132-7492-4444-a4de-dc1331edea78",
   "metadata": {},
   "source": [
    ">\n",
    ">\n",
    "##### IV. D. i. **1. <u> Integers:</u>**"
   ]
  },
  {
   "cell_type": "code",
   "execution_count": 23,
   "id": "3a8d6257-c315-4a4c-a085-b6ea2130f002",
   "metadata": {},
   "outputs": [
    {
     "name": "stdout",
     "output_type": "stream",
     "text": [
      "3\n",
      "Multiply 3 by TRUE = 3\n"
     ]
    }
   ],
   "source": [
    "# Multiply a POSITIVE integer by True, Notice this causes no change in the print out \n",
    "print( 3 * True)\n",
    "print('Multiply 3 by TRUE =', 3 * True)\n"
   ]
  },
  {
   "cell_type": "code",
   "execution_count": 24,
   "id": "db8baf7b-ac3f-4445-8ed1-14c800d6bfe4",
   "metadata": {},
   "outputs": [
    {
     "name": "stdout",
     "output_type": "stream",
     "text": [
      "-3\n",
      "Multiply -3 by TRUE = -3\n"
     ]
    }
   ],
   "source": [
    "\n",
    "# Multiple a NEGATIVE integer by True, Notice this causes no change in the print out\n",
    "# Like its multiplying by positive 1\n",
    "print( -3 * True )\n",
    "print('Multiply -3 by TRUE =', -3 * True)"
   ]
  },
  {
   "cell_type": "code",
   "execution_count": null,
   "id": "3af4dfd6-71ba-4c9f-b5d7-337827c3bb3b",
   "metadata": {},
   "outputs": [],
   "source": []
  },
  {
   "cell_type": "markdown",
   "id": "fc419572-2d84-47cb-9f49-f7139e7fdfa3",
   "metadata": {},
   "source": [
    ">\n",
    ">\n",
    "##### IV. D. i. **2. <u> Floats:</u>**"
   ]
  },
  {
   "cell_type": "code",
   "execution_count": 25,
   "id": "563d65e8-97b9-4fae-9327-6f406a1e62ac",
   "metadata": {},
   "outputs": [
    {
     "name": "stdout",
     "output_type": "stream",
     "text": [
      "3.851\n",
      "Multiply 3.851 by TRUE = 3.851\n"
     ]
    }
   ],
   "source": [
    "# Multiply a POSITIVE float by True, Notice this causes no change in the print out \n",
    "print( 3.851 * True)\n",
    "print('Multiply 3.851 by TRUE =', 3.851 * True)\n"
   ]
  },
  {
   "cell_type": "code",
   "execution_count": 26,
   "id": "314cf7a8-cb57-4a3e-a390-06690a5a694a",
   "metadata": {},
   "outputs": [
    {
     "name": "stdout",
     "output_type": "stream",
     "text": [
      "-3.851\n",
      "Multiply -3.851 by TRUE = -3.851\n"
     ]
    }
   ],
   "source": [
    "\n",
    "# Multiple a NEGATIVE float by True, Notice this causes no change in the print out\n",
    "# Like its multiplying by positive 1\n",
    "print( -3.851 * True )\n",
    "print('Multiply -3.851 by TRUE =', -3.851 * True)"
   ]
  },
  {
   "cell_type": "code",
   "execution_count": null,
   "id": "555ed7b4-41f6-4e13-8d90-78bbd4cdccf9",
   "metadata": {},
   "outputs": [],
   "source": []
  },
  {
   "cell_type": "markdown",
   "id": "daf574a5-4fbf-49c5-a503-911ebdc0475d",
   "metadata": {},
   "source": [
    ">\n",
    ">\n",
    "##### IV. D. i. **3. <u> String:</u>**"
   ]
  },
  {
   "cell_type": "code",
   "execution_count": 27,
   "id": "589552b2-fb1f-49fe-a2c6-87803e806fee",
   "metadata": {},
   "outputs": [
    {
     "name": "stdout",
     "output_type": "stream",
     "text": [
      "<class 'str'>\n",
      "Original string = abc Original class type is <class 'str'>\n",
      "Multiply \"abc\" by TRUE = abc\n",
      "New class type is <class 'str'>\n"
     ]
    }
   ],
   "source": [
    "# Notice Multiplying a string by True causes no change in the class identification of this string\n",
    "print( type( \"abc\" * True ) )\n",
    "print('Original string =', 'abc', 'Original class type is', type('abc'))\n",
    "print('Multiply \"abc\" by TRUE =', ('abc' * True))\n",
    "print('New class type is', type('abc' * True))"
   ]
  },
  {
   "cell_type": "code",
   "execution_count": 28,
   "id": "ca1d7a25-2f8d-4820-bff6-1a14282aabfe",
   "metadata": {},
   "outputs": [
    {
     "name": "stdout",
     "output_type": "stream",
     "text": [
      "3\n",
      "3\n"
     ]
    }
   ],
   "source": [
    "\n",
    "# Notice multiplying a string by True causes no change in the length count\n",
    "print(len(\"abc\"))\n",
    "print(len(\"abc\" * True))\n"
   ]
  },
  {
   "cell_type": "markdown",
   "id": "2d501df5-c265-40a6-b3a8-82c651637477",
   "metadata": {},
   "source": [
    ">\n",
    ">\n",
    "##### IV. D. i. **4. <u> Booleans:</u>**"
   ]
  },
  {
   "cell_type": "code",
   "execution_count": 29,
   "id": "30869c17-2fc5-40b9-8e82-815f697dc0cb",
   "metadata": {},
   "outputs": [
    {
     "name": "stdout",
     "output_type": "stream",
     "text": [
      "False\n",
      "0\n"
     ]
    }
   ],
   "source": [
    "\n",
    "print(False)\n",
    "\n",
    "# Notice Multiplying a Boolean by True doesn't change its value but converts it to its numeric!\n",
    "print(False * True)"
   ]
  },
  {
   "cell_type": "code",
   "execution_count": 30,
   "id": "424e1d84-c7e8-42c5-b80b-657ad0421481",
   "metadata": {},
   "outputs": [
    {
     "name": "stdout",
     "output_type": "stream",
     "text": [
      "True\n",
      "1\n"
     ]
    }
   ],
   "source": [
    "\n",
    "print(True)\n",
    "\n",
    "# Notice Multiplying a Boolean by True doesn't change its value but converts it to its numeric!\n",
    "print(True * True)"
   ]
  },
  {
   "cell_type": "markdown",
   "id": "8f91ec88-969a-429d-a4cf-5a8ef0ecb0f5",
   "metadata": {},
   "source": [
    ">\n",
    ">\n",
    "#### IV. D. **ii. <u>Multiplication by <font color=\"Red\"> False </font> <u>**"
   ]
  },
  {
   "cell_type": "markdown",
   "id": "33c189fd-e600-427d-b407-c9c78a67c600",
   "metadata": {},
   "source": [
    ">\n",
    ">\n",
    "##### IV. D. ii. **1. <u>Integers</u>**\n",
    "- When you multiply a **integer** by <font color=\"Red\"> **False** </font> it ALWAYS returns <font color=\"red\"> **ZERO** </font>\n",
    "- No matter if the integer is **POSTIVE** or **NEGATIVE**\n",
    "    - This is basically equivalent to multiplying by **0**\n",
    "    - <font color=\"Red\"> **False** </font> = **0**\n",
    "\n",
    "**Examples below in the code cell**:"
   ]
  },
  {
   "cell_type": "code",
   "execution_count": 31,
   "id": "e7ca5420-7125-48c7-bf58-9135982acc72",
   "metadata": {},
   "outputs": [
    {
     "name": "stdout",
     "output_type": "stream",
     "text": [
      "3\n",
      "0\n"
     ]
    }
   ],
   "source": [
    "\n",
    "# Notice how multiplying a POSITIVE Integer by False results in 0\n",
    "print(3)\n",
    "print( 3 * False )\n"
   ]
  },
  {
   "cell_type": "code",
   "execution_count": 32,
   "id": "1c2a1a5e-d0a0-4a67-9221-d0bdc3a2f20e",
   "metadata": {},
   "outputs": [
    {
     "name": "stdout",
     "output_type": "stream",
     "text": [
      "-3\n",
      "0\n"
     ]
    }
   ],
   "source": [
    "\n",
    "# Notice how multiplying a NEGATIVE Integer by False results in 0\n",
    "print(-3)\n",
    "print( -3 * False )\n"
   ]
  },
  {
   "cell_type": "code",
   "execution_count": null,
   "id": "12ecba1f-0a14-4064-8d29-56ebc27146f1",
   "metadata": {},
   "outputs": [],
   "source": []
  },
  {
   "cell_type": "markdown",
   "id": "5c23e3ad-b90f-48dd-bd7f-74a395cecbe7",
   "metadata": {},
   "source": [
    ">\n",
    ">\n",
    "##### IV. D. ii. **2. <u>Floats:</u>**\n",
    "- When you multiply a **POSTIVE** **Float** by <font color=\"red\"> **False** </font> it ALWAYS returns <font color=\"red\"> **0.0** </font>\n",
    "    - No matter the amount of decimal points in the original float the result is always 1 decimal point\n",
    "- When you multiply a **NEGATIVE** **Float** by <font color=\"red\"> **False** </font> it ALWAYS returns <font color=\"red\"> **NEGATIVE ZERO Float** </font> or <font color=\"red\"> **-0.0** </font>\n",
    "\n",
    "**Examples below in the code cell**:"
   ]
  },
  {
   "cell_type": "code",
   "execution_count": 33,
   "id": "933074f2-07cb-4bd2-917d-41ba9aa7f83d",
   "metadata": {},
   "outputs": [
    {
     "name": "stdout",
     "output_type": "stream",
     "text": [
      "3.1\n",
      "0.0\n"
     ]
    }
   ],
   "source": [
    "\n",
    "# Notice how multiplying a POSITIVE Float by False results in a POSITIVE 0.0 Float\n",
    "print(3.1)\n",
    "print( 3.1 * False )"
   ]
  },
  {
   "cell_type": "code",
   "execution_count": 34,
   "id": "d93130d8-7d02-4eb7-a799-8978a7cd7beb",
   "metadata": {},
   "outputs": [
    {
     "name": "stdout",
     "output_type": "stream",
     "text": [
      "2.12445\n",
      "0.0\n"
     ]
    }
   ],
   "source": [
    "\n",
    "# Notice how multiplying a Positive Float with MULTIPLE Decimal Points results 0.0\n",
    "print(2.12445)\n",
    "print(2.12445 * False)"
   ]
  },
  {
   "cell_type": "code",
   "execution_count": 35,
   "id": "73a58913-94b1-4d9d-b6a3-b849af0cbc38",
   "metadata": {},
   "outputs": [
    {
     "name": "stdout",
     "output_type": "stream",
     "text": [
      "-3.1\n",
      "-0.0\n"
     ]
    }
   ],
   "source": [
    "\n",
    "# Notice how multiplying a NEGATIVE Float by False results in a NEGATIVE 0.0 Float\n",
    "print(-3.1)\n",
    "print( -3.1 * False )"
   ]
  },
  {
   "cell_type": "code",
   "execution_count": 36,
   "id": "18618c2f-9af1-40df-ad6d-5eb18929a722",
   "metadata": {},
   "outputs": [
    {
     "name": "stdout",
     "output_type": "stream",
     "text": [
      "-2.12445\n",
      "-0.0\n",
      "<class 'float'>\n"
     ]
    }
   ],
   "source": [
    "\n",
    "# Notice how multiplying a Negative Float with MULTIPLE Decimal Points by False results in a NEGATIVE 0.0 Float\n",
    "print(-2.12445)\n",
    "print( -2.12445 * False )\n",
    "print(type(-2.12445 * False ))"
   ]
  },
  {
   "cell_type": "code",
   "execution_count": null,
   "id": "deae4df8-fed6-4f15-8aaf-631c3f67a18a",
   "metadata": {},
   "outputs": [],
   "source": []
  },
  {
   "cell_type": "markdown",
   "id": "ba9a3bd7-e9b9-47fe-aa29-204db5ee7942",
   "metadata": {},
   "source": [
    ">\n",
    ">\n",
    "##### IV. D. ii. **3. <u>String</u>**\n",
    "When you multiply a **String** by <font color=\"red\"> **False** </font> it ALWAYS returns:\n",
    "- An **EMPTY** **String**\n",
    "- A **String** with the **Length** of **ZERO**\n",
    "- But it does **NOT Change** the **class type** at all\n",
    "    - Because its still a string, just an empty string but still class string\n",
    "\n",
    "**Examples below in the code cell**:"
   ]
  },
  {
   "cell_type": "code",
   "execution_count": 37,
   "id": "7f7855e8-5ac2-4b4a-aebe-d33b3426636d",
   "metadata": {},
   "outputs": [
    {
     "name": "stdout",
     "output_type": "stream",
     "text": [
      "abc\n",
      "\n",
      "def\n"
     ]
    }
   ],
   "source": [
    "# When you multiply a string by FALSE it returns an empty string\n",
    "# This is best demonstrated below where the FALSE is between two normal print requests\n",
    "# Here you notice there is a blank output line between the two normal prints because the middle print is multiplied by FALSE\n",
    "# Therefore there is an empty string that printed in the 2nd line which looks like a blank area\n",
    "print(\"abc\")\n",
    "print(\"abc\" * False)\n",
    "print(\"def\")"
   ]
  },
  {
   "cell_type": "code",
   "execution_count": 38,
   "id": "3f723bfa-3e52-46f1-942a-d24f9f58724c",
   "metadata": {},
   "outputs": [
    {
     "name": "stdout",
     "output_type": "stream",
     "text": [
      "3\n",
      "0\n"
     ]
    }
   ],
   "source": [
    "\n",
    "# Multiplying Length by FALSE results in 0 b/c its an empty string caused by the FALSE which is length 0\n",
    "print(len(\"abc\"))\n",
    "print(len(\"abc\" * False))"
   ]
  },
  {
   "cell_type": "code",
   "execution_count": 39,
   "id": "d83569fa-c2e1-435f-afed-94ef151c5a78",
   "metadata": {},
   "outputs": [
    {
     "name": "stdout",
     "output_type": "stream",
     "text": [
      "<class 'str'>\n",
      "<class 'str'>\n"
     ]
    }
   ],
   "source": [
    "\n",
    "# When you multiply a string by FALSE and ask for the class type the correct class type shows\n",
    "print(type(\"abc\"))\n",
    "print(type(\"abc\" * False))"
   ]
  },
  {
   "cell_type": "code",
   "execution_count": null,
   "id": "06b01dfe-7154-454c-b080-ffb2950aa8c5",
   "metadata": {},
   "outputs": [],
   "source": []
  },
  {
   "cell_type": "markdown",
   "id": "62994754-20e4-41bf-a14f-1af2b079d8d7",
   "metadata": {},
   "source": [
    ">\n",
    ">\n",
    "##### IV. D. ii **4. <u>Boolean</u>**\n",
    "- When you multiply another **Boolean** by <font color=\"red\"> **False** </font> its like Multiplying by **ZERO**\n",
    "    - Therefore the answer is always **ZERO**\n",
    "    - It changes it from the word to the numeric value\n",
    ">\n",
    ">      \n",
    "- When you multiple another **Boolean** by <font color=\"ForestGreen\"> **True** </font> its like Multiplying by **ONE**\n",
    "    - Depending on the Boolean multiplied by the answer is either **ONE** or **ZERO**\n",
    "    - It changes it from the word to the numeric value\n",
    ">\n",
    ">\n",
    "- <font color=\"red\"> **False** </font> = <font color=\"red\"> **ZERO** </font> = 0\n",
    "- <font color=\"ForestGreen\"> **True** </font> = <font color=\"ForestGreen\"> **ONE** </font> = 1\n",
    "\n",
    "**Examples below in the code cell**:"
   ]
  },
  {
   "cell_type": "code",
   "execution_count": 40,
   "id": "2d12b352-bbe6-4f3b-9035-f4748c56fff9",
   "metadata": {},
   "outputs": [
    {
     "name": "stdout",
     "output_type": "stream",
     "text": [
      "False\n",
      "0\n"
     ]
    }
   ],
   "source": [
    "# When you multiply FALSE by FALSE the answer is ALWAYS ZERO\n",
    "print(False)\n",
    "print(False * False)"
   ]
  },
  {
   "cell_type": "code",
   "execution_count": 41,
   "id": "60523555-2a11-42b5-8bd6-4197c3046684",
   "metadata": {},
   "outputs": [
    {
     "name": "stdout",
     "output_type": "stream",
     "text": [
      "True\n",
      "0\n"
     ]
    }
   ],
   "source": [
    "\n",
    "# When you multiply True by FALSE the answer is ALWAYS ZERO\n",
    "# Because FALSE is always 0 and multiply by 0 always = 0\n",
    "print(True)\n",
    "print(True * False)"
   ]
  },
  {
   "cell_type": "code",
   "execution_count": 42,
   "id": "bead1caa-edf0-48ad-94f0-8e34e2190de6",
   "metadata": {},
   "outputs": [
    {
     "name": "stdout",
     "output_type": "stream",
     "text": [
      "0\n"
     ]
    }
   ],
   "source": [
    "\n",
    "# Always 0 no matter how many trues involved\n",
    "print(True * False * True)"
   ]
  },
  {
   "cell_type": "code",
   "execution_count": 43,
   "id": "b797d158-52e6-439b-aa78-276824c2f175",
   "metadata": {},
   "outputs": [
    {
     "name": "stdout",
     "output_type": "stream",
     "text": [
      "True\n",
      "1\n"
     ]
    }
   ],
   "source": [
    "\n",
    "# When you multiply True by True the answer is 1 because True = 1\n",
    "print(True)\n",
    "print(True * True)"
   ]
  },
  {
   "cell_type": "code",
   "execution_count": 44,
   "id": "50c43ab4-7f4f-4bee-9bdc-cc621dd9b20b",
   "metadata": {},
   "outputs": [
    {
     "name": "stdout",
     "output_type": "stream",
     "text": [
      "1\n"
     ]
    }
   ],
   "source": [
    "\n",
    "# Always 1 no matter how many trues involved because 1 * 1 * forever is still 1\n",
    "print(True * True * True)\n"
   ]
  },
  {
   "cell_type": "code",
   "execution_count": null,
   "id": "07cd2a8f-8e55-4738-bf92-b464d1472cb5",
   "metadata": {},
   "outputs": [],
   "source": []
  },
  {
   "cell_type": "code",
   "execution_count": null,
   "id": "dcb54065-aca0-4774-b081-83f990527e05",
   "metadata": {},
   "outputs": [],
   "source": []
  },
  {
   "cell_type": "markdown",
   "id": "10871ae6-147c-4ff0-bc7f-01981a6ec6b6",
   "metadata": {},
   "source": [
    ">\n",
    ">\n",
    "#### IV. D. **iii. <u>Putting it all together into a practice Question:</u>**\n",
    "- Kaggle exercise\n",
    "\n",
    "![Data Types Exercise Question 3 Kaggle Intro to Programming](KaggleDataQuestion3.png)"
   ]
  },
  {
   "cell_type": "code",
   "execution_count": null,
   "id": "2c484d37-bcf1-4047-9705-13ee6f2e1217",
   "metadata": {},
   "outputs": [],
   "source": []
  },
  {
   "cell_type": "code",
   "execution_count": null,
   "id": "e1d865c3-d9cf-4189-b3c4-293a0ddeb0f5",
   "metadata": {},
   "outputs": [],
   "source": []
  },
  {
   "cell_type": "markdown",
   "id": "4baeffc8-8fde-48a2-ab24-9166d383a9b6",
   "metadata": {},
   "source": [
    ">\n",
    ">\n",
    "### IV. **E. <u>Boolean Arithmetic</u>**\n",
    "- Adding Boolean value to itself or other **Data Types**\n",
    "- Again it goes by the fact that **Boolean Values** have NUMERIC EQUIVALENTS:\n",
    "    - <font color=\"red\"> **False** </font> = <font color=\"red\"> **ZERO** </font> = 0\n",
    "    - <font color=\"ForestGreen\"> **True** </font> = <font color=\"ForestGreen\"> **ONE** </font> = 1\n",
    ">\n",
    ">\n",
    "- **Examples are in the below code cells:**\n",
    "    - Some are labeled as well in the print before the equation just for ease of connecting the result to the code cell by putting string , statement of boolean addition want to show"
   ]
  },
  {
   "cell_type": "markdown",
   "id": "8be70381-8459-493e-8853-e657bf89cf16",
   "metadata": {},
   "source": [
    ">\n",
    ">\n",
    "##### IV. E. **i. Boolean <font color=\"ForestGreen\"> True </font> ADDITION:**\n",
    "Always = to adding <font color=\"ForestGreen\"> **1** </font> to it as shown below:"
   ]
  },
  {
   "cell_type": "code",
   "execution_count": 45,
   "id": "c674245d-e636-4a30-a32c-9f39858ab221",
   "metadata": {},
   "outputs": [
    {
     "name": "stdout",
     "output_type": "stream",
     "text": [
      "(a) True + 1 = 2\n",
      "(b) 1 + True = 2\n",
      "(c) 3 + True = 4\n",
      "(d) 3 + True + True = 5\n"
     ]
    }
   ],
   "source": [
    "# (a) Boolean TRUE added to a POSITIVE Integer is like adding 1 to that integer\n",
    "print('(a)', 'True + 1 =', True + 1)\n",
    "\n",
    "# (b) Its the same no matter the location of the Boolean True statement\n",
    "print('(b)', '1 + True =', 1 + True)\n",
    "\n",
    "# (c) Should equate to 3 + 1 = 4\n",
    "print('(c)', '3 + True =', 3 + True)\n",
    "\n",
    "# (d) Should equate to 3 + 1 + 1 = 5\n",
    "print('(d)', '3 + True + True =', 3 + True + True)"
   ]
  },
  {
   "cell_type": "code",
   "execution_count": 46,
   "id": "6be110ca-c7dd-4810-bc08-556f4584db53",
   "metadata": {},
   "outputs": [
    {
     "name": "stdout",
     "output_type": "stream",
     "text": [
      "-1 + True = 0\n"
     ]
    }
   ],
   "source": [
    "\n",
    "# Boolean TRUE = 1 and so if added to a NEGATIVE Integer its like adding 1 still to that integer\n",
    "print('-1 + True =', -1 + True)"
   ]
  },
  {
   "cell_type": "code",
   "execution_count": 47,
   "id": "ec6c3188-0bf9-47bf-a592-5c7943e55d45",
   "metadata": {},
   "outputs": [
    {
     "name": "stdout",
     "output_type": "stream",
     "text": [
      "-2 + True = -1\n"
     ]
    }
   ],
   "source": [
    "\n",
    "# Should equate to -2 + 1 = -1\n",
    "print('-2 + True =', -2 + True)"
   ]
  },
  {
   "cell_type": "code",
   "execution_count": 48,
   "id": "d5e111a2-e582-4a4c-8071-6f0b55e7e55d",
   "metadata": {},
   "outputs": [
    {
     "name": "stdout",
     "output_type": "stream",
     "text": [
      "-4 + True + True = -2\n"
     ]
    }
   ],
   "source": [
    "\n",
    "# Should equate to -4 + 1 + 1 = -2\n",
    "print('-4 + True + True =', -4 + True + True)"
   ]
  },
  {
   "cell_type": "code",
   "execution_count": 49,
   "id": "db713e9e-85f0-4540-9d9f-4923c186435f",
   "metadata": {},
   "outputs": [
    {
     "name": "stdout",
     "output_type": "stream",
     "text": [
      "True - 1 = 0\n"
     ]
    }
   ],
   "source": [
    "\n",
    "# Should equate to 1 + (-1) = 0\n",
    "print('True - 1 =', True - 1 )"
   ]
  },
  {
   "cell_type": "code",
   "execution_count": 50,
   "id": "0997ab92-5e00-4a08-9abb-e2f2d3018876",
   "metadata": {},
   "outputs": [
    {
     "name": "stdout",
     "output_type": "stream",
     "text": [
      "True + True = 2\n"
     ]
    }
   ],
   "source": [
    "\n",
    "# Boolean TRUE = 1 added to itself is like adding 1 + 1\n",
    "print('True + True =', True + True)"
   ]
  },
  {
   "cell_type": "code",
   "execution_count": 51,
   "id": "fac15a62-c35d-4de0-b70b-2c15f67b8fb1",
   "metadata": {},
   "outputs": [
    {
     "name": "stdout",
     "output_type": "stream",
     "text": [
      "True + True + True + True = 4\n"
     ]
    }
   ],
   "source": [
    "\n",
    "# TRUE always ='s 1, so can add many together and its adding many 1's together\n",
    "print('True + True + True + True =', True + True + True + True)"
   ]
  },
  {
   "cell_type": "code",
   "execution_count": null,
   "id": "32093c4a-c448-46d9-8af7-dae4964d84a8",
   "metadata": {},
   "outputs": [],
   "source": []
  },
  {
   "cell_type": "markdown",
   "id": "f5bc6789-ca35-4f48-b48b-9295e796af86",
   "metadata": {},
   "source": [
    ">\n",
    ">\n",
    "##### IV. E. **ii. Boolean <font color=\"Red\"> False </font> ADDITION:**\n",
    "Always = to adding <font color=\"Red\"> **0** </font> to it as shown below:"
   ]
  },
  {
   "cell_type": "code",
   "execution_count": 52,
   "id": "8b0a9beb-f7a7-49f5-842c-b171b2c621fc",
   "metadata": {},
   "outputs": [
    {
     "name": "stdout",
     "output_type": "stream",
     "text": [
      "(1) 1\n",
      "(2) 0\n",
      "(3) 2\n",
      "(4) 4\n",
      "(5) 3\n",
      "(6) 5\n"
     ]
    }
   ],
   "source": [
    "\n",
    "# Boolean FALSE added to anything is = to adding 0 to it as shown below I have labeled each one as well by putting a string with comma before\n",
    "\n",
    "# (1) Equates to 1 + 0 = 1\n",
    "print('(1)' , True + False)\n",
    "\n",
    "# (2) Equates to 0 + 0 = 0\n",
    "print('(2)' , False + False)\n",
    "\n",
    "# (3) Equates to 1 + 1 + 0 = 2\n",
    "print('(3)' , True + True + False)\n",
    "\n",
    "# (4) Equates to 0 + 4 = 4\n",
    "print('(4)' , False + 4)\n",
    "\n",
    "# (5) Equates to 3 + 0 = 3\n",
    "print('(5)' , 3 + False)\n",
    "\n",
    "# (6) Equates to 0 + 1 + 2 + 1 + 1 = 5\n",
    "print('(6)' , False + True + 2 + True + 1)"
   ]
  },
  {
   "cell_type": "code",
   "execution_count": null,
   "id": "56488852-cafb-4220-85a9-8883ccfe8b14",
   "metadata": {},
   "outputs": [],
   "source": []
  },
  {
   "cell_type": "code",
   "execution_count": null,
   "id": "64518cd3-4283-41e5-a046-5a9e50fc0fd7",
   "metadata": {},
   "outputs": [],
   "source": []
  },
  {
   "cell_type": "markdown",
   "id": "c25b435d-2d23-4a62-8b2c-3ca1db22b5a5",
   "metadata": {},
   "source": [
    ">\n",
    ">\n",
    "#### IV. E. **iii. <u>Putting it all together into a practice Question</u>**\n",
    "- Kaggle exercise\n",
    "\n",
    "##### **The question**\n",
    "![Data Types Exercise Question 5 Kaggle Intro to Programming](KaggleDataQuestion5.png)\n",
    "\n",
    "##### IV. E. iii. **1. Initially I made it complicated and got an error**\n",
    "- This error was because when you do the '**print()**' within a variable you are assigning the variable the return value of the '**print()**' function which, like all Python functions, is **'None'**\n",
    "\n",
    "- I should have just assigned the length to the variable without using the print function as that would then assign the length of the engraving to to the variable\n",
    "- ![Image of the Error so not mess up notebook](KaggleDataQuestion5Error.png)\n",
    "\n",
    "  \n",
    "- That immediately corrected it and had no error as seen below:\n",
    "- ![Removed the print from engraving variable](KaggleDataQuestion5Answer.png)\n",
    "\n",
    ">\n",
    ">\n",
    "##### IV. E. iii. **2. The Kaggle people had another way that combined the logical negation lesson. See code cell below as I wanted to perform it myself in this notebook**"
   ]
  },
  {
   "cell_type": "code",
   "execution_count": 53,
   "id": "cb1dd579-8971-480b-b11d-898b16d84f2b",
   "metadata": {},
   "outputs": [],
   "source": [
    "# Define the function\n",
    "def cost_of_project(engraving, solid_gold):\n",
    "    cost = solid_gold * (100 + 10 * len(engraving)) + (not solid_gold) * (50 + 7 *len(engraving))\n",
    "    return cost"
   ]
  },
  {
   "cell_type": "code",
   "execution_count": 54,
   "id": "d25f50ab-b4c4-463f-a59a-5e61f30e53a8",
   "metadata": {},
   "outputs": [
    {
     "name": "stdout",
     "output_type": "stream",
     "text": [
      "120\n"
     ]
    }
   ],
   "source": [
    "# Now if you wrote the string 'I love you' which is 10 units\n",
    "# And it was not solid gold then solid_gold = False and the not will change it to true\n",
    "# This means the first part is multiplied by 0 and the second by 1 getting the correct answer\n",
    "\n",
    "Not_Gold_ILU = cost_of_project('I love you', False)\n",
    "print(Not_Gold_ILU)\n"
   ]
  },
  {
   "cell_type": "code",
   "execution_count": 55,
   "id": "c9e9b1dc-0bbe-4f00-929d-2319a9ed8ecc",
   "metadata": {},
   "outputs": [
    {
     "name": "stdout",
     "output_type": "stream",
     "text": [
      "200\n"
     ]
    }
   ],
   "source": [
    "# Now if you wrote the string 'I love you' which is 10 units\n",
    "# And it was solid gold then solid_gold = True and the not will change it to false\n",
    "# This means the first part is multiplied by 1 and the second by 0 getting the correct answer\n",
    "\n",
    "Gold_ILU = cost_of_project('I love you', True)\n",
    "print(Gold_ILU)\n"
   ]
  },
  {
   "cell_type": "markdown",
   "id": "97f95095-c2f7-4a37-a24f-a6760310f8d9",
   "metadata": {},
   "source": [
    ">\n",
    ">\n",
    "##### iV. E. iii. **3. Engrave Charlie+Denver on a solid gold ring**\n",
    "Calculate the cost with the above job and store it in the variable called '*project_one*'"
   ]
  },
  {
   "cell_type": "code",
   "execution_count": 56,
   "id": "5f8e1d2a-d693-4f1c-b68b-6088cd00a639",
   "metadata": {},
   "outputs": [
    {
     "name": "stdout",
     "output_type": "stream",
     "text": [
      "240\n"
     ]
    }
   ],
   "source": [
    "project_one = cost_of_project('Charlie+Denver', True)\n",
    "print(project_one)"
   ]
  },
  {
   "cell_type": "markdown",
   "id": "854bee03-9171-4765-92c9-a7975cf35c99",
   "metadata": {},
   "source": [
    ">\n",
    ">\n",
    "##### IV. E. iii. **4. Engrave 08/10/2000 on a gold plated ring**\n",
    "Calculate the cost with the above function"
   ]
  },
  {
   "cell_type": "code",
   "execution_count": 57,
   "id": "a39e59fa-e0c3-4ce6-a7fa-1cb3742c0684",
   "metadata": {},
   "outputs": [
    {
     "name": "stdout",
     "output_type": "stream",
     "text": [
      "120\n"
     ]
    }
   ],
   "source": [
    "project_two = cost_of_project('08/10/2000', False)\n",
    "print(project_two)"
   ]
  },
  {
   "cell_type": "code",
   "execution_count": null,
   "id": "4a09dc97-69cc-47b3-9156-b35df1bda2b5",
   "metadata": {},
   "outputs": [],
   "source": []
  },
  {
   "cell_type": "code",
   "execution_count": null,
   "id": "2c2f38ca-f1be-4201-ae72-59e6dd5ba3d4",
   "metadata": {},
   "outputs": [],
   "source": []
  },
  {
   "cell_type": "markdown",
   "id": "00102c66-88fc-4643-aeb1-a462a64b5724",
   "metadata": {},
   "source": [
    "## V. **Coding for Beginners pg 26 - 27 examples Put it all together**\n",
    "Putting it all together based on page 26 and 27 of **Coding for Beginners In Easy Steps 2nd Edition** book examples"
   ]
  },
  {
   "cell_type": "code",
   "execution_count": 58,
   "id": "298a244b-b6cb-4aad-b98c-366e99a869ce",
   "metadata": {
    "tags": []
   },
   "outputs": [],
   "source": [
    "\n",
    "race = 'Daytona 500'\n",
    "kilo = 1000\n",
    "temp = 98.6\n",
    "flag = True\n"
   ]
  },
  {
   "cell_type": "code",
   "execution_count": 59,
   "id": "89f61de8-bb86-4d0e-a3c5-f3cbae626aaa",
   "metadata": {
    "tags": []
   },
   "outputs": [
    {
     "name": "stdout",
     "output_type": "stream",
     "text": [
      "Daytona 500\n",
      "<class 'str'>\n"
     ]
    }
   ],
   "source": [
    "\n",
    "# Print what data type is 'Daytona 500' in standard format\n",
    "print(race)\n",
    "print(type(race))\n"
   ]
  },
  {
   "cell_type": "code",
   "execution_count": 60,
   "id": "5c946a8a-df10-45b4-81eb-c8326b06a55d",
   "metadata": {
    "tags": []
   },
   "outputs": [
    {
     "name": "stdout",
     "output_type": "stream",
     "text": [
      "1000\n",
      "<class 'int'>\n"
     ]
    }
   ],
   "source": [
    "\n",
    "# Print what data type is kilo in standard format\n",
    "print(kilo)\n",
    "print(type(kilo))\n"
   ]
  },
  {
   "cell_type": "code",
   "execution_count": 61,
   "id": "3713a398-1aa3-4f0e-80de-332ab1fd99ed",
   "metadata": {
    "tags": []
   },
   "outputs": [
    {
     "name": "stdout",
     "output_type": "stream",
     "text": [
      "98.6\n",
      "<class 'float'>\n"
     ]
    }
   ],
   "source": [
    "\n",
    "# Print what data type is temp standard format\n",
    "print(temp)\n",
    "print(type(temp))\n"
   ]
  },
  {
   "cell_type": "code",
   "execution_count": 62,
   "id": "ed3165c4-2a1d-4134-93eb-9e5b61df88fc",
   "metadata": {
    "tags": []
   },
   "outputs": [
    {
     "name": "stdout",
     "output_type": "stream",
     "text": [
      "False\n"
     ]
    }
   ],
   "source": [
    "\n",
    "# Replace the data contained in the flag variable with a truth statement\n",
    "flag = 4 > 8\n",
    "print(flag)\n"
   ]
  },
  {
   "cell_type": "code",
   "execution_count": null,
   "id": "3a5a37d7-44a7-40ef-b90e-99399abb5b9f",
   "metadata": {},
   "outputs": [],
   "source": []
  },
  {
   "cell_type": "code",
   "execution_count": null,
   "id": "84e6584a-66d5-4d86-bf31-08e4cf5b6bcc",
   "metadata": {},
   "outputs": [],
   "source": []
  },
  {
   "cell_type": "markdown",
   "id": "cb6f0e5c-5da9-45f3-bbf2-a327fceb3738",
   "metadata": {},
   "source": [
    "## VI. **Strings**\n",
    "- A data type that is a collection of characters\n",
    "- Its anything that is on a computer keyboard:\n",
    "    - \" \" spaces\n",
    "    - \",\" commas\n",
    "    - \"!\" exclamation marks = Bang\n",
    "    - letters\n",
    "    - numbers\n",
    "    - symbols\n",
    "    - special characters\n",
    "    - AKA anything within the quote marks but excluding the actual quotation marks\n",
    "    - punctuation, numbers, digits, symbols, characters)\n",
    ">\n",
    ">\n",
    "- Characters of a string are contained in <font color=\"red\"> **quotation marks** </font> either <font color=\"red\"> **' '** </font> or <font color=\"red\"> **\" \"** </font> contained within a <font color=\"blue\"> **Functions** </font> (**parentheses**) <font color=\"blue\"> **( )** </font>\n",
    "Commonly used to represent text, especially in a print statement"
   ]
  },
  {
   "cell_type": "markdown",
   "id": "b337cbc9-dfd4-422c-867d-6ac8ff0eb8e7",
   "metadata": {},
   "source": [
    "### VI. **A. <u>Represent text to create a kind of sentence like print statement</u>**"
   ]
  },
  {
   "cell_type": "markdown",
   "id": "8f4243c3-ef31-47f0-82b8-95c12db756f5",
   "metadata": {},
   "source": [
    "##### VI. A. **i. Example from Kaggle Lesson Intro: Data Types**"
   ]
  },
  {
   "cell_type": "code",
   "execution_count": 63,
   "id": "91bf9a7c-6e3d-480e-b32a-b9d786e6a664",
   "metadata": {
    "tags": []
   },
   "outputs": [
    {
     "name": "stdout",
     "output_type": "stream",
     "text": [
      "Hello, Python!\n",
      "<class 'str'>\n"
     ]
    }
   ],
   "source": [
    "\n",
    "# Assign variable w the text Hello, Python! and print it\n",
    "w = \"Hello, Python!\"\n",
    "print(w)\n",
    "print(type(w))"
   ]
  },
  {
   "cell_type": "markdown",
   "id": "16517ab3-6c79-4dfb-891b-44742425a3a8",
   "metadata": {},
   "source": [
    ">\n",
    ">\n",
    "##### VI. A. **ii. Example from Coding book p 27**"
   ]
  },
  {
   "cell_type": "code",
   "execution_count": 64,
   "id": "7276bd77-0a7e-4c28-866a-e6b17e96a30d",
   "metadata": {
    "tags": []
   },
   "outputs": [
    {
     "name": "stdout",
     "output_type": "stream",
     "text": [
      "Daytona 500 is <class 'str'>\n"
     ]
    }
   ],
   "source": [
    "# Print what data type is 'Daytona 500' in 1 sentence\n",
    "print(race, 'is', type(race))"
   ]
  },
  {
   "cell_type": "code",
   "execution_count": 65,
   "id": "a329731a-1ca2-4dc2-bb01-ed3130bc00a0",
   "metadata": {
    "tags": []
   },
   "outputs": [
    {
     "name": "stdout",
     "output_type": "stream",
     "text": [
      "1000 is <class 'int'>\n"
     ]
    }
   ],
   "source": [
    "\n",
    "# Print what data type is kilo in 1 sentence\n",
    "print(kilo, 'is', type(kilo))"
   ]
  },
  {
   "cell_type": "code",
   "execution_count": 66,
   "id": "b71d8a0d-6ffb-497b-8e7a-80b3a5f46f17",
   "metadata": {
    "tags": []
   },
   "outputs": [
    {
     "name": "stdout",
     "output_type": "stream",
     "text": [
      "98.6 is <class 'float'>\n"
     ]
    }
   ],
   "source": [
    "\n",
    "# Print what data type is temp in 1 sentence\n",
    "print(temp, 'is', type(temp))"
   ]
  },
  {
   "cell_type": "code",
   "execution_count": 67,
   "id": "ff50a8fc-1652-44f1-8286-63905fb9839c",
   "metadata": {
    "tags": []
   },
   "outputs": [
    {
     "name": "stdout",
     "output_type": "stream",
     "text": [
      "Daytona 500 is <class 'str'>\n",
      "1000 is <class 'int'>\n",
      "98.6 is <class 'float'>\n",
      "False is <class 'bool'>\n"
     ]
    }
   ],
   "source": [
    "\n",
    "# Put all those above into a single output in sentence format like the Coding for Beginners book p 27\n",
    "print(race, 'is', type(race))\n",
    "print(kilo, 'is', type(kilo))\n",
    "print(temp, 'is', type(temp))\n",
    "print(flag, 'is', type(flag))"
   ]
  },
  {
   "cell_type": "code",
   "execution_count": null,
   "id": "01501321-1169-4a3c-9394-d079d27eeec8",
   "metadata": {},
   "outputs": [],
   "source": []
  },
  {
   "cell_type": "code",
   "execution_count": null,
   "id": "c5028121-bd10-40e6-80d8-5bfefc9e55b3",
   "metadata": {},
   "outputs": [],
   "source": []
  },
  {
   "cell_type": "markdown",
   "id": "35076cc8-a7a6-44eb-9882-60db23c11fe3",
   "metadata": {},
   "source": [
    "### VI. **B. <u>Determining String Length</u>**\n",
    "You can determine the length of a string by using a built in Python function called \n",
    ">\n",
    ">'<font color=\"blue\"> **len()** </font>'\n",
    ">\n",
    ">\n",
    "Using this function will tell you the **length** of the **string** by ADDING UP all the characters. \n",
    ">\n",
    ">\n",
    "**<u>Characters counted in this length include:**</u>\n",
    "- \" \" spaces\n",
    "- \",\" commas\n",
    "- \"!\" exclamation marks = Bang\n",
    "- letters\n",
    "- numbers\n",
    "- symbols\n",
    "- special characters\n",
    "- AKA anything within the quote marks but excluding the actual quotation marks\n",
    ">\n",
    ">\n",
    "\n",
    "You determine a strings length by putting the <font color=\"DarkCyan\"> **variable name** </font> that contains the string within the '<font color=\"blue\"> **len()** </font>' functions <font color=\"blue\"> **( )**</font> and this in turn is contained in the built-in '<font color=\"BlueViolet\"> **python()** </font>' function of <font color=\"DodgerBlue\"> **print( )**</font>\n",
    ">\n",
    "><font color=\"DodgerBlue\"> **print(** </font> <font color=\"Blue\"> **len(** </font> <font color=\"DarkCyan\"> **variable** </font> <font color=\"Blue\"> **)** </font> <font color=\"DodgerBlue\"> **)** </font>\n",
    "\n",
    "- Can even put the actual string where variable would go as well\n",
    "\n",
    "##### **Example below in the following code cells:**\n",
    "    "
   ]
  },
  {
   "cell_type": "code",
   "execution_count": 68,
   "id": "094215f4-c147-4335-ae04-1ccc915ec5df",
   "metadata": {
    "tags": []
   },
   "outputs": [
    {
     "name": "stdout",
     "output_type": "stream",
     "text": [
      "Hello, Python!\n",
      "14\n"
     ]
    }
   ],
   "source": [
    "# Python tell me the length of the string contained within the 'w' variable\n",
    "print(w)\n",
    "print(len(w))\n"
   ]
  },
  {
   "cell_type": "code",
   "execution_count": 69,
   "id": "b5fb954b-8440-429b-828c-e162be67cf0b",
   "metadata": {},
   "outputs": [
    {
     "name": "stdout",
     "output_type": "stream",
     "text": [
      "14\n"
     ]
    }
   ],
   "source": [
    "# Can print length of string even without a variable\n",
    "print(len('Hello, Python!'))"
   ]
  },
  {
   "cell_type": "code",
   "execution_count": null,
   "id": "8af336dc-557c-4e53-9de9-218313d3ac78",
   "metadata": {},
   "outputs": [],
   "source": []
  },
  {
   "cell_type": "code",
   "execution_count": null,
   "id": "859452f2-69be-48ec-a188-2086c74471f4",
   "metadata": {},
   "outputs": [],
   "source": []
  },
  {
   "cell_type": "markdown",
   "id": "e67025af-1b66-427a-b0af-8ca7855ad4cb",
   "metadata": {},
   "source": [
    ">\n",
    ">\n",
    "### VI. **C. <u>Empty Strings</u>**\n",
    "A fundamental concept in data science and programming tasks when working with text data that represents a string with **zero character length** or **no text**\n",
    "\n",
    "It literally contains **NOTHING**. \n",
    "\n",
    "It doesn't have spaces in between the \" or \"\"\n",
    "\n",
    "There is nothing inside the string so it looks like <font color=\"red\">**\"\"**</font> or **''**\n",
    "\n",
    "Its like having an empty box with nothing in it\n",
    "\n",
    "##### **Example below. You assign an empty string, like all data types, to a variable**"
   ]
  },
  {
   "cell_type": "code",
   "execution_count": 70,
   "id": "58b57d2b-8c3c-49ca-9feb-f1983e48cc34",
   "metadata": {
    "tags": []
   },
   "outputs": [
    {
     "name": "stdout",
     "output_type": "stream",
     "text": [
      "<class 'str'>\n",
      "0\n"
     ]
    }
   ],
   "source": [
    "\n",
    "# Create an empty string inside variable 'shortest_string' then type it and length determine it\n",
    "shortest_string = \"\"\n",
    "print(type(shortest_string))\n",
    "print(len(shortest_string))\n"
   ]
  },
  {
   "cell_type": "code",
   "execution_count": null,
   "id": "13ceccf9-ed7e-46c7-a33e-d06f704bf5dd",
   "metadata": {},
   "outputs": [],
   "source": []
  },
  {
   "cell_type": "markdown",
   "id": "4e08e415-3c12-4837-a52b-a799c5c5373f",
   "metadata": {},
   "source": [
    ">\n",
    ">\n",
    "### VI. **D. <u>Numbers as Text</u>**\n",
    "You can turn a number from an **integer** or **float** into a **string** just by putting <font color=\"red\"> **\" \"** </font> or <font color=\"red\"> **' '**</font> around the number. This then turns the number into a string data type.\n",
    "\n",
    "##### **Example in code cell below:**"
   ]
  },
  {
   "cell_type": "code",
   "execution_count": 71,
   "id": "7517d8e5-f557-4f60-8ea8-c3aa78d4c7bb",
   "metadata": {
    "tags": []
   },
   "outputs": [
    {
     "name": "stdout",
     "output_type": "stream",
     "text": [
      "1.12321\n",
      "<class 'str'>\n"
     ]
    }
   ],
   "source": [
    "\n",
    "# Make the number 1.12321 a string assigned to variable 'my_number', print and type it\n",
    "my_number = \"1.12321\"\n",
    "print(my_number)\n",
    "print(type(my_number))\n"
   ]
  },
  {
   "cell_type": "code",
   "execution_count": null,
   "id": "d8aa85d8-f2d7-4e5b-b7f2-95d8e930b530",
   "metadata": {},
   "outputs": [],
   "source": []
  },
  {
   "cell_type": "markdown",
   "id": "50f871b0-9cea-4e9a-a22c-f9e51d5272a0",
   "metadata": {},
   "source": [
    ">\n",
    ">\n",
    "### VI. **E. <u>Concatenation</u>**\n",
    "- Combining two or more **strings** to create a longer string that combines the two original strings into one string\n",
    "\n",
    "- 'Just like you can add two numbers (**floats** or **integers**), you can also add two strings. It results in a longer string that combines the two original strings by concatenating them'\n",
    "\n",
    "- This occurs like an arithmetic equation in variable assignment but instead of numbers you are using the <font color=\"GoldenRod\">**+**</font> sign between two **strings** which each have their own **\" \"** around them\n",
    "\n",
    "- <font color=\"GoldenRod\">**+**</font> is called the \"<font color=\"GoldenRod\">**concatenation operator**</font>\"\n",
    "\n",
    "##### **Example below in the following code cell**"
   ]
  },
  {
   "cell_type": "code",
   "execution_count": 72,
   "id": "a637e0ed-2be3-40e6-b9e0-5f8842cc468d",
   "metadata": {},
   "outputs": [
    {
     "name": "stdout",
     "output_type": "stream",
     "text": [
      "abcdef\n",
      "<class 'str'>\n"
     ]
    }
   ],
   "source": [
    "\n",
    "# Create a variable in which you use the concatenation operator to combine two text strings\n",
    "new_string = \"abc\" + \"def\"\n",
    "\n",
    "# Now print and type it out\n",
    "print(new_string)\n",
    "print(type(new_string))\n"
   ]
  },
  {
   "cell_type": "code",
   "execution_count": 73,
   "id": "7985ab31-1523-43d4-b8ff-3e88ca637f65",
   "metadata": {},
   "outputs": [
    {
     "name": "stdout",
     "output_type": "stream",
     "text": [
      "a = def\n",
      "a length = 3\n",
      "\n",
      "b = 456\n",
      "b length = 3\n",
      "\n",
      "newstring = abc123\n",
      "newstring length = 6\n",
      "\n",
      "newstring1 = def456\n",
      "newstring1 length = 6\n"
     ]
    }
   ],
   "source": [
    "# Assign 2 variable strings \n",
    "a = \"def\"\n",
    "b = \"456\"\n",
    "\n",
    "# print string a, labeled\n",
    "print('a =', a)\n",
    "\n",
    "# print string a length, labeled\n",
    "print('a length =', len(a))\n",
    "\n",
    "# Put a blank space in the output by printing an empty string\n",
    "print('')\n",
    "\n",
    "# Print string b, labeled line 1\n",
    "# Print string b length, labeled line 2\n",
    "print('b =', b)\n",
    "print('b length =', len(b))\n",
    "\n",
    "# Put a blank space in the output by printing an empty string\n",
    "print('')\n",
    "\n",
    "# Create new variable that concatenates two typed out strings\n",
    "newstring = \"abc\" + \"123\"\n",
    "\n",
    "# Create new variable that concatenates the 2 variables each containing stringss\n",
    "newstring1 = a + b\n",
    "\n",
    "# Print each variable labeled then length labeled all on separate lines with a blank line between the two variables\n",
    "print('newstring =', newstring)\n",
    "print('newstring length =', len(newstring))\n",
    "print('')\n",
    "print('newstring1 =', newstring1)\n",
    "print('newstring1 length =', len(newstring1))"
   ]
  },
  {
   "cell_type": "code",
   "execution_count": null,
   "id": "7df281f0-63a8-43dc-8d60-f9b761685ea1",
   "metadata": {},
   "outputs": [],
   "source": []
  },
  {
   "cell_type": "markdown",
   "id": "0e73a475-cd64-4ca7-b6f0-75ac0ac7cbab",
   "metadata": {},
   "source": [
    ">\n",
    ">\n",
    "### VI. **F. <u>Repeat</u>**\n",
    "- You can<font color=\"red\">**NOT** </font> do the **FOLLOWING** with two or more strings together like you can add two or more strings together in concatenation:\n",
    "    - **Subtract** \"<font color=\"GoldenRod\"> **-** </font>\"\n",
    "    - **Divide** \"<font color=\"GoldenRod\"> **/** </font>\"\n",
    "    - **Multiply** \"<font color=\"GoldenRod\"> * </font>\"\n",
    ">\n",
    ">\n",
    "- You can use the the **'<font color=\"GoldenRod\">  * </font>'**  operator to repeat a single string a specified number of times\n",
    "    - Achieved by assigning a <font color=\"DarkCyan\"> **variable** </font> a single <font color=\"purple\">**string**</font> and in the same <font color=\"purple\">**statement**</font> using **'<font color=\"GoldenRod\">  * </font>'** and then a <font color=\"Magenta\">**number**</font>\n",
    "    - The <font color=\"Magenta\">**number**</font> you put after the **'<font color=\"GoldenRod\">  * </font>'** specifies the <font color=\"Magenta\"> number of times </font> you want that single string <font color=\"Magenta\"> to be repeated</font>\n",
    "    - This 'results in a string that's just the original string concatenated with itself a specified number of times'\n",
    ">\n",
    ">\n",
    "> <font color=\"DarkCyan\"> **variable** </font> **=** \"<font color=\"Purple\"> String </font>\" <font color=\"GoldenRod\"> * </font> <font color=\"Magenta\"> **number** </font>\n",
    ">\n",
    ">\n",
    "##### **Example below in the following code cell**"
   ]
  },
  {
   "cell_type": "code",
   "execution_count": 74,
   "id": "8b862f7a-99c1-4837-a923-63f3dd22aadc",
   "metadata": {},
   "outputs": [
    {
     "name": "stdout",
     "output_type": "stream",
     "text": [
      "abcabcabc\n",
      "<class 'str'>\n"
     ]
    }
   ],
   "source": [
    "\n",
    "# Create a variable that contains a string repeated 3 times over\n",
    "newest_string = \"abc\" * 3\n",
    "\n",
    "# Now print and type it out\n",
    "print(newest_string)\n",
    "print(type(newest_string))"
   ]
  },
  {
   "cell_type": "code",
   "execution_count": null,
   "id": "300afc15-2278-4349-a120-49a78a434530",
   "metadata": {},
   "outputs": [],
   "source": []
  },
  {
   "cell_type": "code",
   "execution_count": 75,
   "id": "6fe42368-ad36-4766-8990-7e248f6c6354",
   "metadata": {},
   "outputs": [
    {
     "name": "stdout",
     "output_type": "stream",
     "text": [
      "orig = abc\n",
      "orig length = 3\n",
      "\n",
      "threepeatorig = abcabcabc\n",
      "threepeatorig length = 9\n"
     ]
    }
   ],
   "source": [
    "orig = \"abc\"\n",
    "threepeatorig = orig * 3\n",
    "print('orig =', orig)\n",
    "print('orig length =', len(orig))\n",
    "print('')\n",
    "print('threepeatorig =', threepeatorig)\n",
    "print('threepeatorig length =', len(threepeatorig))"
   ]
  },
  {
   "cell_type": "code",
   "execution_count": null,
   "id": "b475cc51-ca75-4822-839a-c6f97f879343",
   "metadata": {},
   "outputs": [],
   "source": []
  },
  {
   "cell_type": "code",
   "execution_count": null,
   "id": "e39ae5c5-ba0a-4adb-a1d4-4e1a3963a418",
   "metadata": {},
   "outputs": [],
   "source": []
  },
  {
   "cell_type": "markdown",
   "id": "94a502c5-5928-4453-81f4-ac7f19955feb",
   "metadata": {},
   "source": [
    ">\n",
    ">\n",
    "#### VI. F. **i. <u>Using a Float</u>**\n",
    "- You can<font color=\"red\">**NOT**</font> multiply '**<font color=\"GoldenRod\"> * </font>**' a <font color=\"purple\"> **string** </font> by a **float**\n",
    "- Trying to do so will return an error\n",
    "- This error is pictured below since putting it in the notebook as a code cell will cause all following code cells to not run when **Run All** is selected\n",
    "\n",
    "![Error Message When String Multiplied by Float](KaggleRepeatExample.png)"
   ]
  },
  {
   "cell_type": "code",
   "execution_count": null,
   "id": "fc80d29c-dfc6-4b59-a5b1-1b0fa62aa44f",
   "metadata": {},
   "outputs": [],
   "source": []
  },
  {
   "cell_type": "markdown",
   "id": "2fe115fe-04e4-449f-a692-624f233dc55c",
   "metadata": {},
   "source": [
    ">\n",
    ">\n",
    "### VI. **G. <u>Special Escape Sequences used in Python strings:</u>**\n",
    ">\n",
    ">\n",
    "*From ChatGPT tutorial*\n",
    "Inspired by these characters use in the *Coding for Beginners* book\n",
    ">\n",
    ">\n",
    "- Used to represent special characters\n",
    "- You can use them to format text and control how it's displayed when printed from a code cell\n",
    "    - Kind of like Markdown for Code cells\n",
    "- Used to represent control characters or escape sequences\n",
    "- Affect how the text is displayed when it's printed or processed\n",
    "- They are part of the string's content and are interpreted by the programming language\n",
    "-  About controlling how text is displayed and processed within the code\n",
    ">\n",
    ">"
   ]
  },
  {
   "cell_type": "markdown",
   "id": "9016b8b9-4b69-4eaf-b94d-b330cb60e370",
   "metadata": {},
   "source": [
    ">\n",
    ">\n",
    "#### VI. G. **i. <u>Types of special characters 'escape sequences'</u>**\n",
    "\n",
    "| Code | Special Character Name | Example | Example Output |\n",
    "| ---- | ---------------------- | ------- | -------------- |\n",
    "| **'\\n'** | Newline Character | <font color=\"Blue\"> **print(** </font> **'\\n<font color=magenta>Line 1:</font>'** <font color=\"Blue\"> **,** </font> <font color=\"magenta\"> **'Line 2:'** </font> <font color=\"blue\"> **)** </font> | |\n",
    "| | | | **Line 1:** |\n",
    "| | | | **Line 2:** |\n",
    "| | | | |\n",
    "| | | | |\n",
    "| **'\\t'** | Single Tab Character | <font color=\"blue\"> **print(** </font> <font color=\"Magenta\"> **'Line 1:** </font> **\\t'** <font color=\"blue\"> **,** </font> <font color=\"magenta\"> **'Line 2:'** </font> <font color=\"blue\"> **)** </font> | **Line 1:** TAB (4 spaces b/w them)  **Line 2:** |\n",
    "| | | Double it with '\\t\\t' to get 2 tabs |"
   ]
  },
  {
   "cell_type": "code",
   "execution_count": null,
   "id": "5b31c01d-c6c9-4b79-adf5-6ecfcd97d23b",
   "metadata": {},
   "outputs": [],
   "source": []
  },
  {
   "cell_type": "code",
   "execution_count": null,
   "id": "fd530fc4-2e52-4efb-83eb-b79afb87a1f7",
   "metadata": {},
   "outputs": [],
   "source": []
  },
  {
   "cell_type": "markdown",
   "id": "1d037a43-87db-4485-8fd2-df8aec57e3b9",
   "metadata": {},
   "source": [
    ">\n",
    ">\n",
    "## **VII. \"Cast\" Operations**\n",
    ">\n",
    ">\n",
    "Short for **typecasting** or **typecast** operation\n",
    "\n",
    "Its a conversion of data type of a <font color=\"DarkCyan\"> **variable** </font>from one data type class to a different data type class\n",
    "\n",
    "As stated above there are only specific actions that can occur to specific data types.\n",
    "- You cannot do Arithmetic on a **String** for example, only possible on numeric data types like **integers** and **floats**\n",
    "- **Concatenation** can **ONLY** be performed on **string** data type\n",
    "\n",
    "\"Python provides several built-in functions that allow you to easily convert data in your programs to a different data type.\n",
    "- These built-in functions do NOT CONVERT the ORIGINAL specified value itself\n",
    "- They merely RETURN a CONVERTED REPRESENTATION of its value"
   ]
  },
  {
   "cell_type": "markdown",
   "id": "96f64d65-fb17-48bb-b7f1-95c05d1e0848",
   "metadata": {},
   "source": [
    "| Cast Operation Function | Action (Description) |\n",
    "| ----------------------- | -------------------- |\n",
    "| '**int( x )**' | Converts **x** to an ***integer*** whole number |\n",
    "| '**float( x )**' | Converts **x** to a ***floating***-point number |\n",
    "| '**str( x )**' | Converts **x** to a **string** representation |"
   ]
  },
  {
   "cell_type": "markdown",
   "id": "7bac0928-8973-4e0b-ad9f-92d06ebbfea9",
   "metadata": {},
   "source": [
    ">\n",
    ">\n",
    "### VII. **A. <u>Using 'float( x )'</u>**\n",
    "If you have a <font color=\"DarkCyan\"> **variable** </font> with data in any data type, besides float, that is convertible to a float then you use the '<font color=\"Blue\"> **float()**</font>' function with the name of the <font color=\"DarkCyan\"> **variable** </font> you want to convert to a float within the functions <font color=\"blue\"> **( )** </font>. \n",
    "\n",
    "- You can convert any **data type**, that can be represented as a floating-point number, with the \n",
    ">'<font color=\"blue\"> **float()** </font>' function. \n",
    "\n",
    "- You can<font color=\"red\">**NOT**</font> convert a <font color=\"purple\"> **TEXT string** </font> into a **float** with the '<font color=\"blue\"> **float()** </font>' function . AKA You can**NOT** convert **text-containing strings**\n",
    "    - like if you attempt to convert a string <font color=\"purple\">**\"Hello, Python!\"**</font> to a **float** you will get an **error**\n",
    ">\n",
    ">\n",
    "\n",
    "- but you can convert a <font color=\"purple\"> **NUMERIC string** </font> into a **float** with the '<font color=\"blue\"> **float()** </font>' function. This includes:\n",
    "    - <font color=\"purple\"> **strings** </font> that represent **NUMBERS**\n",
    "    - **Integers**\n"
   ]
  },
  {
   "cell_type": "code",
   "execution_count": null,
   "id": "13ab9f7f-708b-48aa-9d42-bd7702bd7767",
   "metadata": {},
   "outputs": [],
   "source": []
  },
  {
   "cell_type": "markdown",
   "id": "3deb38fb-6fb4-45b9-8f21-83a6f284133d",
   "metadata": {},
   "source": [
    ">\n",
    ">\n",
    "#### VII. A. **i. <u>Convert a numeric containing string to a float</u>**\n",
    "Above you already classified the <font color=\"DarkCyan\">**variable**</font> called '<font color=\"DarkCyan\">**my_number**</font>' to be a <font color=\"purple\">**str**</font> data type containing the numeric value of \"<font color=\"Magenta\">**1.12321**</font>\". In the following code cell please convert that numeric string into a **float** data type"
   ]
  },
  {
   "cell_type": "code",
   "execution_count": 76,
   "id": "dcbe9e60-521a-4cd8-a297-c495fbc9a693",
   "metadata": {},
   "outputs": [
    {
     "name": "stdout",
     "output_type": "stream",
     "text": [
      "1.12321\n",
      "<class 'float'>\n"
     ]
    }
   ],
   "source": [
    "\n",
    "# Convert variable 'my_number' that contains a numeric string into the float data type\n",
    "# Store this converted representation of 'my_number' in a variable called 'also_my_number'\n",
    "also_my_number = float(my_number)\n",
    "\n",
    "# Now print it and show the type of the new converted variable, should be float\n",
    "print(also_my_number)\n",
    "print(type(also_my_number))\n"
   ]
  },
  {
   "cell_type": "code",
   "execution_count": null,
   "id": "9aeb2cc8-ba7c-4690-9813-d7844496cc03",
   "metadata": {},
   "outputs": [],
   "source": []
  },
  {
   "cell_type": "markdown",
   "id": "02f2cf74-8b2a-499a-90cc-5d08bf0b92d1",
   "metadata": {},
   "source": [
    ">\n",
    ">\n",
    "##### VII. A. i. **1. <u>Practice Exercise 1</u>**\n",
    "\n",
    "1. Create a <font color=\"DarkCyan\"> **variable**</font> containing the numeric string <font color=\"purple\">**\"10.43430\"** </font>\n",
    "2. Print it and type it out to prove its a string\n",
    "3. <font color=\"blue\"> Convert it to a float </font> data type and assign it to the <font color =\"DarkCyan\"> **new variable**</font>\n",
    "4. Print it and type it out to prove its been converted to a float\n",
    "\n",
    "Do this in the following code cell"
   ]
  },
  {
   "cell_type": "code",
   "execution_count": 77,
   "id": "6e000ac0-92b2-4b36-8d6d-a6b641ae6c8f",
   "metadata": {},
   "outputs": [
    {
     "name": "stdout",
     "output_type": "stream",
     "text": [
      "10.43430\n",
      "<class 'str'>\n"
     ]
    }
   ],
   "source": [
    "\n",
    "# Step 1 and 2\n",
    "\n",
    "practice_exercise_1 = \"10.43430\"\n",
    "print( practice_exercise_1 )\n",
    "print( type( practice_exercise_1 ))\n"
   ]
  },
  {
   "cell_type": "code",
   "execution_count": 78,
   "id": "aef43282-2812-4277-9163-1b9a0a7f16a7",
   "metadata": {},
   "outputs": [
    {
     "name": "stdout",
     "output_type": "stream",
     "text": [
      "10.4343\n",
      "<class 'float'>\n"
     ]
    }
   ],
   "source": [
    "\n",
    "# Step 3 and 4, use spaces to make it visually pleasing\n",
    "\n",
    "practice_exercise_1_converted = float( practice_exercise_1 )\n",
    "print( practice_exercise_1_converted )\n",
    "print( type( practice_exercise_1_converted ) )\n"
   ]
  },
  {
   "cell_type": "markdown",
   "id": "73e0a43d-6040-48a9-a210-5d63a72dc0ec",
   "metadata": {},
   "source": [
    ">\n",
    ">\n",
    "##### VII. A. i. **2. <u>Practice Exercise 2</u>**\n",
    "\n",
    "1. Create a <font color=\"DarkCyan\"> **variable** </font> containing the numeric string <font color=\"purple\">**\"3\"**</font>\n",
    "2. Print it and type it out to prove its a string\n",
    "3. <font color=\"blue\"> Convert it to a float </font> data type and assign it to the <font color=\"DarkCyan\"> **new variable** </font>\n",
    "4. Print it and type it out to prove its been converted to a float\n",
    "\n",
    "Do this in the following code cell"
   ]
  },
  {
   "cell_type": "code",
   "execution_count": 79,
   "id": "3dc18155-e03c-4b0a-8cfb-c976e150888f",
   "metadata": {},
   "outputs": [
    {
     "name": "stdout",
     "output_type": "stream",
     "text": [
      "3\n",
      "<class 'str'>\n",
      "3.0\n",
      "<class 'float'>\n"
     ]
    }
   ],
   "source": [
    "\n",
    "# Create initial string and print and type it\n",
    "practice_exercise_2 = \"3\"\n",
    "print(practice_exercise_2)\n",
    "print(type(practice_exercise_2))\n",
    "\n",
    "# Convert it and print and type it\n",
    "practice_exercise_2_converted = float(practice_exercise_2)\n",
    "print(practice_exercise_2_converted)\n",
    "print(type(practice_exercise_2_converted))\n"
   ]
  },
  {
   "cell_type": "code",
   "execution_count": null,
   "id": "08b79335-5b74-493c-b446-87c6327db1c3",
   "metadata": {},
   "outputs": [],
   "source": []
  },
  {
   "cell_type": "markdown",
   "id": "e1b77907-c884-47bc-9a27-a587de5b1524",
   "metadata": {},
   "source": [
    ">\n",
    ">\n",
    "### VII. **B. <u>Using 'int( x )'</u>**\n",
    "If you have a <font color=\"DarkCyan\"> **variable** </font> with data in any data type, besides **int**, that is convertible to an **integer** then you use the \n",
    ">\n",
    ">'<font color=\"Blue\"> **int(** </font> <font color=\"DarkCyan\"> **variable** </font> <font color=\"blue\"> **)** </font>' function\n",
    "\n",
    "with the <font color=\"DarkCyan\"> name of the **variable** you want to convert </font> to an integer within the functions <font color=\"blue\"> **( )**</font>.\n",
    ">\n",
    ">\n",
    "You can convert any **data type**, that can be represented as a whole number without a decimal point, with the '<font color=\"blue\"> **int()** </font>' function. \n",
    ">\n",
    ">\n",
    "1. Can<font color=\"red\">**NOT**</font> convert a <font color=\"purple\"> **text string** </font> into a **integer**\n",
    ">\n",
    ">\n",
    "2. Can convert a <font color=\"purple\"> **WHOLE NUMBER numeric string** </font> into an **integer**\n",
    ">\n",
    ">\n",
    "4. Can convert <font color=\"purple\"> **strings** </font> that represent <font color=\"Magenta\"> **WHOLE numbers** </font> ONLY with<font color=\"red\">**OUT**</font> a decimal point\n",
    ">\n",
    ">\n",
    "5. Can<font color=\"red\">**NOT**</font> convert a <font color=\"purple\"> **floating-point string** </font>\n",
    ">\n",
    ">\n",
    "6. Can convert **floats**\n",
    ">\n",
    ">\n",
    "7. Can<font color=\"red\">**NOT**</font> convert <font color=\"purple\"> **text-containing strings** </font>\n",
    "    - like if you attempt to convert a string <font color=\"purple\"> **\"Hello, Python!\"** </font> to a **int** you will get an **error**"
   ]
  },
  {
   "cell_type": "code",
   "execution_count": null,
   "id": "08901d7f-a587-4827-afd6-d7f0ab51ff7a",
   "metadata": {},
   "outputs": [],
   "source": []
  },
  {
   "cell_type": "markdown",
   "id": "e63d92c6-14e0-4ada-9785-dcb3834fbf45",
   "metadata": {},
   "source": [
    ">\n",
    ">\n",
    "#### VII. B. **i. <u>Using with Negative Floats</u>**\n",
    "When you use '<font color=\"blue\">**int()**</font>' function with <font color=\"red\">**NEGATIVE**</font> float it will always <font color=\"red\">Round **UP**</font> to the closest integer\n",
    "\n",
    "**Examples below**"
   ]
  },
  {
   "cell_type": "code",
   "execution_count": 80,
   "id": "d616cb84-5f38-447a-92ac-b0045d962a11",
   "metadata": {},
   "outputs": [
    {
     "name": "stdout",
     "output_type": "stream",
     "text": [
      "-1\n"
     ]
    }
   ],
   "source": [
    "print( int( -1.1234 ) )"
   ]
  },
  {
   "cell_type": "code",
   "execution_count": 81,
   "id": "2008e4ef-7f0a-442e-88f1-eb12923b8d44",
   "metadata": {},
   "outputs": [
    {
     "name": "stdout",
     "output_type": "stream",
     "text": [
      "-1\n"
     ]
    }
   ],
   "source": [
    "\n",
    "# Despite -1.9574 being closer to -2 Python its standard to round UP to -1 as shown below for NEGATIVE floats\n",
    "print(int(-1.9574))\n"
   ]
  },
  {
   "cell_type": "code",
   "execution_count": null,
   "id": "1587ca41-0e63-46dc-b034-694fafdc5c3e",
   "metadata": {},
   "outputs": [],
   "source": []
  },
  {
   "cell_type": "markdown",
   "id": "401e88aa-86f2-4f22-8584-b89b5ad7f9f7",
   "metadata": {},
   "source": [
    ">\n",
    ">\n",
    "#### VII. B. **ii. <u>Using with Positive Floats</u>**\n",
    "When you use '<font color=\"blue\">**int()**</font>' function with <font color=\"LimeGreen\">**POSITIVE** </font> float it will always <font color=\"LimeGreen\">Round **DOWN**</font> to the closest integer\n",
    "\n",
    "**Examples below**"
   ]
  },
  {
   "cell_type": "code",
   "execution_count": 82,
   "id": "d0510813-a475-461e-8041-979b858fd99c",
   "metadata": {},
   "outputs": [
    {
     "name": "stdout",
     "output_type": "stream",
     "text": [
      "2\n"
     ]
    }
   ],
   "source": [
    "print(int(2.1))"
   ]
  },
  {
   "cell_type": "code",
   "execution_count": 83,
   "id": "d3f70222-1c63-45b7-925f-30f1fbf23e5c",
   "metadata": {},
   "outputs": [
    {
     "name": "stdout",
     "output_type": "stream",
     "text": [
      "2\n"
     ]
    }
   ],
   "source": [
    "\n",
    "# Despite 2.945 being closer to 3 Python its standard to round DOWN to 2 as shown below for POSTIVE floats \n",
    "print(int(2.945))\n"
   ]
  },
  {
   "cell_type": "markdown",
   "id": "550d2e16-2ecf-479b-9d9c-b0b1ab28bb61",
   "metadata": {},
   "source": [
    ">\n",
    ">\n",
    "##### VII. B. ii. **1. <u>Practice Exercise 1</u>**\n",
    "Convert the variable from above '<font color=\"DarkCyan\"> **practice_exercise_1** </font>' into a **integer**\n",
    "\n",
    "**HINT** In order to achieve this you have to first convert the <font color=\"purple\"> **floating-point string** </font> into a float data type before you can use the '<font color=\"blue\"> **int()** </font>' function to convert it to an integer.\n",
    "\n",
    "Use the below code cell"
   ]
  },
  {
   "cell_type": "code",
   "execution_count": 84,
   "id": "8b036a73-0c4c-4306-ba94-796530e1aac8",
   "metadata": {},
   "outputs": [
    {
     "name": "stdout",
     "output_type": "stream",
     "text": [
      "10.4343\n",
      "<class 'float'>\n",
      "10\n",
      "<class 'int'>\n"
     ]
    }
   ],
   "source": [
    "# (1) Convert variable to a float, this was already acheived with the variable 'practice_exercise_1_converted'\n",
    "practice_exercise_1_converted = float( practice_exercise_1 )\n",
    "print( practice_exercise_1_converted )\n",
    "print( type( practice_exercise_1_converted ) )\n",
    "\n",
    "# (2) Convert the float into an integer and assign it to a new variable\n",
    "prac_ex_1_converted = int( practice_exercise_1_converted )\n",
    "print( prac_ex_1_converted )\n",
    "print( type( prac_ex_1_converted ) )\n"
   ]
  },
  {
   "cell_type": "code",
   "execution_count": null,
   "id": "93973ac4-4080-4ad8-9433-f5f05a36bdf5",
   "metadata": {},
   "outputs": [],
   "source": []
  },
  {
   "cell_type": "markdown",
   "id": "12324b81-e8e1-4329-b8b3-160c7a51a01c",
   "metadata": {},
   "source": [
    ">\n",
    ">\n",
    "##### VII. B. ii. **2. <u>Practice Exercise 2</u>**\n",
    "1. Define <font color=\"DarkCyan\"> **variable** </font> named <font color=\"DarkCyan\"> **y** </font> with the float number \"<font color=\"Magenta\"> **1.** </font>\"\n",
    "2. then convert it to an integer. Please ensure you print and type before your convert and after you convert\n",
    "\n",
    "Do this in the code cell below"
   ]
  },
  {
   "cell_type": "code",
   "execution_count": 85,
   "id": "2fe6d654-0c0d-4825-9903-de0e316ccd93",
   "metadata": {},
   "outputs": [
    {
     "name": "stdout",
     "output_type": "stream",
     "text": [
      "1.0\n",
      "<class 'float'>\n"
     ]
    }
   ],
   "source": [
    "# Define a float\n",
    "y = 1.\n",
    "print( y )\n",
    "print( type( y ) )"
   ]
  },
  {
   "cell_type": "code",
   "execution_count": 86,
   "id": "6b4546df-6531-4ba3-bebe-467edc5615ef",
   "metadata": {},
   "outputs": [
    {
     "name": "stdout",
     "output_type": "stream",
     "text": [
      "1\n",
      "<class 'int'>\n"
     ]
    }
   ],
   "source": [
    "# Convert float to integer\n",
    "z = int( y )\n",
    "print( z )\n",
    "print( type( z ) )"
   ]
  },
  {
   "cell_type": "code",
   "execution_count": null,
   "id": "de84f4e1-0c59-447d-a6e6-b522d5ee5585",
   "metadata": {},
   "outputs": [],
   "source": []
  },
  {
   "cell_type": "code",
   "execution_count": null,
   "id": "01c40c50-aa0c-4763-93d5-0322fc9f96fc",
   "metadata": {},
   "outputs": [],
   "source": []
  },
  {
   "cell_type": "code",
   "execution_count": 87,
   "id": "86098198-1b22-406c-a3cd-23e9196a5e50",
   "metadata": {},
   "outputs": [
    {
     "name": "stdout",
     "output_type": "stream",
     "text": [
      "Input is: <class 'str'> <class 'str'>\n"
     ]
    }
   ],
   "source": [
    "\n",
    "# Make 2 variables with strings that are also numbers\n",
    "num1 = '3'\n",
    "num2 = '9'\n",
    "print('Input is:', type(num1), type(num2))"
   ]
  },
  {
   "cell_type": "code",
   "execution_count": 88,
   "id": "10551f5c-ee68-4e17-ab78-9725f17d14fa",
   "metadata": {},
   "outputs": [
    {
     "name": "stdout",
     "output_type": "stream",
     "text": [
      "Total Strings is: 39 <class 'str'>\n"
     ]
    }
   ],
   "source": [
    "\n",
    "# This concatenates the 2 strings a single string 3 combined with 9 is 39 and it stays a string\n",
    "total = num1 + num2\n",
    "print('Total Strings is:', total, type(total))"
   ]
  },
  {
   "cell_type": "code",
   "execution_count": 89,
   "id": "5d3b46a9-a676-4494-94e9-46566be25d98",
   "metadata": {},
   "outputs": [
    {
     "name": "stdout",
     "output_type": "stream",
     "text": [
      "Total Integers is: 12 <class 'int'>\n"
     ]
    }
   ],
   "source": [
    "\n",
    "# Convert the string numbers into integers and add them together, print and type\n",
    "total = int(num1) + int(num2)\n",
    "print('Total Integers is:', total, type(total))"
   ]
  },
  {
   "cell_type": "code",
   "execution_count": 90,
   "id": "ac7ad5a0-d9dd-4603-bf1f-5f6790dc59ac",
   "metadata": {},
   "outputs": [
    {
     "name": "stdout",
     "output_type": "stream",
     "text": [
      "Total Float is: 12.0 <class 'float'>\n"
     ]
    }
   ],
   "source": [
    "\n",
    "# Convert the strings to floats and add them together, print and type\n",
    "total = float(num1) + float(num2)\n",
    "print('Total Float is:', total, type(total))"
   ]
  },
  {
   "cell_type": "markdown",
   "id": "4a09b228-3034-4b64-9a2e-daaf7ff52ef5",
   "metadata": {},
   "source": [
    "#### 1. **Example 1**\n",
    "Lets say you are working with another programmer and they assigned numeric values to variables by the built-in '<font color=\"blue\">**input()**</font>' function (To be discussed another time). \n",
    "\n",
    "##### a. **<u>What does that mean?<u>**\n",
    "    The numeric values in these coder-defined variables that were assigned using the 'input()' function are considered by Python to be the STRING Data Type\n",
    "\n",
    "    \n",
    "##### b. **<u>Can you do arithmetic with these variables immediately? Why or why not?**\n",
    "    You canNOT do arithemtic with the (str) string data type. \n",
    "    You must first CONVERT(cast) the variable to an appropriate numeric type: integer (int) or float (float)"
   ]
  },
  {
   "cell_type": "markdown",
   "id": "a58fecf3-aec7-48c1-8389-4ec272211181",
   "metadata": {},
   "source": [
    "#### 2. **Example 2**\n",
    "Lets say you are wanting to use numeric values assigned to a variable manually in your code to be concatenated into a string \n",
    "\n",
    "##### a. <u>**What does that mean?**</u>\n",
    "- The numeric values are automatically appointed the appropriate data type of int or float by the Python Program.\n",
    "- You **canNOT concatenate** a numeric data type into a string\n",
    "- Only the ***str*** data type can be concatenated into a string\n",
    "- Therefore you have to convert it to a string with the '***str()***' function\n"
   ]
  },
  {
   "cell_type": "code",
   "execution_count": null,
   "id": "fdcbe715-3e62-44e8-bacd-a5fb72b8bb0d",
   "metadata": {},
   "outputs": [],
   "source": []
  }
 ],
 "metadata": {
  "kernelspec": {
   "display_name": "Python 3 (ipykernel)",
   "language": "python",
   "name": "python3"
  },
  "language_info": {
   "codemirror_mode": {
    "name": "ipython",
    "version": 3
   },
   "file_extension": ".py",
   "mimetype": "text/x-python",
   "name": "python",
   "nbconvert_exporter": "python",
   "pygments_lexer": "ipython3",
   "version": "3.11.5"
  }
 },
 "nbformat": 4,
 "nbformat_minor": 5
}
