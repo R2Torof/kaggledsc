{
 "cells": [
  {
   "cell_type": "markdown",
   "id": "5414109c-1d9b-4f81-b1e7-5f561a926294",
   "metadata": {},
   "source": [
    "## Debugging\n",
    "\n",
    "### ***NameError***\n",
    "- When you see\n",
    "    - *'NameError'*\n",
    "    it's an indication that you need to check how you spelled the variable that is references as \"not defined\"\n",
    "\n",
    "- See the image below as the example described"
   ]
  },
  {
   "cell_type": "markdown",
   "id": "01560c9a-dd18-4efc-8c31-50a84bde4a23",
   "metadata": {},
   "source": [
    "![Alt Text](typoImage.png)"
   ]
  },
  {
   "cell_type": "markdown",
   "id": "f720519f-4a09-45a5-a54c-79fe3b64e97b",
   "metadata": {},
   "source": [
    "- You can fix this ***NameError*** by just correcting the spelling as shown below in the next code cell"
   ]
  },
  {
   "cell_type": "code",
   "execution_count": 29,
   "id": "34340df1-5619-4177-93ad-5ab4bbdd7b9c",
   "metadata": {
    "tags": []
   },
   "outputs": [
    {
     "name": "stdout",
     "output_type": "stream",
     "text": [
      "24\n"
     ]
    }
   ],
   "source": [
    "print(hours_per_day)"
   ]
  },
  {
   "cell_type": "code",
   "execution_count": null,
   "id": "0d8d31c9-629b-4f95-b6a0-ec2281ddaba3",
   "metadata": {},
   "outputs": [],
   "source": []
  }
 ],
 "metadata": {
  "kernelspec": {
   "display_name": "Python 3 (ipykernel)",
   "language": "python",
   "name": "python3"
  },
  "language_info": {
   "codemirror_mode": {
    "name": "ipython",
    "version": 3
   },
   "file_extension": ".py",
   "mimetype": "text/x-python",
   "name": "python",
   "nbconvert_exporter": "python",
   "pygments_lexer": "ipython3",
   "version": "3.11.5"
  }
 },
 "nbformat": 4,
 "nbformat_minor": 5
}
