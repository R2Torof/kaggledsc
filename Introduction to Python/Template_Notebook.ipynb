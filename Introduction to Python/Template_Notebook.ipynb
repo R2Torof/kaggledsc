{
 "cells": [
  {
   "cell_type": "markdown",
   "id": "6084d75e",
   "metadata": {},
   "source": [
    "# Introduction to Programming Kaggle Course\n",
    "#### Notes and practice from course\n",
    "###### <u>*The following rules for references apply in markdown notes*<u>\n",
    "###### - *Things in \"quotes\" in markdown are direct quotes from ***Coding for Beginner's In Easy Steps 2nd Edition*** book*\n",
    "###### - *Things in 'quotes' in markdown are direct quotes from ***Kaggle Course*** okay*"
   ]
  },
  {
   "cell_type": "markdown",
   "id": "65829808",
   "metadata": {},
   "source": [
    "# <u>**Name of Tutorial**<u>"
   ]
  },
  {
   "cell_type": "markdown",
   "id": "58e316e8-9608-4d5d-978d-609d69ab39d3",
   "metadata": {},
   "source": [
    "## **Name of Section within it (Large in the Tutorial**"
   ]
  },
  {
   "cell_type": "markdown",
   "id": "a3178884-50d6-4ea0-883d-8344d1783629",
   "metadata": {},
   "source": [
    "### I. or 1. or A. **<u>Sub-Section within main Name of Section<u>**"
   ]
  },
  {
   "cell_type": "markdown",
   "id": "1db4dd9a-6b0b-4546-8bdb-ffa891260287",
   "metadata": {},
   "source": [
    "#### i. or a. or 1. <u>***Sub-Sub section***<u>"
   ]
  },
  {
   "cell_type": "markdown",
   "id": "3206156a-a734-43ca-883c-967c9a5a8bb1",
   "metadata": {
    "tags": []
   },
   "source": [
    "##### **Example 1**"
   ]
  }
 ],
 "metadata": {
  "kernelspec": {
   "display_name": "Python 3 (ipykernel)",
   "language": "python",
   "name": "python3"
  },
  "language_info": {
   "codemirror_mode": {
    "name": "ipython",
    "version": 3
   },
   "file_extension": ".py",
   "mimetype": "text/x-python",
   "name": "python",
   "nbconvert_exporter": "python",
   "pygments_lexer": "ipython3",
   "version": "3.11.5"
  }
 },
 "nbformat": 4,
 "nbformat_minor": 5
}
