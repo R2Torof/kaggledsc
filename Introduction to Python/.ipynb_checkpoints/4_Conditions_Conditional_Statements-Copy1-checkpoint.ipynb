{
 "cells": [
  {
   "cell_type": "markdown",
   "id": "6084d75e",
   "metadata": {},
   "source": [
    "# Introduction to Programming Kaggle Course\n",
    "#### Notes and practice from course\n",
    "###### <u>*The following rules for references apply in markdown notes*<u>\n",
    "###### - *Things in \"quotes\" in markdown are direct quotes from ***Coding for Beginner's In Easy Steps 2nd Edition*** book*\n",
    "###### - *Things in 'quotes' in markdown are direct quotes from ***Kaggle Course*** okay*"
   ]
  },
  {
   "cell_type": "code",
   "execution_count": null,
   "id": "4ffea11c-0f52-4205-b332-69329879e1d2",
   "metadata": {},
   "outputs": [],
   "source": []
  },
  {
   "cell_type": "code",
   "execution_count": null,
   "id": "9f73ad6e-d390-440a-b7b2-d02ced1d2479",
   "metadata": {},
   "outputs": [],
   "source": []
  },
  {
   "cell_type": "code",
   "execution_count": null,
   "id": "c739d091-f82e-4cf5-91a7-a69726a0f578",
   "metadata": {},
   "outputs": [],
   "source": []
  },
  {
   "cell_type": "markdown",
   "id": "65829808",
   "metadata": {},
   "source": [
    "# <u>**Conditions and Conditional Statements**<u>\n",
    "Modify how functions run, depending on the input\n",
    "Control Flow - if/else, conditional blocks and operators\n",
    "\n",
    "I already know about the basic function that will do the same action no matter the input as shown below where I use the lesson learned from ***Functions.ipynb*** and I create a function that always results in adding 5 to the input"
   ]
  },
  {
   "cell_type": "code",
   "execution_count": 1,
   "id": "e295f503-4602-4627-87e0-e5bbce0d42d5",
   "metadata": {},
   "outputs": [],
   "source": [
    "\n",
    "# Create a function to always add 5 to whatever number you provide for its input\n",
    "def add_five(integer):\n",
    "    value = integer + 5\n",
    "    return value\n"
   ]
  },
  {
   "cell_type": "code",
   "execution_count": 2,
   "id": "b0e6bc9a-7104-4c0e-a48a-fcba3efc04ee",
   "metadata": {},
   "outputs": [
    {
     "name": "stdout",
     "output_type": "stream",
     "text": [
      "5\n"
     ]
    }
   ],
   "source": [
    "\n",
    "# This function will always add 5 no matter the input\n",
    "print(add_five(0))"
   ]
  },
  {
   "cell_type": "code",
   "execution_count": 3,
   "id": "c91461fc-ff02-46ef-a948-c610ecb4e41b",
   "metadata": {},
   "outputs": [
    {
     "name": "stdout",
     "output_type": "stream",
     "text": [
      "7 + 5 = 12\n",
      "8 + 5 = 13\n"
     ]
    }
   ],
   "source": [
    "\n",
    "# Now I will add a label showing the math that is occurring with the function in a string before the function and both will be printed\n",
    "print('7 + 5 =', add_five(7))\n",
    "print('8 + 5 =', add_five(8))"
   ]
  },
  {
   "cell_type": "markdown",
   "id": "cdb217da-6e4f-4105-90c4-ec5b229e4691",
   "metadata": {},
   "source": [
    "- This lesson teaches me how to create a function such as '<font color=\"blue\"> **add_three_or_eight()** </font>' where it performs an action that depends on the input. In which it adds 3 if the input is < 10 but adds eight if the input is >/= 10\n",
    "- This is achieved by conditions and conditional statements to modify how my functions run\n",
    "- I am excited!!!"
   ]
  },
  {
   "cell_type": "markdown",
   "id": "58e316e8-9608-4d5d-978d-609d69ab39d3",
   "metadata": {},
   "source": [
    "# **Conditions**\n",
    "= 'Statements that are either <font color=\"ForestGreen\"> **True** </font> or <font color=\"Red\"> **False** </font>\n",
    "\n",
    "= A condition, in programming, is like a **Decision-Making Rule** that helps the computer determine what actions to take.\n",
    "\n",
    "1. **Decision-Making Rule:** Consider it a set of instructions/rules that the computer follows. These rules involve:\n",
    "    - **Comparing** Values to decide **WHAT** should happen **NEXT**\n",
    "    - **Checking Situations** to decide **WHAT** should happen **NEXT**\n",
    ">\n",
    ">\n",
    "2. **Determining Actions:** Conditions are used to **decide which PART** of the program's instructions **should be EXECUTED** based on whether the condition is <font color=\"LimeGreen\"> **true**</font> or <font color=\"Crimson\"> **false** </font>.\n",
    "    - If the condition is <font color=\"LimeGreen\"> **True** </font>, one action is taken\n",
    "    - If the condition is <font color=\"Crimson\"> **False** </font>, another action is taken"
   ]
  },
  {
   "cell_type": "code",
   "execution_count": null,
   "id": "2b8e1e3e-97c6-4f39-81e5-6350c6f3b9f0",
   "metadata": {},
   "outputs": [],
   "source": []
  },
  {
   "cell_type": "markdown",
   "id": "c504f2cb-b9a1-499c-8c4b-45351a0a1424",
   "metadata": {},
   "source": []
  },
  {
   "cell_type": "code",
   "execution_count": null,
   "id": "d0c45074-bee7-4608-a36d-fef2e9312e64",
   "metadata": {},
   "outputs": [],
   "source": []
  },
  {
   "cell_type": "markdown",
   "id": "cc857844-9d81-4baf-98e4-17cbd22333e9",
   "metadata": {},
   "source": [
    "### A. **<u>Practical Uses in Data Science<u>**\n",
    "###### *from ChatGPT*\n",
    "- This is a vital function to understand as its used to make decisions and used in data science in the following practical ways:\n",
    "| Area of use | How Conditions are Used in this area | Use Case (Eg) |\n",
    "| ----------- | -------- | ------------- |\n",
    "| **Data Filtering** | Conditions used to filter datasets based on specific criteria | 1. Filter a dataset to include only records where the sales are above a certain threshold |\n",
    "||| 2. Filter to where a customer's age is within a certain range |\n",
    "| **Data Cleaning** | Conditions help **identify** and **handle** missing or erroneous data | 1. Identify rows with missing values AND decide how to handle them, whether by imputing missing values or removing problematic records |\n",
    "| **Feature Engineering** | Used to create new features or variables based on existing data | Create a binary feature that indicates whether a customer has made a purchase in the last 30 days by using a condition to compare dates |\n",
    "| **Classification** | In Machine Learning, Conditions play a critical role in classification tasks. You can create conditions that classify data points into different categories or classes based on their features. | Determining whether an email is spam or not based on certain keywords or characteristics |\n",
    "| **Segmentation** | Help in segmenting data into groups for further analysis. | Segmenting customers into different groups based on their purchase history, allowing for targeted marketing strategies |\n",
    "| **Decision Trees** | Used at each node of the decision tree algorithm to split the data into subsets based on specific attributes or features. This recursive use of conditions helps in making complex decisions and predictions. | |\n",
    "| **A/B Testing** | Conditions are essential for conducting A/B tests, where you compare two versions of a product or website to determine which one performs better. | Conditions help to decide which users are exposed to which version of the test. |\n",
    "| **Outlier Detection** | Used to identify outliers in datasets. | Conditions can be set to detect these anomalies (outliers) |\n",
    "| **Rule-Based Systems** | In some cases, conditions are used to implement rule-based systems that make decisions or recommendations based on a set of predefined rules. | Fraud detection systems often use conditions to detect suspicious transactions |\n",
    "| **Data Visualization** | Used to customize data visualizations | 1. Apply conditions to highlight specific data points. |\n",
    "| | | 2. Apply conditions to highlight trends in charts and graphs |"
   ]
  },
  {
   "cell_type": "code",
   "execution_count": null,
   "id": "706a1283-d89b-491e-8dea-f6028f9c6e14",
   "metadata": {},
   "outputs": [],
   "source": []
  },
  {
   "cell_type": "markdown",
   "id": "9d019c63-ab48-451f-8826-5b2046bb304d",
   "metadata": {},
   "source": [
    "### B. **<u>Compare 2 different Literal Values<u>**\n",
    "The most common way to write conditions in Python programming\n",
    "\n",
    "Compare 2 different values:\n",
    "- Check if  **2 > 3**\n",
    ">\n",
    "> **<font color=\"Blue\"> print( </font> <font color=\"Purple\"> 2 > 3 </font> <font color=\"blue\"> ) </font>**\n",
    ">\n",
    ">\n",
    "- The above is considered a <font color=\"Purple\"> **statement** </font> that contains the following within it:\n",
    "| Item | Name |\n",
    "| ---- | ---- |\n",
    "| '<font color=\"blue\"> **print()**</font>' | a **Command** or **Function** |\n",
    "| '<font color=\"purple\"> **2 > 3** </font>' | an **Expression** aka an **Operation** aka a **Statement** |\n",
    "| '<font color=\"Orange\"> **2** </font>' | a **Operands** |\n",
    "| '<font color=\"Orange\"> **3** </font>' | a **Operands** |\n",
    "| '<font color=\"GoldenRod\"> **>** </font>' | a **Operator** specifically a **Comparison Operator** |"
   ]
  },
  {
   "cell_type": "code",
   "execution_count": 4,
   "id": "b61a13b5-ad25-467e-851b-3d721d3c7dae",
   "metadata": {},
   "outputs": [
    {
     "name": "stdout",
     "output_type": "stream",
     "text": [
      "Is 2 greater than 3?: False\n"
     ]
    }
   ],
   "source": [
    "# Basic most common condition\n",
    "# Compare 2 values to each other\n",
    "# Ask if 2 is greater than 3\n",
    "print(\"Is 2 greater than 3?:\", 2 > 3)"
   ]
  },
  {
   "cell_type": "code",
   "execution_count": null,
   "id": "0455bb04-6c22-47b2-844f-ff9df0979db8",
   "metadata": {},
   "outputs": [],
   "source": []
  },
  {
   "cell_type": "markdown",
   "id": "7f0e765e-65b3-4071-b3b8-b50aa1eb0bc8",
   "metadata": {},
   "source": [
    "### C. **<u>Compare the VALUEs of VARIABLES<u>**\n",
    "\n",
    "If you have 2 variables with individual values like:\n",
    ">\n",
    "> <font color=\"DarkCyan\"> **var_one** </font> has a value of <font color=\"Magenta\"> **1** </font>\n",
    ">\n",
    "><font color=\"DarkCyan\"> **var_two** </font> has a value of <font color=\"Magenta\"> **2** </font>\n",
    ">\n",
    ">\n",
    "##### **<u> Examples below </u>**"
   ]
  },
  {
   "cell_type": "markdown",
   "id": "f11e1413-18e4-4443-84c5-131ebe1ba561",
   "metadata": {},
   "source": [
    "##### </u>**Example 1.</u>**\n",
    "**is <font color=\"DarkCyan\"> var_one </font> <font color=\"GoldenRod\"> > </font> <font color=\"DarkCyan\"> var_two </font>?**\n",
    "- Since <font color=\"Magenta\"> **1** </font> is <font color=\"Crimson\"> **not** </font> <font color=\"GoldenRod\"> **greater than** </font> <font color=\"Magenta\"> **2** </font> the result should be <font color=\"Red\"> **False** </font>"
   ]
  },
  {
   "cell_type": "code",
   "execution_count": 5,
   "id": "521dd8b6-4654-43e6-ac00-e73320ec3b6c",
   "metadata": {},
   "outputs": [
    {
     "name": "stdout",
     "output_type": "stream",
     "text": [
      "'var_one' = 1\n",
      "'var_two' = 2\n",
      "\n",
      "is 'var_one' > 'var_two'?: False\n",
      "\n",
      "\n"
     ]
    }
   ],
   "source": [
    "# Assign the variables\n",
    "var_one = 1\n",
    "var_two = 2\n",
    "\n",
    "# Print labeled original values of variables\n",
    "print(\"'var_one' =\", var_one)\n",
    "print(\"'var_two' =\", var_two)\n",
    "\n",
    "# Blank\n",
    "print()\n",
    "\n",
    "# Ask if var_one is > var_two\n",
    "# Since 1 is NOT > than 2 it should result FALSE!\n",
    "print(\"is 'var_one' > 'var_two'?:\", var_one > var_two)\n",
    "\n",
    "# Blank\n",
    "print()\n",
    "print()"
   ]
  },
  {
   "cell_type": "markdown",
   "id": "48a9acab-b546-4441-9c10-dd2091e30cb5",
   "metadata": {},
   "source": [
    "##### </u>**Example 2.</u>**\n",
    "**is <font color=\"DarkCyan\"> var_one </font> <font color=\"GoldenRod\"> < </font> <font color=\"Magenta\"> 1 </font>?**\n",
    "- Since <font color=\"Magenta\"> **1** </font> is <font color=\"Crimson\"> **not** </font> <font color=\"GoldenRod\"> **less than** </font> <font color=\"Magenta\"> **1** </font> the result should be <font color=\"Red\"> **False** </font>"
   ]
  },
  {
   "cell_type": "code",
   "execution_count": 6,
   "id": "aa4927d7-29b5-4c0a-813d-8be2ba1c298b",
   "metadata": {},
   "outputs": [
    {
     "name": "stdout",
     "output_type": "stream",
     "text": [
      "'var_one' = 1\n",
      "'var_two' = 2\n",
      "\n",
      "is 'var_one' < 1?: False\n",
      "\n",
      "\n"
     ]
    }
   ],
   "source": [
    "# Assign the variables\n",
    "var_one = 1\n",
    "var_two = 2\n",
    "\n",
    "# Print labeled original values of variables\n",
    "print(\"'var_one' =\", var_one)\n",
    "print(\"'var_two' =\", var_two)\n",
    "\n",
    "# Blank\n",
    "print()\n",
    "\n",
    "# Ask if var_one is < 1\n",
    "print(\"is 'var_one' < 1?:\", var_one < 1)\n",
    "\n",
    "# Blank\n",
    "print()\n",
    "print()"
   ]
  },
  {
   "cell_type": "markdown",
   "id": "0c486a8b-0eb2-468e-adfd-39ba6d31f5fb",
   "metadata": {},
   "source": [
    "##### </u>**Example 3.</u>**\n",
    "**is <font color=\"DarkCyan\"> var_two </font> <font color=\"GoldenRod\"> > </font> <font color=\"DarkCyan\"> var_one </font>?**\n",
    "- Since <font color=\"Magenta\"> **2** </font> is <font color=\"Crimson\"> </font> <font color=\"GoldenRod\"> **greater than** </font> <font color=\"Magenta\"> **1** </font> the result should be <font color=\"ForestGreen\"> **True** </font>"
   ]
  },
  {
   "cell_type": "code",
   "execution_count": 7,
   "id": "13b47b0d",
   "metadata": {},
   "outputs": [
    {
     "name": "stdout",
     "output_type": "stream",
     "text": [
      "'var_one' = 1\n",
      "'var_two' = 2\n",
      "\n",
      "is 'var_two' > 'var_one'?: True\n",
      "\n",
      "\n"
     ]
    }
   ],
   "source": [
    "# Assign the variables\n",
    "var_one = 1\n",
    "var_two = 2\n",
    "\n",
    "# Print labeled original values of variables\n",
    "print(\"'var_one' =\", var_one)\n",
    "print(\"'var_two' =\", var_two)\n",
    "\n",
    "# Blank\n",
    "print()\n",
    "\n",
    "# Ask if var_two is > var_one\n",
    "print(\"is 'var_two' > 'var_one'?:\", var_two > var_one)\n",
    "\n",
    "# Blank\n",
    "print()\n",
    "print()"
   ]
  },
  {
   "cell_type": "markdown",
   "id": "d64cc508-5698-434b-a29d-e9124e6dac19",
   "metadata": {},
   "source": [
    "##### </u>**Example 4.</u>**\n",
    "**is <font color=\"DarkCyan\"> var_two </font> <font color=\"GoldenRod\"> > </font> <font color=\"Magenta\"> 2 </font>?**\n",
    "- Since <font color=\"Magenta\"> **2** </font> is <font color=\"Crimson\"> </font> <font color=\"GoldenRod\"> **EQUAL to** </font> <font color=\"Magenta\"> **2** </font> the result should be <font color=\"ForestGreen\"> **True** </font>"
   ]
  },
  {
   "cell_type": "code",
   "execution_count": 8,
   "id": "1da881ea",
   "metadata": {},
   "outputs": [
    {
     "name": "stdout",
     "output_type": "stream",
     "text": [
      "'var_one' = 1\n",
      "'var_two' = 2\n",
      "\n",
      "is 'var_two' > or = to 2?: True\n",
      "\n",
      "\n"
     ]
    }
   ],
   "source": [
    "# Assign the variables\n",
    "var_one = 1\n",
    "var_two = 2\n",
    "\n",
    "# Print labeled original values of variables\n",
    "print(\"'var_one' =\", var_one)\n",
    "print(\"'var_two' =\", var_two)\n",
    "\n",
    "# Blank\n",
    "print()\n",
    "\n",
    "# Ask if var_two is >/= 2\n",
    "print(\"is 'var_two' > or = to 2?:\", var_two >= 2)\n",
    "\n",
    "# Blank\n",
    "print()\n",
    "print()"
   ]
  },
  {
   "cell_type": "markdown",
   "id": "102c4d3f-4012-46c9-b1aa-26b70b505e03",
   "metadata": {},
   "source": [
    "##### </u>**Example 5.</u>**\n",
    "**Check if the value of <font color=\"DarkCyan\"> var_one </font>** is <font color=\"Magenta\"> **1** </font>\n",
    ">\n",
    ">\n",
    "**Check if two values are equal:**\n",
    "You will use the **Equality Operator** which is '<font color=\"GoldenRod\"> **==** </font>' "
   ]
  },
  {
   "cell_type": "code",
   "execution_count": 9,
   "id": "18b86248-4d39-4d9e-b728-3cfd94da9ac1",
   "metadata": {},
   "outputs": [
    {
     "name": "stdout",
     "output_type": "stream",
     "text": [
      "'var_one' = 1\n",
      "\n",
      "Is 'var_one' = to 1?: True\n"
     ]
    }
   ],
   "source": [
    "# Print var_one\n",
    "print(\"'var_one' =\", var_one)\n",
    "\n",
    "# Blank\n",
    "print()\n",
    "\n",
    "# Check if the value of var_one is 1. Should be true if it is\n",
    "print(\"Is 'var_one' = to 1?:\", var_one == 1)"
   ]
  },
  {
   "cell_type": "code",
   "execution_count": null,
   "id": "e1961d2f-fe9c-4756-91f6-19c93b372cea",
   "metadata": {},
   "outputs": [],
   "source": []
  },
  {
   "cell_type": "markdown",
   "id": "11076b5e-7d86-4918-818c-b23f0cebd4f6",
   "metadata": {},
   "source": [
    "### D. <u>**List of Common Symbols used to Construct Conditions**</u>:\n",
    "\n",
    "| Operator Type | Operation Performed | Operator | Example | Equivalent Too |\n",
    "| ------------- | ------------------- | -------- | ------- | -------------- |\n",
    "| **Arithmetic Operators** | | | | |\n",
    "|               | Addition | <font color=\"GoldenRod\"> **+** </font> | \n",
    "|               | Subtraction | <font color=\"GoldenRod\"> **-** </font>  | \n",
    "|               | Multiplication |  <font color=\"GoldenRod\"> * </font>   | \n",
    "|               | Division | <font color=\"GoldenRod\"> **/** </font> | \n",
    "|               | Modulus (Remainder) | <font color=\"GoldenRod\"> **%** </font> | \n",
    "|               | Floor Division (Integer division) | <font color=\"GoldenRod\"> **//** </font> | \n",
    "|               | Exponent | <font color=\"GoldenRod\"> ** </font> |\n",
    "| | | | | |\n",
    "| | | | | |\n",
    "| | | | | |\n",
    "| | | | | | \n",
    "| **Comparison Operator** | \n",
    "|               | **Equal to** | <font color=\"GoldenRod\"> **==** </font> | \n",
    "|               | **<font color=\"Crimson\"> Not </font> Equal to** | <font color=\"GoldenRod\"> **!=** </font> |\n",
    "|               | **Greater Than**    | <font color=\"GoldenRod\"> **>**  </font> | \n",
    "|               | **Lesser Than**      | **<font color=\"GoldenRod\"> <  </font>** |\n",
    "|               | **Greater than** *or* **Equal to** | <font color=\"GoldenRod\"> **>=**  </font> |\n",
    "|               | **Lesser Than** *or* **Equal to**  | **<font color=\"GoldenRod\"> <=  </font>** | \n",
    "| | | | | | \n",
    "| | | | | |\n",
    "| | | | | |\n",
    "| | | | | |\n",
    "| **Assignment Operator** |  | | | | |\n",
    "| 1. | **Assignment** | <font color=\"GoldenRod\"> **=** </font> | <font color=\"DarkCyan\"> **a** </font> <font color=\"GoldenRod\"> **=** </font> <font color=\"Magenta\"> **8** </font> |  | \n",
    "| | | | <font color=\"DarkCyan\"> **b** </font> <font color=\"GoldenRod\"> **=** </font> <font color=\"Magenta\"> **4** </font> | |  \n",
    "| | | | | | \n",
    "| | | | | |\n",
    "| 2. <font color=\"SlateGray\"> **Add and Assign** </font> | **ADDITION** and **Assignment** | <font color=\"GoldenRod\"> **+=** </font> | <font color=\"DarkCyan\"> **a** </font> <font color=\"GoldenRod\"> **+=** </font> <font color=\"Orange\"> **b** </font> | '<font color=\"DarkCyan\"> **a** </font>' **= (** <font color=\"DarkCyan\"> **a** </font> <font color=\"GoldenRod\"> **+** </font> <font color=\"Orange\"> **b** </font> **)** \n",
    "| | | | <font color=\"DarkCyan\"> **y** </font> <font color=\"GoldenRod\"> **+=** </font> <font color=\"Orange\"> **5** </font> | '<font color=\"DarkCyan\"> **y** </font>' **= (** <font color=\"DarkCyan\"> **y** </font> <font color=\"GoldenRod\"> **+** </font> <font color=\"Orange\"> **5** </font> **)** |\n",
    "| | | | | | |\n",
    "| | | | | | |\n",
    "| 3. <font color=\"SlateGray\"> **Subtract and Assign** </font>  | **SUBTRACTION** and **Assignment** | <font color=\"GoldenRod\"> **-=**  </font> | <font color=\"DarkCyan\"> **a** </font> <font color=\"GoldenRod\"> **-=** </font> <font color=\"Orange\"> **b** </font>| '<font color=\"DarkCyan\"> **a** </font>' **= (** <font color=\"DarkCyan\"> **a** </font> <font color=\"GoldenRod\"> **-** </font> <font color=\"Orange\"> **b** </font> **)** | \n",
    "| | | | <font color=\"DarkCyan\"> **z** </font> <font color=\"GoldenRod\"> **-=** </font> <font color=\"Orange\"> **3** </font> | '<font color=\"DarkCyan\"> **z** </font>' **= (** <font color=\"DarkCyan\"> **z** </font> <font color=\"GoldenRod\"> **-** </font> <font color=\"Orange\"> **3** </font> **)** | \n",
    "| | | | | | |\n",
    "| | | | | | |\n",
    "| 4. <font color=\"SlateGray\"> **Multiply and Assign** </font> | **MULTIPLICATION** and **Assignment**  | <font color=\"GoldenRod\">*=</font> | <font color=\"DarkCyan\"> **a** </font> **<font color=\"GoldenRod\">*=</font>** <font color=\"Orange\"> **b** </font> | '<font color=\"DarkCyan\"> **a** </font>' **= (** <font color=\"DarkCyan\"> **a** </font> **<font color=\"GoldenRod\">*</font>** <font color=\"Orange\"> **b** </font> **)** | \n",
    "| | | |<font color=\"DarkCyan\"> **a** </font> **<font color=\"GoldenRod\">*=</font>** <font color=\"Orange\"> **2** </font> | '<font color=\"DarkCyan\"> **a** </font>' **= (** <font color=\"DarkCyan\"> **a** </font> **<font color=\"GoldenRod\">*</font>** <font color=\"Orange\"> **2** </font> **)** | \n",
    "| | | | | | |\n",
    "| | | | | | |\n",
    "| 5. <font color=\"SlateGray\"> **Divide and Assign** </font> | **DIVISION** and **Assignment** | <font color=\"GoldenRod\"> **/=**  </font> | <font color=\"DarkCyan\"> **a** </font> <font color=\"GoldenRod\"> **/=** </font> <font color=\"Orange\"> **b** </font> | '<font color=\"DarkCyan\"> **a** </font>' **= (** <font color=\"DarkCyan\"> **a** </font> <font color=\"GoldenRod\"> **/** </font> <font color=\"Orange\"> **b** </font> **)** | \n",
    "| | | | <font color=\"DarkCyan\"> **b** </font> <font color=\"GoldenRod\"> **/=** </font> <font color=\"Orange\"> **4** </font> | '<font color=\"DarkCyan\"> **b** </font>' **= (** <font color=\"DarkCyan\"> **b** </font> <font color=\"GoldenRod\"> **/** </font> <font color=\"Orange\"> **4** </font> **)** | \n",
    "| | | | | | |\n",
    "| | | | | | |\n",
    "| 6. <font color=\"SlateGray\"> **Modulus and Assign** </font> | **DIVIDE** then **Assign** the **Modulus**| **<font color=\"GoldenRod\"> %= </font>** | <font color=\"DarkCyan\"> **a** </font> <font color=\"GoldenRod\"> **%=** </font> <font color=\"Orange\"> **b** </font>| '<font color=\"DarkCyan\"> **a** </font>' **= (** <font color=\"DarkCyan\"> **a** </font> <font color=\"GoldenRod\"> **%** </font> <font color=\"Orange\"> **b** </font> **)** | \n",
    "| | | | | | |\n",
    "| | | | | | |\n",
    "| 7. <font color=\"SlateGray\"> **Floor Division and Assign** </font> | **DIVIDE** then **Assign** **truncated** result | **<font color=\"GoldenRod\"> //= </font>** | <font color=\"DarkCyan\"> **a** </font> <font color=\"GoldenRod\"> **//=** </font> <font color=\"Orange\"> **b** </font> | '<font color=\"DarkCyan\"> **a** </font>' **= (** <font color=\"DarkCyan\"> **a** </font> <font color=\"GoldenRod\"> **//** </font> <font color=\"Orange\"> **b** </font> **)** | \n",
    "| | | | | | |\n",
    "| | | | | | |\n",
    "| 8. <font color=\"SlateGray\"> **Exponent and Assign** </font> | **Exponentiation** and **Assignment**| <font color=\"GoldenRod\"> **= </font> | <font color=\"DarkCyan\"> **a** </font> <font color=\"GoldenRod\"> **= </font> <font color=\"Orange\"> **3** </font> | '<font color=\"DarkCyan\"> **a** </font>' **= (** <font color=\"DarkCyan\"> **a** </font> <font color=\"GoldenRod\"> ** </font> <font color=\"Orange\"> **3** </font> **)** |\n",
    "| | | | | | |\n",
    "| | | | | | |\n",
    "| | | | | | |\n",
    "| | | | | | |\n",
    "| **Logical Operator** | | | | | |\n",
    "|               | **Logical AND** | '<font color=\"GoldenRod\"> **and** </font>' | <font color=\"Orange\"> **x** </font> <font color=\"GoldenRod\"> **and** </font> <font color=\"Orange\"> **y** </font> | <font color=\"ForestGreen\"> **True** </font> if **BOTH** <font color=\"Orange\"> **x** </font> **and** <font color=\"Orange\"> **y** </font> are <font color=\"ForestGreen\"> **True** </font> |\n",
    "| | | | | | |\n",
    "| | | | | | |\n",
    "|               | **Logical OR** | '<font color=\"GoldenRod\"> **or** </font>' | <font color=\"Orange\"> **x** </font> <font color=\"GoldenRod\"> **or** </font> <font color=\"Orange\"> **y** </font> | <font color=\"ForestGreen\"> **True** </font> if **EITHER** <font color=\"Orange\"> **x** </font> **or** <font color=\"Orange\"> **y** </font> is <font color=\"ForestGreen\"> **True** </font> \n",
    "| | | | | | |\n",
    "| | | | | | |\n",
    "|               | **Logical NOT** | '<font color=\"GoldenRod\"> **not**  </font>' |  | | | \n",
    "| | | |if <font color=\"DarkCyan\"> **x** </font> <font color=\"Magenta\"> **=** </font> <font color=\"ForestGreen\"> **True** </font> <font color=\"GoldenRod\"> **not** </font> <font color=\"DarkCyan\"> **x** </font> | <font color=\"Red\"> **False** </font> since it's the **inverse** of <font color=\"ForestGreen\"> **True** </font> |\n",
    "| | | | if <font color=\"DarkCyan\"> **y** </font> <font color=\"Magenta\"> **=** </font> <font color=\"Red\"> **False** </font> <font color=\"GoldenRod\"> **not** </font> <font color=\"DarkCyan\"> **y** </font> | <font color=\"ForestGreen\"> **True** </font> since its the **inverse** of <font color=\"Red\"> **False** </font> |\n",
    "| | | | | | \n",
    "| | | | | |\n",
    "| | | | | |\n",
    "| | | | | |"
   ]
  },
  {
   "cell_type": "code",
   "execution_count": null,
   "id": "3a2c6f94-3984-480b-a591-9aa02c09efe3",
   "metadata": {},
   "outputs": [],
   "source": []
  },
  {
   "cell_type": "code",
   "execution_count": null,
   "id": "e3ecabc6-5757-4a51-8704-5439ec473555",
   "metadata": {},
   "outputs": [],
   "source": []
  },
  {
   "cell_type": "code",
   "execution_count": null,
   "id": "dffd28fc-ce8a-4999-8d4d-b5a198828feb",
   "metadata": {},
   "outputs": [],
   "source": []
  },
  {
   "cell_type": "markdown",
   "id": "032f4b75-afaf-4dde-9752-18a4baaa610a",
   "metadata": {},
   "source": [
    "# **Conditional Statements**\n",
    "\n",
    "- 'Use conditions to modify how your <font color=\"Blue\"> **function** </font> runs.'\n",
    "- 'They check the <font color=\"Magenta\"> **value** </font> of a **condition**:\n",
    "| If the condition . . . | Then . . . |\n",
    "| ---------------------- | ---------- |\n",
    "| . . . evaluates to <font color=\"ForestGreen\"> **True** </font> |  . . . a certain **block code** is <font color=\"LimeGreen\"> **EXECUTED** </font> |\n",
    "| | |\n",
    "| . . . evaluates to <font color=\"Red\"> **False** </font> | . . . the **block code** is <font color=\"Crimson\"> **NOT EXECUTED** </font> |"
   ]
  },
  {
   "cell_type": "code",
   "execution_count": null,
   "id": "7333a3da-445b-4735-be12-a0b2cc57d831",
   "metadata": {},
   "outputs": [],
   "source": []
  },
  {
   "cell_type": "code",
   "execution_count": null,
   "id": "37c96671-e53c-4c8b-84f7-05f2a9371dcf",
   "metadata": {},
   "outputs": [],
   "source": []
  },
  {
   "cell_type": "code",
   "execution_count": null,
   "id": "74ef773b-5b0e-483e-8ae1-12f0c72e00ec",
   "metadata": {},
   "outputs": [],
   "source": []
  },
  {
   "cell_type": "markdown",
   "id": "472eb6eb-d111-49e6-80bd-572dc9dbb805",
   "metadata": {},
   "source": [
    "## I. **Types of Conditional Statements**\n",
    "| \"<font color=\"DeepSkyBlue\"> **keyword** </font> that starts the conditional statement | Action to occur |\n",
    "| ---- | - |\n",
    "| \"<font color=\"DeepSkyBlue\"> **if** </font>\" statements | Execute the <font color=\"SteelBlue\"> **original code** </font> if the \"<font color=\"DeepSkyBlue\">**if**</font>\" condition evaluates to <font color=\"Red\"> **False** </font> |\n",
    "| | Execute the <font color=\"SteelBlue\"> **code under the** </font> \"<font color=\"DeepSkyBlue\">**if**</font>\" statement if the \"<font color=\"DeepSkyBlue\">**if**</font>\" condition evaluates to <font color=\"ForestGreen\"> **True** </font> . . .|\n",
    "| | . . . This will update the original code |\n",
    "| | |\n",
    "| \"<font color=\"DeepSkyBlue\"> **if . . . else** </font>\" statements | **<font color=\"Crimson\"> FILL OUT LATER </font>** |\n",
    "| | |\n",
    "| \"<font color=\"DeepSkyBlue\"> **if . . . elif . . . else** </font>\" statements |  **<font color=\"Crimson\"> FILL OUT LATER </font>** |\n",
    "| | |"
   ]
  },
  {
   "cell_type": "code",
   "execution_count": null,
   "id": "6c7c92b5-3e5b-41f1-973d-63f18456d0d9",
   "metadata": {},
   "outputs": [],
   "source": []
  },
  {
   "cell_type": "code",
   "execution_count": null,
   "id": "02577891-4fed-4374-aa7e-de031ab97b55",
   "metadata": {},
   "outputs": [],
   "source": []
  },
  {
   "cell_type": "markdown",
   "id": "c510db41-bb33-4a0e-813f-69b0b2c4d8b5",
   "metadata": {},
   "source": [
    "### A. <u>**\"<font color=\"DeepSkyBlue\"> if </font>\" statements: </u>**\n",
    "= The 'simplest type of <font color=\"DeepSkyBlue\"> **conditional statement** </font>'\n",
    ">\n",
    ">\n",
    "- This will **run specific code** if a <font color=\"purple\"> **statement** </font> is <font color=\"ForestGreen\"> **True** </font>\n",
    ">\n",
    ">\n",
    "\n",
    "Best explained in an example\n",
    "> '<font color=\"Blue\"> **evaluate_temp()** </font>'\n",
    "\n"
   ]
  },
  {
   "cell_type": "code",
   "execution_count": null,
   "id": "fa7cd55f-1f08-406c-90bc-931a2a9c8b30",
   "metadata": {},
   "outputs": [],
   "source": []
  },
  {
   "cell_type": "markdown",
   "id": "baf7e244-a393-42c9-9504-ff898deaae97",
   "metadata": {},
   "source": [
    "#### i. **'<font color=\"Blue\"> evaluate_temp() </font>' Example**\n",
    "Create a custom function with the name \n",
    "> '<font color=\"Blue\"> **evaluate_temp()** </font>'\n",
    ">\n",
    "That will\n",
    "- Accepts  <font color=\"Magenta\"> **body temperature** *(in Celsius)* </font> as **input** in it's **<font color=\"Blue\"> ( ) </font>**\n",
    "- and will output a message depending on the <font color=\"Magenta\"> **temperature value** </font>.\n",
    "- Its a thermometer. So if the temperature is:\n",
    "    - Normal (< 38 C) it will output the message <font color=\"Magenta\"> **\"Normal temperature.\"** </font>\n",
    "    - but if it is over 38 C then its a fever and it will output the message <font color=\"Magenta\"> **\"Fever!\"** </font>\n"
   ]
  },
  {
   "cell_type": "code",
   "execution_count": null,
   "id": "d0390581-84bd-47ff-9606-30c027246f9e",
   "metadata": {},
   "outputs": [],
   "source": []
  },
  {
   "cell_type": "markdown",
   "id": "ac3c3cea-8b82-409e-b6c6-bfb4101b3a0c",
   "metadata": {},
   "source": [
    "\n",
    "##### a. **Here is what the code cell should contain, explainations of each part below in steps 1 - 9:**\n",
    ">\n",
    "<font color=\"Purple\"> **def** </font> <font color=\"Blue\"> **evaluate_temp(** </font> <font color=\"LightSeaGreen\"> **temp** </font> <font color=\"Blue\"> **):** </font>\n",
    "> <font color=\"DarkCyan\"> **message** </font> <font color=\"GoldenRod\"> **=** </font> <font color=\"Magenta\"> **\"Normal temperature.\"** </font>\n",
    ">\n",
    "> <font color=\"DeepSkyBlue\"> **if** </font> <font color=\"LightSeaGreen\"> **temp** <font color=\"GoldenRod\"> **>** </font> <font color=\"Magenta\">**38**</font> <font color=\"SteelBlue\">**:**</font>\n",
    ">\n",
    "> > <font color=\"DarkCyan\"> **message** </font> <font color=\"GoldenRod\"> **=** </font> <font color=\"Magenta\"> **\"Fever!\"** </font>\n",
    ">\n",
    "> <font color=\"DeepSkyBlue\"> **return** </font> <font color=\"DarkCyan\"> **message** </font>\n",
    "        \n",
    "In Python, a <font color=\"LightSeaGreen\"> **parameter** </font> is a <font color=\"DarkCyan\"> **variable** </font> that is part of a <font color=\"Blue\"> **function's** </font> **definition** and **acts as a placeholder** for the <font color=\"Magenta\"> **value** </font> that will be passed as an <font color=\"Red\"> **argument** </font> when the <font color=\"Blue\"> **function** </font> is called. <font color=\"Red\"> **Arguments** </font> are the <font color=\"Magenta\"> **actual values** </font> that you pass to the <font color=\"Blue\"> **function** </font> when calling it. \n",
    ">\n",
    ">\n",
    "So, '<font color=\"LightSeaGreen\"> **temp** </font>' is a <font color=\"LightSeaGreen\"> **parameter** </font> that will receive an <font color=\"Red\"> **argument** </font> when you call the '<font color=\"Blue\"> **evaluate_temp()** </font>' function."
   ]
  },
  {
   "cell_type": "code",
   "execution_count": null,
   "id": "51c5f08c-5fb5-405e-bc1a-89460bad764b",
   "metadata": {},
   "outputs": [],
   "source": []
  },
  {
   "cell_type": "markdown",
   "id": "c59c0973-ad1e-4ac9-bf51-69b53b2b5e9d",
   "metadata": {},
   "source": [
    "##### b. **This is how the above custom made function was created by the following steps:**\n",
    "\n",
    "1. Start out with the standard format to define and create a custom function in Python. No indent needed\n",
    "      > \n",
    "      <font color=\"BlueViolet\"> **def** </font> <font color=\"Blue\"> **evaluate_temp(** </font> <font color=\"LightSeaGreen\"> **temp** </font> <font color=\"Blue\"> **)** </font> <font color=\"SteelBlue\"> **:** </font>\n",
    ">\n",
    ">\n",
    "| | Term | Meaning |\n",
    "| -- | -- | ------ |\n",
    "| **'<font color=\"BlueViolet\">def</font>'** | **Keyword** | That is  used to custom create a function and is short for <font color=\"BlueViolet\"> **definition** </font> |\n",
    "| | | |\n",
    "| | | |\n",
    "| **'<font color=\"Blue\">**evaluate_temp()**</font>'** | **Custom Function Name** | That is being used to **Call Upon** this custom <font color=\"Blue\"> **Function** </font> |\n",
    "| | | |\n",
    "| | | |\n",
    "| **'<font color=\"LightSeaGreen\">temp</font>'** | **Parameter** | Is a **placeholder** for the <font color=\"Magenta\"> **temperature value** </font> |\n",
    "| | | It's what is passed as an <font color=\"Red\"> **argument** </font> when the <font color=\"Blue\"> **function** </font> is called |\n",
    "| | | Considered the **<font color=\"DeepSkyBlue\"> condition </font>** being checked |\n",
    "| | | |\n",
    "| | | |\n",
    "| **'<font color=\"SteelBlue\"> : </font>'** | a **colon** | Signifies the **start** of a <font color=\"SteelBlue\"> **code block** </font> . . .|\n",
    "| | | . . .for the control structure <font color=\"BlueViolet\"> **defining** </font> the <font color=\"Blue\"> custom **function** </font> |\n",
    "| | | Signals that the following indented <font color=\"SteelBlue\"> **lines of code** </font> . . . |\n",
    "| | | . . . underneath are part of the <font color=\"blue\"> **functions** </font> <font color=\"BlueViolet\"> **definition** </font> |\n"
   ]
  },
  {
   "cell_type": "markdown",
   "id": "5463fe7d-8964-461a-b4f8-718333bd14e3",
   "metadata": {},
   "source": [
    ">\n",
    "> \n",
    "2. <font color=\"SlateGray\"> **ENTER** </font> and <font color=\"SlateGray\"> **TAB** </font>\n",
    "    - should be **4 spaces** = 1 <font color=\"SlateGray\"> **TAB** </font>\n",
    ">\n",
    ">\n",
    "3. INITIALLY Set an initial **local variable** called '<font color=\"DarkCyan\">**message**</font>' to contain the **text string** <font color=\"Magenta\"> **\"Normal temperature.\"** </font>.\n",
    "    - AKA the initial output of local variable '<font color=\"DarkCyan\">**message**</font>' will output the message, a text string saying, <font color=\"Magenta\"> **\"Normal temperature\"** </font> whenever a temperature is entered in the <font color=\"Blue\"> **( )** </font> of the called custom function '<font color=\"Blue\">**evaluate_temp()**</font>'\n",
    "     > <font color=\"DarkCyan\">**message**</font> <font color=\"GoldenRod\"> **=** </font> <font color=\"Magenta\"> **\"Normal Temperature.\"** </font> \n",
    ">\n",
    ">\n",
    "| | Term | Meaning |\n",
    "| -- | -- | ------ |\n",
    "| **'<font color=\"DarkCyan\">message</font>'** | **Local Variable** | That is <font color=\"BlueViolet\"> **defined** </font> with**IN** the **function** <font color=\"Blue\"> **evaluate_temp()** </font> |\n",
    "| | | can **ONLY** be **Accessed** with**IN** that <font color=\"Blue\"> **function** </font> |\n",
    "| | | |\n",
    "| | | |\n",
    "|  **'<font color=\"GoldenRod\"> = </font>'** | **Assignment Operator** | That is being used to **ASSIGN** the text string <font color=\"Magenta\"> **value** </font> to the local variable |\n",
    "| | | Assigning <font color=\"Magenta\"> **\"Normal temperature.\"** </font> text string value to the '<font color=\"DarkCyan\">**message**</font>' variable |\n",
    "| | | |\n",
    "| | | |\n",
    "| **'<font color=\"Magenta\"> \"Normal Temperature.\" </font>'** | The **Text String Value** | A **String** that has been **Assigned** to the '<font color=\"DarkCyan\">**message**</font>' variable |\n",
    "| | | based on a condition in the code |\n"
   ]
  },
  {
   "cell_type": "markdown",
   "id": "1bc8a07f-282c-48ba-9bf5-b2a0eeeacfda",
   "metadata": {},
   "source": [
    ">\n",
    "> \n",
    "4. <font color=\"SlateGray\"> **ENTER** </font> and ensure there is still an **Single** indent (<font color=\"SlateGray\"> **TAB** </font> from the '<font color=\"BlueViolet\"> **def** </font>' line)\n",
    ">\n",
    ">\n",
    "5. Set the <font color=\"DeepSkyBlue\"> **if** </font> **statement**:\n",
    "    -  But if you want the computer to tell you if a <font color=\"Magenta\"> **given temperature** </font> that is put in the <font color=\"Blue\"> **( )** </font> of the custom called '<font color=\"Blue\"> **evaluate_temp()** </font>' function is <font color=\"Crimson\"> **NOT Normal** </font> and is in fact a FEVER then you add the following lines of code, which is called an \"<font color=\"DeepSkyBlue\"> **if**\" conditional statement </font>, to the <font color=\"BlueViolet\"> **definition** </font> of the '<font color=\"Blue\">**evaluate_temp()**</font>' function as follows (see step 4 and step 6 - 9 as all part of this)\n",
    "\n",
    "    - <font color=\"DeepSkyBlue\"> **If** the **condition** </font> of <font color=\"GoldenRod\"> **>** </font> <font color=\"Magenta\"> **38** </font> is <font color=\"Red\"> **False** </font> AKA <font color=\"DeepSkyBlue\"> **condition** </font> of <font color=\"GoldenRod\"> **>** </font> <font color=\"Magenta\"> **38** </font> is <font color=\"Crimson\"> **NOT met** </font> Then the computer knows to **IGNORE step 6 and 7**  and instead use the code from **step 3** to return the original '<font color=\"DarkCyan\">**message**</font>' output of <font color=\"Magenta\"> **\"Normal temperature.\"** </font>\n",
    "     > <font color=\"DeepSkyBlue\"> **if** </font> <font color=\"LightSeaGreen\"> **temp** </font> <font color=\"GoldenRod\"> **>** </font> <font color=\"Magenta\">**38**</font> <font color=\"SteelBlue\">**:**</font>\n",
    ">\n",
    ">\n",
    "| | Term | Meaning |\n",
    "| -- | -- | ------ |\n",
    "| **'<font color=\"DeepSkyBlue\">if</font>'** | **Keyword** | That starts a **<font color=\"DeepSkyBlue\"> conditional statement** </font> |\n",
    "| | |\n",
    "| | | |\n",
    "| **'<font color=\"LightSeaGreen\">temp</font>'** | **Parameter** | Is a **placeholder** for the <font color=\"Magenta\"> **temperature value** </font> |\n",
    "| | | It's what is passed as an <font color=\"Red\"> **argument** </font> when the <font color=\"Blue\"> **function** </font> is called |\n",
    "| | | Considered the **<font color=\"DeepSkyBlue\"> condition </font>** being checked |\n",
    "| | | |\n",
    "| | | |\n",
    "|  '<font color=\"GoldenRod\"> **>** </font>' | **Comparison Operator** | That is being used to <font color=\"DeepSkyBlue\"> **Check** if </font> **'<font color=\"LightSeaGreen\">temp</font>'** is <font color=\"GoldenRod\"> **GREATER** than </font> the <font color=\"Magenta\"> numeric value </font> below |\n",
    "| | | |\n",
    "| | | |\n",
    "| **'<font color=\"Magenta\">38</font>'** | The **Numeric Value** | The **THRESHOLD** for **Comparison** |\n",
    "| | | |\n",
    "| | | |\n",
    "| **'<font color=\"SteelBlue\"> : </font>'** | a **colon** | Signifies the **start** of a <font color=\"SteelBlue\"> **code block** </font> for the control structure <font color=\"DeepSkyBlue\"> **if** </font> **statement** |\n",
    "| | | If the <font color=\"DeepSkyBlue\"> **condition** </font> <font color=\"LightSeaGreen\"> **temp** </font> <font color=\"GoldenRod\"> **>** </font> <font color=\"Magenta\"> **38** </font> is <font color=\"ForestGreen\"> **True** </font> then the indented <font color=\"SteelBlue\"> **indented code block** </font> underneath is **EXECUTED** . . .|\n",
    "| | | . . . Which **UPDATES** the <font color=\"Magenta\"> **value** </font> of local variable '<font color=\"DarkCyan\"> **message** </font>' to be <font color=\"Magenta\"> **\"Fever!\"** </font> in this particular example |\n",
    "| | | Steps below in step 6 - 9 |"
   ]
  },
  {
   "cell_type": "markdown",
   "id": "0589234a-4258-43f5-8c79-a2a9569b6e31",
   "metadata": {},
   "source": [
    ">\n",
    "> \n",
    "6. <font color=\"SlateGray\"> **ENTER** </font> and <font color=\"SlateGray\"> **TAB** </font> **TWICE**\n",
    "    - should be **8 spaces = 2** <font color=\"SlateGray\"> **TAB** </font>'s\n",
    "    - 'The **1st level of indentation** (<font color=\"SlateGray\"> **TAB** </font>) is b/c we **always** need to indent the <font color=\"SteelBlue\"> **code block** </font> **INSIDE** a <font color=\"Blue\"> **function** </font> <font color=\"BlueViolet\"> **definition code block** </font>'\n",
    "    - 'The **2nd level of indentation** is b/c we also need to indent the <font color=\"SteelBlue\"> **code block** </font> belonging to the \"**<font color=\"DeepSkyBlue\">if</font>**\" <font color=\"DeepSkyBlue\"> **statement** </font>'\n",
    ">\n",
    ">\n",
    "7. Set a code to **UPDATE** the original initial **local variable** called '<font color=\"DarkCyan\">**message**</font>' to contain a NEW **text string** <font color=\"Magenta\"> **\"Fever!\"** </font> if the ABOVE **\"<font color=\"DeepSkyBlue\">if</font>\"** <font color=\"DeepSkyBlue\"> **statement condition** </font> is <font color=\"ForestGreen\"> **True** </font>\n",
    "     > > <font color=\"DarkCyan\"> **message** </font> <font color=\"GoldenRod\"> **=** </font> <font color=\"Magenta\"> **\"Fever!\"** </font> \n",
    ">\n",
    ">\n",
    "| | Term | Meaning | |\n",
    "| -- | -- | ------ | --- |\n",
    "| **'<font color=\"DarkCyan\">message</font>'** | **Local Variable** | It has the same name as the <font color=\"DarkCyan\"> **original local variable** </font> because this is what will be . . .|\n",
    "| | | . . . **UPDATED** when the <font color=\"DeepSkyBlue\"> **if statement** condition </font> is <font color=\"ForestGreen\"> **True** </font> |\n",
    "| | | That is <font color=\"BlueViolet\"> **defined** </font> with**IN** the **function** '<font color=\"Blue\"> **evaluate_temp()** </font>' | |\n",
    "| | | Can **ONLY** be **Accessed** with**IN** that <font color=\"Blue\"> **function** </font> | |\n",
    "| | | | |\n",
    "| | | | |\n",
    "|  '<font color=\"GoldenRod\"> **=** </font>' | **Assignment Operator** | That is being used to <font color=\"GoldenRod\"> **ASSIGN** a </font> **NEW** text string <font color=\"Magenta\"> **value** </font> to the <font color=\"DarkCyan\"> **original local variable** </font> | |\n",
    "| | | <font color=\"GoldenRod\"> Assigning the </font> **NEW** <font color=\"Magenta\"> **\"Fever!\"** </font> text string value to the '<font color=\"DarkCyan\">**message**</font>' variable | |\n",
    "| | | | |\n",
    "| | | | |\n",
    "| **'<font color=\"Magenta\">\"Fever!\"</font>'** | The **Text String Value** | The <font color=\"Magenta\"> NEW **String**</font> that is being <font color=\"GoldenRod\"> **Assigned** to **UPDATE** </font> the local '<font color=\"DarkCyan\">**message**</font>' variable |\n",
    "| | | What will **REPLACE** the <font color=\"Magenta\"> **original value text string** </font> based on a <font color=\"DeepSkyBlue\"> **condition** </font> in the code | |\n",
    ">\n",
    "> "
   ]
  },
  {
   "cell_type": "markdown",
   "id": "96c11d6f-96fa-4c52-9ca2-96360b2fba23",
   "metadata": {},
   "source": [
    ">\n",
    "> \n",
    "8. <font color=\"SlateGray\"> **ENTER** </font> and <font color=\"SlateGray\"> **TAB** </font> **ONCE**\n",
    "    - should be **4 spaces = 1** <font color=\"SlateGray\"> **TAB** </font>\n",
    "    - Vital it is **only 1 indentation** therefore indicating that **step 9**, <font color=\"Purple\"> **return statement** </font>, 'is **ALWAYS** executed, whether <font color=\"LightSeaGreen\"> **temp** </font> <font color=\"GoldenRod\"> **>** </font> <font color=\"Magenta\"> **38** </font> is <font color=\"ForestGreen\"> **True** </font> **or** <font color=\"Red\"> **False** </font>'\n",
    ">\n",
    ">\n",
    "9. Then you tell the computer that you are done with the creation of the custom function '**<font color=\"Blue\">evaluate_temp()</font>**' by creating the '<font color=\"DeepSkyBlue\">**return**</font>' **keyword** in the following <font color=\"Purple\"> **return statement** </font>:\n",
    "    -  The '<font color=\"DeepSkyBlue\">**return**</font>' statement is used to indicate the <font color=\"Magenta\"> **value** </font> that the <font color=\"Blue\"> **function** </font> should return when it is called and executed.\n",
    "    -  In this case, it returns the value of the '<font color=\"DarkCyan\">**message**</font>' variable, which can be either of the following depending on the <font color=\"Magenta\"> **value** </font> of '<font color=\"LightSeaGreen\">**temp**</font>':\n",
    "        - <font color=\"magenta\"> **\"Normal temperature.\"**\n",
    "        - or\n",
    "        - <font color=\"Magenta\"> **\"Fever!\"** </font> \n",
    "> <font color=\"DeepSkyBlue\"> **return** </font> <font color=\"DarkCyan\"> **message** </font>\n",
    ">\n",
    ">\n",
    "| | Term | Meaning |\n",
    "| -- | -- | ------ |\n",
    "| **'<font color=\"DeepSkyBlue\">return</font>'** | **Keyword** | Is the <font color=\"DeepSkyBlue\"> **keyword** </font> used to specify the <font color=\"Magenta\"> **value** </font> that the '**<font color=\"Blue\">evaluate_temp()</font>**' function should provide as its **output** aka **print output**  |\n",
    "| | | It's used to indicate that whatever comes after this <font color=\"DeepSkyBlue\"> **keyword** </font> is the thing you want . . .\n",
    "| | | . . . the custom <font color=\"Blue\"> **function** </font> to **return** (print out) whenever the <font color=\"Blue\"> **function** </font> is **CALLED** and **EXECUTED** |\n",
    "| | | |\n",
    "| | | |\n",
    "| '<font color=\"DarkCyan\">**message**</font>' | **Return Value** | In this case the **return value** happens to also be a <font color=\"DarkCyan\"> **local variable** </font> and it holds the <font color=\"Magenta\"> **value** </font> that the **<font color=\"Blue\">evaluate_temp()</font>**' . . . |\n",
    "| | | . . . function will return when its called upon and executed |\n",
    "| | | It's the <font color=\"Magenta\"> **value** </font> that will be passed back to the caller of the function as the result or output of the '**<font color=\"Blue\">evaluate_temp()</font>**' function |\n",
    "| | | |\n",
    "| | | |\n",
    " "
   ]
  },
  {
   "cell_type": "code",
   "execution_count": null,
   "id": "e4d57d46-de20-4b3b-a551-2e06bc36e552",
   "metadata": {},
   "outputs": [],
   "source": []
  },
  {
   "cell_type": "markdown",
   "id": "acb83e5b-e8e5-41e3-a576-579be1a26c78",
   "metadata": {},
   "source": [
    "##### c. **Put it in the below code cell:**\n",
    ">\n",
    "<font color=\"Purple\"> **def** </font> <font color=\"Blue\"> **evaluate_temp(** </font> <font color=\"LightSeaGreen\"> **temp** </font> <font color=\"Blue\"> **):** </font>\n",
    "> <font color=\"DarkCyan\"> **message** </font> <font color=\"GoldenRod\"> **=** </font> <font color=\"Magenta\"> **\"Normal temperature.\"** </font>\n",
    ">\n",
    "> <font color=\"DeepSkyBlue\"> **if** </font> <font color=\"LightSeaGreen\"> **temp** <font color=\"GoldenRod\"> **>** </font> <font color=\"Magenta\"> **38** </font> <font color=\"SteelBlue\"> **:** </font>\n",
    ">\n",
    "> > <font color=\"DarkCyan\"> **message** </font> <font color=\"GoldenRod\"> **=** </font> <font color=\"Magenta\"> **\"Fever!\"** </font>\n",
    ">\n",
    "> <font color=\"DeepSkyBlue\"> **return** </font> <font color=\"DarkCyan\"> **message** </font>\n",
    "   "
   ]
  },
  {
   "cell_type": "code",
   "execution_count": 10,
   "id": "ea4bf536-603e-488b-bb67-edc82cd06f74",
   "metadata": {},
   "outputs": [
    {
     "name": "stdout",
     "output_type": "stream",
     "text": [
      "\n",
      "\n"
     ]
    }
   ],
   "source": [
    "def evaluate_temp(temp):\n",
    "    # Set an initial message if condition is NOT met this message will print out\n",
    "    message = \"Normal temperature.\"\n",
    "    # Create an \"if\" statement condition to update the message to \"Fever!\" if the temp is > 38 C\n",
    "    if temp > 38:\n",
    "        message = \"Fever!\"\n",
    "    # Create return statement to return the value of the variable message depending on if the condition is met or not\n",
    "    return message\n",
    "\n",
    "# Blanks for space\n",
    "print()\n",
    "print()"
   ]
  },
  {
   "cell_type": "code",
   "execution_count": null,
   "id": "45c27b1b-97bc-41f5-8f17-366474db9050",
   "metadata": {},
   "outputs": [],
   "source": []
  },
  {
   "cell_type": "markdown",
   "id": "5abc97d7-0cec-444b-b6ad-7b9b0b14b6b5",
   "metadata": {},
   "source": [
    "##### d. **Call the function where the <font color=\"LightSeaGreen\"> temperature </font> is <font color=\"Magenta\"> 37 </font> C:**\n",
    "- This means you replace the **parameter** '<font color=\"LightSeaGreen\">**temp**</font>' with '<font color=\"Magenta\">**37**</font>' in the custom function '<font color=\"Blue\">**evaluate_temp()**</font>' parantheses\n",
    "- You call it inside either\n",
    "    -  a new named variable\n",
    "    -  or\n",
    "    -  just call it with a print function\n",
    ">\n",
    ">\n",
    "- Since **37 C** is **LESS Than** **38 C** the <font color=\"DeepSkyBlue\"> **if condition** </font> is <font color=\"Red\"> **False** </font> therefore the original <font color=\"Magenta\"> **value** </font> contained in the '<font color=\"DarkCyan\">**message**</font>' variable will print out aka '<font color=\"Magenta\">**\"Normal temperature.\"**</font>' "
   ]
  },
  {
   "cell_type": "code",
   "execution_count": 11,
   "id": "8fd1f57d-0231-4caf-8144-6fa2034d0b70",
   "metadata": {},
   "outputs": [
    {
     "name": "stdout",
     "output_type": "stream",
     "text": [
      "Normal temperature.\n",
      "\n",
      "\n"
     ]
    }
   ],
   "source": [
    "# Call and print the custom function with a temp of 37 C\n",
    "print(evaluate_temp(37))\n",
    "\n",
    "# Blanks for space\n",
    "print()\n",
    "print()"
   ]
  },
  {
   "cell_type": "code",
   "execution_count": 12,
   "id": "f4c8b9d3-d125-41a1-a957-97faa93aebf1",
   "metadata": {},
   "outputs": [
    {
     "name": "stdout",
     "output_type": "stream",
     "text": [
      "Temperature of 37 C = Normal temperature.\n",
      "\n",
      "\n"
     ]
    }
   ],
   "source": [
    "# LABEL and Call and print the custom function with a temp of 37 C\n",
    "print('Temperature of 37 C =', evaluate_temp(37))\n",
    "\n",
    "# Blanks for space\n",
    "print()\n",
    "print()"
   ]
  },
  {
   "cell_type": "code",
   "execution_count": 13,
   "id": "b7bbc34a-4fe0-40ae-8ee3-53ea795f78cc",
   "metadata": {},
   "outputs": [
    {
     "name": "stdout",
     "output_type": "stream",
     "text": [
      "Normal temperature.\n",
      "The Variable 'Temp_37' contains a temperature that is considered a Normal temperature.\n",
      "\n",
      "\n"
     ]
    }
   ],
   "source": [
    "# Create a variable to contain the above\n",
    "Temp_37 = evaluate_temp(37)\n",
    "\n",
    "# Print variable alone\n",
    "print(Temp_37)\n",
    "\n",
    "# Print and label\n",
    "print(\"The Variable 'Temp_37' contains a temperature that is considered a\", Temp_37)\n",
    "\n",
    "# Blanks for space\n",
    "print()\n",
    "print()"
   ]
  },
  {
   "cell_type": "code",
   "execution_count": null,
   "id": "2930de4c-52a1-4294-97bc-534827d7e1e9",
   "metadata": {},
   "outputs": [],
   "source": []
  },
  {
   "cell_type": "markdown",
   "id": "3864ab65-a90e-4d51-8af6-7b9607498e80",
   "metadata": {},
   "source": [
    "##### e. **Call the function where the <font color=\"LightSeaGreen\"> temperature </font> is <font color=\"Magenta\"> 38 </font> C:**\n",
    "- This means you replace the **parameter** '<font color=\"LightSeaGreen\">**temp**</font>' with '<font color=\"Magenta\">**38**</font>' in the custom function '<font color=\"Blue\">**evaluate_temp()**</font>' parantheses\n",
    "- You call it inside either\n",
    "    -  a new named variable\n",
    "    -  or\n",
    "    -  just call it with a print function\n",
    ">\n",
    ">\n",
    "- Since **38 C** is **EQUAL to** **38 C** AKA <font color=\"Crimson\"> **NOT Greater than** </font> **38 C** the <font color=\"DeepSkyBlue\"> **if condition** </font> is **STILL** <font color=\"Red\"> **False** </font>\n",
    "    - because the <font color=\"GoldenRod\"> comparison operator </font> ('<font color=\"GoldenRod\"> **>** </font>') was used which is very specifically **ONLY** <font color=\"ForestGreen\"> **True** </font> if its **GREAT Than ONLY**.\n",
    "    - Therefore the original <font color=\"Magenta\"> **value** </font> contained in the '<font color=\"DarkCyan\">**message**</font>' variable will print out aka '<font color=\"Magenta\">**\"Normal temperature.\"**</font>'"
   ]
  },
  {
   "cell_type": "code",
   "execution_count": 14,
   "id": "d7f3d7d5-748c-42d0-800a-437f93bc489c",
   "metadata": {},
   "outputs": [
    {
     "name": "stdout",
     "output_type": "stream",
     "text": [
      "Normal temperature.\n",
      "\n",
      "\n"
     ]
    }
   ],
   "source": [
    "# Call and print the custom function with a temp of 38 C\n",
    "print(evaluate_temp(38))\n",
    "\n",
    "# Blanks for space\n",
    "print()\n",
    "print()"
   ]
  },
  {
   "cell_type": "code",
   "execution_count": 15,
   "id": "b2497702-e3c8-41a4-9b88-e1d997d93f23",
   "metadata": {},
   "outputs": [
    {
     "name": "stdout",
     "output_type": "stream",
     "text": [
      "Temperature of 38 C = Normal temperature.\n",
      "\n",
      "\n"
     ]
    }
   ],
   "source": [
    "# Label, Call and print the custom function with a temp of 38 C\n",
    "print('Temperature of 38 C =', evaluate_temp(38))\n",
    "\n",
    "# Blanks for space\n",
    "print()\n",
    "print()"
   ]
  },
  {
   "cell_type": "code",
   "execution_count": 16,
   "id": "5e448a7d-1391-461a-af40-e6a4f58fe31f",
   "metadata": {},
   "outputs": [
    {
     "name": "stdout",
     "output_type": "stream",
     "text": [
      "Normal temperature.\n",
      "The Variable 'Temp_38' contains a temperature that is considered a Normal temperature.\n",
      "\n",
      "\n"
     ]
    }
   ],
   "source": [
    "# Create a variable to contain the above\n",
    "Temp_38 = evaluate_temp(3)\n",
    "\n",
    "# Print variable alone\n",
    "print(Temp_38)\n",
    "\n",
    "# Print and label\n",
    "print(\"The Variable 'Temp_38' contains a temperature that is considered a\", Temp_38)\n",
    "\n",
    "# Blanks for space\n",
    "print()\n",
    "print()"
   ]
  },
  {
   "cell_type": "code",
   "execution_count": null,
   "id": "f03bf8fc-eb0e-49a7-a0ba-35fb6962c8e4",
   "metadata": {},
   "outputs": [],
   "source": []
  },
  {
   "cell_type": "markdown",
   "id": "5e2d74dc-4c26-47ab-b526-3b6a70a429df",
   "metadata": {},
   "source": [
    "##### f. **Call the function where the <font color=\"LightSeaGreen\"> temperature </font> is <font color=\"Magenta\"> 39 </font> C:**\n",
    "- This means you replace the **parameter** '<font color=\"LightSeaGreen\">**temp**</font>' with '<font color=\"Magenta\">**39**</font>' in the custom function '<font color=\"Blue\">**evaluate_temp()**</font>' parantheses\n",
    "- You call it inside either\n",
    "    -  a new named variable\n",
    "    -  or\n",
    "    -  just call it with a print function\n",
    ">\n",
    ">\n",
    "- Since **39 C** is **GREATER Than** **38 C** the <font color=\"DeepSkyBlue\"> **if condition** </font> is **NOW** <font color=\"ForestGreen\"> **True** </font>. Therefore the <font color=\"DeepSkyBlue\"> **if condition** </font> <font color=\"SteelBlue\"> **code block** </font> applies and is **EXECUTED** which will **UPDATE** the original <font color=\"Magenta\"> **value** </font> contained in the '<font color=\"DarkCyan\">**message**</font>' variable to NOW print out '<font color=\"Magenta\">**\"Fever!\"**</font>' "
   ]
  },
  {
   "cell_type": "code",
   "execution_count": 17,
   "id": "ba6d6b32-2e86-4680-9e58-8d77b6b123fa",
   "metadata": {},
   "outputs": [
    {
     "name": "stdout",
     "output_type": "stream",
     "text": [
      "a. Fever!\n",
      "\n",
      "b. Temperature of 39 C = Fever!\n",
      "\n",
      "c. The Variable 'Temp_39' contains a temperature that is considered a Fever!\n",
      "\n",
      "\n",
      "\n"
     ]
    }
   ],
   "source": [
    "# a. Call and print the custom function with a temp of 39 C\n",
    "print('a.', evaluate_temp(39))\n",
    "\n",
    "# Blank for space\n",
    "print()\n",
    "\n",
    "# b. Label and Call and print the above\n",
    "print('b.', 'Temperature of 39 C =', evaluate_temp(39))\n",
    "\n",
    "# Blank for space\n",
    "print()\n",
    "\n",
    "# c. Create a new variable to contain the above\n",
    "Temp_39 = evaluate_temp(39)\n",
    "\n",
    "# print and label\n",
    "print('c.', \"The Variable 'Temp_39' contains a temperature that is considered a\", Temp_39)\n",
    "\n",
    "# Blanks for space\n",
    "print()\n",
    "print()\n",
    "print()"
   ]
  },
  {
   "cell_type": "code",
   "execution_count": null,
   "id": "4421b92e-1627-4b4b-9953-b74212315e62",
   "metadata": {},
   "outputs": [],
   "source": []
  },
  {
   "cell_type": "code",
   "execution_count": null,
   "id": "4f05dbbf-dbce-4bdb-97b0-d9d82367235f",
   "metadata": {},
   "outputs": [],
   "source": []
  },
  {
   "cell_type": "markdown",
   "id": "cb644dfa-96f9-4561-acb9-ffc5cf21d194",
   "metadata": {},
   "source": [
    "### B. <u>**\"<font color=\"DeepSkyBlue\"> if . . . else </font>\" statements: </u>**\n",
    "= 'We can use \"<font color=\"DeepSkyBlue\">**else**</font>\" **statements** to run code if a <font color=\"Purple\"> **Statement** </font> is <font color=\"Red\"> **False** </font>'\n",
    "    - 'The <font color=\"SteelBlue\"> **code** </font> under the \"<font color=\"DeepSkyBlue\">\n",
    ">\n",
    ">\n",
    "- When the \"<font color=\"DeepSkyBlue\">**if**</font>\" <font color=\"DeepSkyBlue\"> **condition** </font> is <font color=\"Red\">**NOT Met**</font> aka is <font color=\"Red\"> **False** </font>, then the \"<font color=\"DeepSkyBlue\">**else**</font>\" <font color=\"SteelBlue\"> **code block** </font> will **RUN**\n",
    "\n",
    ">\n",
    ">\n",
    "The \"else\" line is part of the overall conditional statement structure, but on its own, it's typically referred to as the \"else clause\" or \"else branch\" of the conditional statement. It's the section of code that executes when the \"if\" clause's condition evaluates to False. The \"if\" and \"else\" together form a complete conditional statement, with the \"if\" clause containing the condition and the \"else\" clause providing the default action when no condition is met.\n",
    ">\n",
    ">"
   ]
  },
  {
   "cell_type": "markdown",
   "id": "a89a49ef-6654-4de9-be5a-9bcd85cc6aed",
   "metadata": {},
   "source": [
    "\n",
    "<u>So when you create the custom function by <font color=\"BlueViolet\">**defining it**</font> it is done as follows:</u>\n",
    "1. Still have **steps 1 and 2** from **Section A. above**\n",
    ">\n",
    ">\n",
    "2. But then **Steps 3 and 4** from **Section A. above** don't occur because the \"<font color=\"DeepSkyBlue\"> **if** </font>\" <font color=\"DeepSkyBlue\"> **Conditional Statement** </font> (also called the <u>\"<font color=\"DeepSkyBlue\">**if**</font>\" <font color=\"DeepSkyBlue\"> **clause** </font></u> **containing the <font color=\"DeepSkyBlue\"> condition** </font>) is different and will take over the task that was done in steps 3 and 4\n",
    ">\n",
    ">    \n",
    "3. The \"<font color=\"DeepSkyBlue\">**if**</font>\" **conditional statement**  will **RUN** ONLY if the \"<font color=\"DeepSkyBlue\">**if**</font>\" **conditional statement** is <font color=\"ForestGreen\"> **True** </font>\n",
    "    - If the \"<font color=\"DeepSkyBlue\">**if**</font>\" **condition** </font> is <font color=\"Crimson\">**NOT MET**</font> aka is <font color=\"Red\"> **False** </font> then the \"<font color=\"DeepSkyBlue\">**if**</font>\" <font color=\"SteelBlue\"> **code block** </font> will <font color=\"Crimson\"> **NOT** </font> **EXECUTE** (aka **NOT RUN**)\n",
    ">\n",
    ">\n",
    "4. So you add another statement called <u>\"<font color=\"DeepSkyBlue\">**else**</font>\" **clause**</u> of the <u>\"<font color=\"DeepSkyBlue\">**if . . .else**</font>\" <font color=\"DeepSkyBlue\">**conditional statement**</font> </u>\n",
    "   - Which is the section of <font color=\"SteelBlue\"> **code** </font> that **EXECUTES** when the <u>\"<font color=\"DeepSkyBlue\">**if**</font>\" **clause's**</u> <font color=\"DeepSkyBlue\"> **condition** </font> **EVALUATEs** to <font color=\"Red\"> **False** </font>\n",
    "   - The alternative that **RUNs** (**EXECUTES**) if the <u>\"<font color=\"DeepSkyBlue\">**if**</font>\" <font color=\"DeepSkyBlue\"> **clause** </font></u> containing the <font color=\"DeepSkyBlue\">**condition**</font> is <font color=\"Red\"> **False** </font>\n",
    "   - This means that if the <u>\"<font color=\"DeepSkyBlue\">**if**</font>\" **clause's** </u>  <font color=\"DeepSkyBlue\"> **condition** </font> **EVALUATES** to <font color=\"Red\"> **False** </font> the <font color=\"SteelBlue\"> **code block underneath** </font> the  <u>\"<font color=\"DeepSkyBlue\">**else**</font>\" **clause**</u> will **AUTOMATICALLY** be **EXECUTED**\n",
    "   - The \"<font color=\"DeepSkyBlue\">**else**</font>\" line is part of the <font color=\"DeepSkyBlue\"> **overall conditional statement** </font> structure\n",
    "       - But on its own, it's typically referred to as the <u>\"<font color=\"DeepSkyBlue\">***else clause***</font>\"</u> or <u>\"<font color=\"DeepSkyBlue\">***else branch***</font>\"</u> of the conditional statement. \n",
    "     \n",
    ">\n",
    ">\n",
    "\n",
    "Best explained in an example\n",
    "> '<font color=\"Blue\"> **evaluate_temp_with_else()** </font>'\n",
    "\n"
   ]
  },
  {
   "cell_type": "code",
   "execution_count": null,
   "id": "8737cfc8-6cd9-4c63-969b-ee7c1884234d",
   "metadata": {},
   "outputs": [],
   "source": []
  },
  {
   "cell_type": "markdown",
   "id": "b58b00f5-3eb5-408e-b83c-0bb33b4d0a1a",
   "metadata": {},
   "source": [
    "#### i. **'<font color=\"Blue\">evaluate_temp_with_else()</font>' Example**\n",
    "Create a custom function with the name \n",
    "> '<font color=\"Blue\"> **evaluate_temp_with_else()** </font>'\n",
    ">\n",
    "That will\n",
    "- Accepts  <font color=\"Magenta\"> **body temperature** *(in Celsius)* </font> as **input** in it's **<font color=\"Blue\"> ( ) </font>**\n",
    "- and will output a message depending on the <font color=\"Magenta\"> **temperature value** </font>.\n",
    "- Its a thermometer. So if the '<font color=\"LightSeaGreen\">**temp**</font>' <font color=\"Magenta\"> **temperature VALUE** </font> is:\n",
    "  \n",
    "| '<font color=\"LightSeaGreen\">**temp**</font>' input | The \"<font color=\"DeepSkyBlue\">**if**</font>\" <font color=\"DeepSkyBlue\"> condition </font> evaluates to. . . | \"<font color=\"DeepSkyBlue\">**if**</font>\" <font color=\"DeepSkyBlue\"> **clause** </font> executed? | \"<font color=\"DeepSkyBlue\">**else**</font>\" <font color=\"DeepSkyBlue\"> clause </font> executed? | *Return* = outputs a value from a function. *Print* = outputs a value to the console |\n",
    "| --------------------------------------------------- | ---------------- | ------------------ | ----------------------- | ------------------------------- |\n",
    "| <font color=\"Magenta\"> **> 38** </font> **C** | . . . <font color=\"ForestGreen\"> **True** </font> aka a fever | <font color=\"LimeGreen\"> **YES** </font> | <font color=\"Crimson\"> **NO** </font> | will output the \"<font color=\"DeepSkyBlue\">**if**</font>\" <font color=\"DeepSkyBlue\"> **condition statement** </font>  message = <font color=\"Magenta\"> **\"Fever!\"** </font> |\n",
    "| | | | |\n",
    "| | | | |\n",
    "| **38 C** | . . . <font color=\"Red\"> **False** </font> | <font color=\"Crimson\"> **NO** </font> | <font color=\"LimeGreen\"> **YES** </font> | will output the \"<font color=\"DeepSkyBlue\">**else**</font>\" <font color=\"DeepSkyBlue\"> **condition statement** </font> message = <font color=\"Magenta\"> **\"Normal temperature.\"** </font> |\n",
    "| | | | |\n",
    "| | | | |\n",
    "| **<font color=\"Magenta\"> < 38 </font>** **C** | . . . <font color=\"Red\"> **False** </font> | <font color=\"Crimson\"> **NO** </font> | <font color=\"LimeGreen\"> **YES** </font> | will output the \"<font color=\"DeepSkyBlue\">**else**</font>\" <font color=\"DeepSkyBlue\"> **condition statement** </font> message = <font color=\"Magenta\"> **\"Normal temperature.\"** </font> |\n"
   ]
  },
  {
   "cell_type": "code",
   "execution_count": null,
   "id": "ba315369-b0d0-4ca2-bd5f-129e2e3363f8",
   "metadata": {},
   "outputs": [],
   "source": []
  },
  {
   "cell_type": "markdown",
   "id": "2c59a45a-95f2-484e-874d-77eee91852e1",
   "metadata": {},
   "source": [
    "##### a. **Here is what the code cell should contain, explainations of each part below:**\n",
    ">\n",
    "<font color=\"BlueViolet\"> **def** </font> <font color=\"Blue\"> **evaluate_temp_with_else(** </font> <font color=\"LightSeaGreen\"> **temp** </font> <font color=\"Blue\"> **)** </font> <font color=\"SteelBlue\"> **:** </font>\n",
    ">\n",
    "> <font color=\"DeepSkyBlue\"> **if** </font> <font color=\"LightSeaGreen\"> **temp** </font> **<font color=\"GoldenRod\"> > </font>** <font color=\"Magenta\"> **38** </font> <font color=\"SteelBlue\"> **:** </font>\n",
    "> > <font color=\"DarkCyan\"> **message** </font> **<font color=\"GoldenRod\"> = </font>** <font color=\"Magenta\"> **\"Fever!\"** </font>\n",
    ">\n",
    "> <font color=\"DeepSkyBlue\"> **else** </font><font color=\"SteelBlue\">**:**</font>\n",
    "> > <font color=\"DarkCyan\"> **message** </font> **<font color=\"GoldenRod\"> = </font>** <font color=\"Magenta\"> **\"Normal temperature.\"** </font>\n",
    "> \n",
    "> <font color=\"DeepSkyBlue\">**return** </font> <font color=\"DarkCyan\"> **message** </font>"
   ]
  },
  {
   "cell_type": "code",
   "execution_count": null,
   "id": "c2ed0c28-53e0-4b6d-a1a2-11c08d4eda4d",
   "metadata": {},
   "outputs": [],
   "source": []
  },
  {
   "cell_type": "markdown",
   "id": "82158c9c-7337-437d-819c-ba3760864b17",
   "metadata": {},
   "source": [
    "##### b. **The custom made function above is made the same way that is seen in Section A. b**\n",
    "So not repeating it here. As its easy understand compared to Section A. b."
   ]
  },
  {
   "cell_type": "markdown",
   "id": "52d20c57-bafe-4a0f-a537-105c8d48e26b",
   "metadata": {},
   "source": [
    "##### c. **Put it in the below code cell:**"
   ]
  },
  {
   "cell_type": "code",
   "execution_count": 18,
   "id": "18ea3fde-bad0-4163-9a05-06065e938a96",
   "metadata": {},
   "outputs": [
    {
     "name": "stdout",
     "output_type": "stream",
     "text": [
      "\n",
      "\n"
     ]
    }
   ],
   "source": [
    "# Define the 'evaluate_temp_with_else()' function\n",
    "def evaluate_temp_with_else(temp):\n",
    "    if temp > 38:\n",
    "        message = \"Fever!\"\n",
    "    else:\n",
    "        message = \"Normal temperature.\"\n",
    "    return message\n",
    "\n",
    "# Blanks for space\n",
    "print()\n",
    "print()"
   ]
  },
  {
   "cell_type": "code",
   "execution_count": null,
   "id": "ef737f3b-b115-4a6a-b607-5740d854cb53",
   "metadata": {},
   "outputs": [],
   "source": []
  },
  {
   "cell_type": "markdown",
   "id": "81127d44-128a-4623-a716-08d9756ca89b",
   "metadata": {},
   "source": [
    "##### d. **Call the function where the** <font color=\"LightSeaGreen\"> **temperature** </font> **is <font color=\"Magenta\"> 39 </font> C:**\n",
    "1. Since **39 C** is **GREATER Than 38 C** the \"<font color=\"DeepSkyBlue\">**if**</font>\" <font color=\"DeepSkyBlue\"> **condition** </font> is <font color=\"ForestGreen\"> **True** </font>\n",
    ">\n",
    ">\n",
    "2. The <font color=\"SteelBlue\"> **code block** </font> underneath the \"<font color=\"DeepSkyBlue\">**if**</font>\" <font color=\"DeepSkyBlue\"> **condition** </font> will therefore **RUN** aka be **EXECUTED**\n",
    ">\n",
    ">\n",
    "3. So the '<font color=\"Blue\">**evaluate_temp_with_else()**</font>' will **RETURN** the <font color=\"Magenta\"> **value** </font> contained in the local '<font color=\"DarkCyan\">**message**</font>' variable that is in the <font color=\"SteelBlue\"> **code block** </font> that is **underneath** the \"<font color=\"DeepSkyBlue\">**if**</font>\" **condition statement**\n",
    ">\n",
    ">\n",
    "4. So the print out, when you print it, should be '<font color=\"Magenta\">**\"Fever!\"**</font>'"
   ]
  },
  {
   "cell_type": "code",
   "execution_count": 19,
   "id": "86edda1a-3778-4a34-ad94-30c5b9266a4d",
   "metadata": {},
   "outputs": [
    {
     "name": "stdout",
     "output_type": "stream",
     "text": [
      "Fever!\n",
      "\n",
      "\n"
     ]
    }
   ],
   "source": [
    "# Input temp of 39 into 'evaluate_temp_with_else()' function and print result\n",
    "print(evaluate_temp_with_else(39))\n",
    "\n",
    "# Blanks for space\n",
    "print()\n",
    "print()"
   ]
  },
  {
   "cell_type": "code",
   "execution_count": 20,
   "id": "4c1ce221-7dcc-4760-807d-15751db17d71",
   "metadata": {},
   "outputs": [
    {
     "name": "stdout",
     "output_type": "stream",
     "text": [
      "Temperature of 39 C = Fever!\n",
      "\n",
      "\n"
     ]
    }
   ],
   "source": [
    "# Label and Input temp of 39 into 'evaluate_temp_with_else()' function and print result\n",
    "print('Temperature of 39 C =', evaluate_temp_with_else(39))\n",
    "\n",
    "# Blanks for space\n",
    "print()\n",
    "print()"
   ]
  },
  {
   "cell_type": "code",
   "execution_count": 21,
   "id": "3cc11b0f-16e1-4a47-991d-dc8c96dbf43e",
   "metadata": {},
   "outputs": [
    {
     "name": "stdout",
     "output_type": "stream",
     "text": [
      "The variable 'Temp_39C' contains a temperature that is considered a Fever!\n",
      "\n",
      "\n"
     ]
    }
   ],
   "source": [
    "# Input temp of 39 into 'evaluate_temp_with_else()' function and store in variable\n",
    "Temp_39C = evaluate_temp_with_else(39)\n",
    "\n",
    "# Print and label the variable\n",
    "print(\"The variable 'Temp_39C' contains a temperature that is considered a\", Temp_39C)\n",
    "\n",
    "# Blanks for space\n",
    "print()\n",
    "print()"
   ]
  },
  {
   "cell_type": "code",
   "execution_count": null,
   "id": "dc49b48f-7e5b-47b6-95d8-ac64cb26f370",
   "metadata": {},
   "outputs": [],
   "source": []
  },
  {
   "cell_type": "markdown",
   "id": "df66ab0f-720e-4ab6-ae4d-73386c4680bb",
   "metadata": {},
   "source": [
    "##### d. **Call the function where the <font color=\"LightSeaGreen\"> temperature </font> is <font color=\"Magenta\"> 37 </font> C:**\n",
    "1. Since **37 C** is **LESS Than 38 C** the \"<font color=\"DeepSkyBlue\">**if**</font>\" <font color=\"DeepSkyBlue\"> **condition** </font> evaluates to <font color=\"Red\"> **False** </font>\n",
    ">\n",
    ">\n",
    "2. Therefore the <font color=\"SteelBlue\"> **code block** </font> underneath the \"<font color=\"DeepSkyBlue\">**if**</font>\" <font color=\"DeepSkyBlue\"> **condition** </font> will <font color=\"Crimson\"> **NOT RUN** </font> aka will <font color=\"Crimson\"> **NOT be EXECUTED** </font>\n",
    ">\n",
    ">\n",
    "3. So now the <font color=\"SteelBlue\"> **code block** </font> underneath the <u>\"<font color=\"DeepSkyBlue\">**else**</font>\" **clause**</u> will be **EXECUTED**\n",
    ">\n",
    ">\n",
    "4. So the '<font color=\"Blue\">**evaluate_temp_with_else()**</font>' will **RETURN** the <font color=\"Magenta\"> **value** </font> contained in the local '<font color=\"DarkCyan\">**message**</font>' variable that is in the <font color=\"SteelBlue\"> **code block** </font> **underneath** the \"<font color=\"DeepSkyBlue\">**else**</font>\" **condition statement**\n",
    ">\n",
    ">\n",
    "4. So the print out, when you print it, should be '<font color=\"Magenta\">**\"Normal temperature.\"**</font>'"
   ]
  },
  {
   "cell_type": "code",
   "execution_count": 22,
   "id": "a2195026-307d-4f8d-b0d9-aa35038ba652",
   "metadata": {},
   "outputs": [
    {
     "name": "stdout",
     "output_type": "stream",
     "text": [
      "a. Normal temperature.\n",
      "\n",
      "b. Temperature of 37 C = Normal temperature.\n",
      "\n",
      "c. The variable 'Temp_37C' contains a temperature that is considered a Fever!\n",
      "\n",
      "\n"
     ]
    }
   ],
   "source": [
    "# a. Call the function and print temp 37 with blank underneath\n",
    "print('a.', evaluate_temp_with_else(37))\n",
    "print()\n",
    "\n",
    "# b. Call the function and print temp 37, label it with blank underneath\n",
    "print('b.', 'Temperature of 37 C =', evaluate_temp_with_else(37))\n",
    "print()\n",
    "\n",
    "# c. Call the function in a new variable, label and print and 2 blanks underneath\n",
    "Temp_37C = evaluate_temp_with_else(39)\n",
    "print('c.', \"The variable 'Temp_37C' contains a temperature that is considered a\", Temp_37C)\n",
    "print()\n",
    "print()"
   ]
  },
  {
   "cell_type": "code",
   "execution_count": null,
   "id": "a4add624-5f82-4ff4-8d47-65a898a5e3f8",
   "metadata": {},
   "outputs": [],
   "source": []
  },
  {
   "cell_type": "markdown",
   "id": "f3ae5582-5a27-496e-9e8a-1a9fb839fba0",
   "metadata": {},
   "source": [
    "##### e. **Call the function where the <font color=\"LightSeaGreen\"> temperature </font> is <font color=\"Magenta\"> 38 </font> C:**\n",
    "1. Since **38 C** is **EQUAL to 38 C** the \"<font color=\"DeepSkyBlue\">**if**</font>\" <font color=\"DeepSkyBlue\"> **condition** </font> evaluates to <font color=\"Red\"> **False** </font> because it is <font color=\"Crimson\"> **NOT** </font> **Greater than 38 C**\n",
    ">\n",
    ">\n",
    "2. Therefore the <font color=\"SteelBlue\"> **code block** </font> underneath the \"<font color=\"DeepSkyBlue\">**if**</font>\" <font color=\"DeepSkyBlue\"> **condition** </font> will <font color=\"Crimson\"> **NOT RUN** </font> aka will <font color=\"Crimson\"> **NOT be EXECUTED** </font>\n",
    ">\n",
    ">\n",
    "3. So now the <font color=\"SteelBlue\"> **code block** </font> underneath the <u>\"<font color=\"DeepSkyBlue\">**else**</font>\" **clause**</u> will be **EXECUTED**\n",
    ">\n",
    ">\n",
    "4. So the '<font color=\"Blue\">**evaluate_temp_with_else()**</font>' will **RETURN** the <font color=\"Magenta\"> **value** </font> contained in the local '<font color=\"DarkCyan\">**message**</font>' variable that is in the <font color=\"SteelBlue\"> **code block** </font> **underneath** the \"<font color=\"DeepSkyBlue\">**else**</font>\" **condition statement**\n",
    ">\n",
    ">\n",
    "4. So the print out, when you print it, should be '<font color=\"Magenta\">**\"Normal temperature.\"**</font>'"
   ]
  },
  {
   "cell_type": "code",
   "execution_count": 23,
   "id": "9766215e-b7e1-4eb5-8be6-2498df4a4d91",
   "metadata": {},
   "outputs": [
    {
     "name": "stdout",
     "output_type": "stream",
     "text": [
      "a. Normal temperature.\n",
      "\n",
      "b. Temperature of 38 C = Normal temperature.\n",
      "\n",
      "c. The variable 'Temp_38C' contains a temperature that is considered a Fever!\n",
      "\n",
      "\n"
     ]
    }
   ],
   "source": [
    "# a. Call the function and print temp 38 with blank underneath\n",
    "print('a.', evaluate_temp_with_else(38))\n",
    "print()\n",
    "\n",
    "# b. Call the function and print temp 38, label it with blank underneath\n",
    "print('b.', 'Temperature of 38 C =', evaluate_temp_with_else(38))\n",
    "print()\n",
    "\n",
    "# c. Call the function in a new variable, label and print and 2 blanks underneath\n",
    "Temp_38C = evaluate_temp_with_else(39)\n",
    "print('c.', \"The variable 'Temp_38C' contains a temperature that is considered a\", Temp_38C)\n",
    "print()\n",
    "print()"
   ]
  },
  {
   "cell_type": "code",
   "execution_count": null,
   "id": "7d25801d-8637-454b-b522-72723091a371",
   "metadata": {},
   "outputs": [],
   "source": []
  },
  {
   "cell_type": "code",
   "execution_count": null,
   "id": "ff4f1499-6237-4d94-9d8a-81407aed8659",
   "metadata": {},
   "outputs": [],
   "source": []
  },
  {
   "cell_type": "markdown",
   "id": "2d0f6e98-7752-4a40-91a3-41b2478a9ba7",
   "metadata": {},
   "source": [
    "### C. <u>**\"<font color=\"DeepSkyBlue\"> if . . . elif . . . else </font>\" statements: </u>**\n",
    "= 'We can use \"<font color=\"DeepSkyBlue\"> **elif** </font>\" **statements** (short for \"<font color=\"DeepSkyBlue\">**else if**</font>\") to check if **multiple** <font color=\"DeepSkyBlue\"> **conditions** </font> might be <font color=\"ForestGreen\"> **True** </font>\n",
    ">\n",
    ">\n",
    "<u>**Used to do the following things:**</u>\n",
    "1. Evaluate the \"<font color=\"DeepSkyBlue\">**if**</font>\" **conditional statement**\n",
    ">\n",
    ">\n",
    "2. <u> One of 2 things can occur as a response to the evaluation of the above condition: </u>\n",
    "    \n",
    "| \"<font color=\"DeepSkyBlue\">**if**</font>\" condition Evaluation result | Response |\n",
    "| --------------------------------------------------------------------- | -------- |\n",
    "| <font color=\"White\"> ______________ </font> <font color=\"ForestGreen\"> **True** </font> | **EXECUTE** the <font color=\"SteelBlue\"> **code block** </font> underneath the \"<font color=\"DeepSkyBlue\">**if**</font>\" **clause** |\n",
    "| | |\n",
    "| | |\n",
    "| <font color=\"White\"> ______________ </font> <font color=\"Red\"> **False** </font> | 1. Do <font color=\"Crimson\"> **NOT EXECUTE** </font> the <font color=\"SteelBlue\"> **code block** </font> underneath the \"<font color=\"DeepSkyBlue\">**if**</font>\" **conditional statement** |\n",
    "| | 2. **Move on** to the next <font color=\"SteelBlue\"> **code block** </font> and evaluate it's <font color=\"DeepSkyBlue\"> **condition**  </font> AKA move to step 3 |\n",
    "| | |\n",
    "| | |\n",
    ">\n",
    ">\n",
    "3. Evaluate the \"<font color=\"DeepSkyBlue\"> **elif** </font>\" **conditional statement**\n",
    ">\n",
    ">\n",
    "4. <u> One of 2 things can occur as a response to the evaluation of the above condition: </u>\n",
    "\n",
    "| \"<font color=\"DeepSkyBlue\">**elif**</font>\" condition Evaluation result | Response |\n",
    "| ----------------------------------------------------------------------- | -------- |\n",
    "|  <font color=\"White\"> ________________________ </font> <font color=\"ForestGreen\"> **True** </font> | **EXECUTE** the <font color=\"SteelBlue\"> **code block** </font> underneath the \"<font color=\"DeepSkyBlue\">**elif**</font>\" **conditional statement** |\n",
    "| | |\n",
    "| | |\n",
    "| <font color=\"White\"> ________________________ </font> <font color=\"Red\"> **False** </font> | 1. Do <font color=\"Crimson\"> **NOT EXECUTE** </font> the <font color=\"SteelBlue\"> **code block** </font> underneath the \"<font color=\"DeepSkyBlue\">**elif**</font>\" **conditional statement** |\n",
    "| | 2. **Move on** to the next <font color=\"SteelBlue\"> **code block** </font> and evlalute it's <font color=\"DeepSkyBlue\"> **condition** </font> AKA move to step 4 |\n",
    "| | |\n",
    "| | |\n",
    "\n",
    "and executed** if, and **ONLY** if, the **previous** \"<font color=\"DeepSkyBlue\">**if**</font>\" <font color=\"DeepSkyBlue\"> **condition** </font> evaluates to <font color=\"Red\"> ***False*** </font>\n",
    "        - Also applies if **another previous** \"<font color=\"DeepSkyBlue\">**elif**</font>\" <font color=\"DeepSkyBlue\"> **condition** </font> evaluates to <font color=\"Red\"> ***False*** </font>\n",
    "    >\n",
    "    >\n",
    "    2. Check if **multiple <font color=\"purple\"> expressions </font>** for <font color=\"ForestGreen\"> ***True*** </font>\n",
    "    >\n",
    "     and\n",
    "    >\n",
    "    4. **EXECUTE** a <font color=\"SteelBlue\"> **block of code** </font> as soon as **one** of the <font color=\"DeepSkyBlue\"> **conditions** </font> evaluates to <font color=\"ForestGreen\"> ***True*** </font>\n",
    "\n",
    "  \n"
   ]
  },
  {
   "cell_type": "code",
   "execution_count": null,
   "id": "456a0194-f112-451b-a03d-ae2a27fe100c",
   "metadata": {},
   "outputs": [],
   "source": []
  },
  {
   "cell_type": "markdown",
   "id": "a3178884-50d6-4ea0-883d-8344d1783629",
   "metadata": {},
   "source": [
    "### I. or 1. or A. **<u>Sub-Section within main Name of Section<u>**"
   ]
  },
  {
   "cell_type": "markdown",
   "id": "1db4dd9a-6b0b-4546-8bdb-ffa891260287",
   "metadata": {},
   "source": [
    "#### i. or a. or 1. <u>***Sub-Sub section***<u>"
   ]
  },
  {
   "cell_type": "markdown",
   "id": "3206156a-a734-43ca-883c-967c9a5a8bb1",
   "metadata": {
    "tags": []
   },
   "source": [
    "##### **Example 1**"
   ]
  }
 ],
 "metadata": {
  "kernelspec": {
   "display_name": "Python 3 (ipykernel)",
   "language": "python",
   "name": "python3"
  },
  "language_info": {
   "codemirror_mode": {
    "name": "ipython",
    "version": 3
   },
   "file_extension": ".py",
   "mimetype": "text/x-python",
   "name": "python",
   "nbconvert_exporter": "python",
   "pygments_lexer": "ipython3",
   "version": "3.11.5"
  }
 },
 "nbformat": 4,
 "nbformat_minor": 5
}
