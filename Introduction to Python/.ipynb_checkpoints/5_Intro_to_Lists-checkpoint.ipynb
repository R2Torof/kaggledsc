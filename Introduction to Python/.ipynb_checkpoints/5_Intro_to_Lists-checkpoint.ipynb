{
 "cells": [
  {
   "cell_type": "markdown",
   "id": "6084d75e",
   "metadata": {},
   "source": [
    "# Introduction to Programming Kaggle Course\n",
    "#### Notes and practice from course\n",
    "###### <u>*The following rules for references apply in markdown notes*<u>\n",
    "###### - *Things in \"quotes\" in markdown are direct quotes from ***Coding for Beginner's In Easy Steps 2nd Edition*** book*\n",
    "###### - *Things in 'quotes' in markdown are direct quotes from ***Kaggle Course*** okay*"
   ]
  },
  {
   "cell_type": "markdown",
   "id": "65829808",
   "metadata": {},
   "source": [
    "# <u>**Intro to Lists**<u>\n",
    "#### <font color=\"DimGray\"> Organize your data so you can work with it efficently </font>\n",
    "\n",
    "- 'A way to organize your data so you can work with it efficiently.'\n",
    "  \n",
    "-  'Python has many data structures available for holding your data such as:\n",
    "    - **Lists**\n",
    "    - **Sets**\n",
    "    - **Dictionaries**\n",
    "    - **Tuples**\n",
    ">\n",
    ">\n",
    "- This tutorial is learning to work with Python lists "
   ]
  },
  {
   "cell_type": "markdown",
   "id": "58e316e8-9608-4d5d-978d-609d69ab39d3",
   "metadata": {},
   "source": [
    "## **I. Motivation**\n",
    "\n",
    "- Referenced the [Petal to the metal competition on Kaggle](https://www.kaggle.com/c/tpu-getting-started) where you 'classify the species of a flower based only on its image' = **Image Classification** ('a common task in computer vision')\n",
    "- One goal within the competition it to organize the **names of the flower species in the data**\n",
    "    - This can be acheived in 2 ways:\n",
    ">\n",
    ">\n",
    "\n",
    "| Way | Code |\n",
    "| --- | ---- |\n",
    "| Python **String** | <font color=\"darkcyan\"> **flowers_string** </font> <font color=\"GoldenRod\"> = </font> <font color=\"magenta\"> **\"pink primrose, hard-leaved pocket orchid, canterbury bells, sweet pea, english marigold, tiger lily, moon orchid, bird of paradise, monkshood, globe thistle\"** </font> |\n",
    "| | <font color=\"blue\"> **print(** </font> <font color=\"dodgerblue\"> **type(** </font> <font color=\"darkcyan\"> **flowers_string** </font> <font color=\"dodgerblue\"> **)** </font> <font color=\"blue\"> **)** </font> |\n",
    "| | <font color=\"blue\"> **print(** </font> <font color=\"darkcyan\"> **flowers_string** </font> <font color=\"DarkCyan\"> **)** </font> |\n",
    "| | |\n",
    "| | |\n",
    "| Python **List** | <font color=\"darkcyan\"> **flowers_list** </font> <font color=\"GoldenRod\"> = </font> <font color=\"blue\"> **[** </font> <font color=\"magenta\"> **\"pink primrose\"** </font> <font color=\"blue\"> **,** </font> <font color=\"magenta\"> **\"hard-leaved pocket orchid\"** </font> <font color=\"blue\"> **,** </font> <font color=\"magenta\"> **\"canterbury bells\"** </font> <font color=\"blue\"> **,** </font> <font color=\"magenta\"> **\"sweet pea\"** </font> <font color=\"blue\"> **,** </font> <font color=\"magenta\"> **\"english marigold\"** </font> <font color=\"blue\"> **,** </font> <font color=\"magenta\"> **\"tiger lily\"** </font> <font color=\"blue\"> **,** </font> <font color=\"magenta\"> **\"moon orchid\"** </font> <font color=\"blue\"> **,** </font> <font color=\"magenta\"> **\"bird of paradise\"** </font> <font color=\"blue\"> **,** </font> <font color=\"magenta\"> **\"monkshood\"** </font> <font color=\"blue\"> **,** </font> <font color=\"magenta\"> **\"globe thistle\"** </font> <font color=\"blue\"> **]** </font> |\n",
    "| | <font color=\"blue\"> **print(** </font> <font color=\"dodgerblue\"> **type(** </font> <font color=\"darkcyan\"> **flowers_list** </font> <font color=\"dodgerblue\"> **)** </font> <font color=\"blue\"> **)** </font> |\n",
    "| | <font color=\"blue\"> **print(** </font> <font color=\"darkcyan\"> **flowers_list** </font> <font color=\"DarkCyan\"> **)** </font> |\n",
    "| | |\n",
    "| | |"
   ]
  },
  {
   "cell_type": "code",
   "execution_count": 1,
   "id": "7fc1da35-3185-432e-b5e3-e092c33234f5",
   "metadata": {},
   "outputs": [
    {
     "name": "stdout",
     "output_type": "stream",
     "text": [
      "<class 'str'>\n",
      "pink primrose, hard-leaved pocket orchid, canterbury bells, sweet pea, english marigold, tiger lily, moon orchid, bird of paradise, monkshood, globe thistle\n"
     ]
    }
   ],
   "source": [
    "\n",
    "# Python String example from table above\n",
    "\n",
    "# Assign the string to the variable 'flowers_string'\n",
    "flowers_string = \"pink primrose, hard-leaved pocket orchid, canterbury bells, sweet pea, english marigold, tiger lily, moon orchid, bird of paradise, monkshood, globe thistle\"\n",
    "\n",
    "# Print the variable class type\n",
    "print(type(flowers_string))\n",
    "\n",
    "# Print the string contained in the 'flowers_string' variable\n",
    "print(flowers_string)\n"
   ]
  },
  {
   "cell_type": "code",
   "execution_count": 2,
   "id": "18022270-6191-426f-ba45-9dc9ed78e273",
   "metadata": {},
   "outputs": [
    {
     "name": "stdout",
     "output_type": "stream",
     "text": [
      "<class 'list'>\n",
      "\n",
      "['pink primrose', 'hard-leaved pocket orchid', 'canterbury bells', 'sweet pea', 'english marigold', 'tiger lily', 'moon orchid', 'bird of paradise', 'monkshood', 'globe thistle']\n"
     ]
    }
   ],
   "source": [
    "\n",
    "# Python list example from table above\n",
    "\n",
    "# Assign the list to the variable 'flowers_list'\n",
    "flowers_list = [\"pink primrose\", \"hard-leaved pocket orchid\", \"canterbury bells\", \"sweet pea\", \"english marigold\", \"tiger lily\", \"moon orchid\", \"bird of paradise\", \"monkshood\", \"globe thistle\"]\n",
    "\n",
    "# Print the variable class type in print\n",
    "print(type(flowers_list))\n",
    "print()\n",
    "\n",
    "# Print the list contained in the 'flowers_list' variable\n",
    "print(flowers_list)\n"
   ]
  },
  {
   "cell_type": "code",
   "execution_count": 3,
   "id": "98963abc-0d46-4b09-abd4-5642645989ea",
   "metadata": {},
   "outputs": [
    {
     "data": {
      "text/plain": [
       "list"
      ]
     },
     "execution_count": 3,
     "metadata": {},
     "output_type": "execute_result"
    }
   ],
   "source": [
    "type(flowers_list)"
   ]
  },
  {
   "cell_type": "code",
   "execution_count": 4,
   "id": "a2725250-b6ed-45bf-9bf3-6c54d087b433",
   "metadata": {},
   "outputs": [
    {
     "data": {
      "text/plain": [
       "str"
      ]
     },
     "execution_count": 4,
     "metadata": {},
     "output_type": "execute_result"
    }
   ],
   "source": [
    "type(flowers_string)"
   ]
  },
  {
   "cell_type": "code",
   "execution_count": null,
   "id": "782979bf-3972-4000-84a2-96366b911d9f",
   "metadata": {},
   "outputs": [],
   "source": []
  },
  {
   "cell_type": "code",
   "execution_count": null,
   "id": "283fe390-0c4b-4e9c-8b6e-2e2f87eead5d",
   "metadata": {},
   "outputs": [],
   "source": []
  },
  {
   "cell_type": "markdown",
   "id": "7b484402-6606-4769-9e98-df44787d23a9",
   "metadata": {},
   "source": [
    ">\n",
    ">\n",
    "## **II. Lists:**\n",
    "\n",
    "- Create a python list by using **square brackets** ( <font color=\"blue\"> **[ ]** </font> ) and separate each <font color=\"magenta\"> **item** </font> of the list by a <font color=\"blue\"> **comma** </font> \n",
    ">\n",
    ">\n",
    "\n",
    "- Strings:\n",
    "> '<font color=\"darkcyan\"> **variable_containing_list** </font> <font color=\"GoldenRod\"> = </font> <font color=\"blue\"> **[** </font> <font color=\"magenta\"> **\"item 1\"** </font> <font color=\"blue\"> **,** </font> <font color=\"magenta\"> **\"item 2\"** </font> <font color=\"blue\"> **,** </font> <font color=\"magenta\"> **\"item 3\"** </font> <font color=\"blue\"> **]** </font>'\n",
    ">\n",
    ">\n",
    "- Integers:\n",
    ">\n",
    "> '<font color=\"darkcyan\"> **variable_containing_list** </font> <font color=\"GoldenRod\"> = </font> <font color=\"blue\"> **[** </font> <font color=\"magenta\"> **integer 1** </font> <font color=\"blue\"> **,** </font> <font color=\"magenta\"> **integer 2** </font> <font color=\"blue\"> **,** </font> <font color=\"magenta\"> **integer 3** </font> <font color=\"blue\"> **]** </font>'\n",
    ">\n",
    ">\n",
    "- Floats:\n",
    "> '<font color=\"darkcyan\"> **variable_containing_list** </font> <font color=\"GoldenRod\"> = </font> <font color=\"blue\"> **[** </font> <font color=\"magenta\"> **float 1** </font> <font color=\"blue\"> **,** </font> <font color=\"magenta\"> **float 2** </font> <font color=\"blue\"> **,** </font> <font color=\"magenta\"> **float 3** </font> <font color=\"blue\"> **]** </font>'\n",
    ">\n",
    ">\n",
    "- Booleans:\n",
    "> '<font color=\"darkcyan\"> **variable_containing_list** </font> <font color=\"GoldenRod\"> = </font> <font color=\"blue\"> **[** </font> <font color=\"forestgreen\"> **True** </font> <font color=\"blue\"> **,** </font> <font color=\"red\"> **False** </font> <font color=\"blue\"> **,** </font> <font color=\"forestgreen\"> **True** </font> <font color=\"blue\"> **]** </font>'\n",
    ">\n",
    ">\n",
    "- A List can contain ANY DATA TYPE not just strings. Same rules apply for all data types for a list. It can contain the following:\n",
    "    - Strings\n",
    "    - Integers\n",
    "    - Floats\n",
    "    - Booleans"
   ]
  },
  {
   "cell_type": "code",
   "execution_count": null,
   "id": "c1577686-8eb7-487f-8777-e5a16bb797b9",
   "metadata": {},
   "outputs": [],
   "source": []
  },
  {
   "cell_type": "markdown",
   "id": "56d65716-6220-468d-b95e-e6fe4bcbb961",
   "metadata": {},
   "source": [
    ">\n",
    ">\n",
    "### II. **A. <u>List Operations:</u>**\n",
    "\n",
    "- Although this does not look much different in output to a **String** in reality this subtle difference comes with a lot of function.\n",
    "- 'There are a lot of tasks that you can more easily do with a list.'\n",
    "- A list of the kinds of actions that can be performed on lists are in the below table:\n",
    "    - <font color=\"royalblue\"> **method** </font> = a type of <font color=\"blue\"> **function** </font> that is associated with an object (in this case a list object). When you use it you are calling a <font color=\"royalblue\"> **method** </font> of the list object to perform a specific operation\n",
    "    - So the <font color=\"royalblue\"> **method** </font> is listed in the table below and the **Action** the <font color=\"royalblue\"> **method** </font> **performs** is referred to as an **\"operation\"** on the list\n",
    ">\n",
    ">\n",
    "\n",
    "| Operation Name | Code | Description of Operation | Use case |\n",
    "| -------------- | ------ | ------------------------ | -------- |\n",
    "| **Length** | '<font color=\"blue\"> **len(** </font> <font color=\"darkcyan\"> **NameOfList** </font> <font color=\"blue\"> **)** </font>' | Check the number of items contained in a list | String you can't get a number of how much is contained in it besides length of characters. |\n",
    "| | | | With lists you can get the actual number of individual unique items within it. |\n",
    "| | | | So you can get that the flower variable contains X flower names |\n",
    "| | | | |\n",
    "| | | | |\n",
    "| **Indexing** | '<font color=\"blue\"> **print(** </font> <font color=\"DarkCyan\"> **NameOfList** </font> <font color=\"dodgerblue\"> **[** </font> <font color=\"Magenta\"> **PythonTermForPosition** </font> <font color=\"dodgerblue\"> **]** </font> <font color=\"blue\"> **)** </font>' | Get an item at a specific position (first, second, third, etc) within the list | Can pull out only the 3rd item in the list to see what is the 3rd entry | |\n",
    "| | | | |\n",
    "| | | | |\n",
    "| **Slicing** | | Pull out a group of entries from the start or end of the list | |\n",
    "| | '<font color=\"blue\"> **print(** </font> <font color=\"darkcyan\"> **NameOfList** </font> <font color=\"dodgerblue\"> **[** </font> <font color=\"goldenrod\"> **:** </font> <font color=\"magenta\"> **X** </font> <font color=\"dodgerblue\"> **]** </font> <font color=\"blue\"> **)** </font>' | Pulling out the <font color=\"goldenrod\"> **First** </font> <font color=\"magenta\"> **X number of entries** </font> | |\n",
    "| | | | |\n",
    "| | '<font color=\"blue\"> **print(** </font> <font color=\"darkcyan\"> **NameOfList** </font> <font color=\"dodgerblue\"> **[** </font> <font color=\"goldenrod\"> **-** </font> <font color=\"magenta\"> **Y** </font> <font color=\"goldenrod\"> **:** </font> <font color=\"dodgerblue\"> **]** </font> <font color=\"blue\"> **)** </font>' | Pulling out the <font color=\"goldenrod\"> **Last** </font> <font color=\"magenta\"> **Y number of entries** </font> | |\n",
    "| | | | |\n",
    "| | | | |\n",
    "| **Item Removal** or **Element Removal** | '<font color=\"darkcyan\"> **NameOfList** </font> <font color=\"royalblue\"> **.remove(** </font> <font color=\"magenta\"> **\"item to remove\"** </font> <font color=\"royalblue\"> **)** </font>' | Remove a named item from a list | |\n",
    "| | | | |\n",
    "| | | | |\n",
    "| **Appending** |  '<font color=\"darkcyan\"> **NameOfList** </font> <font color=\"royalblue\"> **.append(** </font> <font color=\"magenta\"> **\"item to add\"** </font> <font color=\"royalblue\"> **)** </font>' | Add a named item to a list | |\n",
    "| | | | |\n",
    "| | | | |"
   ]
  },
  {
   "cell_type": "markdown",
   "id": "082fc62a-f1e2-4d19-8f83-681db00ffefc",
   "metadata": {},
   "source": [
    ">\n",
    ">\n",
    "#### **Strings**\n",
    "- Create a python list by using **square brackets** ( <font color=\"blue\"> **[ ]** </font> ) and separate each <font color=\"magenta\"> **item** </font> of the list by a <font color=\"blue\"> **comma** </font> and each <font color=\"magenta\"> **item** </font> has <font color=\"magenta\"> **\" \"** </font> **quotation marks**.\n",
    ">\n",
    ">\n",
    "- Every <font color=\"magenta\"> **item** </font> within a Python **list** is in itself it's **own string**.\n",
    "    - So each <font color=\"magenta\"> **item** </font> is itself enclosed in <font color=\"magenta\"> **quotation marks** </font>\n",
    ">\n",
    ">\n",
    "> <font color=\"darkcyan\"> **variable_containing_list** </font> <font color=\"GoldenRod\"> = </font> <font color=\"blue\"> **[** </font> <font color=\"magenta\"> **\"item 1\"** </font> <font color=\"blue\"> **,** </font> <font color=\"magenta\"> **\"item 2\"** </font> <font color=\"blue\"> **,** </font> <font color=\"magenta\"> **\"item 3\"** </font> <font color=\"blue\"> **]** </font>\n",
    ">"
   ]
  },
  {
   "cell_type": "code",
   "execution_count": 5,
   "id": "eaa3d24b-735f-462a-a8dc-2fb86db4d778",
   "metadata": {},
   "outputs": [
    {
     "name": "stdout",
     "output_type": "stream",
     "text": [
      "String List: ['pink primrose', 'hard-leaved pocket orchid', 'canterbury bells', 'sweet pea', 'english marigold', 'tiger lily', 'moon orchid', 'bird of paradise', 'monkshood', 'globe thistle']\n"
     ]
    }
   ],
   "source": [
    "# With A String\n",
    "print( 'String List:', flowers_list)"
   ]
  },
  {
   "cell_type": "markdown",
   "id": "0601b963-ba06-4fa2-8c34-f0f81c701d76",
   "metadata": {},
   "source": [
    ">\n",
    ">\n",
    "#### **Integers**\n",
    "- You don't put the <font color=\"magenta\"> **\" \"** </font> around the individual <font color=\"magenta\"> **integers** </font> in a list if using **integers**\n",
    ">\n",
    ">\n",
    "- Create list with hardcover sales in the first week of April 2000 in a retail store labeled '<font color=\"darkcyan\"> **hardcover_sales** </font>'\n",
    ">\n",
    ">\n",
    "> '<font color=\"darkcyan\"> **hardcover_sales** </font> <font color=\"goldenrod\"> **=** </font> <font color=\"blue\"> **[** </font> <font color=\"magenta\"> **139** </font> <font color=\"blue\"> **,** </font> <font color=\"magenta\"> **128** </font> <font color=\"blue\"> **,** </font> <font color=\"magenta\"> **172** </font> <font color=\"blue\"> **,** </font> <font color=\"magenta\"> **139** </font> <font color=\"blue\"> **,** </font> <font color=\"magenta\"> **191** </font> <font color=\"blue\"> **,** </font> <font color=\"magenta\"> **168** </font> <font color=\"blue\"> **,** </font> <font color=\"magenta\"> **170** </font> <font color=\"blue\"> **]** </font>'\n",
    ">\n",
    ">"
   ]
  },
  {
   "cell_type": "code",
   "execution_count": 6,
   "id": "3c862c8c-d39f-4fce-9435-bf38b000de31",
   "metadata": {},
   "outputs": [],
   "source": [
    "\n",
    "# With integers assign list of integers and name it 'hardcover_sales'\n",
    "hardcover_sales = [ 139 , 128 , 172 , 139 , 191 , 168 , 170 ]\n"
   ]
  },
  {
   "cell_type": "markdown",
   "id": "d467632f-780b-41b7-b424-85771a8df668",
   "metadata": {},
   "source": [
    ">\n",
    ">\n",
    "#### **Floats**\n",
    "- You don't put the <font color=\"magenta\"> **\" \"** </font> around the individual <font color=\"magenta\"> **floats** </font> in a list if using **floats**\n",
    ">\n",
    ">\n",
    "- Create list of floats 'random'\n",
    ">\n",
    ">\n",
    "> '<font color=\"darkcyan\"> **random** </font> <font color=\"goldenrod\"> **=** </font> <font color=\"blue\"> **[** </font> <font color=\"magenta\"> **13.9** </font> <font color=\"blue\"> **,** </font> <font color=\"magenta\"> **12.8** </font> <font color=\"blue\"> **,** </font> <font color=\"magenta\"> **17.2** </font> <font color=\"blue\"> **,** </font> <font color=\"magenta\"> **13.9** </font> <font color=\"blue\"> **,** </font> <font color=\"magenta\"> **19.1** </font> <font color=\"blue\"> **,** </font> <font color=\"magenta\"> **16.8** </font> <font color=\"blue\"> **,** </font> <font color=\"magenta\"> **17.0** </font> <font color=\"blue\"> **]** </font>'\n",
    ">\n",
    ">"
   ]
  },
  {
   "cell_type": "code",
   "execution_count": 7,
   "id": "9d4d1f14-3191-4621-91b5-3540f64f3fdb",
   "metadata": {},
   "outputs": [],
   "source": [
    "\n",
    "# Create the list with the random floats\n",
    "random = [ 13.9 , 12.8 , 17.2 , 13.9 , 19.1 , 16.8 , 17.0 ]\n"
   ]
  },
  {
   "cell_type": "markdown",
   "id": "540fdaf7-3145-4f5f-98b3-a8a8590555ea",
   "metadata": {},
   "source": [
    ">\n",
    ">\n",
    "#### **Booleans**\n",
    "- You don't put the <font color=\"magenta\"> **\" \"** </font> around the individual <font color=\"magenta\"> **Booleans** </font> in a list if using **Booleans**\n",
    ">\n",
    ">\n",
    "- Create list of floats 'randomfacts'\n",
    ">\n",
    ">\n",
    "> '<font color=\"darkcyan\"> **randomfacts** </font> <font color=\"goldenrod\"> **=** </font> <font color=\"blue\"> **[** </font> <font color=\"forestgreen\"> **True** </font> <font color=\"blue\"> **,** </font> <font color=\"red\"> **False** </font> <font color=\"blue\"> **,** </font> <font color=\"red\"> **False** </font> <font color=\"blue\"> **,** </font> <font color=\"forestgreen\"> **True** </font> <font color=\"blue\"> **,** </font> <font color=\"red\"> **False** </font> <font color=\"blue\"> **,** </font> <font color=\"ForestGreen\"> **True** </font> <font color=\"blue\"> **,** </font> <font color=\"ForestGreen\"> **True** </font> <font color=\"blue\"> **]** </font>'\n",
    ">\n",
    ">"
   ]
  },
  {
   "cell_type": "markdown",
   "id": "ad874ae3-2eb1-4236-aa1d-1d41491abb0f",
   "metadata": {},
   "source": [
    "_______________________\n",
    "#### II. A. **i. <u> Length: </u>**\n",
    ">\n",
    ">\n",
    "> '<font color=\"blue\"> **len()** </font>'\n",
    ">\n",
    ">\n",
    "\n",
    "= Count the number of **entries** in any **list** with the '<font color=\"blue\"> **len()** </font>' function.\n",
    "\n",
    "- Input the **name of the list** into the <font color=\"blue\"> **( )** </font> of the '<font color=\"blue\"> **len()** </font>' function\n",
    ">\n",
    ">\n",
    "> <font color=\"blue\"> **len(** </font> <font color=\"darkcyan\"> **NameOfList** </font> <font color=\"blue\"> **)** </font>\n",
    ">\n",
    ">\n",
    "OR\n",
    ">\n",
    ">\n",
    "> <font color=\"blue\"> **print(** </font> <font color=\"dodgerblue\"> **len(** </font> <font color=\"darkcyan\"> **NameOfList** </font> <font color=\"dodgerblue\"> **)** </font> <font color=\"blue\"> **)** </font>"
   ]
  },
  {
   "cell_type": "markdown",
   "id": "94c41750-e8aa-4296-bc2a-1f666455551a",
   "metadata": {},
   "source": [
    ">\n",
    ">\n",
    "##### II. A. i. **1. <u> Example 1: </u>**\n",
    "- Reprint the <font color=\"darkcyan\"> **flowers_list** </font>\n",
    "- Then call its length to determine how many flower names are contained in the list\n",
    "- Perform this in the code cell below\n",
    ">\n",
    ">"
   ]
  },
  {
   "cell_type": "code",
   "execution_count": 8,
   "id": "b2961ac8-4eaa-4aef-a8fc-47c28d264f34",
   "metadata": {},
   "outputs": [
    {
     "name": "stdout",
     "output_type": "stream",
     "text": [
      "['pink primrose', 'hard-leaved pocket orchid', 'canterbury bells', 'sweet pea', 'english marigold', 'tiger lily', 'moon orchid', 'bird of paradise', 'monkshood', 'globe thistle']\n",
      "\n"
     ]
    },
    {
     "data": {
      "text/plain": [
       "10"
      ]
     },
     "execution_count": 8,
     "metadata": {},
     "output_type": "execute_result"
    }
   ],
   "source": [
    "\n",
    "# Print the original contents of the list in the 'flowers_list' variable\n",
    "print( flowers_list )\n",
    "\n",
    "# Blank for clarity\n",
    "print()\n",
    "\n",
    "# Call the length of the list: How many names are contained in the list?\n",
    "len( flowers_list )\n"
   ]
  },
  {
   "cell_type": "code",
   "execution_count": 9,
   "id": "4999f1c7-3c05-419e-91c9-0335dd66dfb3",
   "metadata": {},
   "outputs": [
    {
     "name": "stdout",
     "output_type": "stream",
     "text": [
      "10\n",
      "Total number of flower names contained in the list = 10\n"
     ]
    }
   ],
   "source": [
    "\n",
    "# Do it as a print function \n",
    "print( len( flowers_list ) )\n",
    "print( 'Total number of flower names contained in the list =', len( flowers_list ) )"
   ]
  },
  {
   "cell_type": "code",
   "execution_count": null,
   "id": "5b8b1aca-02b3-4eed-a0b0-23bc4c5a4637",
   "metadata": {},
   "outputs": [],
   "source": []
  },
  {
   "cell_type": "markdown",
   "id": "975d1f50-7e67-4a1a-a394-7b891549fbb0",
   "metadata": {},
   "source": [
    ">\n",
    ">\n",
    "##### II. A. i. **2. <u> Example 2: </u>**\n",
    "- Reprint the <font color=\"darkcyan\"> **hardcover_sales** </font>\n",
    "- Then call its length to determine how many sales are contained in the list\n",
    "- Perform this in the code cell below\n",
    ">\n",
    ">"
   ]
  },
  {
   "cell_type": "code",
   "execution_count": 10,
   "id": "8b5c1f3c-89cc-4ad5-a9dd-32cc4d00f8c6",
   "metadata": {},
   "outputs": [
    {
     "name": "stdout",
     "output_type": "stream",
     "text": [
      "Original Hardcover Sales List Contains: [139, 128, 172, 139, 191, 168, 170]\n",
      "\n",
      "Length of Hardcover Sales List = 7\n"
     ]
    }
   ],
   "source": [
    "\n",
    "# Reprint list and label\n",
    "print( 'Original Hardcover Sales List Contains:', hardcover_sales )\n",
    "\n",
    "# Blank\n",
    "print()\n",
    "\n",
    "# What is the length?\n",
    "print( 'Length of Hardcover Sales List =', len( hardcover_sales ) )\n",
    "\n"
   ]
  },
  {
   "cell_type": "code",
   "execution_count": null,
   "id": "d3735786-49ee-4eef-acf9-d620e1d5169c",
   "metadata": {},
   "outputs": [],
   "source": []
  },
  {
   "cell_type": "code",
   "execution_count": null,
   "id": "71da61f6-23da-4d99-b762-563a3be27fd6",
   "metadata": {},
   "outputs": [],
   "source": []
  },
  {
   "cell_type": "markdown",
   "id": "834801ff-f70b-4898-ad35-002265518642",
   "metadata": {},
   "source": [
    "--------------------------------\n",
    "#### II. A. **ii. <u> Indexing: </u>**\n",
    ">\n",
    ">\n",
    "> '<font color=\"blue\"> **print(** </font> <font color=\"DarkCyan\"> **NameOfList** </font> <font color=\"dodgerblue\"> **[** </font> <font color=\"magenta\"> **Python Term for position of entry you want to pull from the list** </font> **<font color=\"dodgerblue\"> ] </font>**  <font color=\"blue\"> **)** </font>\n",
    ">\n",
    ">\n",
    ">\n",
    "\n",
    "= When you refer to an item in the list according to its position in the list (1st, 2nd, 3rd etc)\n",
    ">\n",
    ">\n",
    "- Python uses zero-based indexing, aka\n",
    "\n",
    "| English term for Position | Action Desired | <font color=\"magenta\"> Python Term for Position </font> |\n",
    "| ------------------------- | -------------- | ------------------------ |\n",
    "| First Entry | Want to pull the **first** entry in the list | <font color=\"magenta\"> **0** </font> |\n",
    "| | | |\n",
    "| | | |\n",
    "| Second Entry | Want to pull the **second** entry in the list | <font color=\"magenta\"> **1** </font> |\n",
    "| | | |\n",
    "| | | |\n",
    "| Final Entry | Want to pull the **final** entry in the list | <font color=\"magenta\"> Use 1 Less than the length of the list </font> |\n",
    "| | | |\n",
    "| | | |\n"
   ]
  },
  {
   "cell_type": "markdown",
   "id": "879e0858-f091-419a-af5f-b7d53180c113",
   "metadata": {},
   "source": [
    ">\n",
    ">\n",
    "##### II. A. ii. **1. <u> Example 1: </u>**\n",
    "- Reprint the <font color=\"darkcyan\"> **flowers_list** </font>\n",
    "- Then call its length to determine how many flower names are contained in the list\n",
    "- Then index the first, second and final entry\n",
    ">\n",
    ">"
   ]
  },
  {
   "cell_type": "markdown",
   "id": "cda5528d-62dc-46f2-88bb-cf6cd065cc8b",
   "metadata": {},
   "source": [
    ">\n",
    ">\n",
    "###### II. A. ii. 1. **a. <u> Reprint the list and call its length with a label: </u>**\n"
   ]
  },
  {
   "cell_type": "code",
   "execution_count": 11,
   "id": "4b72c687-5fbc-4bd3-89c2-e07d67e778f0",
   "metadata": {},
   "outputs": [
    {
     "name": "stdout",
     "output_type": "stream",
     "text": [
      "Flowers List Contains: ['pink primrose', 'hard-leaved pocket orchid', 'canterbury bells', 'sweet pea', 'english marigold', 'tiger lily', 'moon orchid', 'bird of paradise', 'monkshood', 'globe thistle']\n",
      "\n",
      "Length = 10 items\n"
     ]
    }
   ],
   "source": [
    "\n",
    "# Reprint function\n",
    "print( 'Flowers List Contains:', flowers_list )\n",
    "\n",
    "print()\n",
    "\n",
    "# Label and print length of list\n",
    "print( 'Length =', len(flowers_list), 'items')\n"
   ]
  },
  {
   "cell_type": "markdown",
   "id": "98179e66-0550-4d08-b29e-9fdef799acde",
   "metadata": {},
   "source": [
    ">\n",
    ">\n",
    "###### II. A. ii. 1. **b. <u> Call and label 1st, 2nd and Final entry: </u>**\n",
    ">\n",
    ">\n",
    "> '<font color=\"blue\"> **print(** </font> <font color=\"magenta\"> **'First Entry ='** </font> <font color=\"blue\"> **,** </font> <font color=\"darkcyan\"> **flowers_list** </font> <font color=\"dodgerblue\"> **[** </font> <font color=\"magenta\"> **0** </font> <font color=\"dodgerblue\"> **]** </font> <font color=\"blue\"> **)** </font>'\n",
    ">\n",
    ">\n",
    "> '<font color=\"blue\"> **print(** </font> <font color=\"magenta\"> **'Second Entry ='** </font> <font color=\"blue\"> **,** </font> <font color=\"darkcyan\"> **flowers_list** </font> <font color=\"dodgerblue\"> **[** </font> <font color=\"magenta\"> **1** </font> <font color=\"dodgerblue\"> **]** </font> <font color=\"blue\"> **)** </font>'\n",
    ">\n",
    ">\n",
    "> '<font color=\"blue\"> **print(** </font> <font color=\"magenta\"> **'Final Entry ='** </font> <font color=\"blue\"> **,** </font> <font color=\"darkcyan\"> **flowers_list** </font> <font color=\"dodgerblue\"> **[** </font> <font color=\"magenta\"> **9** </font> <font color=\"dodgerblue\"> **]** </font> <font color=\"blue\"> **)** </font>'\n",
    ">\n",
    ">"
   ]
  },
  {
   "cell_type": "code",
   "execution_count": 12,
   "id": "4d7ea1e1-2b4f-40c5-95f3-89278591fb9c",
   "metadata": {},
   "outputs": [
    {
     "name": "stdout",
     "output_type": "stream",
     "text": [
      "First Entry = pink primrose\n"
     ]
    }
   ],
   "source": [
    "\n",
    "# Call 1st entry with label\n",
    "print( 'First Entry =', flowers_list[0] )\n",
    "      "
   ]
  },
  {
   "cell_type": "code",
   "execution_count": 13,
   "id": "dd7db8d3-b65c-4824-9df5-ad4eb367d037",
   "metadata": {},
   "outputs": [
    {
     "name": "stdout",
     "output_type": "stream",
     "text": [
      "Second Entry = hard-leaved pocket orchid\n"
     ]
    }
   ],
   "source": [
    "\n",
    "# Call 2nd entry with label\n",
    "print( 'Second Entry =', flowers_list[1] )\n"
   ]
  },
  {
   "cell_type": "code",
   "execution_count": 14,
   "id": "aead74b4-5e45-4c55-957c-7610a722dbe2",
   "metadata": {},
   "outputs": [
    {
     "name": "stdout",
     "output_type": "stream",
     "text": [
      "Final Entry = globe thistle\n"
     ]
    }
   ],
   "source": [
    "\n",
    "# Call final entry with label. Told length is 10\n",
    "print( 'Final Entry =', flowers_list[9] )\n"
   ]
  },
  {
   "cell_type": "markdown",
   "id": "61cb34b0-6360-4513-b44e-8a148bd3ee19",
   "metadata": {},
   "source": [
    ">\n",
    ">\n",
    "###### II. A. ii. 1. **c. <u> all together: </u>**\n",
    ">\n",
    ">"
   ]
  },
  {
   "cell_type": "code",
   "execution_count": 15,
   "id": "f19c792e-79be-4ad1-97a4-ac0ff763352a",
   "metadata": {},
   "outputs": [
    {
     "name": "stdout",
     "output_type": "stream",
     "text": [
      "Flowers List Contains: ['pink primrose', 'hard-leaved pocket orchid', 'canterbury bells', 'sweet pea', 'english marigold', 'tiger lily', 'moon orchid', 'bird of paradise', 'monkshood', 'globe thistle']\n",
      "\n",
      "Length = 10 items\n",
      "\n",
      "First Entry: pink primrose\n",
      "\n",
      "Second Entry: hard-leaved pocket orchid\n",
      "\n",
      "Final Entry: globe thistle\n",
      "\n"
     ]
    }
   ],
   "source": [
    "\n",
    "print( 'Flowers List Contains:', flowers_list )\n",
    "print()\n",
    "print( 'Length =', len( flowers_list ), 'items' )\n",
    "print()\n",
    "print( 'First Entry:', flowers_list[0] )\n",
    "print()\n",
    "print( 'Second Entry:', flowers_list[1] )\n",
    "print()\n",
    "print( 'Final Entry:', flowers_list[9] )\n",
    "print()\n"
   ]
  },
  {
   "cell_type": "code",
   "execution_count": null,
   "id": "0dc971eb-5e7b-4f5a-91a6-908a3eb88382",
   "metadata": {},
   "outputs": [],
   "source": []
  },
  {
   "cell_type": "markdown",
   "id": "eb8180c1-8d29-4e94-a751-77fa7764604e",
   "metadata": {},
   "source": [
    ">\n",
    ">\n",
    "##### II. A. ii. **2. <u> Example 2: </u>**\n",
    "- Reprint the <font color=\"darkcyan\"> **hardcover_sales** </font>\n",
    "- Call the Length and label\n",
    "- Then index the first, second and final entry\n",
    ">\n",
    ">"
   ]
  },
  {
   "cell_type": "code",
   "execution_count": 16,
   "id": "ed627a74-a1b4-4ffd-8189-a95b624a0990",
   "metadata": {},
   "outputs": [
    {
     "name": "stdout",
     "output_type": "stream",
     "text": [
      "Original Hardcover Sales List contains: [139, 128, 172, 139, 191, 168, 170]\n",
      "\n",
      "Length = 7\n",
      "\n",
      "Entry at index 1: 139\n",
      "\n",
      "Entry at index 2: 172\n",
      "\n",
      "Last Entry: 170\n"
     ]
    }
   ],
   "source": [
    "\n",
    "# Print original list\n",
    "print( 'Original Hardcover Sales List contains:', hardcover_sales )\n",
    "\n",
    "# Blank\n",
    "print()\n",
    "\n",
    "# Length\n",
    "print( 'Length =', len( hardcover_sales ) )\n",
    "\n",
    "# Blank\n",
    "print()\n",
    "\n",
    "# Index First entry\n",
    "print( 'Entry at index 1:', hardcover_sales[0] )\n",
    "\n",
    "# Blank\n",
    "print()\n",
    "\n",
    "# Index 2nd entry\n",
    "print( 'Entry at index 2:', hardcover_sales[2] )\n",
    "\n",
    "# Blank\n",
    "print()\n",
    "\n",
    "# Index last item of this 7 item list\n",
    "print( 'Last Entry:', hardcover_sales[6] )\n"
   ]
  },
  {
   "cell_type": "code",
   "execution_count": null,
   "id": "8e03b6c0-dccf-459a-955d-5b48c45940fc",
   "metadata": {},
   "outputs": [],
   "source": []
  },
  {
   "cell_type": "code",
   "execution_count": null,
   "id": "4c9e6625-8d53-447b-963c-b84fe0f6cf64",
   "metadata": {},
   "outputs": [],
   "source": []
  },
  {
   "cell_type": "markdown",
   "id": "39678435-6441-4a54-b90f-76ca3b5119c3",
   "metadata": {},
   "source": [
    "-------------------------------------------\n",
    "#### II. A. **iii. <u> Slicing: </u>**\n",
    "= Pulling a segment out of the list. Like pulling the first 3 entries or pulling the last 2 entries\n",
    ">\n",
    ">\n",
    "- **<u>First Entries:</u>**\n",
    "    - Contained inside **Square Brackets** <font color=\"blue\"> **[ ]** </font>\n",
    "    - Has a **colon** in front of Python Term '<font color=\"goldenrod\"> **:** </font>'\n",
    "    - Then the number of items you want to pull from the first entries then close the bracket\n",
    "      \n",
    "> '<font color=\"blue\"> **print(** </font> <font color=\"DarkCyan\"> **NameOfList** </font> <font color=\"blue\"> **[** </font> <font color=\"GoldenRod\"> **:** </font> <font color=\"magenta\"> **Amount To Pull** </font> **<font color=\"blue\"> ] ) </font>**\n",
    ">\n",
    ">\n",
    "\n",
    ">\n",
    ">\n",
    "- **<u>Last Entries:</u>**\n",
    "    - Contained inside **Square Brackets** <font color=\"blue\"> **[ ]** </font>\n",
    "    - Has a **negative sign** in front of Python Term '<font color=\"goldenrod\"> **-** </font>'\n",
    "    - Then the number of items you want to pull from the last entries\n",
    "    - Then a **colon** '<font color=\"goldenrod\"> **:** </font>' before closing the square brackets\n",
    "      \n",
    "> '<font color=\"blue\"> **print(** </font> <font color=\"DarkCyan\"> **NameOfList** </font> <font color=\"blue\"> **[** </font> <font color=\"GoldenRod\"> **-** </font> <font color=\"magenta\"> **Amount To Pull** </font> <font color=\"GoldenRod\"> **:** </font> **<font color=\"blue\"> ] ) </font>**\n",
    ">\n",
    ">\n",
    "\n",
    ">\n",
    ">\n",
    "- Python uses zero-based indexing, aka\n",
    "\n",
    "| English term for Position | Action Desired | <font color=\"magenta\"> Python Term for Position </font> |\n",
    "| ------------------------- | -------------- | ------------------------ |\n",
    "| First X Entries | Want to pull the **first X** entries out of the list | <font color=\"Blue\"> [ </font> <font color=\"GoldenRod\">**:**</font> <font color=\"magenta\">**X**</font> <font color=\"blue\"> **]** </font> |\n",
    "| | Where **X** is the number of items you want to pull | |\n",
    "| | Eg: To pull the **FIRST 4** items out of the list you do | <font color=\"blue\"> [ </font> <font color=\"GoldenRod\">**:**</font> <font color=\"Magenta\">**4**</font> <font color=\"blue\"> ] </font> |\n",
    "| | | |\n",
    "| | | |\n",
    "| Last Y Entries | Want to pull the **last Y** entries out of the list | <font color=\"blue\"> [ </font> <font color=\"goldenrod\"> **-** </font> <font color=\"magenta\"> **Y** </font> <font color=\"blue\"> ] </font> <font color=\"goldenrod\"> **:** </font> |\n",
    "| | Where **Y** is the number of items you want to pull | |\n",
    "| | Eg: To pull the **LAST 5** items out of the list you do |  <font color=\"blue\"> [ </font> <font color=\"goldenrod\"> **-** </font> <font color=\"magenta\"> **5** </font> <font color=\"blue\"> ] </font> <font color=\"goldenrod\"> **:** </font> |\n",
    "| | | |\n",
    "| | | |\n",
    "\n"
   ]
  },
  {
   "cell_type": "markdown",
   "id": "8ac05071-44fd-4ca3-9dd7-2d92617532b2",
   "metadata": {},
   "source": [
    ">\n",
    ">\n",
    "##### II. A. iii. **1. <u> Example 1: </u>**\n",
    "- Reprint the <font color=\"darkcyan\"> **flowers_list** </font>\n",
    "- Slice out the first 3 entries from the list aka Display the first three items from the list\n",
    "- Slice out the last 2 entries from the list \n",
    ">\n",
    ">"
   ]
  },
  {
   "cell_type": "markdown",
   "id": "99ff9a61-4363-4a42-b03f-89ef0655a395",
   "metadata": {},
   "source": [
    ">\n",
    ">\n",
    "###### II. A. iii. 1. **a. <u> Reprint the list: </u>**\n",
    ">\n",
    ">"
   ]
  },
  {
   "cell_type": "code",
   "execution_count": 17,
   "id": "06f3237d-5dd4-4d78-a7a2-e36808ea594c",
   "metadata": {},
   "outputs": [
    {
     "name": "stdout",
     "output_type": "stream",
     "text": [
      "Flower List contains: ['pink primrose', 'hard-leaved pocket orchid', 'canterbury bells', 'sweet pea', 'english marigold', 'tiger lily', 'moon orchid', 'bird of paradise', 'monkshood', 'globe thistle']\n",
      "\n"
     ]
    }
   ],
   "source": [
    "\n",
    "# Reprint and label the list\n",
    "print( 'Flower List contains:', flowers_list )\n",
    "print()\n"
   ]
  },
  {
   "cell_type": "markdown",
   "id": "adca2215-307d-4aaf-b9d8-3a015854719c",
   "metadata": {},
   "source": [
    ">\n",
    ">\n",
    "###### II. A. iii. 1. **b. <u> Slice out the first 3 items from the list: </u>**\n",
    ">\n",
    ">\n",
    ">\n",
    "> '<font color=\"blue\"> **print(** </font> <font color=\"magenta\"> **'First three entries ='** </font> <font color=\"blue\"> **,** </font> <font color=\"darkcyan\"> **flowers_list** </font> <font color=\"dodgerblue\"> **[** </font> <font color=\"goldenrod\"> **:** </font> <font color=\"magenta\"> **3** </font> <font color=\"dodgerblue\"> **]** </font> <font color=\"blue\"> **)** </font>'\n",
    ">\n",
    ">\n"
   ]
  },
  {
   "cell_type": "code",
   "execution_count": 18,
   "id": "a9aff163-779d-44bc-ae04-65c0c91a7996",
   "metadata": {},
   "outputs": [
    {
     "name": "stdout",
     "output_type": "stream",
     "text": [
      "First three entries: ['pink primrose', 'hard-leaved pocket orchid', 'canterbury bells']\n"
     ]
    }
   ],
   "source": [
    "\n",
    "# Slice out the first three entries\n",
    "print( 'First three entries:', flowers_list[:3] )\n"
   ]
  },
  {
   "cell_type": "markdown",
   "id": "e7b4779d-8f5c-446f-90c3-e8a32d1b461e",
   "metadata": {},
   "source": [
    ">\n",
    ">\n",
    "###### II. A. iii. 1. **c. <u> Slice out the last 2 items from the list: </u>**\n",
    ">\n",
    ">\n",
    ">\n",
    ">\n",
    "> '<font color=\"blue\"> **print(** </font> <font color=\"magenta\"> **'Last two entries ='** </font> <font color=\"blue\"> **,** </font> <font color=\"darkcyan\"> **flowers_list** </font> <font color=\"dodgerblue\"> **[** </font> <font color=\"goldenrod\"> **-** </font> <font color=\"magenta\"> **2** </font> <font color=\"goldenrod\"> **:** </font> <font color=\"dodgerblue\"> **]** </font> <font color=\"blue\"> **)** </font>'\n",
    ">\n",
    ">\n"
   ]
  },
  {
   "cell_type": "code",
   "execution_count": 19,
   "id": "392d108b-0412-40d9-ae6c-d5b7df24b957",
   "metadata": {},
   "outputs": [
    {
     "name": "stdout",
     "output_type": "stream",
     "text": [
      "Last two entries: ['monkshood', 'globe thistle']\n"
     ]
    }
   ],
   "source": [
    "\n",
    "# Slice out the last 2 entries\n",
    "print( 'Last two entries:', flowers_list[-2:] )\n"
   ]
  },
  {
   "cell_type": "markdown",
   "id": "738c28da-aa06-4318-a9f3-974c03a99e21",
   "metadata": {},
   "source": [
    ">\n",
    ">\n",
    "###### II. A. iii. 1. **d. <u> All together: </u>**\n",
    ">\n",
    ">"
   ]
  },
  {
   "cell_type": "code",
   "execution_count": 20,
   "id": "dab8486d-6e09-4ed2-aff2-f36d755b2041",
   "metadata": {},
   "outputs": [
    {
     "name": "stdout",
     "output_type": "stream",
     "text": [
      "Flower List contains: ['pink primrose', 'hard-leaved pocket orchid', 'canterbury bells', 'sweet pea', 'english marigold', 'tiger lily', 'moon orchid', 'bird of paradise', 'monkshood', 'globe thistle']\n",
      "\n",
      "First three entries: ['pink primrose', 'hard-leaved pocket orchid', 'canterbury bells']\n",
      "\n",
      "Final two entries: ['monkshood', 'globe thistle']\n",
      "\n"
     ]
    }
   ],
   "source": [
    "\n",
    "# Print the list and label with blank after it\n",
    "print( 'Flower List contains:', flowers_list )\n",
    "print()\n",
    "\n",
    "# Slice out the first 3 entries and label with blank after it\n",
    "print( 'First three entries:', flowers_list[:3] )\n",
    "print()\n",
    "\n",
    "# Slice out the last 2 entries and label with blank after it\n",
    "print( 'Final two entries:', flowers_list[-2:] )\n",
    "print()\n"
   ]
  },
  {
   "cell_type": "code",
   "execution_count": null,
   "id": "7cba1906-1748-460e-afda-c18c05357188",
   "metadata": {},
   "outputs": [],
   "source": []
  },
  {
   "cell_type": "markdown",
   "id": "6b28268f-08f8-41cc-831d-45ae1e5818c1",
   "metadata": {},
   "source": [
    "#### II. A. **iv. <u> Removing Items: </u>**\n",
    "= Can completely remove an item from a list with the below <font color=\"royalblue\"> **method** </font>\n",
    ">\n",
    ">\n",
    "\n",
    "> '<font color=\"royalblue\"> **.remove()** </font>'\n",
    ">\n",
    "> \n",
    "- You add the above to the end of the <font color=\"darkcyan\"> **name of the list** </font> then in the <font color=\"royalblue\"> **( )** </font> you name the <font color=\"magenta\"> **item** </font> you want to <font color=\"royalblue\"> **remove** </font>\n",
    ">\n",
    ">\n",
    "    - If its a string that item must be within <font color=\"magenta\"> **\" \"** </font> **quotations**\n",
    ">\n",
    ">\n",
    "- Then you <font color=\"blue\"> **print** </font> the <font color=\"darkcyan\"> the list </font> which prints out a new list without that <font color=\"magenta\"> item </font> that you just <font color=\"royalblue\"> **removed** </font>\n",
    ">\n",
    ">\n",
    "    - You must do the '<font color=\"blue\"> **print()** </font>' function on a separate line AFTER you have done the '<font color=\"royalblue\"> **.remove()** </font>' method\n",
    "    - If you try to combine it all in one line inside the \"<font color=\"blue\"> **( )** </font>\" of the '<font color=\"blue\"> **print()** </font>' function it will return **None**\n",
    "        - B/c the '<font color=\"blue\"> **print()** </font>' function returns whatever the function returns and the return for the '<font color=\"royalblue\"> **.remove()** </font>' method is **None** that is what is printed!!\n",
    ">\n",
    ">\n",
    "- Of note it will only <font color=\"royalblue\"> **remove** </font> the **first occurrence of the** specified <font color=\"magenta\"> **value** </font> that is the value you want to remove while leaving every other occurrence of that <font color=\"magenta\"> **value** </font> in place\n",
    "________________________\n",
    "##### **String:**\n",
    ">\n",
    ">     \n",
    "> '<font color=\"darkcyan\"> **NameOfList** </font> <font color=\"royalblue\"> **.remove(** </font> <font color=\"magenta\"> **\"Item to be removed\"** </font> <font color=\"royalblue\"> **)** </font>'\n",
    ">\n",
    "> \n",
    "> '<font color=\"blue\"> **print(** </font> <font color=\"darkcyan\"> **NameOfList** </font> <font color=\"blue\"> **)** </font>'\n",
    ">\n",
    "___________________________________________\n",
    "##### **Integer:**\n",
    ">\n",
    ">     \n",
    "> '<font color=\"darkcyan\"> **NameOfList** </font> <font color=\"royalblue\"> **.remove(** </font> <font color=\"magenta\"> **Integer You want to remove** </font> <font color=\"royalblue\"> **)** </font>'\n",
    ">\n",
    "> \n",
    "> '<font color=\"blue\"> **print(** </font> <font color=\"darkcyan\"> **NameOfList** </font> <font color=\"blue\"> **)** </font>'\n",
    ">\n",
    "________________________________________\n",
    "##### **Float:**\n",
    ">\n",
    ">     \n",
    "> '<font color=\"darkcyan\"> **NameOfList** </font> <font color=\"royalblue\"> **.remove(** </font> <font color=\"magenta\"> **Float you want to remove** </font> <font color=\"royalblue\"> **)** </font>'\n",
    ">\n",
    "> \n",
    "> '<font color=\"blue\"> **print(** </font> <font color=\"darkcyan\"> **NameOfList** </font> <font color=\"blue\"> **)** </font>'\n",
    ">\n",
    "________________________________________\n",
    "##### **Boolean:**\n",
    ">\n",
    ">     \n",
    "> '<font color=\"darkcyan\"> **NameOfList** </font> <font color=\"royalblue\"> **.remove(** </font> <font color=\"magenta\"> **Boolean you want to remove** </font> <font color=\"royalblue\"> **)** </font>'\n",
    ">\n",
    "> \n",
    "> '<font color=\"blue\"> **print(** </font> <font color=\"darkcyan\"> **NameOfList** </font> <font color=\"blue\"> **)** </font>'\n",
    ">\n",
    "_____________________________"
   ]
  },
  {
   "cell_type": "markdown",
   "id": "35dc477a-eb52-4cb4-bf1f-1db94a222712",
   "metadata": {},
   "source": [
    ">\n",
    ">\n",
    "##### II. A. iv. **1. <u> Example 1: </u>**\n",
    "- Reprint the <font color=\"darkcyan\"> **flowers_list** </font>\n",
    "- Remove <font color=\"magenta\"> **\"globe thistle\"** </font>\n",
    "- Then reprint the new <font color=\"darkcyan\"> **list** </font> with a label\n",
    ">\n",
    ">\n",
    "> '<font color=\"darkcyan\"> **flowers_list**</font><font color=\"royalblue\">**.remove(**</font> <font color=\"magenta\"> **\"globe thistle\"** </font> <font color=\"royalblue\"> **)** </font>'\n",
    ">\n",
    ">\n",
    "> '<font color=\"blue\"> **print(** <font color=\"magenta\"> **\"List withOUT Globe Thistle\"** </font> <font color=\"blue\"> **,** </font> <font color=\"darkcyan\"> **flowers_list** </font> <font color=\"blue\"> **)** </font>'\n",
    ">\n",
    ">"
   ]
  },
  {
   "cell_type": "code",
   "execution_count": 21,
   "id": "0c6c6d2a-7f2d-4bca-8da6-a6f36c37450d",
   "metadata": {},
   "outputs": [
    {
     "name": "stdout",
     "output_type": "stream",
     "text": [
      "Original List = ['pink primrose', 'hard-leaved pocket orchid', 'canterbury bells', 'sweet pea', 'english marigold', 'tiger lily', 'moon orchid', 'bird of paradise', 'monkshood', 'globe thistle']\n",
      "New List = ['pink primrose', 'hard-leaved pocket orchid', 'canterbury bells', 'sweet pea', 'english marigold', 'tiger lily', 'moon orchid', 'bird of paradise', 'monkshood']\n"
     ]
    }
   ],
   "source": [
    "\n",
    "# Reprint list and label\n",
    "print( 'Original List =', flowers_list)\n",
    "\n",
    "# Remove 'globe thistle'\n",
    "flowers_list.remove( \"globe thistle\" )\n",
    "\n",
    "# Print new list and label\n",
    "print( 'New List =', flowers_list )\n"
   ]
  },
  {
   "cell_type": "code",
   "execution_count": null,
   "id": "ab6461d7-8083-482e-8100-f38e1d3e38db",
   "metadata": {},
   "outputs": [],
   "source": []
  },
  {
   "cell_type": "markdown",
   "id": "d36e9711-8a2e-4b2e-9106-7dabe9b7a8d4",
   "metadata": {},
   "source": [
    ">\n",
    ">\n",
    "##### II. A. iv. **2. <u> Example 2: </u>**\n",
    "- Create a Boolean list with many <font color=\"ForestGreen\"> **True** </font> <font color=\"magenta\"> **values** </font> and many <font color=\"red\"> **False** </font> <font color=\"magenta\"> **values** </font> and <font color=\"royalblue\"> **remove** </font> <font color=\"ForestGreen\"> **True** </font> to prove that only the **first occurrence of** <font color=\"forestgreen\"> **True** </font> will be removed with the '<font color=\"royalblue\"> **.remove( )** </font>' method\n",
    ">\n",
    ">\n",
    "> '<font color=\"darkcyan\"> **randomfacts** </font> <font color=\"goldenrod\"> **=** </font> <font color=\"blue\"> **[** </font> <font color=\"ForestGreen\"> **True** </font> <font color=\"blue\"> **,** </font> <font color=\"Red\"> **False** </font> <font color=\"blue\"> **,** </font> <font color=\"forestgreen\"> **True** </font> <font color=\"blue\"> **,** </font> <font color=\"forestgreen\"> **True** </font> <font color=\"blue\"> **]** </font>'\n",
    ">\n",
    ">\n",
    "> '<font color=\"darkcyan\"> **randomfacts**</font><font color=\"royalblue\">**.remove(**</font> <font color=\"magenta\"> **True** </font> <font color=\"royalblue\"> **)** </font>'\n",
    ">\n",
    ">\n",
    "> '<font color=\"blue\"> **print(** <font color=\"magenta\"> **\"List withOUT 1st True\"** </font> <font color=\"blue\"> **,** </font> <font color=\"darkcyan\"> **randomfacts** </font> <font color=\"blue\"> **)** </font>'\n",
    ">\n",
    ">"
   ]
  },
  {
   "cell_type": "code",
   "execution_count": 22,
   "id": "b0115088-1d3c-4469-8547-8e1703cfd1fa",
   "metadata": {},
   "outputs": [
    {
     "name": "stdout",
     "output_type": "stream",
     "text": [
      "[True, False, True, True]\n",
      "\n",
      "Random Facts list is data type: <class 'list'>\n",
      "Random Facts contains 4 items\n",
      "\n",
      "List w/o 1st True Value: [False, True, True]\n",
      "New Length = 3\n",
      "\n"
     ]
    }
   ],
   "source": [
    "\n",
    "# Create the list\n",
    "randomfacts = [ True, False, True, True ]\n",
    "\n",
    "# Print, label, blank\n",
    "print( randomfacts )\n",
    "print()\n",
    "\n",
    "# Print type label\n",
    "print( 'Random Facts list is data type:', type(randomfacts) )\n",
    "\n",
    "# Print length, label and blank\n",
    "print( 'Random Facts contains', len(randomfacts), 'items')\n",
    "print()\n",
    "\n",
    "# Remove first true value\n",
    "randomfacts.remove(True)\n",
    "\n",
    "# Print new list, label\n",
    "print( 'List w/o 1st True Value:', randomfacts )\n",
    "\n",
    "# Print new length, label, blank\n",
    "print( 'New Length =', len(randomfacts) )\n",
    "print()"
   ]
  },
  {
   "cell_type": "code",
   "execution_count": null,
   "id": "55d0b31d-3982-4463-8c18-8f1593da5c77",
   "metadata": {},
   "outputs": [],
   "source": []
  },
  {
   "cell_type": "code",
   "execution_count": null,
   "id": "773b5a5c-f730-4159-8ce2-42140986bf80",
   "metadata": {},
   "outputs": [],
   "source": []
  },
  {
   "cell_type": "markdown",
   "id": "cc5240ae-5512-4dad-ace9-5b999c5c93b8",
   "metadata": {},
   "source": [
    "#### II. A. **v. <u> Adding Items: </u>**\n",
    "= Can Add an item to a list with the below <font color=\"royalblue\"> **method** </font>\n",
    ">\n",
    ">\n",
    "\n",
    "> '<font color=\"royalblue\"> **.append()** </font>'\n",
    ">\n",
    "> \n",
    "- You add the above to the end of the <font color=\"darkcyan\"> **name of the list** </font> then in the <font color=\"royalblue\"> **( )** </font> you name the <font color=\"magenta\"> **item** </font> you want to <font color=\"royalblue\"> **add to the list** </font> in <font color=\"royalblue\"> **( )** </font> **parenthesis**\n",
    ">\n",
    ">    \n",
    "    - If its a string that item must be within <font color=\"magenta\"> **\" \"** </font> **quotations**\n",
    ">\n",
    ">\n",
    "- Then you <font color=\"blue\"> **print** </font> the <font color=\"darkcyan\"> the list </font> which prints out a new list with that <font color=\"magenta\"> item </font> that you just <font color=\"royalblue\"> **added** </font>\n",
    ">\n",
    ">\n",
    "    - You must do the '<font color=\"blue\"> **print()** </font>' function on a separate line AFTER you have done the '<font color=\"royalblue\"> **.append()** </font>' method\n",
    "    - If you try to combine it all in one line inside the \"<font color=\"blue\"> **( )** </font>\" of the '<font color=\"blue\"> **print()** </font>' function it will return **None**\n",
    "        - B/c the '<font color=\"blue\"> **print()** </font>' function returns whatever the function returns and the return for the '<font color=\"royalblue\"> **.append()** </font>' method is **None** that is what is printed!!\n",
    ">\n",
    ">\n",
    ">\n",
    ">\n",
    ">\n",
    ">\n",
    "- Of note it will only <font color=\"royalblue\"> **add** </font> the specified <font color=\"magenta\"> **value** </font> to the **END of the LIST**\n",
    "_______________________________________________\n",
    "##### **String:**\n",
    ">\n",
    ">     \n",
    "> '<font color=\"darkcyan\"> **NameOfList** </font> <font color=\"royalblue\"> **.append(** </font> <font color=\"magenta\"> **\"Item to be added\"** </font> <font color=\"royalblue\"> **)** </font>'\n",
    ">\n",
    "> \n",
    "> '<font color=\"blue\"> **print(** </font> <font color=\"darkcyan\"> **NameOfList** </font> <font color=\"blue\"> **)** </font>'\n",
    ">\n",
    "___________________________________________\n",
    "##### **Integer:**\n",
    ">\n",
    ">     \n",
    "> '<font color=\"darkcyan\"> **NameOfList** </font> <font color=\"royalblue\"> **.append(** </font> <font color=\"magenta\"> **Integer You want to add** </font> <font color=\"royalblue\"> **)** </font>'\n",
    ">\n",
    "> \n",
    "> '<font color=\"blue\"> **print(** </font> <font color=\"darkcyan\"> **NameOfList** </font> <font color=\"blue\"> **)** </font>'\n",
    ">\n",
    "________________________________________\n",
    "##### **Float:**\n",
    ">\n",
    ">     \n",
    "> '<font color=\"darkcyan\"> **NameOfList** </font> <font color=\"royalblue\"> **.append(** </font> <font color=\"magenta\"> **Float you want to add** </font> <font color=\"royalblue\"> **)** </font>'\n",
    ">\n",
    "> \n",
    "> '<font color=\"blue\"> **print(** </font> <font color=\"darkcyan\"> **NameOfList** </font> <font color=\"blue\"> **)** </font>'\n",
    ">\n",
    "________________________________________\n",
    "##### **Boolean:**\n",
    ">\n",
    ">     \n",
    "> '<font color=\"darkcyan\"> **NameOfList** </font> <font color=\"royalblue\"> **.append(** </font> <font color=\"magenta\"> **Boolean you want to add** </font> <font color=\"royalblue\"> **)** </font>'\n",
    ">\n",
    "> \n",
    "> '<font color=\"blue\"> **print(** </font> <font color=\"darkcyan\"> **NameOfList** </font> <font color=\"blue\"> **)** </font>'\n",
    ">\n",
    "_____________________________\n"
   ]
  },
  {
   "cell_type": "markdown",
   "id": "7da605a6-fa08-4926-81b1-3857f3d9b910",
   "metadata": {},
   "source": [
    ">\n",
    ">\n",
    "##### II. A. v. **1. <u> Example 1: </u>**\n",
    "- Reprint the <font color=\"darkcyan\"> **flowers_list** </font>\n",
    "- Add <font color=\"magenta\"> **\"snapdragon\"** </font>\n",
    "- Then reprint the new <font color=\"darkcyan\"> **list** </font> with a label\n",
    ">\n",
    ">\n",
    "> '<font color=\"darkcyan\"> **flowers_list**</font><font color=\"royalblue\">**.append(**</font> <font color=\"magenta\"> **\"snapdragon\"** </font> <font color=\"royalblue\"> **)** </font>'\n",
    ">\n",
    ">\n",
    "> '<font color=\"blue\"> **print(** </font> <font color=\"magenta\"> **\"List with Snapdragon\"** </font> <font color=\"blue\"> **,** </font> <font color=\"darkcyan\"> **flowers_list** </font> <font color=\"blue\"> **)** </font>'\n",
    ">\n",
    ">"
   ]
  },
  {
   "cell_type": "code",
   "execution_count": 23,
   "id": "78f59d08-af68-45f6-a45e-e878e3ffc7c2",
   "metadata": {},
   "outputs": [
    {
     "name": "stdout",
     "output_type": "stream",
     "text": [
      "Original List = ['pink primrose', 'hard-leaved pocket orchid', 'canterbury bells', 'sweet pea', 'english marigold', 'tiger lily', 'moon orchid', 'bird of paradise', 'monkshood']\n",
      "List with Snapdragon = ['pink primrose', 'hard-leaved pocket orchid', 'canterbury bells', 'sweet pea', 'english marigold', 'tiger lily', 'moon orchid', 'bird of paradise', 'monkshood', 'snapdragon']\n"
     ]
    }
   ],
   "source": [
    "\n",
    "# Reprint list and label\n",
    "print( 'Original List =', flowers_list )\n",
    "\n",
    "# Add 'snapdragon'\n",
    "flowers_list.append(\"snapdragon\")\n",
    "\n",
    "# Print new list and label\n",
    "print( 'List with Snapdragon =', flowers_list )\n"
   ]
  },
  {
   "cell_type": "code",
   "execution_count": null,
   "id": "f37ec498-42fb-4bf9-b663-8757d90b4f2a",
   "metadata": {},
   "outputs": [],
   "source": []
  },
  {
   "cell_type": "code",
   "execution_count": null,
   "id": "32b04bc5-9bd7-4207-a8b8-3e364a0b0e8b",
   "metadata": {},
   "outputs": [],
   "source": []
  },
  {
   "cell_type": "markdown",
   "id": "87e1661f-64a3-4070-b42d-f72d3a4cb584",
   "metadata": {},
   "source": [
    "#### II. A. **vi. <u> Minimum Value: </u>**\n",
    "= Can get the minimum value of a list that contains either **integers** or **floats**  with the built-in '<font color=\"blue\"> **min()** </font>' function:\n",
    ">\n",
    ">\n",
    "\n",
    "> '<font color=\"blue\"> **min(** </font> <font color=\"darkcyan\"> **NameOfList** </font> <font color=\"blue\"> **)** </font>'\n",
    ">\n",
    ">\n",
    "OR\n",
    ">\n",
    ">\n",
    "> '<font color=\"blue\"> **print(** </font> <font color=\"dodgerblue\"> **min(** </font>  <font color=\"darkcyan\"> **NameOfList** </font> <font color=\"dodgerblue\"> **)** </font> <font color=\"blue\"> **)** </font>'\n",
    ">\n",
    ">\n"
   ]
  },
  {
   "cell_type": "markdown",
   "id": "502e4bfd-bc2b-4484-9bda-7179ffa577e4",
   "metadata": {},
   "source": [
    ">\n",
    ">\n",
    "##### II. A. vi. **1. <u> Example 1: </u>**\n",
    "- Reprint the <font color=\"darkcyan\"> **hardcover_sales** </font> list\n",
    "- Ask for the minimum value and print with a label\n",
    ">\n",
    ">\n",
    ">\n",
    "> '<font color=\"blue\"> **print(** </font> <font color=\"dodgerblue\"> **min(** </font> <font color=\"darkcyan\"> **hardcover_sales** </font> <font color=\"dodgerblue\"> **)** </font> <font color=\"blue\"> **)** </font>'\n",
    ">\n",
    ">"
   ]
  },
  {
   "cell_type": "code",
   "execution_count": 24,
   "id": "609f3b42-57fe-4c7f-82dd-e9b3c68c0bb1",
   "metadata": {},
   "outputs": [
    {
     "name": "stdout",
     "output_type": "stream",
     "text": [
      "Hardcover sales contains the following: [139, 128, 172, 139, 191, 168, 170]\n",
      "\n",
      "Minimum value = 128\n"
     ]
    }
   ],
   "source": [
    "# Reprint hardcover sales list, label, blank\n",
    "print( 'Hardcover sales contains the following:', hardcover_sales)\n",
    "print()\n",
    "\n",
    "# Print minimum value, label\n",
    "print( 'Minimum value =', min(hardcover_sales))\n"
   ]
  },
  {
   "cell_type": "code",
   "execution_count": null,
   "id": "975999d3-bec3-4ce6-9067-1f672c3fe6e4",
   "metadata": {},
   "outputs": [],
   "source": []
  },
  {
   "cell_type": "code",
   "execution_count": null,
   "id": "6a3ac3a0-cdcb-4649-998e-5e848ce8c019",
   "metadata": {},
   "outputs": [],
   "source": []
  },
  {
   "cell_type": "markdown",
   "id": "7e0cc131-d74f-40be-a00a-16e42332aef7",
   "metadata": {},
   "source": [
    "#### II. A. **vii. <u> Maximum Value: </u>**\n",
    "= Can get the maximum value of a list that contains either **integers** or **floats**  with:\n",
    ">\n",
    ">\n",
    "\n",
    "> '<font color=\"blue\"> **max(** </font> <font color=\"darkcyan\"> **NameOfList** </font> <font color=\"blue\"> **)** </font>'\n",
    ">\n",
    ">\n",
    "OR\n",
    ">\n",
    ">\n",
    "> '<font color=\"blue\"> **print(** </font> <font color=\"dodgerblue\"> **max(** </font>  <font color=\"darkcyan\"> **NameOfList** </font> <font color=\"dodgerblue\"> **)** </font> <font color=\"blue\"> **)** </font>'\n",
    ">\n",
    ">\n"
   ]
  },
  {
   "cell_type": "markdown",
   "id": "d783db13-cc44-4def-ae4e-ae3402851d53",
   "metadata": {},
   "source": [
    ">\n",
    ">\n",
    "##### II. A. vii. **1. <u> Example 1: </u>**\n",
    "- Reprint the <font color=\"darkcyan\"> **hardcover_sales** </font> list\n",
    "- Ask for the maximum value and print with a label\n",
    ">\n",
    ">\n",
    ">\n",
    "> '<font color=\"blue\"> **print(** </font> <font color=\"dodgerblue\"> **max(** </font> <font color=\"darkcyan\"> **hardcover_sales** </font> <font color=\"dodgerblue\"> **)** </font> <font color=\"blue\"> **)** </font>'\n",
    ">\n",
    ">"
   ]
  },
  {
   "cell_type": "code",
   "execution_count": 25,
   "id": "747a50a1-44f1-46ad-b23a-e36ba5e3b74d",
   "metadata": {},
   "outputs": [
    {
     "name": "stdout",
     "output_type": "stream",
     "text": [
      "Hardcover sales contains: [139, 128, 172, 139, 191, 168, 170]\n",
      "\n",
      "Maximum value is = 191\n"
     ]
    }
   ],
   "source": [
    "# Reprint, label and blank hardcover sales\n",
    "print( 'Hardcover sales contains:', hardcover_sales)\n",
    "print()\n",
    "\n",
    "# Print, label maximum\n",
    "print( 'Maximum value is =', max(hardcover_sales) )\n"
   ]
  },
  {
   "cell_type": "code",
   "execution_count": null,
   "id": "ab4332dc-2c84-45bc-b2d7-dd2ee2552240",
   "metadata": {},
   "outputs": [],
   "source": []
  },
  {
   "cell_type": "code",
   "execution_count": null,
   "id": "3c4462ab-4330-4684-af88-62ef1d36df65",
   "metadata": {},
   "outputs": [],
   "source": []
  },
  {
   "cell_type": "markdown",
   "id": "b37c6231-20fe-49b6-977d-140c0157543e",
   "metadata": {},
   "source": [
    "#### II. A. **viii. <u> Sum of every number in the list: </u>**\n",
    "= You can also add every item in the list that contains either **integers** or **floats**  with:\n",
    ">\n",
    ">\n",
    "\n",
    "> '<font color=\"blue\"> **sum(** </font> <font color=\"darkcyan\"> **NameOfList** </font> <font color=\"blue\"> **)** </font>'\n",
    ">\n",
    ">\n",
    "OR\n",
    ">\n",
    ">\n",
    "> '<font color=\"blue\"> **print(** </font> <font color=\"dodgerblue\"> **sum(** </font>  <font color=\"darkcyan\"> **NameOfList** </font> <font color=\"dodgerblue\"> **)** </font> <font color=\"blue\"> **)** </font>'\n",
    ">\n",
    ">\n"
   ]
  },
  {
   "cell_type": "markdown",
   "id": "30bc8bbf-9840-44c2-a8f5-0661c1a1af50",
   "metadata": {},
   "source": [
    ">\n",
    ">\n",
    "##### II. A. viii. **1. <u> Example 1: </u>**\n",
    "- Reprint the <font color=\"darkcyan\"> **hardcover_sales** </font> list\n",
    "- Ask for the sum and print with a label\n",
    ">\n",
    ">\n",
    ">\n",
    "> '<font color=\"blue\"> **print(** </font> <font color=\"royalblue\"> **sum(** </font> <font color=\"darkcyan\"> **hardcover_sales** </font> <font color=\"royalblue\"> **)** </font> <font color=\"blue\"> **)** </font>'\n",
    ">\n",
    ">"
   ]
  },
  {
   "cell_type": "code",
   "execution_count": 26,
   "id": "629658eb-4f34-4c43-813a-786b12603fbc",
   "metadata": {},
   "outputs": [
    {
     "name": "stdout",
     "output_type": "stream",
     "text": [
      "Hardcover sales contains: [139, 128, 172, 139, 191, 168, 170]\n",
      "\n",
      "1107\n"
     ]
    }
   ],
   "source": [
    "\n",
    "# Reprint list and label then blank\n",
    "print('Hardcover sales contains:', hardcover_sales)\n",
    "print()\n",
    "\n",
    "# Get sum and label\n",
    "print(sum(hardcover_sales))\n"
   ]
  },
  {
   "cell_type": "code",
   "execution_count": 27,
   "id": "953c6dea-cf56-4e59-831d-6075789b26f0",
   "metadata": {},
   "outputs": [
    {
     "data": {
      "text/plain": [
       "1107"
      ]
     },
     "execution_count": 27,
     "metadata": {},
     "output_type": "execute_result"
    }
   ],
   "source": [
    "139+128+172+139+191+168+170\n"
   ]
  },
  {
   "cell_type": "code",
   "execution_count": null,
   "id": "3cefa152-ed27-43cf-b200-40819980ab88",
   "metadata": {},
   "outputs": [],
   "source": []
  },
  {
   "cell_type": "code",
   "execution_count": null,
   "id": "694b5d16-168e-4ec2-a941-6bd948b10c88",
   "metadata": {},
   "outputs": [],
   "source": []
  },
  {
   "cell_type": "markdown",
   "id": "85a20a5b-f3e6-4ca3-b569-f0caa56cb1f1",
   "metadata": {},
   "source": [
    "#### II. A. **ix. <u> Sum with Slices of the List: </u>**\n",
    "= Can do sum with slices of the list\n",
    ">\n",
    ">\n",
    "- Such as <font color=\"dodgerblue\"> **summing up** </font> the <font color=\"goldenrod\"> **first** </font>  <font color=\"magenta\"> **X** </font> <font color=\"goldenrod\"> **entries** </font> of a list\n",
    "- You do this by combining the slicing of the first X with the '<font color=\"dodgerblue\"> **sum()** </font>' built in function:\n",
    ">\n",
    ">\n",
    "> '<font color=\"blue\"> **print(** </font> <font color=\"dodgerblue\"> **sum(** </font> <font color=\"darkcyan\"> **NameOfList** </font> <font color=\"blue\"> **[** </font> <font color=\"goldenrod\"> **:** </font> <font color=\"magenta\"> **X** </font> <font color=\"blue\"> **]** </font> <font color=\"dodgerblue\"> **)** </font> <font color=\"blue\"> **)** </font>'\n",
    ">\n",
    ">"
   ]
  },
  {
   "cell_type": "markdown",
   "id": "abcdb4ea-9123-4789-9747-96d763541614",
   "metadata": {},
   "source": [
    ">\n",
    ">\n",
    "##### II. A. ix. **1. <u> Example 1: </u>**\n",
    "- Reprint the <font color=\"darkcyan\"> **hardcover_sales** </font> list\n",
    "- Summing up the first 5 days of the '<font color=\"darkcyan\"> **hardcover_sales** </font>'\n",
    "- You do this by combining the slicing of the first 5 with the '<font color=\"blue\"> **sum()** </font>' built in function:\n",
    ">\n",
    ">\n",
    "> '<font color=\"darkcyan\"> **sum1st5days** </font> <font color=\"goldenrod\"> **=** </font> <font color=\"dodgerblue\"> **sum(** </font> <font color=\"darkcyan\"> **hardcover_sales** </font> <font color=\"blue\"> **[** </font> <font color=\"goldenrod\"> **:** </font> <font color=\"magenta\"> **5** </font> <font color=\"blue\"> **]** </font> <font color=\"dodgerblue\"> **)** </font>'\n",
    ">\n",
    ">\n",
    "> '<font color=\"blue\"> **print(** </font> <font color=\"darkcyan\"> **sum1st5days** </font> <font color=\"blue\"> **)** </font>'\n",
    ">\n",
    ">\n",
    "OR\n",
    ">\n",
    ">\n",
    "> '<font color=\"blue\"> **print(** </font> <font color=\"dodgerblue\"> **sum(** </font> <font color=\"darkcyan\"> **hardcover_sales** </font> <font color=\"blue\"> **[** </font> <font color=\"goldenrod\"> **:** </font> <font color=\"magenta\"> **5** </font> <font color=\"blue\"> **]** </font> <font color=\"dodgerblue\"> **)** </font> <font color=\"blue\"> **)** </font>'"
   ]
  },
  {
   "cell_type": "code",
   "execution_count": 28,
   "id": "81842daf-d31d-4c01-97ce-1236120a8ec8",
   "metadata": {},
   "outputs": [
    {
     "name": "stdout",
     "output_type": "stream",
     "text": [
      "Hardcover sales for 7 days in April. Daily sales as follows: [139, 128, 172, 139, 191, 168, 170]\n",
      "\n",
      "Sum first 5 days of the week = $ 769\n",
      "\n"
     ]
    }
   ],
   "source": [
    "\n",
    "# Reprint list and label and blank\n",
    "print('Hardcover sales for 7 days in April. Daily sales as follows:', hardcover_sales)\n",
    "print()\n",
    "\n",
    "# Do the sum of the first 5 entries, label and blank\n",
    "print('Sum first 5 days of the week = $', sum(hardcover_sales[:5]))\n",
    "print()"
   ]
  },
  {
   "cell_type": "code",
   "execution_count": null,
   "id": "58ea6478-dade-4c27-8aaf-59e02a6f368d",
   "metadata": {},
   "outputs": [],
   "source": []
  },
  {
   "cell_type": "markdown",
   "id": "22392cde-ef5b-4acc-a84e-636ac26e435a",
   "metadata": {},
   "source": [
    "#### II. A. **x. <u> Average with Slices of the List: </u>**\n",
    "= Can do sum with slices of the list then divide by the total items summed to get the average\n",
    ">\n",
    ">\n",
    "- Such as <font color=\"dodgerblue\"> **summing up** </font> the <font color=\"goldenrod\"> **first** </font>  <font color=\"magenta\"> **X** </font> <font color=\"goldenrod\"> **entries** </font> of a list\n",
    "- You do this by combining the slicing of the <font color=\"goldenrod\"> **first** </font> <font color=\"magenta\"> **X** </font> with the '<font color=\"dodgerblue\"> **sum()** </font>' built in function\n",
    "- Then <font color=\"goldenrod\"> **dividing** </font> that <font color=\"dodgerblue\"> **sum** </font> by the same <font color=\"magenta\"> **X** </font> number\n",
    ">\n",
    ">\n",
    "> '<font color=\"blue\"> **print(** </font> <font color=\"dodgerblue\"> **sum(** </font> <font color=\"darkcyan\"> **NameOfList** </font> <font color=\"blue\"> **[** </font> <font color=\"goldenrod\"> **:** </font> <font color=\"magenta\"> **X** </font> <font color=\"blue\"> **]** </font> <font color=\"dodgerblue\"> **)** </font> <font color=\"goldenrod\"> **/** </font> <font color=\"magenta\"> **X** </font> <font color=\"blue\"> **)** </font>'\n",
    ">\n",
    ">"
   ]
  },
  {
   "cell_type": "markdown",
   "id": "4e9c241b-ca57-4893-b3c0-51018eae7fa0",
   "metadata": {},
   "source": [
    ">\n",
    ">\n",
    "##### II. A. x. **1. <u> Example 1: </u>**\n",
    "- Reprint the <font color=\"darkcyan\"> **hardcover_sales** </font> list\n",
    "- Summing up the first 5 days of the '<font color=\"darkcyan\"> **hardcover_sales** </font>'\n",
    "- You do this by combining the slicing of the first 5 with the '<font color=\"blue\"> **sum()** </font>' built in function\n",
    "- Then <font color=\"goldenrod\"> **dividing** </font> that <font color=\"dodgerblue\"> **sum** </font> by the same <font color=\"magenta\"> **X** </font> number = <font color=\"magenta\"> **5** </font>\n",
    ">\n",
    ">\n",
    "> '<font color=\"darkcyan\"> **sum1st5days** </font> <font color=\"goldenrod\"> **=** </font> <font color=\"dodgerblue\"> **sum(** </font> <font color=\"darkcyan\"> **hardcover_sales** </font> <font color=\"blue\"> **[** </font> <font color=\"goldenrod\"> **:** </font> <font color=\"magenta\"> **5** </font> <font color=\"blue\"> **]** </font> <font color=\"dodgerblue\"> **)** </font>'\n",
    ">\n",
    ">\n",
    "> '<font color=\"darkcyan\"> **avg1st5days** </font> <font color=\"goldenrod\"> **=** </font> <font color=\"darkcyan\"> **sum1st5days** </font> <font color=\"goldenrod\"> **/** </font> <font color=\"magenta\"> **5** </font>'\n",
    ">\n",
    ">\n",
    "> '<font color=\"blue\"> **print(** </font> <font color=\"darkcyan\"> **avg1st5days** </font> <font color=\"blue\"> **)** </font>'\n",
    ">\n",
    ">\n",
    "OR\n",
    ">\n",
    ">\n",
    "> '<font color=\"blue\"> **print(** </font> <font color=\"dodgerblue\"> **sum(** </font> <font color=\"darkcyan\"> **hardcover_sales** </font> <font color=\"blue\"> **[** </font> <font color=\"goldenrod\"> **:** </font> <font color=\"magenta\"> **5** </font> <font color=\"blue\"> **]** </font> <font color=\"dodgerblue\"> **)** </font> <font color=\"goldenrod\"> **/** </font> <font color=\"magenta\"> **5** </font> <font color=\"blue\"> **)** </font>'"
   ]
  },
  {
   "cell_type": "code",
   "execution_count": 29,
   "id": "67b3667f-1ae4-4429-924d-d0391ee2ae19",
   "metadata": {},
   "outputs": [
    {
     "name": "stdout",
     "output_type": "stream",
     "text": [
      "Hardcover sales over 7 days: [139, 128, 172, 139, 191, 168, 170]\n",
      "\n",
      "Average of 1st 5 days of sales = 153.8\n"
     ]
    }
   ],
   "source": [
    "\n",
    "# Print list again and label and blank\n",
    "print('Hardcover sales over 7 days:', hardcover_sales)\n",
    "print()\n",
    "\n",
    "# Print average of 1st 5 days in 1 equation, label and blank\n",
    "print( 'Average of 1st 5 days of sales =', sum(hardcover_sales[ :5 ]) / 5 )\n"
   ]
  },
  {
   "cell_type": "code",
   "execution_count": 30,
   "id": "671c1016-4376-42e2-895d-2796fd03dce1",
   "metadata": {},
   "outputs": [
    {
     "name": "stdout",
     "output_type": "stream",
     "text": [
      "variables 153.8\n",
      "\n",
      "nonvariables 153.8\n"
     ]
    }
   ],
   "source": [
    "x = sum(hardcover_sales[:5])\n",
    "y = x / 5\n",
    "print('variables', y)\n",
    "print()\n",
    "\n",
    "print('nonvariables', sum(hardcover_sales[:5])/5)\n"
   ]
  },
  {
   "cell_type": "code",
   "execution_count": null,
   "id": "9fbe3570-e56b-4785-897b-8e5da3b3c31b",
   "metadata": {},
   "outputs": [],
   "source": []
  },
  {
   "cell_type": "code",
   "execution_count": null,
   "id": "ee4fcf1c-3951-4f15-8105-f5c0c7d38c74",
   "metadata": {},
   "outputs": [],
   "source": []
  },
  {
   "cell_type": "markdown",
   "id": "36b13647-ab18-4707-90f0-f9d330c84377",
   "metadata": {},
   "source": [
    "___________________________\n",
    ">\n",
    ">\n",
    "#### II. A. **xi. <u> Kaggle Exercises from Tutorial: </u>**\n",
    "\n"
   ]
  },
  {
   "cell_type": "markdown",
   "id": "9a19f0a4-16bc-4799-b486-5082547478df",
   "metadata": {},
   "source": [
    "##### II. A. xi. **1. Question 1:**\n",
    "- You own a restaurant with 5 food dishes organzied in the Python list named '<font color=\"darkcyan\"> **menu** </font>'. You decide you want to <font color=\"royalblue\"> **remove** </font> <font color=\"magenta\"> **'bean soup'** </font> and <font color=\"royalblue\"> **replace it with** </font> <font color=\"magenta\"> **'roasted beet salad'** </font>. Do so in the below code cell.\n",
    "-  "
   ]
  },
  {
   "cell_type": "code",
   "execution_count": 31,
   "id": "ed1f0a47-8863-4bca-846c-799f43ff1ce1",
   "metadata": {},
   "outputs": [
    {
     "name": "stdout",
     "output_type": "stream",
     "text": [
      "Original Menu: ['stewed meat with onions', 'bean soup', 'risotto with trout and shrimp', 'fish soup with cream and onion', 'gyro']\n",
      "\n",
      "New Menu: ['stewed meat with onions', 'risotto with trout and shrimp', 'fish soup with cream and onion', 'gyro', 'roasted beet salad']\n"
     ]
    }
   ],
   "source": [
    "\n",
    "# Create menu list\n",
    "menu = ['stewed meat with onions', 'bean soup', 'risotto with trout and shrimp', 'fish soup with cream and onion', 'gyro']\n",
    "\n",
    "# Print original menu, label and then blank\n",
    "print( 'Original Menu:', menu)\n",
    "print()\n",
    "\n",
    "# Remove 'bean soup'\n",
    "menu.remove('bean soup')\n",
    "\n",
    "# Add 'roasted beet salad'\n",
    "menu.append('roasted beet salad')\n",
    "\n",
    "# Print new menu with label\n",
    "print( 'New Menu:', menu)\n"
   ]
  },
  {
   "cell_type": "markdown",
   "id": "de24f2b9-8cab-46b3-97a4-65a01e842c0d",
   "metadata": {},
   "source": [
    "__________________\n",
    ">\n",
    ">\n",
    "##### II. A. xi. **2a. Question 2a:**\n",
    "- You own a restaurant the Python list named '<font color=\"darkcyan\"> **num_customers** </font>' contains the number of customers who came into your resturant everyday over the last month (30 days in total).\n",
    "- Fill in values for each of the following:\n",
    "    - '<font color=\"darkcyan\"> **avg_first_seven** </font>' = average number of customers who visits in the 1st 7 days\n",
    "    - '<font color=\"darkcyan\"> **avg_last_seven** </font>' = average number of customers who visited in the last 7 days\n"
   ]
  },
  {
   "cell_type": "code",
   "execution_count": 32,
   "id": "18e9fe78-f129-49bd-a688-df61c4691b35",
   "metadata": {},
   "outputs": [
    {
     "name": "stdout",
     "output_type": "stream",
     "text": [
      "Average 1st 7 days = 150.85714285714286\n",
      "\n",
      "Average last 7 days = 157.0\n",
      "\n"
     ]
    }
   ],
   "source": [
    "\n",
    "# Create num_customers list (copied from kaggle d/2 time)\n",
    "num_customers = [137, 147, 135, 128, 170, 174, 165, 146, 126, 159,\n",
    "                 141, 148, 132, 147, 168, 153, 170, 161, 148, 152,\n",
    "                 141, 151, 131, 149, 164, 163, 143, 143, 166, 171]\n",
    "\n",
    "# Average of the first 7 days, label and blank\n",
    "print( 'Average 1st 7 days =', sum(num_customers[:7]) / 7 )\n",
    "print()\n",
    "\n",
    "# Average of last 7 days, label and blank\n",
    "print( 'Average last 7 days =', sum(num_customers[-7:] ) / 7 )\n",
    "print()\n"
   ]
  },
  {
   "cell_type": "markdown",
   "id": "9cf25986-cb02-472e-a48e-ea888fabbf6a",
   "metadata": {},
   "source": [
    "__________________\n",
    ">\n",
    ">\n",
    "##### II. A. xi. **2b. Question 2b:**\n",
    "- You own a restaurant the Python list named '<font color=\"darkcyan\"> **num_customers** </font>' contains the number of customers who came into your resturant everyday over the last month (30 days in total).\n",
    "- Fill in values for each of the following:\n",
    "    - '<font color=\"darkcyan\"> **max_month** </font>' = Number of customers on the day that got the most customers in the last month\n",
    "    - '<font color=\"darkcyan\"> **min_month** </font>' = Number of customers on the day that got the least customers in the last month\n"
   ]
  },
  {
   "cell_type": "code",
   "execution_count": 33,
   "id": "bc9d99e6-634d-4120-aa01-24a08b982228",
   "metadata": {},
   "outputs": [
    {
     "name": "stdout",
     "output_type": "stream",
     "text": [
      "Maximum Customers in a day = 174\n",
      "\n",
      "Minimum Customers in a day = 126\n",
      "\n"
     ]
    }
   ],
   "source": [
    "\n",
    "# Max customers, label and blank\n",
    "print( 'Maximum Customers in a day =', max(num_customers))\n",
    "print()\n",
    "\n",
    "# Min customers, label and blank\n",
    "print( 'Minimum Customers in a day =', min(num_customers))\n",
    "print()"
   ]
  },
  {
   "cell_type": "code",
   "execution_count": null,
   "id": "b54cb894-3627-4265-a302-7d8368f62894",
   "metadata": {},
   "outputs": [],
   "source": []
  },
  {
   "cell_type": "code",
   "execution_count": null,
   "id": "c345c784-c9e9-4d94-afd9-3a354206b7e7",
   "metadata": {},
   "outputs": [],
   "source": []
  },
  {
   "cell_type": "markdown",
   "id": "a8085d1c-d3ea-43db-a703-26cd1398a5f2",
   "metadata": {},
   "source": [
    "### II. **B. <u>Converting String into List:</u>**\n",
    ">\n",
    ">\n",
    "- Can convert a text string that already exists quickly into a list without having to retype it out yourself as a list with the following method:\n",
    ">\n",
    ">\n",
    "> '<font color=\"royalblue\"> **.split()** </font>'\n",
    ">\n",
    ">\n",
    "\n",
    "<u>**Steps:**</u>\n",
    "\n",
    ">\n",
    ">\n",
    "1. Append the '<fo\n",
    "                   \\nt color=\"royalblue\"> **.split()** </font>' method to the end of the string <font color=\"darkcyan\"> **variable name** </font>'\n",
    "2. Within the '<font color=\"royalblue\"> **( )** </font>' of the method you put a **'delimiter'**\n",
    ">\n",
    ">\n",
    "> '**Delimiter**' = A character that marks the boundary between the parts of a string. So it tells the method to split the string into a list at every **delimiter**\n",
    "3. The **delimiter** goes between '<font color=\"magenta\"> **\" \"** </font>' within the '<font color=\"royalblue\"> **( )** </font>'\n",
    ">\n",
    ">\n",
    ">\n",
    ">\n",
    "> ' <font color=\"blue\"> **print(** </font> <font color=\"darkcyan\"> **StringName** </font> <font color=\"royalblue\"> **.split(** </font> <font color=\"magenta\"> **\"** </font> **Delimiter Character Goes Here between quotations** <font color=\"magenta\"> **\"** </font> <font color=\"royalblue\"> **)** </font> <font color=\"blue\"> **)** </font>'\n",
    ">\n",
    ">"
   ]
  },
  {
   "cell_type": "markdown",
   "id": "7412c23c-9b5c-4578-802b-7a031d0a4d4c",
   "metadata": {},
   "source": [
    ">\n",
    ">\n",
    "##### II. B. **1. Example 1:**\n",
    "1. Create a string with the following contents:\n",
    ">\n",
    ">\n",
    "> '<font color=\"darkcyan\"> **flowers** </font>' <font color=\"goldenrod\"> **=** </font> <font color=\"magenta\"> **\"pink primrose, hard-leaved pocket orchid, canterbury bells, sweet pea, english marigold, tiger lily, moon orchid, bird of paradise, monkshood, globe thistle\"** </font>\n"
   ]
  },
  {
   "cell_type": "code",
   "execution_count": 34,
   "id": "4748b397-04c6-42c9-9993-1a8c52255b3d",
   "metadata": {},
   "outputs": [],
   "source": [
    "\n",
    "# Create the string \n",
    "flowers = \"pink primrose, hard-leaved pocket orchid, canterbury bells, sweet pea, english marigold, tiger lily, moon orchid, bird of paradise, monkshood, globe thistle\"\n"
   ]
  },
  {
   "cell_type": "markdown",
   "id": "998277e1-95f9-49ce-98cf-929df85cf5a6",
   "metadata": {},
   "source": [
    ">\n",
    ">\n",
    "2. Identify the **delimiter** character of the string. In this case each item is separated by a '<font color=\"magenta\"> **,** </font>'\n",
    ">\n",
    ">\n",
    "> '<font color=\"darkcyan\"> **flowers** </font>' <font color=\"goldenrod\"> **=** </font> <font color=\"magenta\"> **\"pink primrose, hard-leaved pocket orchid, canterbury bells, sweet pea, english marigold, tiger lily, moon orchid, bird of paradise, monkshood, globe thistle\"** </font>\n"
   ]
  },
  {
   "cell_type": "markdown",
   "id": "36baadfc-4306-44d0-810c-558475480501",
   "metadata": {},
   "source": [
    ">\n",
    ">\n",
    "3. Put the **delimiter** character in quotes within the '<font color=\"royalblue\"> **.split()** </font>' appended at the variable name end's '<font color=\"royalblue\"> **( )** </font>'\n",
    ">\n",
    ">\n",
    "> <font color=\"darkcyan\"> **flowers** </font> <font color=\"royalblue\"> **.split(** </font> <font color=\"magenta\"> **\"** </font> **,** <font color=\"magenta\"> **\"** </font> <font color=\"royalblue\"> **)** </font>"
   ]
  },
  {
   "cell_type": "markdown",
   "id": "26e3c50e-33a8-4b14-88cc-18267a700ed9",
   "metadata": {},
   "source": [
    ">\n",
    ">\n",
    "4. Put the above either in a variable of its own or inside the '<font color=\"blue\"> **( )** </font>' of the built-in '<font color=\"blue\"> **print()** </font>' function\n",
    ">\n",
    ">\n",
    "> '<font color=\"blue\"> **print(** </font> <font color=\"darkcyan\"> **flowers** </font> <font color=\"royalblue\"> **.split(** </font> <font color=\"magenta\"> **\"** </font> **,** <font color=\"magenta\"> **\"** </font> <font color=\"royalblue\"> **)** </font> <font color=\"blue\"> **)** </font>'"
   ]
  },
  {
   "cell_type": "code",
   "execution_count": 35,
   "id": "8d930eab-4d8d-4b99-bc52-2a1663c597b9",
   "metadata": {},
   "outputs": [
    {
     "name": "stdout",
     "output_type": "stream",
     "text": [
      "Original String = pink primrose, hard-leaved pocket orchid, canterbury bells, sweet pea, english marigold, tiger lily, moon orchid, bird of paradise, monkshood, globe thistle\n",
      "\n",
      "New List = ['pink primrose', ' hard-leaved pocket orchid', ' canterbury bells', ' sweet pea', ' english marigold', ' tiger lily', ' moon orchid', ' bird of paradise', ' monkshood', ' globe thistle']\n"
     ]
    }
   ],
   "source": [
    "\n",
    "# Print original string, label and blank\n",
    "print('Original String =', flowers)\n",
    "print()\n",
    "\n",
    "# Create the list, print and label\n",
    "print( 'New List =', flowers.split(\",\") )\n"
   ]
  },
  {
   "cell_type": "code",
   "execution_count": null,
   "id": "d44364a1-dcdb-483f-844b-285fe6c9f624",
   "metadata": {},
   "outputs": [],
   "source": []
  },
  {
   "cell_type": "code",
   "execution_count": null,
   "id": "89e51b19-44e9-49c5-8584-11739810fbdc",
   "metadata": {},
   "outputs": [],
   "source": []
  },
  {
   "cell_type": "markdown",
   "id": "3f013614-6fe3-4b57-82af-362a715fbe7b",
   "metadata": {},
   "source": [
    ">\n",
    ">\n",
    "##### II. B. **2. Example 2:**\n",
    "Convert the following string into a list\n",
    ">\n",
    ">\n",
    "> <font color=\"darkcyan\"> **alphabet** </font>  <font color=\"goldenrod\"> **=** </font> <font color=\"magenta\"> **\"A.B.C.D.E.F.G.H.I.J.K.L.M.N.O.P.Q.R.S.T.U.V.W.X.Y.Z\"** </font>"
   ]
  },
  {
   "cell_type": "code",
   "execution_count": 36,
   "id": "229500a9-6cb1-4296-9291-711b079e72de",
   "metadata": {},
   "outputs": [
    {
     "name": "stdout",
     "output_type": "stream",
     "text": [
      "Original String Contents = A.B.C.D.E.F.G.H.I.J.K.L.M.N.O.P.Q.R.S.T.U.V.W.X.Y.Z\n",
      "\n",
      "New List Contents = ['A', 'B', 'C', 'D', 'E', 'F', 'G', 'H', 'I', 'J', 'K', 'L', 'M', 'N', 'O', 'P', 'Q', 'R', 'S', 'T', 'U', 'V', 'W', 'X', 'Y', 'Z']\n"
     ]
    }
   ],
   "source": [
    "\n",
    "# Create first string\n",
    "alphabet = \"A.B.C.D.E.F.G.H.I.J.K.L.M.N.O.P.Q.R.S.T.U.V.W.X.Y.Z\"\n",
    "\n",
    "# Print string, label, blank\n",
    "print('Original String Contents =', alphabet)\n",
    "print()\n",
    "\n",
    "# Convert to a list, print, label\n",
    "print( 'New List Contents =', alphabet.split(\".\") )\n"
   ]
  },
  {
   "cell_type": "code",
   "execution_count": null,
   "id": "e426e5c2-14c4-4c3c-90c4-469ae79c7c97",
   "metadata": {},
   "outputs": [],
   "source": []
  },
  {
   "cell_type": "markdown",
   "id": "0a2386f8-77c4-4a42-ad2c-2e4be5aad81e",
   "metadata": {},
   "source": [
    ">\n",
    ">\n",
    "##### II. B. **3. Example 3:**\n",
    "Convert the following string into a list\n",
    ">\n",
    ">\n",
    "> <font color=\"darkcyan\"> **address** </font>  <font color=\"goldenrod\"> **=** </font> <font color=\"magenta\"> **\"Mr. H. Potter,The cupboard under the Stairs,4 Privet Drive,Little Whinging,Surrey\"** </font>\n"
   ]
  },
  {
   "cell_type": "code",
   "execution_count": 37,
   "id": "8dc00d38-084f-4dc4-81c3-a003ce073e7d",
   "metadata": {},
   "outputs": [
    {
     "name": "stdout",
     "output_type": "stream",
     "text": [
      "Original String = Mr. H. Potter,The cupboard under the Stairs,4 Privet Drive,Little Whinging,Surrey\n",
      "\n",
      "New List = ['Mr. H. Potter', 'The cupboard under the Stairs', '4 Privet Drive', 'Little Whinging', 'Surrey']\n"
     ]
    }
   ],
   "source": [
    "\n",
    "# Create first string\n",
    "address = \"Mr. H. Potter,The cupboard under the Stairs,4 Privet Drive,Little Whinging,Surrey\"\n",
    "\n",
    "# Print, label and blank original string\n",
    "print( 'Original String =', address)\n",
    "print()\n",
    "\n",
    "# Convert to List, label, print\n",
    "print( 'New List =', address.split(\",\") )\n"
   ]
  },
  {
   "cell_type": "code",
   "execution_count": null,
   "id": "d86cdb1e-5244-4cd3-acd3-f8aef1191aeb",
   "metadata": {},
   "outputs": [],
   "source": []
  },
  {
   "cell_type": "code",
   "execution_count": null,
   "id": "4f247019-e368-4ca2-808b-b11cdcb608c6",
   "metadata": {},
   "outputs": [],
   "source": []
  },
  {
   "cell_type": "markdown",
   "id": "0277e6c8-a3c8-4770-97dd-2dad55dde269",
   "metadata": {},
   "source": [
    ">\n",
    ">\n",
    "### II. **C. <u>List Comprehensions:</u>**\n",
    ">\n",
    ">\n",
    "- 'In the Python course, you'll learn all about **list comprehensions**, which allow you to create a list based on the values in another list.  . . . (Below) you'll get a brief preview of how they work.'\n",
    ">\n",
    ">\n",
    "*From ChatGPT on 1/22/24*\n",
    ">\n",
    ">\n",
    "= \"A shortcut to make lists. . .  Lets you create a list from another list or range, by applying a rule to each item.\"\n",
    "= \"Its a way to create a new list by applying an operation to each item in an existing list\"\n",
    ">\n",
    ">\n",
    ">\n",
    ">\n",
    "**Together the below keywords work to \"iterate over each <font color=\"magenta\"> **item** </font> in the list:\"**\n",
    ">\n",
    ">\n",
    "    - \"The keyword '<font color=\"DeepSkyBlue\"> **for** </font>' is used to create a **loop** that iterates over a sequence (like a list, tuple, dictionary, set or string)\"\n",
    ">\n",
    ">\n",
    "    - \"The keyword '<font color=\"DeepSkyBlue\"> **in** </font>' is used to **check if a value** is present in a sequence, and it is also used to iterate through a sequence in a <font color=\"deepskyblue\"> **for loop** </font>"
   ]
  },
  {
   "cell_type": "code",
   "execution_count": null,
   "id": "353926fe-ee2c-47af-bf7e-9dff4f346768",
   "metadata": {},
   "outputs": [],
   "source": []
  },
  {
   "cell_type": "markdown",
   "id": "6fee10f7-b4c5-4a8c-837e-8d100363093f",
   "metadata": {},
   "source": [
    "#### II. C. **i. <u>Kaggle Tutorial Example Used to Teach:</u>**\n",
    "- *Kaggle is ' ' and ChatGPT from 1/22/24 is \" \"*\n",
    "  \n",
    ">\n",
    ">\n",
    "'You can use the list '<font color=\"darkcyan\"> **test_ratings** </font>' to create a new list called '<font color=\"DarkCyan\"> **test_liked** </font>' in which each <font color=\"magenta\"> **item** </font> has been turned into a **boolean**, depending on whether or not the item is greater than or equal to four.' \n",
    ">\n",
    ">\n",
    "**Steps:**\n",
    ">\n",
    ">\n",
    "1. 'Say you are working with the list below:'\n",
    ">\n",
    ">\n",
    "> '<font color=\"darkcyan\"> **test_ratings** </font> <font color=\"goldenrod\"> **=** </font> <font color=\"blue\"> **[** </font> <font color=\"magenta\"> **1** </font> <font color=\"blue\"> **,** </font> <font color=\"magenta\"> **2** </font> <font color=\"blue\"> **,** </font> <font color=\"magenta\"> **3** </font> <font color=\"blue\"> **,** </font> <font color=\"magenta\"> **4** </font> <font color=\"blue\"> **,** </font> <font color=\"magenta\"> **5** </font> <font color=\"blue\"> **]** </font>'\n",
    ">\n",
    ">\n",
    "2. Create a name for the new list. For this example it is:\n",
    ">\n",
    ">\n",
    "> '<font color=\"darkcyan\"> **test_liked** </font>'\n",
    ">\n",
    ">\n",
    "3. On the same line as that new list name you will then put the operator '<font color=\"goldenrod\"> **=** </font>'\n",
    ">\n",
    ">\n",
    ">\n",
    "4. The new list will need the **square brackets** as is normal for lists, so after the '<font color=\"goldenrod\"> **=** </font>' you will put a '<font color=\"blue\"> **]** </font>'\n",
    ">\n",
    ">\n",
    "5. Create a placeholder to represent each <font color=\"magenta\"> **item** </font> in the original list. For example we will use the placeholder below:\n",
    ">\n",
    ">\n",
    "> '<font color=\"magenta\"> **i** </font>'\n",
    ">\n",
    ">\n",
    "6. Apply a <font color=\"deepskyblue\"> **condition** </font> to be applied to each item that is represented as '<font color=\"magenta\"> **i** </font>'. Since you want to covert it to a Boolean based on if the <font color=\"magenta\"> **item** </font> is <font color=\"deepskyblue\"> **Greater Than or Equal to** </font> <font color=\"magenta\"> **4** </font> then the **condition** would be '<font color=\"deepskyblue\"> **>=** </font> <font color=\"magenta\"> **4** </font>'. So all together so far is:\n",
    ">\n",
    ">\n",
    "> '<font color=\"darkcyan\"> **test_liked** </font> <font color=\"goldenrod\"> **=** </font> <font color=\"blue\"> **[** </font> <font color=\"magenta\"> **i** </font> <font color=\"deepskyblue\"> **>=** </font> <font color=\"magenta\"> **4** </font>'\n",
    ">\n",
    ">\n",
    "7. To have the computer do this <font color=\"deepskyblue\"> **condition** </font> for every <font color=\"magenta\"> **item** </font> (' <font color=\"magenta\"> **i** </font> ') you use the **keyword** '<font color=\"deepskyblue\"> **for** </font>' and then identify the placeholder that represents each individual <font color=\"magenta\"> **item** </font> (' <font color=\"magenta\"> **i** </font> ') you want the computer to run through. \"This '<font color=\"deepskyblue\"> **for** </font> <font color=\"magenta\"> **i** </font>' is the **loop part**. Its like saying **\"Do this condition for each item\"**. So all together so far is:\n",
    ">\n",
    ">\n",
    "> '<font color=\"darkcyan\"> **test_liked** </font> <font color=\"goldenrod\"> **=** </font> <font color=\"blue\"> **[** </font> <font color=\"magenta\"> **i** </font> <font color=\"deepskyblue\"> **>=** </font> <font color=\"magenta\"> **4** </font> <font color=\"deepskyblue\"> **for** </font> <font color=\"magenta\"> **i** </font>\n",
    ">\n",
    ">\n",
    "8. Identify which list you want the <font color=\"deepskyblue\"> **condition** </font> to be done to with the **keyword** \"<font color=\"deepskyblue\"> **in** </font>\" and then name the list then close the <font color=\"blue\"> **square brackets** </font> so all together its:\n",
    ">\n",
    ">\n",
    "> '<font color=\"darkcyan\"> **test_liked** </font> <font color=\"goldenrod\"> **=** </font> <font color=\"blue\"> **[** </font> <font color=\"magenta\"> **i** </font> <font color=\"deepskyblue\"> **>=** </font> <font color=\"magenta\"> **4** </font> <font color=\"deepskyblue\"> **for** </font> <font color=\"magenta\"> **i** </font> <font color=\"deepskyblue\"> **in** </font> <font color=\"darkcyan\"> **test_ratings** </font> <font color=\"blue\"> **]** </font>'\n",
    ">\n",
    ">\n",
    "9. Put it in the code cell below and when you print it it should result in:\n",
    ">\n",
    ">\n",
    "> '<font color=\"blue\"> **[** </font> <font color=\"red\"> **False** </font> <font color=\"blue\"> **,** </font> <font color=\"red\"> **False** </font> <font color=\"blue\"> **,** </font> <font color=\"red\"> **False** </font> <font color=\"blue\"> **,** </font> <font color=\"ForestGreen\"> **True** </font> <font color=\"blue\"> **,** </font> <font color=\"ForestGreen\"> **True** </font> <font color=\"blue\"> **]** </font>'"
   ]
  },
  {
   "cell_type": "code",
   "execution_count": 38,
   "id": "47a972ce-4b14-4869-8d29-6dad1dd45084",
   "metadata": {},
   "outputs": [
    {
     "name": "stdout",
     "output_type": "stream",
     "text": [
      "Original = [1, 2, 3, 4, 5]\n",
      "\n",
      "Test Liked = [False, False, False, True, True]\n",
      "\n"
     ]
    }
   ],
   "source": [
    "\n",
    "# Create the original list 'test_ratings' copied from the kaggle tutorial for time\n",
    "test_ratings = [1, 2, 3, 4, 5]\n",
    "\n",
    "# Print original list, label and blank\n",
    "print('Original =', test_ratings)\n",
    "print()\n",
    "\n",
    "# Create list comprehsion for loop to turn to Boolean if > or = to 4 and store in new name of 'test_liked'\n",
    "test_liked = [i >= 4 for i in test_ratings]\n",
    "\n",
    "# Print the new list, label and blank\n",
    "print( 'Test Liked =', test_liked)\n",
    "print()\n"
   ]
  },
  {
   "cell_type": "code",
   "execution_count": null,
   "id": "198dbf3a-63bd-4d7f-848f-ea68a8ded2f7",
   "metadata": {},
   "outputs": [],
   "source": []
  },
  {
   "cell_type": "markdown",
   "id": "a81ff7bf-73ad-4885-ade1-27a346d7c40a",
   "metadata": {},
   "source": [
    "##### II. C. i. **1. Use that List comprehension above to do the following per kaggle tutorial:**\n",
    ">\n",
    ">\n",
    "- <font color=\"blueviolet\"> **define** </font> a function called '<font color=\"blue\"> **percentage_liked( )** </font>' that takes the argument (aka 1 parameter) '<font color=\"LightSeaGreen\"> **ratings** </font>'\n",
    ">\n",
    ">\n",
    "- '<font color=\"LightSeaGreen\"> **ratings** </font>' = 'a list of ratings that people gave to a movie, where each rating is a number between 1 - 5, inclusive'\n",
    ">\n",
    ">\n",
    "- Someone liked the movie if they rated it <font color=\"deepskyblue\"> **>=** </font> <font color=\"magenta\"> **4** </font>\n",
    ">\n",
    ">\n",
    "- Your function should return the percentage of people who liked the movie"
   ]
  },
  {
   "cell_type": "code",
   "execution_count": 39,
   "id": "5f0c11e3-a6bd-48e8-96e7-7645f6c85303",
   "metadata": {},
   "outputs": [
    {
     "data": {
      "text/plain": [
       "0.5"
      ]
     },
     "execution_count": 39,
     "metadata": {},
     "output_type": "execute_result"
    }
   ],
   "source": [
    "\n",
    "# Copied exactly from kaggle and then I inputed the percentage_liked which was correct\n",
    "def percentage_liked(ratings):\n",
    "    list_liked = [i >= 4 for i in ratings ]\n",
    "    percentage_liked = sum(list_liked) / len(list_liked)\n",
    "    return percentage_liked\n",
    "\n",
    "# Should return 0.5\n",
    "percentage_liked([1, 2, 3, 4, 5, 4, 5, 1])"
   ]
  },
  {
   "cell_type": "code",
   "execution_count": null,
   "id": "8eb81a08-79c2-466a-b593-b38d723f4e7f",
   "metadata": {},
   "outputs": [],
   "source": []
  },
  {
   "cell_type": "code",
   "execution_count": null,
   "id": "7f2a9fb0-9a88-409b-ae00-280bf51bdd79",
   "metadata": {},
   "outputs": [],
   "source": []
  },
  {
   "cell_type": "code",
   "execution_count": 41,
   "id": "aaff162b-b63c-49a6-bea3-7e27e1cd8e66",
   "metadata": {},
   "outputs": [
    {
     "ename": "SyntaxError",
     "evalue": "expected '(' (3576147165.py, line 1)",
     "output_type": "error",
     "traceback": [
      "\u001b[0;36m  Cell \u001b[0;32mIn[41], line 1\u001b[0;36m\u001b[0m\n\u001b[0;31m    def percentage_growth\u001b[0m\n\u001b[0m                         ^\u001b[0m\n\u001b[0;31mSyntaxError\u001b[0m\u001b[0;31m:\u001b[0m expected '('\n"
     ]
    }
   ],
   "source": [
    "def percentage_growth"
   ]
  },
  {
   "cell_type": "markdown",
   "id": "01d2d049-492e-4a91-9d47-aff56eb5fd9a",
   "metadata": {},
   "source": [
    "### I. **A. <u>Sub-Section within main Name of Section:</u>**"
   ]
  },
  {
   "cell_type": "markdown",
   "id": "a3178884-50d6-4ea0-883d-8344d1783629",
   "metadata": {},
   "source": [
    "### I. **A. <u>Sub-Section within main Name of Section:</u>**"
   ]
  },
  {
   "cell_type": "markdown",
   "id": "1db4dd9a-6b0b-4546-8bdb-ffa891260287",
   "metadata": {},
   "source": [
    "#### I. A. **i. Sub-Sub section:**"
   ]
  },
  {
   "cell_type": "markdown",
   "id": "a2481a0c-5eda-4597-b1ec-8ec16ab0d9bb",
   "metadata": {},
   "source": [
    "##### I. A. i. **a. Sub-Sub-Sub section:**"
   ]
  },
  {
   "cell_type": "markdown",
   "id": "3206156a-a734-43ca-883c-967c9a5a8bb1",
   "metadata": {
    "tags": []
   },
   "source": [
    "##### <u>**Example 1.**</u>"
   ]
  },
  {
   "cell_type": "code",
   "execution_count": 40,
   "id": "bb549f67-f572-4581-a471-1ad78a3eb60c",
   "metadata": {},
   "outputs": [
    {
     "data": {
      "text/plain": [
       "1"
      ]
     },
     "execution_count": 40,
     "metadata": {},
     "output_type": "execute_result"
    }
   ],
   "source": [
    "min(1,2,3)\n"
   ]
  },
  {
   "cell_type": "code",
   "execution_count": null,
   "id": "9c3b9042-2ca6-4a37-af66-5a7e63c63152",
   "metadata": {},
   "outputs": [],
   "source": []
  }
 ],
 "metadata": {
  "kernelspec": {
   "display_name": "Python 3 (ipykernel)",
   "language": "python",
   "name": "python3"
  },
  "language_info": {
   "codemirror_mode": {
    "name": "ipython",
    "version": 3
   },
   "file_extension": ".py",
   "mimetype": "text/x-python",
   "name": "python",
   "nbconvert_exporter": "python",
   "pygments_lexer": "ipython3",
   "version": "3.11.5"
  }
 },
 "nbformat": 4,
 "nbformat_minor": 5
}
