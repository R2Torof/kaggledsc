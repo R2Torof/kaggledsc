{
 "cells": [
  {
   "cell_type": "markdown",
   "id": "6084d75e",
   "metadata": {},
   "source": [
    "# Introduction to Programming Kaggle Course\n",
    "#### Notes and practice from course\n",
    "###### <u>*The following rules for references apply in markdown notes*<u>\n",
    "###### - *Things in \"quotes\" in markdown are direct quotes from ***Coding for Beginner's In Easy Steps 2nd Edition*** book*\n",
    "###### - *Things in 'quotes' in markdown are direct quotes from ***Kaggle Course*** okay*"
   ]
  },
  {
   "cell_type": "code",
   "execution_count": null,
   "id": "4ffea11c-0f52-4205-b332-69329879e1d2",
   "metadata": {},
   "outputs": [],
   "source": []
  },
  {
   "cell_type": "code",
   "execution_count": null,
   "id": "9f73ad6e-d390-440a-b7b2-d02ced1d2479",
   "metadata": {},
   "outputs": [],
   "source": []
  },
  {
   "cell_type": "code",
   "execution_count": null,
   "id": "c739d091-f82e-4cf5-91a7-a69726a0f578",
   "metadata": {},
   "outputs": [],
   "source": []
  },
  {
   "cell_type": "markdown",
   "id": "65829808",
   "metadata": {},
   "source": [
    "# <u>**Conditions and Conditional Statements**<u>\n",
    "Modify how functions run, depending on the input\n",
    "Control Flow - if/else, conditional blocks and operators\n",
    "\n",
    "I already know about the basic function that will do the same action no matter the input as shown below where I use the lesson learned from ***Functions.ipynb*** and I create a function that always results in adding 5 to the input"
   ]
  },
  {
   "cell_type": "code",
   "execution_count": 1,
   "id": "e295f503-4602-4627-87e0-e5bbce0d42d5",
   "metadata": {},
   "outputs": [],
   "source": [
    "\n",
    "# Create a function to always add 5 to whatever number you provide for its input\n",
    "def add_five(integer):\n",
    "    value = integer + 5\n",
    "    return value\n"
   ]
  },
  {
   "cell_type": "code",
   "execution_count": 2,
   "id": "b0e6bc9a-7104-4c0e-a48a-fcba3efc04ee",
   "metadata": {},
   "outputs": [
    {
     "name": "stdout",
     "output_type": "stream",
     "text": [
      "5\n"
     ]
    }
   ],
   "source": [
    "\n",
    "# This function will always add 5 no matter the input\n",
    "print(add_five(0))"
   ]
  },
  {
   "cell_type": "code",
   "execution_count": 3,
   "id": "c91461fc-ff02-46ef-a948-c610ecb4e41b",
   "metadata": {},
   "outputs": [
    {
     "name": "stdout",
     "output_type": "stream",
     "text": [
      "7 + 5 = 12\n",
      "8 + 5 = 13\n"
     ]
    }
   ],
   "source": [
    "\n",
    "# Now I will add a label showing the math that is occurring with the function in a string before the function and both will be printed\n",
    "print('7 + 5 =', add_five(7))\n",
    "print('8 + 5 =', add_five(8))"
   ]
  },
  {
   "cell_type": "markdown",
   "id": "cdb217da-6e4f-4105-90c4-ec5b229e4691",
   "metadata": {},
   "source": [
    "- This lesson teaches me how to create a function such as '<font color=\"blue\"> ***add_three_or_eight()*** </font>' where it performs an action that depends on the input. In which it adds 3 if the input is < 10 but adds eight if the input is >/= 10\n",
    "- This is achieved by conditions and conditional statements to modify how my functions run\n",
    "- I am excited!!!"
   ]
  },
  {
   "cell_type": "markdown",
   "id": "58e316e8-9608-4d5d-978d-609d69ab39d3",
   "metadata": {},
   "source": [
    "# **Conditions**\n",
    "= 'Statements that are either <font color=\"ForestGreen\"> **True** </font> or <font color=\"Red\"> **False** </font>\n",
    "\n",
    "= A condition, in programming, is like a **Decision-Making Rule** that helps the computer determine what actions to take.\n",
    "\n",
    "1. **Decision-Making Rule:** Consider it a set of instructions/rules that the computer follows. These rules involve:\n",
    "    - **Comparing** Values to decide **WHAT** should happen **NEXT**\n",
    "    - **Checking Situations** to decide **WHAT** should happen **NEXT**\n",
    ">\n",
    ">\n",
    "2. **Determining Actions:** Conditions are used to **decide which PART** of the program's instructions **should be EXECUTED** based on whether the condition is <font color=\"LimeGreen\"> **true**</font> or <font color=\"Crimson\"> **false** </font>.\n",
    "    - If the condition is <font color=\"LimeGreen\"> **True** </font>, one action is taken\n",
    "    - If the condition is <font color=\"Crimson\"> **False** </font>, another action is taken"
   ]
  },
  {
   "cell_type": "markdown",
   "id": "c504f2cb-b9a1-499c-8c4b-45351a0a1424",
   "metadata": {},
   "source": []
  },
  {
   "cell_type": "code",
   "execution_count": null,
   "id": "d0c45074-bee7-4608-a36d-fef2e9312e64",
   "metadata": {},
   "outputs": [],
   "source": []
  },
  {
   "cell_type": "markdown",
   "id": "cc857844-9d81-4baf-98e4-17cbd22333e9",
   "metadata": {},
   "source": [
    "### A. **<u>Practical Uses in Data Science<u>**\n",
    "###### *from ChatGPT*\n",
    "- This is a vital function to understand as its used to make decisions and used in data science in the following practical ways:\n",
    "| Area of use | How Conditions are Used in this area | Use Case (Eg) |\n",
    "| ----------- | -------- | ------------- |\n",
    "| **Data Filtering** | Conditions used to filter datasets based on specific criteria | 1. Filter a dataset to include only records where the sales are above a certain threshold |\n",
    "||| 2. Filter to where a customer's age is within a certain range |\n",
    "| **Data Cleaning** | Conditions help **identify** and **handle** missing or erroneous data | 1. Identify rows with missing values AND decide how to handle them, whether by imputing missing values or removing problematic records |\n",
    "| **Feature Engineering** | Used to create new features or variables based on existing data | Create a binary feature that indicates whether a customer has made a purchase in the last 30 days by using a condition to compare dates |\n",
    "| **Classification** | In Machine Learning, Conditions play a critical role in classification tasks. You can create conditions that classify data points into different categories or classes based on their features. | Determining whether an email is spam or not based on certain keywords or characteristics |\n",
    "| **Segmentation** | Help in segmenting data into groups for further analysis. | Segmenting customers into different groups based on their purchase history, allowing for targeted marketing strategies |\n",
    "| **Decision Trees** | Used at each node of the decision tree algorithm to split the data into subsets based on specific attributes or features. This recursive use of conditions helps in making complex decisions and predictions. | |\n",
    "| **A/B Testing** | Conditions are essential for conducting A/B tests, where you compare two versions of a product or website to determine which one performs better. | Conditions help to decide which users are exposed to which version of the test. |\n",
    "| **Outlier Detection** | Used to identify outliers in datasets. | Conditions can be set to detect these anomalies (outliers) |\n",
    "| **Rule-Based Systems** | In some cases, conditions are used to implement rule-based systems that make decisions or recommendations based on a set of predefined rules. | Fraud detection systems often use conditions to detect suspicious transactions |\n",
    "| **Data Visualization** | Used to customize data visualizations | 1. Apply conditions to highlight specific data points. |\n",
    "| | | 2. Apply conditions to highlight trends in charts and graphs |"
   ]
  },
  {
   "cell_type": "code",
   "execution_count": null,
   "id": "706a1283-d89b-491e-8dea-f6028f9c6e14",
   "metadata": {},
   "outputs": [],
   "source": []
  },
  {
   "cell_type": "markdown",
   "id": "9d019c63-ab48-451f-8826-5b2046bb304d",
   "metadata": {},
   "source": [
    "### B. **<u>Compare 2 different Literal Values<u>**\n",
    "The most common way to write conditions in Python programming\n",
    "\n",
    "Compare 2 different values:\n",
    "- Check if  **2 > 3**\n",
    ">\n",
    "> <font color=\"Blue\"> ***print(*** </font> <font color=\"Purple\"> **2 > 3** </font> <font color=\"blue\"> ***)*** </font>\n",
    ">\n",
    ">\n",
    "- The above is considered a <font color=\"Purple\"> **statement** </font> that contains the following within it:\n",
    "| Item | Name |\n",
    "| ---- | ---- |\n",
    "| '<font color=\"blue\"> ***print()***</font>' | a ***Command*** or ***Function*** |\n",
    "| '<font color=\"purple\"> **2 > 3** </font>' | an **Expression** aka an **Operation** aka a **Statement** |\n",
    "| '<font color=\"Orange\"> **2** </font>' | a **Operands** |\n",
    "| '<font color=\"Orange\"> **3** </font>' | a **Operands** |\n",
    "| '<font color=\"GoldenRod\"> **>** </font>' | a **Operator** specifically a **Comparison Operator** |"
   ]
  },
  {
   "cell_type": "code",
   "execution_count": 4,
   "id": "b61a13b5-ad25-467e-851b-3d721d3c7dae",
   "metadata": {},
   "outputs": [
    {
     "name": "stdout",
     "output_type": "stream",
     "text": [
      "Is 2 greater than 3?: False\n"
     ]
    }
   ],
   "source": [
    "# Basic most common condition\n",
    "# Compare 2 values to each other\n",
    "# Ask if 2 is greater than 3\n",
    "print(\"Is 2 greater than 3?:\", 2 > 3)"
   ]
  },
  {
   "cell_type": "code",
   "execution_count": null,
   "id": "0455bb04-6c22-47b2-844f-ff9df0979db8",
   "metadata": {},
   "outputs": [],
   "source": []
  },
  {
   "cell_type": "markdown",
   "id": "7f0e765e-65b3-4071-b3b8-b50aa1eb0bc8",
   "metadata": {},
   "source": [
    "### C. **<u>Compare the VALUEs of VARIABLES<u>**\n",
    "\n",
    "If you have 2 variables with individual values like:\n",
    ">\n",
    "> <font color=\"DarkCyan\"> **var_one** </font> has a value of <font color=\"Magenta\"> **1** </font>\n",
    ">\n",
    "><font color=\"DarkCyan\"> **var_two** </font> has a value of <font color=\"Magenta\"> **2** </font>\n",
    ">\n",
    ">\n",
    "##### **<u> Examples below </u>**"
   ]
  },
  {
   "cell_type": "markdown",
   "id": "f11e1413-18e4-4443-84c5-131ebe1ba561",
   "metadata": {},
   "source": [
    "##### </u>**Example 1.</u>**\n",
    "**is <font color=\"DarkCyan\"> var_one </font> <font color=\"GoldenRod\"> > </font> <font color=\"DarkCyan\"> var_two </font>?**\n",
    "- Since <font color=\"Magenta\"> **1** </font> is <font color=\"Crimson\"> **not** </font> <font color=\"GoldenRod\"> **greater than** </font> <font color=\"Magenta\"> **2** </font> the result should be <font color=\"Red\"> ***False*** </font>"
   ]
  },
  {
   "cell_type": "code",
   "execution_count": 5,
   "id": "521dd8b6-4654-43e6-ac00-e73320ec3b6c",
   "metadata": {},
   "outputs": [
    {
     "name": "stdout",
     "output_type": "stream",
     "text": [
      "'var_one' = 1\n",
      "'var_two' = 2\n",
      "\n",
      "is 'var_one' > 'var_two'?: False\n",
      "\n",
      "\n"
     ]
    }
   ],
   "source": [
    "# Assign the variables\n",
    "var_one = 1\n",
    "var_two = 2\n",
    "\n",
    "# Print labeled original values of variables\n",
    "print(\"'var_one' =\", var_one)\n",
    "print(\"'var_two' =\", var_two)\n",
    "\n",
    "# Blank\n",
    "print()\n",
    "\n",
    "# Ask if var_one is > var_two\n",
    "# Since 1 is NOT > than 2 it should result FALSE!\n",
    "print(\"is 'var_one' > 'var_two'?:\", var_one > var_two)\n",
    "\n",
    "# Blank\n",
    "print()\n",
    "print()"
   ]
  },
  {
   "cell_type": "markdown",
   "id": "48a9acab-b546-4441-9c10-dd2091e30cb5",
   "metadata": {},
   "source": [
    "##### </u>**Example 2.</u>**\n",
    "**is <font color=\"DarkCyan\"> var_one </font> <font color=\"GoldenRod\"> < </font> <font color=\"Magenta\"> 1 </font>?**\n",
    "- Since <font color=\"Magenta\"> **1** </font> is <font color=\"Crimson\"> **not** </font> <font color=\"GoldenRod\"> **less than** </font> <font color=\"Magenta\"> **1** </font> the result should be <font color=\"Red\"> ***False*** </font>"
   ]
  },
  {
   "cell_type": "code",
   "execution_count": 6,
   "id": "aa4927d7-29b5-4c0a-813d-8be2ba1c298b",
   "metadata": {},
   "outputs": [
    {
     "name": "stdout",
     "output_type": "stream",
     "text": [
      "'var_one' = 1\n",
      "'var_two' = 2\n",
      "\n",
      "is 'var_one' < 1?: False\n",
      "\n",
      "\n"
     ]
    }
   ],
   "source": [
    "# Assign the variables\n",
    "var_one = 1\n",
    "var_two = 2\n",
    "\n",
    "# Print labeled original values of variables\n",
    "print(\"'var_one' =\", var_one)\n",
    "print(\"'var_two' =\", var_two)\n",
    "\n",
    "# Blank\n",
    "print()\n",
    "\n",
    "# Ask if var_one is < 1\n",
    "print(\"is 'var_one' < 1?:\", var_one < 1)\n",
    "\n",
    "# Blank\n",
    "print()\n",
    "print()"
   ]
  },
  {
   "cell_type": "markdown",
   "id": "0c486a8b-0eb2-468e-adfd-39ba6d31f5fb",
   "metadata": {},
   "source": [
    "##### </u>**Example 3.</u>**\n",
    "**is <font color=\"DarkCyan\"> var_two </font> <font color=\"GoldenRod\"> > </font> <font color=\"DarkCyan\"> var_one </font>?**\n",
    "- Since <font color=\"Magenta\"> **2** </font> is <font color=\"Crimson\"> </font> <font color=\"GoldenRod\"> **greater than** </font> <font color=\"Magenta\"> **1** </font> the result should be <font color=\"ForestGreen\"> ***True*** </font>"
   ]
  },
  {
   "cell_type": "code",
   "execution_count": 7,
   "id": "13b47b0d",
   "metadata": {},
   "outputs": [
    {
     "name": "stdout",
     "output_type": "stream",
     "text": [
      "'var_one' = 1\n",
      "'var_two' = 2\n",
      "\n",
      "is 'var_two' > 'var_one'?: True\n",
      "\n",
      "\n"
     ]
    }
   ],
   "source": [
    "# Assign the variables\n",
    "var_one = 1\n",
    "var_two = 2\n",
    "\n",
    "# Print labeled original values of variables\n",
    "print(\"'var_one' =\", var_one)\n",
    "print(\"'var_two' =\", var_two)\n",
    "\n",
    "# Blank\n",
    "print()\n",
    "\n",
    "# Ask if var_two is > var_one\n",
    "print(\"is 'var_two' > 'var_one'?:\", var_two > var_one)\n",
    "\n",
    "# Blank\n",
    "print()\n",
    "print()"
   ]
  },
  {
   "cell_type": "markdown",
   "id": "d64cc508-5698-434b-a29d-e9124e6dac19",
   "metadata": {},
   "source": [
    "##### </u>**Example 4.</u>**\n",
    "**is <font color=\"DarkCyan\"> var_two </font> <font color=\"GoldenRod\"> > </font> <font color=\"Magenta\"> 2 </font>?**\n",
    "- Since <font color=\"Magenta\"> **2** </font> is <font color=\"Crimson\"> </font> <font color=\"GoldenRod\"> **EQUAL to** </font> <font color=\"Magenta\"> **2** </font> the result should be <font color=\"ForestGreen\"> ***True*** </font>"
   ]
  },
  {
   "cell_type": "code",
   "execution_count": 8,
   "id": "1da881ea",
   "metadata": {},
   "outputs": [
    {
     "name": "stdout",
     "output_type": "stream",
     "text": [
      "'var_one' = 1\n",
      "'var_two' = 2\n",
      "\n",
      "is 'var_two' > or = to 2?: True\n",
      "\n",
      "\n"
     ]
    }
   ],
   "source": [
    "# Assign the variables\n",
    "var_one = 1\n",
    "var_two = 2\n",
    "\n",
    "# Print labeled original values of variables\n",
    "print(\"'var_one' =\", var_one)\n",
    "print(\"'var_two' =\", var_two)\n",
    "\n",
    "# Blank\n",
    "print()\n",
    "\n",
    "# Ask if var_two is >/= 2\n",
    "print(\"is 'var_two' > or = to 2?:\", var_two >= 2)\n",
    "\n",
    "# Blank\n",
    "print()\n",
    "print()"
   ]
  },
  {
   "cell_type": "markdown",
   "id": "102c4d3f-4012-46c9-b1aa-26b70b505e03",
   "metadata": {},
   "source": [
    "**Check if two values are equal:**\n",
    "You will use the **Equality Operator** which is '<font color=\"GoldenRod\"> **==** </font>' \n",
    "\n",
    "##### </u>**Example 5.</u>**\n",
    "**Check if the value of <font color=\"DarkCyan\"> var_one </font>** is <font color=\"Magenta\"> **1** </font>\n"
   ]
  },
  {
   "cell_type": "code",
   "execution_count": 9,
   "id": "18b86248-4d39-4d9e-b728-3cfd94da9ac1",
   "metadata": {},
   "outputs": [
    {
     "name": "stdout",
     "output_type": "stream",
     "text": [
      "'var_one' = 1\n",
      "\n",
      "Is 'var_one' = to 1?: True\n"
     ]
    }
   ],
   "source": [
    "# Print var_one\n",
    "print(\"'var_one' =\", var_one)\n",
    "\n",
    "# Blank\n",
    "print()\n",
    "\n",
    "# Check if the value of var_one is 1. Should be true if it is\n",
    "print(\"Is 'var_one' = to 1?:\", var_one == 1)"
   ]
  },
  {
   "cell_type": "code",
   "execution_count": null,
   "id": "e1961d2f-fe9c-4756-91f6-19c93b372cea",
   "metadata": {},
   "outputs": [],
   "source": []
  },
  {
   "cell_type": "markdown",
   "id": "11076b5e-7d86-4918-818c-b23f0cebd4f6",
   "metadata": {},
   "source": [
    "### D. <u>**List of Common Symbols used to Construct Conditions**</u>:\n",
    "\n",
    "| Operator Type | Operation Performed | Operator | Example | Equivalent Too |\n",
    "| ------------- | ------------------- | -------- | ------- | -------------- |\n",
    "| **Arithmetic Operators** | | | | |\n",
    "|               | Addition | <font color=\"GoldenRod\"> **+** </font> | \n",
    "|               | Subtraction | <font color=\"GoldenRod\"> **-** </font>  | \n",
    "|               | Multiplication |   *   | \n",
    "|               | Division | <font color=\"GoldenRod\"> **/** </font> | \n",
    "|               | Modulus (Remainder) | <font color=\"GoldenRod\"> **%** </font> | \n",
    "|               | Floor Division (Integer division) | <font color=\"GoldenRod\"> **//** </font> | \n",
    "|               | Exponent |   **'<font color=\"GoldenRod\"> ** </font>'**  |\n",
    "| | | | | |\n",
    "| | | | | |\n",
    "| | | | | |\n",
    "| | | | | | \n",
    "| **Comparison Operator** | \n",
    "|               | **Equal to** | <font color=\"GoldenRod\"> **==** </font> | \n",
    "|               | **<font color=\"Crimson\"> Not </font> Equal to** | <font color=\"GoldenRod\"> **!=** </font> |\n",
    "|               | **Greater Than**    | <font color=\"GoldenRod\"> **>**  </font> | \n",
    "|               | **Lesser Than**      | **<font color=\"GoldenRod\"> <  </font>** |\n",
    "|               | **Greater than** *or* **Equal to** | <font color=\"GoldenRod\"> **>=**  </font> |\n",
    "|               | **Lesser Than** *or* **Equal to**  | **<font color=\"GoldenRod\"> <=  </font>** | \n",
    "| | | | | | \n",
    "| | | | | |\n",
    "| | | | | |\n",
    "| | | | | |\n",
    "| **Assignment Operator** |  | | | | |\n",
    "| 1. | **Assignment** | <font color=\"GoldenRod\"> **=** </font> | <font color=\"DarkCyan\"> ***a*** </font> <font color=\"GoldenRod\"> **=** </font> <font color=\"Magenta\"> **8** </font> |  | \n",
    "| | | | <font color=\"DarkCyan\"> ***b*** </font> <font color=\"GoldenRod\"> **=** </font> <font color=\"Magenta\"> **4** </font> | |  \n",
    "| | | | | | \n",
    "| | | | | |\n",
    "| 2. <font color=\"SlateGray\"> ***Add and Assign*** </font> | **ADDITION** and **Assignment** | <font color=\"GoldenRod\"> **+=** </font> | <font color=\"DarkCyan\"> ***a*** </font> <font color=\"GoldenRod\"> **+=** </font> <font color=\"Orange\"> **b** </font> | '<font color=\"DarkCyan\"> ***a*** </font>' **= (** <font color=\"DarkCyan\"> **a** </font> <font color=\"GoldenRod\"> **+** </font> <font color=\"Orange\"> **b** </font> **)** \n",
    "| | | | <font color=\"DarkCyan\"> ***y*** </font> <font color=\"GoldenRod\"> **+=** </font> <font color=\"Orange\"> **5** </font> | '<font color=\"DarkCyan\"> ***y*** </font>' **= (** <font color=\"DarkCyan\"> ***y*** </font> <font color=\"GoldenRod\"> **+** </font> <font color=\"Orange\"> **5** </font> **)** |\n",
    "| | | | | | |\n",
    "| | | | | | |\n",
    "| 3. <font color=\"SlateGray\"> ***Subtract and Assign*** </font>  | **SUBTRACTION** and **Assignment** | <font color=\"GoldenRod\"> **-=**  </font> | <font color=\"DarkCyan\"> ***a*** </font> <font color=\"GoldenRod\"> **-=** </font> <font color=\"Orange\"> **b** </font>| '<font color=\"DarkCyan\"> ***a*** </font>' **= (** <font color=\"DarkCyan\"> **a** </font> <font color=\"GoldenRod\"> **-** </font> <font color=\"Orange\"> **b** </font> **)** | \n",
    "| | | | <font color=\"DarkCyan\"> ***z*** </font> <font color=\"GoldenRod\"> **-=** </font> <font color=\"Orange\"> **3** </font> | '<font color=\"DarkCyan\"> ***z*** </font>' **= (** <font color=\"DarkCyan\"> ***z*** </font> <font color=\"GoldenRod\"> **-** </font> <font color=\"Orange\"> **3** </font> **)** | \n",
    "| | | | | | |\n",
    "| | | | | | |\n",
    "| 4. <font color=\"SlateGray\"> ***Multiply and Assign*** </font> | **MULTIPLICATION** and **Assignment**  | **' <font color=\"GoldenRod\">*=</font> '** | <font color=\"DarkCyan\"> ***a*** </font> **<font color=\"GoldenRod\">*=</font>** <font color=\"Orange\"> **b** </font> | '<font color=\"DarkCyan\"> ***a*** </font>' **= (** <font color=\"DarkCyan\"> **a** </font> **<font color=\"GoldenRod\">*</font>** <font color=\"Orange\"> **b** </font> **)** | \n",
    "| | | |<font color=\"DarkCyan\"> ***a*** </font> **<font color=\"GoldenRod\">*=</font>** <font color=\"Orange\"> **2** </font> | '<font color=\"DarkCyan\"> ***a*** </font>' **= (** <font color=\"DarkCyan\"> **a** </font> **<font color=\"GoldenRod\">*</font>** <font color=\"Orange\"> **2** </font> **)** | \n",
    "| | | | | | |\n",
    "| | | | | | |\n",
    "| 5. <font color=\"SlateGray\"> ***Divide and Assign*** </font> | **DIVISION** and **Assignment** | <font color=\"GoldenRod\"> **/=**  </font> | <font color=\"DarkCyan\"> **a** </font> <font color=\"GoldenRod\"> **/=** </font> <font color=\"Orange\"> **b** </font> | '<font color=\"DarkCyan\"> ***a*** </font>' **= (** <font color=\"DarkCyan\"> ***a*** </font> <font color=\"GoldenRod\"> **/** </font> <font color=\"Orange\"> **b** </font> **)** | \n",
    "| | | | <font color=\"DarkCyan\"> ***b*** </font> <font color=\"GoldenRod\"> **/=** </font> <font color=\"Orange\"> **4** </font> | '<font color=\"DarkCyan\"> ***b*** </font>' **= (** <font color=\"DarkCyan\"> ***b*** </font> <font color=\"GoldenRod\"> **/** </font> <font color=\"Orange\"> **4** </font> **)** | \n",
    "| | | | | | |\n",
    "| | | | | | |\n",
    "| 6. <font color=\"SlateGray\"> ***Modulus and Assign*** </font> | **DIVIDE** then **Assign** the ***Modulus***| **<font color=\"GoldenRod\"> %= </font>** | <font color=\"DarkCyan\"> ***a*** </font> <font color=\"GoldenRod\"> **%=** </font> <font color=\"Orange\"> **b** </font>| '<font color=\"DarkCyan\"> ***a*** </font>' **= (** <font color=\"DarkCyan\"> ***a*** </font> <font color=\"GoldenRod\"> **%** </font> <font color=\"Orange\"> **b** </font> **)** | \n",
    "| | | | | | |\n",
    "| | | | | | |\n",
    "| 7. <font color=\"SlateGray\"> ***Floor Division and Assign*** </font> | **DIVIDE** then **Assign** **truncated** result | **<font color=\"GoldenRod\"> //= </font>** | <font color=\"DarkCyan\"> ***a*** </font> <font color=\"GoldenRod\"> **//=** </font> <font color=\"Orange\"> **b** </font> | '<font color=\"DarkCyan\"> ***a*** </font>' **= (** <font color=\"DarkCyan\"> ***a*** </font> <font color=\"GoldenRod\"> **//** </font> <font color=\"Orange\"> **b** </font> **)** | \n",
    "| | | | | | |\n",
    "| | | | | | |\n",
    "| 8. <font color=\"SlateGray\"> ***Exponent and Assign*** </font> | **Exponentiation** and **Assignment**| <font color=\"GoldenRod\"> **= </font> | <font color=\"DarkCyan\"> ***a*** </font> <font color=\"GoldenRod\"> **= </font> <font color=\"Orange\"> ***3*** </font> | '<font color=\"DarkCyan\"> ***a*** </font>' **= (** <font color=\"DarkCyan\"> ***a*** </font> <font color=\"GoldenRod\"> ** </font> <font color=\"Orange\"> **3** </font> **)** |\n",
    "| | | | | | |\n",
    "| | | | | | |\n",
    "| | | | | | |\n",
    "| | | | | | |\n",
    "| **Logical Operator** | | | | | |\n",
    "|               | **Logical AND** | '<font color=\"GoldenRod\"> **and** </font>' | <font color=\"Orange\"> ***x*** </font> <font color=\"GoldenRod\"> **and** </font> <font color=\"Orange\"> ***y*** </font> | <font color=\"ForestGreen\"> ***True*** </font> if **BOTH** <font color=\"Orange\"> ***x*** </font> **and** <font color=\"Orange\"> ***y*** </font> are <font color=\"ForestGreen\"> ***True*** </font> |\n",
    "| | | | | | |\n",
    "| | | | | | |\n",
    "|               | **Logical OR** | '<font color=\"GoldenRod\"> **or** </font>' | <font color=\"Orange\"> ***x*** </font> <font color=\"GoldenRod\"> **or** </font> <font color=\"Orange\"> ***y*** </font> | <font color=\"ForestGreen\"> ***True*** </font> if **EITHER** <font color=\"Orange\"> ***x*** </font> **or** <font color=\"Orange\"> ***y*** </font> is <font color=\"ForestGreen\"> ***True*** </font> \n",
    "| | | | | | |\n",
    "| | | | | | |\n",
    "|               | **Logical NOT** | '<font color=\"GoldenRod\"> **not**  </font>' |  | | | \n",
    "| | | |if <font color=\"DarkCyan\"> ***x*** </font> <font color=\"Magenta\"> **=** </font> <font color=\"ForestGreen\"> ***True*** </font> <font color=\"GoldenRod\"> **not** </font> <font color=\"DarkCyan\"> ***x*** </font> | <font color=\"Red\"> ***False*** </font> since it's the **inverse** of <font color=\"ForestGreen\"> ***True*** </font> |\n",
    "| | | | if <font color=\"DarkCyan\"> ***y*** </font> <font color=\"Magenta\"> **=** </font> <font color=\"Red\"> ***False*** </font> <font color=\"GoldenRod\"> **not** </font> <font color=\"DarkCyan\"> ***y*** </font> | <font color=\"ForestGreen\"> ***True*** </font> since its the **inverse** of <font color=\"Red\"> ***False*** </font> |\n",
    "| | | | | | \n",
    "| | | | | |\n",
    "| | | | | |\n",
    "| | | | | |"
   ]
  },
  {
   "cell_type": "code",
   "execution_count": null,
   "id": "3a2c6f94-3984-480b-a591-9aa02c09efe3",
   "metadata": {},
   "outputs": [],
   "source": []
  },
  {
   "cell_type": "code",
   "execution_count": null,
   "id": "e3ecabc6-5757-4a51-8704-5439ec473555",
   "metadata": {},
   "outputs": [],
   "source": []
  },
  {
   "cell_type": "code",
   "execution_count": null,
   "id": "dffd28fc-ce8a-4999-8d4d-b5a198828feb",
   "metadata": {},
   "outputs": [],
   "source": []
  },
  {
   "cell_type": "markdown",
   "id": "032f4b75-afaf-4dde-9752-18a4baaa610a",
   "metadata": {},
   "source": [
    "# **Conditional Statements**\n",
    "\n",
    "- 'Use conditions to modify how your <font color=\"Blue\"> **function** </font> runs.'\n",
    "- 'They check the <font color=\"Magenta\"> **value** </font> of a **condition**:\n",
    "| If the condition . . . | Then . . . |\n",
    "| ---------------------- | ---------- |\n",
    "| . . . evaluates to <font color=\"ForestGreen\"> ***True*** </font> |  . . . a certain **block code** is <font color=\"LimeGreen\"> **EXECUTED** </font> |\n",
    "| | |\n",
    "| . . . evaluates to <font color=\"Red\"> ***False*** </font> | . . . the **block code** is <font color=\"Crimson\"> **NOT EXECUTED** </font> |"
   ]
  },
  {
   "cell_type": "markdown",
   "id": "472eb6eb-d111-49e6-80bd-572dc9dbb805",
   "metadata": {},
   "source": [
    "## I. **Types of Conditional Statements**\n",
    "| \"<font color=\"DeepSkyBlue\"> **keyword** </font> that starts the conditional statement | ? |\n",
    "| ---- | - |\n",
    "| \"<font color=\"DeepSkyBlue\"> **if** </font>\" statements | |\n",
    "| | |\n",
    "| \"<font color=\"DeepSkyBlue\"> **if . . . else** </font>\" statements | |\n",
    "| | |\n",
    "| \"<font color=\"DeepSkyBlue\"> **if . . . elif . . . else** </font>\" statements | |\n",
    "| | |"
   ]
  },
  {
   "cell_type": "markdown",
   "id": "2d0f6e98-7752-4a40-91a3-41b2478a9ba7",
   "metadata": {},
   "source": [
    "### A. <u>**\"<font color=\"DeepSkyBlue\"> if </font>\" statements: </u>**\n",
    "= The 'simplest type of <font color=\"DeepSkyBlue\"> **conditional statement** </font>'\n",
    "\n",
    "Best explained in an example\n",
    "> '<font color=\"Blue\"> **evaluate_temp()** </font>'\n",
    "- The above <font color=\"blue\"> **function** </font> accepts a <font color=\"Magenta\"> **body temperature** *(in Celcius)* </font> as **input** in it's **<font color=\"Blue\"> ( ) </font>**\n"
   ]
  },
  {
   "cell_type": "markdown",
   "id": "baf7e244-a393-42c9-9504-ff898deaae97",
   "metadata": {},
   "source": [
    "#### i. <u>**Explanation with Example**</u>\n",
    ">\n",
    "<font color=\"Purple\"> **def** </font> <font color=\"Blue\"> ***evaluate_temp(*** </font> <font color=\"LightSeaGreen\"> **temp** </font> <font color=\"Blue\"> ***):*** </font>\n",
    "> <font color=\"DarkCyan\"> ***message*** </font> <font color=\"GoldenRod\"> **=** </font> <font color=\"Magenta\"> **\"Normal temperature.\"** </font>\n",
    ">\n",
    "> <font color=\"DeepSkyBlue\"> **if** </font> <font color=\"LightSeaGreen\"> ***temp*** <font color=\"GoldenRod\"> **>** </font> <font color=\"Magenta\"> **38** </font> <font color=\"SteelBlue\"> **:** </font>\n",
    ">\n",
    "> > <font color=\"DarkCyan\"> ***message*** </font> <font color=\"GoldenRod\"> **=** </font> <font color=\"Magenta\"> **\"Fever!\"** </font>\n",
    ">\n",
    "> <font color=\"Purple\"> **return** </font> <font color=\"DarkCyan\"> ***message*** </font>\n",
    "        \n",
    "In Python, a <font color=\"LightSeaGreen\"> **parameter** </font> is a <font color=\"DarkCyan\"> ***variable*** </font> that is part of a <font color=\"Blue\"> **function's** </font> **definition** and **acts as a placeholder** for the <font color=\"Magenta\"> **value** </font> that will be passed as an <font color=\"Red\"> **argument** </font> when the <font color=\"Blue\"> **function** </font> is called. <font color=\"Red\"> **Arguments** </font> are the <font color=\"Magenta\"> **actual values** </font> that you pass to the <font color=\"Blue\"> **function** </font> when calling it. So, 'temp' is a parameter that will receive an argument when you call the 'evaluate_temp()' function."
   ]
  },
  {
   "cell_type": "markdown",
   "id": "c59c0973-ad1e-4ac9-bf51-69b53b2b5e9d",
   "metadata": {},
   "source": [
    "##### **This is a custom made function created by the following steps:**\n",
    "\n",
    "1. Start out with the standard format to define and create a custom function in Python. No indent needed\n",
    "      > \n",
    "      <font color=\"BlueViolet\"> **def** </font> <font color=\"Blue\"> ***evaluate_temp(*** </font> <font color=\"LightSeaGreen\"> **temp** </font> <font color=\"Blue\"> ***)*** </font> <font color=\"SteelBlue\"> ***:*** </font>\n",
    "     > | | Term | Meaning | |\n",
    "     > | -- | -- | ------ | --- |\n",
    "     > | **'<font color=\"BlueViolet\"> **def** </font>'** | **Keyword** | That is  used to custom create a function and is short for <font color=\"BlueViolet\"> **definition** </font> | |\n",
    "     > | | | | |\n",
    "     > | | | | |\n",
    "     > |  **'<font color=\"Blue\"> ***evaluate_temp()*** </font>'** | **Custom Function Name** | That is being used to **Call Upon** this custom <font color=\"Blue\"> ***Function*** </font> | |\n",
    "     > | | | | |\n",
    "     > | | | | |\n",
    "     > | **'<font color=\"LightSeaGreen\"> **temp** </font>'** | **Parameter** | Is a **placeholder** for the <font color=\"Magenta\"> **temperature value** </font> |\n",
    "     > | | | It's what is passed as an <font color=\"Red\"> ***argument*** </font> when the <font color=\"Blue\"> **function** </font> is called |\n",
    "     > | | | Considered the **<font color=\"DeepSkyBlue\"> condition </font>** being checked |\n",
    "     > | | | | |\n",
    "     > | | | | |\n",
    "     > | **'<font color=\"SteelBlue\"> : </font>'** | a **colon** | Signifies the **start** of a <font color=\"SteelBlue\"> **code block** </font> . . .|\n",
    "     > | | | . . .for the control structure <font color=\"BlueViolet\"> **defining** </font> the <font color=\"Blue\"> custom ***function*** </font> |\n",
    "     > | | | Signals that the following indented <font color=\"SteelBlue\"> **lines of code** </font> . . . |\n",
    "     > | | | . . . underneath are part of the <font color=\"blue\"> ***functions*** </font> <font color=\"BlueViolet\"> **definition** </font> |\n",
    "     > "
   ]
  },
  {
   "cell_type": "markdown",
   "id": "5463fe7d-8964-461a-b4f8-718333bd14e3",
   "metadata": {},
   "source": [
    ">\n",
    "> \n",
    "2. <font color=\"SlateGray\"> **ENTER** </font> and <font color=\"SlateGray\"> **TAB** </font>\n",
    "    - should be **4 spaces** = 1 \"<font color=\"SlateGray\"> **TAB** </font>\n",
    ">\n",
    ">\n",
    "3. Set an initial **local variable** called '<font color=\"DarkCyan\"> ***message*** </font>' to contain the **text string** <font color=\"Magenta\"> **\"Normal temperature.\"** </font>\n",
    "     > <font color=\"DarkCyan\"> **message** </font> <font color=\"GoldenRod\"> **=** </font> <font color=\"Magenta\"> **\"Normal Temperature.\"** </font> \n",
    "     > | | Term | Meaning | |\n",
    "     > | -- | -- | ------ | --- |\n",
    "     > | **'<font color=\"DarkCyan\"> **message** </font>'** | **Local Variable** | That is <font color=\"BlueViolet\"> **defined** </font> with**IN** the ***function**** <font color=\"Blue\"> ***evaluate_temp()*** </font> | |\n",
    "     > | | | can **ONLY** be **Accessed** with**IN** that <font color=\"Blue\"> ***function*** </font> | |\n",
    "     > | | | | |\n",
    "     > | | | | |\n",
    "     > |  **'<font color=\"GoldenRod\"> **=** </font>'** | **Assignment Operator** | That is being used to **ASSIGN** the text string <font color=\"Magenta\"> **value** </font> to the local variable | |\n",
    "     > | | | Assigning <font color=\"Magenta\"> **\"Normal temperature.\"** </font> text string value to the '<font color=\"DarkCyan\"> ***message*** </font>' variable | |\n",
    "     > | | | | |\n",
    "     > | | | | |\n",
    "     > | **'<font color=\"Magenta\"> **\"Normal Temperature.\"** </font>'** | The **Text String Value** | A **String** that has been **Assigned** to the '<font color=\"DarkCyan\"> ***message*** </font>' variable |\n",
    "     > | | | based on a condition in the code | |\n",
    "     >\n",
    "     > "
   ]
  },
  {
   "cell_type": "markdown",
   "id": "1bc8a07f-282c-48ba-9bf5-b2a0eeeacfda",
   "metadata": {},
   "source": [
    ">\n",
    "> \n",
    "4. <font color=\"SlateGray\"> **ENTER** </font> and ensure there is still an **Single** indent (<font color=\"SlateGray\"> **TAB** </font> from the '<font color=\"BlueViolet\"> **def** </font>' line)\n",
    ">\n",
    ">\n",
    "5. Set the <font color=\"DeepSkyBlue\"> **if** </font> **statement**:\n",
    "     > <font color=\"DeepSkyBlue\"> **if** </font> <font color=\"LightSeaGreen\"> **temp** </font> <font color=\"GoldenRod\"> **>** </font> <font color=\"Magenta\"> **38** </font> <font color=\"SteelBlue\"> **:** </font>\n",
    "     > | | Term | Meaning |\n",
    "     > | -- | -- | ------ |\n",
    "     > | **'<font color=\"DeepSkyBlue\"> **if** </font>'** | **Keyword** | That starts a **<font color=\"DeepSkyBlue\"> conditional statement** </font> |\n",
    "     > | | | |\n",
    "     > | | | |\n",
    "     > | **'<font color=\"LightSeaGreen\"> temp </font>'** | **Parameter** | Is a **placeholder** for the <font color=\"Magenta\"> **temperature value** </font> |\n",
    "     > | | | It's what is passed as an <font color=\"Red\"> ***argument*** </font> when the <font color=\"Blue\"> **function** </font> is called |\n",
    "     > | | | Considered the **<font color=\"DeepSkyBlue\"> condition </font>** being checked |\n",
    "     > | | | |\n",
    "     > | | | |\n",
    "     > |  **'<font color=\"GoldenRod\"> **>** </font>'** | **Comparison Operator** | That is being used to **Check** if **'<font color=\"LightSeaGreen\"> **temp** </font>'** is **GREATER** than the numeric value below |\n",
    "     > | | | |\n",
    "     > | | | |\n",
    "     > | **'<font color=\"Magenta\"> **38** </font>'** | The **Numeric Value** | The **THRESHOLD** for **Comparison** |\n",
    "     > | | | |\n",
    "     > | | | |\n",
    "     > | **'<font color=\"SteelBlue\"> : </font>'** | a **colon** | Signifies the **start** of a <font color=\"SteelBlue\"> **code block** </font> for the control structure <font color=\"DeepSkyBlue\"> **if** </font> **statement** |\n",
    "     > | | | If the <font color=\"DeepSkyBlue\"> **condition** </font> <font color=\"LightSeaGreen\"> **temp** </font> <font color=\"GoldenRod\"> **>** </font> <font color=\"Magenta\"> **38** </font> is <font color=\"ForestGreen\"> ***True*** </font> then the indented <font color=\"SteelBlue\"> **indented code block** </font> underneath is **EXECUTED** . . .|\n",
    "     > | | | . . . Which **UPDATES** the <font color=\"Magenta\"> **value** </font> of local variable '<font color=\"DarkCyan\"> ***message*** </font>' to be <font color=\"Magenta\"> **\"Fever!\"** </font> in this particular example |"
   ]
  },
  {
   "cell_type": "markdown",
   "id": "0589234a-4258-43f5-8c79-a2a9569b6e31",
   "metadata": {},
   "source": [
    ">\n",
    "> \n",
    "6. <font color=\"SlateGray\"> **ENTER** </font> and <font color=\"SlateGray\"> **TAB** </font>\n",
    "    - should be **4 spaces** = 1 \"<font color=\"SlateGray\"> **TAB** </font>\n",
    ">\n",
    ">\n",
    "3. Set an initial **local variable** called '<font color=\"DarkCyan\"> ***message*** </font>' to contain the **text string** <font color=\"Magenta\"> **\"Normal temperature.\"** </font>\n",
    "     > <font color=\"DarkCyan\"> **message** </font> <font color=\"GoldenRod\"> **=** </font> <font color=\"Magenta\"> **\"Normal Temperature.\"** </font> \n",
    "     > | | Term | Meaning | |\n",
    "     > | -- | -- | ------ | --- |\n",
    "     > | **'<font color=\"DarkCyan\"> **message** </font>'** | **Local Variable** | That is <font color=\"BlueViolet\"> **defined** </font> with**IN** the ***function**** <font color=\"Blue\"> ***evaluate_temp()*** </font> | |\n",
    "     > | | | can **ONLY** be **Accessed** with**IN** that <font color=\"Blue\"> ***function*** </font> | |\n",
    "     > | | | | |\n",
    "     > | | | | |\n",
    "     > |  **'<font color=\"GoldenRod\"> **=** </font>'** | **Assignment Operator** | That is being used to **ASSIGN** the text string <font color=\"Magenta\"> **value** </font> to the local variable | |\n",
    "     > | | | Assigning <font color=\"Magenta\"> **\"Normal temperature.\"** </font> text string value to the '<font color=\"DarkCyan\"> ***message*** </font>' variable | |\n",
    "     > | | | | |\n",
    "     > | | | | |\n",
    "     > | **'<font color=\"Magenta\"> **\"Normal Temperature.\"** </font>'** | The **Text String Value** | A **String** that has been **Assigned** to the '<font color=\"DarkCyan\"> ***message*** </font>' variable |\n",
    "     > | | | based on a condition in the code | |\n",
    "     >\n",
    "     > "
   ]
  },
  {
   "cell_type": "code",
   "execution_count": null,
   "id": "da25035f-498b-4a25-b202-188a5cebbfa9",
   "metadata": {},
   "outputs": [],
   "source": []
  },
  {
   "cell_type": "markdown",
   "id": "a3178884-50d6-4ea0-883d-8344d1783629",
   "metadata": {},
   "source": [
    "### I. or 1. or A. **<u>Sub-Section within main Name of Section<u>**"
   ]
  },
  {
   "cell_type": "markdown",
   "id": "1db4dd9a-6b0b-4546-8bdb-ffa891260287",
   "metadata": {},
   "source": [
    "#### i. or a. or 1. <u>***Sub-Sub section***<u>"
   ]
  },
  {
   "cell_type": "markdown",
   "id": "3206156a-a734-43ca-883c-967c9a5a8bb1",
   "metadata": {
    "tags": []
   },
   "source": [
    "##### **Example 1**"
   ]
  }
 ],
 "metadata": {
  "kernelspec": {
   "display_name": "Python 3 (ipykernel)",
   "language": "python",
   "name": "python3"
  },
  "language_info": {
   "codemirror_mode": {
    "name": "ipython",
    "version": 3
   },
   "file_extension": ".py",
   "mimetype": "text/x-python",
   "name": "python",
   "nbconvert_exporter": "python",
   "pygments_lexer": "ipython3",
   "version": "3.11.5"
  }
 },
 "nbformat": 4,
 "nbformat_minor": 5
}
