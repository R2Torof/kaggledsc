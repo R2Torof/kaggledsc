{
 "cells": [
  {
   "cell_type": "markdown",
   "id": "6084d75e",
   "metadata": {},
   "source": [
    "# Introduction to Programming Kaggle Course\n",
    "#### Notes and practice from course\n",
    "###### <u>*The following rules for references apply in markdown notes*<u>\n",
    "###### - *Things in \"quotes\" in markdown are direct quotes from ***Coding for Beginner's In Easy Steps 2nd Edition*** book*\n",
    "###### - *Things in 'quotes' in markdown are direct quotes from ***Kaggle Course*** okay*"
   ]
  },
  {
   "cell_type": "markdown",
   "id": "65829808",
   "metadata": {},
   "source": [
    "# <u>**Intro to Lists**<u>\n",
    "#### <font color=\"DimGray\"> Organize your data so you can work with it effiently </font>\n",
    "\n",
    "- 'Python has many data structures available for holding your data such as:\n",
    "    - **Lists**\n",
    "    - **Sets**\n",
    "    - **Dictionaries**\n",
    "    - **Tuples**\n",
    ">\n",
    ">\n",
    "- This tutorial is learning to work with Python lists "
   ]
  },
  {
   "cell_type": "markdown",
   "id": "58e316e8-9608-4d5d-978d-609d69ab39d3",
   "metadata": {},
   "source": [
    "## **I. Motivation**\n",
    "\n",
    "- Referenced the [Petal to the metal competition on Kaggle](https://www.kaggle.com/c/tpu-getting-started) where you 'classify the species of a flower based only on its image' = **Image Classification** ('a common task in computer vision')\n",
    "- One goal within the competition it to organize the **names of the flower species in the data**\n",
    "    - This can be acheived in 2 ways:\n",
    ">\n",
    ">\n",
    "\n",
    "| Way | Code |\n",
    "| --- | ---- |\n",
    "| Python **String** | <font color=\"darkcyan\"> **flowers_string** </font> <font color=\"GoldenRod\"> = </font> <font color=\"magenta\"> **\"pink primrose, hard-leaved pocket orchid, canterbury bells, sweet pea, english marigold, tiger lily, moon orchid, bird of paradise, monkshood, globe thistle\"** </font> |\n",
    "| | <font color=\"blue\"> **print(** </font> <font color=\"dodgerblue\"> **type(** </font> <font color=\"darkcyan\"> **flowers_string** </font> <font color=\"dodgerblue\"> **)** </font> <font color=\"blue\"> **)** </font> |\n",
    "| | <font color=\"blue\"> **print(** </font> <font color=\"darkcyan\"> **flowers_string** </font> <font color=\"DarkCyan\"> **)** </font> |\n",
    "| | |\n",
    "| | |\n",
    "| Python **List** | <font color=\"darkcyan\"> **flowers_list** </font> <font color=\"GoldenRod\"> = </font> <font color=\"blue\"> **[** </font> <font color=\"magenta\"> **\"pink primrose\"** </font> <font color=\"blue\"> **,** </font> <font color=\"magenta\"> **\"hard-leaved pocket orchid\"** </font> <font color=\"blue\"> **,** </font> <font color=\"magenta\"> **\"canterbury bells\"** </font> <font color=\"blue\"> **,** </font> <font color=\"magenta\"> **\"sweet pea\"** </font> <font color=\"blue\"> **,** </font> <font color=\"magenta\"> **\"english marigold\"** </font> <font color=\"blue\"> **,** </font> <font color=\"magenta\"> **\"tiger lily\"** </font> <font color=\"blue\"> **,** </font> <font color=\"magenta\"> **\"moon orchid\"** </font> <font color=\"blue\"> **,** </font> <font color=\"magenta\"> **\"bird of paradise\"** </font> <font color=\"blue\"> **,** </font> <font color=\"magenta\"> **\"monkshood\"** </font> <font color=\"blue\"> **,** </font> <font color=\"magenta\"> **\"globe thistle\"** </font> <font color=\"blue\"> **]** </font> |\n",
    "| | <font color=\"blue\"> **print(** </font> <font color=\"dodgerblue\"> **type(** </font> <font color=\"darkcyan\"> **flowers_list** </font> <font color=\"dodgerblue\"> **)** </font> <font color=\"blue\"> **)** </font> |\n",
    "| | <font color=\"blue\"> **print(** </font> <font color=\"darkcyan\"> **flowers_list** </font> <font color=\"DarkCyan\"> **)** </font> |\n",
    "| | |\n",
    "| | |"
   ]
  },
  {
   "cell_type": "code",
   "execution_count": 1,
   "id": "7fc1da35-3185-432e-b5e3-e092c33234f5",
   "metadata": {},
   "outputs": [
    {
     "name": "stdout",
     "output_type": "stream",
     "text": [
      "<class 'str'>\n",
      "pink primrose, hard-leaved pocket orchid, canterbury bells, sweet pea, english marigold, tiger lily, moon orchid, bird of paradise, monkshood, globe thistle\n"
     ]
    }
   ],
   "source": [
    "\n",
    "# Python String example from table above\n",
    "\n",
    "# Assign the string to the variable 'flowers_string'\n",
    "flowers_string = \"pink primrose, hard-leaved pocket orchid, canterbury bells, sweet pea, english marigold, tiger lily, moon orchid, bird of paradise, monkshood, globe thistle\"\n",
    "\n",
    "# Print the variable class type\n",
    "print(type(flowers_string))\n",
    "\n",
    "# Print the string contained in the 'flowers_string' variable\n",
    "print(flowers_string)\n"
   ]
  },
  {
   "cell_type": "code",
   "execution_count": 2,
   "id": "18022270-6191-426f-ba45-9dc9ed78e273",
   "metadata": {},
   "outputs": [
    {
     "name": "stdout",
     "output_type": "stream",
     "text": [
      "<class 'list'>\n",
      "\n",
      "['pink primrose', 'hard-leaved pocket orchid', 'canterbury bells', 'sweet pea', 'english marigold', 'tiger lily', 'moon orchid', 'bird of paradise', 'monkshood', 'globe thistle']\n"
     ]
    }
   ],
   "source": [
    "\n",
    "# Python list example from table above\n",
    "\n",
    "# Assign the list to the variable 'flowers_list'\n",
    "flowers_list = [\"pink primrose\", \"hard-leaved pocket orchid\", \"canterbury bells\", \"sweet pea\", \"english marigold\", \"tiger lily\", \"moon orchid\", \"bird of paradise\", \"monkshood\", \"globe thistle\"]\n",
    "\n",
    "# Print the variable class type in print\n",
    "print(type(flowers_list))\n",
    "print()\n",
    "\n",
    "# Print the list contained in the 'flowers_list' variable\n",
    "print(flowers_list)\n"
   ]
  },
  {
   "cell_type": "code",
   "execution_count": 3,
   "id": "98963abc-0d46-4b09-abd4-5642645989ea",
   "metadata": {},
   "outputs": [
    {
     "data": {
      "text/plain": [
       "list"
      ]
     },
     "execution_count": 3,
     "metadata": {},
     "output_type": "execute_result"
    }
   ],
   "source": [
    "type(flowers_list)"
   ]
  },
  {
   "cell_type": "code",
   "execution_count": 4,
   "id": "a2725250-b6ed-45bf-9bf3-6c54d087b433",
   "metadata": {},
   "outputs": [
    {
     "data": {
      "text/plain": [
       "str"
      ]
     },
     "execution_count": 4,
     "metadata": {},
     "output_type": "execute_result"
    }
   ],
   "source": [
    "type(flowers_string)"
   ]
  },
  {
   "cell_type": "code",
   "execution_count": null,
   "id": "782979bf-3972-4000-84a2-96366b911d9f",
   "metadata": {},
   "outputs": [],
   "source": []
  },
  {
   "cell_type": "code",
   "execution_count": null,
   "id": "283fe390-0c4b-4e9c-8b6e-2e2f87eead5d",
   "metadata": {},
   "outputs": [],
   "source": []
  },
  {
   "cell_type": "markdown",
   "id": "7b484402-6606-4769-9e98-df44787d23a9",
   "metadata": {},
   "source": [
    ">\n",
    ">\n",
    "## **II. Lists:**\n",
    "\n",
    "- Create a python list by using **square brackets** ( <font color=\"blue\"> **[ ]** </font> ) and separate each <font color=\"magenta\"> **item** </font> of the list by a <font color=\"blue\"> **comma** </font>\n",
    ">\n",
    ">\n",
    "- Every <font color=\"magenta\"> **item** </font> within a Python **list** is in itself it's **own string**.\n",
    "    - So each <font color=\"magenta\"> **item** </font> is itself enclosed in <font color=\"magenta\"> **quotation marks** </font>\n",
    ">\n",
    ">\n",
    "> <font color=\"darkcyan\"> **variable_containing_list** </font> <font color=\"GoldenRod\"> = </font> <font color=\"blue\"> **[** </font> <font color=\"magenta\"> **\"item 1\"** </font> <font color=\"blue\"> **,** </font> <font color=\"magenta\"> **\"item 2\"** </font> <font color=\"blue\"> **,** </font> <font color=\"magenta\"> **\"item 3\"** </font> <font color=\"blue\"> **]** </font>"
   ]
  },
  {
   "cell_type": "code",
   "execution_count": null,
   "id": "c1577686-8eb7-487f-8777-e5a16bb797b9",
   "metadata": {},
   "outputs": [],
   "source": []
  },
  {
   "cell_type": "markdown",
   "id": "56d65716-6220-468d-b95e-e6fe4bcbb961",
   "metadata": {},
   "source": [
    ">\n",
    ">\n",
    "### II. **A. <u>List Operations:</u>**\n",
    "\n",
    "- Although this does not look much different in output to a **String** in reality this subtle difference comes with a lot of function.\n",
    "- 'There are a lot of tasks that you can more easily do with a list.'\n",
    "- A list of the kinds of actions that can be performed on lists are in the below table:\n",
    "    - **method** = a type of <font color=\"blue\"> **function** </font> that is associated with an object (in this case a list object). When you use it you are calling a method of the list object to perform a specific operation\n",
    "    - So the **method** is listed in the table below and the **Action** the **method performs** is referred to as an **\"operation\"** on the list\n",
    ">\n",
    ">\n",
    "\n",
    "| Operation Name | Code | Description of Operation | Use case |\n",
    "| -------------- | ------ | ------------------------ | -------- |\n",
    "| **Length** | '<font color=\"blue\"> **len(** </font> <font color=\"darkcyan\"> **NameOfList** </font> <font color=\"blue\"> **)** </font>' | Check the number of items contained in a list | String you can't get a number of how much is contained in it besides length of characters. |\n",
    "| | | | With lists you can get the actual number of individual unique items within it. |\n",
    "| | | | So you can get that the flower variable contains X flower names |\n",
    "| | | | |\n",
    "| | | | |\n",
    "| **Indexing** | | Get an item at a specific position (first, second, third, etc) within the list | Can pull out only the 3rd item in the list | |\n",
    "| | | | |\n",
    "| | | | |\n",
    "| **Slicing** | | | |\n",
    "| | | | |\n",
    "| | | | |\n",
    "| **Item Removal** or **Element Removal** | | | |\n",
    "| | | | |\n",
    "| | | | |\n",
    "| **Appending** | | ||\n",
    "| | | | |\n",
    "| | | | |"
   ]
  },
  {
   "cell_type": "code",
   "execution_count": null,
   "id": "002ba8c1-f4ea-4b23-bfa7-a94003316e5d",
   "metadata": {},
   "outputs": [],
   "source": []
  },
  {
   "cell_type": "markdown",
   "id": "ad874ae3-2eb1-4236-aa1d-1d41491abb0f",
   "metadata": {},
   "source": [
    "#### II. A. **i. <u> Length: </u>**\n",
    ">\n",
    ">\n",
    "> '<font color=\"blue\"> **len()** </font>'\n",
    ">\n",
    ">\n",
    "\n",
    "= Count the number of **entries** in any **list** with the '<font color=\"blue\"> **len()** </font>' function.\n",
    "\n",
    "- Input the **name of the list** into the <font color=\"blue\"> **( )** </font> of the '<font color=\"blue\"> **len()** </font>' function\n",
    ">\n",
    ">\n",
    "> <font color=\"blue\"> **len(** </font> <font color=\"darkcyan\"> **NameOfList** </font> <font color=\"blue\"> **)** </font>\n",
    ">\n",
    ">\n",
    "OR\n",
    ">\n",
    ">\n",
    "> <font color=\"blue\"> **print(** </font> <font color=\"dodgerblue\"> **len(** </font> <font color=\"darkcyan\"> **NameOfList** </font> <font color=\"dodgerblue\"> **)** </font> <font color=\"blue\"> **)** </font>"
   ]
  },
  {
   "cell_type": "markdown",
   "id": "94c41750-e8aa-4296-bc2a-1f666455551a",
   "metadata": {},
   "source": [
    ">\n",
    ">\n",
    "##### II. A. i. **1. <u> Example 1: </u>**\n",
    "- Reprint the <font color=\"darkcyan\"> **flowers_list** </font>\n",
    "- Then call its length to determine how many flower names are contained in the list\n",
    "- Perform this in the code cell below\n",
    ">\n",
    ">"
   ]
  },
  {
   "cell_type": "code",
   "execution_count": 5,
   "id": "b2961ac8-4eaa-4aef-a8fc-47c28d264f34",
   "metadata": {},
   "outputs": [
    {
     "name": "stdout",
     "output_type": "stream",
     "text": [
      "['pink primrose', 'hard-leaved pocket orchid', 'canterbury bells', 'sweet pea', 'english marigold', 'tiger lily', 'moon orchid', 'bird of paradise', 'monkshood', 'globe thistle']\n",
      "\n"
     ]
    },
    {
     "data": {
      "text/plain": [
       "10"
      ]
     },
     "execution_count": 5,
     "metadata": {},
     "output_type": "execute_result"
    }
   ],
   "source": [
    "\n",
    "# Print the original contents of the list in the 'flowers_list' variable\n",
    "print( flowers_list )\n",
    "\n",
    "# Blank for clarity\n",
    "print()\n",
    "\n",
    "# Call the length of the list: How many names are contained in the list?\n",
    "len( flowers_list )\n"
   ]
  },
  {
   "cell_type": "code",
   "execution_count": 6,
   "id": "4999f1c7-3c05-419e-91c9-0335dd66dfb3",
   "metadata": {},
   "outputs": [
    {
     "name": "stdout",
     "output_type": "stream",
     "text": [
      "10\n",
      "Total number of flower names contained in the list = 10\n"
     ]
    }
   ],
   "source": [
    "\n",
    "# Do it as a print function \n",
    "print( len( flowers_list ) )\n",
    "print( 'Total number of flower names contained in the list =', len( flowers_list ) )"
   ]
  },
  {
   "cell_type": "code",
   "execution_count": null,
   "id": "d3735786-49ee-4eef-acf9-d620e1d5169c",
   "metadata": {},
   "outputs": [],
   "source": []
  },
  {
   "cell_type": "markdown",
   "id": "39678435-6441-4a54-b90f-76ca3b5119c3",
   "metadata": {},
   "source": [
    "#### II. A. **ii. <u> Indexing: </u>**"
   ]
  },
  {
   "cell_type": "markdown",
   "id": "a3178884-50d6-4ea0-883d-8344d1783629",
   "metadata": {},
   "source": [
    "### I. **A. <u>Sub-Section within main Name of Section:</u>**"
   ]
  },
  {
   "cell_type": "markdown",
   "id": "1db4dd9a-6b0b-4546-8bdb-ffa891260287",
   "metadata": {},
   "source": [
    "#### I. A. **i. Sub-Sub section:**"
   ]
  },
  {
   "cell_type": "markdown",
   "id": "a2481a0c-5eda-4597-b1ec-8ec16ab0d9bb",
   "metadata": {},
   "source": [
    "##### I. A. i. **a. Sub-Sub-Sub section:**"
   ]
  },
  {
   "cell_type": "markdown",
   "id": "3206156a-a734-43ca-883c-967c9a5a8bb1",
   "metadata": {
    "tags": []
   },
   "source": [
    "##### <u>**Example 1.**</u>"
   ]
  },
  {
   "cell_type": "code",
   "execution_count": 7,
   "id": "bb549f67-f572-4581-a471-1ad78a3eb60c",
   "metadata": {},
   "outputs": [
    {
     "data": {
      "text/plain": [
       "1"
      ]
     },
     "execution_count": 7,
     "metadata": {},
     "output_type": "execute_result"
    }
   ],
   "source": [
    "min(1,2,3)\n"
   ]
  },
  {
   "cell_type": "code",
   "execution_count": null,
   "id": "9c3b9042-2ca6-4a37-af66-5a7e63c63152",
   "metadata": {},
   "outputs": [],
   "source": []
  }
 ],
 "metadata": {
  "kernelspec": {
   "display_name": "Python 3 (ipykernel)",
   "language": "python",
   "name": "python3"
  },
  "language_info": {
   "codemirror_mode": {
    "name": "ipython",
    "version": 3
   },
   "file_extension": ".py",
   "mimetype": "text/x-python",
   "name": "python",
   "nbconvert_exporter": "python",
   "pygments_lexer": "ipython3",
   "version": "3.11.5"
  }
 },
 "nbformat": 4,
 "nbformat_minor": 5
}
