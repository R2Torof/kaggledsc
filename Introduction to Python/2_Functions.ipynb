{
 "cells": [
  {
   "cell_type": "markdown",
   "id": "6084d75e",
   "metadata": {},
   "source": [
    "# Introduction to Programming Kaggle Course\n",
    "#### Notes and practice from course\n",
    "###### <u>*The following rules for references apply in markdown notes*<u>\n",
    "###### - *Things in \"quotes\" in markdown are direct quotes from ***Coding for Beginner's In Easy Steps 2nd Edition*** book*\n",
    "###### - *Things in 'quotes' in markdown are direct quotes from ***Kaggle Course*** okay*"
   ]
  },
  {
   "cell_type": "markdown",
   "id": "65829808",
   "metadata": {},
   "source": [
    "# <u>**Functions**<u>"
   ]
  },
  {
   "cell_type": "markdown",
   "id": "ba5c1bc2-25cc-4a21-bc7d-c9f5121df300",
   "metadata": {},
   "source": [
    "## **Definition**\n",
    "= A way to organize code. 'A block of code designed to perform a specific task allowing you to do roughly the same calculation multiple times without duplicating any code'"
   ]
  },
  {
   "cell_type": "markdown",
   "id": "6c8e5aa4-6bbd-461a-9201-cb9e7b3fb6b7",
   "metadata": {},
   "source": [
    "## **Types**\n",
    "1. Built-in Functions\n",
    "2. Coder-Defined Custom Functions"
   ]
  },
  {
   "cell_type": "markdown",
   "id": "35c4e067-fb7d-466c-9434-2580dcd15ef5",
   "metadata": {},
   "source": [
    "## 1. **Built-in Functions**\n",
    "- These are what is already built into the Python programming language like \n",
    "    - ***'print()'***"
   ]
  },
  {
   "cell_type": "markdown",
   "id": "3c0abc66-1bda-459d-a87d-6fc579b11ab6",
   "metadata": {},
   "source": [
    "### '***print()***' Function FYI\n",
    "The print function can have many arguments within it's **( )** that are each separated by a **,** and when it prints the results it will separate them by a **space** in the **same output line**\n",
    "\n",
    "You can include as many arguments are you want within the '***print()***' function to display multiple values in a single print statement. Examples below"
   ]
  },
  {
   "cell_type": "code",
   "execution_count": 1,
   "id": "67fa5805-c84a-4567-87c8-6b8ccf627b2c",
   "metadata": {
    "tags": []
   },
   "outputs": [
    {
     "name": "stdout",
     "output_type": "stream",
     "text": [
      "Hello World 42\n"
     ]
    }
   ],
   "source": [
    "# This prints all in a single output line\n",
    "print(\"Hello\", \"World\", 42)"
   ]
  },
  {
   "cell_type": "code",
   "execution_count": 2,
   "id": "08a1b66b-67d0-4378-8861-28a6e955ec55",
   "metadata": {
    "tags": []
   },
   "outputs": [
    {
     "name": "stdout",
     "output_type": "stream",
     "text": [
      "Hello\n",
      "World\n",
      "42\n"
     ]
    }
   ],
   "source": [
    "# This prints the same arguments but in their own individual separate output lines\n",
    "print(\"Hello\")\n",
    "print(\"World\")\n",
    "print(42)"
   ]
  },
  {
   "cell_type": "markdown",
   "id": "6343f21b-aff8-4f58-8e88-d7817cb1ae09",
   "metadata": {},
   "source": [
    "### Example of another built-in function is\n",
    "    - 'math.ceil()'\n",
    "- Which is a function used to round up a number to the nearest integer\n",
    "- It takes a number as input and ***rounds*** that inputed number ***up to the nearest integer***"
   ]
  },
  {
   "cell_type": "code",
   "execution_count": 3,
   "id": "be36a4fd-4651-419b-808c-f02a6bd30e0b",
   "metadata": {
    "tags": []
   },
   "outputs": [
    {
     "name": "stdout",
     "output_type": "stream",
     "text": [
      "3\n"
     ]
    }
   ],
   "source": [
    "# Import the 'math' module\n",
    "import math\n",
    "\n",
    "# Example of 'math.ceil()' in use\n",
    "test_value = 2.17\n",
    "\n",
    "rounded_value = math.ceil(test_value)\n",
    "\n",
    "print(rounded_value)"
   ]
  },
  {
   "cell_type": "code",
   "execution_count": null,
   "id": "c3a95948-b986-4c61-8d4a-4861a17c9f0c",
   "metadata": {},
   "outputs": [],
   "source": []
  },
  {
   "cell_type": "markdown",
   "id": "baf959b3-ef43-49b0-b7cb-9d5d54024abc",
   "metadata": {},
   "source": [
    "## 2. **Coder-Defined Custom Functions**\n",
    "A specific task you want the computer to perform\n",
    "\n",
    "It is created by the programmer (coder)\n",
    "\n",
    "It's custom and not built-in\n",
    "\n",
    "Functions are like recipes, you create a recipe once and can use it many times to make the same dish (ChatGPT 12/11/23)\n",
    "\n",
    "- They help you to avoid errors in your code by saving you a lot of time\n",
    "- 'The aim in coding is to write as little as possible because each time you type out a calculation, its another opportunity to accidentally introduce a typo or error'"
   ]
  },
  {
   "cell_type": "markdown",
   "id": "5f765b12-64d0-4230-af16-0a35ec622c23",
   "metadata": {},
   "source": [
    "### i. **Naming Functions**\n",
    "Naming rules are as follows\n",
    "1. **LOWERCASE** only\n",
    "2. Separate words by **_** and **<font color=\"red\">NOT SPACES</font>**\n",
    "3. Can<font color=\"red\">NOT</font> use A <font color=\"red\">keyword</font> in the name\n",
    "4. Can<font color=\"red\">NOT</font> use a <font color=\"red\">built-in function</font> names\n"
   ]
  },
  {
   "cell_type": "markdown",
   "id": "134f0d3b-c533-4fc1-b223-3b1f0a454bde",
   "metadata": {},
   "source": [
    "### ii. **How its created**\n",
    "<font color=\"blue\">*See picture below*</font>       \n",
    "1. Use the <font color=\"BlueViolet\">**def**</font> keyword *(This means definition)*, its like saying ***\"Here's how to make . . .\"***\n",
    "    \n",
    "2. Followed by a <font color=\"blue\">***function_name***</font> which is whatever name you want to name it\n",
    "           \n",
    "3. Followed by **<font color=\"blue\">( )</font>** (*parantheses*) with the functions <font color=\"LightSeaGreen\">***parameter***</font> in it, which is like the ***ingredients of a recipe***.\n",
    "   - Its a <font color=\"DarkCyan\"> ***variable*** </font> that is part of a <font color=\"Blue\"> **functions** </font> <font color=\"BlueViolet\"> **definition** </font> and **acts as a placeholder** for the <font color=\"Magenta\"> **value** </font> that will be **PASSED as An <font color=\"Red\"> argument </font>** when the <font color=\"Blue\"> **function** </font> is called.\n",
    ">\n",
    ">\n",
    "4. Followed and ended by a **<font color=\"blue\">:</font>** (*colon*) character\n",
    ">\n",
    ">\n",
    "5. Followed by a ***new line that is indented which contains*** the **STATEMENTS** you want to be **EXECUTED** whenever the custom function is called\n",
    "    - The indent of the function statements must be indented *\"the same amount so that the Python interpreter can recognize the block\"*\n",
    "    - Must be indented exactly ***4 spaces*** via ***TAB*** key or **space bar 4 times**\n",
    "    - These are the step-by-step instructions within your \"recipe\" aka function\n",
    "    - Allowed to ***define a function*** by making use of ***another function*** in the statements to be executed    \n",
    ">\n",
    ">\n",
    "6. Followed by **<font color=\"blue\">return statement</font> and <font color=\"magenta\">value</font>** \n",
    "    - The ***<font color=\"blue\">return statement</font>*** is used to signify that you are exiting the custom function\n",
    "        - This command ends the function and sends back a value.\n",
    "    - You define the value you want to be returned by the custom function anytime it is called and executed by naming the ***<font color=\"magenta\">return_value</font>*** \n",
    "        -  Replacing ***<font color=\"magenta\">'return_value'</font>*** with what you want to be returned when you call upon the newly made custom function\n",
    "            - This is the specific value that the function is giving back\n",
    "            - It is the result the function has been designed to produce\n",
    "    - It is a fixed part of a custom function that tells the function to give back a value\n",
    "    - Its like the finished dish you get at the end\n",
    "    - The **<font color=\"blue\">return statement</font>** is optional\n",
    "        - If not used then the function will return '**None**' by default\n",
    "    \n",
    "The function runs all the indented lines from top to bottom"
   ]
  },
  {
   "cell_type": "markdown",
   "id": "a8b37305-081e-41ef-ba18-e1b09627a127",
   "metadata": {},
   "source": []
  },
  {
   "cell_type": "raw",
   "id": "5683d2c9-31d5-47f6-acf2-655a65cace63",
   "metadata": {},
   "source": []
  },
  {
   "cell_type": "markdown",
   "id": "17825782-7b2a-4749-ad2e-c65699f7518a",
   "metadata": {},
   "source": [
    "#### **<u>What the function looks like in a code cell</u>**\n",
    "**<font color=\"BlueViolet\">def</font> <font color=\"blue\">function_name</font><font color=\"LightSeaGreen\">(NameOfVariable)</font><font color=\"blue\">:</font>**\n",
    ">**Statements-to-be-executed 1**\n",
    ">\n",
    ">**Statements-to-be-executed 2**\n",
    ">\n",
    ">**<font color=\"blue\">return</font> <font color=\"magenta\">return_value</font>**\n",
    ">"
   ]
  },
  {
   "cell_type": "markdown",
   "id": "eacc5560-9d94-4011-8741-dedc7bec3274",
   "metadata": {},
   "source": [
    "![Alt Text](CustomFunctionCreation.png)"
   ]
  },
  {
   "cell_type": "markdown",
   "id": "e5c0ab98-84a0-4219-b253-3351b4285c2b",
   "metadata": {},
   "source": [
    "### iii. **Simple Example to teach the lesson**\n",
    "\n",
    "- Below in the code cell is a screenshot of the simple example of a function that is being using by Kaggle ***Intro to Programming: Functions: Tutorial*** to teach the lesson of custom coder-defined function creation. \n",
    "\n",
    "![Alt Text](KaggleFunctionExample.png)"
   ]
  },
  {
   "cell_type": "markdown",
   "id": "2c5fbba7-27ad-4703-a9b0-b3441da41d2e",
   "metadata": {},
   "source": [
    "#### **<u>Creation of Simple Example<u>**: Explanation\n",
    "The above image from the Kaggle course shows the creation of the '<font color=\"blue\">***add_three()</font>***' function that will: \n",
    "1. **Accept any number as the function argument**\n",
    "    1. being arbitarily defined as the variable '<font color=\"LightSeaGreen\">***input_var***</font>'\n",
    "    2. '***input_var***' is the placeholder for the number you'll give the function later on in which you want it to then add 3 to and show the result. \n",
    "    3. '***input_var***' therefore is also additionally acting like a variable since its used later in the function statements to be executed.\n",
    "2. **Add three to it**\n",
    "    1. Acheived by creating another variable called '***output_var***'\n",
    "    2. Then defining that new variable with the calculation you want to do\n",
    "    3. In this case you want to be able to add 3 to any number that you replace '***input_var***' with\n",
    "    4. This means that you want to store the calculation\n",
    "       >'***<font color=\"red\">input_var</font> + 3***'\n",
    "       >\n",
    "   INSIDE the new internal variable called '***output_var***'\n",
    "       > \n",
    "    6. Put this together in the execution statement of the function as\n",
    "       > '***output_var = <font color=\"LightSeaGreen\">input_var</font> + 3***'\n",
    "    8. Think of '***output_var***' as a special container that holds the functions job so it *only* exists with**IN** the function's guts\n",
    "    9. '***output_var***' is **NOT** used outside the defining of the ***<font color=\"blue\">function</font>***.\n",
    "    10. You have to create a new ***variable*** whenever you call the newly created '<font color=\"blue\">***add_three()***</font>' function to replace the placeholder '***output_var***'\n",
    "    11. '***output_var***' is **FIXED INSIDE** the function ONLY. Outside the function you must create a new variable to store the data (result) for each time you call the function. Just like you don't use '<font color=\"LightSeaGreen\">***input_var***</font>'\n",
    "3. **And then return the result**\n",
    "    1. Acheived by a return statement '<font color=\"blue\">***return***</font>' followed by the return value you want the function to return, which in this case is the variable '<font color=\"magenta\">***output_var***</font>'\n",
    "    2. This is therefore telling the program to return the result '<font color=\"magenta\">***output_var***</font>' which is the variable that contains the calculation of **adding 3** to \"***<font color=\"LightSeaGreen\">input_var</font>***\""
   ]
  },
  {
   "cell_type": "markdown",
   "id": "36b43892-8fa5-4672-8059-9596bb611291",
   "metadata": {},
   "source": [
    "##### **What the above will look like in code:**"
   ]
  },
  {
   "cell_type": "code",
   "execution_count": 4,
   "id": "3e406b7b-b623-4971-a6e9-0f918f22e006",
   "metadata": {},
   "outputs": [],
   "source": [
    "# (1) Defining the function\n",
    "def add_three(input_var):\n",
    "    # (2) The body where you add 3 to 'input_var' and store it in variable 'output_var'\n",
    "    output_var = input_var + 3 \n",
    "    # (3) Returning the result\n",
    "    return output_var"
   ]
  },
  {
   "cell_type": "markdown",
   "id": "f7163f8b-fb5d-42e7-be5c-14be653e0b4a",
   "metadata": {},
   "source": [
    "The above code cell just **<font color=\"purple\">DEFINES</font>** and creates the ***<font color=\"blue\">'add_three()'</font>*** function\n",
    "\n",
    "It doesn't actually **RUN** the newly created coder-defined function"
   ]
  },
  {
   "cell_type": "code",
   "execution_count": null,
   "id": "b0f8fef8-dcf9-44aa-b821-743067568005",
   "metadata": {},
   "outputs": [],
   "source": []
  },
  {
   "cell_type": "markdown",
   "id": "ebb3caa6-ae21-441c-bdd8-6cb5479fd4c0",
   "metadata": {},
   "source": [
    "#### **<u>How to run (or \"call\") a function<u>**:\n",
    "\n",
    "***\"Calling\"*** a function is another name for ***\"Running\"*** the function"
   ]
  },
  {
   "cell_type": "markdown",
   "id": "971491c5-47e3-4018-9f39-374cb0dac8a7",
   "metadata": {},
   "source": [
    "##### **Running the Simple Example of add_three()**\n",
    "    \n",
    "In order to call, use, your the newly created function '<font color=\"blue\">***add_three()***</font>' you do the following:\n",
    "\n",
    "1. **Create a new variable to store the result of your use of the '<font color=\"blue\">***add_three()***</font>' unique function by doing the following**:\n",
    "    1. Name the new ***<font color=\"DarkCyan\">variable</font>***\n",
    "    2. Space\n",
    "    3. Input the assigning operator '**<font color=\"DarkViolet\">=</font>**'\n",
    "    - This is defining a new variable to be set to the output of the function if you input the number you want 3 added too\n",
    ">\n",
    "2. **Input the custom function** '***<font color=\"blue\">add_three(</font>***'\n",
    "    1. On the same line as the newly named ***<font color=\"DarkCyan\">variable</font>*** with the **<font color=\"DarkViolet\">=</font>** operator you do a ***space*** \n",
    "    2. Then type the name of the custom function you want to use, in this case '***<font color=\"blue\">add_three()</font>***'\n",
    "    3. Fill in the **<font color=\"red\">argument</font>** also called <font color=\"LightSeaGreen\"> **parameter** when it was a placeholder </font> within the '<font color=\"blue\">**( )**</font>' with what you want the function to run\n",
    ">\n",
    "><font color=\"DarkCyan\">**New Variable Name**</font> <font color=\"Darkviolet\"> **=** </font> <font color=\"blue\">***add_three(***</font> <font color=\"red\">Argument Here</font> <font color=\"blue\">**)**</font>\n",
    "3. **Run the code**\n",
    ">\n",
    "5. **Then check the result by running '<font color=\"blue\">***print***</font>(<font color=\"DarkCyan\">**New Variable Name**</font>)' and Run it**\n",
    ">\n",
    ">"
   ]
  },
  {
   "cell_type": "markdown",
   "id": "1e20feff-7ac2-4417-8707-80f802486ce6",
   "metadata": {},
   "source": [
    "##### **What the above description looks like in code:**"
   ]
  },
  {
   "cell_type": "code",
   "execution_count": 5,
   "id": "98782a68-d906-4565-9d95-e9b4875994aa",
   "metadata": {
    "tags": []
   },
   "outputs": [
    {
     "name": "stdout",
     "output_type": "stream",
     "text": [
      "13\n"
     ]
    }
   ],
   "source": [
    "# Run the function on the number 10 and store it in a new variable called 'new_number'\n",
    "new_number = add_three(10)\n",
    "\n",
    "# Check that the value is 13, as expected\n",
    "print(new_number)"
   ]
  },
  {
   "cell_type": "markdown",
   "id": "d547d03a-1ccb-47fd-9181-1b42ad504cad",
   "metadata": {},
   "source": [
    "##### **Kaggle Screenshot explaining the parts of steps 1 and 2 from above**\n",
    "![Alt Text](KaggleFunctionExample1.png)"
   ]
  },
  {
   "cell_type": "code",
   "execution_count": null,
   "id": "b84e5542-d350-4001-85ed-cbbb4d372795",
   "metadata": {},
   "outputs": [],
   "source": []
  },
  {
   "cell_type": "markdown",
   "id": "ba65aa9f-2dc2-4603-9f29-e0c073a211e0",
   "metadata": {},
   "source": [
    "### iv. **More Complex Example to teach the lesson**\n",
    "Kaggle uses another example to teach creation of functions with a more complex example\n",
    "\n",
    "Create a function to help your friend figure out their weekly paycheck after taxes where all the friend has to do is input the number of hours worked that week and the function will then output what his expected weekly paycheck after should be.\n",
    "\n",
    "- Taxes are 12% AKA he makes 88% take home (100% - 12% = 88%) \n",
    "- He gets paid $15/hour\n",
    "\n",
    "To the function therefore must calculate the pay before taxes based on the input of hours worked that will be the argument. It then must within the function also calcuate aftertax income and then that is the output that it shows your friend. \n",
    "\n",
    "The below code cell shows this"
   ]
  },
  {
   "cell_type": "markdown",
   "id": "8886abe2-34f6-4667-b645-77cca849da84",
   "metadata": {
    "tags": []
   },
   "source": [
    "#### **<u>Create the Custom Function<u>** \n",
    "    def get_pay(num_hours):\n",
    "        pay_pretax = num_hours * 15\n",
    "        pay_aftertax = pay_pretax * (1 - 0.12)\n",
    "        return pay_aftertax\n",
    "1. Define the function as 'get_pay' \n",
    "2. Name the argument placeholder variable 'num_hours'\n",
    "    - '***def get_pay(num_hours):***'\n",
    "3. This creates a function where your friend just inputs hours worked that week whenever he calls the function\n",
    "4. Calculate Pre-tax based on $15/hour, store this in a new variable called 'pay_pretax' \n",
    "    - '***pay_pretax = num_hours * 15***'\n",
    "5. Calculate Post-tax based on 12% tax, store this in a new variable called 'pay_aftertax'\n",
    "    - '***pay_aftertax = pay_pretax * (1 - 0.12)***'\n",
    "6. End the function with a return statement to return the result that will be his take home pay, 'pay_aftertax'\n",
    "    - '***return pay_aftertax***'"
   ]
  },
  {
   "cell_type": "code",
   "execution_count": 6,
   "id": "6876d83f-e159-4634-a1a8-59ba191b00c0",
   "metadata": {
    "tags": []
   },
   "outputs": [],
   "source": [
    "def get_pay(num_hours):\n",
    "    # Calculate Pre-tax based on $15/hour\n",
    "    pay_pretax = num_hours * 15\n",
    "    # Calculate Post-tax based on 12% tax\n",
    "    pay_aftertax = pay_pretax * (1 - 0.12)\n",
    "    return pay_aftertax"
   ]
  },
  {
   "cell_type": "markdown",
   "id": "da8b5f54-f872-469c-a23c-532367ceee43",
   "metadata": {
    "tags": []
   },
   "source": [
    "#### **<u>Call the function to show pay if he worked 40 hours<u>**\n",
    "- You replace '***num_hours***' with **40**\n",
    "- Ensure you store this result in a new variable, in this case choose the name '***pay_fulltime***'\n",
    "- Then print the result and it should be 528"
   ]
  },
  {
   "cell_type": "code",
   "execution_count": 7,
   "id": "a06ef747-a5bd-44bb-9abc-4fb1dc13e7ee",
   "metadata": {
    "tags": []
   },
   "outputs": [
    {
     "name": "stdout",
     "output_type": "stream",
     "text": [
      "528.0\n"
     ]
    }
   ],
   "source": [
    "# Create new variable to store the pay for 40 hours worked, called 'pay_fulltime'\n",
    "pay_fulltime = get_pay(40)\n",
    "print(pay_fulltime)"
   ]
  },
  {
   "cell_type": "markdown",
   "id": "a2746a3b-e766-496d-9ae2-4de405ab8d66",
   "metadata": {},
   "source": [
    "#### **<u>Practice with different work hours<u>**\n",
    "Below are multiple code cells with different hours worked to determine take home pay weekly"
   ]
  },
  {
   "cell_type": "code",
   "execution_count": 8,
   "id": "979c6e68-1a85-4b21-9035-2ecdfe60fd58",
   "metadata": {
    "tags": []
   },
   "outputs": [
    {
     "name": "stdout",
     "output_type": "stream",
     "text": [
      "422.4\n"
     ]
    }
   ],
   "source": [
    "# Part-time work at 32 hours a week\n",
    "pay_parttime = get_pay(32)\n",
    "print(pay_parttime)"
   ]
  },
  {
   "cell_type": "code",
   "execution_count": 9,
   "id": "4812a836-2d25-409d-ac1d-ed29d6b33a07",
   "metadata": {
    "tags": []
   },
   "outputs": [
    {
     "name": "stdout",
     "output_type": "stream",
     "text": [
      "132.0\n"
     ]
    }
   ],
   "source": [
    "# 10 hours a week\n",
    "pay_ten = get_pay(10)\n",
    "print(pay_ten)"
   ]
  },
  {
   "cell_type": "code",
   "execution_count": null,
   "id": "e742d5aa-1bff-4ab6-a271-69304f8e3800",
   "metadata": {},
   "outputs": [],
   "source": []
  },
  {
   "cell_type": "code",
   "execution_count": null,
   "id": "80c9d39c-0f0d-47ad-9dce-3d078ef37412",
   "metadata": {},
   "outputs": [],
   "source": []
  },
  {
   "cell_type": "markdown",
   "id": "21d18c02-2377-4f6d-8195-02ae697af467",
   "metadata": {},
   "source": [
    "### v. **Functions with MULTIPLE Arguments**\n",
    "- You add more arguments within the \"**()**\" *(parentheses)* in the header\n",
    "- **Separate** each argument by a \"<font color=\"DarkViolet\">**,**</font>\" <font color=\"DarkViolet\">*(comma)*</font>\n",
    "- To call a **function()** with multiple arguments you provide the ***value*** for each argument separated by \"<font color=\"DarkViolet\">**,**</font>\" <font color=\"DarkViolet\">*(comma)*</font>\n",
    ">\n",
    ">"
   ]
  },
  {
   "cell_type": "markdown",
   "id": "ec1e91c2-c82f-4040-b51b-d337ebc9cc7f",
   "metadata": {},
   "source": [
    "#### **<u>Example to teach the Lesson:** Multiple Arguments in a Function<u>"
   ]
  },
  {
   "cell_type": "markdown",
   "id": "700326a2-4f49-42b5-bf77-59385a7c2e5a",
   "metadata": {},
   "source": [
    "- Suppose you want to now create a ***function*** that allows you to do what you did for your friend with the '<font color=\"blue\">***get_pay()***</font>' function for anyone if they provide you their:\n",
    "    - hours worked = '***num_hours***' = The placeholder value where number of hours worked in 1 week will be inputted\n",
    "    - hourly wage = '***hourly_wage***' = The placeholder value where the hourly wage (in Dollars/hour) will be inputted\n",
    "    - tax bracket = '***tax_bracket***' = The placeholder value where the percentage (in decimal) of salary removed for taxes will be inputted\n",
    ">\n",
    ">\n",
    "- You only create a function with multiple arguments if you know the single argument function isn't going to work because the values of $/hour and tax bracket do not stay the same. \n",
    "    - So if you need more flexibility then create this new function with many variables\n",
    "    - Do NOT create this more complex function if you know the simipler '<font color=\"blue\">***get_pay()***</font>' function will work because the tax bracket and hourly wage is unchanged for your use case\n",
    "    - Because remember simplier is better\n",
    ">\n",
    ">        \n",
    "- **This is achieved by creating a function with multiple arguments**\n",
    "    - You do this because you are given the above 3 ***values*** about a person and you want to create a ***function*** to calculate the take home pay for that person based on those 3 ***values***\n",
    "    - These 3 ***values*** are therefore the ***arguments*** you want the function to process (work on)\n",
    "    - You will **input** the **individual persons unique** ***values*** for **each** ***argument*** each time you **call** the ***function*** in the future\n",
    ">\n",
    ">\n",
    "- Multiple arguments within a function are separated by \"<font color=\"DarkViolet\">**,**</font>\"\n",
    "\n",
    "\n",
    "- Below is the code that creates this new function discussed above that contains multiple arguments\n",
    "    - The name for the function is to be called '***get_pay_with_more_inputs()***'\n"
   ]
  },
  {
   "cell_type": "code",
   "execution_count": 10,
   "id": "c89fe396-0bd5-4137-bb60-82dabcb3b947",
   "metadata": {
    "tags": []
   },
   "outputs": [],
   "source": [
    "# Multiple arguments in a function example for take home pay given: hours, hourly wage and tax bracket\n",
    "def get_pay_with_more_inputs(num_hours, hourly_wage, tax_bracket):\n",
    "    # Pre-tax pay given hours worked and hourly wage\n",
    "    pay_pretax = num_hours * hourly_wage\n",
    "    # After-tax pay given tax bracket\n",
    "    pay_aftertax = pay_pretax * (1 - tax_bracket)\n",
    "    return pay_aftertax    "
   ]
  },
  {
   "cell_type": "code",
   "execution_count": 11,
   "id": "ab7e2df8-a798-43e5-a914-805f450eda98",
   "metadata": {
    "tags": []
   },
   "outputs": [
    {
     "name": "stdout",
     "output_type": "stream",
     "text": [
      "748.8000000000001\n"
     ]
    }
   ],
   "source": [
    "# Call the 'get_pay_with_more_inputs()' function to find the take home pay for someone with the following\n",
    "# Worked 40 hours at $24/hour in the 22% tax bracket\n",
    "# Assign the result to a new variable 'higher_pay_aftertax'\n",
    "\n",
    "higher_pay_aftertax = get_pay_with_more_inputs(40, 24, 0.22)\n",
    "print(higher_pay_aftertax)"
   ]
  },
  {
   "cell_type": "code",
   "execution_count": null,
   "id": "0512e01d-c1cd-4a10-8381-3b8180916b85",
   "metadata": {},
   "outputs": [],
   "source": []
  },
  {
   "cell_type": "markdown",
   "id": "f63bdc79-0b44-4cc8-b154-51a71b42c025",
   "metadata": {},
   "source": [
    "Do the new function with the information from the more complex function in **iv** and store it in a new variable called '***same_pay_fulltime***'.\n",
    "- Remember it was 40 hours, at $15 / hour at 12% tax bracket"
   ]
  },
  {
   "cell_type": "code",
   "execution_count": 12,
   "id": "9bfad0dc-13e9-4c09-a4aa-e4d277ebcef1",
   "metadata": {
    "tags": []
   },
   "outputs": [
    {
     "name": "stdout",
     "output_type": "stream",
     "text": [
      "528.0\n"
     ]
    }
   ],
   "source": [
    "same_pay_fulltime = get_pay_with_more_inputs(40, 15, 0.12)\n",
    "print(same_pay_fulltime)\n",
    "# Should print out to be 528.0 like it did in the 'iv' section"
   ]
  },
  {
   "cell_type": "code",
   "execution_count": null,
   "id": "2220e70b-02df-4953-8ddc-50ab3e8135c9",
   "metadata": {},
   "outputs": [],
   "source": []
  },
  {
   "cell_type": "code",
   "execution_count": null,
   "id": "3578c6a2-733d-4fc6-888f-fae5308223c4",
   "metadata": {},
   "outputs": [],
   "source": []
  },
  {
   "cell_type": "markdown",
   "id": "3dee653a-6b29-4441-b442-0d276c6c5a7b",
   "metadata": {},
   "source": [
    "### vi. **Functions with NO Arguments**\n",
    "- You can have a function without arguments and without return statements as exampled below"
   ]
  },
  {
   "cell_type": "code",
   "execution_count": 13,
   "id": "0cfe8db2-1bcb-4b1b-ac69-8dd998da4fa5",
   "metadata": {
    "tags": []
   },
   "outputs": [
    {
     "name": "stdout",
     "output_type": "stream",
     "text": [
      "Hello, you!\n",
      "Good morning!\n"
     ]
    }
   ],
   "source": [
    "# Define the function 'print_hello()' with No arguments and No return\n",
    "\n",
    "def print_hello():\n",
    "    print(\"Hello, you!\")\n",
    "    print(\"Good morning!\")\n",
    "\n",
    "# Call the function\n",
    "print_hello()"
   ]
  },
  {
   "cell_type": "markdown",
   "id": "479bac35-b5f9-4ee7-88e5-6f2086214482",
   "metadata": {},
   "source": [
    "#### a. **What's the point of this type of Function?**\n",
    "##### *word for word from ChatGPT 12/27/23*\n",
    "In Python, a function like the one you provided, print_hello(), serves a specific purpose, even though it doesn't take any arguments or return any values. In a Data Science job or any coding task, such functions can be useful for the following reasons:\n",
    "\n",
    "- **Reusability**: You can use this function in multiple parts of your code whenever you need to print a standard greeting message. This can save you time and make your code more organized.\n",
    ">\n",
    "- **Readability**: By defining a function with a clear name like print_hello(), you make your code more readable and self-explanatory. Anyone reviewing your code can understand its purpose without needing to read the entire function.\n",
    ">\n",
    "- **Modularity**: Functions like this can be part of a larger program or script. They help break down your code into smaller, manageable pieces, making it easier to develop and maintain.\n",
    ">\n",
    "- **Consistency**: Using such functions ensures that the same message is printed consistently throughout your code, reducing the chances of errors or typos.\n",
    ">\n",
    "- **Future Expansion**: Even though this function is simple now, you can easily expand it in the future to include more complex actions or customizations. For example, you could modify it to take arguments to personalize the greeting message.\n",
    ">\n",
    "- **Educational Purposes**: Functions like this are also valuable for learners, like yourself, who are just starting to learn coding and data science. They provide a straightforward example of how functions work in Python.\n",
    "\n",
    "In summary, while this function may seem basic, it serves as a foundational concept in coding, and in a Data Science job, it can help improve code organization, readability, and maintainability.\n",
    ">"
   ]
  },
  {
   "cell_type": "markdown",
   "id": "663a9770-77bb-4e87-9aad-f56b3285fa02",
   "metadata": {},
   "source": [
    "#### b. **<u>Real World Example</u>**:\n",
    "##### *word for word from ChatGPT 12/27/23*\n",
    "\n",
    "Let's consider a real-world example in a Data Science context to explain how a simple function like <font color=\"blue\">***print_hello()***</font> can be useful for reasons 1 through 4:\n",
    "\n",
    "**Scenario**: You are working on a data analysis project that involves processing data from multiple sources and generating reports. Here's how such a function can be used:\n",
    "\n",
    "1. **<u>Reusability</u>**: In your data analysis project, you need to provide status updates at various points in your code. Instead of writing\n",
    "> <font color=\"blue\">***print(***</font> <font color=\"red\">*\"Status: Data processing started...\"*</font><font color=\"blue\">***)***</font>\n",
    ">\n",
    "> <font color=\"blue\">***print(***</font> <font color=\"red\">*\"Status: Data processing completed...\"*</font><font color=\"blue\">***)***</font>\n",
    "\n",
    "##### every time you need to print a status message, you define a function like this:\n",
    "**<font color=\"purple\">def</font> <font color=\"blue\">print_status(</font><font color=\"LightSeaGreen\">message</font><font color=\"blue\">):</font>**\n",
    ">\n",
    "> **print(\"Status:\", <font color=\"red\">message</font>)**\n",
    ">\n",
    "Now, whenever you want to print a status message, you simply call <font color=\"blue\">***print_status(\"Data processing started...\")***</font>. \n",
    ">\n",
    "> Resulting in the following printout\n",
    "> > **Status: Data processing started . . .**\n",
    ">\n",
    "This function can be used multiple times throughout your code, saving you from typing the same print statement repeatedly.\n",
    ">\n",
    "2. **<u>Modularity</u>**: Modularity is a software development concept that involves breaking down a complex program into smaller, self-contained units (modules) that perform specific tasks or functions. Each module can be developed and tested independently, making it easier to manage and maintain the codebase.\n",
    ">\n",
    ">In the context of your data analysis project, let's consider how modularity works:\n",
    ">\n",
    ">Imagine your data analysis project involves the following major steps:\n",
    "> 1. **Data Loading:** Reading data from various sources like CSV files, databases, or APIs.\n",
    "> 2. **Data Cleaning:** Cleaning and preprocessing the data, handling missing values, and ensuring data quality.\n",
    "> 3. **Data Analysis:** Performing statistical analysis, generating visualizations, and extracting insights from the data.\n",
    "> 4. **Reporting:** Creating reports, charts, and summaries based on the analysis results.\n",
    "> \n",
    "> Now, let's see how the <font color=\"blue\">***print_status()***</font> function can be used to achieve modularity:\n",
    "![Code Example of above from ChatGPT](GPTModularityExample.png)\n",
    "\n",
    "In this modular code, each major step of the data analysis project (loading data, cleaning data, analyzing data, generating reports) is encapsulated within its own function. These functions are self-contained and perform specific tasks. The <font color=\"blue\">***print_status()***</font> function is used to provide status updates for each step, enhancing code clarity.\n",
    "\n",
    "##### **<u>Advantages of Modularity:</u>**\n",
    "\n",
    "1. **Simplifies Development:** Each function focuses on a specific task, making it easier to develop and debug that particular task without the complexity of the entire project.\n",
    "2. **Enhances Code Organization:** The code is organized into distinct, logical units, making it easier to locate and work on specific parts of the project.\n",
    "3. **Promotes Reusability:** If you need to perform a similar task in another project, you can reuse the relevant function (e.g., load_data()) without rewriting the entire process.\n",
    "4. **Facilitates Collaboration:** Different team members can work on different modules independently, reducing conflicts and streamlining collaboration.\n",
    "5. **Simplifies Maintenance:** If a change is required in one step (e.g., data cleaning), you can focus on that module without affecting other parts of the code.\n",
    "\n",
    "By breaking down your data analysis code into smaller, modular components, you achieve better organization, maintainability, and scalability, which are essential in complex data science projects. Each module has a clear purpose and can be tested and optimized separately, contributing to the overall success of your project.\n"
   ]
  },
  {
   "cell_type": "code",
   "execution_count": null,
   "id": "dc659ff1-d9f1-4f3f-80a5-fca69adb46a2",
   "metadata": {},
   "outputs": [],
   "source": []
  },
  {
   "cell_type": "code",
   "execution_count": null,
   "id": "bcba3a41-c61a-4ac8-821f-e131a6b479f7",
   "metadata": {},
   "outputs": [],
   "source": []
  },
  {
   "cell_type": "markdown",
   "id": "85b1b947-8da0-4f46-a784-3d9ee17fc991",
   "metadata": {},
   "source": [
    "# **<u>Variable \"Scope\"<u>**"
   ]
  },
  {
   "cell_type": "markdown",
   "id": "9cdc8a15-a091-4f61-989a-018080a143f1",
   "metadata": {},
   "source": [
    "## Definition of ***Scope***:\n",
    "- ***Scope*** is another name for ***accessibility***\n",
    "    - This means how ***accessible*** to the computer program is the thing you are referencing, in this case the ***variable***"
   ]
  },
  {
   "cell_type": "markdown",
   "id": "54b68fa0-a877-42ce-97a4-e5af267d2037",
   "metadata": {},
   "source": [
    "## 1. <u>***\"Local\" Scope Variable:***<u>\n",
    "- \"***Variables*** created **INSIDE Functions**\n",
    "- These can**NOT** be referenced from **OUTside** the ***Function*** in which the ***Variable*** was created\n",
    "- This means you can therefore have a ***Local Variable*** with the exact same name can exist in ***different functions*** without conflict\n",
    "- If a ***Global Variable*** has the same name as a ***Local Variable*** the **function()** will use the ***Local Variable*** over the ***Global Variable***\n"
   ]
  },
  {
   "cell_type": "markdown",
   "id": "5b5b5057-7eb7-4b2b-95c4-587ab3656f2f",
   "metadata": {
    "tags": []
   },
   "source": [
    "### A. **<u>Example To Make a Point<u>** \n",
    "    def get_pay(num_hours):\n",
    "        pay_pretax = num_hours * 15\n",
    "        pay_aftertax = pay_pretax * (1 - 0.12)\n",
    "        return pay_aftertax\n",
    "\n",
    "The above function creation is going to be used to hit the point home about a ***local variable***\n",
    "- The variable '***pay_pretax***' and '***pay_aftertax***' and '***num_hours***' are all ***LOCAL** Variables\n",
    "- They have **NO MEANING** to the Python program outside of the above function defining statement\n",
    "- IF you try to '***print()***' any of the above mentioned variables you will get the following error message pictured\n",
    "![Alt Text](KaggleVariableScope1.png)"
   ]
  },
  {
   "cell_type": "markdown",
   "id": "795e92ff-407f-4ac6-ada8-7158d6eb79e1",
   "metadata": {},
   "source": [
    "## 2. <u>***\"Global\" Scope Variable:***<u>\n",
    "- \"***Variables*** created **OUTSIDE Functions**\n",
    "- These are universal throughout the program following the initial variable call\n",
    "- They can be referenced alone or within a function"
   ]
  },
  {
   "cell_type": "markdown",
   "id": "158fa602-6069-4a7a-aa2d-c06b83af63c9",
   "metadata": {},
   "source": [
    "### A. Creation of ***Global Variable***"
   ]
  },
  {
   "cell_type": "markdown",
   "id": "695ced32-30a2-4e3c-a77d-1f21c8cc5a3d",
   "metadata": {},
   "source": [
    "#### i. <u>Normal way as described in the ***Arithmetic Variables Notebook***<u>"
   ]
  },
  {
   "cell_type": "markdown",
   "id": "4a4277cf-24ae-4783-8cdf-4eabc0280637",
   "metadata": {},
   "source": [
    "#### ii. <u>Convert a ***Local Variable*** into a ***Global Variable***<u>\n",
    "\n",
    "You can convert a ***Local Variable*** into a ***Global Variable***, aka allow a ***local variable*** to be accessible elsewhere you must declare it as a global variable with the **Python** keyword ***global*** followed by the ***local variable***'s name that you want to convert to a ***global variable***\n",
    "    \n",
    "<font color=\"red\">*This came from ***Coding for Beginners In Easy Steps*** page 75 and on about functions is very confusing and doesn't match with the kaggle lesson so stopping the use of that book until done with Kaggle, or if need additional help, and then will read it after Kagagle if don't feel I have a grasp of things?*</font>"
   ]
  },
  {
   "cell_type": "code",
   "execution_count": null,
   "id": "2446d302-4e67-462d-9072-9cc56e5af782",
   "metadata": {},
   "outputs": [],
   "source": []
  },
  {
   "cell_type": "code",
   "execution_count": null,
   "id": "40f8cc08-68fa-4bfa-9329-f4f5761177ff",
   "metadata": {},
   "outputs": [],
   "source": []
  }
 ],
 "metadata": {
  "kernelspec": {
   "display_name": "Python 3 (ipykernel)",
   "language": "python",
   "name": "python3"
  },
  "language_info": {
   "codemirror_mode": {
    "name": "ipython",
    "version": 3
   },
   "file_extension": ".py",
   "mimetype": "text/x-python",
   "name": "python",
   "nbconvert_exporter": "python",
   "pygments_lexer": "ipython3",
   "version": "3.11.5"
  }
 },
 "nbformat": 4,
 "nbformat_minor": 5
}
