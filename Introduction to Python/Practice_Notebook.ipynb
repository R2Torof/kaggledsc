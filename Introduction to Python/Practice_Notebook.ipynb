{
 "cells": [
  {
   "cell_type": "code",
   "execution_count": 1,
   "id": "697fe9de-3cc5-49dc-b798-55670249834b",
   "metadata": {},
   "outputs": [],
   "source": [
    "def getpay(numhours):\n",
    "    pretax = numhours * 15\n",
    "    aftertax = pretax * (1 - 0.12)\n",
    "    return aftertax\n",
    "    "
   ]
  },
  {
   "cell_type": "code",
   "execution_count": 2,
   "id": "c671aa4a-a974-41f1-a7ab-153830d12e05",
   "metadata": {},
   "outputs": [
    {
     "name": "stdout",
     "output_type": "stream",
     "text": [
      "528.0\n"
     ]
    }
   ],
   "source": [
    "fulltime = getpay(40)\n",
    "print(fulltime)"
   ]
  },
  {
   "cell_type": "code",
   "execution_count": 3,
   "id": "fccbb848-5801-437b-8f6e-e4f38772d23c",
   "metadata": {},
   "outputs": [
    {
     "name": "stdout",
     "output_type": "stream",
     "text": [
      "422.4\n"
     ]
    }
   ],
   "source": [
    "partime = getpay(32)\n",
    "print(partime)"
   ]
  },
  {
   "cell_type": "code",
   "execution_count": 4,
   "id": "10feba5b-fd47-448c-91cc-c2960d8cb820",
   "metadata": {},
   "outputs": [
    {
     "name": "stdout",
     "output_type": "stream",
     "text": [
      "132.0\n"
     ]
    }
   ],
   "source": [
    "pay10 = getpay(10)\n",
    "print(pay10)"
   ]
  },
  {
   "cell_type": "code",
   "execution_count": 5,
   "id": "df74e4ce-59a3-460f-b809-3febf6efcceb",
   "metadata": {},
   "outputs": [],
   "source": [
    "def getpaydetailed(numhours, hourlywage, taxbracket):\n",
    "    pretax = numhours * hourlywage\n",
    "    aftertax = pretax * (1 - taxbracket)\n",
    "    return aftertax\n",
    "    "
   ]
  },
  {
   "cell_type": "code",
   "execution_count": 6,
   "id": "bdaff170-12d3-4124-850e-af297795e80a",
   "metadata": {},
   "outputs": [
    {
     "name": "stdout",
     "output_type": "stream",
     "text": [
      "748.8000000000001\n"
     ]
    }
   ],
   "source": [
    "fulltime = getpaydetailed(40, 24, 0.22)\n",
    "print(fulltime)"
   ]
  },
  {
   "cell_type": "code",
   "execution_count": 7,
   "id": "6a42997c-98a2-417d-b8e6-eff84d237a49",
   "metadata": {},
   "outputs": [
    {
     "name": "stdout",
     "output_type": "stream",
     "text": [
      "528.0\n"
     ]
    }
   ],
   "source": [
    "fulltime = getpaydetailed(40, 15, 0.12)\n",
    "print(fulltime)"
   ]
  },
  {
   "cell_type": "code",
   "execution_count": 8,
   "id": "f5440151-a2eb-4b80-b8dc-949263ff4a0f",
   "metadata": {},
   "outputs": [
    {
     "name": "stdout",
     "output_type": "stream",
     "text": [
      "14\n",
      "<class 'int'>\n"
     ]
    }
   ],
   "source": [
    "x = 14\n",
    "print(x)\n",
    "print(type(x))"
   ]
  },
  {
   "cell_type": "code",
   "execution_count": 9,
   "id": "bb3b9d87-0651-4a86-ab57-e400cc3d339d",
   "metadata": {},
   "outputs": [
    {
     "name": "stdout",
     "output_type": "stream",
     "text": [
      "3.14159265\n",
      "<class 'float'>\n"
     ]
    }
   ],
   "source": [
    "nearly_pi = 3.14159265\n",
    "print(nearly_pi)\n",
    "print(type(nearly_pi))"
   ]
  },
  {
   "cell_type": "code",
   "execution_count": 10,
   "id": "eda6eb62-98cc-47d0-a3df-cd8afc9f11d8",
   "metadata": {},
   "outputs": [
    {
     "name": "stdout",
     "output_type": "stream",
     "text": [
      "True\n",
      "<class 'bool'>\n"
     ]
    }
   ],
   "source": [
    "z_one = True\n",
    "print(z_one)\n",
    "print(type(z_one))"
   ]
  },
  {
   "cell_type": "code",
   "execution_count": 11,
   "id": "0fdbd1a5-dbef-4e1f-956b-834218a196d5",
   "metadata": {},
   "outputs": [
    {
     "name": "stdout",
     "output_type": "stream",
     "text": [
      "Hello, Python!\n",
      "<class 'str'>\n"
     ]
    }
   ],
   "source": [
    "w = \"Hello, Python!\"\n",
    "print(w)\n",
    "print(type(w))"
   ]
  },
  {
   "cell_type": "code",
   "execution_count": 12,
   "id": "8dbf555b-ab33-4343-8d72-28eca19d9bc3",
   "metadata": {},
   "outputs": [
    {
     "name": "stdout",
     "output_type": "stream",
     "text": [
      "2.17\n",
      "3\n"
     ]
    }
   ],
   "source": [
    "import math\n",
    "test_value = 2.17\n",
    "rounded_value = math.ceil(test_value)\n",
    "print(test_value)\n",
    "print(rounded_value)"
   ]
  },
  {
   "cell_type": "code",
   "execution_count": 13,
   "id": "3383263c-9d43-4771-8620-08961c0ab921",
   "metadata": {},
   "outputs": [
    {
     "name": "stdout",
     "output_type": "stream",
     "text": [
      "3.142857142857143\n",
      "<class 'float'>\n"
     ]
    }
   ],
   "source": [
    "almost_pi = 22 / 7\n",
    "print(almost_pi)\n",
    "print(type(almost_pi))"
   ]
  },
  {
   "cell_type": "code",
   "execution_count": 14,
   "id": "acbe485b-506e-49b7-8516-6e454c173dbb",
   "metadata": {},
   "outputs": [
    {
     "name": "stdout",
     "output_type": "stream",
     "text": [
      "3.14286\n",
      "<class 'float'>\n"
     ]
    }
   ],
   "source": [
    "roundedpi = round(almost_pi, 5)\n",
    "print(roundedpi)\n",
    "print(type(roundedpi))"
   ]
  },
  {
   "cell_type": "code",
   "execution_count": 15,
   "id": "7c6df82f-1bdf-463f-8273-4cab438cbe76",
   "metadata": {},
   "outputs": [
    {
     "name": "stdout",
     "output_type": "stream",
     "text": [
      "race: Daytona 500\n",
      "data type: Daytona 500\n"
     ]
    }
   ],
   "source": [
    "race = 'Daytona 500'\n",
    "print('race:', race)\n",
    "print('data type:', race)"
   ]
  },
  {
   "cell_type": "code",
   "execution_count": 16,
   "id": "046b3a1b-c8f7-4e0e-af9c-44a5b8b5beed",
   "metadata": {},
   "outputs": [
    {
     "name": "stdout",
     "output_type": "stream",
     "text": [
      "Daytona 500 <class 'str'>\n"
     ]
    }
   ],
   "source": [
    "print(race, type(race))"
   ]
  },
  {
   "cell_type": "code",
   "execution_count": 17,
   "id": "62e24f3e-3d68-438b-9346-e5c8f72568ed",
   "metadata": {},
   "outputs": [
    {
     "name": "stdout",
     "output_type": "stream",
     "text": [
      "True is <class 'bool'>\n"
     ]
    }
   ],
   "source": [
    "z_one = True\n",
    "print(z_one, 'is', type(z_one))"
   ]
  },
  {
   "cell_type": "code",
   "execution_count": 18,
   "id": "36b656e9-c339-4a8d-8ff3-2b03b0cecaae",
   "metadata": {},
   "outputs": [
    {
     "name": "stdout",
     "output_type": "stream",
     "text": [
      "False\n",
      "False is <class 'bool'>\n"
     ]
    }
   ],
   "source": [
    "z_two = False\n",
    "print(z_two)\n",
    "print(z_two, 'is', type(z_two))"
   ]
  },
  {
   "cell_type": "code",
   "execution_count": 19,
   "id": "e125950d-9b1e-44c5-8c6f-238c635956c3",
   "metadata": {},
   "outputs": [
    {
     "name": "stdout",
     "output_type": "stream",
     "text": [
      "True\n",
      "True is <class 'bool'>\n"
     ]
    }
   ],
   "source": [
    "z_three = (1 < 2)\n",
    "print(z_three)\n",
    "print(z_three, 'is', type(z_three))"
   ]
  },
  {
   "cell_type": "code",
   "execution_count": 20,
   "id": "b85c83a9-9686-4eaf-90d7-811a5a09e72e",
   "metadata": {},
   "outputs": [
    {
     "name": "stdout",
     "output_type": "stream",
     "text": [
      "False\n",
      "z_four is False which is data <class 'bool'>\n"
     ]
    }
   ],
   "source": [
    "z_four = (5 < 3)\n",
    "print(z_four)\n",
    "print('z_four', 'is', z_four, 'which is data', type(z_four))"
   ]
  },
  {
   "cell_type": "code",
   "execution_count": 21,
   "id": "4794cca6-c140-4e38-bb56-3190151f1a73",
   "metadata": {},
   "outputs": [
    {
     "name": "stdout",
     "output_type": "stream",
     "text": [
      "Is 5 < 3 True or False? False\n"
     ]
    }
   ],
   "source": [
    "print('Is 5 < 3 True or False?', z_four)"
   ]
  },
  {
   "cell_type": "code",
   "execution_count": 22,
   "id": "8322a290-8846-499c-baf0-d1540782c798",
   "metadata": {},
   "outputs": [
    {
     "name": "stdout",
     "output_type": "stream",
     "text": [
      "original value of z_four is: False\n",
      "z_five is not z_four therefore z_five is: True\n"
     ]
    }
   ],
   "source": [
    "z_five = not z_four\n",
    "print('original value of z_four is:', z_four)\n",
    "print('z_five is not z_four therefore z_five is:', z_five)"
   ]
  },
  {
   "cell_type": "code",
   "execution_count": 23,
   "id": "502b73e1-a2a5-4a26-a387-fffeb6156dae",
   "metadata": {},
   "outputs": [
    {
     "name": "stdout",
     "output_type": "stream",
     "text": [
      "\"abc\" alone = abc\n",
      "\"abc\" * False = \n"
     ]
    }
   ],
   "source": [
    "print('\"abc\" alone =', \"abc\")\n",
    "print('\"abc\" * False =', (\"abc\" * False))\n"
   ]
  },
  {
   "cell_type": "code",
   "execution_count": 24,
   "id": "744966f1-978e-4fb3-a077-0e20acd953ee",
   "metadata": {},
   "outputs": [],
   "source": [
    "def get_expected_cost(beds, baths, basement):\n",
    "    value = 80000 + (beds * 30000) + (baths * 10000) + (basement * 40000)\n",
    "    return value"
   ]
  },
  {
   "cell_type": "code",
   "execution_count": 25,
   "id": "67cdb417-f7e9-4039-b498-0a5718bb3a73",
   "metadata": {},
   "outputs": [
    {
     "name": "stdout",
     "output_type": "stream",
     "text": [
      "120000\n"
     ]
    }
   ],
   "source": [
    "b1b1f = get_expected_cost(1, 1, False)\n",
    "print(b1b1f)"
   ]
  },
  {
   "cell_type": "code",
   "execution_count": 26,
   "id": "b9df76ea-090c-42c7-8393-3db969c1522e",
   "metadata": {},
   "outputs": [
    {
     "name": "stdout",
     "output_type": "stream",
     "text": [
      "190000\n"
     ]
    }
   ],
   "source": [
    "b2b1t = get_expected_cost(2, 1, True)\n",
    "print(b2b1t)"
   ]
  },
  {
   "cell_type": "code",
   "execution_count": 27,
   "id": "c243940f-e20c-47ef-bfd6-31872a95c607",
   "metadata": {},
   "outputs": [
    {
     "name": "stdout",
     "output_type": "stream",
     "text": [
      "1\n"
     ]
    }
   ],
   "source": [
    "print(True + False)"
   ]
  },
  {
   "cell_type": "code",
   "execution_count": 28,
   "id": "9cf81bc8-f962-4bac-958b-d6777384b764",
   "metadata": {},
   "outputs": [
    {
     "name": "stdout",
     "output_type": "stream",
     "text": [
      "0\n"
     ]
    }
   ],
   "source": [
    "print(False + False)"
   ]
  },
  {
   "cell_type": "code",
   "execution_count": 29,
   "id": "1287a5cf-e419-4f3f-a28d-15a5a5f900c2",
   "metadata": {},
   "outputs": [
    {
     "name": "stdout",
     "output_type": "stream",
     "text": [
      "2\n"
     ]
    }
   ],
   "source": [
    "print(True + True + False)"
   ]
  },
  {
   "cell_type": "code",
   "execution_count": 30,
   "id": "91db668b-fd2d-45aa-b3b8-53b6fb330b1d",
   "metadata": {},
   "outputs": [
    {
     "name": "stdout",
     "output_type": "stream",
     "text": [
      "4\n"
     ]
    }
   ],
   "source": [
    "print(False + 4)"
   ]
  },
  {
   "cell_type": "code",
   "execution_count": 31,
   "id": "636dfb74-8b2e-4a57-9193-3f25d06df0c1",
   "metadata": {},
   "outputs": [
    {
     "name": "stdout",
     "output_type": "stream",
     "text": [
      "3\n"
     ]
    }
   ],
   "source": [
    "print(3 + False)"
   ]
  },
  {
   "cell_type": "code",
   "execution_count": 32,
   "id": "6cdb86d2-e59c-44ad-be31-5d0da0c620e2",
   "metadata": {},
   "outputs": [
    {
     "name": "stdout",
     "output_type": "stream",
     "text": [
      "5\n"
     ]
    }
   ],
   "source": [
    "print(False + True + 2 + True + 1)"
   ]
  },
  {
   "cell_type": "code",
   "execution_count": 33,
   "id": "8e581177-12e4-41f2-be3a-4f7b26f9379d",
   "metadata": {},
   "outputs": [],
   "source": [
    "def projectcost(engraving, gold):\n",
    "    cost = 50 + (50 * gold) + (len(engraving) * 7) + (gold * (len(engraving) * 3))\n",
    "    return cost"
   ]
  },
  {
   "cell_type": "code",
   "execution_count": 34,
   "id": "3d51021a-25fb-4e6b-9ce9-3c281b3919e1",
   "metadata": {},
   "outputs": [
    {
     "name": "stdout",
     "output_type": "stream",
     "text": [
      "210\n"
     ]
    }
   ],
   "source": [
    "tengold = projectcost(\"abcdefghijk\", True)\n",
    "print(tengold)"
   ]
  },
  {
   "cell_type": "code",
   "execution_count": 35,
   "id": "93d2c1c5-8ee7-490d-8df7-0091c968f49e",
   "metadata": {},
   "outputs": [
    {
     "name": "stdout",
     "output_type": "stream",
     "text": [
      "120\n"
     ]
    }
   ],
   "source": [
    "love = projectcost(\"I love you\", False)\n",
    "print(love)"
   ]
  },
  {
   "cell_type": "code",
   "execution_count": 36,
   "id": "ba5cb471-a4d4-4985-8e7b-8a57db832966",
   "metadata": {},
   "outputs": [],
   "source": [
    "def costproject(engraving, gold):\n",
    "    cost = gold * (100 + 10 * len(engraving)) + (not gold) * (50 + 7 * len(engraving))\n",
    "    return cost"
   ]
  },
  {
   "cell_type": "code",
   "execution_count": 37,
   "id": "0cbcc5af-bcb2-43f8-9329-14b3a5ae809a",
   "metadata": {},
   "outputs": [
    {
     "name": "stdout",
     "output_type": "stream",
     "text": [
      "120\n"
     ]
    }
   ],
   "source": [
    "love1 = costproject(\"I love you\", False)\n",
    "print(love1)"
   ]
  },
  {
   "cell_type": "code",
   "execution_count": 38,
   "id": "8d643083-4949-4593-98ce-e7729f030af9",
   "metadata": {},
   "outputs": [
    {
     "name": "stdout",
     "output_type": "stream",
     "text": [
      "200\n",
      "200\n"
     ]
    }
   ],
   "source": [
    "goldlove = projectcost(\"I love you\", True)\n",
    "print(goldlove)\n",
    "goldlove1 = costproject(\"I love you\", True)\n",
    "print(goldlove1)"
   ]
  },
  {
   "cell_type": "code",
   "execution_count": 39,
   "id": "acad991f-2a04-4221-8e98-1ef9212df075",
   "metadata": {},
   "outputs": [
    {
     "name": "stdout",
     "output_type": "stream",
     "text": [
      "240\n",
      "240\n"
     ]
    }
   ],
   "source": [
    "project1 = projectcost(\"Charlie+Denver\", True)\n",
    "print(project1)\n",
    "project1b = costproject(\"Charlie+Denver\", True)\n",
    "print(project1b)"
   ]
  },
  {
   "cell_type": "code",
   "execution_count": 40,
   "id": "81d17019-7208-4a7c-87ec-73af1538709c",
   "metadata": {},
   "outputs": [
    {
     "name": "stdout",
     "output_type": "stream",
     "text": [
      "120\n",
      "120\n"
     ]
    }
   ],
   "source": [
    "project2 = projectcost('08/10/2000', False)\n",
    "print(project2)\n",
    "project2b = costproject('08/10/2000', False)\n",
    "print(project2b)"
   ]
  },
  {
   "cell_type": "code",
   "execution_count": 41,
   "id": "0173b23d-eabd-4204-9b18-a10c69f6db56",
   "metadata": {},
   "outputs": [
    {
     "name": "stdout",
     "output_type": "stream",
     "text": [
      "Daytona 500 is <class 'str'>\n",
      "1000 is <class 'int'>\n",
      "98.6 is <class 'float'>\n",
      "True is <class 'bool'>\n"
     ]
    }
   ],
   "source": [
    "race = 'Daytona 500'\n",
    "kilo = 1000\n",
    "temp = 98.6\n",
    "flag = True\n",
    "\n",
    "print(race, 'is', type(race))\n",
    "print(kilo, 'is', type(kilo))\n",
    "print(temp, 'is', type(temp))\n",
    "print(flag, 'is', type(flag))"
   ]
  },
  {
   "cell_type": "code",
   "execution_count": 42,
   "id": "c5db7afa-730f-4a81-b5e6-767cc247da9d",
   "metadata": {},
   "outputs": [
    {
     "name": "stdout",
     "output_type": "stream",
     "text": [
      "4 > 8 = False\n"
     ]
    }
   ],
   "source": [
    "flag = 4 > 8\n",
    "print('4 > 8 =', flag)"
   ]
  },
  {
   "cell_type": "code",
   "execution_count": 43,
   "id": "e403b5b7-0698-4b3c-b305-d5327939eeea",
   "metadata": {},
   "outputs": [
    {
     "name": "stdout",
     "output_type": "stream",
     "text": [
      "Hello, Python!\n",
      "<class 'str'>\n"
     ]
    }
   ],
   "source": [
    "w = \"Hello, Python!\"\n",
    "print(w)\n",
    "print(type(w))"
   ]
  },
  {
   "cell_type": "code",
   "execution_count": 44,
   "id": "d6532cb9-42f2-46fc-aa65-4afe8c062279",
   "metadata": {},
   "outputs": [
    {
     "name": "stdout",
     "output_type": "stream",
     "text": [
      "\n",
      "0\n"
     ]
    }
   ],
   "source": [
    "shorteststring=\"\"\n",
    "print(shorteststring)\n",
    "print(len(shorteststring))"
   ]
  },
  {
   "cell_type": "code",
   "execution_count": 45,
   "id": "c1a7cd2b-e215-415c-b883-0caa56f4270e",
   "metadata": {},
   "outputs": [
    {
     "name": "stdout",
     "output_type": "stream",
     "text": [
      "mynumber = 1.12321\n",
      "<class 'str'>\n",
      "length = 7\n"
     ]
    }
   ],
   "source": [
    "mynumber = '1.12321'\n",
    "print('mynumber =', mynumber)\n",
    "print(type(mynumber))\n",
    "print('length =', len(mynumber))"
   ]
  },
  {
   "cell_type": "code",
   "execution_count": 46,
   "id": "d9a1449f-1be0-4c14-b6d8-3b875e99df6e",
   "metadata": {},
   "outputs": [
    {
     "name": "stdout",
     "output_type": "stream",
     "text": [
      "a = def\n",
      "a length = 3\n",
      "\n",
      "b = 456\n",
      "b length = 3\n",
      "\n",
      "newstring = abc123\n",
      "newstring length = 6\n",
      "\n",
      "newstring1 = def456\n",
      "newstring1 length = 6\n"
     ]
    }
   ],
   "source": [
    "a = \"def\"\n",
    "b = \"456\"\n",
    "print('a =', a)\n",
    "print('a length =', len(a))\n",
    "print('')\n",
    "print('b =', b)\n",
    "print('b length =', len(b))\n",
    "print('')\n",
    "newstring = \"abc\" + \"123\"\n",
    "newstring1 = a + b\n",
    "print('newstring =', newstring)\n",
    "print('newstring length =', len(newstring))\n",
    "print('')\n",
    "print('newstring1 =', newstring1)\n",
    "print('newstring1 length =', len(newstring1))"
   ]
  },
  {
   "cell_type": "code",
   "execution_count": 47,
   "id": "c25394d4-2cd7-4f0d-aa28-d33222f27fe2",
   "metadata": {},
   "outputs": [
    {
     "name": "stdout",
     "output_type": "stream",
     "text": [
      "abcabcabc\n",
      "9\n"
     ]
    }
   ],
   "source": [
    "threepeat = \"abc\" * 3\n",
    "print(threepeat)\n",
    "print(len(threepeat))"
   ]
  },
  {
   "cell_type": "code",
   "execution_count": 48,
   "id": "cd72bb33-ba79-4d57-8998-fcceb0bf4fb7",
   "metadata": {},
   "outputs": [
    {
     "name": "stdout",
     "output_type": "stream",
     "text": [
      "orig = abc\n",
      "orig length = 3\n",
      "\n",
      "threepeatorig = abcabcabc\n",
      "threepeatorig length = 9\n"
     ]
    }
   ],
   "source": [
    "orig = \"abc\"\n",
    "threepeatorig = orig * 3\n",
    "print('orig =', orig)\n",
    "print('orig length =', len(orig))\n",
    "print('')\n",
    "print('threepeatorig =', threepeatorig)\n",
    "print('threepeatorig length =', len(threepeatorig))"
   ]
  },
  {
   "cell_type": "code",
   "execution_count": 49,
   "id": "377e8548-c6e3-4226-9001-9aedd49254a3",
   "metadata": {},
   "outputs": [
    {
     "name": "stdout",
     "output_type": "stream",
     "text": [
      "1.12321 <class 'str'>\n"
     ]
    }
   ],
   "source": [
    "print(mynumber, type(mynumber))"
   ]
  },
  {
   "cell_type": "code",
   "execution_count": 50,
   "id": "cf6ad8e9-d070-4a70-9c0d-21f1be340935",
   "metadata": {},
   "outputs": [
    {
     "name": "stdout",
     "output_type": "stream",
     "text": [
      "1.12321 <class 'str'>\n",
      "\n",
      "1.12321 <class 'float'>\n"
     ]
    }
   ],
   "source": [
    "also_my_number = float(mynumber)\n",
    "print(mynumber, type(mynumber))\n",
    "print(\"\")\n",
    "print(also_my_number, type(also_my_number))"
   ]
  },
  {
   "cell_type": "code",
   "execution_count": 51,
   "id": "c22fea81-74a9-4642-99a4-aef9fd805639",
   "metadata": {},
   "outputs": [
    {
     "name": "stdout",
     "output_type": "stream",
     "text": [
      "practice1 = 10.43430\n",
      "practice1 type = <class 'str'>\n",
      "\n",
      "practice1float = 10.4343\n",
      "practice1float type = <class 'float'>\n"
     ]
    }
   ],
   "source": [
    "practice1 = \"10.43430\"\n",
    "print('practice1 =', practice1)\n",
    "print('practice1 type =', type(practice1))\n",
    "print('')\n",
    "practice1float = float(practice1)\n",
    "print('practice1float =', practice1float)\n",
    "print('practice1float type =', type(practice1float))"
   ]
  },
  {
   "cell_type": "code",
   "execution_count": 52,
   "id": "48959a6c-74cc-476b-9a25-658576bf00be",
   "metadata": {},
   "outputs": [
    {
     "name": "stdout",
     "output_type": "stream",
     "text": [
      "practice2 orig = 3\n",
      "practice 2 orig type = <class 'str'>\n",
      "\n",
      "practice2float = 3.0\n",
      "practice2float type = 3.0\n"
     ]
    }
   ],
   "source": [
    "practice2 = \"3\"\n",
    "print('practice2 orig =', practice2)\n",
    "print('practice 2 orig type =', type(practice2))\n",
    "print('')\n",
    "practice2float = float(practice2)\n",
    "print('practice2float =', practice2float)\n",
    "print('practice2float type =', practice2float)"
   ]
  },
  {
   "cell_type": "code",
   "execution_count": 53,
   "id": "bc6e075d-9def-462f-8962-db81ddbb790c",
   "metadata": {},
   "outputs": [
    {
     "name": "stdout",
     "output_type": "stream",
     "text": [
      "-1\n"
     ]
    }
   ],
   "source": [
    "print( int( -1.1234) )"
   ]
  },
  {
   "cell_type": "code",
   "execution_count": 54,
   "id": "27d220dc-7d68-40d9-9f35-548bb0f65247",
   "metadata": {},
   "outputs": [
    {
     "name": "stdout",
     "output_type": "stream",
     "text": [
      "-2\n"
     ]
    }
   ],
   "source": [
    "print( int( -2.123) )"
   ]
  },
  {
   "cell_type": "code",
   "execution_count": 55,
   "id": "ab75ca43-61d3-4f9a-a87d-61a412b36118",
   "metadata": {},
   "outputs": [
    {
     "name": "stdout",
     "output_type": "stream",
     "text": [
      "-2\n"
     ]
    }
   ],
   "source": [
    "print( int( -2.67) )"
   ]
  },
  {
   "cell_type": "code",
   "execution_count": 56,
   "id": "d122d9d9-e513-4538-9063-b9b3350b172a",
   "metadata": {},
   "outputs": [
    {
     "name": "stdout",
     "output_type": "stream",
     "text": [
      "-1\n"
     ]
    }
   ],
   "source": [
    "print( int( -1.4) )"
   ]
  },
  {
   "cell_type": "code",
   "execution_count": 57,
   "id": "f6814dc8-d723-4c0e-90c0-bc81533c64cd",
   "metadata": {},
   "outputs": [
    {
     "name": "stdout",
     "output_type": "stream",
     "text": [
      "-1\n"
     ]
    }
   ],
   "source": [
    "print( int( -1.1))"
   ]
  },
  {
   "cell_type": "code",
   "execution_count": 58,
   "id": "6ba97f09-96ac-4957-a158-7489e5097b63",
   "metadata": {},
   "outputs": [
    {
     "name": "stdout",
     "output_type": "stream",
     "text": [
      "10.43430\n"
     ]
    }
   ],
   "source": [
    "print(practice1)"
   ]
  },
  {
   "cell_type": "code",
   "execution_count": 59,
   "id": "b52d20f2-5721-49e4-836f-95eb2d084532",
   "metadata": {},
   "outputs": [
    {
     "name": "stdout",
     "output_type": "stream",
     "text": [
      "10.4343\n"
     ]
    }
   ],
   "source": [
    "prac1 = float(practice1)\n",
    "print(prac1)"
   ]
  },
  {
   "cell_type": "code",
   "execution_count": 60,
   "id": "1ab0c001-02ed-45ed-9b34-f5afbec4d1af",
   "metadata": {},
   "outputs": [
    {
     "name": "stdout",
     "output_type": "stream",
     "text": [
      "<class 'float'>\n"
     ]
    }
   ],
   "source": [
    "print(type(prac1))"
   ]
  },
  {
   "cell_type": "code",
   "execution_count": 61,
   "id": "681641eb-7e5b-4c85-9251-720f2ae9ae54",
   "metadata": {},
   "outputs": [
    {
     "name": "stdout",
     "output_type": "stream",
     "text": [
      "10\n",
      "<class 'int'>\n"
     ]
    }
   ],
   "source": [
    "prac1a = int(prac1)\n",
    "print(prac1a)\n",
    "print(type(prac1a))"
   ]
  },
  {
   "cell_type": "code",
   "execution_count": 62,
   "id": "1ece5ba2-5ad1-4a3a-9ad9-40418fa13c61",
   "metadata": {},
   "outputs": [
    {
     "name": "stdout",
     "output_type": "stream",
     "text": [
      "1.0\n",
      "<class 'float'>\n",
      "1\n",
      "<class 'int'>\n"
     ]
    }
   ],
   "source": [
    "y = 1.\n",
    "print(y)\n",
    "print(type(y))\n",
    "z = int(y)\n",
    "print(z)\n",
    "print(type(z))"
   ]
  },
  {
   "cell_type": "code",
   "execution_count": 63,
   "id": "d24bbe8d-3034-4e38-be27-dc226b4c0346",
   "metadata": {},
   "outputs": [
    {
     "name": "stdout",
     "output_type": "stream",
     "text": [
      "<class 'str'> <class 'str'>\n"
     ]
    }
   ],
   "source": [
    "num1 = '3'\n",
    "num2 = '9'\n",
    "print(type(num1), type(num2))"
   ]
  },
  {
   "cell_type": "code",
   "execution_count": 64,
   "id": "e531eae7-b9fa-45cf-9022-b9be0bab88b0",
   "metadata": {},
   "outputs": [
    {
     "name": "stdout",
     "output_type": "stream",
     "text": [
      "3 <class 'int'>\n"
     ]
    }
   ],
   "source": [
    "num1int = int(num1)\n",
    "print(num1int, type(num1int))"
   ]
  },
  {
   "cell_type": "code",
   "execution_count": 65,
   "id": "1d3fad18-1655-4f11-b722-c635642603db",
   "metadata": {},
   "outputs": [
    {
     "name": "stdout",
     "output_type": "stream",
     "text": [
      "9 <class 'int'>\n"
     ]
    }
   ],
   "source": [
    "num2int = int(num2)\n",
    "print(num2int, type(num2int))"
   ]
  },
  {
   "cell_type": "code",
   "execution_count": 66,
   "id": "69608a3d-b000-4570-be2a-3d9e1cd8ae3e",
   "metadata": {},
   "outputs": [
    {
     "name": "stdout",
     "output_type": "stream",
     "text": [
      "3\n",
      "9\n",
      "12 <class 'int'>\n"
     ]
    }
   ],
   "source": [
    "print(num1int)\n",
    "print(num2int)\n",
    "total = num1int + num2int\n",
    "print(total, type(total))"
   ]
  },
  {
   "cell_type": "code",
   "execution_count": 67,
   "id": "d5e566d6-1d2c-402a-b073-c8433288db72",
   "metadata": {},
   "outputs": [
    {
     "name": "stdout",
     "output_type": "stream",
     "text": [
      "type num1 = <class 'str'>\n",
      "type num2 = <class 'str'>\n",
      "12.0 <class 'float'>\n"
     ]
    }
   ],
   "source": [
    "print('type num1 =', type(num1))\n",
    "print('type num2 =', type(num2)) \n",
    "\n",
    "num1f = float(num1)\n",
    "num2f = float(num2)\n",
    "total = num1f + num2f\n",
    "print(total, type(total))"
   ]
  },
  {
   "cell_type": "code",
   "execution_count": 68,
   "id": "08b201d6-702d-4f66-ae7c-9198c91df1be",
   "metadata": {},
   "outputs": [],
   "source": [
    "def addfive(integer):\n",
    "    value = integer + 5\n",
    "    return value"
   ]
  },
  {
   "cell_type": "code",
   "execution_count": 69,
   "id": "f646e8ea-0868-4efb-9fad-b7fe586c693e",
   "metadata": {},
   "outputs": [
    {
     "name": "stdout",
     "output_type": "stream",
     "text": [
      "10\n"
     ]
    }
   ],
   "source": [
    "value = addfive(5)\n",
    "print(value)"
   ]
  },
  {
   "cell_type": "code",
   "execution_count": 70,
   "id": "7b3202ee-5283-4f4f-8b46-d226c8916d98",
   "metadata": {},
   "outputs": [
    {
     "name": "stdout",
     "output_type": "stream",
     "text": [
      "7 + 5 = 12\n"
     ]
    }
   ],
   "source": [
    "print('7 + 5 =', addfive(7))"
   ]
  },
  {
   "cell_type": "code",
   "execution_count": 71,
   "id": "f3128319-f619-4d2c-8af3-9d23c4323262",
   "metadata": {},
   "outputs": [
    {
     "name": "stdout",
     "output_type": "stream",
     "text": [
      "10 + 5 = 15\n"
     ]
    }
   ],
   "source": [
    "print('10 + 5 =', addfive(10))"
   ]
  },
  {
   "cell_type": "code",
   "execution_count": null,
   "id": "efb17dd6-3f5e-4fcb-baaf-c3ea77634035",
   "metadata": {},
   "outputs": [],
   "source": []
  },
  {
   "cell_type": "code",
   "execution_count": null,
   "id": "802674c4-f7bf-4d0b-ac9a-642bf7da028f",
   "metadata": {},
   "outputs": [],
   "source": []
  },
  {
   "cell_type": "code",
   "execution_count": 72,
   "id": "d63ceb47-0435-4c09-a4e2-9b758359f5be",
   "metadata": {},
   "outputs": [
    {
     "name": "stdout",
     "output_type": "stream",
     "text": [
      "Assign numerical values to variables a and b\n",
      "a = 8\n",
      "b = 4\n"
     ]
    }
   ],
   "source": [
    "a = 8\n",
    "b = 4\n",
    "\n",
    "print('Assign numerical values to variables a and b')\n",
    "print('a =', a)\n",
    "print('b =', b)"
   ]
  },
  {
   "cell_type": "code",
   "execution_count": 73,
   "id": "3bca0a3e-2568-4285-a162-4136e18f1535",
   "metadata": {},
   "outputs": [
    {
     "name": "stdout",
     "output_type": "stream",
     "text": [
      "original a = 8\n",
      "original b = 4\n",
      "a += b results in a + b = 12 = the new value of a\n"
     ]
    }
   ],
   "source": [
    "\n",
    "# Add and assign a new value to the first variable a and display its stored value\n",
    "print('original a =', a)\n",
    "print('original b =', b)\n",
    "a += b\n",
    "print('a += b results in a + b =', a, '= the new value of a')"
   ]
  },
  {
   "cell_type": "code",
   "execution_count": null,
   "id": "e227bd18-9f1d-4e3c-b6f7-0c1d468d647c",
   "metadata": {},
   "outputs": [],
   "source": []
  }
 ],
 "metadata": {
  "kernelspec": {
   "display_name": "Python 3 (ipykernel)",
   "language": "python",
   "name": "python3"
  },
  "language_info": {
   "codemirror_mode": {
    "name": "ipython",
    "version": 3
   },
   "file_extension": ".py",
   "mimetype": "text/x-python",
   "name": "python",
   "nbconvert_exporter": "python",
   "pygments_lexer": "ipython3",
   "version": "3.11.5"
  }
 },
 "nbformat": 4,
 "nbformat_minor": 5
}
