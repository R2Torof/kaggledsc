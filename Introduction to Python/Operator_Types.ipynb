{
 "cells": [
  {
   "cell_type": "markdown",
   "id": "6084d75e",
   "metadata": {},
   "source": [
    "# Introduction to Programming Kaggle Course\n",
    "#### Notes and practice from course\n",
    "###### <u>*The following rules for references apply in markdown notes*<u>\n",
    "###### - *Things in \"quotes\" in markdown are direct quotes from ***Coding for Beginner's In Easy Steps 2nd Edition*** book*\n",
    "###### - *Things in 'quotes' in markdown are direct quotes from ***Kaggle Course*** okay*"
   ]
  },
  {
   "cell_type": "markdown",
   "id": "8cff253f-71c4-4711-9c73-acf05e873a8d",
   "metadata": {},
   "source": [
    "# **Definitions**"
   ]
  },
  {
   "cell_type": "markdown",
   "id": "3d2e30ff-cd26-421e-add0-a23a77b9e03f",
   "metadata": {},
   "source": [
    "## I. **<u>Terms</u>**\n",
    "\n",
    "| Word | Definition | How its used | Purpose | Example  | Example Explanation |\n",
    "| ---- | ---------- | ------------ | ------- | -------- | ------------------- |\n",
    "| <font color=\"MediumPurple\"> **Literal** </font> | A **FIXED** value in code that represents a specific data type directly. | Provides **FIXED** data values | | | |\n",
    "| | Are **constant** values that represent data directly | 1. **Initialize** <font color=\"DarkCyan\"> **variables** </font> | To set the initial value of a variable when the variable is first declared |' <font color=\"DarkCyan\"> **x** </font> <font color=\"GoldenRod\">  **=**  </font> <font color=\"MediumPurple\"> **5** </font> ' | Initialize the variable '<font color=\"DarkCyan\"> **x** </font>' with the literal '<font color=\"MediumPurple\"> **5** </font>'. Meaning that the literal '<font color=\"MediumPurple\"> **5** </font>' initializes the variable '<font color=\"DarkCyan\">**x**</font>' with an **initial VALUE** of '**5**' |\n",
    "| | | 2. Provide Data **Directly** in Code | Use a <font color=\"MediumPurple\"> ***literal*** </font> to directly include specific data within your code, even if it's not related to variable initialization | ***print(*** <font color=\"MediumPurple\"> **\"Hello, World!\"** </font> ***)*** | Here **'** <font color=\"MediumPurple\"> **\"Hello, World!\"** </font> is a **String Literal** that provides data DIRECTLY in the code, and it's not being used to initialize a variable in this context. |\n",
    "| | | | | | |\n",
    "| <font color=\"Magenta\"> **Value** </font> | A **specific instance** of a data type that can **CHANGE** during program execution | The same variable can be assigned many values throughout the code execution. Because by definition a variable is variable. When you are changing whats assigned to a variable the thing you are assigning the variable is then called a <font color=\"Magenta\"> **Value** </font> | In the same program assign x the integer '5' | x = <font color=\"Magenta\"> **5** </font> | the **integer '5'** represents a value in this case |\n",
    "| | Represents data that can **CHANGE**| | Later on change x to the text string \"World\" | x = <font color=\"Magenta\"> **\"World\"** </font> | the **text string \"World\"** represents a value in this case since it replaced the integer '5'|\n",
    "| | | | Even later on change x to the Boolean value of 'False' | x = <font color=\"Magenta\"> **False** </font> | the **Boolean value** represents a value because it replaced the text string which replaced the integer\"|\n",
    "| | | | | | |\n",
    "| <font color=\"Orange\">**Operand**</font> | The name used for the <font color=\"DarkCyan\"> ***Variables*** </font> **or** <font color=\"Magenta\"> **Values** </font>  **or** <font color=\"Purple\"> **Expressions** </font> that are used in operations or <font color=\"purple\"> **Expressions** </fonts> | Identifiable because they are values separated by **Operators** in an <font color=\"purple\"> **expression** </font> ***or*** **operation** ***or*** <font color=\"purple\"> **statement**</font> | Used in calculations **or** comparisons in expressions | | |\n",
    "| | | | All the following are true for the following expression| Expression '**y + 3**' | **Operands** = '<font color=\"Orange\"> **y** </font>' AND '<font color=\"Orange\"> **3** </font>' | \n",
    "| | | | | | **Operators** = '<font color=\"GoldenRod\"> **+** </font>' | \n",
    "| | | | | | if looked at alone then the ***'y'*** can be a <font color=\"DarkCyan\"> **variable** </font> that holds a <font color=\"Magenta\"> **value** </font> **or** or a <font color=\"MediumPurple\"> **literal** </font> |\n",
    "| | | | | | if looked at alone if not within an expression then the **'3'** would be considered a <font color=\"MediumPurple\"> **literal** </font> |\n",
    "| | | | | | |\n",
    "| <font color=\"GoldenRod\"> **Operators** </font> | Symbols or Keywords used in programming to perform various operations on data, values or variables | See other table for all the different operators in Python |"
   ]
  },
  {
   "cell_type": "code",
   "execution_count": null,
   "id": "4ffea11c-0f52-4205-b332-69329879e1d2",
   "metadata": {},
   "outputs": [],
   "source": []
  },
  {
   "cell_type": "markdown",
   "id": "d2302ea0-abe3-40ff-9371-6e20bd33e953",
   "metadata": {},
   "source": [
    "## II. **<u>Operator Types</u>**\n",
    "\n",
    "### A. **Arithmetic Operators:**\n",
    "Used to perform mathematical operations on numerical data\n",
    "\n",
    "| Operator Type | Operation Performed | Operator | Example | Example Explanation |\n",
    "| ------------- | ------------------- | -------- | ------- | ------------------- |\n",
    "| **Arithmetic Operators** | | | | |\n",
    "|               | Addition | <font color=\"GoldenRod\"> **+** </font> | 5 <font color=\"GoldenRod\"> **+** </font> 3  **=**  8 |   |\n",
    "|               | Subtraction | <font color=\"GoldenRod\"> **-** </font>  | 7 <font color=\"GoldenRod\"> **-** </font> 2  **=**  5 | |\n",
    "|               | Multiplication |   *   | 4 **<font color=\"GoldenRod\"> * </font>** 6  **=**  24| |\n",
    "|               | Division | <font color=\"GoldenRod\"> **/** </font> | 8 <font color=\"GoldenRod\"> **/** </font> 2  **=**  4.0 | Prints out float number not integer. Divides the first number by the 2nd number | \n",
    "|               | Modulus (Remainder) | <font color=\"GoldenRod\"> **%** </font> | 8 <font color=\"GoldenRod\"> **%** </font> 3  **=**  2 | Calculates the remainder after division. 8/3 = 2 with a remainder of 2 b/c 2*3 = 6, 8-6 = 2 = remainder |\n",
    "|               | Floor Division (Integer division) | <font color=\"GoldenRod\"> **//** </font> | 8 <font color=\"GoldenRod\"> **//** </font> 3  **=**  2  | Gives the integer part of the division result. True answer is 2.666666 |\n",
    "|               | Exponent |    **    | 2 **<font color=\"GoldenRod\"> ** </font>** 3  **=**  8 | Raises the first number to the power of the second |"
   ]
  },
  {
   "cell_type": "markdown",
   "id": "bd21bdee-b3ad-402a-be3d-ab55efe412fb",
   "metadata": {},
   "source": [
    "### B. **Comparison Operators:**\n",
    "\n",
    "- Symbols used to **COMPARE** <font color=\"Orange\"> **operands** </font> and RETURN a **Boolean Result** of <font color=\"ForestGreen\"> ***True*** </font> or <font color=\"Red\"> ***False*** </font> Based on the comparison.\n",
    "\n",
    "- Essential for performing math calc and making comparisions so you can create dynamic and logic-based applications\n",
    "###### *The term <font color=\"Orange\"> operand </font> is used to refer to the values or expressions on which the <font color=\"GoldenRod\"> operator </font> operates to produce a result*\n",
    "\n",
    "\n",
    "| Operator Type | Definition | Operation Performed | Operator | Example | Example Explanation |\n",
    "| ------------- |----------- | ------------------- | -------- | ------- | ------------------- |\n",
    "| **Comparison Operator** | Compares 2 operands and . . . | | | | |\n",
    "|      Equality:          | . . . Results in <font color=\"ForestGreen\"> ***True*** </font> **ONLY IF** the operands are **Equal** in value     | **Equal to**     | <font color=\"GoldenRod\"> **==** </font> |  **5  <font color=\"GoldenRod\"> == </font>  5** | print output = <font color=\"ForestGreen\"> **True** </font> b/c 5 is in fact = to 5 | \n",
    "| | | | | **7 <font color=\"GoldenRod\"> == </font> 3** | print output = <font color=\"Red\"> **False** </font> b/c 7 is NOT equal to 3 |\n",
    "| | | | | | |\n",
    "|      Inequality:        | . . . Results in <font color=\"ForestGreen\"> ***True*** </font> **ONLY IF** the operands are **NOT Equal** in value | **<font color=\"Crimson\"> Not </font> Equal to** | <font color=\"GoldenRod\"> **!=** </font> |**7  <font color=\"GoldenRod\"> != </font>  3** | Print output = <font color=\"ForestGreen\"> **True** </font> b/c 7 is NOT = to 3 | \n",
    "| |  | | | **5 <font color=\"GoldenRod\"> != </font> 5** | print output = <font color=\"Red\"> **False** </font> b/c 5 isn't NOT equal to 5 |\n",
    "| | | | | | |\n",
    "|      Greater?           | . . . Results in <font color=\"ForestGreen\"> ***True*** </font> **ONLY IF** the 1st operand is **GREATER than** the 2nd operand | **Greater Than**    | <font color=\"GoldenRod\"> **>**  </font> | **6  <font color=\"GoldenRod\"> > </font>  2** | print output = <font color=\"ForestGreen\"> **True** </font> b/c 6 is greater than 2 | \n",
    "| |  | | | **4 <font color=\"GoldenRod\"> > </font> 9** | print output = <font color=\"Red\"> **False** </font> b/c 4 NOT greater than 9\n",
    "| | | | | | |\n",
    "|      Lesser?           | . . . Results in <font color=\"ForestGreen\"> ***True*** </font> **ONLY IF** the 1st operand is **LESS than** the 2nd operand           | **Lesser Than**      | **<font color=\"GoldenRod\"> <  </font>** | **4 <font color=\"GoldenRod\"> < </font> 9** | print output = <font color=\"ForestGreen\"> **True** </font> b/c 4 is less than 9 | \n",
    "| | | | | **6 <font color=\"GoldenRod\"> < </font> 2** | print output = <font color=\"Red\"> **False** </font> b/c 6 is **NOT** less than 2 |\n",
    "|                         |            | **Greater than** *or* **Equal to** | <font color=\"GoldenRod\"> **>=**  </font> |   ex  |  ee | \n",
    "|                         |            | **Lesser Than** *or* **Equal to**  | **<font color=\"GoldenRod\"> <=  </font>** |   ex  |  ee | "
   ]
  },
  {
   "cell_type": "code",
   "execution_count": 1,
   "id": "eac8dee4-209b-453c-a3ee-00c83e9b4aa0",
   "metadata": {},
   "outputs": [
    {
     "name": "stdout",
     "output_type": "stream",
     "text": [
      "Is 6 > 2 accurate?: True\n"
     ]
    }
   ],
   "source": [
    "print( 'Is 6 > 2 accurate?:', 6 > 2 )"
   ]
  },
  {
   "cell_type": "code",
   "execution_count": 2,
   "id": "183d77c7-9e55-496c-9f42-6b6a895943b1",
   "metadata": {},
   "outputs": [
    {
     "name": "stdout",
     "output_type": "stream",
     "text": [
      "Is 4 > 9 accurate?: False\n"
     ]
    }
   ],
   "source": [
    "print( 'Is 4 > 9 accurate?:', 4 > 9 )"
   ]
  },
  {
   "cell_type": "markdown",
   "id": "097ee569-2fa3-4e6f-858b-2190b847deb4",
   "metadata": {},
   "source": [
    "#### 1. **<u>Equality and Inequality Operators</u>**\n",
    "\"Useful in testing the state of 2 <font color=\"DarkCyan\"> **variables** </font> to perform **conditional branching** in a program according to the result\"\n",
    "\n",
    "- If BOTH the <font color=\"Orange\"> **operands** </font> being compared are numbers ( ***integers*** or ***floats*** ) then that is easy to understand what output result will be\n",
    ">\n",
    "- If BOTH the <font color=\"Orange\"> **operands** </font> being compared are ***Strings*** then there **Unicode** values are compared numerically to achieve the comparison result\n",
    "    - Actually comparing the numbers (***Unicode values***) that **represent the characters** IN those **strings** to see if they are the same Unicode values or different\n"
   ]
  },
  {
   "cell_type": "code",
   "execution_count": 3,
   "id": "e366b7c0-c1b9-4ed9-aa87-b04be49dec62",
   "metadata": {},
   "outputs": [
    {
     "name": "stdout",
     "output_type": "stream",
     "text": [
      "Is 5 = to 5?: True\n"
     ]
    }
   ],
   "source": [
    "\n",
    "# Since 5 = 5 then output should be True\n",
    "print('Is 5 = to 5?:', 5 == 5)"
   ]
  },
  {
   "cell_type": "code",
   "execution_count": 4,
   "id": "bc9070fb-bb8b-4eaf-97aa-37a585893dfa",
   "metadata": {},
   "outputs": [
    {
     "name": "stdout",
     "output_type": "stream",
     "text": [
      "Is 7 = to 3?: False\n"
     ]
    }
   ],
   "source": [
    "\n",
    "# Since 7 is NOT = to 3 the statement is False\n",
    "# Output should be False\n",
    "print('Is 7 = to 3?:', 7 == 3 )"
   ]
  },
  {
   "cell_type": "code",
   "execution_count": 5,
   "id": "bf98506a-527d-4b28-84ac-f9991d56dd5f",
   "metadata": {},
   "outputs": [
    {
     "name": "stdout",
     "output_type": "stream",
     "text": [
      "Is 5 NOT = to 5?: False\n"
     ]
    }
   ],
   "source": [
    "\n",
    "# Since 5 = 5 then the statement is 5 not equal to 5 is False\n",
    "# Output should be False\n",
    "print('Is 5 NOT = to 5?:', 5 != 5)"
   ]
  },
  {
   "cell_type": "code",
   "execution_count": 6,
   "id": "3a5a0c2f-4a26-4807-948e-34a278be2f63",
   "metadata": {},
   "outputs": [
    {
     "name": "stdout",
     "output_type": "stream",
     "text": [
      "Is 7 NOT = to 3?: True\n"
     ]
    }
   ],
   "source": [
    "\n",
    "# Since 7 is NOT = to 3 the statement is True\n",
    "# Output should be True\n",
    "print('Is 7 NOT = to 3?:', 7 != 3)"
   ]
  },
  {
   "cell_type": "code",
   "execution_count": 7,
   "id": "fef323fd-9d5b-44c0-87d6-1b957dbbf272",
   "metadata": {},
   "outputs": [
    {
     "name": "stdout",
     "output_type": "stream",
     "text": [
      "Equality 0 == 0 output is True\n"
     ]
    }
   ],
   "source": [
    "# Make 2 variables same value\n",
    "# Create statement to prove if equal\n",
    "nil = 0\n",
    "num = 0\n",
    "print('Equality', nil, '==', num, 'output is', nil == num)"
   ]
  },
  {
   "cell_type": "code",
   "execution_count": 8,
   "id": "4ef4a727-a737-4572-9c68-1ba2e93a6baf",
   "metadata": {},
   "outputs": [
    {
     "name": "stdout",
     "output_type": "stream",
     "text": [
      "Inequality 0 != 0 output is False\n"
     ]
    }
   ],
   "source": [
    "print('Inequality', nil, '!=', num, 'output is', nil != num)"
   ]
  },
  {
   "cell_type": "markdown",
   "id": "f521d11e-6e2a-44c4-ba45-1c04c1fd4f9c",
   "metadata": {},
   "source": [
    ">\n",
    ">\n",
    "##### a. <u>**Unicode**</u>\n",
    "###### *lesson from ChatGPT 12/29/23*\n",
    "Is a big list of numbers where each number represents a specific character or symbol for almost every writing system in the world\n",
    "\n",
    "- It like a universal code for text that includes:\n",
    "    - Letters\n",
    "    - Numbers\n",
    "    - Emojis\n",
    "    - etc\n",
    ">\n",
    "- Helps computers understand and display all the different characters and symbols from different languages and cultures\n",
    ">\n",
    "- It's like a common language for text in the digital world\n",
    "\n",
    "| Character | Unicode Values |\n",
    "| --------- | -------------- |\n",
    "| **Uppercase** A - Z | 65 thru 90 |\n",
    "| **Lowercase** a - z | 97 thru 122 |\n",
    "\n",
    "so 'A' = 65\n",
    "so 'a' = 97"
   ]
  },
  {
   "cell_type": "code",
   "execution_count": 9,
   "id": "247e117f-6893-4808-8f26-c5385f4b80e5",
   "metadata": {},
   "outputs": [
    {
     "name": "stdout",
     "output_type": "stream",
     "text": [
      "Equality A == a output is False\n"
     ]
    }
   ],
   "source": [
    "# Show that the unicode for lower and upper case is different\n",
    "# Uppper and Lower are not equal\n",
    "cap = 'A'\n",
    "low = 'a'\n",
    "print('Equality', cap, '==', low, 'output is', cap == low)"
   ]
  },
  {
   "cell_type": "code",
   "execution_count": 10,
   "id": "085b6b73-131f-4d7b-85e1-9ac1469c8c5e",
   "metadata": {},
   "outputs": [
    {
     "name": "stdout",
     "output_type": "stream",
     "text": [
      "Inequality A != a output is True\n"
     ]
    }
   ],
   "source": [
    "print('Inequality', cap, '!=', low, 'output is', cap != low)"
   ]
  },
  {
   "cell_type": "code",
   "execution_count": 11,
   "id": "98e356e4-4086-453e-8e97-ec50a7a4e759",
   "metadata": {},
   "outputs": [
    {
     "name": "stdout",
     "output_type": "stream",
     "text": [
      "Equality 0 == 1 output is False\n"
     ]
    }
   ],
   "source": [
    "# Create 2 variables, one higher than the other\n",
    "# Test their equality\n",
    "nil = 0\n",
    "top = 1\n",
    "print('Equality', nil, '==', top, 'output is', nil == top)"
   ]
  },
  {
   "cell_type": "code",
   "execution_count": 12,
   "id": "9f73ad6e-d390-440a-b7b2-d02ced1d2479",
   "metadata": {},
   "outputs": [
    {
     "name": "stdout",
     "output_type": "stream",
     "text": [
      "Inequality 0 != 1 True\n"
     ]
    }
   ],
   "source": [
    "# Test inequality should be true b/c not equal\n",
    "print('Inequality', nil, '!=', top, nil != top)"
   ]
  },
  {
   "cell_type": "markdown",
   "id": "63f10720-4bc2-468e-9ac9-8eb98f4bd840",
   "metadata": {},
   "source": [
    ">\n",
    ">\n",
    "#### 2. **<u> Greater or Less Than Operators</u>**\n",
    "\"Often used to test the value of an **iteration counter** in a **loop**\"\n",
    "\n",
    "<font color=\"IndianRed\"> *I assume this will be discussed in future Kaggle lessons so will hold off and understanding the above statement from the Coding book* </font>"
   ]
  },
  {
   "cell_type": "markdown",
   "id": "1bc18499-3523-4e00-b10e-0778faebf3e6",
   "metadata": {},
   "source": [
    "##### a. **Greater Than operator:**"
   ]
  },
  {
   "cell_type": "code",
   "execution_count": 13,
   "id": "fb24f846-6010-4ddc-8a34-fe342d2d2cfa",
   "metadata": {},
   "outputs": [
    {
     "name": "stdout",
     "output_type": "stream",
     "text": [
      "Greater than? Is 0 greater than (>) 1 answer is = False\n"
     ]
    }
   ],
   "source": [
    "\n",
    "# Test greater than 0 NOT > 1 so FALSE\n",
    "print('Greater than? Is', nil, 'greater than (>)', top, 'answer is =', nil > top) "
   ]
  },
  {
   "cell_type": "code",
   "execution_count": 14,
   "id": "c739d091-f82e-4cf5-91a7-a69726a0f578",
   "metadata": {},
   "outputs": [
    {
     "name": "stdout",
     "output_type": "stream",
     "text": [
      "Greater than? Is 1 greater than (>) 0 answer is = True\n"
     ]
    }
   ],
   "source": [
    "\n",
    "# top is > 1 so TRUE\n",
    "print('Greater than? Is', top, 'greater than (>)', nil, 'answer is =', top > nil)"
   ]
  },
  {
   "cell_type": "code",
   "execution_count": 15,
   "id": "577df9c9-80aa-45b9-aea2-0aa3da934520",
   "metadata": {},
   "outputs": [
    {
     "name": "stdout",
     "output_type": "stream",
     "text": [
      "a > A? True\n"
     ]
    }
   ],
   "source": [
    "\n",
    "# Lower case has higher unicode A = 65\n",
    "# so Lower case is > than Upper case a = 97\n",
    "print('a > A?', low > cap)"
   ]
  },
  {
   "cell_type": "code",
   "execution_count": 16,
   "id": "b03d0bb8-f11e-491d-a4d2-a52654fbfb42",
   "metadata": {},
   "outputs": [
    {
     "name": "stdout",
     "output_type": "stream",
     "text": [
      "A > a? False\n"
     ]
    }
   ],
   "source": [
    "print('A > a?', cap > low)"
   ]
  },
  {
   "cell_type": "markdown",
   "id": "eacfd3c9-64a2-4a0b-96cf-b568fc5dc05d",
   "metadata": {},
   "source": [
    ">\n",
    ">\n",
    "##### b. **Less Than operator:**"
   ]
  },
  {
   "cell_type": "code",
   "execution_count": 17,
   "id": "22128701-31e2-4637-b9d8-15ad235aeca6",
   "metadata": {},
   "outputs": [
    {
     "name": "stdout",
     "output_type": "stream",
     "text": [
      "Lesser than? Is 0 lesser than (<) 1 answer is = True\n"
     ]
    }
   ],
   "source": [
    "# Test less than 0 is < 1 so TRUE\n",
    "print('Lesser than? Is', nil, 'lesser than (<)', top, 'answer is =', nil < top)"
   ]
  },
  {
   "cell_type": "code",
   "execution_count": 18,
   "id": "8f85786d-031b-4a9b-9771-2d6ba047dae7",
   "metadata": {},
   "outputs": [
    {
     "name": "stdout",
     "output_type": "stream",
     "text": [
      "Lesser than? Is 1 lesser than (<) 0 answer is = False\n"
     ]
    }
   ],
   "source": [
    "\n",
    "# Test 1 is NOT < 0 so FALE\n",
    "print('Lesser than? Is', top, 'lesser than (<)', nil, 'answer is =', top < nil)"
   ]
  },
  {
   "cell_type": "code",
   "execution_count": 19,
   "id": "7c3982fe-a87c-4e12-940e-31ff4752dd81",
   "metadata": {},
   "outputs": [
    {
     "name": "stdout",
     "output_type": "stream",
     "text": [
      "A < a? True\n"
     ]
    }
   ],
   "source": [
    "\n",
    "print('A < a?', cap < low)"
   ]
  },
  {
   "cell_type": "code",
   "execution_count": 20,
   "id": "00dd6466-bfeb-4c82-b6da-851d01ee678e",
   "metadata": {},
   "outputs": [
    {
     "name": "stdout",
     "output_type": "stream",
     "text": [
      "a < A? False\n"
     ]
    }
   ],
   "source": [
    "\n",
    "print('a < A?', low < cap)"
   ]
  },
  {
   "cell_type": "markdown",
   "id": "211d56e2-aa2c-47a6-88a1-317088b2a017",
   "metadata": {},
   "source": [
    ">\n",
    ">\n",
    "#### 3. **<u> Greater or Equal AND Less or Equal Than Operators</u>**\n"
   ]
  },
  {
   "cell_type": "markdown",
   "id": "1852071c-fdae-4857-a42a-ef99379e91dd",
   "metadata": {},
   "source": [
    "##### a. **Greater Than or EQUAL to operator:**"
   ]
  },
  {
   "cell_type": "code",
   "execution_count": 21,
   "id": "879b0ac0-70ce-4eac-8cee-9bd879c16884",
   "metadata": {},
   "outputs": [
    {
     "name": "stdout",
     "output_type": "stream",
     "text": [
      "1 >/= 0 True\n"
     ]
    }
   ],
   "source": [
    "# Test greater or equal\n",
    "# 1 is greater or equal to 0\n",
    "print('1 >/= 0', top >= nil)"
   ]
  },
  {
   "cell_type": "code",
   "execution_count": 22,
   "id": "86580f08-ac93-4b47-9672-e81780e4865a",
   "metadata": {},
   "outputs": [
    {
     "name": "stdout",
     "output_type": "stream",
     "text": [
      "0 >/= 0 True\n"
     ]
    }
   ],
   "source": [
    "\n",
    "print('0 >/= 0', nil >= num)"
   ]
  },
  {
   "cell_type": "code",
   "execution_count": 23,
   "id": "efebb883-ca1a-4e75-9645-5e669d51475a",
   "metadata": {},
   "outputs": [
    {
     "name": "stdout",
     "output_type": "stream",
     "text": [
      "0 >/= 1 False\n"
     ]
    }
   ],
   "source": [
    "\n",
    "print('0 >/= 1', nil >= top)"
   ]
  },
  {
   "cell_type": "code",
   "execution_count": 24,
   "id": "8cdccf51-d4f0-49b6-a152-3408cfc6b485",
   "metadata": {},
   "outputs": [
    {
     "name": "stdout",
     "output_type": "stream",
     "text": [
      "A >/= a False\n"
     ]
    }
   ],
   "source": [
    "\n",
    "print('A >/= a', cap >= low)"
   ]
  },
  {
   "cell_type": "code",
   "execution_count": 25,
   "id": "ec98d60a-a0cb-410a-846d-77b37c0c7a88",
   "metadata": {},
   "outputs": [
    {
     "name": "stdout",
     "output_type": "stream",
     "text": [
      "a >/= A True\n"
     ]
    }
   ],
   "source": [
    "\n",
    "print('a >/= A', low >= cap)"
   ]
  },
  {
   "cell_type": "markdown",
   "id": "721f8e58-0deb-47d7-9589-3e40ae1df997",
   "metadata": {},
   "source": [
    ">\n",
    ">\n",
    "##### b. **Less Than or EQUAL to operator:**"
   ]
  },
  {
   "cell_type": "code",
   "execution_count": 26,
   "id": "2e1d9cc2-db52-4867-98f6-453271ff3f23",
   "metadata": {},
   "outputs": [
    {
     "name": "stdout",
     "output_type": "stream",
     "text": [
      "1 </= 0 False\n"
     ]
    }
   ],
   "source": [
    "print('1 </= 0', top <= nil)"
   ]
  },
  {
   "cell_type": "code",
   "execution_count": 27,
   "id": "1df97264-e73e-4aad-a08b-ec4a2ef75527",
   "metadata": {},
   "outputs": [
    {
     "name": "stdout",
     "output_type": "stream",
     "text": [
      "0 </= 1 True\n"
     ]
    }
   ],
   "source": [
    "\n",
    "print('0 </= 1', nil <= top)"
   ]
  },
  {
   "cell_type": "code",
   "execution_count": 28,
   "id": "969ef7e6-cf8a-451b-9cc3-b48a46382395",
   "metadata": {},
   "outputs": [
    {
     "name": "stdout",
     "output_type": "stream",
     "text": [
      "0 </= 0 True\n"
     ]
    }
   ],
   "source": [
    "\n",
    "print('0 </= 0', nil <= num)"
   ]
  },
  {
   "cell_type": "code",
   "execution_count": 29,
   "id": "47af7f32-642d-4444-9fa6-e7d56fa0c715",
   "metadata": {},
   "outputs": [
    {
     "name": "stdout",
     "output_type": "stream",
     "text": [
      "A </= a? True\n"
     ]
    }
   ],
   "source": [
    "\n",
    "print('A </= a?', cap <= low)"
   ]
  },
  {
   "cell_type": "code",
   "execution_count": 30,
   "id": "ec50c21d-ea8e-4d27-9dbd-5582522a9d92",
   "metadata": {},
   "outputs": [
    {
     "name": "stdout",
     "output_type": "stream",
     "text": [
      "a </= A? False\n"
     ]
    }
   ],
   "source": [
    "\n",
    "print('a </= A?', low <= cap)"
   ]
  },
  {
   "cell_type": "code",
   "execution_count": null,
   "id": "d31f8805-93aa-41f5-97a6-386b5e9b615f",
   "metadata": {},
   "outputs": [],
   "source": []
  },
  {
   "cell_type": "code",
   "execution_count": null,
   "id": "73fb47e7-6158-4555-a0f1-338ed75daf00",
   "metadata": {},
   "outputs": [],
   "source": []
  },
  {
   "cell_type": "markdown",
   "id": "a5082370-8e8a-4fcf-a184-557897d19545",
   "metadata": {},
   "source": [
    "### C. **Assignment Operators:**\n",
    "\n",
    "- Basic assignment operator of \"<font color=\"GoldenRod\"> **=** </font>\" is used to assign a <font color=\"Magenta\"> **value** </font> to a <font color=\"DarkCyan\"> ***variable*** </font>\n",
    "\n",
    "- Optionally, this basic assignment operator of \"<font color=\"GoldenRod\"> **=** </font> can be **COMBINED** with an **Arithmetical Operator** to perform **BOTH** actions in one single operations. The actions of:\n",
    "    - Arithmetic\n",
    "    - Assigning that arithmetic to a variable\n",
    "###### *The term <font color=\"Orange\"> operand </font> is used to refer to the values or expressions on which the <font color=\"GoldenRod\"> operator </font> operates to produce a result*\n",
    "\n",
    "Assigns a variable with an arithmetic operation . . .\n",
    "\n",
    "| Operator Type | Operation Performed | Operator | Example | Equivalent Too | Explanation |\n",
    "| ------------- | ------------------- | -------- | ------- | -------------- | ----------- |\n",
    "| **Assignment Operator** |  | | | | |\n",
    "| 1. | **Assignment** | <font color=\"GoldenRod\"> **=** </font> | <font color=\"DarkCyan\"> ***a*** </font> <font color=\"GoldenRod\"> **=** </font> <font color=\"Magenta\"> **8** </font> |  | Assigning the **value** <font color=\"Magenta\"> **8** </font>  to the ***variable*** <font color=\"DarkCyan\"> ***a*** </font>  | \n",
    "| | | | <font color=\"DarkCyan\"> ***b*** </font> <font color=\"GoldenRod\"> **=** </font> <font color=\"Magenta\"> **4** </font> | | Assigning the **value** <font color=\"Magenta\"> **4** </font>  to the ***variable*** <font color=\"DarkCyan\"> ***b*** </font>  | \n",
    "| | | | <font color=\"DarkCyan\"> ***c*** </font> <font color=\"GoldenRod\"> **=** </font> <font color=\"Magenta\"> **b** </font> | '<font color=\"DarkCyan\">**c**</font>' **=** <font color=\"DarkCyan\"> **b** </font> **=** <font color=\"Magenta\"> **4** </font> | Assigning the ***variable*** '<font color=\"DarkCyan\"> ***c*** </font>' the **value** '<font color=\"Magenta\"> **b** </font>' which also happens to be an assigned ***<font color=\"DarkCyan\"> variable </font>*** so it itself contains the **value** '<font color=\"Magenta\"> **4** </font>'|\n",
    "| | | | | |  |\n",
    "| | | | | | |\n",
    "| 2. <font color=\"SlateGray\"> ***Add and Assign*** </font> | **ADDITION** and **Assignment** | <font color=\"GoldenRod\"> **+=** </font> | <font color=\"DarkCyan\"> ***a*** </font> <font color=\"GoldenRod\"> **+=** </font> <font color=\"Orange\"> **b** </font> | '<font color=\"DarkCyan\"> ***a*** </font>' **= (** <font color=\"DarkCyan\"> **a** </font> <font color=\"GoldenRod\"> **+** </font> <font color=\"Orange\"> **b** </font> **)** | ***Assigning*** '<font color=\"DarkCyan\"> ***a*** </font>' a new assigned value, that new value is the **RESULT** of the addition operation expression **(** <font color=\"DarkCyan\"> **a** </font> <font color=\"GoldenRod\"> **+** </font> <font color=\"Orange\"> **b** </font> **)** | \n",
    "| | | | <font color=\"DarkCyan\"> ***y*** </font> <font color=\"GoldenRod\"> **+=** </font> <font color=\"Orange\"> **5** </font> | '<font color=\"DarkCyan\"> ***y*** </font>' **= (** <font color=\"DarkCyan\"> ***y*** </font> <font color=\"GoldenRod\"> **+** </font> <font color=\"Orange\"> **5** </font> **)** | ***Assigning*** '<font color=\"DarkCyan\"> ***y*** </font>' a new assigned value, that new value is the **RESULT** of the addition operation expression **(** <font color=\"DarkCyan\"> **y** </font> <font color=\"GoldenRod\"> **+** </font> <font color=\"Orange\"> **5** </font> **)** | \n",
    "| | | | | | |\n",
    "| | | | | | |\n",
    "| 3. <font color=\"SlateGray\"> ***Subtract and Assign*** </font>  | **SUBTRACTION** and **Assignment** | <font color=\"GoldenRod\"> **-=**  </font> | <font color=\"DarkCyan\"> ***a*** </font> <font color=\"GoldenRod\"> **-=** </font> <font color=\"Orange\"> **b** </font>| '<font color=\"DarkCyan\"> ***a*** </font>' **= (** <font color=\"DarkCyan\"> **a** </font> <font color=\"GoldenRod\"> **-** </font> <font color=\"Orange\"> **b** </font> **)** | ***Assigning*** '<font color=\"DarkCyan\"> ***a*** </font>' a new assigned value, that new value is the **RESULT** of the subtraction operation expression **(** <font color=\"DarkCyan\"> **a** </font> <font color=\"GoldenRod\"> **-** </font> <font color=\"Orange\"> **b** </font> **)** | \n",
    "| | | | <font color=\"DarkCyan\"> ***z*** </font> <font color=\"GoldenRod\"> **-=** </font> <font color=\"Orange\"> **3** </font> | '<font color=\"DarkCyan\"> ***z*** </font>' **= (** <font color=\"DarkCyan\"> ***z*** </font> <font color=\"GoldenRod\"> **-** </font> <font color=\"Orange\"> **3** </font> **)** | ***Assigning*** '<font color=\"DarkCyan\"> ***z*** </font>' a new assigned value, that new value is the **RESULT** of the subtraction operation expression **(** <font color=\"DarkCyan\"> **z** </font> <font color=\"GoldenRod\"> **-** </font> <font color=\"Orange\"> **3** </font> **)** |\n",
    "| | | | | | |\n",
    "| | | | | | |\n",
    "| 4. <font color=\"SlateGray\"> ***Multiply and Assign*** </font> | **MULTIPLICATION** and **Assignment**  | **' <font color=\"GoldenRod\">*=</font> '** | <font color=\"DarkCyan\"> ***a*** </font> **<font color=\"GoldenRod\">*=</font>** <font color=\"Orange\"> **b** </font> | '<font color=\"DarkCyan\"> ***a*** </font>' **= (** <font color=\"DarkCyan\"> **a** </font> **<font color=\"GoldenRod\">*</font>** <font color=\"Orange\"> **b** </font> **)** | ***Assigning*** '<font color=\"DarkCyan\"> ***a*** </font>' a new assigned value, that new value is the **RESULT** of the multiplication operation expression **(** <font color=\"DarkCyan\"> **a** </font> **<font color=\"GoldenRod\">*</font>** <font color=\"Orange\"> **b** </font> **)** | \n",
    "| | | |<font color=\"DarkCyan\"> ***a*** </font> **<font color=\"GoldenRod\">*=</font>** <font color=\"Orange\"> **2** </font> | '<font color=\"DarkCyan\"> ***a*** </font>' **= (** <font color=\"DarkCyan\"> **a** </font> **<font color=\"GoldenRod\">*</font>** <font color=\"Orange\"> **2** </font> **)** | ***Assigning*** '<font color=\"DarkCyan\"> ***a*** </font>' a new assigned value, that new value is the **RESULT** of the multiplication operation expression **(** <font color=\"DarkCyan\"> **a** </font> **<font color=\"GoldenRod\">*</font>** <font color=\"Orange\"> **2** </font> **)** | \n",
    "| | | | | | |\n",
    "| | | | | | |\n",
    "| 5. <font color=\"SlateGray\"> ***Divide and Assign*** </font> | **DIVISION** and **Assignment** | <font color=\"GoldenRod\"> **/=**  </font> | <font color=\"DarkCyan\"> **a** </font> <font color=\"GoldenRod\"> **/=** </font> <font color=\"Orange\"> **b** </font> | '<font color=\"DarkCyan\"> ***a*** </font>' **= (** <font color=\"DarkCyan\"> ***a*** </font> <font color=\"GoldenRod\"> **/** </font> <font color=\"Orange\"> **b** </font> **)** | ***Assigning*** '<font color=\"DarkCyan\"> ***a*** </font>' a new assigned value, that new value is the **RESULT** of the division operation expression **(** <font color=\"DarkCyan\"> ***a*** </font> <font color=\"GoldenRod\"> **/** </font> <font color=\"Orange\"> **b** </font> **)** |\n",
    "| | | | <font color=\"DarkCyan\"> ***b*** </font> <font color=\"GoldenRod\"> **/=** </font> <font color=\"Orange\"> **4** </font> | '<font color=\"DarkCyan\"> ***b*** </font>' **= (** <font color=\"DarkCyan\"> ***b*** </font> <font color=\"GoldenRod\"> **/** </font> <font color=\"Orange\"> **4** </font> **)** | ***Assigning*** '<font color=\"DarkCyan\"> ***b*** </font>' a new assigned value, that new value is the **RESULT** of the division operation expression **(** <font color=\"DarkCyan\"> ***b*** </font> <font color=\"GoldenRod\"> **/** </font> <font color=\"Orange\"> **4** </font> **)** |\n",
    "| | | | | | |\n",
    "| | | | | | |\n",
    "| 6. <font color=\"SlateGray\"> ***Modulus and Assign*** </font> | **DIVIDE** then **Assign** the ***Modulus***| **<font color=\"GoldenRod\"> %= </font>** | <font color=\"DarkCyan\"> ***a*** </font> <font color=\"GoldenRod\"> **%=** </font> <font color=\"Orange\"> **b** </font>| '<font color=\"DarkCyan\"> ***a*** </font>' **= (** <font color=\"DarkCyan\"> ***a*** </font> <font color=\"GoldenRod\"> **%** </font> <font color=\"Orange\"> **b** </font> **)** | **Dividing** <font color=\"DarkCyan\"> ***a*** </font> by <font color=\"Orange\"> **b** </font> then assigning the **REMAINDER** of that division operation to the variable '<font color=\"DarkCyan\"> ***a*** </font>' |\n",
    "| | | | | | |\n",
    "| | | | | | |\n",
    "| 7. <font color=\"SlateGray\"> ***Floor Division and Assign*** </font> | **DIVIDE** then **Assign** **truncated** result | **<font color=\"GoldenRod\"> //= </font>** | <font color=\"DarkCyan\"> ***a*** </font> <font color=\"GoldenRod\"> **//=** </font> <font color=\"Orange\"> **b** </font> | '<font color=\"DarkCyan\"> ***a*** </font>' **= (** <font color=\"DarkCyan\"> ***a*** </font> <font color=\"GoldenRod\"> **//** </font> <font color=\"Orange\"> **b** </font> **)** | **Dividing** <font color=\"DarkCyan\"> ***a*** </font> by <font color=\"Orange\"> **b** </font> then removing the **Float** (Decimal part) from the result and assigning it to the variable '<font color=\"DarkCyan\"> ***a*** </font>' |\n",
    "| | | | | | |\n",
    "| | | | | | |\n",
    "| 8. <font color=\"SlateGray\"> ***Exponent and Assign*** </font> | **Exponentiation** and **Assignment**| <font color=\"GoldenRod\"> **= </font> | <font color=\"DarkCyan\"> ***a*** </font> <font color=\"GoldenRod\"> **= </font> <font color=\"Orange\"> ***3*** </font> | '<font color=\"DarkCyan\"> ***a*** </font>' **= (** <font color=\"DarkCyan\"> ***a*** </font> <font color=\"GoldenRod\"> ** </font> <font color=\"Orange\"> **3** </font> **)** | **Multiplying** <font color=\"DarkCyan\"> ***a*** </font> by itself 3 times **=** <font color=\"DarkCyan\"> **a** </font> **x** <font color=\"DarkCyan\"> **a** </font> **x** <font color=\"DarkCyan\"> **a** </font> |\n",
    "| | | | | | |\n",
    "| | | | | | |"
   ]
  },
  {
   "cell_type": "markdown",
   "id": "a450e9ee-a8c3-4d28-ade8-e9b01796315a",
   "metadata": {},
   "source": [
    ">\n",
    ">\n",
    "#### 1. **Assignment Operator**\n",
    ". . . Results in <font color=\"DarkCyan\"> ***variable*** </font> being **assigned** a <font color=\"Magenta\"> **value** </font>\n",
    "\n",
    "###### ***<u>Example 1</u>***\n",
    "Assign a <font color=\"Magenta\"> numerical value </font> to 2 variables called '<font color=\"DarkCyan\"> **a** </font>' and '<font color=\"DarkCyan\"> **b** </font>' in the code cell below"
   ]
  },
  {
   "cell_type": "code",
   "execution_count": 31,
   "id": "34c882ac-5b53-4aa5-945d-6fc07033a70d",
   "metadata": {},
   "outputs": [
    {
     "name": "stdout",
     "output_type": "stream",
     "text": [
      "a = 8\n",
      "b = 4\n"
     ]
    }
   ],
   "source": [
    "# Assign 8 to variable 'a'\n",
    "a = 8\n",
    "\n",
    "# Assign 4 to variable 'b'\n",
    "b = 4\n",
    "\n",
    "# Print values with labels\n",
    "print('a =', a)\n",
    "print('b =', b)"
   ]
  },
  {
   "cell_type": "markdown",
   "id": "887af1a7-4061-42d0-9130-8b39af5fae89",
   "metadata": {},
   "source": [
    ">\n",
    ">\n",
    "##### <u>***Example 2</u>***\n",
    "Assign a ***Variable*** that contains a value to another variable\n",
    "\n",
    "Assign variable '<font color=\"DarkCyan\"> ***c*** </font>' to contain variable '<font color=\"DarkCyan\"> ***b*** </font>'\n",
    "- This converts variable '<font color=\"DarkCyan\"> ***b*** </font>' into a <font color=\"Magenta\"> **value** </font>\n",
    "- Now the variable '<font color=\"DarkCyan\"> ***c*** </font>' contains the **value** called '<font color=\"Magenta\"> **b** </font>'\n",
    "    - <font color=\"Magenta\"> **b** </font> itself contains the value '<font color=\"Magenta\">**4**</font>' \n",
    ">\n",
    ">\n",
    "> <font color=\"DarkCyan\"> ***b*** </font> <font color=\"GoldenRod\"> **=** </font> <font color=\"Magenta\"> **4** </font>\n",
    ">\n",
    "> <font color=\"DarkCyan\"> ***c*** </font> <font color=\"GoldenRod\"> **=** </font> <font color=\"Magenta\"> **b** </font>\n",
    "- Therefore '<font color=\"DarkCyan\"> ***c*** </font>' contains the variable '<font color=\"DarkCyan\"> **b** </font>' as its value\n",
    "- The value contained within the variable '<font color=\"DarkCyan\"> **b** </font>' is <font color=\"Magenta\"> **4** </font>\n",
    ">\n",
    ">\n",
    "> <font color=\"DarkCyan\"> ***c*** </font> <font color=\"GoldenRod\"> **=** </font> <font color=\"Magenta\"> **b** </font> **=** <font color=\"Magenta\"> **4** </font>"
   ]
  },
  {
   "cell_type": "code",
   "execution_count": 32,
   "id": "5db24d1a-a4be-4caa-843a-9d6460c25255",
   "metadata": {},
   "outputs": [
    {
     "name": "stdout",
     "output_type": "stream",
     "text": [
      "b = 4\n",
      "c = b = 4\n"
     ]
    }
   ],
   "source": [
    "# Print value of b\n",
    "print('b =', b)\n",
    "\n",
    "# Assign a new variable 'c' to contain the variable 'b' as its value\n",
    "c = b\n",
    "\n",
    "# Print the value of c\n",
    "print('c = b =', c)"
   ]
  },
  {
   "cell_type": "code",
   "execution_count": null,
   "id": "df0d1c42-db6f-4320-ac72-223044d2b73e",
   "metadata": {},
   "outputs": [],
   "source": []
  },
  {
   "cell_type": "markdown",
   "id": "5dbc8a17-4815-48a2-a2ab-e61a0eafd6d7",
   "metadata": {},
   "source": [
    ">\n",
    ">\n",
    "#### 2. **Add and Assign Operator**\n",
    ">\n",
    ">\n",
    "> <font color=\"DarkCyan\"> ***Variable*** </font> <font color=\"GoldenRod\"> **+=** </font> <font color=\"Orange\"> **Operand** </font>\n",
    "\n",
    "Means the following:\n",
    "1. **Adding** the **value** of the '<font color=\"Orange\"> **Operand** </font>' (= the item on the **RIGHT** of the <font color=\"GoldenRod\"> assignment operator </font> ) to the **value** of the <font color=\"DarkCyan\"> ***variable*** </font> (= the item on the **LEFT** of the <font color=\"GoldenRod\"> assignment operator </font> )\n",
    "2. AND then **update** the <font color=\"DarkCyan\"> ***Variable*** </font> with the **RESULT** of that **Addition**\n",
    ">\n",
    ">\n"
   ]
  },
  {
   "cell_type": "markdown",
   "id": "ba3fce54-5b8d-4b55-a5e1-2e84dde729d9",
   "metadata": {},
   "source": [
    ">\n",
    ">\n",
    "##### ***<u>Example 1</u>*** \n",
    "ADD ***operand*** '<font color=\"Orange\"> **b** </font>' to variable '<font color=\"DarkCyan\"> ***a*** </font>' and ASSIGN the RESULT to variable '<font color=\"DarkCyan\"> ***a*** </font>'\n",
    "\n",
    "- Despite **b** being also a <font color=\"DarkCyan\"> ***variable*** </font> when it is in the add and assign operator expression it is considered an <font color=\"Orange\"> **operand** </font> instead"
   ]
  },
  {
   "cell_type": "code",
   "execution_count": 33,
   "id": "2fbdb290-962b-46f4-b8c3-ab838e87abbd",
   "metadata": {},
   "outputs": [
    {
     "name": "stdout",
     "output_type": "stream",
     "text": [
      "Original value of a = 8\n",
      "Original value of b = 4\n",
      "\n",
      "New 'a' = 'a + b' = 8 + 4\n",
      "\n",
      "New value of 'a' once 'a += b' performed = 12\n"
     ]
    }
   ],
   "source": [
    "# Print and label original value of 'a'\n",
    "print('Original value of a =', a)\n",
    "\n",
    "# Print and label original value of 'b'\n",
    "print('Original value of b =', b)\n",
    "\n",
    "# Blank between them\n",
    "print()\n",
    "\n",
    "# Text string stating equation \n",
    "print(\"New 'a' = 'a + b' = 8 + 4\")\n",
    "\n",
    "#Blank between them\n",
    "print()\n",
    "\n",
    "# Add 'b' to 'a' while simultaneously assigning the result to variable 'a'\n",
    "a += b\n",
    "print(\"New value of 'a' once 'a += b' performed =\", a)"
   ]
  },
  {
   "cell_type": "markdown",
   "id": "c627e2d1-19ce-4a5a-a89b-944a1d1a8054",
   "metadata": {},
   "source": [
    ">\n",
    ">\n",
    "##### ***<u>Example 2</u>***\n",
    "ADD ***operand*** '<font color=\"Orange\"> **5** </font>' to variable '<font color=\"DarkCyan\"> ***y*** </font>' and ASSIGN the RESULT to variable '<font color=\"DarkCyan\"> ***y*** </font>'"
   ]
  },
  {
   "cell_type": "code",
   "execution_count": 34,
   "id": "49268f7b-0b0c-4221-8eea-02cd1bfafd15",
   "metadata": {},
   "outputs": [
    {
     "name": "stdout",
     "output_type": "stream",
     "text": [
      "Original y value = 1\n",
      "\n",
      "y += 5 result: 6\n",
      "New y value = 6\n"
     ]
    }
   ],
   "source": [
    "# Assign variable 'y' to = 1 then print and label it\n",
    "y = 1\n",
    "print('Original y value =', y)\n",
    "\n",
    "# Blank between them\n",
    "print() \n",
    "\n",
    "# Add 5 to 'y' and assign new result to 'y'\n",
    "# print and label it\n",
    "y += 5\n",
    "print('y += 5 result:', y)\n",
    "print('New y value =', y)"
   ]
  },
  {
   "cell_type": "code",
   "execution_count": null,
   "id": "e8ba1648-b928-4ae3-87e9-cdbc0b396958",
   "metadata": {},
   "outputs": [],
   "source": []
  },
  {
   "cell_type": "markdown",
   "id": "1f652331-155b-41db-9dfa-e89715bac99a",
   "metadata": {},
   "source": [
    ">\n",
    ">\n",
    "#### 3. **Subtract and Assign Operator**\n",
    ">\n",
    ">\n",
    "> <font color=\"DarkCyan\"> ***Variable*** </font> <font color=\"GoldenRod\"> **-=** </font> <font color=\"Orange\"> **Operand** </font>\n",
    "\n",
    "Means the following:\n",
    "1. **Subtracting** the **value** of the '<font color=\"Orange\"> **Operand** </font>' (= the item on the **RIGHT** of the <font color=\"GoldenRod\"> assignment operator </font> ) from the **value** of the <font color=\"DarkCyan\"> ***variable*** </font> (= the item on the **LEFT** of the <font color=\"GoldenRod\"> assignment operator </font> )\n",
    "2. AND then **update** the <font color=\"DarkCyan\"> ***Variable*** </font> with the **RESULT** of that **Subtraction**\n",
    ">\n",
    ">\n"
   ]
  },
  {
   "cell_type": "markdown",
   "id": "baf3b714-0d0a-4a7e-9fa7-93b76035cd40",
   "metadata": {},
   "source": [
    "##### ***<u>Example 1</u>*** \n",
    "SUBTRACT ***operand*** '<font color=\"Orange\"> **b** </font>' to variable '<font color=\"DarkCyan\"> ***a*** </font>' and ASSIGN the RESULT to variable '<font color=\"DarkCyan\"> ***a*** </font>'\n"
   ]
  },
  {
   "cell_type": "code",
   "execution_count": 35,
   "id": "adc563a3-0c46-4cb7-8685-d4d42f3d598d",
   "metadata": {},
   "outputs": [
    {
     "name": "stdout",
     "output_type": "stream",
     "text": [
      "Original value of a = 12\n",
      "Original value of b = 4\n",
      "\n",
      "New 'a' = 'a - b' = 12 - 4\n",
      "\n",
      "New value of 'a' once 'a -= b' performed = 8\n"
     ]
    }
   ],
   "source": [
    "# Print and label original value of 'a', since code cell above already did things to a it is not the original 8\n",
    "print('Original value of a =', a)\n",
    "\n",
    "# Print and label original value of 'b'\n",
    "print('Original value of b =', b)\n",
    "\n",
    "# Blank between them\n",
    "print()\n",
    "\n",
    "# Text string stating equation \n",
    "print(\"New 'a' = 'a - b' = 12 - 4\")\n",
    "\n",
    "#Blank between them\n",
    "print()\n",
    "\n",
    "# Subtract 'b' from 'a' while simultaneously assigning the result to variable 'a'\n",
    "a -= b\n",
    "print(\"New value of 'a' once 'a -= b' performed =\", a)"
   ]
  },
  {
   "cell_type": "markdown",
   "id": "593f2814-5db7-402c-a35c-fe3135f64f09",
   "metadata": {},
   "source": [
    ">\n",
    ">\n",
    "##### ***<u>Example 2</u>***\n",
    "SUBTRACT ***operand*** '<font color=\"Orange\"> **3** </font>' from variable '<font color=\"DarkCyan\"> ***z*** </font>' and ASSIGN the RESULT to variable '<font color=\"DarkCyan\"> ***z*** </font>'"
   ]
  },
  {
   "cell_type": "code",
   "execution_count": 36,
   "id": "757517f1-6084-49b4-a8c6-41c123b4c010",
   "metadata": {},
   "outputs": [
    {
     "name": "stdout",
     "output_type": "stream",
     "text": [
      "Original z value = 1\n",
      "\n",
      "New 'z' = 'z - 3' = '1 - 3' = result: -2\n",
      "New z value = -2\n"
     ]
    }
   ],
   "source": [
    "# Assign variable 'z' to = 1 then print and label it\n",
    "z = 1\n",
    "print('Original z value =', z)\n",
    "\n",
    "# Blank between them\n",
    "print() \n",
    "\n",
    "# Subtract 3 from 'z' and assign new result to 'z'\n",
    "# print and label it\n",
    "z -= 3\n",
    "print(\"New 'z' = 'z - 3' = '1 - 3' = result:\", z)\n",
    "print('New z value =', z)"
   ]
  },
  {
   "cell_type": "code",
   "execution_count": null,
   "id": "5a00a676-dfd8-422a-b9fd-40eebefa95a4",
   "metadata": {},
   "outputs": [],
   "source": []
  },
  {
   "cell_type": "markdown",
   "id": "4f2070f2-31ef-4f0c-9c09-d7a276b4e71f",
   "metadata": {},
   "source": [
    ">\n",
    ">\n",
    "#### 4. **Multiply and Assign Operator**\n",
    ">\n",
    ">\n",
    "> <font color=\"DarkCyan\"> ***Variable*** </font> **<font color=\"GoldenRod\">*=</font>** <font color=\"Orange\"> **Operand** </font>\n",
    "\n",
    "Means the following:\n",
    "1. **Multiply** the **value** of the '<font color=\"Orange\"> **Operand** </font>' (= the item on the **RIGHT** of the <font color=\"GoldenRod\"> assignment operator </font> ) by the **value** of the <font color=\"DarkCyan\"> ***variable*** </font> (= the item on the **LEFT** of the <font color=\"GoldenRod\"> assignment operator </font> )\n",
    "2. AND then **update** the <font color=\"DarkCyan\"> ***Variable*** </font> with the **RESULT** of that **Multiplicationn**\n",
    ">\n",
    ">\n"
   ]
  },
  {
   "cell_type": "markdown",
   "id": "5f8d171e-2195-45b4-9d4d-9645550702b8",
   "metadata": {},
   "source": [
    "##### ***<u>Example 1</u>*** \n",
    "Multiply ***operand*** '<font color=\"Orange\"> **b** </font>' by variable '<font color=\"DarkCyan\"> ***a*** </font>' and ASSIGN the RESULT to variable '<font color=\"DarkCyan\"> ***a*** </font>'\n"
   ]
  },
  {
   "cell_type": "code",
   "execution_count": 37,
   "id": "af89a903-7e31-421b-b9a8-14630d07fa93",
   "metadata": {},
   "outputs": [
    {
     "name": "stdout",
     "output_type": "stream",
     "text": [
      "Original value of a = 8\n",
      "Original value of b = 4\n",
      "\n",
      "New 'a' = 'a * b' = 8 * 4\n",
      "\n",
      "New value of 'a' once 'a *= b' performed = 32\n"
     ]
    }
   ],
   "source": [
    "# Print and label original value of 'a', since code cell above already did things to a it is not the original 8\n",
    "print('Original value of a =', a)\n",
    "\n",
    "# Print and label original value of 'b'\n",
    "print('Original value of b =', b)\n",
    "\n",
    "# Blank between them\n",
    "print()\n",
    "\n",
    "# Text string stating equation \n",
    "print(\"New 'a' = 'a * b' = 8 * 4\")\n",
    "\n",
    "#Blank between them\n",
    "print()\n",
    "\n",
    "# Multiply 'b' by 'a' while simultaneously assigning the result to variable 'a'\n",
    "a *= b\n",
    "print(\"New value of 'a' once 'a *= b' performed =\", a)"
   ]
  },
  {
   "cell_type": "markdown",
   "id": "187dc65a-a161-4df3-8243-1fcf352b8361",
   "metadata": {},
   "source": [
    ">\n",
    ">\n",
    "##### ***<u>Example 2</u>***\n",
    "Multiply ***operand*** '<font color=\"Orange\"> **2** </font>' by variable '<font color=\"DarkCyan\"> ***a*** </font>' and ASSIGN the RESULT to variable '<font color=\"DarkCyan\"> ***a*** </font>'"
   ]
  },
  {
   "cell_type": "code",
   "execution_count": 38,
   "id": "71d0b69d-1b67-4d92-9a0a-514c516203ff",
   "metadata": {},
   "outputs": [
    {
     "name": "stdout",
     "output_type": "stream",
     "text": [
      "Original a value = 32\n",
      "\n",
      "a *= 2 result: 64\n",
      "New a value = 64\n"
     ]
    }
   ],
   "source": [
    "# Print and label original value of 'a', since code cells above already did things to a we don't actually know 'a' original value\n",
    "print('Original a value =', a)\n",
    "\n",
    "# Blank between them\n",
    "print() \n",
    "\n",
    "# Multiple 'a' by 2 and assign new result to 'a'\n",
    "# print and label it\n",
    "a *= 2\n",
    "print('a *= 2 result:', a)\n",
    "print('New a value =', a)"
   ]
  },
  {
   "cell_type": "code",
   "execution_count": null,
   "id": "dbe14e73-6ed0-41cd-8520-5c0bfd1d130c",
   "metadata": {},
   "outputs": [],
   "source": []
  },
  {
   "cell_type": "markdown",
   "id": "0ee86542-2d45-4960-8d11-739d30caed14",
   "metadata": {},
   "source": [
    ">\n",
    ">\n",
    "#### 5. **Division and Assign Operator**\n",
    ">\n",
    ">\n",
    "> <font color=\"DarkCyan\"> ***Variable*** </font> **<font color=\"GoldenRod\">/=</font>** <font color=\"Orange\"> **Operand** </font>\n",
    "\n",
    "Means the following:\n",
    "1. **Divide** the **value** of the '<font color=\"Orange\"> **Operand** </font>' (= the item on the **RIGHT** of the <font color=\"GoldenRod\"> assignment operator </font> ) from the **value** of the <font color=\"DarkCyan\"> ***variable*** </font> (= the item on the **LEFT** of the <font color=\"GoldenRod\"> assignment operator </font> )\n",
    "2. AND then **update** the <font color=\"DarkCyan\"> ***Variable*** </font> with the **RESULT** of that **Division**\n",
    ">\n",
    ">\n"
   ]
  },
  {
   "cell_type": "markdown",
   "id": "484e746f-940c-4d7a-a289-c82f9ad1f912",
   "metadata": {},
   "source": [
    "##### ***<u>Example 1</u>*** \n",
    "Divide ***operand*** '<font color=\"Orange\"> **b** </font>' from the variable '<font color=\"DarkCyan\"> ***a*** </font>' and ASSIGN the RESULT to variable '<font color=\"DarkCyan\"> ***a*** </font>'\n"
   ]
  },
  {
   "cell_type": "code",
   "execution_count": 39,
   "id": "d37c8bc3-dd63-4c71-8158-11ff774001f0",
   "metadata": {},
   "outputs": [
    {
     "name": "stdout",
     "output_type": "stream",
     "text": [
      "Original value of a = 64\n",
      "Original value of b = 4\n",
      "\n",
      "New 'a' = 'a / b' = 64 * 4\n",
      "\n",
      "New value of 'a' once 'a /= b' performed = 16.0\n"
     ]
    }
   ],
   "source": [
    "# Print and label original value of 'a', since code cell above already did things to a it is not the original 8\n",
    "print('Original value of a =', a)\n",
    "\n",
    "# Print and label original value of 'b'\n",
    "print('Original value of b =', b)\n",
    "\n",
    "# Blank between them\n",
    "print()\n",
    "\n",
    "# Text string stating equation \n",
    "print(\"New 'a' = 'a / b' = 64 * 4\")\n",
    "\n",
    "#Blank between them\n",
    "print()\n",
    "\n",
    "# Divide 'a' by 'b' while simultaneously assigning the result to variable 'a'\n",
    "a /= b\n",
    "print(\"New value of 'a' once 'a /= b' performed =\", a)"
   ]
  },
  {
   "cell_type": "markdown",
   "id": "f072c45d-b437-404b-b7b0-0508acff6b03",
   "metadata": {},
   "source": [
    ">\n",
    ">\n",
    "##### ***<u>Example 2</u>***\n",
    "Divide ***operand*** '<font color=\"Orange\"> **4** </font>' from the variable '<font color=\"DarkCyan\"> ***b*** </font>' and ASSIGN the RESULT to variable '<font color=\"DarkCyan\"> ***b*** </font>'"
   ]
  },
  {
   "cell_type": "code",
   "execution_count": 40,
   "id": "fd70850b-8c04-4686-a546-8fdacb0db84d",
   "metadata": {},
   "outputs": [
    {
     "name": "stdout",
     "output_type": "stream",
     "text": [
      "Original b value = 4\n",
      "\n",
      "New 'b' = 'b / 4' = '4 / 4' result: 1.0\n",
      "New b value = 1.0\n"
     ]
    }
   ],
   "source": [
    "# Print and label original value of 'b', since code cells above already did things to a we don't actually know 'b' original value\n",
    "print('Original b value =', b)\n",
    "\n",
    "# Blank between them\n",
    "print() \n",
    "\n",
    "# Divide 'b' by 4 and assign new result to 'b'\n",
    "# print and label it\n",
    "b /= 4\n",
    "print(\"New 'b' = 'b / 4' = '4 / 4' result:\", b)\n",
    "print('New b value =', b)"
   ]
  },
  {
   "cell_type": "code",
   "execution_count": null,
   "id": "4638fafc-d074-494f-a93a-395eda4045b1",
   "metadata": {},
   "outputs": [],
   "source": []
  },
  {
   "cell_type": "markdown",
   "id": "113e7f32-c379-4ea7-9b88-7a30eba931e2",
   "metadata": {},
   "source": [
    ">\n",
    ">\n",
    "#### 6. **Modulus and Assign Operator**\n",
    ">\n",
    ">\n",
    "> <font color=\"DarkCyan\"> ***Variable*** </font> **<font color=\"GoldenRod\">%=</font>** <font color=\"Orange\"> **Operand** </font>\n",
    "\n",
    "Means the following:\n",
    "1. **Divide** the **value** of the '<font color=\"Orange\"> **Operand** </font>' (= the item on the **RIGHT** of the <font color=\"GoldenRod\"> assignment operator </font> ) from the **value** of the <font color=\"DarkCyan\"> ***variable*** </font> (= the item on the **LEFT** of the <font color=\"GoldenRod\"> assignment operator </font> )\n",
    "2. Then find the ***REMAINDER*** of that **division**\n",
    "3. AND then **update** the <font color=\"DarkCyan\"> ***Variable*** </font> with whatever that **Remainder RESULT** is of that **Division**.\n",
    "\n",
    "- Remainder = ***Modulus*** \n",
    ">\n",
    ">\n"
   ]
  },
  {
   "cell_type": "markdown",
   "id": "7c4c8bc7-3fe2-43ca-b105-5b93df5b1e07",
   "metadata": {},
   "source": [
    "##### ***<u>Example 1</u>*** \n",
    "What is the remainder of the division of ***operand*** '<font color=\"Orange\"> **b** </font>' from the variable '<font color=\"DarkCyan\"> ***a*** </font>' and ASSIGN the RESULT to variable '<font color=\"DarkCyan\"> ***a*** </font>'\n"
   ]
  },
  {
   "cell_type": "code",
   "execution_count": 41,
   "id": "f97a4739-8ce1-4d94-a933-bb4a45bd1b4d",
   "metadata": {},
   "outputs": [
    {
     "name": "stdout",
     "output_type": "stream",
     "text": [
      "Original value of a = 15\n",
      "Original value of b = 2\n",
      "\n",
      "15 / 2 = 7.5\n",
      "\n",
      "New 'a' = 'a % b' = remainder of the equation 15 / 2\n",
      "\n",
      "New value of 'a' is the remainder 'MODULUS' of the equation 'a / b': 1\n"
     ]
    }
   ],
   "source": [
    "# Assign values to a and b that will result in remainder if there is division of them\n",
    "a = 15\n",
    "b = 2\n",
    "\n",
    "# Print and label these values\n",
    "print('Original value of a =', a)\n",
    "print('Original value of b =', b)\n",
    "\n",
    "# Blank between them\n",
    "print()\n",
    "\n",
    "# Print the answer to 15 divided by 2\n",
    "print('15 / 2 =', 15/2)\n",
    "\n",
    "# Blank between them\n",
    "print()\n",
    "\n",
    "# Text string stating equation \n",
    "print(\"New 'a' = 'a % b' = remainder of the equation 15 / 2\")\n",
    "\n",
    "#Blank between them\n",
    "print()\n",
    "\n",
    "# Divide 'a' by 'b' while simultaneously assigning the remainder (modulus) only to variable 'a'\n",
    "a %= b\n",
    "print(\"New value of 'a' is the remainder 'MODULUS' of the equation 'a / b':\", a)"
   ]
  },
  {
   "cell_type": "markdown",
   "id": "616fe967-fce8-4820-9d72-c9ca748ba50d",
   "metadata": {},
   "source": [
    "##### ***<u>Example 2</u>*** \n",
    "What is the remainder of the division of ***operand*** '<font color=\"Orange\"> **3** </font>' from the variable '<font color=\"DarkCyan\"> ***a*** </font>' and ASSIGN the RESULT to variable '<font color=\"DarkCyan\"> ***a*** </font>'\n"
   ]
  },
  {
   "cell_type": "code",
   "execution_count": 42,
   "id": "63acff95-a7b5-4df2-940e-4aa430c6b25a",
   "metadata": {},
   "outputs": [
    {
     "name": "stdout",
     "output_type": "stream",
     "text": [
      "Current value of 'a' = 1\n",
      "\n",
      "Real answer to 'a / 3' = 0.3333333333333333\n",
      "Modulus answer to 'a / 3' = 1\n"
     ]
    }
   ],
   "source": [
    "# Print current value of 'a'\n",
    "print(\"Current value of 'a' =\", a)\n",
    "\n",
    "# Blank\n",
    "print()\n",
    "\n",
    "# Print real value of 'a / 3'\n",
    "print(\"Real answer to 'a / 3' =\", a / 3)\n",
    "\n",
    "# Modulus and print\n",
    "a %= 3\n",
    "print(\"Modulus answer to 'a / 3' =\", a)"
   ]
  },
  {
   "cell_type": "code",
   "execution_count": null,
   "id": "bf68f4b8-7252-4005-8ff3-21cab32f46a3",
   "metadata": {},
   "outputs": [],
   "source": []
  },
  {
   "cell_type": "markdown",
   "id": "222bbca4-5c83-40b0-a9c7-a2199f4c8d64",
   "metadata": {},
   "source": [
    ">\n",
    ">\n",
    "#### 7. **Floor Division and Assign Operator**\n",
    ">\n",
    ">\n",
    "> <font color=\"DarkCyan\"> ***Variable*** </font> **<font color=\"GoldenRod\">//=</font>** <font color=\"Orange\"> **Operand** </font>\n",
    "\n",
    "Means the following:\n",
    "1. **Divide** the **value** of the '<font color=\"Orange\"> **Operand** </font>' (= the item on the **RIGHT** of the <font color=\"GoldenRod\"> assignment operator </font> ) from the **value** of the <font color=\"DarkCyan\"> ***variable*** </font> (= the item on the **LEFT** of the <font color=\"GoldenRod\"> assignment operator </font> )\n",
    "2. Then ***REMOVE*** the **DECIMAL** part from the result of that **division**\n",
    "3. AND then **update** the <font color=\"DarkCyan\"> ***Variable*** </font> with the **integer** answer of that **Division**.\n",
    ">\n",
    ">\n",
    "- Remember floor division does **<font color=\"Crimson\"> NOT </font>** round the result it just removes the decimal"
   ]
  },
  {
   "cell_type": "markdown",
   "id": "b1e3123d-7fc5-493b-94f9-7272cd6cea01",
   "metadata": {},
   "source": [
    "##### ***<u>Example 1</u>*** \n",
    "What is the integer result  of the division of ***operand*** '<font color=\"Orange\"> **b** </font>' from the variable '<font color=\"DarkCyan\"> ***a*** </font>' and ASSIGN the RESULT to variable '<font color=\"DarkCyan\"> ***a*** </font>'\n"
   ]
  },
  {
   "cell_type": "code",
   "execution_count": 43,
   "id": "91715774-df02-459c-acd3-ae698961f26e",
   "metadata": {},
   "outputs": [
    {
     "name": "stdout",
     "output_type": "stream",
     "text": [
      "Original value of a = 15\n",
      "Original value of b = 2\n",
      "\n",
      "15 / 2 = 7.5\n",
      "\n",
      "New 'a' = 'a // b' = result without decimals of the equation 15 / 2\n",
      "New value of 'a' is Integer result of the equation 'a / b': 7\n"
     ]
    }
   ],
   "source": [
    "# Assign values to a and b that will result in remainder if there is division of them\n",
    "a = 15\n",
    "b = 2\n",
    "\n",
    "# Print and label these values\n",
    "print('Original value of a =', a)\n",
    "print('Original value of b =', b)\n",
    "\n",
    "# Blank between them\n",
    "print()\n",
    "\n",
    "# Print the answer to 15 divided by 2\n",
    "print('15 / 2 =', 15/2)\n",
    "\n",
    "# Blank between them\n",
    "print()\n",
    "\n",
    "# Text string stating equation \n",
    "print(\"New 'a' = 'a // b' = result without decimals of the equation 15 / 2\")\n",
    "\n",
    "# Divide 'a' by 'b' while simultaneously assigning the removing the decimals from the resul and assign it to variable 'a'\n",
    "a //= b\n",
    "print(\"New value of 'a' is Integer result of the equation 'a / b':\", a)"
   ]
  },
  {
   "cell_type": "markdown",
   "id": "e0946e8d-379a-4d41-80f7-f3d9a3d442ed",
   "metadata": {},
   "source": [
    "##### ***<u>Example 2</u>*** \n",
    "What is the integer result  of the division of ***operand*** '<font color=\"Orange\"> **2** </font>' from the variable '<font color=\"DarkCyan\"> ***a*** </font>' and ASSIGN the RESULT to variable '<font color=\"DarkCyan\"> ***a*** </font>'\n"
   ]
  },
  {
   "cell_type": "code",
   "execution_count": 44,
   "id": "e0b5920a-3570-4b25-91c2-e489e15f1692",
   "metadata": {},
   "outputs": [
    {
     "name": "stdout",
     "output_type": "stream",
     "text": [
      "Current value of 'a' = 7\n",
      "\n",
      "Real answer of 'a / 2' = 3.5\n",
      "New value of 'a' is Integer result of the equation 'a / 2' = 3\n"
     ]
    }
   ],
   "source": [
    "# Print value of a\n",
    "print(\"Current value of 'a' =\", a)\n",
    "\n",
    "# Blank b/w them\n",
    "print()\n",
    "\n",
    "# Real division answer of a/2\n",
    "print(\"Real answer of 'a / 2' =\", a / 2)\n",
    "\n",
    "# Floor division of a with 5\n",
    "a //= 2\n",
    "print(\"New value of 'a' is Integer result of the equation 'a / 2' =\", a)"
   ]
  },
  {
   "cell_type": "code",
   "execution_count": null,
   "id": "69bb3a7d-b9cb-4e0d-af9f-0da0e1ed278e",
   "metadata": {},
   "outputs": [],
   "source": []
  },
  {
   "cell_type": "markdown",
   "id": "c4c29b2e-ea44-4f14-a4f0-ec93c49324ae",
   "metadata": {},
   "source": [
    ">\n",
    ">\n",
    "#### 8. **Exponentiation and Assign Operator**\n",
    ">\n",
    ">\n",
    "> <font color=\"DarkCyan\"> ***Variable*** </font> <font color=\"GoldenRod\">**=</font> <font color=\"Orange\"> **Operand** </font>\n",
    "\n",
    "Means the following:\n",
    "1. **Multiply** the <font color=\"DarkCyan\"> ***variable*** </font> (= the item on the **LEFT** of the <font color=\"GoldenRod\"> assignment operator </font> ) by **itself** a total of the number of times of the **value** of the '<font color=\"Orange\"> **Operand** </font>' (= the item on the **RIGHT** of the <font color=\"GoldenRod\"> assignment operator </font> ) \n",
    "2. AND then **update** the <font color=\"DarkCyan\"> ***Variable*** </font> with the **RESULT** answer of that **exponentation**.\n",
    ">\n",
    ">"
   ]
  },
  {
   "cell_type": "markdown",
   "id": "5ece95f2-929c-4b65-b2cc-a5e48a82b666",
   "metadata": {},
   "source": [
    "##### ***<u>Example 1</u>*** \n",
    "What is the result  of '<font color=\"DarkCyan\"> ***a*** </font>' multiplied by itself 3 times over and ASSIGN the RESULT to variable '<font color=\"DarkCyan\"> ***a*** </font>'\n"
   ]
  },
  {
   "cell_type": "code",
   "execution_count": 45,
   "id": "283b190d-6dc3-45df-9b9e-f3df59d00fb8",
   "metadata": {},
   "outputs": [
    {
     "name": "stdout",
     "output_type": "stream",
     "text": [
      "Original value of a = 5\n",
      "\n",
      "a ** 3 = 125\n",
      "\n",
      "New 'a' = 'a^3' = 'a ** 3' = 5^3\n",
      "New value of 'a' is the result of the equation 'a ** 3'= 125\n"
     ]
    }
   ],
   "source": [
    "# Assign value to a\n",
    "a = 5\n",
    "\n",
    "# Print and label these values\n",
    "print('Original value of a =', a)\n",
    "\n",
    "# Blank between them\n",
    "print()\n",
    "\n",
    "# Print the answer to of a to the power of 3\n",
    "print('a ** 3 =', a**3)\n",
    "\n",
    "# Blank between them\n",
    "print()\n",
    "\n",
    "# Text string stating equation \n",
    "print(\"New 'a' = 'a^3' = 'a ** 3' = 5^3\")\n",
    "\n",
    "# Multiply 'a' by itself 3 times over while simultaneously assigning the result and assign it to variable 'a'\n",
    "a **= 3\n",
    "print(\"New value of 'a' is the result of the equation 'a ** 3'=\", a)"
   ]
  },
  {
   "cell_type": "code",
   "execution_count": null,
   "id": "2de6cdf0-808a-4b6b-ad2d-766f34b4bce0",
   "metadata": {},
   "outputs": [],
   "source": []
  },
  {
   "cell_type": "code",
   "execution_count": null,
   "id": "20c1a923-d01b-432e-bb6a-d4298d0e9202",
   "metadata": {},
   "outputs": [],
   "source": []
  },
  {
   "cell_type": "markdown",
   "id": "fa51cea4-48e2-4a5e-95f7-4bb0ed78db81",
   "metadata": {},
   "source": [
    "### D. **Logical Operators:**\n",
    "\n",
    "- Used with:\n",
    "    1.  <font color=\"Orange\"> **operands** </font> that have **Boolean values** of <font color=\"Red\"> ***False*** </font> or <font color=\"ForestGreen\"> ***True*** </font>\n",
    "    >\n",
    "    OR\n",
    "    >\n",
    "    2.  <font color=\"Magenta\"> ***values*** </font> that convert to <font color=\"ForestGreen\"> ***True*** </font> or <font color=\"Red\"> ***False*** </font>\n",
    ">\n",
    ">\n",
    "###### *The term <font color=\"Orange\"> operand </font> is used to refer to the values or expressions on which the <font color=\"GoldenRod\"> operator </font> operates to produce a result*\n",
    "\n",
    "\n",
    "| Operator Type | Operation Performed | Operator | Action | Example | Print Output Explained |\n",
    "| ------------- | ------------------- | -------- | ------ | ------- |----------------------- |\n",
    "| **Logical Operator** | | | | | |\n",
    "| **1.** | **Logical AND** | '<font color=\"GoldenRod\"> **and** </font>' | evaluates 2 <font color=\"Orange\"> **operands** </font> & *RETURN*s <font color=\"ForestGreen\"> ***True*** </font> **ONLY** if **BOTH** <font color=\"Orange\"> **operands** </font> themselves are <font color=\"ForestGreen\"> ***True*** </font>| <font color=\"Orange\"> ***x*** </font> <font color=\"GoldenRod\"> **and** </font> <font color=\"Orange\"> ***y*** </font> | <font color=\"ForestGreen\"> ***True*** </font> if **BOTH** <font color=\"Orange\"> ***x*** </font> **and** <font color=\"Orange\"> ***y*** </font> are <font color=\"ForestGreen\"> ***True*** </font> |\n",
    "| | | | | | |\n",
    "| | | | | | |\n",
    "| **2.** | **Logical OR** | '<font color=\"GoldenRod\"> **or** </font>' | evaluates its 2 <font color=\"Orange\"> **operands** </font> & *RETURN*s <font color=\"ForestGreen\"> ***True*** </font> if **EITHER** <font color=\"Orange\"> **operand** </font> *RETURN*s <font color=\"ForestGreen\"> ***True*** </font> | <font color=\"Orange\"> ***x*** </font> <font color=\"GoldenRod\"> **or** </font> <font color=\"Orange\"> ***y*** </font> | <font color=\"ForestGreen\"> ***True*** </font> if **EITHER** <font color=\"Orange\"> ***x*** </font> **or** <font color=\"Orange\"> ***y*** </font> is <font color=\"ForestGreen\"> ***True*** </font> \n",
    "| | | | | | |\n",
    "| | | | | | |\n",
    "| **3.** | **Logical NOT** | '<font color=\"GoldenRod\"> **not**  </font>' | **FLIPS** the <font color=\"Magenta\"> **value** </font> of a **SINGLE** <font color=\"Orange\"> **operand** </font> | | | \n",
    "| | | |if <font color=\"DarkCyan\"> ***x*** </font> <font color=\"Magenta\"> **=** </font> <font color=\"ForestGreen\"> ***True*** </font> | <font color=\"GoldenRod\"> **not** </font> <font color=\"DarkCyan\"> ***x*** </font> | <font color=\"Red\"> ***False*** </font> since it's the **inverse** of <font color=\"ForestGreen\"> ***True*** </font> |\n",
    "| | | | if <font color=\"DarkCyan\"> ***y*** </font> <font color=\"Magenta\"> **=** </font> <font color=\"Red\"> ***False*** </font>| <font color=\"GoldenRod\"> **not** </font> <font color=\"DarkCyan\"> ***y*** </font> | <font color=\"ForestGreen\"> ***True*** </font> since its the **inverse** of <font color=\"Red\"> ***False*** </font> |"
   ]
  },
  {
   "cell_type": "markdown",
   "id": "d9b1fd4d-e965-4dc4-8c10-5b3ec618076c",
   "metadata": {},
   "source": [
    ">\n",
    ">\n",
    "#### 1. **Logical AND**\n",
    ">\n",
    ">\n",
    "> <font color=\"Orange\"> ***Operand 1*** </font> <font color=\"GoldenRod\">**and**</font> <font color=\"Orange\"> **Operand 2** </font>\n",
    "\n",
    "- \"Useful to perform ***'conditional branching'*** where the direction of a program is determined by testing two conditions:\n",
    "    1. if both conditions are satisfied, the program will go in a certain direction\n",
    "    2. otherwise it will take a different direction\"\n",
    ">\n",
    ">\n",
    "- *RETURN*s in <font color=\"ForestGreen\"> ***True*** </font> **ONLY** If **BOTH** <font color=\"Orange\"> **operands** </font> are <font color=\"ForestGreen\"> ***True*** </font> **OTHERWISE** the '<font color=\"GoldenRod\"> ***and*** </font>' operator will *RETURN* <font color=\"Red\"> ***False*** </font>\n",
    ">\n",
    ">\n",
    "- BOTH have to be true!!"
   ]
  },
  {
   "cell_type": "markdown",
   "id": "6be24d00-ba11-47e1-979f-4225f3fb7954",
   "metadata": {},
   "source": [
    "##### ***<u>Example 1</u>*** \n",
    "> <font color=\"ForestGreen\"> ***True*** </font> <font color=\"GoldenRod\"> **and** </font> <font color=\"Red\"> ***False*** </font>"
   ]
  },
  {
   "cell_type": "code",
   "execution_count": 46,
   "id": "a5ccda54-e7ae-411e-860a-04a8d938e087",
   "metadata": {},
   "outputs": [
    {
     "name": "stdout",
     "output_type": "stream",
     "text": [
      "Original Value of 't' = True\n",
      "Original Value of 'f' = False\n",
      "\n",
      "AND Logic:\n",
      "t and f = False\n",
      "b/c 't' is = True and 'f' is = False so BOTH NOT TRUE, so result of 'and' operator is False\n",
      "\n",
      "\n"
     ]
    }
   ],
   "source": [
    "# Assign Boolean values too 2 variables 't' and 'f'\n",
    "t = True\n",
    "f = False\n",
    "\n",
    "# Print original values of those\n",
    "print(\"Original Value of 't' =\", t)\n",
    "print(\"Original Value of 'f' =\", f)\n",
    "\n",
    "# Blank\n",
    "print()\n",
    "\n",
    "# Use the logical AND\n",
    "print(\"AND Logic:\")\n",
    "print(\"t and f =\", t and f)\n",
    "print(\"b/c 't' is =\", t, \"and 'f' is =\", f, \"so BOTH NOT TRUE, so result of 'and' operator is\", t and f)\n",
    "\n",
    "# Blanks\n",
    "print()\n",
    "print()"
   ]
  },
  {
   "cell_type": "markdown",
   "id": "b8a05ffd-192b-4f21-8a97-ab99f5d6d587",
   "metadata": {},
   "source": [
    "##### ***<u>Example 2</u>*** \n",
    "> <font color=\"ForestGreen\"> ***True*** </font> <font color=\"GoldenRod\"> **and** </font> <font color=\"ForestGreen\"> ***True*** </font>"
   ]
  },
  {
   "cell_type": "code",
   "execution_count": 47,
   "id": "37644746-9d22-46c9-939e-e8009372cef8",
   "metadata": {},
   "outputs": [
    {
     "name": "stdout",
     "output_type": "stream",
     "text": [
      "Original Value of 't' = True\n",
      "Original Value of 'f' = False\n",
      "\n",
      "AND Logic:\n",
      "t and t = True\n",
      "b/c 't' is = True and 't' is = True so BOTH ARE TRUE, so result of 'and' operator is True\n",
      "\n",
      "\n"
     ]
    }
   ],
   "source": [
    "# Assign Boolean values too 2 variables 't' and 'f'\n",
    "t = True\n",
    "f = False\n",
    "\n",
    "# Print original values of those\n",
    "print(\"Original Value of 't' =\", t)\n",
    "print(\"Original Value of 'f' =\", f)\n",
    "\n",
    "# Blank\n",
    "print()\n",
    "\n",
    "# Use the logical AND\n",
    "print(\"AND Logic:\")\n",
    "print(\"t and t =\", t and t)\n",
    "print(\"b/c 't' is =\", t, \"and 't' is =\", t, \"so BOTH ARE TRUE, so result of 'and' operator is\", t and t)\n",
    "\n",
    "# Blanks\n",
    "print()\n",
    "print()"
   ]
  },
  {
   "cell_type": "markdown",
   "id": "cba06af1-2287-40f2-b1f9-c7243eeb8e7a",
   "metadata": {},
   "source": [
    "##### ***<u>Example 3</u>*** \n",
    "> <font color=\"Red\"> ***False*** </font> <font color=\"GoldenRod\"> **and** </font> <font color=\"Red\"> ***False*** </font>"
   ]
  },
  {
   "cell_type": "code",
   "execution_count": 48,
   "id": "9ec1a3cb-4597-47c1-8a07-d49bcaec165c",
   "metadata": {},
   "outputs": [
    {
     "name": "stdout",
     "output_type": "stream",
     "text": [
      "Original Value of 't' = True\n",
      "Original Value of 'f' = False\n",
      "\n",
      "AND Logic:\n",
      "f and f = False\n",
      "b/c 'f' is = False and 'f' is = False so BOTH ARE FALSE, so result of 'and' operator is False\n",
      "\n",
      "\n"
     ]
    }
   ],
   "source": [
    "# Assign Boolean values too 2 variables 't' and 'f'\n",
    "t = True\n",
    "f = False\n",
    "\n",
    "# Print original values of those\n",
    "print(\"Original Value of 't' =\", t)\n",
    "print(\"Original Value of 'f' =\", f)\n",
    "\n",
    "# Blank\n",
    "print()\n",
    "\n",
    "# Use the logical AND\n",
    "print(\"AND Logic:\")\n",
    "print(\"f and f =\", f and f)\n",
    "print(\"b/c 'f' is =\", f, \"and 'f' is =\", f, \"so BOTH ARE FALSE, so result of 'and' operator is\", f and f)\n",
    "\n",
    "# Blanks\n",
    "print()\n",
    "print()"
   ]
  },
  {
   "cell_type": "markdown",
   "id": "ee2b6fff-ec14-44a9-b45c-e59c211aec9b",
   "metadata": {},
   "source": [
    ">\n",
    ">\n",
    "#### 2. **Logical OR**\n",
    ">\n",
    ">\n",
    "> <font color=\"Orange\"> ***Operand 1*** </font> <font color=\"GoldenRod\">**or**</font> <font color=\"Orange\"> **Operand 2** </font>\n",
    "\n",
    "- \"Useful to perform a certain action if either one or two test conditions has been met\"\n",
    ">\n",
    ">\n",
    "- *RETURN*s in <font color=\"ForestGreen\"> ***True*** </font> If **EITHER** <font color=\"Orange\"> **operand** </font> itself *RETURN*s <font color=\"ForestGreen\"> ***True*** </font>\n",
    "    - If **NEITHER** <font color=\"Orange\"> **operand** </font> *RETURN*s <font color=\"ForestGreen\"> ***True*** </font> then the '<font color=\"GoldenRod\"> ***or*** </font>' operator will *RETURN* <font color=\"Red\"> ***False*** </font>\n",
    ">\n",
    ">\n",
    "- ONLY 1 of the 2 has to be TRUE!!"
   ]
  },
  {
   "cell_type": "markdown",
   "id": "fafaee8f-cc96-4668-9112-47b9645b346b",
   "metadata": {},
   "source": [
    "##### ***<u>Example 1</u>*** \n",
    "> <font color=\"ForestGreen\"> ***True*** </font> <font color=\"GoldenRod\"> **or** </font> <font color=\"Red\"> ***False*** </font>"
   ]
  },
  {
   "cell_type": "code",
   "execution_count": 49,
   "id": "281a0f1a-9f9b-437d-b3fd-00240f417005",
   "metadata": {},
   "outputs": [
    {
     "name": "stdout",
     "output_type": "stream",
     "text": [
      "Original Value of 't' = True\n",
      "Original Value of 'f' = False\n",
      "\n",
      "OR Logic:\n",
      "t or f = True\n",
      "b/c 't' is = True and 'f' is = False so 1 of the 2 is TRUE, so result of 'or' operator is True\n",
      "\n",
      "\n"
     ]
    }
   ],
   "source": [
    "# Assign Boolean values too 2 variables 't' and 'f'\n",
    "t = True\n",
    "f = False\n",
    "\n",
    "# Print original values of those\n",
    "print(\"Original Value of 't' =\", t)\n",
    "print(\"Original Value of 'f' =\", f)\n",
    "\n",
    "# Blank\n",
    "print()\n",
    "\n",
    "# Use the logical OR\n",
    "print(\"OR Logic:\")\n",
    "print(\"t or f =\", t or f)\n",
    "print(\"b/c 't' is =\", t, \"and 'f' is =\", f, \"so 1 of the 2 is TRUE, so result of 'or' operator is\", t or f)\n",
    "\n",
    "# Blanks\n",
    "print()\n",
    "print()"
   ]
  },
  {
   "cell_type": "markdown",
   "id": "83901f7d-6705-4b3e-ac6c-11a71f6105a8",
   "metadata": {},
   "source": [
    "##### ***<u>Example 2</u>*** \n",
    "> <font color=\"ForestGreen\"> ***True*** </font> <font color=\"GoldenRod\"> **or** </font> <font color=\"ForestGreen\"> ***True*** </font>"
   ]
  },
  {
   "cell_type": "code",
   "execution_count": 50,
   "id": "952b6730-1457-4e42-8de8-538ac140c9a0",
   "metadata": {},
   "outputs": [
    {
     "name": "stdout",
     "output_type": "stream",
     "text": [
      "Original Value of 't' = True\n",
      "Original Value of 'f' = False\n",
      "\n",
      "OR Logic:\n",
      "t or t = True\n",
      "b/c 't' is = True and 't' is = True since BOTH are TRUE, the result of the 'or' operator is True\n",
      "\n",
      "\n"
     ]
    }
   ],
   "source": [
    "# Assign Boolean values too 2 variables 't' and 'f'\n",
    "t = True\n",
    "f = False\n",
    "\n",
    "# Print original values of those\n",
    "print(\"Original Value of 't' =\", t)\n",
    "print(\"Original Value of 'f' =\", f)\n",
    "\n",
    "# Blank\n",
    "print()\n",
    "\n",
    "# Use the logical OR\n",
    "print(\"OR Logic:\")\n",
    "print(\"t or t =\", t or t)\n",
    "print(\"b/c 't' is =\", t, \"and 't' is =\", t, \"since BOTH are TRUE, the result of the 'or' operator is\", t or t)\n",
    "\n",
    "# Blanks\n",
    "print()\n",
    "print()"
   ]
  },
  {
   "cell_type": "markdown",
   "id": "ceb18580-efa2-456a-ac50-917b0dc29865",
   "metadata": {},
   "source": [
    "##### ***<u>Example 3</u>*** \n",
    "> <font color=\"Red\"> ***False*** </font> <font color=\"GoldenRod\"> **or** </font> <font color=\"Red\"> ***False*** </font>"
   ]
  },
  {
   "cell_type": "code",
   "execution_count": 51,
   "id": "564cc9d1-1bbf-4a87-a701-06c4a8b39ec2",
   "metadata": {},
   "outputs": [
    {
     "name": "stdout",
     "output_type": "stream",
     "text": [
      "Original Value of 't' = True\n",
      "Original Value of 'f' = False\n",
      "\n",
      "OR Logic:\n",
      "f or f = False\n",
      "b/c 'f' is = False and 'f' is = False since BOTH are FALSE, the result of the 'or' operator is False\n",
      "\n",
      "\n"
     ]
    }
   ],
   "source": [
    "# Assign Boolean values too 2 variables 't' and 'f'\n",
    "t = True\n",
    "f = False\n",
    "\n",
    "# Print original values of those\n",
    "print(\"Original Value of 't' =\", t)\n",
    "print(\"Original Value of 'f' =\", f)\n",
    "\n",
    "# Blank\n",
    "print()\n",
    "\n",
    "# Use the logical OR\n",
    "print(\"OR Logic:\")\n",
    "print(\"f or f =\", f or f)\n",
    "print(\"b/c 'f' is =\", f, \"and 'f' is =\", f, \"since BOTH are FALSE, the result of the 'or' operator is\", f or f)\n",
    "\n",
    "# Blanks\n",
    "print()\n",
    "print()"
   ]
  },
  {
   "cell_type": "code",
   "execution_count": null,
   "id": "afb4fce1-160c-4d44-8bb2-d7f5a14eda12",
   "metadata": {},
   "outputs": [],
   "source": []
  },
  {
   "cell_type": "markdown",
   "id": "ae54aa46-7a27-4c02-ba24-3f854ec2749f",
   "metadata": {},
   "source": [
    ">\n",
    ">\n",
    "#### 3. **Logical NOT**\n",
    ">\n",
    ">\n",
    "> <font color=\"GoldenRod\">**not**</font> <font color=\"Orange\"> **Operand 1** </font>\n",
    "\n",
    "- \"Useful to **toggle** the <font color=\"Magenta\"> **value** </font> of the <font color=\"DarkCyan\"> ***variable*** </font> in **successive loop iterations** with a statement like\n",
    ">\n",
    ">\n",
    "> <font color=\"DarkCyan\"> ***a*** </font> <font color=\"GoldenRod\"> **= not** </font> <font color=\"Orange\"> **a** </font>\n",
    "> > \"This ensures that on each iteration of the loop the Boolean value is reversed, like flicking a light switch on and off.\"\n",
    "- Considered a \"**unary** <font color=\"GoldenRod\"> **operator** </font> that is used **BEFORE** a **SINGLE** <font color=\"Orange\"> **operand** </font>\"\n",
    "    - Its an operation that works with **ONLY ONE** <font color=\"Magenta\"> **value** </font> or **Condition** or <font color=\"DarkCyan\"> **variable** </font>\n",
    ">\n",
    ">\n",
    "- Flips the value of the <font color=\"Orange\"> **operand** </font>\n",
    "| Original Value | Used with Logical Not | Return (print output) |\n",
    "| -------------- | --------------------- | --------------------- |\n",
    "| <font color=\"ForestGreen\"> ***True*** </font> | <font color=\"GoldenRod\"> **not** </font> <font color=\"Orange\"> **True** </font> | <font color=\"Red\"> ***False*** </font> |\n",
    "| <font color=\"Red\"> ***False*** </font> | <font color=\"GoldenRod\"> **not** </font> <font color=\"Orange\"> **False** </font> | <font color=\"ForestGreen\"> ***True*** </font> |\n",
    ">\n",
    ">\n",
    "- *RETURN*s the **INVERSE** of the <font color=\"Orange\"> **operand** </font>\n",
    ">\n"
   ]
  },
  {
   "cell_type": "markdown",
   "id": "5e3f6ce8-7144-48fa-9dff-15a4a2837897",
   "metadata": {},
   "source": [
    "##### ***<u>Example 1</u>*** \n",
    "> <font color=\"GoldenRod\"> **not** </font> <font color=\"Red\"> ***False*** </font>"
   ]
  },
  {
   "cell_type": "code",
   "execution_count": 52,
   "id": "9a0887ca-a6b1-434a-9b44-4f0db57de881",
   "metadata": {},
   "outputs": [
    {
     "name": "stdout",
     "output_type": "stream",
     "text": [
      "Original Value of 't' = True\n",
      "Original Value of 'f' = False\n",
      "\n",
      "NOT Logic:\n",
      "not f = True\n",
      "b/c 'f' is = False The so result of 'not' operator is it's inverse which = True\n",
      "\n",
      "\n"
     ]
    }
   ],
   "source": [
    "# Assign Boolean values too 2 variables 't' and 'f'\n",
    "t = True\n",
    "f = False\n",
    "\n",
    "# Print original values of those\n",
    "print(\"Original Value of 't' =\", t)\n",
    "print(\"Original Value of 'f' =\", f)\n",
    "\n",
    "# Blank\n",
    "print()\n",
    "\n",
    "# Use the logical NOT\n",
    "print(\"NOT Logic:\")\n",
    "print(\"not f =\", not f)\n",
    "print(\"b/c 'f' is =\", f, \"The so result of 'not' operator is it's inverse which =\", not f)\n",
    "\n",
    "# Blanks\n",
    "print()\n",
    "print()"
   ]
  },
  {
   "cell_type": "markdown",
   "id": "b027dc76-0f92-4023-9912-44dc05f97574",
   "metadata": {},
   "source": [
    "##### ***<u>Example 2</u>*** \n",
    "> <font color=\"GoldenRod\"> **not** </font> <font color=\"ForestGreen\"> ***True*** </font>"
   ]
  },
  {
   "cell_type": "code",
   "execution_count": 53,
   "id": "079361c0-26ad-4ccb-ada5-bd5c8e86453e",
   "metadata": {},
   "outputs": [
    {
     "name": "stdout",
     "output_type": "stream",
     "text": [
      "Original Value of 't' = True\n",
      "Original Value of 'f' = False\n",
      "\n",
      "NOT Logic:\n",
      "not t = False\n",
      "b/c 't' is = True The result of the 'not' operator is it's inverse which = False\n",
      "\n",
      "\n"
     ]
    }
   ],
   "source": [
    "# Assign Boolean values too 2 variables 't' and 'f'\n",
    "t = True\n",
    "f = False\n",
    "\n",
    "# Print original values of those\n",
    "print(\"Original Value of 't' =\", t)\n",
    "print(\"Original Value of 'f' =\", f)\n",
    "\n",
    "# Blank\n",
    "print()\n",
    "\n",
    "# Use the logical NOT\n",
    "print(\"NOT Logic:\")\n",
    "print(\"not t =\", not t)\n",
    "print(\"b/c 't' is =\", t, \"The result of the 'not' operator is it's inverse which =\", not t)\n",
    "\n",
    "# Blanks\n",
    "print()\n",
    "print()"
   ]
  },
  {
   "cell_type": "code",
   "execution_count": null,
   "id": "94d9c3ee-de9b-4d9d-9317-ebb3324a3bd7",
   "metadata": {},
   "outputs": [],
   "source": []
  },
  {
   "cell_type": "code",
   "execution_count": null,
   "id": "8e6b5863-fbb0-42ba-9418-ea131409a549",
   "metadata": {},
   "outputs": [],
   "source": []
  },
  {
   "cell_type": "markdown",
   "id": "13a50795-c8c7-4bcf-9ab4-ce3482eb7e31",
   "metadata": {},
   "source": [
    "### E. **Bitwise Operators:**\n",
    "\n",
    "<font color=\"Crimson\"> ***Not applicable to where I am at in lessons as not used really in conditions and conditional statements so will skip for now and hope they are covered in the future*** </font>"
   ]
  },
  {
   "cell_type": "markdown",
   "id": "9905be2d-bc4b-40bf-a93e-3fe435fb3def",
   "metadata": {},
   "source": [
    "### F. **Membership Operators:**\n",
    "\n",
    "<font color=\"Crimson\"> ***Not applicable to where I am at in lessons as not used really in conditions and conditional statements so will skip for now and hope they are covered in the future*** </font>\n",
    "\n",
    "| Operator Type | Definition | Operation Performed | Operator | Example | Example Explanation |\n",
    "| ------------- |----------- | ------------------- | -------- | ------- | ------------------- |\n",
    "| **Membership Operator** |\n",
    "\n",
    "in = membership test (in a sequence) \n",
    "- 3 in [1, 2, 3]\n",
    "- x in sequence TRUE if x is in the sequence\n",
    ">\n",
    ">\n",
    "\n",
    "not in = Membership test (not in a sequence) \n",
    "- 4 not in [1, 2, 3]\n",
    "- x not in sequence TRUE if x is not in the sequence"
   ]
  },
  {
   "cell_type": "markdown",
   "id": "2daf0fff-ea54-45e7-9d3f-765018fb44af",
   "metadata": {},
   "source": [
    "### G. **Identity Operators:**\n",
    "\n",
    "<font color=\"Crimson\"> ***Not applicable to where I am at in lessons as not used really in conditions and conditional statements so will skip for now and hope they are covered in the future*** </font>\n",
    "\n",
    "\n",
    "| Operator Type | Definition | Operation Performed | Operator | Example | Example Explanation |\n",
    "| ------------- |----------- | ------------------- | -------- | ------- | ------------------- |\n",
    "| **Identity Operator** |  | | | | |\n",
    ">\n",
    ">\n",
    "\n",
    "- is =  Object identity test\n",
    "    - x is y\n",
    "    - x is y TRUE if x and y reference the same object\n",
    ">\n",
    ">\n",
    "- is not = Negated object identify test\n",
    "    - a is not b\n",
    "    - x is not y TRUE if x and y reference different objects"
   ]
  },
  {
   "cell_type": "code",
   "execution_count": null,
   "id": "b1290040-ddce-4ba8-8393-1a99e87252bd",
   "metadata": {},
   "outputs": [],
   "source": []
  },
  {
   "cell_type": "code",
   "execution_count": null,
   "id": "9b47d565-94a0-47bd-a33d-a7c6f18b01cf",
   "metadata": {},
   "outputs": [],
   "source": []
  },
  {
   "cell_type": "code",
   "execution_count": null,
   "id": "ad3d405e-dd06-423f-8b82-d8a6c725c72c",
   "metadata": {},
   "outputs": [],
   "source": []
  },
  {
   "cell_type": "code",
   "execution_count": null,
   "id": "dd96416c-e560-45b1-90c0-535cab919d5c",
   "metadata": {},
   "outputs": [],
   "source": []
  },
  {
   "cell_type": "code",
   "execution_count": null,
   "id": "bbe741c7-85f0-48b3-8c66-5553d7e0b50b",
   "metadata": {},
   "outputs": [],
   "source": []
  },
  {
   "cell_type": "code",
   "execution_count": null,
   "id": "62e20455-e5f8-4f71-b509-f2d4a1d5cebc",
   "metadata": {},
   "outputs": [],
   "source": []
  },
  {
   "cell_type": "code",
   "execution_count": 54,
   "id": "881ea5ed-effa-4663-8b85-e48358ba7ab9",
   "metadata": {},
   "outputs": [
    {
     "name": "stdout",
     "output_type": "stream",
     "text": [
      "5.5\n",
      "2.6666666666666665\n",
      "8\n"
     ]
    }
   ],
   "source": [
    "print(11 / 2)\n",
    "print(8 / 3)\n",
    "print(2 ** 3)"
   ]
  },
  {
   "cell_type": "markdown",
   "id": "a3178884-50d6-4ea0-883d-8344d1783629",
   "metadata": {},
   "source": [
    "### I. or 1. or A. **<u>Sub-Section within main Name of Section<u>**"
   ]
  },
  {
   "cell_type": "markdown",
   "id": "1db4dd9a-6b0b-4546-8bdb-ffa891260287",
   "metadata": {},
   "source": [
    "#### i. or a. or 1. <u>***Sub-Sub section***<u>"
   ]
  },
  {
   "cell_type": "markdown",
   "id": "3206156a-a734-43ca-883c-967c9a5a8bb1",
   "metadata": {
    "tags": []
   },
   "source": [
    "##### **Example 1**"
   ]
  }
 ],
 "metadata": {
  "kernelspec": {
   "display_name": "Python 3 (ipykernel)",
   "language": "python",
   "name": "python3"
  },
  "language_info": {
   "codemirror_mode": {
    "name": "ipython",
    "version": 3
   },
   "file_extension": ".py",
   "mimetype": "text/x-python",
   "name": "python",
   "nbconvert_exporter": "python",
   "pygments_lexer": "ipython3",
   "version": "3.11.5"
  }
 },
 "nbformat": 4,
 "nbformat_minor": 5
}
