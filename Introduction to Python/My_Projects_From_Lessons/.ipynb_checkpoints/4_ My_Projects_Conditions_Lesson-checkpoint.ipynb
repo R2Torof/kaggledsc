{
 "cells": [
  {
   "cell_type": "markdown",
   "id": "e2ceebf2-862f-45e2-a713-931ba979d02a",
   "metadata": {},
   "source": [
    "# My Projects\n",
    "My ideas of cool codes and custom functions that I created to practice my new found knowledge of working through **Kaggle: Intro to Programming Lessons 1 to 4**"
   ]
  },
  {
   "cell_type": "code",
   "execution_count": null,
   "id": "2a95b58d-06c8-49a3-aeba-d50e98886938",
   "metadata": {},
   "outputs": [],
   "source": []
  },
  {
   "cell_type": "code",
   "execution_count": null,
   "id": "0418d010-0e85-418a-a6f3-1fc79bb513b9",
   "metadata": {},
   "outputs": [],
   "source": []
  },
  {
   "cell_type": "markdown",
   "id": "83af7d62-4803-43de-a24f-b8970e0fdc33",
   "metadata": {},
   "source": [
    "## **I. <u>Odd or Even Function:</u>**\n",
    "- Create a function that will determine if a number you input into it is odd or even\n",
    "- Call this function '<font color=\"Blue\"> **OddEven()** </font>'\n",
    ">\n",
    ">\n",
    "<font color=\"BlueViolet\"> "
   ]
  },
  {
   "cell_type": "code",
   "execution_count": 18,
   "id": "e8d21ebe-646a-444b-9778-cb82d3e4fb6c",
   "metadata": {},
   "outputs": [
    {
     "name": "stdout",
     "output_type": "stream",
     "text": [
      "Odd\n"
     ]
    }
   ],
   "source": [
    "def OddEven(integer):\n",
    "    return 'Even' if integer % 2 == 0 else 'Odd'\n",
    "\n",
    "print(OddEven(1))"
   ]
  },
  {
   "cell_type": "code",
   "execution_count": null,
   "id": "27cc21cf-1e69-4da5-baf0-0a1d4558a8c3",
   "metadata": {},
   "outputs": [],
   "source": []
  },
  {
   "cell_type": "code",
   "execution_count": null,
   "id": "d730a7ea-b2e6-45f0-8a5a-d82f382085ff",
   "metadata": {},
   "outputs": [],
   "source": []
  },
  {
   "cell_type": "code",
   "execution_count": null,
   "id": "cea0d201-02d8-4662-942e-2aa022d847cd",
   "metadata": {},
   "outputs": [],
   "source": []
  },
  {
   "cell_type": "markdown",
   "id": "3019afdc-a254-4f5b-aaf5-71bfb3ed5e8f",
   "metadata": {},
   "source": [
    "## **II. <u>Using many if-else one liners:</u>**\n",
    "- First I tried to put together my knowledge with the one liner if-else statements to see if elif would work and noticed it did not work.\n",
    "- So I asked ChatGPT and he said to do many else in a roww\n",
    "- I then used the example from Kaggle of a water company with the below bill price structure to create a one line water bill calculation function\n",
    ">\n",
    ">\n",
    "| Tier | Amount in gallons | Dollar Price per 1000 gallons |\n",
    "| ---- | ----------------- | ---------------------- |\n",
    "| Tier 1 |    0 - 8,000    | 5 dollars |\n",
    "| Tier 2| 8,0001 - 22,000 | 6 dollars |\n",
    "| Tier 3 | 22,001 - 30,000 | 7 dollars|\n",
    "| Tier 4 | 30,001 + | 10 dollars |"
   ]
  },
  {
   "cell_type": "code",
   "execution_count": 25,
   "id": "b8a5c8e4-c71e-4334-bd15-8c41f2034d61",
   "metadata": {},
   "outputs": [
    {
     "name": "stdout",
     "output_type": "stream",
     "text": [
      "Cost at 10000 gallons = 60.0\n"
     ]
    }
   ],
   "source": [
    "\n",
    "# Define the one line function for water bill\n",
    "def water_bill(num_gallons):\n",
    "    gallons = num_gallons / 1000\n",
    "    return (gallons * 5) if (num_gallons <= 8000) else gallons * 6 if num_gallons <= 22000 else gallons * 7 if num_gallons <= 30000 else gallons * 10\n",
    "\n",
    "\n",
    "# Print cost of 10,000 gallons a month should = 10,000 x 6 = 60\n",
    "print('Cost at 10000 gallons =', water_bill(10000))"
   ]
  },
  {
   "cell_type": "code",
   "execution_count": null,
   "id": "6a657139-025c-409c-9978-4d535eb82779",
   "metadata": {},
   "outputs": [],
   "source": []
  },
  {
   "cell_type": "code",
   "execution_count": null,
   "id": "52897485-1ae3-40e2-93e9-b80bc8245e62",
   "metadata": {},
   "outputs": [],
   "source": []
  },
  {
   "cell_type": "markdown",
   "id": "ca6dbb34-5543-46b0-824b-54f432fd5a6c",
   "metadata": {},
   "source": [
    "### II."
   ]
  },
  {
   "cell_type": "code",
   "execution_count": null,
   "id": "f7c44cf6-a6b0-456c-bd74-3c454df25b32",
   "metadata": {},
   "outputs": [],
   "source": []
  }
 ],
 "metadata": {
  "kernelspec": {
   "display_name": "Python 3 (ipykernel)",
   "language": "python",
   "name": "python3"
  },
  "language_info": {
   "codemirror_mode": {
    "name": "ipython",
    "version": 3
   },
   "file_extension": ".py",
   "mimetype": "text/x-python",
   "name": "python",
   "nbconvert_exporter": "python",
   "pygments_lexer": "ipython3",
   "version": "3.11.5"
  }
 },
 "nbformat": 4,
 "nbformat_minor": 5
}
