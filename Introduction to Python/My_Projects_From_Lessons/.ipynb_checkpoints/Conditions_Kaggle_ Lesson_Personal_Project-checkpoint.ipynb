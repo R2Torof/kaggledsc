{
 "cells": [
  {
   "cell_type": "markdown",
   "id": "e2ceebf2-862f-45e2-a713-931ba979d02a",
   "metadata": {},
   "source": [
    "# My Projects\n",
    "My ideas of cool codes and custom functions that I created to practice my new found knowledge of working through **Kaggle: Intro to Programming Lessons 1 to 4**\n",
    "\n",
    "### *Done on January 10, 2024*"
   ]
  },
  {
   "cell_type": "code",
   "execution_count": null,
   "id": "2a95b58d-06c8-49a3-aeba-d50e98886938",
   "metadata": {},
   "outputs": [],
   "source": []
  },
  {
   "cell_type": "code",
   "execution_count": null,
   "id": "0418d010-0e85-418a-a6f3-1fc79bb513b9",
   "metadata": {},
   "outputs": [],
   "source": []
  },
  {
   "cell_type": "markdown",
   "id": "83af7d62-4803-43de-a24f-b8970e0fdc33",
   "metadata": {},
   "source": [
    "## **I. <u>Odd or Even Function:</u>**\n",
    "- Create a function that will determine if a number you input into it is odd or even\n",
    "- Call this function '<font color=\"Blue\"> **OddEven()** </font>'\n",
    ">\n",
    ">\n",
    "<font color=\"BlueViolet\"> "
   ]
  },
  {
   "cell_type": "code",
   "execution_count": 1,
   "id": "e8d21ebe-646a-444b-9778-cb82d3e4fb6c",
   "metadata": {},
   "outputs": [
    {
     "name": "stdout",
     "output_type": "stream",
     "text": [
      "Odd\n"
     ]
    }
   ],
   "source": [
    "def OddEven(integer):\n",
    "    return 'Even' if integer % 2 == 0 else 'Odd'\n",
    "\n",
    "print(OddEven(1))"
   ]
  },
  {
   "cell_type": "code",
   "execution_count": null,
   "id": "27cc21cf-1e69-4da5-baf0-0a1d4558a8c3",
   "metadata": {},
   "outputs": [],
   "source": []
  },
  {
   "cell_type": "code",
   "execution_count": null,
   "id": "d730a7ea-b2e6-45f0-8a5a-d82f382085ff",
   "metadata": {},
   "outputs": [],
   "source": []
  },
  {
   "cell_type": "markdown",
   "id": "f60f26b5-6a18-4cc4-b589-e0e2b842f585",
   "metadata": {},
   "source": [
    "------------"
   ]
  },
  {
   "cell_type": "markdown",
   "id": "3019afdc-a254-4f5b-aaf5-71bfb3ed5e8f",
   "metadata": {},
   "source": [
    "## **II. <u>Using many if-else one liners:</u>**\n",
    "- First I tried to put together my knowledge with the one liner if-else statements to see if elif would work and noticed it did not work.\n",
    "- So I asked ChatGPT and he said to do many else in a roww\n",
    "- I then used the example from Kaggle of a water company with the below bill price structure to create a one line water bill calculation function\n",
    ">\n",
    ">\n",
    "| Tier | Amount in gallons | Dollar Price per 1000 gallons |\n",
    "| ---- | ----------------- | ---------------------- |\n",
    "| Tier 1 |    0 - 8,000    | 5 dollars |\n",
    "| Tier 2| 8,0001 - 22,000 | 6 dollars |\n",
    "| Tier 3 | 22,001 - 30,000 | 7 dollars|\n",
    "| Tier 4 | 30,001 + | 10 dollars |"
   ]
  },
  {
   "cell_type": "code",
   "execution_count": 2,
   "id": "b8a5c8e4-c71e-4334-bd15-8c41f2034d61",
   "metadata": {},
   "outputs": [
    {
     "name": "stdout",
     "output_type": "stream",
     "text": [
      "Cost at 10000 gallons = 60.0\n"
     ]
    }
   ],
   "source": [
    "\n",
    "# Define the one line function for water bill\n",
    "def water_bill(num_gallons):\n",
    "    gallons = num_gallons / 1000\n",
    "    return (gallons * 5) if (num_gallons <= 8000) else gallons * 6 if num_gallons <= 22000 else gallons * 7 if num_gallons <= 30000 else gallons * 10\n",
    "\n",
    "\n",
    "# Print cost of 10,000 gallons a month should = 10,000 x 6 = 60\n",
    "print('Cost at 10000 gallons =', water_bill(10000))"
   ]
  },
  {
   "cell_type": "code",
   "execution_count": null,
   "id": "d6059949-1c5d-49be-86ad-21cc26e73da0",
   "metadata": {},
   "outputs": [],
   "source": []
  },
  {
   "cell_type": "code",
   "execution_count": null,
   "id": "14ff50d6-0343-4a93-8585-2f5b5811d966",
   "metadata": {},
   "outputs": [],
   "source": []
  },
  {
   "cell_type": "markdown",
   "id": "043bf981-cbae-4e61-a200-54128c367ea9",
   "metadata": {},
   "source": [
    "------------"
   ]
  },
  {
   "cell_type": "markdown",
   "id": "ca6dbb34-5543-46b0-824b-54f432fd5a6c",
   "metadata": {},
   "source": [
    "### **III. <u>Custom Function for 2024 Taxes:</u>**\n",
    "Would like to create a program to help me with determining my taxes with my husband since he is a 1099 and I am a W-2 with a function\n",
    ">\n",
    ">\n",
    "- The 2024 tax bracket for married filing jointly is as follows:\n",
    "| Bracket | Range of Income | Income | Tax Bracket | Difference |\n",
    "| ------- | --------------- | ------ | ----------- | ---------- |\n",
    "| **1** | 0 to 23,200 dollars | \\<= \\$23,200 | 10% | 0 |\n",
    "| **2** | 23,201 to 94,300 dollars | \\<= \\$94,300 | 12% | up 2% |\n",
    "| **3** | 94,301 to 201,050 dollars | \\<= \\$201,050 | 22% | up 10% the moment you hit middle class |\n",
    "| **4** | 201,051 to 383,900 dollars | \\<= \\$383,900 | 24% | up 2% |\n",
    "| **5** | 383,901 to 487,450 dollars | \\<= \\$487,450 | 32% | up 8% the moment you hit upper middle class |\n",
    "| **6** | 487,451 to 731,200 dollars | \\<= \\$731,200 | 35% | up 3% |\n",
    "| **7** | over 731,200 dollars | \\> \\$731,200 | 37% | up 2% and caps out when you hit the upper class |\n"
   ]
  },
  {
   "cell_type": "markdown",
   "id": "8465da44-956f-49b5-a141-a41b72a912df",
   "metadata": {},
   "source": [
    "#### III. **A. <u>Steps to create it:</u>**\n",
    ">\n",
    ">\n",
    "1. Use \"<font color=\"DeepSkyBlue\"> **if . . elif. . . else** </font>\" statements in a multi line <font color=\"SteelBlue\"> **code block** </font> in a custom <font color=\"BlueViolet\"> **defined** </font> function called '<font color=\"Blue\"> **total_tax()** </font>' that will take an input of '<font color=\"LightSeaGreen\"> **income** </font>'\n",
    ">\n",
    ">\n",
    "2. Remember each step up the bracket the tax is only on the range in that bracket so have to have in each level of calculation the max tax for the previous bracket added to the tax on the taxable income in the current tax bracket income range\n",
    ">\n",
    ">\n"
   ]
  },
  {
   "cell_type": "code",
   "execution_count": null,
   "id": "82aaca21-55a1-429c-bd5c-3d75ca792a94",
   "metadata": {},
   "outputs": [],
   "source": []
  },
  {
   "cell_type": "markdown",
   "id": "b187421a-6b0b-41ea-94c5-d467773630c4",
   "metadata": {},
   "source": [
    ">\n",
    ">\n",
    "#### III. **B. <u>The actual function in code cell:</u>**"
   ]
  },
  {
   "cell_type": "code",
   "execution_count": 3,
   "id": "f7c44cf6-a6b0-456c-bd74-3c454df25b32",
   "metadata": {},
   "outputs": [],
   "source": [
    "def total_tax(income):\n",
    "    if income <= 23200:\n",
    "        tax = income * 0.1\n",
    "    elif income <= 94300:\n",
    "        tax = (23200 * 0.1) + ( (income - 23200) * 0.12 )\n",
    "    elif income <= 201050:\n",
    "        tax = (23200 * 0.1) + ((94300 - 23200) * 0.12) + ( (income - 94300) * 0.22 )\n",
    "    elif income <= 383900:\n",
    "        tax = (23200 * 0.1) + ((94300 - 23200) * 0.12) + ((201050 - 94300) * 0.22) + ( (income - 201050) * 0.24 )\n",
    "    elif income <= 487450:\n",
    "        tax = (23200 * 0.1) + ((94300 - 23200) * 0.12) + ((201050 - 94300) * 0.22) + ((383900 - 201050) * 0.24) + ( (income - 383900) * 0.32 )\n",
    "    elif income <= 731200:\n",
    "        tax = (23200 * 0.1) + ((94300 - 23200) * 0.12) + ((201050 - 94300) * 0.22) + ((383900 - 201050) * 0.24) + ((487450 - 383900) * 0.32) + ( (income - 487450) * 0.35 )\n",
    "    else:\n",
    "        tax = (23200 * 0.1) + ((94300 - 23200) * 0.12) + ((201050 - 94300) * 0.22) + ((383900 - 201050) * 0.24) + ((487450 - 383900) * 0.32) + ((731200 - 487450) * 0.35) + ( (income - 731200) * 0.37 )\n",
    "    return tax\n"
   ]
  },
  {
   "cell_type": "markdown",
   "id": "137e70ef-9453-4f53-8058-d23a6ec25b21",
   "metadata": {},
   "source": [
    ">\n",
    ">\n",
    "#### III. **C. <u>Practice with the function:</u>**\n",
    ">\n",
    ">\n",
    "- The 2024 tax bracket for married filing jointly is as follows:\n",
    "| Bracket | Range of Income | Income | Tax Bracket | Difference |\n",
    "| ------- | --------------- | ------ | ----------- | ---------- |\n",
    "| **1** | 0 to 23,200 dollars | \\<= \\$23,200 | 10% | 0 |\n",
    "| **2** | 23,201 to 94,300 dollars | \\<= \\$94,300 | 12% | up 2% |\n",
    "| **3** | 94,301 to 201,050 dollars | \\<= \\$201,050 | 22% | up 10% the moment you hit middle class |\n",
    "| **4** | 201,051 to 383,900 dollars | \\<= \\$383,900 | 24% | up 2% |\n",
    "| **5** | 383,901 to 487,450 dollars | \\<= \\$487,450 | 32% | up 8% the moment you hit upper middle class |\n",
    "| **6** | 487,451 to 731,200 dollars | \\<= \\$731,200 | 35% | up 3% |\n",
    "| **7** | over 731,200 dollars | \\> \\$731,200 | 37% | up 2% and caps out when you hit the upper class |\n",
    ">\n",
    ">"
   ]
  },
  {
   "cell_type": "markdown",
   "id": "3708eb41-036b-4cf8-852b-b926b1a1ffdb",
   "metadata": {},
   "source": [
    ">\n",
    ">\n",
    "##### **Practice Problems to do in the below code cells:**"
   ]
  },
  {
   "cell_type": "markdown",
   "id": "3eb669ea-fcf4-4bb2-9e82-c50887d2d1e8",
   "metadata": {},
   "source": [
    ">\n",
    ">\n",
    "##### III. C. **i. <u>Example 1:</u>**\n",
    "What is the total tax owed if your Income was 20,000 dollars\n",
    "\n",
    "1. Create variable to store the answer\n",
    "2. Print the variable with a label\n",
    "3. Check the variable to be accurate "
   ]
  },
  {
   "cell_type": "code",
   "execution_count": 4,
   "id": "30a173b0-5f09-41b5-a5c7-a4794808f912",
   "metadata": {},
   "outputs": [
    {
     "name": "stdout",
     "output_type": "stream",
     "text": [
      "Tax for $20,000 income = 2000.0\n",
      "Is the calculation accurate? True\n"
     ]
    }
   ],
   "source": [
    "\n",
    "# 1. Income of $20,000 create variable to hold the tax\n",
    "tax1 = total_tax(20000)\n",
    "\n",
    "# 2. Print and label\n",
    "print('Tax for $20,000 income =', tax1)\n",
    "\n",
    "# 3. Check if accurate\n",
    "correct = 20000 * 0.1\n",
    "print('Is the calculation accurate?', tax1 == correct)"
   ]
  },
  {
   "cell_type": "code",
   "execution_count": null,
   "id": "3b435d99-dfa8-436d-8af5-c2c9ba6081db",
   "metadata": {},
   "outputs": [],
   "source": []
  },
  {
   "cell_type": "markdown",
   "id": "a46bb43b-e692-46c7-aed4-57da2f008207",
   "metadata": {},
   "source": [
    ">\n",
    ">\n",
    "##### III. C. **ii. <u>Example 2:</u>**\n",
    "What is the total tax owed if your Income was 23,200 dollars\n",
    "\n",
    "1. Create variable to store the answer\n",
    "2. Print the variable with a label\n",
    "3. Check the variable to be accurate "
   ]
  },
  {
   "cell_type": "code",
   "execution_count": 5,
   "id": "58ed641d-78a9-40b9-b7e8-db79abdaa6a9",
   "metadata": {},
   "outputs": [
    {
     "name": "stdout",
     "output_type": "stream",
     "text": [
      "Tax for $23,200 income = 2320.0\n",
      "Is the calculation accurate? True\n"
     ]
    }
   ],
   "source": [
    "\n",
    "# 1. Income of $23,200 create variable to hold the tax\n",
    "tax2 = total_tax(23200)\n",
    "\n",
    "# 2. Print and label\n",
    "print('Tax for $23,200 income =', tax2)\n",
    "\n",
    "# 3. Check if accurate\n",
    "correct = 23200 * 0.1\n",
    "print('Is the calculation accurate?', tax2 == correct)"
   ]
  },
  {
   "cell_type": "code",
   "execution_count": null,
   "id": "722b9091-86dc-4761-aad3-0bbd42927efb",
   "metadata": {},
   "outputs": [],
   "source": []
  },
  {
   "cell_type": "markdown",
   "id": "1f332386-d985-459f-bcd9-6fa328a9ce90",
   "metadata": {},
   "source": [
    ">\n",
    ">\n",
    "##### III. C. **iii. <u>Example 3:</u>**\n",
    "What is the total tax owed if your Income was 23,201 dollars\n",
    "\n",
    "1. Create variable to store the answer\n",
    "2. Print the variable with a label\n",
    "3. Check the variable to be accurate "
   ]
  },
  {
   "cell_type": "code",
   "execution_count": 6,
   "id": "e53bd05f-1f64-4847-898c-d5013d7cfb50",
   "metadata": {},
   "outputs": [
    {
     "name": "stdout",
     "output_type": "stream",
     "text": [
      "Tax for $23,201 income = 2320.12\n",
      "Is the calculcation accurate? True\n"
     ]
    }
   ],
   "source": [
    "\n",
    "# 1. Income of $23,201 create variable to hold the tax\n",
    "tax3 = total_tax(23201)\n",
    "\n",
    "# 2. Print and label\n",
    "print('Tax for $23,201 income =', tax3)\n",
    "\n",
    "# 3. Check if accurate\n",
    "correct = (23200 * 0.1) + (1 * 0.12)\n",
    "print('Is the calculcation accurate?', tax3 == correct)"
   ]
  },
  {
   "cell_type": "code",
   "execution_count": null,
   "id": "7bcfade5-e93f-4da1-9726-cbaf13820eb5",
   "metadata": {},
   "outputs": [],
   "source": []
  },
  {
   "cell_type": "markdown",
   "id": "4f00ad86-3ae8-42b4-a036-7870708df044",
   "metadata": {},
   "source": [
    ">\n",
    ">\n",
    "##### III. C. **iv. <u>Example 4:</u>**\n",
    "What is the total tax owed i/f your Income was 94,300 dollars\n",
    "\n",
    "1. Create variable to store the answer\n",
    "2. Print the variable with a label\n",
    "3. Check the variable to be accurate "
   ]
  },
  {
   "cell_type": "code",
   "execution_count": 7,
   "id": "34e00027-dadf-40e8-8d56-e6d0eb29e615",
   "metadata": {},
   "outputs": [
    {
     "name": "stdout",
     "output_type": "stream",
     "text": [
      "Tax for $94,300 income = 10852.0\n",
      "Is the calculation accurate? True\n"
     ]
    }
   ],
   "source": [
    "\n",
    "# 1. Income of $94,300 create variable to hold the tax\n",
    "tax4 = total_tax(94300)\n",
    "\n",
    "# 2. Print and label\n",
    "print('Tax for $94,300 income =', tax4)\n",
    "\n",
    "# 3. Check if accurate\n",
    "correct = (23200 * 0.1) + ((94300 - 23200) * 0.12)\n",
    "print('Is the calculation accurate?', tax4 == correct)"
   ]
  },
  {
   "cell_type": "code",
   "execution_count": null,
   "id": "e1705821-356a-41f7-ba0d-3d4b7fc1776b",
   "metadata": {},
   "outputs": [],
   "source": []
  },
  {
   "cell_type": "markdown",
   "id": "9ed5b3dc-d684-49a6-b556-6bc3a2b1428d",
   "metadata": {},
   "source": [
    ">\n",
    ">\n",
    "##### III. C. **v. <u>Example 5:</u>**\n",
    "What is the total tax owed if your Income was 1,000,000 dollars\n",
    "\n",
    "1. Create variable to store the answer\n",
    "2. Print the variable with a label\n",
    "3. Check the variable to be accurate "
   ]
  },
  {
   "cell_type": "code",
   "execution_count": 9,
   "id": "5a7bc742-4568-4f3d-bf58-6d5e8f453f5d",
   "metadata": {},
   "outputs": [
    {
     "name": "stdout",
     "output_type": "stream",
     "text": [
      "Tax for $1 million income = 296125.5\n",
      "Is the calculation accurate? True\n"
     ]
    }
   ],
   "source": [
    "\n",
    "# 1.\n",
    "taxmil = total_tax(1000000)\n",
    "\n",
    "# 2. \n",
    "print('Tax for $1 million income =', taxmil)\n",
    "\n",
    "# 3. check if accurate\n",
    "correct = (23200 * 0.1) + ((94300 - 23200) * 0.12) + ((201050 - 94300) * 0.22) + ((383900 - 201050) * 0.24) + ((487450 - 383900) * 0.32) + ((731200 - 487450) * 0.35) + ( (1000000- 731200) * 0.37 )\n",
    "print('Is the calculation accurate?', taxmil == correct)"
   ]
  },
  {
   "cell_type": "code",
   "execution_count": null,
   "id": "0aa92c81-acb1-4d3e-96b6-dec1f412e790",
   "metadata": {},
   "outputs": [],
   "source": []
  }
 ],
 "metadata": {
  "kernelspec": {
   "display_name": "Python 3 (ipykernel)",
   "language": "python",
   "name": "python3"
  },
  "language_info": {
   "codemirror_mode": {
    "name": "ipython",
    "version": 3
   },
   "file_extension": ".py",
   "mimetype": "text/x-python",
   "name": "python",
   "nbconvert_exporter": "python",
   "pygments_lexer": "ipython3",
   "version": "3.11.5"
  }
 },
 "nbformat": 4,
 "nbformat_minor": 5
}
