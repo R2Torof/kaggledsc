{
 "cells": [
  {
   "cell_type": "markdown",
   "id": "e2ceebf2-862f-45e2-a713-931ba979d02a",
   "metadata": {},
   "source": [
    "# My Projects\n",
    "My ideas of cool codes and custom functions that I created to practice my new found knowledge of working through **Kaggle: Intro to Programming Lessons 1 to 5** along side **Brillant Solving Equations 1.1 Math Foundations Course**\n",
    "\n",
    "### *Done on January 23, 2024*"
   ]
  },
  {
   "cell_type": "code",
   "execution_count": null,
   "id": "2a95b58d-06c8-49a3-aeba-d50e98886938",
   "metadata": {},
   "outputs": [],
   "source": []
  },
  {
   "cell_type": "code",
   "execution_count": null,
   "id": "0418d010-0e85-418a-a6f3-1fc79bb513b9",
   "metadata": {},
   "outputs": [],
   "source": []
  },
  {
   "cell_type": "markdown",
   "id": "83af7d62-4803-43de-a24f-b8970e0fdc33",
   "metadata": {},
   "source": [
    "## **I. <u>Create a Credit Card Evaluator:</u>**\n",
    "- Create a function that will determine which credit card points structure is better based on travel and expense usage\n",
    "- Call this function '<font color=\"Blue\"> **credit()** </font>'\n",
    "- The function should take 2 **parameters**:\n",
    "    1. <font color=\"lightseagreen\"> **money** </font>\n",
    "    2. <font color=\"lightseagreen\"> **travel** </font>\n",
    "- The function's output should be the name of the credit card that is best given the 2 inputted <font color=\"lightseagreen\"> **parameters** </font>\n",
    ">\n",
    ">\n",
    "**<u>Important Info:</u>**\n",
    "1. **Premium Credit card** ( = '<font color=\"darkcyan\"> **premium** </font>' ) offers:\n",
    "    1. 1 point per dollar spent in the '<font color=\"lightseagreen\"> **money** </font>' category\n",
    "    2. Each point is worth <font color=\"magenta\"> **0.0125** </font> dollars\n",
    "    3. Earn <font color=\"magenta\"> **double points** </font> for each dollar spent in the '<font color=\"lightseagreen\"> **travel** </font>' category\n",
    "    4. Annual fee is <font color=\"magenta\"> **100** </font> dollars\n",
    "    5. Equation to represent this premium card:\n",
    "    >\n",
    "    >\n",
    "    > <font color=\"darkcyan\"> **premium** </font> <font color=\"goldenrod\"> **=** </font> <font color=\"<blue\"> **(** </font> <font color=\"magenta\"> **0.0125** </font> <font color=\"goldenrod\"> * </font> <font color=\"royalblue\"> **(** </font> <font color=\"dodgerblue\"> **(** </font> <font color=\"magenta\"> **2** </font> <font color=\"goldenrod\"> * </font> <font color=\"lightseagreen\"> **travel** </font> <font color=\"dodgerblue\"> **)** </font> <font color=\"goldenrod\"> **+** </font> <font color=\"lightseagreen\"> **money** </font> <font color=\"royalblue\"> **)** </font> <font color=\"blue\">  **)** </font> <font color=\"goldenrod\"> **-** </font> <font color=\"magenta\"> **100** </font>\n",
    "    >\n",
    "    >\n",
    ">\n",
    ">\n",
    "2. **Diamond Credit card** ( = '<font color=\"darkcyan\"> **diamond** </font>' ) offers:\n",
    "    1. 1 point per dollar spent in the '<font color=\"lightseagreen\"> **money** </font>' category\n",
    "    2. Each point is worth <font color=\"magenta\"> **0.0175** </font> dollars\n",
    "    3. Earn <font color=\"magenta\"> **triple points** </font> for each dollar spent in the '<font color=\"lightseagreen\"> **travel** </font>' category\n",
    "    4. Annual fee is <font color=\"magenta\"> **400** </font> dollars\n",
    "    5. Equation to represent this premium card:\n",
    "    >\n",
    "    >\n",
    "    > <font color=\"darkcyan\"> **diamond** </font> <font color=\"goldenrod\"> **=** </font> <font color=\"<blue\"> **(** </font> <font color=\"magenta\"> **0.0175** </font> <font color=\"goldenrod\"> * </font> <font color=\"royalblue\"> **(** </font> <font color=\"dodgerblue\"> **(** </font> <font color=\"magenta\"> **3** </font> <font color=\"goldenrod\"> * </font> <font color=\"lightseagreen\"> **travel** </font> <font color=\"dodgerblue\"> **)** </font> <font color=\"goldenrod\"> **+** </font> <font color=\"lightseagreen\"> **money** </font> <font color=\"royalblue\"> **)** </font> <font color=\"blue\">  **)** </font> <font color=\"goldenrod\"> **-** </font> <font color=\"magenta\"> **400** </font>\n",
    "    >\n",
    "    >"
   ]
  },
  {
   "cell_type": "code",
   "execution_count": 1,
   "id": "e8d21ebe-646a-444b-9778-cb82d3e4fb6c",
   "metadata": {},
   "outputs": [],
   "source": [
    "\n",
    "# Create the function\n",
    "def credit(travel, money):\n",
    "    diamond = ( 0.0175 * ((3 * travel) + money)) - 400\n",
    "    premium = ( 0.0125 * ( (2 * travel) + money) ) - 100\n",
    "    if diamond > premium:\n",
    "        message = \"Diamond\"\n",
    "    elif diamond == premium:\n",
    "        message = \"Either\"\n",
    "    else:\n",
    "        message = \"Premium\"\n",
    "    return message"
   ]
  },
  {
   "cell_type": "code",
   "execution_count": 2,
   "id": "27cc21cf-1e69-4da5-baf0-0a1d4558a8c3",
   "metadata": {},
   "outputs": [
    {
     "name": "stdout",
     "output_type": "stream",
     "text": [
      "Should say Premium if Travel $5,000 and Money $10,000: Premium\n",
      "\n",
      "Should say Diamond if Travel is $10,000 and Money is $10,000: Diamond\n"
     ]
    }
   ],
   "source": [
    "# Test function against the Brillant App\n",
    "\n",
    "# If travel is 5000 and money is 10000 brillant app says premium wins so this function should say premium\n",
    "print( 'Should say Premium if Travel $5,000 and Money $10,000:', credit( 5000, 10000 ) )\n",
    "print()\n",
    "\n",
    "# If travel is 10000 and money is 10000 brillant app says diamond wins\n",
    "print( 'Should say Diamond if Travel is $10,000 and Money is $10,000:', credit( 10000, 10000) )\n",
    "\n"
   ]
  },
  {
   "cell_type": "markdown",
   "id": "f60f26b5-6a18-4cc4-b589-e0e2b842f585",
   "metadata": {},
   "source": [
    "------------"
   ]
  },
  {
   "cell_type": "code",
   "execution_count": null,
   "id": "c4f0609c-9cec-4bc8-a8f5-db6329fd669f",
   "metadata": {},
   "outputs": [],
   "source": []
  },
  {
   "cell_type": "code",
   "execution_count": null,
   "id": "18a32d62-8888-4971-9764-02901daa13df",
   "metadata": {},
   "outputs": [],
   "source": []
  },
  {
   "cell_type": "markdown",
   "id": "979a8c4c-1e90-47bd-b9d0-31fb1ec45482",
   "metadata": {},
   "source": [
    "## **II. <u>Create a 1099 vs W2 Evaluator:</u>**\n",
    "- Create a function that will determine which if you make more money in a 1099 or W2 job based on amount of private pay patients vs insurance pay patients\n",
    "- Call this function '<font color=\"Blue\"> **job()** </font>'\n",
    "- The function should take 3 **parameters**:\n",
    "    1. <font color=\"lightseagreen\"> **contracter** </font> = Boolen for if contracter (<font color=\"forestgreen\"> **True** </font>) or W2 (<font color=\"red\"> **False** </font>)\n",
    "    2. <font color=\"lightseagreen\"> **private** </font> = number of private patients seen\n",
    "    3. <font color=\"lightseagreen\"> **insurance** </font> = number of insurance patients seen\n",
    "- The function's output should be the name of the credit card that is best given the 2 inputted <font color=\"lightseagreen\"> **parameters** </font>\n",
    "  \n",
    ">\n",
    ">\n",
    "**<u>Important Info:</u>**\n",
    "1. Use the 2024 married filing jointly tax function within this custom function\n",
    "2. **1099** ( = '<font color=\"darkcyan\"> **contracter** </font>' ) offers:\n",
    "    1. Pays 0 dollars in state tax for contracter but 2.75% for W2:\n",
    "    >\n",
    "    >\n",
    "    > '<font color=\"darkcyan\"> **state_tax** </font> <font color=\"goldenrod\"> **=** </font> \n",
    "    3. Employment tax is <font color=\"magenta\"> **15.3%** </font>\n",
    "    4. Income tax is based off the '<font color=\"blue\"> **total_taxes()** </font>' function\n",
    "    5. City tax is <font color=\"magenta\"> **2.5%** </font>\n",
    "    6. You are paid 60% of 92 dollars per insurance patient. Paid <font color=\"magenta\"> **60%** </font> of <font color=\"magenta\"> **92** </font> dollars per '<font color=\"lightseagreen\"> **insurance** </font>' patient\n",
    "    >\n",
    "    >\n",
    "    > '<font color=\"darkcyan\"> **insurance_gross** </font> <font color=\"goldenrod\"> **=** </font> <font color=\"magenta\"> **92** </font> <font color=\"goldenrod\"> * </font> <font color=\"magenta\"> **0.60** </font> per <font color=\"lightseagreen\"> **insurance** </font> seen'\n",
    "    >\n",
    "    >\n",
    "    > '<font color=\"darkcyan\"> **insurance_gross** </font> <font color=\"goldenrod\"> **=** </font> <font color=\"magenta\"> **55.20** </font> <font color=\"goldenrod\"> * </font> <font color=\"lightseagreen\"> **insurance** </font>'\n",
    "    >\n",
    "    >\n",
    "    6. All together you combine the above amount per patient earned and multiply it by (<font color=\"magenta\"> **1** </font> <font color=\"goldenrod\"> **-** </font> taxes owed) to get how much made after taxes\n",
    "    >\n",
    "    >\n",
    "    > '<font color=\"darkcyan\"> **insurance_earned** </font> <font color=\"goldenrod\"> **=** </font> <font color=\"darkcyan\"> **insurance_paid** </font> <font color=\"goldenrod\"> * </font> <font color=\"blue\"> **(** </font> <font color=\"magenta\"> **1** </font> <font color=\"goldenrod\"> **-** </font>\n",
    "    "
   ]
  },
  {
   "cell_type": "code",
   "execution_count": 4,
   "id": "69c81596-9670-42fd-bcb6-1299a5ad379e",
   "metadata": {},
   "outputs": [
    {
     "ename": "SyntaxError",
     "evalue": "invalid syntax (3270555923.py, line 1)",
     "output_type": "error",
     "traceback": [
      "\u001b[0;36m  Cell \u001b[0;32mIn[4], line 1\u001b[0;36m\u001b[0m\n\u001b[0;31m    def\u001b[0m\n\u001b[0m        ^\u001b[0m\n\u001b[0;31mSyntaxError\u001b[0m\u001b[0;31m:\u001b[0m invalid syntax\n"
     ]
    }
   ],
   "source": [
    "def job(contracter, insurance, private):\n",
    "    employment_tax = (0.153 * contracter) + (not contracter * 0.0765)\n",
    "    state_tax = \n",
    "    insurance_gross = 55.20 * insurance\n",
    "    insurance_fedtax = total_taxes(insurance_gross)\n",
    "    insurance_earned = insurance_paid * (1 - (insurance_fedtax + employment_contracter_tax +\n"
   ]
  },
  {
   "cell_type": "code",
   "execution_count": 3,
   "id": "87ffa066-7eb9-40ef-bdf0-b5326be092e3",
   "metadata": {},
   "outputs": [],
   "source": [
    "def total_tax(income):\n",
    "    if income <= 23200:\n",
    "        tax = income * 0.1\n",
    "    elif income <= 94300:\n",
    "        tax = (23200 * 0.1) + ( (income - 23200) * 0.12 )\n",
    "    elif income <= 201050:\n",
    "        tax = (23200 * 0.1) + ((94300 - 23200) * 0.12) + ( (income - 94300) * 0.22 )\n",
    "    elif income <= 383900:\n",
    "        tax = (23200 * 0.1) + ((94300 - 23200) * 0.12) + ((201050 - 94300) * 0.22) + ( (income - 201050) * 0.24 )\n",
    "    elif income <= 487450:\n",
    "        tax = (23200 * 0.1) + ((94300 - 23200) * 0.12) + ((201050 - 94300) * 0.22) + ((383900 - 201050) * 0.24) + ( (income - 383900) * 0.32 )\n",
    "    elif income <= 731200:\n",
    "        tax = (23200 * 0.1) + ((94300 - 23200) * 0.12) + ((201050 - 94300) * 0.22) + ((383900 - 201050) * 0.24) + ((487450 - 383900) * 0.32) + ( (income - 487450) * 0.35 )\n",
    "    else:\n",
    "        tax = (23200 * 0.1) + ((94300 - 23200) * 0.12) + ((201050 - 94300) * 0.22) + ((383900 - 201050) * 0.24) + ((487450 - 383900) * 0.32) + ((731200 - 487450) * 0.35) + ( (income - 731200) * 0.37 )\n",
    "    return tax\n"
   ]
  },
  {
   "cell_type": "code",
   "execution_count": null,
   "id": "f149ef5f-98f3-4907-93ed-3b8ee0a17e4f",
   "metadata": {},
   "outputs": [],
   "source": []
  }
 ],
 "metadata": {
  "kernelspec": {
   "display_name": "Python 3 (ipykernel)",
   "language": "python",
   "name": "python3"
  },
  "language_info": {
   "codemirror_mode": {
    "name": "ipython",
    "version": 3
   },
   "file_extension": ".py",
   "mimetype": "text/x-python",
   "name": "python",
   "nbconvert_exporter": "python",
   "pygments_lexer": "ipython3",
   "version": "3.11.5"
  }
 },
 "nbformat": 4,
 "nbformat_minor": 5
}
