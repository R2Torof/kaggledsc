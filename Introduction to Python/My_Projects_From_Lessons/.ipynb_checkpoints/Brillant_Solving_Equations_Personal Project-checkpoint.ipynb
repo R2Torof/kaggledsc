{
 "cells": [
  {
   "cell_type": "markdown",
   "id": "e2ceebf2-862f-45e2-a713-931ba979d02a",
   "metadata": {},
   "source": [
    "# My Projects\n",
    "My ideas of cool codes and custom functions that I created to practice my new found knowledge of working through **Kaggle: Intro to Programming Lessons 1 to 5** along side **Brillant Solving Equations 1.1 Math Foundations Course**\n",
    "\n",
    "### *Done on January 23, 2024*"
   ]
  },
  {
   "cell_type": "code",
   "execution_count": null,
   "id": "2a95b58d-06c8-49a3-aeba-d50e98886938",
   "metadata": {},
   "outputs": [],
   "source": []
  },
  {
   "cell_type": "code",
   "execution_count": null,
   "id": "0418d010-0e85-418a-a6f3-1fc79bb513b9",
   "metadata": {},
   "outputs": [],
   "source": []
  },
  {
   "cell_type": "markdown",
   "id": "83af7d62-4803-43de-a24f-b8970e0fdc33",
   "metadata": {},
   "source": [
    "## **I. <u>Create a Credit Card Evaluator:</u>**\n",
    "- Create a function that will determine which credit card points structure is better based on travel and expense usage\n",
    "- Call this function '<font color=\"Blue\"> **credit()** </font>'\n",
    "- The function should take 2 **parameters**:\n",
    "    1. <font color=\"lightseagreen\"> **money** </font>\n",
    "    2. <font color=\"lightseagreen\"> **travel** </font>\n",
    "- The function's output should be the name of the credit card that is best given the 2 inputted <font color=\"lightseagreen\"> **parameters** </font>\n",
    ">\n",
    ">\n",
    "**<u>Important Info:</u>**\n",
    "1. **Premium Credit card** ( = '<font color=\"darkcyan\"> **premium** </font>' ) offers:\n",
    "    1. 1 point per dollar spent in the '<font color=\"lightseagreen\"> **money** </font>' category\n",
    "    2. Each point is worth <font color=\"magenta\"> **0.0125** </font> dollars\n",
    "    3. Earn <font color=\"magenta\"> **double points** </font> for each dollar spent in the '<font color=\"lightseagreen\"> **travel** </font>' category\n",
    "    4. Annual fee is <font color=\"magenta\"> **100** </font> dollars\n",
    "    5. Equation to represent this premium card:\n",
    "    >\n",
    "    >\n",
    "    > <font color=\"darkcyan\"> **premium** </font> <font color=\"goldenrod\"> **=** </font> <font color=\"<blue\"> **(** </font> <font color=\"magenta\"> **0.0125** </font> <font color=\"goldenrod\"> * </font> <font color=\"royalblue\"> **(** </font> <font color=\"dodgerblue\"> **(** </font> <font color=\"magenta\"> **2** </font> <font color=\"goldenrod\"> * </font> <font color=\"lightseagreen\"> **travel** </font> <font color=\"dodgerblue\"> **)** </font> <font color=\"goldenrod\"> **+** </font> <font color=\"lightseagreen\"> **money** </font> <font color=\"royalblue\"> **)** </font> <font color=\"blue\">  **)** </font> <font color=\"goldenrod\"> **-** </font> <font color=\"magenta\"> **100** </font>\n",
    "    >\n",
    "    >\n",
    ">\n",
    ">\n",
    "2. **Diamond Credit card** ( = '<font color=\"darkcyan\"> **diamond** </font>' ) offers:\n",
    "    1. 1 point per dollar spent in the '<font color=\"lightseagreen\"> **money** </font>' category\n",
    "    2. Each point is worth <font color=\"magenta\"> **0.0175** </font> dollars\n",
    "    3. Earn <font color=\"magenta\"> **triple points** </font> for each dollar spent in the '<font color=\"lightseagreen\"> **travel** </font>' category\n",
    "    4. Annual fee is <font color=\"magenta\"> **400** </font> dollars\n",
    "    5. Equation to represent this premium card:\n",
    "    >\n",
    "    >\n",
    "    > <font color=\"darkcyan\"> **diamond** </font> <font color=\"goldenrod\"> **=** </font> <font color=\"<blue\"> **(** </font> <font color=\"magenta\"> **0.0175** </font> <font color=\"goldenrod\"> * </font> <font color=\"royalblue\"> **(** </font> <font color=\"dodgerblue\"> **(** </font> <font color=\"magenta\"> **3** </font> <font color=\"goldenrod\"> * </font> <font color=\"lightseagreen\"> **travel** </font> <font color=\"dodgerblue\"> **)** </font> <font color=\"goldenrod\"> **+** </font> <font color=\"lightseagreen\"> **money** </font> <font color=\"royalblue\"> **)** </font> <font color=\"blue\">  **)** </font> <font color=\"goldenrod\"> **-** </font> <font color=\"magenta\"> **400** </font>\n",
    "    >\n",
    "    >"
   ]
  },
  {
   "cell_type": "code",
   "execution_count": 1,
   "id": "e8d21ebe-646a-444b-9778-cb82d3e4fb6c",
   "metadata": {},
   "outputs": [],
   "source": [
    "\n",
    "# Create the function\n",
    "def credit(travel, money):\n",
    "    diamond = ( 0.0175 * ((3 * travel) + money)) - 400\n",
    "    premium = ( 0.0125 * ( (2 * travel) + money) ) - 100\n",
    "    if diamond > premium:\n",
    "        message = \"Diamond\"\n",
    "    elif diamond == premium:\n",
    "        message = \"Either\"\n",
    "    else:\n",
    "        message = \"Premium\"\n",
    "    return message"
   ]
  },
  {
   "cell_type": "code",
   "execution_count": 2,
   "id": "27cc21cf-1e69-4da5-baf0-0a1d4558a8c3",
   "metadata": {},
   "outputs": [
    {
     "name": "stdout",
     "output_type": "stream",
     "text": [
      "Should say Premium if Travel $5,000 and Money $10,000: Premium\n",
      "\n",
      "Should say Diamond if Travel is $10,000 and Money is $10,000: Diamond\n"
     ]
    }
   ],
   "source": [
    "# Test function against the Brillant App\n",
    "\n",
    "# If travel is 5000 and money is 10000 brillant app says premium wins so this function should say premium\n",
    "print( 'Should say Premium if Travel $5,000 and Money $10,000:', credit( 5000, 10000 ) )\n",
    "print()\n",
    "\n",
    "# If travel is 10000 and money is 10000 brillant app says diamond wins\n",
    "print( 'Should say Diamond if Travel is $10,000 and Money is $10,000:', credit( 10000, 10000) )\n",
    "\n"
   ]
  },
  {
   "cell_type": "markdown",
   "id": "f60f26b5-6a18-4cc4-b589-e0e2b842f585",
   "metadata": {},
   "source": [
    "------------"
   ]
  },
  {
   "cell_type": "code",
   "execution_count": null,
   "id": "c4f0609c-9cec-4bc8-a8f5-db6329fd669f",
   "metadata": {},
   "outputs": [],
   "source": []
  },
  {
   "cell_type": "code",
   "execution_count": null,
   "id": "18a32d62-8888-4971-9764-02901daa13df",
   "metadata": {},
   "outputs": [],
   "source": []
  },
  {
   "cell_type": "markdown",
   "id": "979a8c4c-1e90-47bd-b9d0-31fb1ec45482",
   "metadata": {},
   "source": [
    "## **II. <u>Create a 1099 vs W2 Evaluator:</u>**\n",
    "- Create a function that will determine which if you make more money in a 1099 or W2 job based on amount of private pay patients vs insurance pay patients\n",
    "- Call this function '<font color=\"Blue\"> **job()** </font>'\n",
    "- The function should take 3 **parameters**:\n",
    "    1. <font color=\"lightseagreen\"> **contracter** </font> = Boolen for if contracter (<font color=\"forestgreen\"> **True** </font>) or W2 (<font color=\"red\"> **False** </font>)\n",
    "    2. <font color=\"lightseagreen\"> **private** </font> = number of private patients seen\n",
    "    3. <font color=\"lightseagreen\"> **insurance** </font> = number of insurance patients seen\n",
    "- The function's output should be the name of the credit card that is best given the 2 inputted <font color=\"lightseagreen\"> **parameters** </font>\n",
    "  \n",
    ">\n",
    ">\n",
    "**<u>Important Info:</u>**\n",
    "1. Use the 2024 married filing jointly tax function within this custom function\n",
    "2. Pays <font color=\"magenta\"> **0%** </font> in <font color=\"darkcyan\"> **state tax** </font> for <font color=\"forestgreen\"> **contracter** </font> but <font color=\"magenta\"> **2.75%** </font> for <font color=\"red\"> **W2** </font>:\n",
    "    >\n",
    "    >\n",
    "    > '<font color=\"darkcyan\"> **state_tax** </font> <font color=\"goldenrod\"> **=** </font> <font color=\"blue\"> **(** </font> <font color=\"deepskyblue\"> **not** </font> <font color=\"lightseagreen\"> **contracter** </font> <font color=\"blue\"> **)** </font> <font color=\"goldenrod\"> * </font> <font color=\"magenta\"> **0.0275** </font>'\n",
    "    >\n",
    "    >\n",
    "3. Employment tax is <font color=\"magenta\"> **15.3%** </font> if for <font color=\"forestgreen\"> **contracter** </font> but <font color=\"magenta\"> **7.65%** </font> for <font color=\"red\"> **W2** </font>:\n",
    ">\n",
    ">\n",
    "> '<font color=\"darkcyan\"> **employment_tax** </font> <font color=\"goldenrod\"> **=** </font> <font color=\"blue\"> **(** </font> <font color=\"magenta\"> **0.153** </font> <font color=\"goldenrod\"> * </font> <font color=\"lightseagreen\"> **contracter** </font> <font color=\"blue\"> **)** </font> <font color=\"goldenrod\"> **+** </font> <font color=\"blue\"> **(** </font> <font color=\"dodgerblue\"> **(** </font> <font color=\"Deepskyblue\"> **not** </font> <font color=\"lightseagreen\"> **contracter** </font> <font color=\"dodgerblue\"> **)** </font> <font color=\"goldenrod\"> * </font> <font color=\"magenta\"> **0.0765** </font> <font color=\"blue\"> **)** </font>'\n",
    ">\n",
    ">\n",
    "4. City tax is <font color=\"magenta\"> **2.5%** </font>\n",
    ">\n",
    ">\n",
    "5. If a 1099 you are paid <font color=\"magenta\"> **60%** </font> of <font color=\"magenta\"> **92** </font> dollars per '<font color=\"lightseagreen\"> **insurance** </font>' patient. If you are a W2 you are paid <font color=\"magenta\"> **53%** </font> of <font color=\"magenta\"> **92** </font> dollars per '<font color=\"lightseagreen\"> **insurance** </font>' patient. So calculate the gross payment if 1099 or W2 for total insurance patients seen with the following:\n",
    "    >\n",
    "    >\n",
    "    > '<font color=\"darkcyan\"> **insurance_gross** </font> <font color=\"goldenrod\"> **=** </font> <font color=\"blue\"> **(** </font> <font color=\"lightseagreen\"> **contracter** </font> <font color=\"goldenrod\"> * </font> <font color=\"dodgerblue\"> **(** </font> <font color=\"magenta\"> **92** </font> <font color=\"goldenrod\"> * </font> <font color=\"magenta\"> **0.60** </font> <font color=\"dodgerblue\"> **)** </font> <font color=\"goldenrod\"> * </font>  <font color=\"lightseagreen\"> **insurance** </font> <font color=\"blue\"> **)** </font> <font color=\"goldenrod\"> **+** </font> <font color=\"blue\"> **(** </font> <font color=\"dodgerblue\"> **(** </font> <font color=\"deepskyblue\"> **not** </font> <font color=\"lightseagreen\"> **contracter** </font> <font color=\"dodgerblue\"> **)** </font> <font color=\"goldenrod\"> * </font> <font color=\"dodgerblue\"> **(** </font> <font color=\"magenta\"> **92** </font> <font color=\"goldenrod\"> * </font> <font color=\"magenta\"> **0.53** </font> <font color=\"dodgerblue\"> **)** </font> <font color=\"goldenrod\"> * </font>  <font color=\"lightseagreen\"> **insurance** </font> <font color=\"blue\"> **)** </font>\n",
    "    >\n",
    "    >\n",
    "    >\n",
    "6. If a 1099 you are paid <font color=\"magenta\"> **60%** </font> of <font color=\"magenta\"> **150** </font> dollars per '<font color=\"lightseagreen\"> **private** </font>' patient. If you are a W2 you are paid <font color=\"magenta\"> **53%** </font> of <font color=\"magenta\"> **150** </font> dollars per '<font color=\"lightseagreen\"> **private** </font>' patient. So calculate the gross payment if 1099 or W2 for total private patients seen with the following:\n",
    "    >\n",
    "    >\n",
    "    > '<font color=\"darkcyan\"> **private_gross** </font> <font color=\"goldenrod\"> **=** </font> <font color=\"blue\"> **(** </font> <font color=\"lightseagreen\"> **contracter** </font> <font color=\"goldenrod\"> * </font> <font color=\"dodgerblue\"> **(** </font> <font color=\"magenta\"> **150** </font> <font color=\"goldenrod\"> * </font> <font color=\"magenta\"> **0.60** </font> <font color=\"dodgerblue\"> **)** </font> <font color=\"goldenrod\"> * </font>  <font color=\"lightseagreen\"> **private** </font> <font color=\"blue\"> **)** </font> <font color=\"goldenrod\"> **+** </font> <font color=\"blue\"> **(** </font> <font color=\"dodgerblue\"> **(** </font> <font color=\"deepskyblue\"> **not** </font> <font color=\"lightseagreen\"> **contracter** </font> <font color=\"dodgerblue\"> **)** </font> <font color=\"goldenrod\"> * </font> <font color=\"dodgerblue\"> **(** </font> <font color=\"magenta\"> **150** </font> <font color=\"goldenrod\"> * </font> <font color=\"magenta\"> **0.53** </font> <font color=\"dodgerblue\"> **)** </font> <font color=\"goldenrod\"> * </font>  <font color=\"lightseagreen\"> **private** </font> <font color=\"blue\"> **)** </font>\n",
    "    >\n",
    "    >\n",
    "    >\n",
    "7. Have to calculate federal taxes owed separately since its calculated in its own function called '<font color=\"blue\"> **total_tax()** </font>' already created earlier in another lesson and copied and pasted below. This will calculated by adding the '<font color=\"darkcyan\"> **insurance_gross** </font>' and '<font color=\"darkcyan\"> **private_gross** </font>' together into a new variable called '<font color=\"darkcyan\"> **total_gross** </font>'\n",
    ">\n",
    ">\n",
    "> '<font color=\"darkcyan\"> **total_gross** </font> <font color=\"goldenrod\"> **=** </font> <font color=\"darkcyan\"> **insurance_gross** </font> <font color=\"goldenrod\"> **+** </font> <font color=\"darkcyan\"> **private_gross** </font>'\n",
    ">\n",
    ">\n",
    "   \n",
    "8. Then put that total into the <font color=\"blue\"> **total_tax()** </font>' function and store it in a new variable as follows:\n",
    ">\n",
    ">\n",
    "> '<font color=\"darkcyan\"> **fed_tax** </font> <font color=\"goldenrod\"> **=** </font> <font color=\"blue\"> **total_tax(** </font> <font color=\"darkcyan\"> **total_gross** </font> <font color=\"blue\"> **)** </font>'\n",
    ">\n",
    ">\n",
    "9. All together you combine the above amount per patient earned (= '<font color=\"darkcyan\"> **take_home** </font>') and <font color=\"goldenrod\"> **multiply** </font> it by <font color=\"blue\"> **(** </font> <font color=\"magenta\"> **1** </font> <font color=\"goldenrod\"> **-** </font> <font color=\"dodgerblue\"> **(** </font> <font color=\"darkcyan\"> **employment_tax** </font> <font color=\"goldenrod\"> **+** </font> <font color=\"darkcyan\"> **state_tax** </font> <font color=\"goldenrod\"> **+** </font> <font color=\"darkcyan\"> **city_tax** </font> <font color=\"dodgerblue\"> **)** </font> <font color=\"blue\"> **)** </font> and <font color=\"goldenrod\"> **minus** </font> <font color=\"darkcyan\"> **fed_tax** </font>\n",
    "    >\n",
    "    >\n",
    "    > '<font color=\"darkcyan\"> **take_home** </font> <font color=\"goldenrod\"> **=** </font> <font color=\"blue\"> **(** <font color=\"darkcyan\"> **total_gross** </font> <font color=\"goldenrod\"> * </font> <font color=\"dodgerblue\"> **(** </font> <font color=\"magenta\"> **1** </font> <font color=\"goldenrod\"> **-** </font> <font color=\"royalblue\"> **(** </font> <font color=\"darkcyan\"> **employment_tax** </font> <font color=\"goldenrod\"> **+** </font> <font color=\"darkcyan\"> **state_tax** </font> <font color=\"goldenrod\"> **+** </font> <font color=\"darkcyan\"> **city_tax** </font> <font color=\"royalblue\"> **)** </font> <font color=\"dodgerblue\"> **)** </font> <font color=\"blue\"> **)** </font> <font color=\"goldenrod\"> **-** </font> <font color=\"darkcyan\"> **fed_tax** </font>'\n",
    ">\n",
    ">\n",
    "10. You want the result to look like money so want to '<font color=\"blue\"> **round()** </font>' it to the <font color=\"magenta\"> **2nd decimal** </font>. remember must import the math module. So you create a last variable and then that is what you want the custom function to <font color=\"magenta\"> **return** </font>:\n",
    ">\n",
    ">\n",
    "> '<font color=\"darkcyan\"> **rounded_take_home** </font> <font color=\"goldenrod\"> **=** </font> <font color=\"blue\"> **round(** </font> <font color=\"darkcyan\"> **take_home** </font> <font color=\"blue\"> **,** </font> <font color=\"magenta\"> **2** </font> <font color=\"blue\"> **)** </font>'\n",
    ">\n",
    ">"
   ]
  },
  {
   "cell_type": "code",
   "execution_count": 3,
   "id": "87ffa066-7eb9-40ef-bdf0-b5326be092e3",
   "metadata": {},
   "outputs": [],
   "source": [
    "\n",
    "# Copy and paste the 2024 married filing jointly tax income custom function and run it\n",
    "\n",
    "def total_tax(income):\n",
    "    if income <= 23200:\n",
    "        tax = income * 0.1\n",
    "    elif income <= 94300:\n",
    "        tax = (23200 * 0.1) + ( (income - 23200) * 0.12 )\n",
    "    elif income <= 201050:\n",
    "        tax = (23200 * 0.1) + ((94300 - 23200) * 0.12) + ( (income - 94300) * 0.22 )\n",
    "    elif income <= 383900:\n",
    "        tax = (23200 * 0.1) + ((94300 - 23200) * 0.12) + ((201050 - 94300) * 0.22) + ( (income - 201050) * 0.24 )\n",
    "    elif income <= 487450:\n",
    "        tax = (23200 * 0.1) + ((94300 - 23200) * 0.12) + ((201050 - 94300) * 0.22) + ((383900 - 201050) * 0.24) + ( (income - 383900) * 0.32 )\n",
    "    elif income <= 731200:\n",
    "        tax = (23200 * 0.1) + ((94300 - 23200) * 0.12) + ((201050 - 94300) * 0.22) + ((383900 - 201050) * 0.24) + ((487450 - 383900) * 0.32) + ( (income - 487450) * 0.35 )\n",
    "    else:\n",
    "        tax = (23200 * 0.1) + ((94300 - 23200) * 0.12) + ((201050 - 94300) * 0.22) + ((383900 - 201050) * 0.24) + ((487450 - 383900) * 0.32) + ((731200 - 487450) * 0.35) + ( (income - 731200) * 0.37 )\n",
    "    return tax\n"
   ]
  },
  {
   "cell_type": "code",
   "execution_count": 4,
   "id": "69c81596-9670-42fd-bcb6-1299a5ad379e",
   "metadata": {},
   "outputs": [],
   "source": [
    "\n",
    "# import math module first so can round\n",
    "import math\n",
    "\n",
    "# create the function discussed above\n",
    "def job(contracter, insurance, private):\n",
    "\n",
    "    # Employment tax is 15.3% is 1099 and 7.65% if W2\n",
    "    # So doing a not statement to make 15.3% occur if contracter is true and 7.65% occur if contracter is false\n",
    "    employment_tax = (0.153 * contracter) + ((not contracter) * 0.0765)\n",
    "\n",
    "    # State tax only applies if W2 so making it 0 if contracter true by not\n",
    "    state_tax = (not contracter) * 0.0275\n",
    "\n",
    "    # City tax is constant for all\n",
    "    city_tax = 0.025\n",
    "\n",
    "    # Calculate total federal taxes owed must first calculate gross total income\n",
    "    # First calculate gross income from insurance patients where $92 per patient and only gross 60% of that if contracter\n",
    "    # But if W2 then 0.53 percent paid\n",
    "    insurance_gross = (contracter * (92 * 0.6) * insurance) + ((not contracter) * (92 * 0.53) * insurance) \n",
    "\n",
    "    # 2nd calculate gross incrom from private patients where $150 per patient and only gross 60% of that if contracter\n",
    "    # But if W2 then 0.53 percent paid\n",
    "    private_gross = (contracter * (150 * 0.6) * private) + ((not contracter) * (150 * 0.53) * private)\n",
    "\n",
    "    # Add them together to get gross income that will be federally taxed\n",
    "    total_gross = insurance_gross + private_gross\n",
    "    \n",
    "    # Put that income into the other custom function 'total_tax' to get taxes owed\n",
    "    fed_tax = total_tax(total_gross)\n",
    "    \n",
    "    # Calculate total take home from total gross minus fed taxes then total gross take home with 1 - rest of taxes\n",
    "    take_home = (total_gross * (1 - (employment_tax + state_tax + city_tax))) - fed_tax\n",
    "    \n",
    "    # Round the answer to 2 decimal points\n",
    "    rounded_take_home = round(take_home, 2)\n",
    "    \n",
    "    return rounded_take_home\n"
   ]
  },
  {
   "cell_type": "markdown",
   "id": "9172a6d2-595e-4822-90cf-c693d35571f5",
   "metadata": {},
   "source": [
    "Initial attempt failed as apparently you have to put the <font color=\"DeepSkyBlue\"> **not** </font> <font color=\"lightseagreen\"> **contracter** </font> in **( )** "
   ]
  },
  {
   "cell_type": "code",
   "execution_count": 5,
   "id": "f149ef5f-98f3-4907-93ed-3b8ee0a17e4f",
   "metadata": {},
   "outputs": [
    {
     "name": "stdout",
     "output_type": "stream",
     "text": [
      "take home 1099 all private = 91164.0\n",
      "take home 1099 all insurance = 58589.6\n",
      "\n",
      "take home W2 all private = 87525.75\n",
      "\n",
      "take home W2 all private = 55392.14\n",
      "\n"
     ]
    }
   ],
   "source": [
    "\n",
    "# IF see 30 patients a week for 50 weeks total patients seen is\n",
    "total = 30 * 50\n",
    "\n",
    "# Practice as 30 private patients a week for 50 weeks at contracter level should be $91,164 take home, Print, label\n",
    "print( 'take home 1099 all private =', job(True, 0, total) ) \n",
    "\n",
    "\n",
    "# Practice as 30 insurance patients a week for 50 weeks at contracter level should be $58.589.60, Print, label and blank\n",
    "print( 'take home 1099 all insurance =', job(True, total, 0) ) \n",
    "print()\n",
    "\n",
    "# Practice as 30 private patients a week for 50 weeks at W2 level should be $87,525.75 take home, Print, label, and blank\n",
    "print( 'take home W2 all private =', job(False, 0, total) )\n",
    "print()\n",
    "\n",
    "# Practice as 30 insurance patients a week for 50 weeks at W2 level should be $55,392.14 take home, Print, label, and blank\n",
    "print( 'take home W2 all private =', job(False, total, 0) )\n",
    "print()"
   ]
  },
  {
   "cell_type": "code",
   "execution_count": null,
   "id": "104ed868-eb4f-4d0c-af89-1ba2c83984d4",
   "metadata": {},
   "outputs": [],
   "source": []
  }
 ],
 "metadata": {
  "kernelspec": {
   "display_name": "Python 3 (ipykernel)",
   "language": "python",
   "name": "python3"
  },
  "language_info": {
   "codemirror_mode": {
    "name": "ipython",
    "version": 3
   },
   "file_extension": ".py",
   "mimetype": "text/x-python",
   "name": "python",
   "nbconvert_exporter": "python",
   "pygments_lexer": "ipython3",
   "version": "3.11.5"
  }
 },
 "nbformat": 4,
 "nbformat_minor": 5
}
