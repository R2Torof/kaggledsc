{
 "cells": [
  {
   "cell_type": "markdown",
   "id": "4633d69f-248d-41e5-9d46-6c85b0f84916",
   "metadata": {},
   "source": [
    "# Python Code for Formating"
   ]
  },
  {
   "cell_type": "markdown",
   "id": "318c9fbc-bb2f-4eb2-bab9-a37b5c236661",
   "metadata": {},
   "source": [
    "## Escape Sequences"
   ]
  },
  {
   "cell_type": "markdown",
   "id": "88f5889c-33e4-4907-baa1-861535f0c0e5",
   "metadata": {},
   "source": [
    "### 1. Add a tab in print out from code cell:\n",
    "> '\\t'"
   ]
  },
  {
   "cell_type": "code",
   "execution_count": 1,
   "id": "21c09946-de4b-4ec8-a077-948de1f7fa88",
   "metadata": {},
   "outputs": [
    {
     "name": "stdout",
     "output_type": "stream",
     "text": [
      "tab between string 1 here \t and string 2 here\n"
     ]
    }
   ],
   "source": [
    "print('tab between string 1 here \\t', 'and string 2 here')"
   ]
  },
  {
   "cell_type": "code",
   "execution_count": null,
   "id": "0522cd17-f25b-4357-8da8-80341416c03b",
   "metadata": {},
   "outputs": [],
   "source": []
  },
  {
   "cell_type": "markdown",
   "id": "ed873278-7979-469b-bc9c-54573b476d8e",
   "metadata": {},
   "source": [
    "### 2. Add 2 tabs in print out from code cell:\n",
    "> '\\t\\t'"
   ]
  },
  {
   "cell_type": "code",
   "execution_count": 2,
   "id": "6842b68c-aaac-436f-8936-39478260c329",
   "metadata": {},
   "outputs": [
    {
     "name": "stdout",
     "output_type": "stream",
     "text": [
      "2 tabs between string 1 here \t\t and string 2 here\n"
     ]
    }
   ],
   "source": [
    "print('2 tabs between string 1 here \\t\\t', 'and string 2 here')"
   ]
  },
  {
   "cell_type": "code",
   "execution_count": null,
   "id": "dc3276e5-94d4-4edb-8097-1349c722a102",
   "metadata": {},
   "outputs": [],
   "source": []
  },
  {
   "cell_type": "markdown",
   "id": "a6ee75fe-dfcf-4d10-a208-bc05241d98f8",
   "metadata": {},
   "source": [
    "### 3. Add : then 2 tabs in print out from code cell:\n",
    "> ':\\t\\t'"
   ]
  },
  {
   "cell_type": "code",
   "execution_count": 3,
   "id": "c40aec6d-1bdb-4be4-83ba-74dbdee356ed",
   "metadata": {},
   "outputs": [
    {
     "name": "stdout",
     "output_type": "stream",
     "text": [
      "colon then 2 tabs b/w string 1 here :\t\t and string 2 here\n"
     ]
    }
   ],
   "source": [
    "print('colon then 2 tabs b/w string 1 here :\\t\\t', 'and string 2 here')"
   ]
  },
  {
   "cell_type": "code",
   "execution_count": null,
   "id": "df461d94-9f83-499d-b801-f0e588afe69e",
   "metadata": {},
   "outputs": [],
   "source": []
  }
 ],
 "metadata": {
  "kernelspec": {
   "display_name": "Python 3 (ipykernel)",
   "language": "python",
   "name": "python3"
  },
  "language_info": {
   "codemirror_mode": {
    "name": "ipython",
    "version": 3
   },
   "file_extension": ".py",
   "mimetype": "text/x-python",
   "name": "python",
   "nbconvert_exporter": "python",
   "pygments_lexer": "ipython3",
   "version": "3.11.5"
  }
 },
 "nbformat": 4,
 "nbformat_minor": 5
}
