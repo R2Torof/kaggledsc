{
 "cells": [
  {
   "cell_type": "markdown",
   "id": "9bfe2daa-14bc-4fd4-b5cd-f078465b8f68",
   "metadata": {},
   "source": [
    "| What is represented | Color | Comments |\n",
    "| ------------------- | ----- | -------- |\n",
    "| <font color=\"Blue\"> **Command**</font> | \"**Blue**\" | | \n",
    "| <font color=\"Blue\"> **Function**</font> | \"**Blue**\" | |\n",
    "| <font color=\"Blue\"> **Fundamental parts of Python Syntax** | \"**Blue**\" | Like the '() in print() or the [ ] to create a list |\n",
    "| <font color=\"DodgerBlue\"> **Built-In Python Function** </font>  |  \"**DodgerBlue**\" | where another function is going to be used within the built-in python functions paranthesis as blue so need to separate them |\n",
    "| <font color=\"DeepSkyBlue\"> **keyword** that starts a **conditional statement** </font> | \"**DeepSkyBlue**\" | |\n",
    "| <font color=\"RoyalBlue\"> **method** </font> | \"**RoyalBlue**\" | |\n",
    "| <font color=\"SteelBlue\"> **code block** </font> | \"**SteelBlue**\" | |\n",
    "| <font color=\"Red\"> **Argument**</font> | \"**Red**\" | |\n",
    "| <font color=\"DarkCyan\"> **Variable**</font> | \"**DarkCyan**\" | |\n",
    "| <font color=\"LightSeaGreen\"> **Parameter** </font> | \"**LightSeaGreen**\" | In Python, a <font color=\"LightSeaGreen\"> **parameter** </font> is a <font color=\"DarkCyan\"> ***variable*** </font> that is part of a <font color=\"Blue\"> **function's** </font> **definition** and **acts as a placeholder** for the <font color=\"Magenta\"> **value** </font> that will be passed as an <font color=\"Red\"> **argument** </font> when the <font color=\"Blue\"> **function** </font> is called. <font color=\"Red\"> **Arguments** </font> are the <font color=\"Magenta\"> **actual values** </font> that you pass to the <font color=\"Blue\"> **function** </font> when calling it. |\n",
    "| <font color=\"Purple\"> **Expression**</font> | \"**Purple**\" | \"always returns a value\" |\n",
    "| <font color=\"Purple\"> **STATEMENT** </font> | \"**Purple**\" | \"need not reutrn a value -- but may includeone or more expressions\" |\n",
    "| <font color=\"MediumPurple\"> **Literals** </font> | \"**MediumPurple**\" | |\n",
    "| <font color=\"Magenta\"> **Value**</font>  | \"**Magenta**\" | |\n",
    "| <font color=\"GoldenRod\"> **Operator**</font> | \"**GoldenRod**\" | |\n",
    "| <font color=\"Orange\"> **Operand**</font> | \"**Orange**\"| |\n",
    "| <font color=\"ForestGreen\"> *Boolen* **TRUE** or **Yes** or **1**</font> | \"**ForestGreen**\" | |\n",
    "| <font color=\"Red\"> *Boolean* **FALSE** or **No** or **0** </font> | \"**Red**\" | |\n",
    "| <font color=\"BlueViolet\"> **Program Name** </font> | \"**BlueViolet**\" | |\n",
    "| <font color=\"BlueViolet\"> **Definition** </font> | \"**BlueViolet**\" | keyword '***def***' for defining a function when creating a custom function |\n",
    "| <font color=\"LimeGreen\"> **Positive** </font> | \"**LimeGreen**\" | |\n",
    "| <font color=\"LimeGreen\"> **True things** </font> (not boolean code)  | \"**LimeGreen**\" | |\n",
    "| <font color=\"Crimson\"> **Negative** </font> | \"**Crimson**> |\n",
    "| <font color=\"Crimson\"> **False things** </font> (not boolean code) | \"**Crimson**\" | |"
   ]
  },
  {
   "cell_type": "markdown",
   "id": "eb896ea1-644a-41d7-a510-fb12fbd76903",
   "metadata": {},
   "source": [
    "<u>This creates an underlined text<u>"
   ]
  },
  {
   "cell_type": "markdown",
   "id": "a932ad1a-8382-41b6-bbae-2d7bdb6c8322",
   "metadata": {},
   "source": [
    "<u>The above Markdown Syntax is what created this underlined text<u>"
   ]
  },
  {
   "cell_type": "markdown",
   "id": "df395bed-083e-4c13-8da4-d6a804e2704f",
   "metadata": {},
   "source": [
    "    - This creates text that looks like code for teaching documents\n",
    "***tab*** then **-** then ***space*** and you see it becomes teal"
   ]
  },
  {
   "cell_type": "markdown",
   "id": "c4b58b6e-1466-4354-8507-394893068274",
   "metadata": {},
   "source": [
    "    - Example Code"
   ]
  },
  {
   "cell_type": "code",
   "execution_count": null,
   "id": "a99e6b99-4221-4ec7-8924-c724555f023c",
   "metadata": {},
   "outputs": [],
   "source": []
  },
  {
   "cell_type": "markdown",
   "id": "66e071bc-749f-4dc3-8efa-0d69b806d994",
   "metadata": {},
   "source": [
    "You can create an unordered list (aka bullet point) with sub-bullets by first doing the non-indented then enter then indented like so:\n",
    "- First is not indented, this is the parent bullet\n",
    "    - Second, with the same symbol is indented, this is the child branch"
   ]
  },
  {
   "cell_type": "markdown",
   "id": "d1b0f7b4-841f-4d24-bac4-b1741d4fc4b6",
   "metadata": {},
   "source": [
    "The ran Markdown will appear as this\n",
    "- First is not indented, this is the parent bullet\n",
    "    - Second, with the same symbol is indented, this is the child branch"
   ]
  },
  {
   "cell_type": "code",
   "execution_count": null,
   "id": "be5a830d-e3bb-4e74-95bd-f466fb1a65bc",
   "metadata": {},
   "outputs": [],
   "source": []
  },
  {
   "cell_type": "markdown",
   "id": "07d3770e-b527-40a1-b47a-2a0468834e2b",
   "metadata": {},
   "source": [
    "You can create an ordered list with a sub-unordered list (aka bullet point) with sub-bullets by first doing the non-indented number then enter then indented likst so \n",
    "1. Ordered list is not indented\n",
    "    - First unordered list, this is parent bullet but sub-bullet of the numbered list\n",
    "        - 3rd indent (tab) to have sub-bullet of the bullet of the numbered list"
   ]
  },
  {
   "cell_type": "markdown",
   "id": "8b02688c-f11f-465f-ab33-f0a2ed318816",
   "metadata": {},
   "source": [
    "The ran Markdown will appear as this\n",
    "1. Ordered list is not indented\n",
    "    - First unordered list, this is parent bullet but sub-bullet of the numbered list\n",
    "        - 3rd indent (tab) to have sub-bullet of the bullet of the numbered list"
   ]
  },
  {
   "cell_type": "markdown",
   "id": "d565ea8e-c8fc-4810-9466-80232c655358",
   "metadata": {},
   "source": [
    "# **Colored Font**\n",
    "You have to use HTML code and there are 140 colors to choose from. \n",
    "You do the following format:\n",
    "![Example Color Code in Markdown HTML syntax](ExampleColor.png)\n",
    "\n",
    "\n",
    "Here is a list of the 140 colors in the below code cell"
   ]
  },
  {
   "cell_type": "markdown",
   "id": "bd32b664-df2e-49df-b2a4-61613e4f8883",
   "metadata": {},
   "source": [
    "| Number | Color Name | What it looks like|  | Number | Color Name | What it looks like |  | Number | Color Name | What it looks like |\n",
    "| ------ | ---------- | ----------------- |-| ------- | ---------- | ------------------ |- | ------ | ---------- | ------------------ |\n",
    "| 1 | AliceBlue | <font color=\"Ali<ceBlue\"> Bolded **AliceBlue** text here</font> | | 48 | GhostWhite | <font color=\"GhostWhite\"> Bolded **GhostWhite** text here</font> | | 95 | NavajoWhite | <font color=\"NavajoWhite\"> Bolded **NavajoWhite** text here</font> |\n",
    "| 2 | AntiqueWhite | <font color=\"AntiqueWhite\"> Bolded **AntiqueWhite** text here</font> | | 49 | Gold | <font color=\"Gold\"> Bolded **Gold** text here</font> | | 96 | Navy | <font color=\"Navy\"> Bolded **Navy** text here</font> |\n",
    "| 3 | Aqua | <font color=\"Aqua\"> Bolded **Aqua** text here</font> | | 50 | GoldenRod | <font color=\"GoldenRod\"> Bolded **GoldenRod** text here</font> | | 97 | OldLace | <font color=\"OldLace\"> Bolded **OldLace** text here</font> |\n",
    "| 4 | Aquamarine | <font color=\"Aquamarine\"> Bolded **Aquamarine** text here</font> | | 51 | Gray | <font color=\"Gray\"> Bolded **Gray** text here </font> | | 98 | Olive | <font color=\"Olive\"> Bolded **Olive** text here</font> |\n",
    "| 5 | Azure | <font color=\"Azure\"> Bolded **Azure** text here</font> | | 52 | Green | <font color=\"Green\"> Bolded **Green** text here</font> | | 99 | OliveDrab | <font color=\"OliveDrab\"> Bolded **OliveDrab** text here</font> |\n",
    "| 6 | Beige | <font color=\"Beige\"> Bolded **Beige** text here</font> | | 53 | GreenYellow | <font color=\"GreenYellow\"> Bolded **GreenYellow** text here</font> | | 100 | Orange | <font color=\"Orange\"> Bolded **Orange** text here</font> |\n",
    "| 7 | Bisque | <font color=\"Bisque\"> Bolded **Bisque** text here</font> | | 54 | HoneyDew | <font color=\"HoneyDew\"> Bolded **HoneyDew** text here</font> | | 101 | OrangeRed | <font color=\"OrangeRed\"> Bolded **OrangeRed** text here</font> |\n",
    "| 8 | Black | <font color=\"Black\"> Bolded **Black** text here</font> | | 55 | HotPink | <font color=\"HotPink\"> Bolded **HotPink** text here</font> | | 102 | Orchid | <font color=\"Orchid\"> Bolded **Orchid** text here</font> |\n",
    "| 9 | BlanchedAlmond | <font color=\"BlanchedAlmond\"> Bolded **BlanchedAlmond** text here</font> | | 56 | IndianRed | <font color=\"IndianRed\"> Bolded **IndianRed** text here</font> | | 103 | PaleGoldenRod | <font color=\"PaleGoldenRod\"> Bolded **PaleGoldenRod** text here</font> |\n",
    "| 10 | Blue | <font color=\"Blue\"> Bolded **Blue** text here</font> | | 57 | Indigo | <font color=\"Indigo\"> Bolded **Indigo** text here</font> | | 104 | PaleGreen | <font color=\"PaleGreen\"> Bolded **PaleGreen** text here</font> |\n",
    "| 11 | BlueViolet | <font color=\"BlueViolet\"> Bolded **BlueViolet** text here</font> | | 58 | Ivory | <font color=\"Ivory\"> Bolded **Ivory** text here</font> | | 105 | PaleTurquoise | <font color=\"PaleTurquoise\"> Bolded **PaleTurquoise** text here</font> |\n",
    "| 12 | Brown | <font color=\"Brown\"> Bolded **Brown** text here</font> | | 59 | Khaki | <font color=\"Khaki\"> Bolded **Khaki** text here</font> | | 106 | PaleVioletRed | <font color=\"PaleVioletRed\"> Bolded **PaleVioletRed** text here</font> |\n",
    "| 13 | BurlyWood | <font color=\"BurlyWood\"> Bolded **BurlyWood** text here</font> | | 60 | Lavender | <font color=\"Lavender\"> Bolded **Lavender** text here</font> | | 107 | PapayaWhip | <font color=\"PapayaWhip\"> Bolded **PapayaWhip** text here</font> |\n",
    "| 14 | CadetBlue | <font color=\"CadetBlue\"> Bolded **CadetBlue** text here</font> | | 61 | LavenderBlush | <font color=\"LavenderBlush\"> Bolded **LavenderBlush** text here </font> | | 108 | PeachPuff | <font color=\"PeachPuff\"> Bolded **PeachPuff** text here</font> |\n",
    "| 15 | Chartreuse | <font color=\"Chartreuse\"> Bolded **Chartreuse** text here</font> | | 62 | LawnGreen | <font color=\"LawnGreen\"> Bolded **LawnGreen** text here</font> | | 109 | Peru | <font color=\"Peru\"> Bolded **Peru** text here</font> |\n",
    "| 16 | Chocolate | <font color=\"Chocolate\"> Bolded **Chocolate** text here</font> | | 63 | LemonChiffon | <font color=\"LemonChiffon\"> Bolded **LemonChiffon** text here</font> | | 110 | Pink | <font color=\"Pink\"> Bolded **Pink** text here</font> |\n",
    "| 17 | Coral | <font color=\"Coral\"> Bolded **Coral** text here</font> | | 64 | LightBlue | <font color=\"LightBlue\"> Bolded **LightBlue** text here </font> | | 111 | Plum | <font color=\"Plum\"> Bolded **Plum** text here</font> |\n",
    "| 18 | CornflowerBlue | <font color=\"CornflowerBlue\"> Bolded **CornflowerBlue** text here</font> | | 65 | LightCoral | <font color=\"LightCoral\"> Bolded **LightCoral** text here</font> | | 112 | PowderBlue | <font color=\"PowderBlue\"> Bolded **PowderBlue** text here</font> |\n",
    "| 19 | Cornsilk | <font color=\"Cornsilk\"> Bolded **Cornsilk** text here</font> | | 66 | LightCyan | <font color=\"LightCyan\"> Bolded **LightCyan** text here</font> | | 113 | Purple | <font color=\"Purple\"> Bolded **Purple** text here</font> |\n",
    "| 20 | Crimson | <font color=\"Crimson\"> Bolded **Crimson** text here</font> | | 67 | LightGoldenRodYellow | <font color=\"LightGoldenRodYellow\"> Bolded **LightGoldenRodYellow** text here</font> | | 114 | Red | <font color=\"Red\"> Bolded **Red** text here</font> |\n",
    "| 21 | Cyan | <font color=\"Cyan\"> Bolded **Cyan** text here</font> | | 68 | LightGray | <font color=\"LightGray\"> Bolded **LightGray** text here </font> | | 115 | RosyBrown | <font color=\"RosyBrown\"> Bolded **RosyBrown** text here</font> |\n",
    "| 22 | DarkBlue | <font color=\"DarkBlue\"> Bolded **DarkBlue** text here</font> | | 69 | LightGreen | <font color=\"LightGreen\"> Bolded **LightGreen** text here </font> | | 116 | RoyalBlue | <font color=\"RoyalBlue\"> Bolded **RoyalBlue**</font> |\n",
    "| 23 | DarkCyan | <font color=\"DarkCyan\"> Bolded **DarkCyan** text here</font> | | 70 | LightPink | <font color=\"LightPink\"> Bolded **LightPink** text here</font> | | 117 | SaddleBrown | <font color=\"SaddleBrown\"> Bolded **SaddleBrown** text here</font> |\n",
    "| 24 | DarkGoldenRod | <font color=\"DarkGoldenRod\"> Bolded **DarkGoldenRod** text here </font> | | 71 | LightSalmon | <font color=\"LightSalmon\"> Bolded **LightSalmon** text here </font> | | 118 | Salmon | <font color=\"Salmon\"> Bolded **Salmon** text here</font> |\n",
    "| 25 | DarkGray | <font color=\"DarkGray\">Bolded **DarkGray** text here</font> | | 72 | LightSeaGreen | <font color=\"LightSeaGreen\"> Bolded **LightSeaGreen** text here </font> | | 119 | SandyBrown | <font color=\"SandyBrown\"> Bolded **SandyBrown** text here</font> |\n",
    "| 26 | DarkGreen | <font color=\"DarkGreen\">Bolded **DarkGreen** text here</font> | | 73 | LightSkyBlue | <font color=\"LightSkyBlue\"> Bolded **LightSkyBlue** text here </font> | | 120 | SeaGreen | <font color=\"SeaGreen\"> Bolded **SeaGreen** text here</font> |\n",
    "| 27 | DarkKhaki | <font color=\"DarkKhaki\"> Bolded **DarkKhaki** text here </font> | | 74 | LightSlateGray | <font color=\"LightSlateGray\"> Bolded **LightSlateGray** text here </font> | | 121 | SeaShell | <font color=\"SeaShell\"> Bolded **SeaShell** text here</font> |\n",
    "| 28 | DarkMagenta | <font color=\"DarkMagenta\"> Bolded **DarkMagenta** text here </font> | | 75 | LightSteelBlue | <font color=\"LightSteelBlue\"> Bolded **LightSteelBlue** text here</font> | | 122 | Sienna | <font color=\"Sienna\"> Bolded **Sienna** text here</font> |\n",
    "| 29 | DarkOliveGreen | <font color=\"DarkOliveGreen\"> Bolded **DarkOliveGreen** text here </font> | | 76| LightYellow | <font color=\"LightYellow\"> Bolded **LightYellow** text here</font> | | 123 | Silver | <font color=\"Silver\"> Bolded **Silver** text here</font> |\n",
    "| 30 | DarkOrange | <font color=\"DarkOrange\"> Bolded **DarkOrange** text here </font> | | 77 | Lime | <font color=\"Lime\"> Bolded **Lime** text here </font> | | 124 | SkyBlue | <font color=\"SkyBlue\"> Bolded **SkyBlue** text here</font> |\n",
    "| 31 | DarkOrchid | <font color=\"DarkOrchid\"> Bolded **DarkOrchid** text here </font> | | 78 | LimeGreen | <font color=\"LimeGreen\"> Bolded **LimeGreen** text here</font> | | 125 | SlateBlue | <font color=\"SlateBlue\"> Bolded **SlateBlue** text here</font> |\n",
    "| 32 | DarkRed | <font color=\"DarkRed\"> Bolded **DarkRed** text here </font> | | 79 | Linen | <font color=\"Linen\"> Bolded **Linen** text here</font> | | 126 | SlateGray | <font color=\"SlateGray\"> Bolded **SlateGray** text here</font> |\n",
    "| 33 | DarkSalmon | <font color=\"DarkSalmon\"> Bolded **DarkSalmon** text here </font> | | 80 | Magenta | <font color=\"Magenta\"> Bolded **Magenta** text here</font> | | 127 | Snow | <font color=\"Snow\"> Bolded **Snow** text here</font> |\n",
    "| 34 | DarkSeaGreen | <font color=\"DarkSeaGreen\"> Bolded **DarkSeaGreen** text here </font> | | 81 | Maroon | <font color=\"Maroon\"> Bolded **Maroon** text here</font> | | 128 | SpringGreen | <font color=\"SpringGreen\"> Bolded **SpringGreen** text here</font> |\n",
    "| 35 | DarkSlateBlue | <font color=\"DarkSlateBlue\"> Bolded **DarkSlateBlue** text here </font> | | 82 | MediumAquaMarine | <font color=\"MediumAquaMarine\"> Bolded **MediumAquaMarine** text here</font> | | 129 | SteelBlue | <font color=\"SteelBlue\"> Bolded **SteelBlue** text here</font> |\n",
    "| 36 | DarkSlateGray | <font color=\"DarkSlateGray\"> Bolded **DarkSlateGray** text here </font> | | 83 | MediumBlue | <font color=\"MediumBlue\"> Bolded **MediumBlue** text here</font> | | 130 | Tan | <font color=\"Tan\"> Bolded **Tan** text here</font> |\n",
    "| 37 | DarkTurquoise | <font color=\"DarkTurquoise\"> Bolded **DarkTurquoise** text here</font> | | 84 | MediumOrchid | <font color=\"MediumOrchid\"> Bolded **MediumOrchid** text here</font> | | 131 | Teal | <font color=\"Teal\"> Bolded **Teal** text here</font> |\n",
    "| 38 | DarkViolet | <font color=\"DarkViolet\"> Bolded **DarkViolet** text here </font> | | 85 | MediumPurple | <font color=\"MediumPurple\"> Bolded **MediumPurple** text here</font> | | 132 | Thistle | <font color=\"Thistle\"> Bolded **Thistle** text here</font> |\n",
    "| 39 | DeepPink | <font color=\"DeepPink\"> Bolded **DeepPink** text here </font> | | 86 | MediumSeaGreen | <font color=\"MediumSeaGreen\"> Bolded **MediumSeaGreen** text here</font> | | 133 | Tomato | <font color=\"Tomato\"> Bolded **Tomato** text here</font> |\n",
    "| 40 | DeepSkyBlue | <font color=\"DeepSkyBlue\"> Bolded **DeepSkyBlue** text here </font> | | 87 | MediumSlateBlue | <font color=\"MediumSlateBlue\"> Bolded **MediumSlateBlue** text here</font> | | 134 | Turquoise | <font color=\"Turquoise\"> Bolded **Turquoise** text here</font> |\n",
    "| 41 | DimGray | <font color=\"DimGray\"> Bolded **DimGray** text here </font> | | 88 | MediumSpringGreen | <font color=\"MediumSpringGreen\"> Bolded **MediumSpringGreen** text here</font> | | 135 | Violet | <font color=\"Violet\"> Bolded **Violet** text here</font> |\n",
    "| 42 | DodgerBlue | <font color=\"DodgerBlue\"> Bolded **DodgerBlue** text here </font> | | 89 | MediumTurquoise | <font color=\"MediumTurquoise\"> Bolded **MediumTurquoise** text here</font> | | 136 | Wheat | <font color=\"Wheat\"> Bolded **Wheat** text here</font> |\n",
    "| 43 | FireBrick | <font color=\"FireBrick\"> Bolded **FireBrick** text here </font> | | 90 | MediumVioletRed | <font color=\"MediumVioletRed\"> Bolded **MediumVioletRed** text here</font> | | 137 | White | <font color=\"White\"> Bolded **White** text here</font> |\n",
    "| 44| FloralWhite | <font color=\"FloralWhite\"> Bolded **FloralWhite** text here</font> | | 91 | MidnightBlue | <font color=\"MidnightBlue\"> Bolded **MidnightBlue** text here</font> | | 138 | WhiteSmoke | <font color=\"WhiteSmoke\"> Bolded **WhiteSmoke** text here</font> |\n",
    "| 45 | ForestGreen | <font color=\"ForestGreen\"> Bolded **ForestGreen** text here</font> | | 92 | MintCream | <font color=\"MintCream\"> Bolded **MintCream** text here</font> | | 139 | Yellow | <font color=\"Yellow\"> Bolded **Yellow** text here</font> |\n",
    "| 46 | Fuchsia | <font color=\"Fuchsia\"> Bolded **Fuchsia** text here</font> | | 93 | MistyRose | <font color=\"MistyRose\"> Bolded **MistyRose** text here</font> | | 140 | YellowGreen | <font color=\"YellowGreen\"> Bolded **YellowGreen** text here</font> |\n",
    "| 47 | Gainsboro | <font color=\"Gainsboro\"> Bolded **Gainsboro** text here</font> | | 94 | Moccasin | <font color=\"Moccasin\"> Bolded **Moccasin** text here</font> |"
   ]
  },
  {
   "cell_type": "code",
   "execution_count": null,
   "id": "b4f29843-63b2-45c4-92f5-768da460abad",
   "metadata": {},
   "outputs": [],
   "source": []
  },
  {
   "cell_type": "code",
   "execution_count": null,
   "id": "2682ae9c-3b10-4e85-a21c-94c8743319b6",
   "metadata": {},
   "outputs": [],
   "source": []
  },
  {
   "cell_type": "code",
   "execution_count": null,
   "id": "f8bce526-83f1-451f-8f13-183754c0a880",
   "metadata": {},
   "outputs": [],
   "source": []
  },
  {
   "cell_type": "markdown",
   "id": "3bb2ce3a-e5ac-4b58-803b-29ca18fde629",
   "metadata": {},
   "source": [
    "# Edited color table with only visible ones \n",
    "| Number | Color Name | What it looks like|  | Number | Color Name | What it looks like |\n",
    "| ------ | ---------- | ----------------- |-| ------- | ---------- | ------------------ |\n",
    "| 1 | AliceBlue | <font color=\"Ali<ceBlue\"> Bolded **AliceBlue** text here</font> | | 49 | Gold | <font color=\"Gold\"> Bolded **Gold** text here</font> | |\n",
    "| 96 | Navy | <font color=\"Navy\"> Bolded **Navy** text here</font> | | 3 | Aqua | <font color=\"Aqua\"> Bolded **Aqua** text here</font> | \n",
    "| 50 | GoldenRod | <font color=\"GoldenRod\"> Bolded **GoldenRod** text here</font> | | 101 | OrangeRed | <font color=\"OrangeRed\"> Bolded **OrangeRed** text here</font> |\n",
    "| 4 | Aquamarine | <font color=\"Aquamarine\"> Bolded **Aquamarine** text here</font> | | 51 | Gray | <font color=\"Gray\"> Bolded **Gray** text here </font> | \n",
    "| 98 | Olive | <font color=\"Olive\"> Bolded **Olive** text here</font> | | 52 | Green | <font color=\"Green\"> Bolded **Green** text here</font> | \n",
    "| 99 | OliveDrab | <font color=\"OliveDrab\"> Bolded **OliveDrab** text here</font> | | 13 | BurlyWood | <font color=\"BurlyWood\"> Bolded **BurlyWood** text here</font> |\n",
    "| 53 | GreenYellow | <font color=\"GreenYellow\"> Bolded **GreenYellow** text here</font> | | 100 | Orange | <font color=\"Orange\"> Bolded **Orange** text here</font> |\n",
    "| 8 | Black | <font color=\"Black\"> Bolded **Black** text here</font> | | 55 | HotPink | <font color=\"HotPink\"> Bolded **HotPink** text here</font> | \n",
    "| 102 | Orchid | <font color=\"Orchid\"> Bolded **Orchid** text here</font> | | 56 | IndianRed | <font color=\"IndianRed\"> Bolded **IndianRed** text here</font> | \n",
    "| 10 | Blue | <font color=\"Blue\"> Bolded **Blue** text here</font> | | 57 | Indigo | <font color=\"Indigo\"> Bolded **Indigo** text here</font> | \n",
    "| 11 | BlueViolet | <font color=\"BlueViolet\"> Bolded **BlueViolet** text here</font> | | 12 | Brown | <font color=\"Brown\"> Bolded **Brown** text here</font> | \n",
    "| 106 | PaleVioletRed | <font color=\"PaleVioletRed\"> Bolded **PaleVioletRed** text here</font> | | 14 | CadetBlue | <font color=\"CadetBlue\"> Bolded **CadetBlue** text here</font> | \n",
    "| 15 | Chartreuse | <font color=\"Chartreuse\"> Bolded **Chartreuse** text here</font> | | 62 | LawnGreen | <font color=\"LawnGreen\"> Bolded **LawnGreen** text here</font> | \n",
    "| 109 | Peru | <font color=\"Peru\"> Bolded **Peru** text here</font> | | 16 | Chocolate | <font color=\"Chocolate\"> Bolded **Chocolate** text here</font> | \n",
    "| 17 | Coral | <font color=\"Coral\"> Bolded **Coral** text here</font> | | 111 | Plum | <font color=\"Plum\"> Bolded **Plum** text here</font> |\n",
    "| 18 | CornflowerBlue | <font color=\"CornflowerBlue\"> Bolded **CornflowerBlue** text here</font> | | 65 | LightCoral | <font color=\"LightCoral\"> Bolded **LightCoral** text here</font> |\n",
    "| 113 | Purple | <font color=\"Purple\"> Bolded **Purple** text here</font> | | 20 | Crimson | <font color=\"Crimson\"> Bolded **Crimson** text here</font> | \n",
    "| 114 | Red | <font color=\"Red\"> Bolded **Red** text here</font> | | 21 | Cyan | <font color=\"Cyan\"> Bolded **Cyan** text here</font> | \n",
    "| 115 | RosyBrown | <font color=\"RosyBrown\"> Bolded **RosyBrown** text here</font> | | 22 | DarkBlue | <font color=\"DarkBlue\"> Bolded **DarkBlue** text here</font> | \n",
    "| 69 | LightGreen | <font color=\"LightGreen\"> Bolded **LightGreen** text here </font> | | 116 | RoyalBlue | <font color=\"RoyalBlue\"> Bolded **RoyalBlue**</font> |\n",
    "| 23 | DarkCyan | <font color=\"DarkCyan\"> Bolded **DarkCyan** text here</font> | | 70 | LightPink | <font color=\"LightPink\"> Bolded **LightPink** text here</font> | \n",
    "| 117 | SaddleBrown | <font color=\"SaddleBrown\"> Bolded **SaddleBrown** text here</font> | | 24 | DarkGoldenRod | <font color=\"DarkGoldenRod\"> Bolded **DarkGoldenRod** text here </font> | \n",
    "| 71 | LightSalmon | <font color=\"LightSalmon\"> Bolded **LightSalmon** text here </font> | | 118 | Salmon | <font color=\"Salmon\"> Bolded **Salmon** text here</font> |\n",
    "| 25 | DarkGray | <font color=\"DarkGray\">Bolded **DarkGray** text here</font> | | 72 | LightSeaGreen | <font color=\"LightSeaGreen\"> Bolded **LightSeaGreen** text here </font> | \n",
    "| 119 | SandyBrown | <font color=\"SandyBrown\"> Bolded **SandyBrown** text here</font> | | 26 | DarkGreen | <font color=\"DarkGreen\">Bolded **DarkGreen** text here</font> | \n",
    "| 73 | LightSkyBlue | <font color=\"LightSkyBlue\"> Bolded **LightSkyBlue** text here </font> | | 120 | SeaGreen | <font color=\"SeaGreen\"> Bolded **SeaGreen** text here</font> |\n",
    "| 27 | DarkKhaki | <font color=\"DarkKhaki\"> Bolded **DarkKhaki** text here </font> | | 74 | LightSlateGray | <font color=\"LightSlateGray\"> Bolded **LightSlateGray** text here </font> |\n",
    "| 28 | DarkMagenta | <font color=\"DarkMagenta\"> Bolded **DarkMagenta** text here </font> | | 75 | LightSteelBlue | <font color=\"LightSteelBlue\"> Bolded **LightSteelBlue** text here</font> | \n",
    "| 122 | Sienna | <font color=\"Sienna\"> Bolded **Sienna** text here</font> | | 29 | DarkOliveGreen | <font color=\"DarkOliveGreen\"> Bolded **DarkOliveGreen** text here </font> |\n",
    "| 30 | DarkOrange | <font color=\"DarkOrange\"> Bolded **DarkOrange** text here </font> | | 124 | SkyBlue | <font color=\"SkyBlue\"> Bolded **SkyBlue** text here</font> |\n",
    "| 31 | DarkOrchid | <font color=\"DarkOrchid\"> Bolded **DarkOrchid** text here </font> | | 78 | LimeGreen | <font color=\"LimeGreen\"> Bolded **LimeGreen** text here</font> | \n",
    "| 125 | SlateBlue | <font color=\"SlateBlue\"> Bolded **SlateBlue** text here</font> | | 32 | DarkRed | <font color=\"DarkRed\"> Bolded **DarkRed** text here </font> | \n",
    "| 126 | SlateGray | <font color=\"SlateGray\"> Bolded **SlateGray** text here</font> | | 33 | DarkSalmon | <font color=\"DarkSalmon\"> Bolded **DarkSalmon** text here </font> | \n",
    "| 80 | Magenta | <font color=\"Magenta\"> Bolded **Magenta** text here</font> | | 34 | DarkSeaGreen | <font color=\"DarkSeaGreen\"> Bolded **DarkSeaGreen** text here </font> | \n",
    "| 81 | Maroon | <font color=\"Maroon\"> Bolded **Maroon** text here</font> | | 128 | SpringGreen | <font color=\"SpringGreen\"> Bolded **SpringGreen** text here</font> |\n",
    "| 35 | DarkSlateBlue | <font color=\"DarkSlateBlue\"> Bolded **DarkSlateBlue** text here </font> | | 82 | MediumAquaMarine | <font color=\"MediumAquaMarine\"> Bolded **MediumAquaMarine** text here</font> | \n",
    "| 129 | SteelBlue | <font color=\"SteelBlue\"> Bolded **SteelBlue** text here</font> | | 36 | DarkSlateGray | <font color=\"DarkSlateGray\"> Bolded **DarkSlateGray** text here </font> | \n",
    "| 83 | MediumBlue | <font color=\"MediumBlue\"> Bolded **MediumBlue** text here</font> | | 130 | Tan | <font color=\"Tan\"> Bolded **Tan** text here</font> |\n",
    "| 37 | DarkTurquoise | <font color=\"DarkTurquoise\"> Bolded **DarkTurquoise** text here</font> | | 84 | MediumOrchid | <font color=\"MediumOrchid\"> Bolded **MediumOrchid** text here</font> | \n",
    "| 131 | Teal | <font color=\"Teal\"> Bolded **Teal** text here</font> | | 38 | DarkViolet | <font color=\"DarkViolet\"> Bolded **DarkViolet** text here </font> | \n",
    "| 85 | MediumPurple | <font color=\"MediumPurple\"> Bolded **MediumPurple** text here</font> | | 132 | Thistle | <font color=\"Thistle\"> Bolded **Thistle** text here</font> |\n",
    "| 39 | DeepPink | <font color=\"DeepPink\"> Bolded **DeepPink** text here </font> | | 86 | MediumSeaGreen | <font color=\"MediumSeaGreen\"> Bolded **MediumSeaGreen** text here</font> | \n",
    "| 133 | Tomato | <font color=\"Tomato\"> Bolded **Tomato** text here</font> | | 40 | DeepSkyBlue | <font color=\"DeepSkyBlue\"> Bolded **DeepSkyBlue** text here </font> | \n",
    "| 87 | MediumSlateBlue | <font color=\"MediumSlateBlue\"> Bolded **MediumSlateBlue** text here</font> | | 134 | Turquoise | <font color=\"Turquoise\"> Bolded **Turquoise** text here</font> |\n",
    "| 41 | DimGray | <font color=\"DimGray\"> Bolded **DimGray** text here </font> | | 88 | MediumSpringGreen | <font color=\"MediumSpringGreen\"> Bolded **MediumSpringGreen** text here</font> | \n",
    "| 135 | Violet | <font color=\"Violet\"> Bolded **Violet** text here</font> | | 42 | DodgerBlue | <font color=\"DodgerBlue\"> Bolded **DodgerBlue** text here </font> | \n",
    "| 89 | MediumTurquoise | <font color=\"MediumTurquoise\"> Bolded **MediumTurquoise** text here</font> | | 43 | FireBrick | <font color=\"FireBrick\"> Bolded **FireBrick** text here </font> | \n",
    "| 90 | MediumVioletRed | <font color=\"MediumVioletRed\"> Bolded **MediumVioletRed** text here</font> | | 137 | White | <font color=\"White\"> Bolded **White** text here</font> |\n",
    "| 91 | MidnightBlue | <font color=\"MidnightBlue\"> Bolded **MidnightBlue** text here</font> | | 45 | ForestGreen | <font color=\"ForestGreen\"> Bolded **ForestGreen** text here</font> | \n",
    "| 46 | Fuchsia | <font color=\"Fuchsia\"> Bolded **Fuchsia** text here</font> | | 140 | YellowGreen | <font color=\"YellowGreen\"> Bolded **YellowGreen** text here</font> |\n"
   ]
  },
  {
   "cell_type": "code",
   "execution_count": 1,
   "id": "d62a2b9e-1849-448e-9e70-b14b2fa6a600",
   "metadata": {},
   "outputs": [
    {
     "name": "stdout",
     "output_type": "stream",
     "text": [
      "46.666666666666664\n"
     ]
    }
   ],
   "source": [
    "print(140/3)"
   ]
  },
  {
   "cell_type": "markdown",
   "id": "fc772fee-0a6e-4365-9d91-7dd5c86fb190",
   "metadata": {},
   "source": [
    "To have color text its long but possible with the following\n",
    "<font color=\"ColorName\">Your text here</font>"
   ]
  },
  {
   "cell_type": "markdown",
   "id": "7fb27874-7026-4c10-98c7-95e78db43c45",
   "metadata": {},
   "source": [
    "To have color text its long but possible with the following\n",
    "<font color=\"red\">Your RED text here</font>"
   ]
  },
  {
   "cell_type": "markdown",
   "id": "5cee9671-ec72-4e3c-846d-10eb1631efbe",
   "metadata": {},
   "source": [
    "To have color text its long but possible with the following\n",
    "<font color=\"blue\">Your BLUE text here</font>"
   ]
  },
  {
   "cell_type": "markdown",
   "id": "665ec50c-ca38-4c97-b0b6-4e21ca283d47",
   "metadata": {},
   "source": [
    "To have color text its long but possible with the following\n",
    "<font color=\"blue\">Your BLUE text here</font>"
   ]
  },
  {
   "cell_type": "markdown",
   "id": "7f8ba596-2281-46c5-a885-1882325b2e14",
   "metadata": {},
   "source": [
    "To have color text its long but possible with the following\n",
    "<font color=\"green\">Your GREEN text here</font>"
   ]
  },
  {
   "cell_type": "markdown",
   "id": "aa5492cb-9f84-4daf-8899-4c6bf1a0f9a0",
   "metadata": {},
   "source": [
    "To have color text its long but possible with the following\n",
    "<font color=\"green\">Your GREEN text here</font>"
   ]
  },
  {
   "cell_type": "markdown",
   "id": "59bc96a0-ec02-4229-aaf7-11bbc75672de",
   "metadata": {},
   "source": [
    "To have color text its long but possible with the following\n",
    "<font color=\"yellow\">Your YELLOW text here</font>"
   ]
  },
  {
   "cell_type": "markdown",
   "id": "40ae9cf8-09fc-4555-b314-b324e5b7068b",
   "metadata": {},
   "source": [
    "To have color text its long but possible with the following\n",
    "<font color=\"yellow\">Your YELLOW text here</font>"
   ]
  },
  {
   "cell_type": "markdown",
   "id": "ab1c1dde-a1c7-4c75-a4b3-ba57f54756c8",
   "metadata": {},
   "source": [
    "To have color text its long but possible with the following\n",
    "<font color=\"orange\">Your ORANGE text here</font>"
   ]
  },
  {
   "cell_type": "markdown",
   "id": "d76b7428-2913-4fa6-b654-fd43e7e35911",
   "metadata": {},
   "source": [
    "To have color text its long but possible with the following\n",
    "<font color=\"orange\">Your ORANGE text here</font>"
   ]
  },
  {
   "cell_type": "markdown",
   "id": "3be755e6-596e-45b6-92bf-bd7d8700c33a",
   "metadata": {},
   "source": [
    "To have color text its long but possible with the following\n",
    "<font color=\"purple\">Your PURPLE text here</font>"
   ]
  },
  {
   "cell_type": "markdown",
   "id": "1e209524-0fa3-464a-bcfb-d55e8865d0bc",
   "metadata": {},
   "source": [
    "To have color text its long but possible with the following\n",
    "<font color=\"purple\">Your PURPLE text here</font>"
   ]
  },
  {
   "cell_type": "markdown",
   "id": "9b77f93f-4e59-4893-a1de-3a2de38ab4ea",
   "metadata": {},
   "source": [
    "To have color text its long but possible with the following\n",
    "<font color=\"pink\">Your PINK text here</font>"
   ]
  },
  {
   "cell_type": "markdown",
   "id": "49782674-450c-4fe8-a122-c5899512cf8a",
   "metadata": {},
   "source": [
    "To have color text its long but possible with the following\n",
    "<font color=\"pink\">Your PINK text here</font>"
   ]
  },
  {
   "cell_type": "markdown",
   "id": "c750eec8-721b-4a03-ac68-aaa3d5e81538",
   "metadata": {},
   "source": [
    "To have color text its long but possible with the following\n",
    "<font color=\"brown\">Your BROWN text here</font>"
   ]
  },
  {
   "cell_type": "markdown",
   "id": "020ed004-1d82-462e-ba83-ebe4e4df31e3",
   "metadata": {},
   "source": [
    "To have color text its long but possible with the following\n",
    "<font color=\"brown\">Your BROWN text here</font>"
   ]
  },
  {
   "cell_type": "markdown",
   "id": "f18efbb3-6814-4a33-9bbd-0853a62a2604",
   "metadata": {},
   "source": [
    "To have color text its long but possible with the following\n",
    "<font color=\"cyan\">Your CYAN text here</font>"
   ]
  },
  {
   "cell_type": "markdown",
   "id": "3852fac6-b136-4d80-92f1-bbb0ccfa3f51",
   "metadata": {},
   "source": [
    "To have color text its long but possible with the following\n",
    "<font color=\"cyan\">Your CYAN text here</font>"
   ]
  },
  {
   "cell_type": "markdown",
   "id": "5ccf3f0b-20f1-4e8e-acb7-2c76f149b2e3",
   "metadata": {},
   "source": [
    "To have color text its long but possible with the following\n",
    "<font color=\"magenta\">Your MAGENTA text here</font>"
   ]
  },
  {
   "cell_type": "markdown",
   "id": "1744dbf9-e4db-4085-bea9-1039ba2496a5",
   "metadata": {},
   "source": [
    "To have color text its long but possible with the following\n",
    "<font color=\"magenta\">Your MAGENTA text here</font>"
   ]
  },
  {
   "cell_type": "markdown",
   "id": "41793307-ea2f-4d92-8c1d-4998b39aaf61",
   "metadata": {},
   "source": [
    "To have color text its long but possible with the following\n",
    "<font color=\"gray\">Your GRAY text here</font>"
   ]
  },
  {
   "cell_type": "markdown",
   "id": "8c822b84-a552-4b14-b1a0-37fc1595d7e0",
   "metadata": {},
   "source": [
    "To have color text its long but possible with the following\n",
    "<font color=\"gray\">Your GRAY text here</font>"
   ]
  },
  {
   "cell_type": "markdown",
   "id": "f2616809-8b78-42f7-98cc-2c841eeae4d1",
   "metadata": {},
   "source": [
    "To have color text its long but possible with the following\n",
    "<font color=\"darkgray\">Your DARK GRAY text here</font>"
   ]
  },
  {
   "cell_type": "markdown",
   "id": "0f220fd4-f811-4f65-bf69-584039d792f4",
   "metadata": {},
   "source": [
    "To have color text its long but possible with the following\n",
    "<font color=\"darkgray\">Your DARK GRAY text here</font>"
   ]
  },
  {
   "cell_type": "markdown",
   "id": "f5a976ee-504e-40d8-891f-f443e86f9ff9",
   "metadata": {},
   "source": [
    "To have color text its long but possible with the following\n",
    "<font color=\"lightgray\">Your LIGHT GRAY text here</font>"
   ]
  },
  {
   "cell_type": "markdown",
   "id": "337c5086-5a19-44bd-9676-3a58b409cc70",
   "metadata": {},
   "source": [
    "To have color text its long but possible with the following\n",
    "<font color=\"lightgray\">Your LIGHT GRAY text here</font>"
   ]
  },
  {
   "cell_type": "markdown",
   "id": "9260acaf-9a7c-43a2-9081-cf4d7b8e9d50",
   "metadata": {},
   "source": [
    "To have color text its long but possible with the following\n",
    "<font color=\"teal\">Your TEAL text here</font>"
   ]
  },
  {
   "cell_type": "markdown",
   "id": "a1fd7361-e0e3-4c22-b2d1-8876a5c5c805",
   "metadata": {},
   "source": [
    "To have color text its long but possible with the following\n",
    "<font color=\"teal\">Your TEAL text here</font>"
   ]
  },
  {
   "cell_type": "markdown",
   "id": "68150946-2431-4683-b708-22dc4b2dab67",
   "metadata": {},
   "source": [
    "To have color text its long but possible with the following\n",
    "<font color=\"maroon\">Your MAROON text here</font>"
   ]
  },
  {
   "cell_type": "markdown",
   "id": "56982044-ec13-4282-9aed-226db069779b",
   "metadata": {},
   "source": [
    "To have color text its long but possible with the following\n",
    "<font color=\"maroon\">Your MAROON text here</font>"
   ]
  },
  {
   "cell_type": "code",
   "execution_count": null,
   "id": "5e497975-fd8f-4e4d-a016-5202f760a7f9",
   "metadata": {},
   "outputs": [],
   "source": []
  },
  {
   "cell_type": "markdown",
   "id": "d68db3aa-4d32-4cdf-8ae7-6f43b8a42d11",
   "metadata": {},
   "source": [
    "To have indents without bullet points you put **>** in front of the line you want to indent THEN you press ENTER and then ENTER again to do the next item on the list there must be a line of just **>** between each item you want to be in the indented list without a bullet point"
   ]
  },
  {
   "cell_type": "markdown",
   "id": "a3142b2f-be03-4587-891c-9cbadd283b59",
   "metadata": {},
   "source": [
    "<font color=\"purple\">def</font> <font color=\"blue\">function_name</font><font color=\"red\">(NameOfVariable)</font><font color=\"blue\">:</font>\n",
    ">\n",
    "><font color=\"Black\"> Statements-to-be-executed 1 </font>\n",
    ">\n",
    ">Statements-to-be-executed 2\n",
    ">\n",
    "> <font color=\"blue\">return</font> <font color=\"pink\">return_value</font>2 indents\n",
    "> > 2 indents"
   ]
  },
  {
   "cell_type": "markdown",
   "id": "bbb78828-8862-42ba-874a-8a9c7fa2d8b2",
   "metadata": {},
   "source": [
    "<font color=\"purple\">def</font> <font color=\"blue\">function_name</font><font color=\"red\">(NameOfVariable)</font><font color=\"blue\">:</font>\n",
    ">\n",
    "><font color=\"Black\"> Statements-to-be-executed 1 </font>\n",
    ">\n",
    ">Statements-to-be-executed 2\n",
    ">\n",
    "> <font color=\"blue\">return</font> <font color=\"pink\">return_value</font>2 indents\n",
    "> > 2 indents"
   ]
  },
  {
   "cell_type": "markdown",
   "id": "20645a52-0c24-45e2-bc10-57f620558493",
   "metadata": {},
   "source": [
    "You have to put the '\\' infront of a '$' within a table so it works or else it will mess up\n",
    "\n",
    "| Income | Tax |\n",
    "| ------ | --- |\n",
    "| \\< \\$12,000 | 25% |\n",
    "| \\> = \\$12,000 | 30% |"
   ]
  },
  {
   "cell_type": "markdown",
   "id": "2dc4466f-1b56-4dc3-9f8c-c44d862c5d4f",
   "metadata": {},
   "source": [
    "| Income | Tax |\n",
    "| ------ | --- |\n",
    "| \\< \\$12,000 | 25% |\n",
    "| \\> = \\$12,000 | 30% |"
   ]
  }
 ],
 "metadata": {
  "kernelspec": {
   "display_name": "Python 3 (ipykernel)",
   "language": "python",
   "name": "python3"
  },
  "language_info": {
   "codemirror_mode": {
    "name": "ipython",
    "version": 3
   },
   "file_extension": ".py",
   "mimetype": "text/x-python",
   "name": "python",
   "nbconvert_exporter": "python",
   "pygments_lexer": "ipython3",
   "version": "3.11.5"
  }
 },
 "nbformat": 4,
 "nbformat_minor": 5
}
