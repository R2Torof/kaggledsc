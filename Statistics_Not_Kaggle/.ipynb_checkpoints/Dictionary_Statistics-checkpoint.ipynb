{
 "cells": [
  {
   "cell_type": "markdown",
   "id": "f0a4d40f-b854-4d72-853c-fa11dfb99429",
   "metadata": {},
   "source": [
    "# DICTIONARY\n",
    "- Lessons learned from From Naked Statistics by Charles Wheelan\n",
    "\n",
    "- Doing my best to arrange them alphabetically"
   ]
  },
  {
   "cell_type": "code",
   "execution_count": null,
   "id": "61cd24d3-413a-48e8-9de5-7cd9a6e44ebc",
   "metadata": {},
   "outputs": [],
   "source": []
  },
  {
   "cell_type": "markdown",
   "id": "d73afd28-602d-49dd-ba83-48fcbb391e6e",
   "metadata": {},
   "source": [
    "\n",
    "## **Absolute Value (Figure)**\n",
    "-------------------------------------------------------------------\n",
    "\n",
    "#### **<u> Definition </u>**:\n",
    "= Has intrinsic meaning, therefore can be interpreted without any context or additional information\n",
    "\n",
    ">\n",
    ">\n",
    "\n",
    "#### **<u> Examples </u>**:\n",
    "|     |     |\n",
    "| --- | --- |\n",
    "| Temperature of 5 F | You don't need to compare temperature value to other days to know what 5 F means |\n",
    "| | |\n",
    "| | |\n",
    "| Speed of 25 mph | You don't need to compare yourself to the speed of another vehicle to understand what 25 mph is |\n",
    "\n",
    ">\n",
    ">\n",
    "\n",
    "------------------------------------------------------------"
   ]
  },
  {
   "cell_type": "markdown",
   "id": "c239822a-470f-497e-90f0-c84b311f544a",
   "metadata": {},
   "source": [
    "## **Gini Index**\n",
    "\n",
    "------------------------------------------------------------\n",
    "\n",
    "#### **<u> Definition </u>**:\n",
    "= The closer to 1 the more unequal the countries distribution of wealth\n",
    "\n",
    ">\n",
    ">\n",
    "\n",
    "------------------------------------------------------------"
   ]
  },
  {
   "cell_type": "markdown",
   "id": "8cd0a955-2e7f-4da7-bee7-0b3031c03eb2",
   "metadata": {},
   "source": [
    "\n",
    "## **Percentile**\n",
    "-------------------------------------------------------------------\n",
    "\n",
    "#### **<u> Definition </u>**:\n",
    "= distribution divided by hundredths where each **percentile** represents 1% of the distribution (observation)\n",
    "\n",
    ">\n",
    ">\n",
    "\n",
    "------------------------------------------------------------"
   ]
  },
  {
   "cell_type": "markdown",
   "id": "afa69240-8407-4d16-a764-3cf040d7fd1c",
   "metadata": {},
   "source": [
    "\n",
    "## **Quartiles / Quarter**\n",
    "-------------------------------------------------------------------\n",
    "\n",
    "#### **<u> Definition </u>**:\n",
    "= distribution divided by 25% where each **quarter** or **quartile** represents 25% of the distribution (observation)\n",
    "\n",
    ">\n",
    ">\n",
    "\n",
    "------------------------------------------------------------"
   ]
  },
  {
   "cell_type": "markdown",
   "id": "f6086465-2a62-4971-97a5-f216144910cd",
   "metadata": {},
   "source": [
    "\n",
    "## **Relative Value or Figure**\n",
    "-------------------------------------------------------------------\n",
    "\n",
    "#### **<u> Definition </u>**:\n",
    "= Has meaning only in comparison to something else\n",
    "\n",
    ">\n",
    ">\n",
    "\n",
    "#### **<u> Examples </u>**:\n",
    "|     |     |\n",
    "| --- | --- |\n",
    "| SAT, MCAT and ACT scores| Mean nothing without a key to compare your score to others to see where you fit |\n",
    "\n",
    "\n",
    ">\n",
    ">\n",
    "------------------------------------------------------------"
   ]
  },
  {
   "cell_type": "markdown",
   "id": "f6854d45-feea-4789-a4d2-75078412944a",
   "metadata": {},
   "source": [
    "\n",
    "## **Sampling**\n",
    "-------------------------------------------------------------------\n",
    "\n",
    "#### **<u> Definition </u>**:\n",
    "= \"The proess of gathering data for a small area then using those data to make an informed judgement or **INFERENCE**\" (Naked Statistics p 6)\n",
    ">\n",
    ">\n",
    "- \"Research firm Gallup reckons a methodiologically sound poll of 1,000 households will produce roughly the same results as a poll that attempted to contact all the households in America.\" (Naked Statistics p 9)\n",
    "\n",
    ">\n",
    ">\n",
    "------------------------------------------------------------"
   ]
  },
  {
   "cell_type": "code",
   "execution_count": null,
   "id": "94651093-0f01-4d04-b309-8fb3b4692c61",
   "metadata": {},
   "outputs": [],
   "source": []
  }
 ],
 "metadata": {
  "kernelspec": {
   "display_name": "Python 3 (ipykernel)",
   "language": "python",
   "name": "python3"
  },
  "language_info": {
   "codemirror_mode": {
    "name": "ipython",
    "version": 3
   },
   "file_extension": ".py",
   "mimetype": "text/x-python",
   "name": "python",
   "nbconvert_exporter": "python",
   "pygments_lexer": "ipython3",
   "version": "3.11.5"
  }
 },
 "nbformat": 4,
 "nbformat_minor": 5
}
