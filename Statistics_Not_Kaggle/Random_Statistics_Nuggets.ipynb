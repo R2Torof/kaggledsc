{
 "cells": [
  {
   "cell_type": "markdown",
   "id": "996007bb-5640-4df5-a785-d48a7fc7e384",
   "metadata": {},
   "source": [
    "# Random Statistics Nuggets\n",
    "- Random nuggets from \"Naked Statistics\" by Charles Wheelan book"
   ]
  },
  {
   "cell_type": "markdown",
   "id": "e00c22bf-91b2-4328-b5ea-449a289f742d",
   "metadata": {},
   "source": [
    "- \"Statistics helps process data\" (Naked Statistics p 3)"
   ]
  },
  {
   "cell_type": "markdown",
   "id": "78cd5695-e7bc-4bf0-8004-768156b0cb49",
   "metadata": {},
   "source": [
    "- \"The firm **Caveon Test Security** specializes in what it describes as '**Data Forensics**' to find patterns that suggest cheating . . . when . . . the test takers get an answer wrong, they should not all consistently have the same wrong answer. If they do it suggests that they are copying from one another or sharing answers. . .  The company looks for exams in which a test takerdoes significantly better on hard questions than easy questions (suggesting they had the answers in advance) and for exams on which the number of 'wrong to right' erasures is significantly higher than the number of 'right to wrong' erasures (suggesting a teacher or administrator changed the answer sheets after the test).\" (Naked Statistics p 8)\n",
    " "
   ]
  },
  {
   "cell_type": "markdown",
   "id": "bd087b48-58b8-4c1b-822a-249b75ca5b94",
   "metadata": {},
   "source": [
    "- \"Of course you can see the **Limitations** of using probability. A large group of test takers might have the same wrong answers by coincidence, in fact the more schools we evalaute the more likely that we will observe such patterns just as a matter of chance.\" (Naked Statistics p 9)"
   ]
  },
  {
   "cell_type": "markdown",
   "id": "1725f768-d481-4bfe-9b86-3ca283261eaa",
   "metadata": {},
   "source": [
    "- \"A statistical anomaly does NOT prove wrongdoing . . . Probability is one weapon in the arsenal that requires good judgement.\" (Naked Statistics p 9)"
   ]
  },
  {
   "cell_type": "code",
   "execution_count": null,
   "id": "19667eba-6803-4a47-baaf-35fb298e1613",
   "metadata": {},
   "outputs": [],
   "source": []
  }
 ],
 "metadata": {
  "kernelspec": {
   "display_name": "Python 3 (ipykernel)",
   "language": "python",
   "name": "python3"
  },
  "language_info": {
   "codemirror_mode": {
    "name": "ipython",
    "version": 3
   },
   "file_extension": ".py",
   "mimetype": "text/x-python",
   "name": "python",
   "nbconvert_exporter": "python",
   "pygments_lexer": "ipython3",
   "version": "3.11.5"
  }
 },
 "nbformat": 4,
 "nbformat_minor": 5
}
