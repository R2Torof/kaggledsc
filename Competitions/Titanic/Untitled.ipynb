{
 "cells": [
  {
   "cell_type": "markdown",
   "id": "3d0e9a41-d6ff-4187-bf5b-a1d889f6b62a",
   "metadata": {},
   "source": [
    "# Titanic Tutorial\n",
    "## Kaggle Competition\n",
    "### Recommended start the tutorial after first lesson but didn't understand it so attempted after second lesson\n",
    "[https://www.kaggle.com/code/alexisbcook/titanic-tutorial/notebook \"Titanic Tutorial\"]"
   ]
  },
  {
   "cell_type": "code",
   "execution_count": null,
   "id": "080d0a98-1f08-4884-9060-37f0e79c234c",
   "metadata": {},
   "outputs": [],
   "source": []
  }
 ],
 "metadata": {
  "kernelspec": {
   "display_name": "Python 3 (ipykernel)",
   "language": "python",
   "name": "python3"
  },
  "language_info": {
   "codemirror_mode": {
    "name": "ipython",
    "version": 3
   },
   "file_extension": ".py",
   "mimetype": "text/x-python",
   "name": "python",
   "nbconvert_exporter": "python",
   "pygments_lexer": "ipython3",
   "version": "3.11.5"
  }
 },
 "nbformat": 4,
 "nbformat_minor": 5
}
