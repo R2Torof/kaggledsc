{
 "cells": [
  {
   "cell_type": "markdown",
   "id": "6084d75e",
   "metadata": {},
   "source": [
    "# **Python Kaggle Course**\n",
    "#### Notes and practice from course\n",
    "###### <u>*The following rules for references apply in markdown notes*<u>\n",
    "###### - *Things in \"quotes\" in markdown are direct quotes from **Coding for Beginner's In Easy Steps 2nd Edition** book*\n",
    "###### - *Things in 'quotes' in markdown are direct quotes from **Kaggle Course**.*\n",
    "###### - *Things in \"\"quotes\"\" in markdown are direct quotes from **ChatGPT**.*"
   ]
  },
  {
   "cell_type": "markdown",
   "id": "65829808",
   "metadata": {},
   "source": [
    "# <u>**Hello, Python**<u>\n",
    "'A quick introduction to Python syntax, variable assignement, and numbers'\n",
    ">\n",
    ">\n",
    "- Since this high-level programming language was named after the **Monty Python** group Kaggle created a program based on there famous [spam skit](https://en.wikipedia.org/wiki/Spam_(Monty_Python_sketch)) ([video here](https://youtu.be/anwy2MPT5RE?si=b53s2D2hIisGZ5Kb)) which I replicated in the code cell below as a way to practice typing out someone elses code (not copy and pasted)"
   ]
  },
  {
   "cell_type": "code",
   "execution_count": 1,
   "id": "db377f9e-3e25-4853-b378-bedd3992247f",
   "metadata": {},
   "outputs": [
    {
     "name": "stdout",
     "output_type": "stream",
     "text": [
      "0\n",
      "But I don't want ANY spam!\n",
      "SpamSpamSpamSpam\n"
     ]
    }
   ],
   "source": [
    "\n",
    "spam_amount = 0\n",
    "print(spam_amount)\n",
    "\n",
    "# Ordering Spam, egg, Spam, Spam, bacon and Spam (4 more servings of Spam)\n",
    "spam_amount = spam_amount + 4\n",
    "\n",
    "if spam_amount > 0:\n",
    "    print(\"But I don't want ANY spam!\")\n",
    "\n",
    "viking_song = \"Spam\" * spam_amount\n",
    "print(viking_song)"
   ]
  },
  {
   "cell_type": "code",
   "execution_count": null,
   "id": "ef4fb9bc-7e95-490b-a5b7-ef3e5d2def1d",
   "metadata": {},
   "outputs": [],
   "source": []
  },
  {
   "cell_type": "markdown",
   "id": "f6efc8d4-46b2-40e5-b221-81bce9544190",
   "metadata": {},
   "source": [
    ">\n",
    ">\n",
    "__________\n",
    ">\n",
    ">\n",
    "#### The Below will only print out the message if <font color=\"darkcyan\"> **spam_amount** </font> <font color=\"deepskyblue\"> **if condition** </font> of <font color=\"goldenrod\"> > </font> <font color=\"magenta\"> **0** </font> AKA if <font color=\"darkcyan\"> **spam_amount** </font> is <font color=\"limegreen\"> **Positive** </font> because the '<font color=\"steelblue\"> **:** </font> represents a new <font color=\"steelblue\"> **code block** </font> is starting. 'Subsequent lines which are indented are part of that <font color=\"steelblue\"> **code block** </font>':\n",
    ">\n",
    ">\n",
    "'This is different than other languages that use **{ curly braces }** to mark the beginning and end of code blocks.' Python uses 'meaningful whitespace' as discussed above, in **Intro to Programming: 2_Functions** and **Intro to Programming: 4_Conditions...** and below:\n",
    ">\n",
    ">\n",
    "<font color=\"deepskyblue\"> **if** </font> <font color=\"darkcyan\"> **spam_amount** </font> <font color=\"goldenrod\"> **>** </font> <font color=\"magenta\"> **0** </font> <font color=\"steelblue\"> **:** </font>\n",
    ">\n",
    ">\n",
    "> <font color=\"blue\"> **print(** </font> <font color=\"magenta\"> **\"But I don't want ANY spam!\"** </font> <font color=\"blue\"> **)** </font>\n",
    ">\n",
    ">"
   ]
  },
  {
   "cell_type": "code",
   "execution_count": 3,
   "id": "fd46896a-3e18-4b3f-9c1c-8eec15b4bec0",
   "metadata": {},
   "outputs": [
    {
     "name": "stdout",
     "output_type": "stream",
     "text": [
      "But I don't want ANY spam!\n"
     ]
    }
   ],
   "source": [
    "if spam_amount > 0:\n",
    "    print(\"But I don't want ANY spam!\")\n"
   ]
  },
  {
   "cell_type": "code",
   "execution_count": null,
   "id": "acb829a1-8749-49a4-b99f-4d8b568a73b5",
   "metadata": {},
   "outputs": [],
   "source": []
  },
  {
   "cell_type": "markdown",
   "id": "3731287b-3eb8-4f16-82ab-19959931478c",
   "metadata": {},
   "source": [
    ">\n",
    ">\n",
    "__________\n",
    "#### The Below represents string repeating, applying operator overloading to the <font color=\"goldenrod\"> * </font> operator turning into a thing that causes the string to repeat itself a specific number of times (the number that follows the <font color=\"goldenrod\"> * </font> ):\n",
    ">\n",
    ">\n",
    "<font color=\"darkcyan\"> **viking_song** </font> <font color=\"goldenrod\"> **=** </font> <font color=\"magenta\"> **\"Spam\"** </font> <font color=\"goldenrod\"> * </font> <font color=\"darkcyan\"> **spam_amount** </font>\n",
    ">\n",
    ">\n",
    "<font color=\"blue\"> **print(** </font> <font color=\"darkcyan\"> **viking_song** </font> <font color=\"blue\"> **)** </font>\n",
    ">\n",
    ">"
   ]
  },
  {
   "cell_type": "code",
   "execution_count": null,
   "id": "51440a67-71d7-456a-a917-7079f2da01e1",
   "metadata": {},
   "outputs": [],
   "source": []
  },
  {
   "cell_type": "code",
   "execution_count": null,
   "id": "1416a9dc-db47-4b0c-ad7c-5e702748baf0",
   "metadata": {},
   "outputs": [],
   "source": []
  },
  {
   "cell_type": "markdown",
   "id": "858f515e-9862-44d9-bcb1-8ffc1c7d75d1",
   "metadata": {},
   "source": [
    ">\n",
    ">\n",
    "__________\n",
    ">\n",
    ">\n",
    "## **I. <u>Order of Operations:**</u>\n",
    "\n",
    "### I. **A. <u>Arithmetic in same Line with <font color=\"mediumpurple\"> Literal Integers </font> or <font color=\"mediumpurple\"> Floats </font> :**</u>\n",
    "- If the arithmetic in the code cell is in the same line it should follow the **PEMDAS**\n",
    ">\n",
    ">\n",
    "| Letter | Meaning |\n",
    "| --- | --- |\n",
    "| **P** | **P**arentheses |\n",
    "| **E** | **E**xponents |\n",
    "| **M** | **M**ultiplication |\n",
    "| **D** | **D**ivision |\n",
    "| **A** | **A**ddition |\n",
    "| **S** | **S**ubtraction |\n",
    ">\n",
    ">\n",
    "- But this doesn't always work. Try examples below:"
   ]
  },
  {
   "cell_type": "markdown",
   "id": "af45822e-5021-4fff-a713-70da41d5ad72",
   "metadata": {},
   "source": [
    "##### I. A. i. **1. Example 1:**\n",
    ">\n",
    ">\n",
    "> <font color=\"magenta\"> **8** <font color=\"goldenrod\"> **-** </font> <font color=\"magenta\"> **3** </font> <font color=\"goldenrod\"> **+** </font> <font color=\"magenta\"> **2** </font>\n",
    ">\n",
    ">\n",
    "Should = 7"
   ]
  },
  {
   "cell_type": "code",
   "execution_count": 9,
   "id": "7ae751a2-33e6-46f8-9201-cd6b73636fe0",
   "metadata": {},
   "outputs": [
    {
     "data": {
      "text/plain": [
       "7"
      ]
     },
     "execution_count": 9,
     "metadata": {},
     "output_type": "execute_result"
    }
   ],
   "source": [
    "8 - 3 + 2"
   ]
  },
  {
   "cell_type": "markdown",
   "id": "6ff01c99-29d0-4c36-9a11-8c505608e222",
   "metadata": {},
   "source": [
    "##### I. A. i. **2. Example 2:**\n",
    ">\n",
    ">\n",
    "> <font color=\"goldenrod\"> **-** </font> <font color=\"magenta\"> **3** <font color=\"goldenrod\"> **+** </font> <font color=\"magenta\"> **4** </font> <font color=\"goldenrod\"> * </font> <font color=\"magenta\"> **2** </font>\n",
    ">\n",
    ">\n",
    "Should = -3 + 8 = 5"
   ]
  },
  {
   "cell_type": "code",
   "execution_count": 10,
   "id": "8649cc19-b506-44f3-b595-de5c68ccee45",
   "metadata": {},
   "outputs": [
    {
     "data": {
      "text/plain": [
       "5"
      ]
     },
     "execution_count": 10,
     "metadata": {},
     "output_type": "execute_result"
    }
   ],
   "source": [
    "-3 + 4 * 2"
   ]
  },
  {
   "cell_type": "markdown",
   "id": "a5055b9f-87b1-45db-9f34-9e83418bab08",
   "metadata": {},
   "source": [
    ">\n",
    ">\n",
    "\n",
    "### I. **B. <u>Arithmetic in same Line with <font color=\"mediumpurple\"> Literal </font> ( <font color=\"mediumpurple\"> Integers </font> or <font color=\"mediumpurple\"> Floats </font> ) Mixed with <font color=\"darkcyan\"> Variables </font> :**</u>\n",
    "Should follow **PEMDAS** but 'sometimes the default order of operations isn't what we want:' as displayed below\n",
    ">\n",
    ">\n",
    "#### I. B. **i. <u>Output for the below  should be 2.15 because the correct order of operations is:</u>**\n",
    "    - 25 + 190 / 100\n",
    "    - = 215 / 100\n",
    "    - = 2.15\n",
    ">\n",
    ">\n",
    "- When you run the below though it does not output correctly:\n",
    ">\n",
    ">\n",
    "> <font color=\"darkcyan\"> **hat_height_cm** </font> <font color=\"goldenrod\"> **=** </font> <font color=\"magenta\"> **25** </font>\n",
    ">\n",
    ">\n",
    "> <font color=\"darkcyan\"> **my_height_cm** </font>  <font color=\"goldenrod\"> **=** </font> <font color=\"magenta\"> **190** </font>\n",
    ">\n",
    ">\n",
    "> *#* How tall am I, in meters, when wearing my hat?\n",
    ">\n",
    ">\n",
    "> <font color=\"darkcyan\"> **total_height_meters** </font>  <font color=\"goldenrod\"> **=** </font> <font color=\"darkcyan\"> **hat_height_cm** </font> <font color=\"goldenrod\"> **+** </font> <font color=\"darkcyan\"> **my_height_cm** </font> <font color=\"goldenrod\"> **/** </font> <font color=\"magenta\"> **100** </font>\n",
    ">\n",
    ">\n",
    "> <font color=\"blue\"> **print(** </font> <font color=\"magenta\"> **\"Height in meters =\"** </font> <font color=\"blue\"> **,** </font> <font color=\"darkcyan\"> **total_height_meters** </font> <font color=\"blue\"> **,** </font> <font color=\"magenta\"> **\"?\"** </font> <font color=\"blue\"> **)** </font>"
   ]
  },
  {
   "cell_type": "code",
   "execution_count": 11,
   "id": "00a305fe-0efa-443c-993c-89c19c735290",
   "metadata": {},
   "outputs": [
    {
     "name": "stdout",
     "output_type": "stream",
     "text": [
      "Height in meters = 26.9 ?\n"
     ]
    }
   ],
   "source": [
    "hat_height_cm = 25\n",
    "\n",
    "my_height_cm = 190\n",
    "\n",
    "# How tall am I, in meters, when wearing my hat?\n",
    "total_height_meters = hat_height_cm + my_height_cm / 100\n",
    "\n",
    "print( \"Height in meters =\", total_height_meters, \"?\" )"
   ]
  },
  {
   "cell_type": "code",
   "execution_count": 7,
   "id": "88f4babb-2739-4037-8b89-7a09270a317f",
   "metadata": {},
   "outputs": [
    {
     "name": "stdout",
     "output_type": "stream",
     "text": [
      "a = 215\n",
      "b = 2.15\n"
     ]
    }
   ],
   "source": [
    "# Correct result \n",
    "a = 25 +190\n",
    "b = a / 100\n",
    "\n",
    "print('a =', a)\n",
    "print('b =', b)\n"
   ]
  },
  {
   "cell_type": "code",
   "execution_count": null,
   "id": "2e21fa9e-6ca0-4e67-8f48-f4cea991e724",
   "metadata": {},
   "outputs": [],
   "source": []
  },
  {
   "cell_type": "code",
   "execution_count": null,
   "id": "9fdb9f26-b798-4603-80c3-de57d2a89fa2",
   "metadata": {},
   "outputs": [],
   "source": []
  },
  {
   "cell_type": "markdown",
   "id": "8505f2a5-7a16-42c2-8de9-e24bc62572a7",
   "metadata": {},
   "source": [
    ">\n",
    ">\n",
    "\n",
    "#### I. B. **ii. <u>Force correct Order of Operations with <font color=\"blue\"> ( ) </font>:</u>**\n",
    ">\n",
    ">\n",
    "- Force the correct order of operations by using <font color=\"blue\"> **( )** </font> to show python which should occur first which is also correct in math because if\n",
    "<font color=\"darkcyan\"> **total_height_meters** </font> = **c**\n",
    ">\n",
    "> \n",
    "<font color=\"darkcyan\"> **hat_height_cm** </font>  = **a**\n",
    ">\n",
    ">\n",
    "<font color=\"darkcyan\"> **my_height_cm** </font> = **b**\n",
    ">\n",
    ">\n",
    "c = a + b / 100 = a + b/100 so b/100 would naturally occur first unless there were parenthesis there.\n",
    ">\n",
    ">\n",
    "- Code should look as follows:\n",
    "> <font color=\"darkcyan\"> **total_height_meters** </font>  <font color=\"goldenrod\"> **=** </font> <font color=\"blue\"> **(** </font> <font color=\"darkcyan\"> **hat_height_cm** </font> <font color=\"goldenrod\"> **+** </font> <font color=\"darkcyan\"> **my_height_cm** </font> <font color=\"blue\"> **)** </font>  <font color=\"goldenrod\"> **/** </font> <font color=\"magenta\"> **100** </font>\n",
    ">\n",
    ">\n",
    "> <font color=\"blue\"> **print(** </font> <font color=\"magenta\"> **\"Height in meters =\"** </font> <font color=\"blue\"> **,** </font> <font color=\"darkcyan\"> **total_height_meters** </font> <font color=\"blue\"> **,** </font> <font color=\"magenta\"> **\"?\"** </font> <font color=\"blue\"> **)** </font>"
   ]
  },
  {
   "cell_type": "code",
   "execution_count": 12,
   "id": "236ab83d-6075-496d-be6b-38c6c3e267a1",
   "metadata": {},
   "outputs": [
    {
     "name": "stdout",
     "output_type": "stream",
     "text": [
      "Height in meters = 2.15\n"
     ]
    }
   ],
   "source": [
    "# Corrected with ( )\n",
    "total_height_meters = (hat_height_cm + my_height_cm) / 100\n",
    "\n",
    "print(\"Height in meters =\", total_height_meters)\n"
   ]
  },
  {
   "cell_type": "markdown",
   "id": "58e316e8-9608-4d5d-978d-609d69ab39d3",
   "metadata": {},
   "source": [
    "## **I. Name of Section within it (Large in the Tutorial**"
   ]
  },
  {
   "cell_type": "markdown",
   "id": "a3178884-50d6-4ea0-883d-8344d1783629",
   "metadata": {},
   "source": [
    "### I. **A. <u>Sub-Section within main Name of Section:</u>**"
   ]
  },
  {
   "cell_type": "markdown",
   "id": "1db4dd9a-6b0b-4546-8bdb-ffa891260287",
   "metadata": {},
   "source": [
    "#### I. A. **i. Sub-Sub section:**"
   ]
  },
  {
   "cell_type": "markdown",
   "id": "a2481a0c-5eda-4597-b1ec-8ec16ab0d9bb",
   "metadata": {},
   "source": [
    "##### I. A. i. **a. Sub-Sub-Sub section:**"
   ]
  },
  {
   "cell_type": "markdown",
   "id": "3206156a-a734-43ca-883c-967c9a5a8bb1",
   "metadata": {
    "tags": []
   },
   "source": [
    "##### <u>**Example 1.**</u>"
   ]
  },
  {
   "cell_type": "code",
   "execution_count": null,
   "id": "bb549f67-f572-4581-a471-1ad78a3eb60c",
   "metadata": {},
   "outputs": [],
   "source": []
  }
 ],
 "metadata": {
  "kernelspec": {
   "display_name": "Python 3 (ipykernel)",
   "language": "python",
   "name": "python3"
  },
  "language_info": {
   "codemirror_mode": {
    "name": "ipython",
    "version": 3
   },
   "file_extension": ".py",
   "mimetype": "text/x-python",
   "name": "python",
   "nbconvert_exporter": "python",
   "pygments_lexer": "ipython3",
   "version": "3.11.5"
  }
 },
 "nbformat": 4,
 "nbformat_minor": 5
}
