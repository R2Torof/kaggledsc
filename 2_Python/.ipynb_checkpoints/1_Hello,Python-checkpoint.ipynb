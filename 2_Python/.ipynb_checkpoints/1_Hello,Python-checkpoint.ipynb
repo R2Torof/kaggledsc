{
 "cells": [
  {
   "cell_type": "markdown",
   "id": "6084d75e",
   "metadata": {},
   "source": [
    "# **Python Kaggle Course**\n",
    "#### Notes and practice from course\n",
    "###### <u>*The following rules for references apply in markdown notes*<u>\n",
    "###### - *Things in \"quotes\" in markdown are direct quotes from **Coding for Beginner's In Easy Steps 2nd Edition** book*\n",
    "###### - *Things in 'quotes' in markdown are direct quotes from **Kaggle Course**.*\n",
    "###### - *Things in \"\"quotes\"\" in markdown are direct quotes from **ChatGPT**.*"
   ]
  },
  {
   "cell_type": "markdown",
   "id": "65829808",
   "metadata": {},
   "source": [
    "# <u>**Hello, Python**<u>\n",
    "'A quick introduction to Python syntax, variable assignement, and numbers'\n",
    ">\n",
    ">\n",
    "- Since this high-level programming language was named after the **Monty Python** group Kaggle created a program based on there famous [spam skit](https://en.wikipedia.org/wiki/Spam_(Monty_Python_sketch)) ([video here](https://youtu.be/anwy2MPT5RE?si=b53s2D2hIisGZ5Kb)) which I replicated in the code cell below as a way to practice typing out someone elses code (not copy and pasted)"
   ]
  },
  {
   "cell_type": "code",
   "execution_count": 1,
   "id": "db377f9e-3e25-4853-b378-bedd3992247f",
   "metadata": {},
   "outputs": [
    {
     "name": "stdout",
     "output_type": "stream",
     "text": [
      "0\n",
      "But I don't want ANY spam!\n",
      "SpamSpamSpamSpam\n"
     ]
    }
   ],
   "source": [
    "\n",
    "spam_amount = 0\n",
    "print(spam_amount)\n",
    "\n",
    "# Ordering Spam, egg, Spam, Spam, bacon and Spam (4 more servings of Spam)\n",
    "spam_amount = spam_amount + 4\n",
    "\n",
    "if spam_amount > 0:\n",
    "    print(\"But I don't want ANY spam!\")\n",
    "\n",
    "viking_song = \"Spam\" * spam_amount\n",
    "print(viking_song)"
   ]
  },
  {
   "cell_type": "code",
   "execution_count": null,
   "id": "ef4fb9bc-7e95-490b-a5b7-ef3e5d2def1d",
   "metadata": {},
   "outputs": [],
   "source": []
  },
  {
   "cell_type": "markdown",
   "id": "f6efc8d4-46b2-40e5-b221-81bce9544190",
   "metadata": {},
   "source": [
    ">\n",
    ">\n",
    "__________\n",
    ">\n",
    ">\n",
    "#### The Below will only print out the message if <font color=\"darkcyan\"> **spam_amount** </font> <font color=\"deepskyblue\"> **if condition** </font> of <font color=\"goldenrod\"> > </font> <font color=\"magenta\"> **0** </font> AKA if <font color=\"darkcyan\"> **spam_amount** </font> is <font color=\"limegreen\"> **Positive** </font> because the '<font color=\"steelblue\"> **:** </font> represents a new <font color=\"steelblue\"> **code block** </font> is starting. 'Subsequent lines which are indented are part of that <font color=\"steelblue\"> **code block** </font>':\n",
    ">\n",
    ">\n",
    "'This is different than other languages that use **{ curly braces }** to mark the beginning and end of code blocks.' Python uses 'meaningful whitespace' as discussed above, in **Intro to Programming: 2_Functions** and **Intro to Programming: 4_Conditions...** and below:\n",
    ">\n",
    ">\n",
    "<font color=\"deepskyblue\"> **if** </font> <font color=\"darkcyan\"> **spam_amount** </font> <font color=\"goldenrod\"> **>** </font> <font color=\"magenta\"> **0** </font> <font color=\"steelblue\"> **:** </font>\n",
    ">\n",
    ">\n",
    "> <font color=\"blue\"> **print(** </font> <font color=\"magenta\"> **\"But I don't want ANY spam!\"** </font> <font color=\"blue\"> **)** </font>\n",
    ">\n",
    ">\n",
    "<font color=\"darkcyan\"> **viking_song** </font> <font color=\"goldenrod\"> **=** </font> <font color=\"magenta\"> **\"Spam\"** </font> <font color=\"goldenrod\"> * </font> <font color=\"darkcyan\"> **spam_amount** </font>\n",
    ">\n",
    ">\n",
    "<font color=\"blue\"> **print(** </font> <font color=\"darkcyan\"> **viking_song** </font> <font color=\"blue\"> **)** </font>\n",
    ">\n",
    ">"
   ]
  },
  {
   "cell_type": "code",
   "execution_count": 3,
   "id": "fd46896a-3e18-4b3f-9c1c-8eec15b4bec0",
   "metadata": {},
   "outputs": [
    {
     "name": "stdout",
     "output_type": "stream",
     "text": [
      "But I don't want ANY spam!\n"
     ]
    }
   ],
   "source": [
    "if spam_amount > 0:\n",
    "    print(\"But I don't want ANY spam!\")\n"
   ]
  },
  {
   "cell_type": "code",
   "execution_count": null,
   "id": "acb829a1-8749-49a4-b99f-4d8b568a73b5",
   "metadata": {},
   "outputs": [],
   "source": []
  },
  {
   "cell_type": "markdown",
   "id": "3731287b-3eb8-4f16-82ab-19959931478c",
   "metadata": {},
   "source": [
    ">\n",
    ">\n",
    "__________\n",
    "#### The Below represents string repeating, applying operator overloading to the <font color=\"goldenrod\"> * </font> operator turning into a thing that causes the string to repeat itself a specific number of times (the number that follows the <font color=\"goldenrod\"> * </font> ):\n",
    ">\n",
    ">\n",
    "<font color=\"darkcyan\"> **viking_song** </font> <font color=\"goldenrod\"> **=** </font> <font color=\"magenta\"> **\"Spam\"** </font> <font color=\"goldenrod\"> * </font> <font color=\"darkcyan\"> **spam_amount** </font>\n",
    ">\n",
    ">\n",
    "<font color=\"blue\"> **print(** </font> <font color=\"darkcyan\"> **viking_song** </font> <font color=\"blue\"> **)** </font>\n",
    ">\n",
    ">"
   ]
  },
  {
   "cell_type": "markdown",
   "id": "58e316e8-9608-4d5d-978d-609d69ab39d3",
   "metadata": {},
   "source": [
    "## **I. Name of Section within it (Large in the Tutorial**"
   ]
  },
  {
   "cell_type": "markdown",
   "id": "a3178884-50d6-4ea0-883d-8344d1783629",
   "metadata": {},
   "source": [
    "### I. **A. <u>Sub-Section within main Name of Section:</u>**"
   ]
  },
  {
   "cell_type": "markdown",
   "id": "1db4dd9a-6b0b-4546-8bdb-ffa891260287",
   "metadata": {},
   "source": [
    "#### I. A. **i. Sub-Sub section:**"
   ]
  },
  {
   "cell_type": "markdown",
   "id": "a2481a0c-5eda-4597-b1ec-8ec16ab0d9bb",
   "metadata": {},
   "source": [
    "##### I. A. i. **a. Sub-Sub-Sub section:**"
   ]
  },
  {
   "cell_type": "markdown",
   "id": "3206156a-a734-43ca-883c-967c9a5a8bb1",
   "metadata": {
    "tags": []
   },
   "source": [
    "##### <u>**Example 1.**</u>"
   ]
  },
  {
   "cell_type": "code",
   "execution_count": null,
   "id": "bb549f67-f572-4581-a471-1ad78a3eb60c",
   "metadata": {},
   "outputs": [],
   "source": []
  }
 ],
 "metadata": {
  "kernelspec": {
   "display_name": "Python 3 (ipykernel)",
   "language": "python",
   "name": "python3"
  },
  "language_info": {
   "codemirror_mode": {
    "name": "ipython",
    "version": 3
   },
   "file_extension": ".py",
   "mimetype": "text/x-python",
   "name": "python",
   "nbconvert_exporter": "python",
   "pygments_lexer": "ipython3",
   "version": "3.11.5"
  }
 },
 "nbformat": 4,
 "nbformat_minor": 5
}
