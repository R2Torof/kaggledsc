{
 "cells": [
  {
   "cell_type": "markdown",
   "id": "6084d75e",
   "metadata": {},
   "source": [
    "# **Python Kaggle Course**\n",
    "#### Notes and practice from course\n",
    "###### <u>*The following rules for references apply in markdown notes*<u>\n",
    "###### - *Things in \"quotes\" in markdown are direct quotes from **Coding for Beginner's In Easy Steps 2nd Edition** book*\n",
    "###### - *Things in 'quotes' in markdown are direct quotes from **Kaggle Course**.*\n",
    "###### - *Things in \"\"quotes\"\" in markdown are direct quotes from **ChatGPT**.*"
   ]
  },
  {
   "cell_type": "markdown",
   "id": "65829808",
   "metadata": {},
   "source": [
    "# <u>**Name of Tutorial**<u>"
   ]
  },
  {
   "cell_type": "markdown",
   "id": "58e316e8-9608-4d5d-978d-609d69ab39d3",
   "metadata": {},
   "source": [
    "## **I. Name of Section within it (Large in the Tutorial**"
   ]
  },
  {
   "cell_type": "markdown",
   "id": "a3178884-50d6-4ea0-883d-8344d1783629",
   "metadata": {},
   "source": [
    "### I. **A. <u>Sub-Section within main Name of Section:</u>**"
   ]
  },
  {
   "cell_type": "markdown",
   "id": "1db4dd9a-6b0b-4546-8bdb-ffa891260287",
   "metadata": {},
   "source": [
    "#### I. A. **i. Sub-Sub section:**"
   ]
  },
  {
   "cell_type": "markdown",
   "id": "a2481a0c-5eda-4597-b1ec-8ec16ab0d9bb",
   "metadata": {},
   "source": [
    "##### I. A. i. **a. Sub-Sub-Sub section:**"
   ]
  },
  {
   "cell_type": "markdown",
   "id": "3206156a-a734-43ca-883c-967c9a5a8bb1",
   "metadata": {
    "tags": []
   },
   "source": [
    "##### <u>**Example 1.**</u>"
   ]
  },
  {
   "cell_type": "code",
   "execution_count": null,
   "id": "bb549f67-f572-4581-a471-1ad78a3eb60c",
   "metadata": {},
   "outputs": [],
   "source": []
  }
 ],
 "metadata": {
  "kernelspec": {
   "display_name": "Python 3 (ipykernel)",
   "language": "python",
   "name": "python3"
  },
  "language_info": {
   "codemirror_mode": {
    "name": "ipython",
    "version": 3
   },
   "file_extension": ".py",
   "mimetype": "text/x-python",
   "name": "python",
   "nbconvert_exporter": "python",
   "pygments_lexer": "ipython3",
   "version": "3.11.5"
  }
 },
 "nbformat": 4,
 "nbformat_minor": 5
}
