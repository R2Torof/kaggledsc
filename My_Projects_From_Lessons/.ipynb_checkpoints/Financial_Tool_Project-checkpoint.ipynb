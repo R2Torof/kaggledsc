{
 "cells": [
  {
   "cell_type": "markdown",
   "id": "e2ceebf2-862f-45e2-a713-931ba979d02a",
   "metadata": {},
   "source": [
    "# **Financial Tool Project**\n",
    "- Here I am creating a Financial tool to replace my google sheets financial tool where I track my husbands income and what taxes to pay for quarterly taxes. Its a very complex system and I would like to see if I can code it.\n",
    ">\n",
    ">\n",
    "- This will be periodically updated as I learn new skills and coding techniques\n",
    ">\n",
    ">\n",
    "- This notebook is just the code alone as would be seen in an actual working model\n",
    ">\n",
    ">\n",
    "- See \"My_Projects_From_Lessons/Financial_Tool_Project_Explanation\" notebook for how the notebook was created etc"
   ]
  },
  {
   "cell_type": "code",
   "execution_count": null,
   "id": "2a95b58d-06c8-49a3-aeba-d50e98886938",
   "metadata": {},
   "outputs": [],
   "source": []
  },
  {
   "cell_type": "code",
   "execution_count": null,
   "id": "0418d010-0e85-418a-a6f3-1fc79bb513b9",
   "metadata": {},
   "outputs": [],
   "source": []
  },
  {
   "cell_type": "markdown",
   "id": "631b478d-e233-4680-92b5-e353f74dd824",
   "metadata": {},
   "source": [
    "## **The 2024 tax bracket for married filing jointly is as follows:**\n",
    "\n",
    ">\n",
    ">\n",
    "| Bracket | Range of Income | Income | Tax Bracket | Difference |\n",
    "| ------- | --------------- | ------ | ----------- | ---------- |\n",
    "| **1** | 0 to 23,200 dollars | \\<= \\$23,200 | 10% | 0 |\n",
    "| **2** | 23,201 to 94,300 dollars | \\<= \\$94,300 | 12% | up 2% |\n",
    "| **3** | 94,301 to 201,050 dollars | \\<= \\$201,050 | 22% | up 10% the moment you hit middle class |\n",
    "| **4** | 201,051 to 383,900 dollars | \\<= \\$383,900 | 24% | up 2% |\n",
    "| **5** | 383,901 to 487,450 dollars | \\<= \\$487,450 | 32% | up 8% the moment you hit upper middle class |\n",
    "| **6** | 487,451 to 731,200 dollars | \\<= \\$731,200 | 35% | up 3% |\n",
    "| **7** | over 731,200 dollars | \\> \\$731,200 | 37% | up 2% and caps out when you hit the upper class |\n",
    "\n",
    ">\n",
    ">\n",
    "______________________________"
   ]
  },
  {
   "cell_type": "markdown",
   "id": "c3d95a7d-7de1-40bb-9b92-a1eea8129b95",
   "metadata": {},
   "source": [
    "## **Annual Federal Tax Calculator:**\n",
    "- Based on Annual Gross Income for Married Filing Jointly IRS 2024"
   ]
  },
  {
   "cell_type": "code",
   "execution_count": 1,
   "id": "2d4a6db4-2480-44e7-ade7-d8357f350cd5",
   "metadata": {},
   "outputs": [],
   "source": [
    "def total_tax(income):\n",
    "    if income <= 23200:\n",
    "        tax = income * 0.1\n",
    "    elif income <= 94300:\n",
    "        tax = (23200 * 0.1) + ( (income - 23200) * 0.12 )\n",
    "    elif income <= 201050:\n",
    "        tax = (23200 * 0.1) + ((94300 - 23200) * 0.12) + ( (income - 94300) * 0.22 )\n",
    "    elif income <= 383900:\n",
    "        tax = (23200 * 0.1) + ((94300 - 23200) * 0.12) + ((201050 - 94300) * 0.22) + ( (income - 201050) * 0.24 )\n",
    "    elif income <= 487450:\n",
    "        tax = (23200 * 0.1) + ((94300 - 23200) * 0.12) + ((201050 - 94300) * 0.22) + ((383900 - 201050) * 0.24) + ( (income - 383900) * 0.32 )\n",
    "    elif income <= 731200:\n",
    "        tax = (23200 * 0.1) + ((94300 - 23200) * 0.12) + ((201050 - 94300) * 0.22) + ((383900 - 201050) * 0.24) + ((487450 - 383900) * 0.32) + ( (income - 487450) * 0.35 )\n",
    "    else:\n",
    "        tax = (23200 * 0.1) + ((94300 - 23200) * 0.12) + ((201050 - 94300) * 0.22) + ((383900 - 201050) * 0.24) + ((487450 - 383900) * 0.32) + ((731200 - 487450) * 0.35) + ( (income - 731200) * 0.37 )\n",
    "    return tax\n"
   ]
  },
  {
   "cell_type": "code",
   "execution_count": null,
   "id": "18a32d62-8888-4971-9764-02901daa13df",
   "metadata": {},
   "outputs": [],
   "source": []
  },
  {
   "cell_type": "code",
   "execution_count": null,
   "id": "20a3320f-f974-4860-b97e-f0a385bd3dcc",
   "metadata": {},
   "outputs": [],
   "source": []
  },
  {
   "cell_type": "code",
   "execution_count": null,
   "id": "030bb517-e2f6-4f25-8228-7998ce073d39",
   "metadata": {},
   "outputs": [],
   "source": []
  },
  {
   "cell_type": "code",
   "execution_count": null,
   "id": "4e6b5c03-1ee2-4b5a-992a-328b29865c3c",
   "metadata": {},
   "outputs": [],
   "source": []
  },
  {
   "cell_type": "markdown",
   "id": "979a8c4c-1e90-47bd-b9d0-31fb1ec45482",
   "metadata": {},
   "source": [
    "________________________________\n",
    ">\n",
    ">\n",
    "## **1099 vs W2 Evaluator:**\n",
    "- Is the tax home pay more as a 1099 or a W2?\n",
    "- As 1099 Gross Pay is 60% of payment\n",
    "- As W2 Gross Pay is 53% of payment\n",
    "- Private pay is \\$150 per patient seen\n",
    "- Insurance pay is \\$92 per patient seen\n",
    "- Work location is Ohio, with city tax and variable state tax based on 1099 vs W2"
   ]
  },
  {
   "cell_type": "code",
   "execution_count": 2,
   "id": "69c81596-9670-42fd-bcb6-1299a5ad379e",
   "metadata": {},
   "outputs": [],
   "source": [
    "import math\n",
    "\n",
    "def job(contracter, insurance, private):\n",
    "    employment_tax = (0.153 * contracter) + ((not contracter) * 0.0765)\n",
    "    state_tax = (not contracter) * 0.0275\n",
    "    city_tax = 0.025\n",
    "    insurance_gross = (contracter * (92 * 0.6) * insurance) + ((not contracter) * (92 * 0.53) * insurance) \n",
    "    private_gross = (contracter * (150 * 0.6) * private) + ((not contracter) * (150 * 0.53) * private)\n",
    "    total_gross = insurance_gross + private_gross\n",
    "    fed_tax = total_tax(total_gross)\n",
    "    take_home = (total_gross * (1 - (employment_tax + state_tax + city_tax))) - fed_tax\n",
    "    rounded_take_home = round(take_home, 2)\n",
    "    return rounded_take_home\n"
   ]
  },
  {
   "cell_type": "code",
   "execution_count": null,
   "id": "104ed868-eb4f-4d0c-af89-1ba2c83984d4",
   "metadata": {},
   "outputs": [],
   "source": []
  }
 ],
 "metadata": {
  "kernelspec": {
   "display_name": "Python 3 (ipykernel)",
   "language": "python",
   "name": "python3"
  },
  "language_info": {
   "codemirror_mode": {
    "name": "ipython",
    "version": 3
   },
   "file_extension": ".py",
   "mimetype": "text/x-python",
   "name": "python",
   "nbconvert_exporter": "python",
   "pygments_lexer": "ipython3",
   "version": "3.11.5"
  }
 },
 "nbformat": 4,
 "nbformat_minor": 5
}
