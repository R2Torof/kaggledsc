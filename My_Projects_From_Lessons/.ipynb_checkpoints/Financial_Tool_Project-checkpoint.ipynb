{
 "cells": [
  {
   "cell_type": "markdown",
   "id": "e2ceebf2-862f-45e2-a713-931ba979d02a",
   "metadata": {},
   "source": [
    "# Financial Tool Project\n",
    "- Here I am creating a Financial tool to replace my google sheets financial tool where I track my husbands income and what taxes to pay for quarterly taxes. Its a very complex system and I would like to see if I can code it.\n",
    ">\n",
    ">\n",
    "- This will be periodically updated as I learn new skills and coding techniques\n"
   ]
  },
  {
   "cell_type": "code",
   "execution_count": null,
   "id": "2a95b58d-06c8-49a3-aeba-d50e98886938",
   "metadata": {},
   "outputs": [],
   "source": []
  },
  {
   "cell_type": "code",
   "execution_count": null,
   "id": "0418d010-0e85-418a-a6f3-1fc79bb513b9",
   "metadata": {},
   "outputs": [],
   "source": []
  },
  {
   "cell_type": "markdown",
   "id": "631b478d-e233-4680-92b5-e353f74dd824",
   "metadata": {},
   "source": [
    "### **I. <u>Custom Function for 2024 Taxes:</u>**\n",
    "Would like to create a program to help me with determining my taxes with my husband since he is a 1099 and I am a W-2 with a function\n",
    "\n",
    "#### **Why do I need this?**\n",
    "- Because I have to calculate my husband's quarterly tax payment estimates and pay them quarterly or else I get a huge tax bill. I have a Google Sheets complex document with many books to help with this calculation.\n",
    "  \n",
    "- Now that I am learning code I thought it would be fun to try to code it\n",
    "\n",
    "- I have the Google Sheets document to compare it too to ensure its accurate as well so its a built in check which is cool.\n",
    ">\n",
    ">\n",
    "#### **The 2024 tax bracket for married filing jointly is as follows:**\n",
    "- I obtained this from the IRS website and I coded it into a table below\n",
    "- Realized that you cannot have the '$' in tables without it messing up so had to learn a bit of html to ensure the table would render correctly.\n",
    ">\n",
    ">\n",
    "| Bracket | Range of Income | Income | Tax Bracket | Difference |\n",
    "| ------- | --------------- | ------ | ----------- | ---------- |\n",
    "| **1** | 0 to 23,200 dollars | \\<= \\$23,200 | 10% | 0 |\n",
    "| **2** | 23,201 to 94,300 dollars | \\<= \\$94,300 | 12% | up 2% |\n",
    "| **3** | 94,301 to 201,050 dollars | \\<= \\$201,050 | 22% | up 10% the moment you hit middle class |\n",
    "| **4** | 201,051 to 383,900 dollars | \\<= \\$383,900 | 24% | up 2% |\n",
    "| **5** | 383,901 to 487,450 dollars | \\<= \\$487,450 | 32% | up 8% the moment you hit upper middle class |\n",
    "| **6** | 487,451 to 731,200 dollars | \\<= \\$731,200 | 35% | up 3% |\n",
    "| **7** | over 731,200 dollars | \\> \\$731,200 | 37% | up 2% and caps out when you hit the upper class |\n"
   ]
  },
  {
   "cell_type": "markdown",
   "id": "1c458d9e-8231-4521-830d-fbb5183548ed",
   "metadata": {},
   "source": [
    "#### I. **A. <u>Steps to create it:</u>**\n",
    ">\n",
    ">\n",
    "1. Use \"<font color=\"DeepSkyBlue\"> **if . . elif. . . else** </font>\" statements in a multi line <font color=\"SteelBlue\"> **code block** </font> in a custom <font color=\"BlueViolet\"> **defined** </font> function called '<font color=\"Blue\"> **total_tax()** </font>' that will take an input of '<font color=\"LightSeaGreen\"> **income** </font>'\n",
    ">\n",
    ">\n",
    "2. Remember each step up the bracket the tax is only on the range in that bracket so have to have in each level of calculation the max tax for the previous bracket added to the tax on the taxable income in the current tax bracket income range\n",
    ">\n",
    ">\n"
   ]
  },
  {
   "cell_type": "code",
   "execution_count": null,
   "id": "25e83816-e858-4a81-bb58-fad8e87452cc",
   "metadata": {},
   "outputs": [],
   "source": []
  },
  {
   "cell_type": "markdown",
   "id": "e88e961d-05f8-48ce-a416-4c64873c529b",
   "metadata": {},
   "source": [
    ">\n",
    ">\n",
    "#### I. **B. <u>The actual function in code cell:</u>**"
   ]
  },
  {
   "cell_type": "code",
   "execution_count": 1,
   "id": "2d4a6db4-2480-44e7-ade7-d8357f350cd5",
   "metadata": {},
   "outputs": [],
   "source": [
    "def total_tax(income):\n",
    "    if income <= 23200:\n",
    "        tax = income * 0.1\n",
    "    elif income <= 94300:\n",
    "        tax = (23200 * 0.1) + ( (income - 23200) * 0.12 )\n",
    "    elif income <= 201050:\n",
    "        tax = (23200 * 0.1) + ((94300 - 23200) * 0.12) + ( (income - 94300) * 0.22 )\n",
    "    elif income <= 383900:\n",
    "        tax = (23200 * 0.1) + ((94300 - 23200) * 0.12) + ((201050 - 94300) * 0.22) + ( (income - 201050) * 0.24 )\n",
    "    elif income <= 487450:\n",
    "        tax = (23200 * 0.1) + ((94300 - 23200) * 0.12) + ((201050 - 94300) * 0.22) + ((383900 - 201050) * 0.24) + ( (income - 383900) * 0.32 )\n",
    "    elif income <= 731200:\n",
    "        tax = (23200 * 0.1) + ((94300 - 23200) * 0.12) + ((201050 - 94300) * 0.22) + ((383900 - 201050) * 0.24) + ((487450 - 383900) * 0.32) + ( (income - 487450) * 0.35 )\n",
    "    else:\n",
    "        tax = (23200 * 0.1) + ((94300 - 23200) * 0.12) + ((201050 - 94300) * 0.22) + ((383900 - 201050) * 0.24) + ((487450 - 383900) * 0.32) + ((731200 - 487450) * 0.35) + ( (income - 731200) * 0.37 )\n",
    "    return tax\n"
   ]
  },
  {
   "cell_type": "markdown",
   "id": "bc349417-4751-4199-bed3-39e8b765179f",
   "metadata": {},
   "source": [
    ">\n",
    ">\n",
    "#### I. **C. <u>Practice with the function:</u>**\n",
    ">\n",
    ">\n",
    "- The 2024 tax bracket for married filing jointly is as follows:\n",
    "| Bracket | Range of Income | Income | Tax Bracket | Difference |\n",
    "| ------- | --------------- | ------ | ----------- | ---------- |\n",
    "| **1** | 0 to 23,200 dollars | \\<= \\$23,200 | 10% | 0 |\n",
    "| **2** | 23,201 to 94,300 dollars | \\<= \\$94,300 | 12% | up 2% |\n",
    "| **3** | 94,301 to 201,050 dollars | \\<= \\$201,050 | 22% | up 10% the moment you hit middle class |\n",
    "| **4** | 201,051 to 383,900 dollars | \\<= \\$383,900 | 24% | up 2% |\n",
    "| **5** | 383,901 to 487,450 dollars | \\<= \\$487,450 | 32% | up 8% the moment you hit upper middle class |\n",
    "| **6** | 487,451 to 731,200 dollars | \\<= \\$731,200 | 35% | up 3% |\n",
    "| **7** | over 731,200 dollars | \\> \\$731,200 | 37% | up 2% and caps out when you hit the upper class |\n",
    ">\n",
    ">"
   ]
  },
  {
   "cell_type": "markdown",
   "id": "6e0fb371-cfb7-4ad9-975f-5e4cf68beadb",
   "metadata": {},
   "source": [
    ">\n",
    ">\n",
    "##### **Practice Problems to do in the below code cells:**"
   ]
  },
  {
   "cell_type": "markdown",
   "id": "e3b60b35-5139-41d8-a5fd-14486262b474",
   "metadata": {},
   "source": [
    ">\n",
    ">\n",
    "##### I. C. **i. <u>Example 1:</u>**\n",
    "What is the total tax owed if your Income was 20,000 dollars\n",
    "\n",
    "1. Create variable to store the answer\n",
    "2. Print the variable with a label\n",
    "3. Check the variable to be accurate "
   ]
  },
  {
   "cell_type": "code",
   "execution_count": 2,
   "id": "d1aedf5d-c150-4cc6-8070-c1daddda5c5d",
   "metadata": {},
   "outputs": [
    {
     "name": "stdout",
     "output_type": "stream",
     "text": [
      "Tax for $20,000 income = 2000.0\n",
      "Is the calculation accurate? True\n"
     ]
    }
   ],
   "source": [
    "\n",
    "# 1. Income of $20,000 create variable to hold the tax\n",
    "tax1 = total_tax(20000)\n",
    "\n",
    "# 2. Print and label\n",
    "print('Tax for $20,000 income =', tax1)\n",
    "\n",
    "# 3. Check if accurate\n",
    "correct = 20000 * 0.1\n",
    "print('Is the calculation accurate?', tax1 == correct)"
   ]
  },
  {
   "cell_type": "code",
   "execution_count": null,
   "id": "b27b2758-0129-4b25-9fef-21a8e586392a",
   "metadata": {},
   "outputs": [],
   "source": []
  },
  {
   "cell_type": "markdown",
   "id": "d5715b8a-d1f1-4f0b-9ef6-7b30e455294c",
   "metadata": {},
   "source": [
    ">\n",
    ">\n",
    "##### I. C. **ii. <u>Example 2:</u>**\n",
    "What is the total tax owed if your Income was 23,200 dollars\n",
    "\n",
    "1. Create variable to store the answer\n",
    "2. Print the variable with a label\n",
    "3. Check the variable to be accurate "
   ]
  },
  {
   "cell_type": "code",
   "execution_count": 3,
   "id": "19eb3f8f-d622-47bd-968d-0fc0bedbdfe9",
   "metadata": {},
   "outputs": [
    {
     "name": "stdout",
     "output_type": "stream",
     "text": [
      "Tax for $23,200 income = 2320.0\n",
      "Is the calculation accurate? True\n"
     ]
    }
   ],
   "source": [
    "\n",
    "# 1. Income of $23,200 create variable to hold the tax\n",
    "tax2 = total_tax(23200)\n",
    "\n",
    "# 2. Print and label\n",
    "print('Tax for $23,200 income =', tax2)\n",
    "\n",
    "# 3. Check if accurate\n",
    "correct = 23200 * 0.1\n",
    "print('Is the calculation accurate?', tax2 == correct)"
   ]
  },
  {
   "cell_type": "code",
   "execution_count": null,
   "id": "5f2795c3-2a9b-46eb-a92b-5043ecb97074",
   "metadata": {},
   "outputs": [],
   "source": []
  },
  {
   "cell_type": "markdown",
   "id": "a67a0f2b-b1cb-4203-b6d7-06c157056e2a",
   "metadata": {},
   "source": [
    ">\n",
    ">\n",
    "##### I. C. **iii. <u>Example 3:</u>**\n",
    "What is the total tax owed if your Income was 23,201 dollars\n",
    "\n",
    "1. Create variable to store the answer\n",
    "2. Print the variable with a label\n",
    "3. Check the variable to be accurate "
   ]
  },
  {
   "cell_type": "code",
   "execution_count": 4,
   "id": "e5c3d1ab-d625-45fd-beb6-b1eeb77e587f",
   "metadata": {},
   "outputs": [
    {
     "name": "stdout",
     "output_type": "stream",
     "text": [
      "Tax for $23,201 income = 2320.12\n",
      "Is the calculcation accurate? True\n"
     ]
    }
   ],
   "source": [
    "\n",
    "# 1. Income of $23,201 create variable to hold the tax\n",
    "tax3 = total_tax(23201)\n",
    "\n",
    "# 2. Print and label\n",
    "print('Tax for $23,201 income =', tax3)\n",
    "\n",
    "# 3. Check if accurate\n",
    "correct = (23200 * 0.1) + (1 * 0.12)\n",
    "print('Is the calculcation accurate?', tax3 == correct)"
   ]
  },
  {
   "cell_type": "code",
   "execution_count": null,
   "id": "823cb7df-ce0a-4e9a-9f43-4d0803de70cb",
   "metadata": {},
   "outputs": [],
   "source": []
  },
  {
   "cell_type": "markdown",
   "id": "492e4b0f-3744-4efe-8fe8-de9fd19b93f0",
   "metadata": {},
   "source": [
    ">\n",
    ">\n",
    "##### I. C. **iv. <u>Example 4:</u>**\n",
    "What is the total tax owed i/f your Income was 94,300 dollars\n",
    "\n",
    "1. Create variable to store the answer\n",
    "2. Print the variable with a label\n",
    "3. Check the variable to be accurate "
   ]
  },
  {
   "cell_type": "code",
   "execution_count": 5,
   "id": "32ea40d3-c0a3-4cf1-8dcb-fd275ce6936f",
   "metadata": {},
   "outputs": [
    {
     "name": "stdout",
     "output_type": "stream",
     "text": [
      "Tax for $94,300 income = 10852.0\n",
      "Is the calculation accurate? True\n"
     ]
    }
   ],
   "source": [
    "\n",
    "# 1. Income of $94,300 create variable to hold the tax\n",
    "tax4 = total_tax(94300)\n",
    "\n",
    "# 2. Print and label\n",
    "print('Tax for $94,300 income =', tax4)\n",
    "\n",
    "# 3. Check if accurate\n",
    "correct = (23200 * 0.1) + ((94300 - 23200) * 0.12)\n",
    "print('Is the calculation accurate?', tax4 == correct)"
   ]
  },
  {
   "cell_type": "code",
   "execution_count": null,
   "id": "1e92c96c-b84e-428e-9b59-313f93d3fa41",
   "metadata": {},
   "outputs": [],
   "source": []
  },
  {
   "cell_type": "markdown",
   "id": "3573e938-aef6-43dc-83d9-43167ebba4d8",
   "metadata": {},
   "source": [
    ">\n",
    ">\n",
    "##### I. C. **v. <u>Example 5:</u>**\n",
    "What is the total tax owed if your Income was 1,000,000 dollars\n",
    "\n",
    "1. Create variable to store the answer\n",
    "2. Print the variable with a label\n",
    "3. Check the variable to be accurate "
   ]
  },
  {
   "cell_type": "code",
   "execution_count": 6,
   "id": "9773e956-483d-409f-8520-848faebeca2e",
   "metadata": {},
   "outputs": [
    {
     "name": "stdout",
     "output_type": "stream",
     "text": [
      "Tax for $1 million income = 296125.5\n",
      "Is the calculation accurate? True\n"
     ]
    }
   ],
   "source": [
    "\n",
    "# 1.\n",
    "taxmil = total_tax(1000000)\n",
    "\n",
    "# 2. \n",
    "print('Tax for $1 million income =', taxmil)\n",
    "\n",
    "# 3. check if accurate\n",
    "correct = (23200 * 0.1) + ((94300 - 23200) * 0.12) + ((201050 - 94300) * 0.22) + ((383900 - 201050) * 0.24) + ((487450 - 383900) * 0.32) + ((731200 - 487450) * 0.35) + ( (1000000- 731200) * 0.37 )\n",
    "print('Is the calculation accurate?', taxmil == correct)"
   ]
  },
  {
   "cell_type": "code",
   "execution_count": null,
   "id": "18a32d62-8888-4971-9764-02901daa13df",
   "metadata": {},
   "outputs": [],
   "source": []
  },
  {
   "cell_type": "code",
   "execution_count": null,
   "id": "20a3320f-f974-4860-b97e-f0a385bd3dcc",
   "metadata": {},
   "outputs": [],
   "source": []
  },
  {
   "cell_type": "code",
   "execution_count": null,
   "id": "030bb517-e2f6-4f25-8228-7998ce073d39",
   "metadata": {},
   "outputs": [],
   "source": []
  },
  {
   "cell_type": "code",
   "execution_count": null,
   "id": "4e6b5c03-1ee2-4b5a-992a-328b29865c3c",
   "metadata": {},
   "outputs": [],
   "source": []
  },
  {
   "cell_type": "markdown",
   "id": "979a8c4c-1e90-47bd-b9d0-31fb1ec45482",
   "metadata": {},
   "source": [
    "## **II. <u>Create a 1099 vs W2 Evaluator:</u>**\n",
    "- I realized after doing a credit care evaluator (See 'My_Projects_From_Lessons/Brillant_Solving_Equations_Personal_Project') that I could combine an excel sheet I had to try to help my husband determine if he wanted to be a W2 vs Private pay in an old job and I did it in excel but wanted to see if I could do it in a function.\n",
    "- Create a function that will determine which if you make more money in a 1099 or W2 job based on amount of private pay patients vs insurance pay patients\n",
    "- Call this function '<font color=\"Blue\"> **job()** </font>'\n",
    "- The function should take 3 **parameters**:\n",
    "    1. <font color=\"lightseagreen\"> **contracter** </font> = Boolen for if contracter (<font color=\"forestgreen\"> **True** </font>) or W2 (<font color=\"red\"> **False** </font>)\n",
    "    2. <font color=\"lightseagreen\"> **private** </font> = number of private patients seen\n",
    "    3. <font color=\"lightseagreen\"> **insurance** </font> = number of insurance patients seen\n",
    "- The function's output should be the name of the credit card that is best given the 2 inputted <font color=\"lightseagreen\"> **parameters** </font>\n",
    "  \n",
    ">\n",
    ">\n",
    "**<u>Important Info:</u>**\n",
    "1. Use the 2024 married filing jointly tax function within this custom function\n",
    "2. Pays <font color=\"magenta\"> **0%** </font> in <font color=\"darkcyan\"> **state tax** </font> for <font color=\"forestgreen\"> **contracter** </font> but <font color=\"magenta\"> **2.75%** </font> for <font color=\"red\"> **W2** </font>:\n",
    "    >\n",
    "    >\n",
    "    > '<font color=\"darkcyan\"> **state_tax** </font> <font color=\"goldenrod\"> **=** </font> <font color=\"blue\"> **(** </font> <font color=\"deepskyblue\"> **not** </font> <font color=\"lightseagreen\"> **contracter** </font> <font color=\"blue\"> **)** </font> <font color=\"goldenrod\"> * </font> <font color=\"magenta\"> **0.0275** </font>'\n",
    "    >\n",
    "    >\n",
    "3. Employment tax is <font color=\"magenta\"> **15.3%** </font> if for <font color=\"forestgreen\"> **contracter** </font> but <font color=\"magenta\"> **7.65%** </font> for <font color=\"red\"> **W2** </font>:\n",
    ">\n",
    ">\n",
    "> '<font color=\"darkcyan\"> **employment_tax** </font> <font color=\"goldenrod\"> **=** </font> <font color=\"blue\"> **(** </font> <font color=\"magenta\"> **0.153** </font> <font color=\"goldenrod\"> * </font> <font color=\"lightseagreen\"> **contracter** </font> <font color=\"blue\"> **)** </font> <font color=\"goldenrod\"> **+** </font> <font color=\"blue\"> **(** </font> <font color=\"dodgerblue\"> **(** </font> <font color=\"Deepskyblue\"> **not** </font> <font color=\"lightseagreen\"> **contracter** </font> <font color=\"dodgerblue\"> **)** </font> <font color=\"goldenrod\"> * </font> <font color=\"magenta\"> **0.0765** </font> <font color=\"blue\"> **)** </font>'\n",
    ">\n",
    ">\n",
    "4. City tax is <font color=\"magenta\"> **2.5%** </font>\n",
    ">\n",
    ">\n",
    "5. If a 1099 you are paid <font color=\"magenta\"> **60%** </font> of <font color=\"magenta\"> **92** </font> dollars per '<font color=\"lightseagreen\"> **insurance** </font>' patient. If you are a W2 you are paid <font color=\"magenta\"> **53%** </font> of <font color=\"magenta\"> **92** </font> dollars per '<font color=\"lightseagreen\"> **insurance** </font>' patient. So calculate the gross payment if 1099 or W2 for total insurance patients seen with the following:\n",
    "    >\n",
    "    >\n",
    "    > '<font color=\"darkcyan\"> **insurance_gross** </font> <font color=\"goldenrod\"> **=** </font> <font color=\"blue\"> **(** </font> <font color=\"lightseagreen\"> **contracter** </font> <font color=\"goldenrod\"> * </font> <font color=\"dodgerblue\"> **(** </font> <font color=\"magenta\"> **92** </font> <font color=\"goldenrod\"> * </font> <font color=\"magenta\"> **0.60** </font> <font color=\"dodgerblue\"> **)** </font> <font color=\"goldenrod\"> * </font>  <font color=\"lightseagreen\"> **insurance** </font> <font color=\"blue\"> **)** </font> <font color=\"goldenrod\"> **+** </font> <font color=\"blue\"> **(** </font> <font color=\"dodgerblue\"> **(** </font> <font color=\"deepskyblue\"> **not** </font> <font color=\"lightseagreen\"> **contracter** </font> <font color=\"dodgerblue\"> **)** </font> <font color=\"goldenrod\"> * </font> <font color=\"dodgerblue\"> **(** </font> <font color=\"magenta\"> **92** </font> <font color=\"goldenrod\"> * </font> <font color=\"magenta\"> **0.53** </font> <font color=\"dodgerblue\"> **)** </font> <font color=\"goldenrod\"> * </font>  <font color=\"lightseagreen\"> **insurance** </font> <font color=\"blue\"> **)** </font>\n",
    "    >\n",
    "    >\n",
    "    >\n",
    "6. If a 1099 you are paid <font color=\"magenta\"> **60%** </font> of <font color=\"magenta\"> **150** </font> dollars per '<font color=\"lightseagreen\"> **private** </font>' patient. If you are a W2 you are paid <font color=\"magenta\"> **53%** </font> of <font color=\"magenta\"> **150** </font> dollars per '<font color=\"lightseagreen\"> **private** </font>' patient. So calculate the gross payment if 1099 or W2 for total private patients seen with the following:\n",
    "    >\n",
    "    >\n",
    "    > '<font color=\"darkcyan\"> **private_gross** </font> <font color=\"goldenrod\"> **=** </font> <font color=\"blue\"> **(** </font> <font color=\"lightseagreen\"> **contracter** </font> <font color=\"goldenrod\"> * </font> <font color=\"dodgerblue\"> **(** </font> <font color=\"magenta\"> **150** </font> <font color=\"goldenrod\"> * </font> <font color=\"magenta\"> **0.60** </font> <font color=\"dodgerblue\"> **)** </font> <font color=\"goldenrod\"> * </font>  <font color=\"lightseagreen\"> **private** </font> <font color=\"blue\"> **)** </font> <font color=\"goldenrod\"> **+** </font> <font color=\"blue\"> **(** </font> <font color=\"dodgerblue\"> **(** </font> <font color=\"deepskyblue\"> **not** </font> <font color=\"lightseagreen\"> **contracter** </font> <font color=\"dodgerblue\"> **)** </font> <font color=\"goldenrod\"> * </font> <font color=\"dodgerblue\"> **(** </font> <font color=\"magenta\"> **150** </font> <font color=\"goldenrod\"> * </font> <font color=\"magenta\"> **0.53** </font> <font color=\"dodgerblue\"> **)** </font> <font color=\"goldenrod\"> * </font>  <font color=\"lightseagreen\"> **private** </font> <font color=\"blue\"> **)** </font>\n",
    "    >\n",
    "    >\n",
    "    >\n",
    "7. Have to calculate federal taxes owed separately since its calculated in its own function called '<font color=\"blue\"> **total_tax()** </font>' already created earlier in another lesson and copied and pasted below. This will calculated by adding the '<font color=\"darkcyan\"> **insurance_gross** </font>' and '<font color=\"darkcyan\"> **private_gross** </font>' together into a new variable called '<font color=\"darkcyan\"> **total_gross** </font>'\n",
    ">\n",
    ">\n",
    "> '<font color=\"darkcyan\"> **total_gross** </font> <font color=\"goldenrod\"> **=** </font> <font color=\"darkcyan\"> **insurance_gross** </font> <font color=\"goldenrod\"> **+** </font> <font color=\"darkcyan\"> **private_gross** </font>'\n",
    ">\n",
    ">\n",
    "   \n",
    "8. Then put that total into the <font color=\"blue\"> **total_tax()** </font>' function and store it in a new variable as follows:\n",
    ">\n",
    ">\n",
    "> '<font color=\"darkcyan\"> **fed_tax** </font> <font color=\"goldenrod\"> **=** </font> <font color=\"blue\"> **total_tax(** </font> <font color=\"darkcyan\"> **total_gross** </font> <font color=\"blue\"> **)** </font>'\n",
    ">\n",
    ">\n",
    "9. All together you combine the above amount per patient earned (= '<font color=\"darkcyan\"> **take_home** </font>') and <font color=\"goldenrod\"> **multiply** </font> it by <font color=\"blue\"> **(** </font> <font color=\"magenta\"> **1** </font> <font color=\"goldenrod\"> **-** </font> <font color=\"dodgerblue\"> **(** </font> <font color=\"darkcyan\"> **employment_tax** </font> <font color=\"goldenrod\"> **+** </font> <font color=\"darkcyan\"> **state_tax** </font> <font color=\"goldenrod\"> **+** </font> <font color=\"darkcyan\"> **city_tax** </font> <font color=\"dodgerblue\"> **)** </font> <font color=\"blue\"> **)** </font> and <font color=\"goldenrod\"> **minus** </font> <font color=\"darkcyan\"> **fed_tax** </font>\n",
    "    >\n",
    "    >\n",
    "    > '<font color=\"darkcyan\"> **take_home** </font> <font color=\"goldenrod\"> **=** </font> <font color=\"blue\"> **(** <font color=\"darkcyan\"> **total_gross** </font> <font color=\"goldenrod\"> * </font> <font color=\"dodgerblue\"> **(** </font> <font color=\"magenta\"> **1** </font> <font color=\"goldenrod\"> **-** </font> <font color=\"royalblue\"> **(** </font> <font color=\"darkcyan\"> **employment_tax** </font> <font color=\"goldenrod\"> **+** </font> <font color=\"darkcyan\"> **state_tax** </font> <font color=\"goldenrod\"> **+** </font> <font color=\"darkcyan\"> **city_tax** </font> <font color=\"royalblue\"> **)** </font> <font color=\"dodgerblue\"> **)** </font> <font color=\"blue\"> **)** </font> <font color=\"goldenrod\"> **-** </font> <font color=\"darkcyan\"> **fed_tax** </font>'\n",
    ">\n",
    ">\n",
    "10. You want the result to look like money so want to '<font color=\"blue\"> **round()** </font>' it to the <font color=\"magenta\"> **2nd decimal** </font>. remember must import the math module. So you create a last variable and then that is what you want the custom function to <font color=\"magenta\"> **return** </font>:\n",
    ">\n",
    ">\n",
    "> '<font color=\"darkcyan\"> **rounded_take_home** </font> <font color=\"goldenrod\"> **=** </font> <font color=\"blue\"> **round(** </font> <font color=\"darkcyan\"> **take_home** </font> <font color=\"blue\"> **,** </font> <font color=\"magenta\"> **2** </font> <font color=\"blue\"> **)** </font>'\n",
    ">\n",
    ">"
   ]
  },
  {
   "cell_type": "code",
   "execution_count": 7,
   "id": "87ffa066-7eb9-40ef-bdf0-b5326be092e3",
   "metadata": {},
   "outputs": [],
   "source": [
    "\n",
    "# Copy and paste the 2024 married filing jointly tax income custom function and run it\n",
    "\n",
    "def total_tax(income):\n",
    "    if income <= 23200:\n",
    "        tax = income * 0.1\n",
    "    elif income <= 94300:\n",
    "        tax = (23200 * 0.1) + ( (income - 23200) * 0.12 )\n",
    "    elif income <= 201050:\n",
    "        tax = (23200 * 0.1) + ((94300 - 23200) * 0.12) + ( (income - 94300) * 0.22 )\n",
    "    elif income <= 383900:\n",
    "        tax = (23200 * 0.1) + ((94300 - 23200) * 0.12) + ((201050 - 94300) * 0.22) + ( (income - 201050) * 0.24 )\n",
    "    elif income <= 487450:\n",
    "        tax = (23200 * 0.1) + ((94300 - 23200) * 0.12) + ((201050 - 94300) * 0.22) + ((383900 - 201050) * 0.24) + ( (income - 383900) * 0.32 )\n",
    "    elif income <= 731200:\n",
    "        tax = (23200 * 0.1) + ((94300 - 23200) * 0.12) + ((201050 - 94300) * 0.22) + ((383900 - 201050) * 0.24) + ((487450 - 383900) * 0.32) + ( (income - 487450) * 0.35 )\n",
    "    else:\n",
    "        tax = (23200 * 0.1) + ((94300 - 23200) * 0.12) + ((201050 - 94300) * 0.22) + ((383900 - 201050) * 0.24) + ((487450 - 383900) * 0.32) + ((731200 - 487450) * 0.35) + ( (income - 731200) * 0.37 )\n",
    "    return tax\n"
   ]
  },
  {
   "cell_type": "code",
   "execution_count": 8,
   "id": "69c81596-9670-42fd-bcb6-1299a5ad379e",
   "metadata": {},
   "outputs": [],
   "source": [
    "\n",
    "# import math module first so can round\n",
    "import math\n",
    "\n",
    "# create the function discussed above\n",
    "def job(contracter, insurance, private):\n",
    "\n",
    "    # Employment tax is 15.3% is 1099 and 7.65% if W2\n",
    "    # So doing a not statement to make 15.3% occur if contracter is true and 7.65% occur if contracter is false\n",
    "    employment_tax = (0.153 * contracter) + ((not contracter) * 0.0765)\n",
    "\n",
    "    # State tax only applies if W2 so making it 0 if contracter true by not\n",
    "    state_tax = (not contracter) * 0.0275\n",
    "\n",
    "    # City tax is constant for all\n",
    "    city_tax = 0.025\n",
    "\n",
    "    # Calculate total federal taxes owed must first calculate gross total income\n",
    "    # First calculate gross income from insurance patients where $92 per patient and only gross 60% of that if contracter\n",
    "    # But if W2 then 0.53 percent paid\n",
    "    insurance_gross = (contracter * (92 * 0.6) * insurance) + ((not contracter) * (92 * 0.53) * insurance) \n",
    "\n",
    "    # 2nd calculate gross incrom from private patients where $150 per patient and only gross 60% of that if contracter\n",
    "    # But if W2 then 0.53 percent paid\n",
    "    private_gross = (contracter * (150 * 0.6) * private) + ((not contracter) * (150 * 0.53) * private)\n",
    "\n",
    "    # Add them together to get gross income that will be federally taxed\n",
    "    total_gross = insurance_gross + private_gross\n",
    "    \n",
    "    # Put that income into the other custom function 'total_tax' to get taxes owed\n",
    "    fed_tax = total_tax(total_gross)\n",
    "    \n",
    "    # Calculate total take home from total gross minus fed taxes then total gross take home with 1 - rest of taxes\n",
    "    take_home = (total_gross * (1 - (employment_tax + state_tax + city_tax))) - fed_tax\n",
    "    \n",
    "    # Round the answer to 2 decimal points\n",
    "    rounded_take_home = round(take_home, 2)\n",
    "    \n",
    "    return rounded_take_home\n"
   ]
  },
  {
   "cell_type": "markdown",
   "id": "9172a6d2-595e-4822-90cf-c693d35571f5",
   "metadata": {},
   "source": [
    "Initial attempt failed as apparently you have to put the <font color=\"DeepSkyBlue\"> **not** </font> <font color=\"lightseagreen\"> **contracter** </font> in **( )** "
   ]
  },
  {
   "cell_type": "code",
   "execution_count": 9,
   "id": "f149ef5f-98f3-4907-93ed-3b8ee0a17e4f",
   "metadata": {},
   "outputs": [
    {
     "name": "stdout",
     "output_type": "stream",
     "text": [
      "take home 1099 all private = 91164.0\n",
      "take home 1099 all insurance = 58589.6\n",
      "\n",
      "take home W2 all private = 87525.75\n",
      "\n",
      "take home W2 all private = 55392.14\n",
      "\n"
     ]
    }
   ],
   "source": [
    "\n",
    "# IF see 30 patients a week for 50 weeks total patients seen is\n",
    "total = 30 * 50\n",
    "\n",
    "# Practice as 30 private patients a week for 50 weeks at contracter level should be $91,164 take home, Print, label\n",
    "print( 'take home 1099 all private =', job(True, 0, total) ) \n",
    "\n",
    "\n",
    "# Practice as 30 insurance patients a week for 50 weeks at contracter level should be $58.589.60, Print, label and blank\n",
    "print( 'take home 1099 all insurance =', job(True, total, 0) ) \n",
    "print()\n",
    "\n",
    "# Practice as 30 private patients a week for 50 weeks at W2 level should be $87,525.75 take home, Print, label, and blank\n",
    "print( 'take home W2 all private =', job(False, 0, total) )\n",
    "print()\n",
    "\n",
    "# Practice as 30 insurance patients a week for 50 weeks at W2 level should be $55,392.14 take home, Print, label, and blank\n",
    "print( 'take home W2 all private =', job(False, total, 0) )\n",
    "print()"
   ]
  },
  {
   "cell_type": "code",
   "execution_count": null,
   "id": "104ed868-eb4f-4d0c-af89-1ba2c83984d4",
   "metadata": {},
   "outputs": [],
   "source": []
  }
 ],
 "metadata": {
  "kernelspec": {
   "display_name": "Python 3 (ipykernel)",
   "language": "python",
   "name": "python3"
  },
  "language_info": {
   "codemirror_mode": {
    "name": "ipython",
    "version": 3
   },
   "file_extension": ".py",
   "mimetype": "text/x-python",
   "name": "python",
   "nbconvert_exporter": "python",
   "pygments_lexer": "ipython3",
   "version": "3.11.5"
  }
 },
 "nbformat": 4,
 "nbformat_minor": 5
}
